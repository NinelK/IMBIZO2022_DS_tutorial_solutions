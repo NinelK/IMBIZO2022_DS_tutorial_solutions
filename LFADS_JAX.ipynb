{
  "nbformat": 4,
  "nbformat_minor": 0,
  "metadata": {
    "colab": {
      "name": "LFADS_JAX.ipynb",
      "provenance": [],
      "collapsed_sections": [],
      "authorship_tag": "ABX9TyNvWLilN/JVr/b/cke5ymTd",
      "include_colab_link": true
    },
    "kernelspec": {
      "name": "python3",
      "display_name": "Python 3"
    },
    "language_info": {
      "name": "python"
    },
    "accelerator": "GPU",
    "gpuClass": "standard"
  },
  "cells": [
    {
      "cell_type": "markdown",
      "metadata": {
        "id": "view-in-github",
        "colab_type": "text"
      },
      "source": [
        "<a href=\"https://colab.research.google.com/github/NinelK/SA_DS_tutorial/blob/angles/LFADS_JAX.ipynb\" target=\"_parent\"><img src=\"https://colab.research.google.com/assets/colab-badge.svg\" alt=\"Open In Colab\"/></a>"
      ]
    },
    {
      "cell_type": "code",
      "execution_count": null,
      "metadata": {
        "colab": {
          "base_uri": "https://localhost:8080/"
        },
        "id": "EQWtwVarOAha",
        "outputId": "4a4703b4-20d8-4769-9e18-4ee3c83e4850"
      },
      "outputs": [
        {
          "output_type": "stream",
          "name": "stderr",
          "text": [
            "/usr/local/lib/python3.7/dist-packages/jax/experimental/optimizers.py:30: FutureWarning: jax.experimental.optimizers is deprecated, import jax.example_libraries.optimizers instead\n",
            "  FutureWarning)\n"
          ]
        }
      ],
      "source": [
        "import datetime\n",
        "import h5py\n",
        "import jax.numpy as np\n",
        "from jax import random\n",
        "from jax.experimental import optimizers\n",
        "from jax.config import config\n",
        "#config.update(\"jax_debug_nans\", True) # Useful for finding numerical errors\n",
        "import matplotlib.pyplot as plt\n",
        "import numpy as onp  # original CPU-backed NumPy\n",
        "import scipy.signal\n",
        "import scipy.stats\n",
        "import os\n",
        "import sys\n",
        "import time\n",
        "from importlib import reload"
      ]
    },
    {
      "cell_type": "code",
      "source": [
        "# %%capture\n",
        "# ! pip install \"dandi>=0.13.0\"\n",
        "# ! dandi download DANDI:000140/0.220113.0408 # Small\n",
        "# ! dandi download DANDI:000138/0.220113.0407 # Large\n",
        "! dandi download https://dandiarchive.org/dandiset/000129/draft\n",
        "# ! dandi download https://dandiarchive.org/dandiset/000070/draft\n",
        "# ! pip install git+https://github.com/neurallatents/nlb_tools.git\n",
        "! git clone https://github.com/google-research/computation-thru-dynamics.git # needs Runtime restart?"
      ],
      "metadata": {
        "colab": {
          "base_uri": "https://localhost:8080/"
        },
        "id": "x-YGOft2OzXh",
        "outputId": "50ecbc00-af5e-4974-dde6-88d0632700d0"
      },
      "execution_count": null,
      "outputs": [
        {
          "output_type": "stream",
          "name": "stdout",
          "text": [
            "2022-07-29 19:22:13,672 [    INFO] NumExpr defaulting to 2 threads.\n",
            "PATH                                              SIZE     DONE            DONE% CHECKSUM STATUS          MESSAGE   \n",
            "dandiset.yaml                                                                             done            updated   \n",
            "sub-Indy/sub-Indy_desc-test_ecephys.nwb           1.2 MB   1.2 MB           100%    ok    done                      \n",
            "sub-Indy/sub-Indy_desc-train_behavior+ecephys.nwb 49.8 MB  49.8 MB          100%    ok    done                      \n",
            "Summary:                                          51.0 MB  51.0 MB                        3 done          1 updated \n",
            "                                                           100.00%                                                  \n",
            "2022-07-29 19:22:17,336 [    INFO] Logs saved in /root/.cache/dandi-cli/log/20220729192212Z-6605.log\n",
            "fatal: destination path 'computation-thru-dynamics' already exists and is not an empty directory.\n"
          ]
        }
      ]
    },
    {
      "cell_type": "code",
      "source": [
        "# ! rm -r /content/jax-lfads"
      ],
      "metadata": {
        "id": "sCF0bB102h-B"
      },
      "execution_count": null,
      "outputs": []
    },
    {
      "cell_type": "code",
      "source": [
        "# You must change this to the location of the computation-thru-dynamics directory.\n",
        "HOME_DIR = '/content' \n",
        "\n",
        "sys.path.append(os.path.join(HOME_DIR,'computation-thru-dynamics'))\n",
        "sys.path.append(os.path.join(HOME_DIR,'jax-lfads'))\n",
        "import lfads_tutorial.lfads as lfads\n",
        "import lfads_tutorial.plotting as plotting\n",
        "import lfads_tutorial.utils as utils\n",
        "from lfads_tutorial.optimize import optimize_lfads, get_kl_warmup_fun\n",
        "\n",
        "import matplotlib.pyplot as plt\n",
        "import pandas as pd\n",
        "from nlb_tools.nwb_interface import NWBDataset"
      ],
      "metadata": {
        "id": "6yb32yVUOY9i"
      },
      "execution_count": null,
      "outputs": []
    },
    {
      "cell_type": "code",
      "source": [
        "onp_rng = onp.random.RandomState(seed=0) # For CPU-based numpy randomness"
      ],
      "metadata": {
        "id": "HJfOqmLlQaLO"
      },
      "execution_count": null,
      "outputs": []
    },
    {
      "cell_type": "code",
      "source": [
        "# Make directories\n",
        "lfads_dir = '/content/lfads/'       # where to save lfads data and parameters to\n",
        "output_dir = os.path.join(lfads_dir, 'output/')\n",
        "figure_dir = os.path.join(lfads_dir, os.path.join(output_dir, 'figures/'))\n",
        "if not os.path.exists(lfads_dir):\n",
        "    os.makedirs(output_dir)\n",
        "if not os.path.exists(output_dir):\n",
        "    os.makedirs(output_dir)\n",
        "if not os.path.exists(figure_dir):\n",
        "    os.makedirs(figure_dir)\n",
        "\n",
        "# Load data\n",
        "\n",
        "# for simplicity, we are using NLB tools \n",
        "# dataset = NWBDataset(\"/content/000138/sub-Jenkins\", \"*train\", \n",
        "#                      split_heldout=False)\n",
        "dataset = NWBDataset(\"/content/000129/sub-Indy\", \"*train\", \n",
        "                     split_heldout=False)\n",
        "\n",
        "bin = 10 # [ms]\n",
        "dataset.resample(bin)\n",
        "\n",
        "# to view the dataset, uncomment the next line\n",
        "# dataset.data"
      ],
      "metadata": {
        "id": "786mj14UkZng"
      },
      "execution_count": null,
      "outputs": []
    },
    {
      "cell_type": "code",
      "source": [
        "input_key = 'spikes'\n",
        "# output_key = 'hand_vel'\n",
        "output_key = 'cursor_pos'\n",
        "\n",
        "# Extract neural data and lagged hand velocity\n",
        "trial_length = 600//bin\n",
        "trial_data = dataset.make_trial_data(align_field='start_time', #'move_onset_time' \n",
        "                                     align_range=(0, 0+bin*trial_length))\n",
        "\n",
        "print(trial_data['trial_id'].to_numpy().reshape((-1,trial_length)))\n",
        "inputs = trial_data[input_key].to_numpy() \n",
        "outputs = trial_data[output_key].to_numpy()\n",
        "\n",
        "input_size = inputs.shape[-1]\n",
        "output_size = outputs.shape[-1]\n",
        "\n",
        "print(input_size,output_size)\n",
        "\n",
        "inputs = inputs.reshape((-1,trial_length,input_size)) # [trials x time x inputs]\n",
        "outputs = outputs.reshape((-1,trial_length,output_size)) # [trials x time x outputs]\n",
        " \n",
        "data_bxtxn = inputs[shuffle]\n",
        "data_bxtxn.shape"
      ],
      "metadata": {
        "colab": {
          "base_uri": "https://localhost:8080/"
        },
        "id": "aCF02Srbm4ne",
        "outputId": "82af8b31-cd19-4e8d-e21b-9d240c0805e7"
      },
      "execution_count": null,
      "outputs": [
        {
          "output_type": "stream",
          "name": "stdout",
          "text": [
            "[[   0    0    0 ...    0    0    0]\n",
            " [   1    1    1 ...    1    1    1]\n",
            " [   2    2    2 ...    2    2    2]\n",
            " ...\n",
            " [1077 1077 1077 ... 1077 1077 1077]\n",
            " [1078 1078 1078 ... 1078 1078 1078]\n",
            " [1079 1079 1079 ... 1079 1079 1079]]\n",
            "130 2\n"
          ]
        },
        {
          "output_type": "execute_result",
          "data": {
            "text/plain": [
              "(1080, 60, 130)"
            ]
          },
          "metadata": {},
          "execution_count": 212
        }
      ]
    },
    {
      "cell_type": "code",
      "source": [
        "n = 3\n",
        "plt.figure(figsize=(3,3))\n",
        "target_pos = trial_data['target_pos'].to_numpy()[::trial_length]\n",
        "angles = onp.arctan((target_pos[:,1]-60)/(target_pos[:,0])) + onp.pi*(onp.sign(target_pos[n,0])-1)/2\n",
        "plt.scatter(*target_pos.T)\n",
        "plt.scatter(*target_pos[n])\n",
        "plt.plot([0,60*onp.cos(angles[n])],\n",
        "         [60,60+60*onp.sin(angles[n])],c='k')"
      ],
      "metadata": {
        "colab": {
          "base_uri": "https://localhost:8080/",
          "height": 229
        },
        "id": "aIYtk4TwldsQ",
        "outputId": "9642caad-a96e-4590-a8f7-2e4961f40b59"
      },
      "execution_count": null,
      "outputs": [
        {
          "output_type": "execute_result",
          "data": {
            "text/plain": [
              "[<matplotlib.lines.Line2D at 0x7faf31b40f50>]"
            ]
          },
          "metadata": {},
          "execution_count": 213
        },
        {
          "output_type": "display_data",
          "data": {
            "text/plain": [
              "<Figure size 216x216 with 1 Axes>"
            ],
            "image/png": "[encoded data removed]"
          },
          "metadata": {
            "needs_background": "light"
          }
        }
      ]
    },
    {
      "cell_type": "code",
      "source": [
        "n=13\n",
        "plt.plot(outputs[n,:,:])\n",
        "plt.scatter([50,50],[target_pos[n,0],target_pos[n,1]])"
      ],
      "metadata": {
        "colab": {
          "base_uri": "https://localhost:8080/",
          "height": 283
        },
        "id": "bAwHcZIJknPY",
        "outputId": "aa67cd23-8927-4439-d711-494572150411"
      },
      "execution_count": null,
      "outputs": [
        {
          "output_type": "execute_result",
          "data": {
            "text/plain": [
              "<matplotlib.collections.PathCollection at 0x7faf2fb97150>"
            ]
          },
          "metadata": {},
          "execution_count": 230
        },
        {
          "output_type": "display_data",
          "data": {
            "text/plain": [
              "<Figure size 432x288 with 1 Axes>"
            ],
            "image/png": "[encoded data removed]"
          },
          "metadata": {
            "needs_background": "light"
          }
        }
      ]
    },
    {
      "cell_type": "code",
      "source": [
        "success = onp.linalg.norm(outputs[:,50]-target_pos[:],axis=-1)<10"
      ],
      "metadata": {
        "colab": {
          "base_uri": "https://localhost:8080/"
        },
        "id": "yMapWLsOm6oB",
        "outputId": "8299158a-d9c7-45ac-f2bc-67435de916af"
      },
      "execution_count": null,
      "outputs": [
        {
          "output_type": "execute_result",
          "data": {
            "text/plain": [
              "DeviceArray(0.74444443, dtype=float32)"
            ]
          },
          "metadata": {},
          "execution_count": 237
        }
      ]
    },
    {
      "cell_type": "code",
      "source": [
        "data_dt = 10.0        # define our dt in a physiological range [ms]\n",
        "\n",
        "train_fraction = 0.9      # Train with 90% of the synthetic data\n",
        "\n",
        "nexamples, ntimesteps, data_dim = data_bxtxn[success].shape\n",
        "\n",
        "angles_b = angles[success]\n",
        "\n",
        "assert len(angles_b) == nexamples\n",
        "\n",
        "train_data, eval_data = utils.split_data(data_bxtxn,\n",
        "                                         train_fraction=train_fraction)\n",
        "eval_data_offset = int(train_fraction * data_bxtxn.shape[0])"
      ],
      "metadata": {
        "id": "lBEJMxBylGo5"
      },
      "execution_count": null,
      "outputs": []
    },
    {
      "cell_type": "code",
      "source": [
        "import sklearn\n",
        "ncomponents = 100\n",
        "full_pca = sklearn.decomposition.PCA(ncomponents)\n",
        "full_pca.fit(onp.reshape(data_bxtxn, [-1, data_dim]))"
      ],
      "metadata": {
        "colab": {
          "base_uri": "https://localhost:8080/"
        },
        "id": "g6yCeoZtnFti",
        "outputId": "669ecb32-5504-43fb-8923-cf4b1f10b1a6"
      },
      "execution_count": null,
      "outputs": [
        {
          "output_type": "execute_result",
          "data": {
            "text/plain": [
              "PCA(n_components=100)"
            ]
          },
          "metadata": {},
          "execution_count": 239
        }
      ]
    },
    {
      "cell_type": "code",
      "source": [
        "plt.stem(full_pca.explained_variance_)\n",
        "plt.title('Classic exponential spectrum');"
      ],
      "metadata": {
        "colab": {
          "base_uri": "https://localhost:8080/",
          "height": 337
        },
        "id": "zIokKxsNnzCZ",
        "outputId": "4241f3e3-7f9d-408f-93b0-b5e2d7c19ffc"
      },
      "execution_count": null,
      "outputs": [
        {
          "output_type": "stream",
          "name": "stderr",
          "text": [
            "/usr/local/lib/python3.7/dist-packages/ipykernel_launcher.py:1: UserWarning: In Matplotlib 3.3 individual lines on a stem plot will be added as a LineCollection instead of individual lines. This significantly improves the performance of a stem plot. To remove this warning and switch to the new behaviour, set the \"use_line_collection\" keyword argument to True.\n",
            "  \"\"\"Entry point for launching an IPython kernel.\n"
          ]
        },
        {
          "output_type": "display_data",
          "data": {
            "text/plain": [
              "<Figure size 432x288 with 1 Axes>"
            ],
            "image/png": "[encoded data removed]"
          },
          "metadata": {
            "needs_background": "light"
          }
        }
      ]
    },
    {
      "cell_type": "code",
      "source": [
        "# LFADS Hyper parameters\n",
        "data_dim = train_data.shape[2]  # input to lfads should have dimensions:\n",
        "ntimesteps = train_data.shape[1] #   (batch_size x ntimesteps x data_dim)\n",
        "batch_size = 100      # batch size during optimization\n",
        "\n",
        "# LFADS architecture - The size of the numbers is rather arbitrary, \n",
        "# but relatively small because we know the integrator RNN isn't too high \n",
        "# dimensional in its activity.\n",
        "enc_dim = 64         # encoder dim\n",
        "con_dim = 0          # controller dim\n",
        "ii_dim = 0           # inferred input dim\n",
        "gen_dim = 64         # generator dim, should be large enough to generate integrator RNN dynamics\n",
        "factors_dim = 8      # factors dim, should be large enough to capture most variance of dynamics\n",
        "\n",
        "# Numerical stability\n",
        "var_min = 0.001 # Minimal variance any gaussian can become.\n",
        "\n",
        "# Optimization HPs that percolates into model\n",
        "l2reg = 0.00002\n",
        "\n",
        "# Initial state prior parameters\n",
        "# the mean is set to zero in the code\n",
        "ic_prior_var = 0.1 # this is $\\sigma^2_p$ in above paragraph\n",
        "\n",
        "# Inferred input autoregressive prior parameters\n",
        "ar_mean = 0.0                 # process mean\n",
        "ar_autocorrelation_tau = 1.0  # seconds, how correlated each time point is, related to $\\phi$ above.\n",
        "ar_noise_variance = 0.1       # noise variance\n",
        "\n",
        "lfads_hps = {'data_dim' : data_dim, 'ntimesteps' : ntimesteps,\n",
        "             'enc_dim' : enc_dim, 'con_dim' : con_dim, 'var_min' : var_min,\n",
        "             'ic_prior_var' : ic_prior_var, 'ar_mean' : ar_mean,\n",
        "             'ar_autocorrelation_tau' : ar_autocorrelation_tau,\n",
        "             'ar_noise_variance' : ar_noise_variance,\n",
        "             'ii_dim' : ii_dim, 'gen_dim' : gen_dim,\n",
        "             'factors_dim' : factors_dim,\n",
        "             'l2reg' : l2reg,\n",
        "             'batch_size' : batch_size}\n",
        "\n",
        "num_batches = 20000         # how many batches do we train\n",
        "print_every = 100            # give information every so often\n",
        "\n",
        "# Learning rate HPs\n",
        "step_size = 0.01            # initial learning rate\n",
        "decay_factor = 0.9998       # learning rate decay param\n",
        "decay_steps = 1             # learning rate decay param\n",
        "\n",
        "# Regularization HPs\n",
        "keep_rate = 0.95             # dropout keep rate during training\n",
        "\n",
        "# Numerical stability HPs\n",
        "max_grad_norm = 10.0        # gradient clipping above this value\n",
        "\n",
        "# The fact that the start and end values are required to be floats is something I need to fix.\n",
        "kl_warmup_start = 0.0 # batch number to start KL warm-up, explicitly float\n",
        "kl_warmup_end = 5000.0  # batch number to be finished with KL warm-up, explicitly float\n",
        "kl_min = 0.001 # The minimum KL value, non-zero to make sure KL doesn't grow crazy before kicking in.\n",
        "kl_max = 1.\n",
        "\n",
        "lfads_opt_hps = {'num_batches' : num_batches, 'step_size' : step_size,\n",
        "                 'decay_steps' : decay_steps, 'decay_factor' : decay_factor,\n",
        "                 'kl_min' : kl_min, 'kl_max' : kl_max, 'kl_warmup_start' : kl_warmup_start,\n",
        "                 'kl_warmup_end' : kl_warmup_end, 'keep_rate' : keep_rate,\n",
        "                 'max_grad_norm' : max_grad_norm, 'print_every' : print_every,\n",
        "                 'adam_b1' : 0.9, 'adam_b2' : 0.999, 'adam_eps' : 1e-8}\n",
        "\n",
        "class hashabledict(dict):\n",
        "    def __hash__(self):\n",
        "        return hash(tuple(sorted(self.items())))\n",
        "\n",
        "lfads_hps = hashabledict(lfads_hps)\n",
        "lfads_opt_hps = hashabledict(lfads_opt_hps)\n",
        "\n",
        "assert num_batches >= print_every and num_batches % print_every == 0"
      ],
      "metadata": {
        "id": "nPH3GH-Dnkmd"
      },
      "execution_count": null,
      "outputs": []
    },
    {
      "cell_type": "code",
      "source": [
        "from lfads_tutorial.lfads import sigmoid\n",
        "\n",
        "def vanilla_rnn_params(key, n, u, ifactor=1.0, hfactor=1.0, hscale=0.0):\n",
        "  \"\"\"Generate Vanilla RNN parameters\n",
        "\n",
        "  Arguments:\n",
        "    key: random.PRNGKey for random bits\n",
        "    n: hidden state size\n",
        "    u: input size\n",
        "    ifactor: scaling factor for input weights\n",
        "    hfactor: scaling factor for hidden -> hidden weights\n",
        "    hscale: scale on h0 initial condition\n",
        "\n",
        "  Returns:\n",
        "    a dictionary of parameters\n",
        "  \"\"\"\n",
        "  key, skeys = utils.keygen(key, 5)\n",
        "  ifactor = ifactor / np.sqrt(u)\n",
        "  hfactor = hfactor / np.sqrt(n)\n",
        "\n",
        "  wRUH = random.normal(next(skeys), (n+n,n)) * hfactor\n",
        "  wRUX = random.normal(next(skeys), (n+n,u)) * ifactor\n",
        "  wRUHX = np.concatenate([wRUH, wRUX], axis=1)\n",
        "\n",
        "  return {'h0' : random.normal(next(skeys), (n,)) * hscale,\n",
        "          'wRUHX' : wRUHX,\n",
        "          'bRU' : np.zeros((n+n,))}\n",
        "\n",
        "\n",
        "def vanilla_rnn(params, h, x):\n",
        "  \"\"\"Implement the Vanilla RNN equations.\n",
        "\n",
        "  Arguments:\n",
        "    params: dictionary of RNN parameters\n",
        "    h: np array of hidden state\n",
        "    x: np array of input\n",
        "\n",
        "  Returns:\n",
        "    np array of hidden state after RNN update\"\"\"\n",
        "  bfg = 0.5\n",
        "  hx = np.concatenate([h, x], axis=0)\n",
        "  ru = np.dot(params['wRUHX'], hx) + params['bRU']\n",
        "  r, u = np.split(ru, 2, axis=0)\n",
        "  u = u + bfg\n",
        "  r = sigmoid(r)\n",
        "  u = sigmoid(u)\n",
        "  rhx = np.concatenate([r * h, x])\n",
        "  c = np.tanh(np.dot(params['wCHX'], rhx) + params['bC'])\n",
        "  return u * h + (1.0 - u) * c\n",
        "\n"
      ],
      "metadata": {
        "id": "ZYAnnEDkpBl3"
      },
      "execution_count": null,
      "outputs": []
    },
    {
      "cell_type": "code",
      "source": [
        "# Initialize parameters for LFADS\n",
        "key = random.PRNGKey(onp.random.randint(0, utils.MAX_SEED_INT))\n",
        "init_params = lfads.lfads_params(key, lfads_hps)\n",
        "#, \\\n",
        " #                                gen_rnn_params=gru_params)"
      ],
      "metadata": {
        "id": "hqWX6Kl4oGCq"
      },
      "execution_count": null,
      "outputs": []
    },
    {
      "cell_type": "code",
      "source": [
        "key = random.PRNGKey(onp.random.randint(0, utils.MAX_SEED_INT))\n",
        "trained_params, opt_details = \\\n",
        "    optimize_lfads(key, init_params, lfads_hps, lfads_opt_hps,\\\n",
        "                   train_data, eval_data) #, gen=gru)"
      ],
      "metadata": {
        "colab": {
          "base_uri": "https://localhost:8080/"
        },
        "id": "2ruJdYukooPT",
        "outputId": "90c94c56-d245-49fd-e8a4-b4110c8f8175"
      },
      "execution_count": null,
      "outputs": [
        {
          "output_type": "stream",
          "name": "stdout",
          "text": [
            "Batches 1-100 in 19.94 sec, Step size: 0.00980\n",
            "    Training losses 1182 = NLL 1182 + KL IC 16,0 + KL II 0,0 + L2 0.06\n",
            "        Eval losses 1216 = NLL 1216 + KL IC 15,0 + KL II 0,0 + L2 0.06\n",
            "Batches 101-200 in 2.87 sec, Step size: 0.00961\n",
            "    Training losses 1230 = NLL 1229 + KL IC 17,0 + KL II 0,0 + L2 0.10\n",
            "        Eval losses 1281 = NLL 1281 + KL IC 15,0 + KL II 0,0 + L2 0.10\n",
            "Batches 201-300 in 2.87 sec, Step size: 0.00942\n",
            "    Training losses 1229 = NLL 1228 + KL IC 15,1 + KL II 0,0 + L2 0.13\n",
            "        Eval losses 1296 = NLL 1295 + KL IC 15,1 + KL II 0,0 + L2 0.13\n",
            "Batches 301-400 in 2.86 sec, Step size: 0.00923\n",
            "    Training losses 1266 = NLL 1265 + KL IC 14,1 + KL II 0,0 + L2 0.16\n",
            "        Eval losses 1365 = NLL 1364 + KL IC 12,1 + KL II 0,0 + L2 0.16\n",
            "Batches 401-500 in 2.87 sec, Step size: 0.00905\n",
            "    Training losses 1263 = NLL 1261 + KL IC 14,1 + KL II 0,0 + L2 0.17\n",
            "        Eval losses 1330 = NLL 1329 + KL IC 12,1 + KL II 0,0 + L2 0.17\n",
            "Batches 501-600 in 2.86 sec, Step size: 0.00887\n",
            "    Training losses 1235 = NLL 1234 + KL IC 12,1 + KL II 0,0 + L2 0.18\n",
            "        Eval losses 1322 = NLL 1321 + KL IC 11,1 + KL II 0,0 + L2 0.18\n",
            "Batches 601-700 in 2.87 sec, Step size: 0.00869\n",
            "    Training losses 1210 = NLL 1209 + KL IC 11,1 + KL II 0,0 + L2 0.19\n",
            "        Eval losses 1257 = NLL 1255 + KL IC 10,1 + KL II 0,0 + L2 0.19\n",
            "Batches 701-800 in 2.87 sec, Step size: 0.00852\n",
            "    Training losses 1177 = NLL 1176 + KL IC 9,1 + KL II 0,0 + L2 0.19\n",
            "        Eval losses 1327 = NLL 1325 + KL IC 9,1 + KL II 0,0 + L2 0.19\n",
            "Batches 801-900 in 2.87 sec, Step size: 0.00835\n",
            "    Training losses 1205 = NLL 1204 + KL IC 9,1 + KL II 0,0 + L2 0.20\n",
            "        Eval losses 1325 = NLL 1323 + KL IC 8,1 + KL II 0,0 + L2 0.20\n",
            "Batches 901-1000 in 2.86 sec, Step size: 0.00819\n",
            "    Training losses 1172 = NLL 1171 + KL IC 7,1 + KL II 0,0 + L2 0.20\n",
            "        Eval losses 1296 = NLL 1295 + KL IC 7,1 + KL II 0,0 + L2 0.20\n",
            "Batches 1001-1100 in 2.87 sec, Step size: 0.00803\n",
            "    Training losses 1196 = NLL 1194 + KL IC 7,1 + KL II 0,0 + L2 0.21\n",
            "        Eval losses 1313 = NLL 1311 + KL IC 7,1 + KL II 0,0 + L2 0.21\n",
            "Batches 1101-1200 in 2.87 sec, Step size: 0.00787\n",
            "    Training losses 1152 = NLL 1151 + KL IC 6,1 + KL II 0,0 + L2 0.21\n",
            "        Eval losses 1267 = NLL 1266 + KL IC 6,1 + KL II 0,0 + L2 0.21\n",
            "Batches 1201-1300 in 2.88 sec, Step size: 0.00771\n",
            "    Training losses 1217 = NLL 1216 + KL IC 6,1 + KL II 0,0 + L2 0.22\n",
            "        Eval losses 1278 = NLL 1277 + KL IC 5,1 + KL II 0,0 + L2 0.22\n",
            "Batches 1301-1400 in 3.74 sec, Step size: 0.00756\n",
            "    Training losses 1178 = NLL 1176 + KL IC 5,1 + KL II 0,0 + L2 0.22\n",
            "        Eval losses 1312 = NLL 1311 + KL IC 4,1 + KL II 0,0 + L2 0.22\n",
            "Batches 1401-1500 in 2.87 sec, Step size: 0.00741\n",
            "    Training losses 1193 = NLL 1191 + KL IC 5,1 + KL II 0,0 + L2 0.22\n",
            "        Eval losses 1203 = NLL 1202 + KL IC 4,1 + KL II 0,0 + L2 0.22\n",
            "Batches 1501-1600 in 2.87 sec, Step size: 0.00726\n",
            "    Training losses 1232 = NLL 1230 + KL IC 5,1 + KL II 0,0 + L2 0.22\n",
            "        Eval losses 1261 = NLL 1259 + KL IC 4,1 + KL II 0,0 + L2 0.22\n",
            "Batches 1601-1700 in 2.87 sec, Step size: 0.00712\n",
            "    Training losses 1197 = NLL 1196 + KL IC 4,1 + KL II 0,0 + L2 0.22\n",
            "        Eval losses 1267 = NLL 1266 + KL IC 4,1 + KL II 0,0 + L2 0.22\n",
            "Batches 1701-1800 in 2.87 sec, Step size: 0.00698\n",
            "    Training losses 1147 = NLL 1145 + KL IC 4,1 + KL II 0,0 + L2 0.23\n",
            "        Eval losses 1280 = NLL 1278 + KL IC 5,2 + KL II 0,0 + L2 0.23\n",
            "Batches 1801-1900 in 2.87 sec, Step size: 0.00684\n",
            "    Training losses 1171 = NLL 1170 + KL IC 4,2 + KL II 0,0 + L2 0.23\n",
            "        Eval losses 1259 = NLL 1257 + KL IC 4,1 + KL II 0,0 + L2 0.23\n",
            "Batches 1901-2000 in 2.86 sec, Step size: 0.00670\n",
            "    Training losses 1181 = NLL 1180 + KL IC 4,1 + KL II 0,0 + L2 0.23\n",
            "        Eval losses 1232 = NLL 1231 + KL IC 4,1 + KL II 0,0 + L2 0.23\n",
            "Batches 2001-2100 in 2.87 sec, Step size: 0.00657\n",
            "    Training losses 1209 = NLL 1208 + KL IC 4,2 + KL II 0,0 + L2 0.23\n",
            "        Eval losses 1306 = NLL 1305 + KL IC 4,1 + KL II 0,0 + L2 0.23\n",
            "Batches 2101-2200 in 2.88 sec, Step size: 0.00644\n",
            "    Training losses 1195 = NLL 1193 + KL IC 3,1 + KL II 0,0 + L2 0.23\n",
            "        Eval losses 1289 = NLL 1288 + KL IC 3,1 + KL II 0,0 + L2 0.23\n",
            "Batches 2201-2300 in 2.88 sec, Step size: 0.00631\n",
            "    Training losses 1224 = NLL 1222 + KL IC 4,2 + KL II 0,0 + L2 0.24\n",
            "        Eval losses 1254 = NLL 1252 + KL IC 3,1 + KL II 0,0 + L2 0.24\n",
            "Batches 2301-2400 in 2.87 sec, Step size: 0.00619\n",
            "    Training losses 1139 = NLL 1137 + KL IC 4,2 + KL II 0,0 + L2 0.24\n",
            "        Eval losses 1275 = NLL 1273 + KL IC 4,2 + KL II 0,0 + L2 0.24\n",
            "Batches 2401-2500 in 2.97 sec, Step size: 0.00607\n",
            "    Training losses 1166 = NLL 1165 + KL IC 3,2 + KL II 0,0 + L2 0.24\n",
            "        Eval losses 1306 = NLL 1304 + KL IC 3,2 + KL II 0,0 + L2 0.24\n",
            "Batches 2501-2600 in 2.99 sec, Step size: 0.00594\n",
            "    Training losses 1183 = NLL 1181 + KL IC 3,2 + KL II 0,0 + L2 0.24\n",
            "        Eval losses 1270 = NLL 1268 + KL IC 3,2 + KL II 0,0 + L2 0.24\n",
            "Batches 2601-2700 in 2.87 sec, Step size: 0.00583\n",
            "    Training losses 1157 = NLL 1155 + KL IC 3,2 + KL II 0,0 + L2 0.24\n",
            "        Eval losses 1249 = NLL 1247 + KL IC 3,2 + KL II 0,0 + L2 0.24\n",
            "Batches 2701-2800 in 2.87 sec, Step size: 0.00571\n",
            "    Training losses 1197 = NLL 1195 + KL IC 3,2 + KL II 0,0 + L2 0.25\n",
            "        Eval losses 1261 = NLL 1260 + KL IC 3,2 + KL II 0,0 + L2 0.25\n",
            "Batches 2801-2900 in 2.87 sec, Step size: 0.00560\n",
            "    Training losses 1182 = NLL 1180 + KL IC 3,2 + KL II 0,0 + L2 0.25\n",
            "        Eval losses 1279 = NLL 1277 + KL IC 4,2 + KL II 0,0 + L2 0.25\n",
            "Batches 2901-3000 in 2.87 sec, Step size: 0.00549\n",
            "    Training losses 1184 = NLL 1182 + KL IC 3,2 + KL II 0,0 + L2 0.25\n",
            "        Eval losses 1296 = NLL 1294 + KL IC 3,2 + KL II 0,0 + L2 0.25\n",
            "Batches 3001-3100 in 2.87 sec, Step size: 0.00538\n",
            "    Training losses 1139 = NLL 1137 + KL IC 3,2 + KL II 0,0 + L2 0.25\n",
            "        Eval losses 1265 = NLL 1263 + KL IC 2,1 + KL II 0,0 + L2 0.25\n",
            "Batches 3101-3200 in 2.87 sec, Step size: 0.00527\n",
            "    Training losses 1182 = NLL 1180 + KL IC 3,2 + KL II 0,0 + L2 0.25\n",
            "        Eval losses 1296 = NLL 1295 + KL IC 2,1 + KL II 0,0 + L2 0.25\n",
            "Batches 3201-3300 in 2.87 sec, Step size: 0.00517\n",
            "    Training losses 1186 = NLL 1184 + KL IC 2,2 + KL II 0,0 + L2 0.25\n",
            "        Eval losses 1278 = NLL 1276 + KL IC 3,2 + KL II 0,0 + L2 0.25\n",
            "Batches 3301-3400 in 2.86 sec, Step size: 0.00507\n",
            "    Training losses 1166 = NLL 1164 + KL IC 3,2 + KL II 0,0 + L2 0.25\n",
            "        Eval losses 1276 = NLL 1275 + KL IC 2,2 + KL II 0,0 + L2 0.25\n",
            "Batches 3401-3500 in 2.87 sec, Step size: 0.00497\n",
            "    Training losses 1198 = NLL 1195 + KL IC 3,2 + KL II 0,0 + L2 0.26\n",
            "        Eval losses 1259 = NLL 1257 + KL IC 2,2 + KL II 0,0 + L2 0.26\n",
            "Batches 3501-3600 in 2.87 sec, Step size: 0.00487\n",
            "    Training losses 1216 = NLL 1213 + KL IC 3,2 + KL II 0,0 + L2 0.26\n",
            "        Eval losses 1279 = NLL 1277 + KL IC 3,2 + KL II 0,0 + L2 0.26\n",
            "Batches 3601-3700 in 2.86 sec, Step size: 0.00477\n",
            "    Training losses 1199 = NLL 1197 + KL IC 2,2 + KL II 0,0 + L2 0.26\n",
            "        Eval losses 1273 = NLL 1272 + KL IC 2,2 + KL II 0,0 + L2 0.26\n",
            "Batches 3701-3800 in 2.86 sec, Step size: 0.00468\n",
            "    Training losses 1184 = NLL 1182 + KL IC 3,2 + KL II 0,0 + L2 0.26\n",
            "        Eval losses 1283 = NLL 1280 + KL IC 3,2 + KL II 0,0 + L2 0.26\n",
            "Batches 3801-3900 in 2.87 sec, Step size: 0.00458\n",
            "    Training losses 1161 = NLL 1159 + KL IC 3,2 + KL II 0,0 + L2 0.26\n",
            "        Eval losses 1289 = NLL 1287 + KL IC 2,2 + KL II 0,0 + L2 0.26\n",
            "Batches 3901-4000 in 2.87 sec, Step size: 0.00449\n",
            "    Training losses 1194 = NLL 1191 + KL IC 3,2 + KL II 0,0 + L2 0.27\n",
            "        Eval losses 1306 = NLL 1303 + KL IC 3,2 + KL II 0,0 + L2 0.27\n",
            "Batches 4001-4100 in 2.86 sec, Step size: 0.00440\n",
            "    Training losses 1188 = NLL 1185 + KL IC 3,3 + KL II 0,0 + L2 0.27\n",
            "        Eval losses 1316 = NLL 1313 + KL IC 3,2 + KL II 0,0 + L2 0.27\n",
            "Batches 4101-4200 in 2.87 sec, Step size: 0.00432\n",
            "    Training losses 1161 = NLL 1159 + KL IC 3,2 + KL II 0,0 + L2 0.27\n",
            "        Eval losses 1271 = NLL 1269 + KL IC 3,2 + KL II 0,0 + L2 0.27\n",
            "Batches 4201-4300 in 3.03 sec, Step size: 0.00423\n",
            "    Training losses 1158 = NLL 1155 + KL IC 3,2 + KL II 0,0 + L2 0.27\n",
            "        Eval losses 1289 = NLL 1287 + KL IC 3,2 + KL II 0,0 + L2 0.27\n",
            "Batches 4301-4400 in 2.87 sec, Step size: 0.00415\n",
            "    Training losses 1222 = NLL 1219 + KL IC 3,2 + KL II 0,0 + L2 0.27\n",
            "        Eval losses 1283 = NLL 1280 + KL IC 3,2 + KL II 0,0 + L2 0.27\n",
            "Batches 4401-4500 in 2.86 sec, Step size: 0.00407\n",
            "    Training losses 1166 = NLL 1164 + KL IC 2,2 + KL II 0,0 + L2 0.27\n",
            "        Eval losses 1267 = NLL 1265 + KL IC 2,2 + KL II 0,0 + L2 0.27\n",
            "Batches 4501-4600 in 2.86 sec, Step size: 0.00398\n",
            "    Training losses 1140 = NLL 1137 + KL IC 3,2 + KL II 0,0 + L2 0.27\n",
            "        Eval losses 1255 = NLL 1252 + KL IC 2,2 + KL II 0,0 + L2 0.27\n",
            "Batches 4601-4700 in 2.87 sec, Step size: 0.00391\n",
            "    Training losses 1202 = NLL 1200 + KL IC 2,2 + KL II 0,0 + L2 0.27\n",
            "        Eval losses 1270 = NLL 1268 + KL IC 2,2 + KL II 0,0 + L2 0.27\n",
            "Batches 4701-4800 in 2.87 sec, Step size: 0.00383\n",
            "    Training losses 1173 = NLL 1170 + KL IC 2,2 + KL II 0,0 + L2 0.28\n",
            "        Eval losses 1247 = NLL 1245 + KL IC 2,2 + KL II 0,0 + L2 0.28\n",
            "Batches 4801-4900 in 2.87 sec, Step size: 0.00375\n",
            "    Training losses 1187 = NLL 1185 + KL IC 2,2 + KL II 0,0 + L2 0.28\n",
            "        Eval losses 1235 = NLL 1232 + KL IC 2,2 + KL II 0,0 + L2 0.28\n",
            "Batches 4901-5000 in 2.87 sec, Step size: 0.00368\n",
            "    Training losses 1148 = NLL 1146 + KL IC 2,2 + KL II 0,0 + L2 0.28\n",
            "        Eval losses 1329 = NLL 1327 + KL IC 2,2 + KL II 0,0 + L2 0.28\n",
            "Batches 5001-5100 in 2.87 sec, Step size: 0.00361\n",
            "    Training losses 1202 = NLL 1199 + KL IC 2,2 + KL II 0,0 + L2 0.28\n",
            "        Eval losses 1278 = NLL 1275 + KL IC 2,2 + KL II 0,0 + L2 0.28\n",
            "Batches 5101-5200 in 2.87 sec, Step size: 0.00353\n",
            "    Training losses 1144 = NLL 1141 + KL IC 2,2 + KL II 0,0 + L2 0.28\n",
            "        Eval losses 1262 = NLL 1259 + KL IC 2,2 + KL II 0,0 + L2 0.28\n",
            "Batches 5201-5300 in 2.87 sec, Step size: 0.00346\n",
            "    Training losses 1148 = NLL 1145 + KL IC 2,2 + KL II 0,0 + L2 0.28\n",
            "        Eval losses 1280 = NLL 1278 + KL IC 2,2 + KL II 0,0 + L2 0.28\n",
            "Batches 5301-5400 in 2.86 sec, Step size: 0.00340\n",
            "    Training losses 1172 = NLL 1170 + KL IC 2,2 + KL II 0,0 + L2 0.28\n",
            "        Eval losses 1277 = NLL 1274 + KL IC 2,2 + KL II 0,0 + L2 0.28\n",
            "Batches 5401-5500 in 2.87 sec, Step size: 0.00333\n",
            "    Training losses 1183 = NLL 1181 + KL IC 2,2 + KL II 0,0 + L2 0.28\n",
            "        Eval losses 1282 = NLL 1280 + KL IC 2,2 + KL II 0,0 + L2 0.28\n",
            "Batches 5501-5600 in 2.87 sec, Step size: 0.00326\n",
            "    Training losses 1186 = NLL 1184 + KL IC 2,2 + KL II 0,0 + L2 0.28\n",
            "        Eval losses 1218 = NLL 1216 + KL IC 2,2 + KL II 0,0 + L2 0.28\n",
            "Batches 5601-5700 in 2.88 sec, Step size: 0.00320\n",
            "    Training losses 1202 = NLL 1199 + KL IC 2,2 + KL II 0,0 + L2 0.29\n",
            "        Eval losses 1332 = NLL 1330 + KL IC 2,2 + KL II 0,0 + L2 0.29\n",
            "Batches 5701-5800 in 2.87 sec, Step size: 0.00313\n",
            "    Training losses 1178 = NLL 1175 + KL IC 2,2 + KL II 0,0 + L2 0.29\n",
            "        Eval losses 1302 = NLL 1299 + KL IC 2,2 + KL II 0,0 + L2 0.29\n",
            "Batches 5801-5900 in 2.87 sec, Step size: 0.00307\n",
            "    Training losses 1197 = NLL 1195 + KL IC 2,2 + KL II 0,0 + L2 0.29\n",
            "        Eval losses 1266 = NLL 1263 + KL IC 2,2 + KL II 0,0 + L2 0.29\n",
            "Batches 5901-6000 in 2.87 sec, Step size: 0.00301\n",
            "    Training losses 1169 = NLL 1166 + KL IC 2,2 + KL II 0,0 + L2 0.29\n",
            "        Eval losses 1297 = NLL 1294 + KL IC 2,2 + KL II 0,0 + L2 0.29\n",
            "Batches 6001-6100 in 2.87 sec, Step size: 0.00295\n",
            "    Training losses 1144 = NLL 1141 + KL IC 2,2 + KL II 0,0 + L2 0.29\n",
            "        Eval losses 1310 = NLL 1307 + KL IC 2,2 + KL II 0,0 + L2 0.29\n",
            "Batches 6101-6200 in 2.86 sec, Step size: 0.00289\n",
            "    Training losses 1189 = NLL 1186 + KL IC 2,2 + KL II 0,0 + L2 0.29\n",
            "        Eval losses 1262 = NLL 1259 + KL IC 3,3 + KL II 0,0 + L2 0.29\n",
            "Batches 6201-6300 in 2.87 sec, Step size: 0.00284\n",
            "    Training losses 1186 = NLL 1183 + KL IC 2,2 + KL II 0,0 + L2 0.29\n",
            "        Eval losses 1256 = NLL 1253 + KL IC 2,2 + KL II 0,0 + L2 0.29\n",
            "Batches 6301-6400 in 2.87 sec, Step size: 0.00278\n",
            "    Training losses 1204 = NLL 1201 + KL IC 3,3 + KL II 0,0 + L2 0.29\n",
            "        Eval losses 1293 = NLL 1290 + KL IC 3,3 + KL II 0,0 + L2 0.29\n",
            "Batches 6401-6500 in 2.87 sec, Step size: 0.00272\n",
            "    Training losses 1181 = NLL 1178 + KL IC 2,2 + KL II 0,0 + L2 0.29\n",
            "        Eval losses 1241 = NLL 1238 + KL IC 2,2 + KL II 0,0 + L2 0.29\n",
            "Batches 6501-6600 in 2.86 sec, Step size: 0.00267\n",
            "    Training losses 1197 = NLL 1194 + KL IC 2,2 + KL II 0,0 + L2 0.29\n",
            "        Eval losses 1245 = NLL 1243 + KL IC 2,2 + KL II 0,0 + L2 0.29\n",
            "Batches 6601-6700 in 2.87 sec, Step size: 0.00262\n",
            "    Training losses 1127 = NLL 1125 + KL IC 2,2 + KL II 0,0 + L2 0.29\n",
            "        Eval losses 1270 = NLL 1267 + KL IC 2,2 + KL II 0,0 + L2 0.29\n",
            "Batches 6701-6800 in 2.87 sec, Step size: 0.00257\n",
            "    Training losses 1177 = NLL 1174 + KL IC 2,2 + KL II 0,0 + L2 0.30\n",
            "        Eval losses 1308 = NLL 1305 + KL IC 2,2 + KL II 0,0 + L2 0.30\n",
            "Batches 6801-6900 in 2.87 sec, Step size: 0.00252\n",
            "    Training losses 1153 = NLL 1150 + KL IC 2,2 + KL II 0,0 + L2 0.30\n",
            "        Eval losses 1268 = NLL 1265 + KL IC 2,2 + KL II 0,0 + L2 0.30\n",
            "Batches 6901-7000 in 2.87 sec, Step size: 0.00247\n",
            "    Training losses 1172 = NLL 1169 + KL IC 2,2 + KL II 0,0 + L2 0.30\n",
            "        Eval losses 1216 = NLL 1213 + KL IC 2,2 + KL II 0,0 + L2 0.30\n",
            "Batches 7001-7100 in 2.87 sec, Step size: 0.00242\n",
            "    Training losses 1150 = NLL 1148 + KL IC 2,2 + KL II 0,0 + L2 0.30\n",
            "        Eval losses 1247 = NLL 1244 + KL IC 2,2 + KL II 0,0 + L2 0.30\n",
            "Batches 7101-7200 in 2.99 sec, Step size: 0.00237\n",
            "    Training losses 1191 = NLL 1189 + KL IC 2,2 + KL II 0,0 + L2 0.30\n",
            "        Eval losses 1260 = NLL 1258 + KL IC 2,2 + KL II 0,0 + L2 0.30\n",
            "Batches 7201-7300 in 2.96 sec, Step size: 0.00232\n",
            "    Training losses 1201 = NLL 1198 + KL IC 2,2 + KL II 0,0 + L2 0.30\n",
            "        Eval losses 1309 = NLL 1306 + KL IC 3,3 + KL II 0,0 + L2 0.30\n",
            "Batches 7301-7400 in 2.87 sec, Step size: 0.00228\n",
            "    Training losses 1204 = NLL 1201 + KL IC 3,3 + KL II 0,0 + L2 0.30\n",
            "        Eval losses 1259 = NLL 1257 + KL IC 2,2 + KL II 0,0 + L2 0.30\n",
            "Batches 7401-7500 in 2.87 sec, Step size: 0.00223\n",
            "    Training losses 1169 = NLL 1166 + KL IC 3,3 + KL II 0,0 + L2 0.30\n",
            "        Eval losses 1304 = NLL 1301 + KL IC 3,3 + KL II 0,0 + L2 0.30\n",
            "Batches 7501-7600 in 2.87 sec, Step size: 0.00219\n",
            "    Training losses 1172 = NLL 1169 + KL IC 2,2 + KL II 0,0 + L2 0.30\n",
            "        Eval losses 1334 = NLL 1331 + KL IC 3,3 + KL II 0,0 + L2 0.30\n",
            "Batches 7601-7700 in 2.87 sec, Step size: 0.00214\n",
            "    Training losses 1131 = NLL 1128 + KL IC 2,2 + KL II 0,0 + L2 0.30\n",
            "        Eval losses 1309 = NLL 1306 + KL IC 2,2 + KL II 0,0 + L2 0.30\n",
            "Batches 7701-7800 in 2.86 sec, Step size: 0.00210\n",
            "    Training losses 1163 = NLL 1160 + KL IC 3,3 + KL II 0,0 + L2 0.30\n",
            "        Eval losses 1217 = NLL 1215 + KL IC 2,2 + KL II 0,0 + L2 0.30\n",
            "Batches 7801-7900 in 2.87 sec, Step size: 0.00206\n",
            "    Training losses 1183 = NLL 1181 + KL IC 2,2 + KL II 0,0 + L2 0.30\n",
            "        Eval losses 1297 = NLL 1294 + KL IC 2,2 + KL II 0,0 + L2 0.30\n",
            "Batches 7901-8000 in 2.86 sec, Step size: 0.00202\n",
            "    Training losses 1191 = NLL 1188 + KL IC 3,3 + KL II 0,0 + L2 0.30\n",
            "        Eval losses 1249 = NLL 1246 + KL IC 3,3 + KL II 0,0 + L2 0.30\n",
            "Batches 8001-8100 in 2.87 sec, Step size: 0.00198\n",
            "    Training losses 1168 = NLL 1165 + KL IC 3,3 + KL II 0,0 + L2 0.30\n",
            "        Eval losses 1221 = NLL 1218 + KL IC 2,2 + KL II 0,0 + L2 0.30\n",
            "Batches 8101-8200 in 2.87 sec, Step size: 0.00194\n",
            "    Training losses 1189 = NLL 1185 + KL IC 3,3 + KL II 0,0 + L2 0.30\n",
            "        Eval losses 1243 = NLL 1240 + KL IC 3,3 + KL II 0,0 + L2 0.30\n",
            "Batches 8201-8300 in 2.87 sec, Step size: 0.00190\n",
            "    Training losses 1169 = NLL 1165 + KL IC 4,4 + KL II 0,0 + L2 0.31\n",
            "        Eval losses 1273 = NLL 1268 + KL IC 4,4 + KL II 0,0 + L2 0.31\n",
            "Batches 8301-8400 in 2.87 sec, Step size: 0.00186\n",
            "    Training losses 1206 = NLL 1202 + KL IC 4,4 + KL II 0,0 + L2 0.31\n",
            "        Eval losses 1271 = NLL 1267 + KL IC 4,4 + KL II 0,0 + L2 0.31\n",
            "Batches 8401-8500 in 2.86 sec, Step size: 0.00183\n",
            "    Training losses 1193 = NLL 1189 + KL IC 4,4 + KL II 0,0 + L2 0.31\n",
            "        Eval losses 1265 = NLL 1261 + KL IC 4,4 + KL II 0,0 + L2 0.31\n",
            "Batches 8501-8600 in 2.87 sec, Step size: 0.00179\n",
            "    Training losses 1193 = NLL 1189 + KL IC 4,4 + KL II 0,0 + L2 0.31\n",
            "        Eval losses 1342 = NLL 1337 + KL IC 5,5 + KL II 0,0 + L2 0.31\n",
            "Batches 8601-8700 in 2.87 sec, Step size: 0.00175\n",
            "    Training losses 1181 = NLL 1177 + KL IC 4,4 + KL II 0,0 + L2 0.31\n",
            "        Eval losses 1299 = NLL 1294 + KL IC 4,4 + KL II 0,0 + L2 0.31\n",
            "Batches 8701-8800 in 2.86 sec, Step size: 0.00172\n",
            "    Training losses 1133 = NLL 1128 + KL IC 4,4 + KL II 0,0 + L2 0.31\n",
            "        Eval losses 1271 = NLL 1267 + KL IC 4,4 + KL II 0,0 + L2 0.31\n",
            "Batches 8801-8900 in 2.88 sec, Step size: 0.00169\n",
            "    Training losses 1173 = NLL 1170 + KL IC 3,3 + KL II 0,0 + L2 0.31\n",
            "        Eval losses 1238 = NLL 1235 + KL IC 3,3 + KL II 0,0 + L2 0.31\n",
            "Batches 8901-9000 in 2.88 sec, Step size: 0.00165\n",
            "    Training losses 1211 = NLL 1207 + KL IC 3,3 + KL II 0,0 + L2 0.31\n",
            "        Eval losses 1218 = NLL 1214 + KL IC 3,3 + KL II 0,0 + L2 0.31\n",
            "Batches 9001-9100 in 2.87 sec, Step size: 0.00162\n",
            "    Training losses 1183 = NLL 1179 + KL IC 3,3 + KL II 0,0 + L2 0.31\n",
            "        Eval losses 1244 = NLL 1240 + KL IC 3,3 + KL II 0,0 + L2 0.31\n",
            "Batches 9101-9200 in 2.88 sec, Step size: 0.00159\n",
            "    Training losses 1196 = NLL 1193 + KL IC 3,3 + KL II 0,0 + L2 0.31\n",
            "        Eval losses 1230 = NLL 1226 + KL IC 3,3 + KL II 0,0 + L2 0.31\n",
            "Batches 9201-9300 in 2.88 sec, Step size: 0.00156\n",
            "    Training losses 1147 = NLL 1143 + KL IC 3,3 + KL II 0,0 + L2 0.31\n",
            "        Eval losses 1219 = NLL 1215 + KL IC 3,3 + KL II 0,0 + L2 0.31\n",
            "Batches 9301-9400 in 2.88 sec, Step size: 0.00153\n",
            "    Training losses 1143 = NLL 1139 + KL IC 3,3 + KL II 0,0 + L2 0.31\n",
            "        Eval losses 1245 = NLL 1241 + KL IC 3,3 + KL II 0,0 + L2 0.31\n",
            "Batches 9401-9500 in 2.87 sec, Step size: 0.00150\n",
            "    Training losses 1165 = NLL 1161 + KL IC 3,3 + KL II 0,0 + L2 0.31\n",
            "        Eval losses 1254 = NLL 1250 + KL IC 4,4 + KL II 0,0 + L2 0.31\n",
            "Batches 9501-9600 in 2.87 sec, Step size: 0.00147\n",
            "    Training losses 1193 = NLL 1189 + KL IC 4,4 + KL II 0,0 + L2 0.31\n",
            "        Eval losses 1258 = NLL 1254 + KL IC 4,4 + KL II 0,0 + L2 0.31\n",
            "Batches 9601-9700 in 2.87 sec, Step size: 0.00144\n",
            "    Training losses 1130 = NLL 1127 + KL IC 3,3 + KL II 0,0 + L2 0.31\n",
            "        Eval losses 1245 = NLL 1241 + KL IC 4,4 + KL II 0,0 + L2 0.31\n",
            "Batches 9701-9800 in 2.88 sec, Step size: 0.00141\n",
            "    Training losses 1184 = NLL 1179 + KL IC 4,4 + KL II 0,0 + L2 0.31\n",
            "        Eval losses 1238 = NLL 1234 + KL IC 4,4 + KL II 0,0 + L2 0.31\n",
            "Batches 9801-9900 in 2.87 sec, Step size: 0.00138\n",
            "    Training losses 1167 = NLL 1163 + KL IC 4,4 + KL II 0,0 + L2 0.31\n",
            "        Eval losses 1294 = NLL 1289 + KL IC 4,4 + KL II 0,0 + L2 0.31\n",
            "Batches 9901-10000 in 2.87 sec, Step size: 0.00135\n",
            "    Training losses 1211 = NLL 1206 + KL IC 5,5 + KL II 0,0 + L2 0.32\n",
            "        Eval losses 1240 = NLL 1235 + KL IC 4,4 + KL II 0,0 + L2 0.32\n",
            "Batches 10001-10100 in 2.87 sec, Step size: 0.00133\n",
            "    Training losses 1169 = NLL 1165 + KL IC 4,4 + KL II 0,0 + L2 0.32\n",
            "        Eval losses 1227 = NLL 1223 + KL IC 4,4 + KL II 0,0 + L2 0.32\n",
            "Batches 10101-10200 in 3.05 sec, Step size: 0.00130\n",
            "    Training losses 1150 = NLL 1146 + KL IC 4,4 + KL II 0,0 + L2 0.32\n",
            "        Eval losses 1290 = NLL 1285 + KL IC 4,4 + KL II 0,0 + L2 0.32\n",
            "Batches 10201-10300 in 2.87 sec, Step size: 0.00127\n",
            "    Training losses 1182 = NLL 1179 + KL IC 3,3 + KL II 0,0 + L2 0.32\n",
            "        Eval losses 1231 = NLL 1227 + KL IC 3,3 + KL II 0,0 + L2 0.32\n",
            "Batches 10301-10400 in 2.86 sec, Step size: 0.00125\n",
            "    Training losses 1168 = NLL 1164 + KL IC 3,3 + KL II 0,0 + L2 0.32\n",
            "        Eval losses 1210 = NLL 1207 + KL IC 3,3 + KL II 0,0 + L2 0.32\n",
            "Batches 10401-10500 in 2.86 sec, Step size: 0.00122\n",
            "    Training losses 1142 = NLL 1138 + KL IC 4,4 + KL II 0,0 + L2 0.32\n",
            "        Eval losses 1292 = NLL 1287 + KL IC 4,4 + KL II 0,0 + L2 0.32\n",
            "Batches 10501-10600 in 2.87 sec, Step size: 0.00120\n",
            "    Training losses 1121 = NLL 1117 + KL IC 3,3 + KL II 0,0 + L2 0.32\n",
            "        Eval losses 1229 = NLL 1226 + KL IC 3,3 + KL II 0,0 + L2 0.32\n",
            "Batches 10601-10700 in 2.88 sec, Step size: 0.00118\n",
            "    Training losses 1163 = NLL 1159 + KL IC 3,3 + KL II 0,0 + L2 0.32\n",
            "        Eval losses 1253 = NLL 1249 + KL IC 4,4 + KL II 0,0 + L2 0.32\n",
            "Batches 10701-10800 in 2.87 sec, Step size: 0.00115\n",
            "    Training losses 1183 = NLL 1180 + KL IC 3,3 + KL II 0,0 + L2 0.32\n",
            "        Eval losses 1257 = NLL 1253 + KL IC 3,3 + KL II 0,0 + L2 0.32\n",
            "Batches 10801-10900 in 2.87 sec, Step size: 0.00113\n",
            "    Training losses 1156 = NLL 1152 + KL IC 3,3 + KL II 0,0 + L2 0.32\n",
            "        Eval losses 1285 = NLL 1281 + KL IC 3,3 + KL II 0,0 + L2 0.32\n",
            "Batches 10901-11000 in 2.87 sec, Step size: 0.00111\n",
            "    Training losses 1166 = NLL 1163 + KL IC 3,3 + KL II 0,0 + L2 0.32\n",
            "        Eval losses 1295 = NLL 1291 + KL IC 4,4 + KL II 0,0 + L2 0.32\n",
            "Batches 11001-11100 in 2.89 sec, Step size: 0.00109\n",
            "    Training losses 1173 = NLL 1170 + KL IC 3,3 + KL II 0,0 + L2 0.32\n",
            "        Eval losses 1216 = NLL 1212 + KL IC 3,3 + KL II 0,0 + L2 0.32\n",
            "Batches 11101-11200 in 2.87 sec, Step size: 0.00106\n",
            "    Training losses 1204 = NLL 1200 + KL IC 3,3 + KL II 0,0 + L2 0.32\n",
            "        Eval losses 1282 = NLL 1279 + KL IC 3,3 + KL II 0,0 + L2 0.32\n",
            "Batches 11201-11300 in 2.87 sec, Step size: 0.00104\n",
            "    Training losses 1175 = NLL 1172 + KL IC 3,3 + KL II 0,0 + L2 0.32\n",
            "        Eval losses 1232 = NLL 1229 + KL IC 3,3 + KL II 0,0 + L2 0.32\n",
            "Batches 11301-11400 in 2.87 sec, Step size: 0.00102\n",
            "    Training losses 1163 = NLL 1160 + KL IC 3,3 + KL II 0,0 + L2 0.32\n",
            "        Eval losses 1219 = NLL 1216 + KL IC 3,3 + KL II 0,0 + L2 0.32\n",
            "Batches 11401-11500 in 2.87 sec, Step size: 0.00100\n",
            "    Training losses 1139 = NLL 1135 + KL IC 3,3 + KL II 0,0 + L2 0.32\n",
            "        Eval losses 1281 = NLL 1277 + KL IC 4,4 + KL II 0,0 + L2 0.32\n",
            "Batches 11501-11600 in 2.87 sec, Step size: 0.00098\n",
            "    Training losses 1169 = NLL 1165 + KL IC 4,4 + KL II 0,0 + L2 0.32\n",
            "        Eval losses 1276 = NLL 1272 + KL IC 4,4 + KL II 0,0 + L2 0.32\n",
            "Batches 11601-11700 in 2.87 sec, Step size: 0.00096\n",
            "    Training losses 1169 = NLL 1165 + KL IC 3,3 + KL II 0,0 + L2 0.32\n",
            "        Eval losses 1270 = NLL 1266 + KL IC 3,3 + KL II 0,0 + L2 0.32\n",
            "Batches 11701-11800 in 2.87 sec, Step size: 0.00094\n",
            "    Training losses 1137 = NLL 1134 + KL IC 3,3 + KL II 0,0 + L2 0.32\n",
            "        Eval losses 1284 = NLL 1281 + KL IC 3,3 + KL II 0,0 + L2 0.32\n",
            "Batches 11801-11900 in 2.87 sec, Step size: 0.00093\n",
            "    Training losses 1155 = NLL 1152 + KL IC 3,3 + KL II 0,0 + L2 0.32\n",
            "        Eval losses 1281 = NLL 1277 + KL IC 3,3 + KL II 0,0 + L2 0.32\n",
            "Batches 11901-12000 in 2.87 sec, Step size: 0.00091\n",
            "    Training losses 1192 = NLL 1188 + KL IC 4,4 + KL II 0,0 + L2 0.32\n",
            "        Eval losses 1315 = NLL 1311 + KL IC 4,4 + KL II 0,0 + L2 0.32\n",
            "Batches 12001-12100 in 2.87 sec, Step size: 0.00089\n",
            "    Training losses 1206 = NLL 1203 + KL IC 3,3 + KL II 0,0 + L2 0.32\n",
            "        Eval losses 1278 = NLL 1274 + KL IC 3,3 + KL II 0,0 + L2 0.32\n",
            "Batches 12101-12200 in 2.87 sec, Step size: 0.00087\n",
            "    Training losses 1157 = NLL 1153 + KL IC 3,3 + KL II 0,0 + L2 0.32\n",
            "        Eval losses 1241 = NLL 1238 + KL IC 3,3 + KL II 0,0 + L2 0.32\n",
            "Batches 12201-12300 in 2.87 sec, Step size: 0.00085\n",
            "    Training losses 1199 = NLL 1196 + KL IC 3,3 + KL II 0,0 + L2 0.32\n",
            "        Eval losses 1199 = NLL 1196 + KL IC 3,3 + KL II 0,0 + L2 0.32\n",
            "Batches 12301-12400 in 2.87 sec, Step size: 0.00084\n",
            "    Training losses 1207 = NLL 1204 + KL IC 3,3 + KL II 0,0 + L2 0.32\n",
            "        Eval losses 1229 = NLL 1226 + KL IC 3,3 + KL II 0,0 + L2 0.32\n",
            "Batches 12401-12500 in 2.87 sec, Step size: 0.00082\n",
            "    Training losses 1172 = NLL 1168 + KL IC 3,3 + KL II 0,0 + L2 0.32\n",
            "        Eval losses 1207 = NLL 1203 + KL IC 3,3 + KL II 0,0 + L2 0.32\n",
            "Batches 12501-12600 in 2.87 sec, Step size: 0.00080\n",
            "    Training losses 1163 = NLL 1159 + KL IC 3,3 + KL II 0,0 + L2 0.32\n",
            "        Eval losses 1244 = NLL 1241 + KL IC 4,4 + KL II 0,0 + L2 0.32\n",
            "Batches 12601-12700 in 2.87 sec, Step size: 0.00079\n",
            "    Training losses 1179 = NLL 1175 + KL IC 3,3 + KL II 0,0 + L2 0.32\n",
            "        Eval losses 1245 = NLL 1241 + KL IC 4,4 + KL II 0,0 + L2 0.32\n",
            "Batches 12701-12800 in 2.87 sec, Step size: 0.00077\n",
            "    Training losses 1168 = NLL 1164 + KL IC 3,3 + KL II 0,0 + L2 0.32\n",
            "        Eval losses 1229 = NLL 1225 + KL IC 3,3 + KL II 0,0 + L2 0.32\n",
            "Batches 12801-12900 in 2.87 sec, Step size: 0.00076\n",
            "    Training losses 1199 = NLL 1196 + KL IC 4,4 + KL II 0,0 + L2 0.32\n",
            "        Eval losses 1253 = NLL 1249 + KL IC 4,4 + KL II 0,0 + L2 0.32\n",
            "Batches 12901-13000 in 2.87 sec, Step size: 0.00074\n",
            "    Training losses 1224 = NLL 1220 + KL IC 4,4 + KL II 0,0 + L2 0.32\n",
            "        Eval losses 1207 = NLL 1203 + KL IC 4,4 + KL II 0,0 + L2 0.32\n",
            "Batches 13001-13100 in 3.08 sec, Step size: 0.00073\n",
            "    Training losses 1164 = NLL 1160 + KL IC 3,3 + KL II 0,0 + L2 0.32\n",
            "        Eval losses 1268 = NLL 1264 + KL IC 4,4 + KL II 0,0 + L2 0.32\n",
            "Batches 13101-13200 in 2.87 sec, Step size: 0.00071\n",
            "    Training losses 1208 = NLL 1204 + KL IC 3,3 + KL II 0,0 + L2 0.32\n",
            "        Eval losses 1219 = NLL 1215 + KL IC 3,3 + KL II 0,0 + L2 0.32\n",
            "Batches 13201-13300 in 2.87 sec, Step size: 0.00070\n",
            "    Training losses 1150 = NLL 1146 + KL IC 3,3 + KL II 0,0 + L2 0.32\n",
            "        Eval losses 1282 = NLL 1278 + KL IC 4,4 + KL II 0,0 + L2 0.32\n",
            "Batches 13301-13400 in 2.86 sec, Step size: 0.00069\n",
            "    Training losses 1180 = NLL 1177 + KL IC 3,3 + KL II 0,0 + L2 0.32\n",
            "        Eval losses 1249 = NLL 1245 + KL IC 4,4 + KL II 0,0 + L2 0.32\n",
            "Batches 13401-13500 in 2.89 sec, Step size: 0.00067\n",
            "    Training losses 1165 = NLL 1162 + KL IC 3,3 + KL II 0,0 + L2 0.32\n",
            "        Eval losses 1267 = NLL 1263 + KL IC 4,4 + KL II 0,0 + L2 0.32\n",
            "Batches 13501-13600 in 2.87 sec, Step size: 0.00066\n",
            "    Training losses 1195 = NLL 1191 + KL IC 3,3 + KL II 0,0 + L2 0.32\n",
            "        Eval losses 1237 = NLL 1233 + KL IC 3,3 + KL II 0,0 + L2 0.32\n",
            "Batches 13601-13700 in 2.87 sec, Step size: 0.00065\n",
            "    Training losses 1194 = NLL 1190 + KL IC 3,3 + KL II 0,0 + L2 0.32\n",
            "        Eval losses 1259 = NLL 1255 + KL IC 4,4 + KL II 0,0 + L2 0.32\n",
            "Batches 13701-13800 in 2.86 sec, Step size: 0.00063\n",
            "    Training losses 1140 = NLL 1136 + KL IC 3,3 + KL II 0,0 + L2 0.32\n",
            "        Eval losses 1207 = NLL 1203 + KL IC 3,3 + KL II 0,0 + L2 0.32\n",
            "Batches 13801-13900 in 2.88 sec, Step size: 0.00062\n",
            "    Training losses 1190 = NLL 1186 + KL IC 4,4 + KL II 0,0 + L2 0.32\n",
            "        Eval losses 1239 = NLL 1236 + KL IC 3,3 + KL II 0,0 + L2 0.32\n",
            "Batches 13901-14000 in 2.87 sec, Step size: 0.00061\n",
            "    Training losses 1160 = NLL 1156 + KL IC 3,3 + KL II 0,0 + L2 0.32\n",
            "        Eval losses 1249 = NLL 1245 + KL IC 3,3 + KL II 0,0 + L2 0.32\n",
            "Batches 14001-14100 in 2.87 sec, Step size: 0.00060\n",
            "    Training losses 1160 = NLL 1156 + KL IC 3,3 + KL II 0,0 + L2 0.32\n",
            "        Eval losses 1218 = NLL 1215 + KL IC 3,3 + KL II 0,0 + L2 0.32\n",
            "Batches 14101-14200 in 2.87 sec, Step size: 0.00058\n",
            "    Training losses 1142 = NLL 1139 + KL IC 3,3 + KL II 0,0 + L2 0.32\n",
            "        Eval losses 1211 = NLL 1207 + KL IC 4,4 + KL II 0,0 + L2 0.32\n",
            "Batches 14201-14300 in 2.87 sec, Step size: 0.00057\n",
            "    Training losses 1211 = NLL 1206 + KL IC 4,4 + KL II 0,0 + L2 0.32\n",
            "        Eval losses 1230 = NLL 1226 + KL IC 3,3 + KL II 0,0 + L2 0.32\n",
            "Batches 14301-14400 in 2.86 sec, Step size: 0.00056\n",
            "    Training losses 1148 = NLL 1144 + KL IC 3,3 + KL II 0,0 + L2 0.32\n",
            "        Eval losses 1244 = NLL 1241 + KL IC 4,4 + KL II 0,0 + L2 0.32\n",
            "Batches 14401-14500 in 2.87 sec, Step size: 0.00055\n",
            "    Training losses 1180 = NLL 1176 + KL IC 4,4 + KL II 0,0 + L2 0.32\n",
            "        Eval losses 1302 = NLL 1298 + KL IC 4,4 + KL II 0,0 + L2 0.32\n",
            "Batches 14501-14600 in 2.87 sec, Step size: 0.00054\n",
            "    Training losses 1195 = NLL 1191 + KL IC 4,4 + KL II 0,0 + L2 0.32\n",
            "        Eval losses 1237 = NLL 1233 + KL IC 4,4 + KL II 0,0 + L2 0.32\n",
            "Batches 14601-14700 in 2.87 sec, Step size: 0.00053\n",
            "    Training losses 1173 = NLL 1169 + KL IC 4,4 + KL II 0,0 + L2 0.32\n",
            "        Eval losses 1234 = NLL 1230 + KL IC 4,4 + KL II 0,0 + L2 0.32\n",
            "Batches 14701-14800 in 2.87 sec, Step size: 0.00052\n",
            "    Training losses 1194 = NLL 1190 + KL IC 4,4 + KL II 0,0 + L2 0.32\n",
            "        Eval losses 1307 = NLL 1303 + KL IC 4,4 + KL II 0,0 + L2 0.32\n",
            "Batches 14801-14900 in 2.87 sec, Step size: 0.00051\n",
            "    Training losses 1181 = NLL 1177 + KL IC 4,4 + KL II 0,0 + L2 0.32\n",
            "        Eval losses 1289 = NLL 1285 + KL IC 4,4 + KL II 0,0 + L2 0.32\n",
            "Batches 14901-15000 in 2.87 sec, Step size: 0.00050\n",
            "    Training losses 1166 = NLL 1162 + KL IC 3,3 + KL II 0,0 + L2 0.32\n",
            "        Eval losses 1277 = NLL 1273 + KL IC 4,4 + KL II 0,0 + L2 0.32\n",
            "Batches 15001-15100 in 2.87 sec, Step size: 0.00049\n",
            "    Training losses 1136 = NLL 1132 + KL IC 3,3 + KL II 0,0 + L2 0.32\n",
            "        Eval losses 1277 = NLL 1273 + KL IC 4,4 + KL II 0,0 + L2 0.32\n",
            "Batches 15101-15200 in 2.87 sec, Step size: 0.00048\n",
            "    Training losses 1152 = NLL 1148 + KL IC 3,3 + KL II 0,0 + L2 0.32\n",
            "        Eval losses 1247 = NLL 1243 + KL IC 4,4 + KL II 0,0 + L2 0.32\n",
            "Batches 15201-15300 in 2.88 sec, Step size: 0.00047\n",
            "    Training losses 1154 = NLL 1150 + KL IC 3,3 + KL II 0,0 + L2 0.32\n",
            "        Eval losses 1252 = NLL 1249 + KL IC 3,3 + KL II 0,0 + L2 0.32\n",
            "Batches 15301-15400 in 2.86 sec, Step size: 0.00046\n",
            "    Training losses 1157 = NLL 1154 + KL IC 3,3 + KL II 0,0 + L2 0.32\n",
            "        Eval losses 1248 = NLL 1244 + KL IC 4,4 + KL II 0,0 + L2 0.32\n",
            "Batches 15401-15500 in 2.87 sec, Step size: 0.00045\n",
            "    Training losses 1168 = NLL 1165 + KL IC 3,3 + KL II 0,0 + L2 0.32\n",
            "        Eval losses 1272 = NLL 1268 + KL IC 4,4 + KL II 0,0 + L2 0.32\n",
            "Batches 15501-15600 in 2.86 sec, Step size: 0.00044\n",
            "    Training losses 1159 = NLL 1155 + KL IC 3,3 + KL II 0,0 + L2 0.32\n",
            "        Eval losses 1261 = NLL 1258 + KL IC 4,4 + KL II 0,0 + L2 0.32\n",
            "Batches 15601-15700 in 2.87 sec, Step size: 0.00043\n",
            "    Training losses 1176 = NLL 1172 + KL IC 3,3 + KL II 0,0 + L2 0.32\n",
            "        Eval losses 1251 = NLL 1247 + KL IC 3,3 + KL II 0,0 + L2 0.32\n",
            "Batches 15701-15800 in 2.86 sec, Step size: 0.00042\n",
            "    Training losses 1174 = NLL 1170 + KL IC 4,4 + KL II 0,0 + L2 0.32\n",
            "        Eval losses 1271 = NLL 1267 + KL IC 3,3 + KL II 0,0 + L2 0.32\n",
            "Batches 15801-15900 in 2.87 sec, Step size: 0.00042\n",
            "    Training losses 1115 = NLL 1112 + KL IC 3,3 + KL II 0,0 + L2 0.32\n",
            "        Eval losses 1252 = NLL 1248 + KL IC 4,4 + KL II 0,0 + L2 0.32\n",
            "Batches 15901-16000 in 3.08 sec, Step size: 0.00041\n",
            "    Training losses 1135 = NLL 1131 + KL IC 3,3 + KL II 0,0 + L2 0.32\n",
            "        Eval losses 1288 = NLL 1283 + KL IC 4,4 + KL II 0,0 + L2 0.32\n",
            "Batches 16001-16100 in 2.86 sec, Step size: 0.00040\n",
            "    Training losses 1132 = NLL 1128 + KL IC 3,3 + KL II 0,0 + L2 0.32\n",
            "        Eval losses 1257 = NLL 1253 + KL IC 4,4 + KL II 0,0 + L2 0.32\n",
            "Batches 16101-16200 in 2.86 sec, Step size: 0.00039\n",
            "    Training losses 1191 = NLL 1187 + KL IC 4,4 + KL II 0,0 + L2 0.32\n",
            "        Eval losses 1253 = NLL 1249 + KL IC 4,4 + KL II 0,0 + L2 0.32\n",
            "Batches 16201-16300 in 2.87 sec, Step size: 0.00038\n",
            "    Training losses 1103 = NLL 1100 + KL IC 3,3 + KL II 0,0 + L2 0.32\n",
            "        Eval losses 1284 = NLL 1280 + KL IC 3,3 + KL II 0,0 + L2 0.32\n",
            "Batches 16301-16400 in 2.88 sec, Step size: 0.00038\n",
            "    Training losses 1175 = NLL 1171 + KL IC 3,3 + KL II 0,0 + L2 0.32\n",
            "        Eval losses 1244 = NLL 1240 + KL IC 3,3 + KL II 0,0 + L2 0.32\n",
            "Batches 16401-16500 in 2.87 sec, Step size: 0.00037\n",
            "    Training losses 1123 = NLL 1120 + KL IC 4,4 + KL II 0,0 + L2 0.32\n",
            "        Eval losses 1245 = NLL 1242 + KL IC 3,3 + KL II 0,0 + L2 0.32\n",
            "Batches 16501-16600 in 2.88 sec, Step size: 0.00036\n",
            "    Training losses 1185 = NLL 1182 + KL IC 3,3 + KL II 0,0 + L2 0.32\n",
            "        Eval losses 1209 = NLL 1205 + KL IC 4,4 + KL II 0,0 + L2 0.32\n",
            "Batches 16601-16700 in 2.87 sec, Step size: 0.00035\n",
            "    Training losses 1137 = NLL 1133 + KL IC 3,3 + KL II 0,0 + L2 0.32\n",
            "        Eval losses 1217 = NLL 1213 + KL IC 3,3 + KL II 0,0 + L2 0.32\n",
            "Batches 16701-16800 in 2.86 sec, Step size: 0.00035\n",
            "    Training losses 1158 = NLL 1154 + KL IC 3,3 + KL II 0,0 + L2 0.32\n",
            "        Eval losses 1244 = NLL 1240 + KL IC 4,4 + KL II 0,0 + L2 0.32\n",
            "Batches 16801-16900 in 2.87 sec, Step size: 0.00034\n",
            "    Training losses 1137 = NLL 1133 + KL IC 4,4 + KL II 0,0 + L2 0.32\n",
            "        Eval losses 1256 = NLL 1252 + KL IC 4,4 + KL II 0,0 + L2 0.32\n",
            "Batches 16901-17000 in 2.86 sec, Step size: 0.00033\n",
            "    Training losses 1191 = NLL 1187 + KL IC 4,4 + KL II 0,0 + L2 0.32\n",
            "        Eval losses 1225 = NLL 1221 + KL IC 4,4 + KL II 0,0 + L2 0.32\n",
            "Batches 17001-17100 in 2.88 sec, Step size: 0.00033\n",
            "    Training losses 1152 = NLL 1148 + KL IC 4,4 + KL II 0,0 + L2 0.32\n",
            "        Eval losses 1280 = NLL 1275 + KL IC 4,4 + KL II 0,0 + L2 0.32\n",
            "Batches 17101-17200 in 2.86 sec, Step size: 0.00032\n",
            "    Training losses 1131 = NLL 1127 + KL IC 3,3 + KL II 0,0 + L2 0.32\n",
            "        Eval losses 1233 = NLL 1229 + KL IC 4,4 + KL II 0,0 + L2 0.32\n",
            "Batches 17201-17300 in 2.87 sec, Step size: 0.00031\n",
            "    Training losses 1183 = NLL 1180 + KL IC 4,4 + KL II 0,0 + L2 0.32\n",
            "        Eval losses 1252 = NLL 1248 + KL IC 4,4 + KL II 0,0 + L2 0.32\n",
            "Batches 17301-17400 in 2.86 sec, Step size: 0.00031\n",
            "    Training losses 1145 = NLL 1142 + KL IC 4,4 + KL II 0,0 + L2 0.32\n",
            "        Eval losses 1210 = NLL 1206 + KL IC 4,4 + KL II 0,0 + L2 0.32\n",
            "Batches 17401-17500 in 2.87 sec, Step size: 0.00030\n",
            "    Training losses 1102 = NLL 1099 + KL IC 3,3 + KL II 0,0 + L2 0.32\n",
            "        Eval losses 1278 = NLL 1274 + KL IC 4,4 + KL II 0,0 + L2 0.32\n",
            "Batches 17501-17600 in 2.87 sec, Step size: 0.00030\n",
            "    Training losses 1134 = NLL 1131 + KL IC 3,3 + KL II 0,0 + L2 0.32\n",
            "        Eval losses 1285 = NLL 1280 + KL IC 4,4 + KL II 0,0 + L2 0.32\n",
            "Batches 17601-17700 in 2.87 sec, Step size: 0.00029\n",
            "    Training losses 1186 = NLL 1182 + KL IC 4,4 + KL II 0,0 + L2 0.32\n",
            "        Eval losses 1244 = NLL 1240 + KL IC 4,4 + KL II 0,0 + L2 0.32\n",
            "Batches 17701-17800 in 2.87 sec, Step size: 0.00028\n",
            "    Training losses 1159 = NLL 1155 + KL IC 4,4 + KL II 0,0 + L2 0.32\n",
            "        Eval losses 1248 = NLL 1244 + KL IC 4,4 + KL II 0,0 + L2 0.32\n",
            "Batches 17801-17900 in 2.87 sec, Step size: 0.00028\n",
            "    Training losses 1209 = NLL 1204 + KL IC 4,4 + KL II 0,0 + L2 0.32\n",
            "        Eval losses 1272 = NLL 1268 + KL IC 4,4 + KL II 0,0 + L2 0.32\n",
            "Batches 17901-18000 in 2.86 sec, Step size: 0.00027\n",
            "    Training losses 1162 = NLL 1158 + KL IC 4,4 + KL II 0,0 + L2 0.32\n",
            "        Eval losses 1209 = NLL 1205 + KL IC 4,4 + KL II 0,0 + L2 0.32\n",
            "Batches 18001-18100 in 2.87 sec, Step size: 0.00027\n",
            "    Training losses 1157 = NLL 1153 + KL IC 4,4 + KL II 0,0 + L2 0.32\n",
            "        Eval losses 1227 = NLL 1223 + KL IC 4,4 + KL II 0,0 + L2 0.32\n",
            "Batches 18101-18200 in 2.88 sec, Step size: 0.00026\n",
            "    Training losses 1199 = NLL 1195 + KL IC 4,4 + KL II 0,0 + L2 0.32\n",
            "        Eval losses 1243 = NLL 1238 + KL IC 4,4 + KL II 0,0 + L2 0.32\n",
            "Batches 18201-18300 in 2.87 sec, Step size: 0.00026\n",
            "    Training losses 1145 = NLL 1141 + KL IC 4,4 + KL II 0,0 + L2 0.32\n",
            "        Eval losses 1204 = NLL 1200 + KL IC 3,3 + KL II 0,0 + L2 0.32\n",
            "Batches 18301-18400 in 2.87 sec, Step size: 0.00025\n",
            "    Training losses 1155 = NLL 1151 + KL IC 4,4 + KL II 0,0 + L2 0.32\n",
            "        Eval losses 1252 = NLL 1248 + KL IC 4,4 + KL II 0,0 + L2 0.32\n",
            "Batches 18401-18500 in 2.88 sec, Step size: 0.00025\n",
            "    Training losses 1157 = NLL 1154 + KL IC 4,4 + KL II 0,0 + L2 0.32\n",
            "        Eval losses 1248 = NLL 1244 + KL IC 4,4 + KL II 0,0 + L2 0.32\n",
            "Batches 18501-18600 in 2.88 sec, Step size: 0.00024\n",
            "    Training losses 1143 = NLL 1139 + KL IC 3,3 + KL II 0,0 + L2 0.32\n",
            "        Eval losses 1281 = NLL 1277 + KL IC 4,4 + KL II 0,0 + L2 0.32\n",
            "Batches 18601-18700 in 2.87 sec, Step size: 0.00024\n",
            "    Training losses 1191 = NLL 1187 + KL IC 4,4 + KL II 0,0 + L2 0.32\n",
            "        Eval losses 1245 = NLL 1240 + KL IC 4,4 + KL II 0,0 + L2 0.32\n",
            "Batches 18701-18800 in 2.87 sec, Step size: 0.00023\n",
            "    Training losses 1179 = NLL 1175 + KL IC 4,4 + KL II 0,0 + L2 0.32\n",
            "        Eval losses 1264 = NLL 1260 + KL IC 3,3 + KL II 0,0 + L2 0.32\n",
            "Batches 18801-18900 in 3.14 sec, Step size: 0.00023\n",
            "    Training losses 1163 = NLL 1160 + KL IC 4,4 + KL II 0,0 + L2 0.32\n",
            "        Eval losses 1234 = NLL 1230 + KL IC 4,4 + KL II 0,0 + L2 0.32\n",
            "Batches 18901-19000 in 2.87 sec, Step size: 0.00022\n",
            "    Training losses 1171 = NLL 1167 + KL IC 4,4 + KL II 0,0 + L2 0.32\n",
            "        Eval losses 1233 = NLL 1229 + KL IC 3,3 + KL II 0,0 + L2 0.32\n",
            "Batches 19001-19100 in 2.87 sec, Step size: 0.00022\n",
            "    Training losses 1105 = NLL 1101 + KL IC 3,3 + KL II 0,0 + L2 0.32\n",
            "        Eval losses 1235 = NLL 1231 + KL IC 3,3 + KL II 0,0 + L2 0.32\n",
            "Batches 19101-19200 in 2.87 sec, Step size: 0.00021\n",
            "    Training losses 1149 = NLL 1146 + KL IC 3,3 + KL II 0,0 + L2 0.32\n",
            "        Eval losses 1277 = NLL 1273 + KL IC 4,4 + KL II 0,0 + L2 0.32\n",
            "Batches 19201-19300 in 2.87 sec, Step size: 0.00021\n",
            "    Training losses 1180 = NLL 1176 + KL IC 3,3 + KL II 0,0 + L2 0.32\n",
            "        Eval losses 1235 = NLL 1231 + KL IC 3,3 + KL II 0,0 + L2 0.32\n",
            "Batches 19301-19400 in 2.87 sec, Step size: 0.00021\n",
            "    Training losses 1155 = NLL 1152 + KL IC 4,4 + KL II 0,0 + L2 0.32\n",
            "        Eval losses 1254 = NLL 1250 + KL IC 4,4 + KL II 0,0 + L2 0.32\n",
            "Batches 19401-19500 in 2.87 sec, Step size: 0.00020\n",
            "    Training losses 1193 = NLL 1189 + KL IC 4,4 + KL II 0,0 + L2 0.32\n",
            "        Eval losses 1218 = NLL 1214 + KL IC 3,3 + KL II 0,0 + L2 0.32\n",
            "Batches 19501-19600 in 2.87 sec, Step size: 0.00020\n",
            "    Training losses 1169 = NLL 1166 + KL IC 3,3 + KL II 0,0 + L2 0.32\n",
            "        Eval losses 1224 = NLL 1220 + KL IC 3,3 + KL II 0,0 + L2 0.32\n",
            "Batches 19601-19700 in 2.87 sec, Step size: 0.00019\n",
            "    Training losses 1169 = NLL 1165 + KL IC 3,3 + KL II 0,0 + L2 0.32\n",
            "        Eval losses 1275 = NLL 1271 + KL IC 4,4 + KL II 0,0 + L2 0.32\n",
            "Batches 19701-19800 in 2.86 sec, Step size: 0.00019\n",
            "    Training losses 1195 = NLL 1192 + KL IC 3,3 + KL II 0,0 + L2 0.32\n",
            "        Eval losses 1217 = NLL 1214 + KL IC 3,3 + KL II 0,0 + L2 0.32\n",
            "Batches 19801-19900 in 2.88 sec, Step size: 0.00019\n",
            "    Training losses 1148 = NLL 1145 + KL IC 3,3 + KL II 0,0 + L2 0.32\n",
            "        Eval losses 1198 = NLL 1195 + KL IC 3,3 + KL II 0,0 + L2 0.32\n",
            "Batches 19901-20000 in 2.87 sec, Step size: 0.00018\n",
            "    Training losses 1174 = NLL 1170 + KL IC 4,4 + KL II 0,0 + L2 0.32\n",
            "        Eval losses 1236 = NLL 1233 + KL IC 4,4 + KL II 0,0 + L2 0.32\n"
          ]
        }
      ]
    },
    {
      "cell_type": "code",
      "source": [
        "fname_uniquifier = datetime.datetime.now().strftime(\"%Y-%m-%d_%H:%M:%S\")\n",
        "network_fname = ('trained_params_lfads_129_gru' + fname_uniquifier + '.npz')\n",
        "network_path = os.path.join(output_dir, network_fname)\n",
        "\n",
        "print(\"Saving parameters: \", network_path)\n",
        "onp.savez(network_path, trained_params)\n"
      ],
      "metadata": {
        "colab": {
          "base_uri": "https://localhost:8080/"
        },
        "id": "rhrKd0T_pFEC",
        "outputId": "5ea36ca9-8213-42ad-fdf7-088be8eb0f7f"
      },
      "execution_count": null,
      "outputs": [
        {
          "output_type": "stream",
          "name": "stdout",
          "text": [
            "Saving parameters:  /content/lfads/output/trained_params_lfads_129_gru2022-07-29_20:34:54.npz\n"
          ]
        }
      ]
    },
    {
      "cell_type": "code",
      "source": [
        "# Plot the training details\n",
        "x = onp.arange(0, num_batches, print_every)\n",
        "plt.figure(figsize=(20,6))\n",
        "plt.subplot(251)\n",
        "plt.plot(x, opt_details['tlosses']['total'], 'k')\n",
        "plt.ylabel('Training')\n",
        "plt.title('Total loss')\n",
        "plt.subplot(252)\n",
        "plt.plot(x, opt_details['tlosses']['nlog_p_xgz'], 'b')\n",
        "plt.title('Negative log p(z|x)')\n",
        "plt.subplot(253)\n",
        "plt.plot(x, opt_details['tlosses']['kl_ii'], 'r')\n",
        "plt.title('KL inferred inputs')\n",
        "plt.subplot(254)\n",
        "plt.plot(x, opt_details['tlosses']['kl_g0'], 'g')\n",
        "plt.title('KL initial state')\n",
        "plt.subplot(255)\n",
        "plt.plot(x, opt_details['tlosses']['l2'], 'c')\n",
        "plt.xlabel('Training batch')\n",
        "plt.title('L2 loss')\n",
        "plt.subplot(256)\n",
        "plt.plot(x, opt_details['elosses']['total'], 'k')\n",
        "plt.xlabel('Training batch')\n",
        "plt.ylabel('Evaluation')\n",
        "plt.subplot(257)\n",
        "plt.plot(x, opt_details['tlosses']['nlog_p_xgz'], 'b')\n",
        "plt.xlabel('Training batch')\n",
        "plt.subplot(258)\n",
        "plt.plot(x, opt_details['elosses']['kl_ii'], 'r')\n",
        "plt.xlabel('Training batch')\n",
        "plt.subplot(259)\n",
        "plt.plot(x, opt_details['elosses']['kl_g0'], 'g')\n",
        "plt.xlabel('Training batch');"
      ],
      "metadata": {
        "colab": {
          "base_uri": "https://localhost:8080/",
          "height": 222
        },
        "id": "JLo5QVPM76Eh",
        "outputId": "dce76c32-4907-42f6-98cf-012a3a4e82bb"
      },
      "execution_count": null,
      "outputs": [
        {
          "output_type": "display_data",
          "data": {
            "text/plain": [
              "<Figure size 1440x432 with 9 Axes>"
            ],
            "image/png": "[encoded data removed]"
          },
          "metadata": {
            "needs_background": "light"
          }
        }
      ]
    },
    {
      "cell_type": "code",
      "source": [
        "# See the effect of the KL warmup, which is shown \n",
        "# by the KL penalities without the warmup scaling. \n",
        "plt.figure(figsize=(7,4))\n",
        "plt.subplot(221)\n",
        "plt.plot(x, opt_details['tlosses']['kl_ii_prescale'], 'r--')\n",
        "plt.ylabel('Training')\n",
        "plt.subplot(222)\n",
        "plt.plot(x, opt_details['tlosses']['kl_g0_prescale'], 'g--')\n",
        "plt.subplot(223)\n",
        "plt.plot(x, opt_details['elosses']['kl_ii_prescale'], 'r--')\n",
        "plt.ylabel('Evaluation')\n",
        "plt.xlabel('Training batch')\n",
        "plt.subplot(224)\n",
        "plt.plot(x, opt_details['elosses']['kl_g0_prescale'], 'g--')\n",
        "plt.xlabel('Training batch');"
      ],
      "metadata": {
        "colab": {
          "base_uri": "https://localhost:8080/",
          "height": 279
        },
        "id": "_g5rtV3EQBM5",
        "outputId": "0e818642-0687-489b-d176-dd63679dcded"
      },
      "execution_count": null,
      "outputs": [
        {
          "output_type": "display_data",
          "data": {
            "text/plain": [
              "<Figure size 504x288 with 4 Axes>"
            ],
            "image/png": "[encoded data removed]"
          },
          "metadata": {
            "needs_background": "light"
          }
        }
      ]
    },
    {
      "cell_type": "markdown",
      "source": [
        "## Visualization"
      ],
      "metadata": {
        "id": "RiEJTNiKQUOf"
      }
    },
    {
      "cell_type": "code",
      "source": [
        "# Plot a bunch of examples of eval trials run through LFADS.\n",
        "reload(plotting)\n",
        "#reload(lfads)\n",
        "\n",
        "def plot_rescale_fun(a): \n",
        "    fac = max_firing_rate * data_dt\n",
        "    return renormed_fun(a) * fac\n",
        "\n",
        "\n",
        "bidx = 0\n",
        "\n",
        "nexamples_to_save = 1\n",
        "for eidx in range(nexamples_to_save):\n",
        "    fkey = random.fold_in(key, eidx)\n",
        "    psa_example = eval_data[bidx,:,:].astype(np.float32)\n",
        "    psa_dict = lfads.posterior_sample_and_average_jit(trained_params, lfads_hps, \n",
        "                                                      fkey, psa_example)\n",
        "\n",
        "    # The inferred input and true input are rescaled and shifted via \n",
        "    # linear regression to match, as there is an identifiability issue. there.\n",
        "    plotting.plot_lfads(psa_example, psa_dict,\n",
        "                        data_dict, eval_data_offset+bidx, plot_rescale_fun)\n"
      ],
      "metadata": {
        "colab": {
          "base_uri": "https://localhost:8080/",
          "height": 278
        },
        "id": "lX7eD0ozQLmp",
        "outputId": "404079dd-6c9c-4dc1-89f8-b53c87e86732"
      },
      "execution_count": null,
      "outputs": [
        {
          "output_type": "error",
          "ename": "NameError",
          "evalue": "ignored",
          "traceback": [
            "\u001b[0;31m---------------------------------------------------------------------------\u001b[0m",
            "\u001b[0;31mNameError\u001b[0m                                 Traceback (most recent call last)",
            "\u001b[0;32m<ipython-input-252-0599827582a7>\u001b[0m in \u001b[0;36m<module>\u001b[0;34m()\u001b[0m\n\u001b[1;32m     20\u001b[0m     \u001b[0;31m# linear regression to match, as there is an identifiability issue. there.\u001b[0m\u001b[0;34m\u001b[0m\u001b[0;34m\u001b[0m\u001b[0;34m\u001b[0m\u001b[0m\n\u001b[1;32m     21\u001b[0m     plotting.plot_lfads(psa_example, psa_dict,\n\u001b[0;32m---> 22\u001b[0;31m                         data_dict, eval_data_offset+bidx, plot_rescale_fun)\n\u001b[0m",
            "\u001b[0;31mNameError\u001b[0m: name 'data_dict' is not defined"
          ]
        }
      ]
    },
    {
      "cell_type": "code",
      "source": [
        "# plt.plot(psa_dict['factor_t'])\n",
        "plt.plot(psa_dict['factor_t'])\n",
        "psa_dict.keys()"
      ],
      "metadata": {
        "colab": {
          "base_uri": "https://localhost:8080/",
          "height": 301
        },
        "id": "JXh3d4vBQWBC",
        "outputId": "44e14172-8a88-4d29-dc3e-fcbd41c9f50a"
      },
      "execution_count": null,
      "outputs": [
        {
          "output_type": "execute_result",
          "data": {
            "text/plain": [
              "dict_keys(['c_t', 'factor_t', 'gen_t', 'ic_logvar', 'ic_mean', 'ii_logvar_t', 'ii_mean_t', 'ii_t', 'lograte_t', 'xenc_t'])"
            ]
          },
          "metadata": {},
          "execution_count": 253
        },
        {
          "output_type": "display_data",
          "data": {
            "text/plain": [
              "<Figure size 432x288 with 1 Axes>"
            ],
            "image/png": "[encoded data removed]"
          },
          "metadata": {
            "needs_background": "light"
          }
        }
      ]
    },
    {
      "cell_type": "code",
      "source": [
        "ics = onp.empty((eval_data.shape[0],64))\n",
        "for i, psa_example in enumerate(eval_data.astype(np.float32)):\n",
        "    psa_dict = lfads.posterior_sample_and_average_jit(trained_params, lfads_hps, \n",
        "                                                      fkey, psa_example)\n",
        "    ics[i] = psa_dict['ic_mean']"
      ],
      "metadata": {
        "id": "tPgWndF3Qd7N"
      },
      "execution_count": null,
      "outputs": []
    },
    {
      "cell_type": "code",
      "source": [
        "from matplotlib import cm\n",
        "\n",
        "ncomponents = 2\n",
        "pca = sklearn.decomposition.PCA(ncomponents)\n",
        "pca.fit(ics.T)\n",
        "\n",
        "# types = dataset.trial_info.trial_type[:][eval_data_offset:].to_numpy()\n",
        "# unique_types = onp.unique(types)\n",
        "# type_idxs = onp.ones_like(types) * onp.nan\n",
        "# for i,t in enumerate(unique_types):\n",
        "#   type_idxs[types==t] = i/len(unique_types)\n",
        "\n",
        "# print(type_idxs)\n",
        "\n",
        "plt.scatter(*pca.components_,\n",
        "            c=cm.rainbow((angles[eval_data_offset:]+1.5*onp.pi)/(onp.pi)))"
      ],
      "metadata": {
        "colab": {
          "base_uri": "https://localhost:8080/",
          "height": 283
        },
        "id": "7BMhOvteRINg",
        "outputId": "45c20a62-1f33-4b1c-9e82-f41f4ab9e265"
      },
      "execution_count": null,
      "outputs": [
        {
          "output_type": "execute_result",
          "data": {
            "text/plain": [
              "<matplotlib.collections.PathCollection at 0x7faf2c3f4f10>"
            ]
          },
          "metadata": {},
          "execution_count": 270
        },
        {
          "output_type": "display_data",
          "data": {
            "text/plain": [
              "<Figure size 432x288 with 1 Axes>"
            ],
            "image/png": "[encoded data removed]"
          },
          "metadata": {
            "needs_background": "light"
          }
        }
      ]
    },
    {
      "cell_type": "code",
      "source": [
        "print(trained_params.keys())\n",
        "trained_params['gen'].keys()"
      ],
      "metadata": {
        "colab": {
          "base_uri": "https://localhost:8080/"
        },
        "id": "uahsJ9YDRDq3",
        "outputId": "01d2836b-ffe4-49cb-cf3b-3b83d9ab3b0a"
      },
      "execution_count": null,
      "outputs": [
        {
          "output_type": "stream",
          "name": "stdout",
          "text": [
            "dict_keys(['con', 'con_out', 'factors', 'gen', 'gen_ic', 'ic_enc', 'ic_prior', 'ii_prior', 'logrates'])\n"
          ]
        },
        {
          "output_type": "execute_result",
          "data": {
            "text/plain": [
              "dict_keys(['bC', 'bRU', 'h0', 'wCHX', 'wRUHX'])"
            ]
          },
          "metadata": {},
          "execution_count": 99
        }
      ]
    },
    {
      "cell_type": "code",
      "source": [
        "np.max(angles[eval_data_offset:]+1.5*onp.pi)"
      ],
      "metadata": {
        "id": "Clhi6xH2SR4K",
        "colab": {
          "base_uri": "https://localhost:8080/"
        },
        "outputId": "2210c979-aaea-4d04-acc1-38e0dde2d688"
      },
      "execution_count": null,
      "outputs": [
        {
          "output_type": "execute_result",
          "data": {
            "text/plain": [
              "DeviceArray(2.9996955, dtype=float32)"
            ]
          },
          "metadata": {},
          "execution_count": 269
        }
      ]
    },
    {
      "cell_type": "code",
      "source": [
        ""
      ],
      "metadata": {
        "id": "00LGDMKdrdQ8"
      },
      "execution_count": null,
      "outputs": []
    }
  ]
}