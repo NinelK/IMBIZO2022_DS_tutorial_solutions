{
  "nbformat": 4,
  "nbformat_minor": 0,
  "metadata": {
    "colab": {
      "name": "DS tutorial Part 3 SOLUTIONS",
      "provenance": [],
      "authorship_tag": "ABX9TyMbQYqZhpBkrVU88N0m2NB6",
      "include_colab_link": true
    },
    "kernelspec": {
      "name": "python3",
      "display_name": "Python 3"
    },
    "language_info": {
      "name": "python"
    }
  },
  "cells": [
    {
      "cell_type": "markdown",
      "metadata": {
        "id": "view-in-github",
        "colab_type": "text"
      },
      "source": [
        "<a href=\"https://colab.research.google.com/github/NinelK/SA_DS_tutorial/blob/main/DS_tutorial_Part_3_SOLUTIONS.ipynb\" target=\"_parent\"><img src=\"https://colab.research.google.com/assets/colab-badge.svg\" alt=\"Open In Colab\"/></a>"
      ]
    },
    {
      "cell_type": "markdown",
      "source": [
        "# Part 3: Neural population dynamics"
      ],
      "metadata": {
        "id": "DMrgtzJfmhSY"
      }
    },
    {
      "cell_type": "markdown",
      "source": [
        "## Introduction\n",
        "\n",
        "In recent years, progress in recording technologies enabled recordings of 100s to 1000s of neurons simultaneously.\n",
        "\n",
        "At the same time, it was shown that neural population activity often has a low-dimensional structure: a low number of latent dynamical factors can explain a large fraction of neural variability. This finding is called a 'manifold hypothesis', and was proposed in [REF].\n",
        "\n"
      ],
      "metadata": {
        "id": "tsDEYHrjmi7j"
      }
    },
    {
      "cell_type": "markdown",
      "source": [
        "### Principle component analysis (PCA)"
      ],
      "metadata": {
        "id": "qd1VL4awm9mm"
      }
    },
    {
      "cell_type": "code",
      "execution_count": 1,
      "metadata": {
        "id": "lhvIS25ofZzt"
      },
      "outputs": [],
      "source": [
        ""
      ]
    },
    {
      "cell_type": "code",
      "source": [
        ""
      ],
      "metadata": {
        "id": "qTKkKWkKmgQE"
      },
      "execution_count": null,
      "outputs": []
    },
    {
      "cell_type": "markdown",
      "source": [
        "### Independent component analysis (ICA)"
      ],
      "metadata": {
        "id": "h3HR_iLCnCib"
      }
    },
    {
      "cell_type": "markdown",
      "source": [
        "### tSNE"
      ],
      "metadata": {
        "id": "EDA8eO97nIyS"
      }
    },
    {
      "cell_type": "markdown",
      "source": [
        "### jPCA"
      ],
      "metadata": {
        "id": "U2HlyS6vnLL8"
      }
    },
    {
      "cell_type": "markdown",
      "source": [
        "## References\n",
        "\n",
        "1. \n",
        "2.  \n",
        "3. Lebedev, Mikhail A., et al. [Analysis of neuronal ensemble activity reveals the pitfalls and shortcomings of rotation dynamics.](https://www.nature.com/articles/s41598-019-54760-4) Scientific Reports 9.1 (2019): 1-14.\n"
      ],
      "metadata": {
        "id": "CgKHaUYImlR8"
      }
    },
    {
      "cell_type": "code",
      "source": [
        ""
      ],
      "metadata": {
        "id": "JhZNcpMum6uc"
      },
      "execution_count": null,
      "outputs": []
    }
  ]
}