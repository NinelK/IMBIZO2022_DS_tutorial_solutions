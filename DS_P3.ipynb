{
  "nbformat": 4,
  "nbformat_minor": 0,
  "metadata": {
    "colab": {
      "name": "DS_P3",
      "provenance": [],
      "collapsed_sections": [
        "eSqJHPB9fs7o",
        "DeZn2HapYuwV",
        "ATBLgnwbZCoD",
        "Z5wTVXsPR-kC",
        "OeQeYsaEHm7s",
        "kblnhvBQ9GvC"
      ],
      "authorship_tag": "ABX9TyMHsp41KfZQqXH3sgJnCa1b",
      "include_colab_link": true
    },
    "kernelspec": {
      "name": "python3",
      "display_name": "Python 3"
    },
    "language_info": {
      "name": "python"
    },
    "accelerator": "GPU",
    "gpuClass": "standard"
  },
  "cells": [
    {
      "cell_type": "markdown",
      "metadata": {
        "id": "view-in-github",
        "colab_type": "text"
      },
      "source": [
        "<a href=\"https://colab.research.google.com/github/NinelK/SA_DS_tutorial/blob/main/DS_P3.ipynb\" target=\"_parent\"><img src=\"https://colab.research.google.com/assets/colab-badge.svg\" alt=\"Open In Colab\"/></a>"
      ]
    },
    {
      "cell_type": "markdown",
      "source": [
        "# **Tutorial:** Dynamical systems in neuroscience"
      ],
      "metadata": {
        "id": "9S_38ayWhm5W"
      }
    },
    {
      "cell_type": "markdown",
      "source": [
        "### **Step 0**: Setup dependencies and import packages"
      ],
      "metadata": {
        "id": "cJP6vScdX2Qb"
      }
    },
    {
      "cell_type": "code",
      "source": [
        "%%capture\n",
        "! pip install \"dandi>=0.13.0\"\n",
        "! dandi download DANDI:000140/0.220113.0408\n",
        "! pip install git+https://github.com/neurallatents/nlb_tools.git"
      ],
      "metadata": {
        "id": "FlTiaBXJUEhf"
      },
      "execution_count": 1,
      "outputs": []
    },
    {
      "cell_type": "code",
      "source": [
        "import matplotlib.pyplot as plt\n",
        "import numpy as np\n",
        "import pandas as pd\n",
        "from nlb_tools.nwb_interface import NWBDataset\n",
        "\n",
        "#Decoding\n",
        "from tqdm import tqdm\n",
        "import torch\n",
        "import torch.nn as nn\n",
        "from torch.utils.data import DataLoader, TensorDataset\n",
        "from torch import Tensor\n",
        "# from sklearn.model_selection import GridSearchCV\n",
        "# from sklearn.linear_model import Ridge"
      ],
      "metadata": {
        "id": "5bWPrcgUX_IT"
      },
      "execution_count": 22,
      "outputs": []
    },
    {
      "cell_type": "markdown",
      "source": [
        "# Part 3: Latent dynamics models"
      ],
      "metadata": {
        "id": "IcFzSH01fUIg"
      }
    },
    {
      "cell_type": "markdown",
      "source": [
        "In recent years, progress in recording technologies enabled recordings of 100s to 1000s of neurons simultaneously.\n",
        "\n",
        "At the same time, it was shown that neural population activity often has a low-dimensional structure: a low number of latent dynamical factors can explain a large fraction of neural variability. This finding is called a 'manifold hypothesis', and was proposed in [REF].\n",
        "\n"
      ],
      "metadata": {
        "id": "6gsYQuo-gxU7"
      }
    },
    {
      "cell_type": "markdown",
      "source": [
        "WRITE INTRO\n",
        "\n",
        "Define Latent dynamics and Emission model"
      ],
      "metadata": {
        "id": "6XVO4mR3Hw5C"
      }
    },
    {
      "cell_type": "markdown",
      "source": [
        "## Recurrent neural networks (RNNs)\n",
        "\n",
        "Let us first consider the simplest, yet most important example of a non-linear discrete-time latent dynamical system: recurrent neural network. It is a go-to tool for modelling sequences in deep learning.\n",
        "\n",
        "Latent dynamics: $$h_{t} = \\sigma (V h_{t-1} + U x_t + b_h)$$\n",
        "Emission model: $$o_t = W h_t + b_o $$\n",
        "\n",
        "\n",
        "![RNN scheme (Wiki)](https://upload.wikimedia.org/wikipedia/commons/thumb/b/b5/Recurrent_neural_network_unfold.svg/2560px-Recurrent_neural_network_unfold.svg.png)\n"
      ],
      "metadata": {
        "id": "eSqJHPB9fs7o"
      }
    },
    {
      "cell_type": "markdown",
      "source": [
        "## **Exercise 3.1** Implement VanillaRNN\n",
        "\n"
      ],
      "metadata": {
        "id": "37BiKNEoKTzP"
      }
    },
    {
      "cell_type": "code",
      "source": [
        "# class VanillaRNN(nn.Module):\n",
        "#   def __init__(self, output_size, hidden_size, vocab_size, embed_size):\n",
        "#     super(VanillaRNN, self).__init__()\n",
        "#       ####################################################################\n",
        "#     # Fill in missing code below (...),\n",
        "#     # then remove or comment the line below to test your function\n",
        "#     raise NotImplementedError(\"Vanilla RNN\")\n",
        "#     ####################################################################\n",
        "#     self.hidden_size = ...\n",
        "#     self.neuron_embeddings = ...\n",
        "#     self.rnn = ...\n",
        "#     self.fc = ...\n",
        "\n",
        "#     self.hidden_size = hidden_size\n",
        "#     self.word_embeddings = nn.Embedding(vocab_size, embed_size)\n",
        "#     self.rnn = nn.RNN(embed_size, hidden_size, num_layers=2)\n",
        "#     self.fc = nn.Linear(2*hidden_size, output_size)\n",
        "\n",
        "#   def forward(self, inputs):\n",
        "#     input = self.neuron_embeddings(inputs)\n",
        "#     input = input.permute(1, 0, 2)\n",
        "#     h_0 =  Variable(torch.zeros(2, input.size()[1], self.hidden_size)\n",
        "#     output, h_n = self.rnn(input, h_0)\n",
        "#     h_n = h_n.permute(1, 0, 2)\n",
        "#     h_n = h_n.contiguous().view(h_n.size()[0], h_n.size()[1]*h_n.size()[2])\n",
        "#     logits = self.fc(h_n)\n",
        "\n",
        "#     return logits\n",
        "\n",
        "# ## Uncomment to test\n",
        "# # sampleRNN = VanillaRNN(10, 50, 1000, 300)\n",
        "# # print(sampleRNN)"
      ],
      "metadata": {
        "id": "7HQDROd1Ncr9",
        "colab": {
          "base_uri": "https://localhost:8080/",
          "height": 134
        },
        "outputId": "fe9f9914-b26a-452e-8b72-f13685cf4e29"
      },
      "execution_count": 1,
      "outputs": [
        {
          "output_type": "error",
          "ename": "SyntaxError",
          "evalue": "ignored",
          "traceback": [
            "\u001b[0;36m  File \u001b[0;32m\"<ipython-input-1-7e54de01fea8>\"\u001b[0;36m, line \u001b[0;32m23\u001b[0m\n\u001b[0;31m    output, h_n = self.rnn(input, h_0)\u001b[0m\n\u001b[0m         ^\u001b[0m\n\u001b[0;31mSyntaxError\u001b[0m\u001b[0;31m:\u001b[0m invalid syntax\n"
          ]
        }
      ]
    },
    {
      "cell_type": "code",
      "source": [
        "# class VanillaRNN(nn.Module):\n",
        "#   def __init__(self, output_size, hidden_size, vocab_size, embed_size):\n",
        "#     super(VanillaRNN, self).__init__()\n",
        "#       ####################################################################\n",
        "#     # Fill in missing code below (...),\n",
        "#     # then remove or comment the line below to test your function\n",
        "#     raise NotImplementedError(\"Vanilla RNN\")\n",
        "#     ####################################################################\n",
        "#     self.hidden_size = ...\n",
        "#     self.neuron_embeddings = ...\n",
        "#     self.rnn = ...\n",
        "#     self.fc = ...\n",
        "\n",
        "#     self.hidden_size = hidden_size\n",
        "#     self.word_embeddings = nn.Embedding(vocab_size, embed_size)\n",
        "#     self.rnn = nn.RNN(embed_size, hidden_size, num_layers=2)\n",
        "#     self.fc = nn.Linear(2*hidden_size, output_size)\n",
        "\n",
        "#   def forward(self, inputs):\n",
        "#     input = self.neuron_embeddings(inputs)\n",
        "#     input = input.permute(1, 0, 2)\n",
        "#     h_0 =  Variable(torch.zeros(2, input.size()[1], self.hidden_size)\n",
        "#     output, h_n = self.rnn(input, h_0)\n",
        "#     h_n = h_n.permute(1, 0, 2)\n",
        "#     h_n = h_n.contiguous().view(h_n.size()[0], h_n.size()[1]*h_n.size()[2])\n",
        "#     logits = self.fc(h_n)\n",
        "\n",
        "#     return logits\n",
        "\n",
        "# ## Uncomment to test\n",
        "# # sampleRNN = VanillaRNN(10, 50, 1000, 300)\n",
        "# # print(sampleRNN)"
      ],
      "metadata": {
        "id": "9AuUa09KKZ2w"
      },
      "execution_count": null,
      "outputs": []
    },
    {
      "cell_type": "markdown",
      "source": [
        "## **Exercise 3.2** Decoding behavior from sequential neural data using RNN\n",
        "\n",
        "Seq2seq"
      ],
      "metadata": {
        "id": "ZMC3LwFERfJs"
      }
    },
    {
      "cell_type": "markdown",
      "source": [
        "### **Step 1:** Download the dataset. \n",
        "\n",
        "It is a classic monkey reach dataset with obstacles (MC_Maze) fro Churchland et al. ([more info](https://dandiarchive.org/dandiset/000140))"
      ],
      "metadata": {
        "id": "X_M8RYE-UVRG"
      }
    },
    {
      "cell_type": "code",
      "source": [
        "# for simplicity, we are using NLB tools \n",
        "dataset = NWBDataset(\"/content/000140/sub-Jenkins\", \"*train\", \n",
        "                     split_heldout=False)\n",
        "\n",
        "# to view the dataset, uncomment the next line\n",
        "# dataset.data"
      ],
      "metadata": {
        "id": "pRv1Bgq9UnC0"
      },
      "execution_count": 3,
      "outputs": []
    },
    {
      "cell_type": "markdown",
      "source": [
        "### **Step 2**: Select the fields that we are going to use\n"
      ],
      "metadata": {
        "id": "Mol2pboBW5-w"
      }
    },
    {
      "cell_type": "markdown",
      "source": [
        "\n",
        "The continuous data provided with the MC_Maze datasets includes:\n",
        "\n",
        "* `cursor_pos` - x and y position of the cursor controlled by the monkey\n",
        "* `eye_pos` - x and y position of the monkey's point of gaze on the screen, in mm\n",
        "* `hand_pos` - x and y position of the monkey's hand, in mm\n",
        "* `hand_vel` - x and y velocities of the monkey's hand, in mm/s, computed offline using np.gradient\n",
        "* `spikes` - spike times binned at 1 ms\n",
        "\n",
        "Here we will try picking a single aspect of behavior (e.g. `hand_vel`) and decoding it from the spike data `spikes` using an RNN decoder."
      ],
      "metadata": {
        "id": "ZhEKJJJ5y8cc"
      }
    },
    {
      "cell_type": "code",
      "source": [
        "input_key = 'spikes'\n",
        "output_key = 'hand_vel'"
      ],
      "metadata": {
        "id": "VXOMjRZaXXn-"
      },
      "execution_count": 4,
      "outputs": []
    },
    {
      "cell_type": "markdown",
      "source": [
        "### **Step 3:** Trialize and visualize the data\n",
        "Surprisingly autonomous -> movement onset"
      ],
      "metadata": {
        "id": "BhsJ5pjmY6r-"
      }
    },
    {
      "cell_type": "code",
      "source": [
        "# Extract neural data and lagged hand velocity\n",
        "trial_length = 500\n",
        "trial_data = dataset.make_trial_data(align_field='move_onset_time', \n",
        "                                     align_range=(-130, -130+trial_length))\n",
        "lagged_trial_data = dataset.make_trial_data(align_field='move_onset_time', \n",
        "                                      align_range=(0, 0+trial_length))\n",
        "\n",
        "# trial_data['trial_id'].to_numpy().reshape((-1,trial_length))\n",
        "inputs = trial_data[input_key].to_numpy() \n",
        "outputs = lagged_trial_data[output_key].to_numpy()\n",
        "\n",
        "input_size = inputs.shape[-1]\n",
        "output_size = outputs.shape[-1]\n",
        "\n",
        "print(input_size,output_size)\n",
        "\n",
        "A = np.random.rand(input_size,output_size)\n",
        "print(A.shape,outputs.shape)\n",
        "# outputs = outputs@A\n",
        "\n",
        "inputs = inputs.reshape((-1,trial_length,input_size)) # [trials x time x inputs]\n",
        "outputs = outputs.reshape((-1,trial_length,output_size)) # [trials x time x outputs]\n",
        "\n",
        "\n",
        "outputs = np.cumsum(inputs,axis=1) @ A\n",
        "print(inputs.shape,outputs.shape)"
      ],
      "metadata": {
        "colab": {
          "base_uri": "https://localhost:8080/"
        },
        "id": "HVNC6DrGW08_",
        "outputId": "597cbb18-571b-4955-c1fd-c5ae4f960841"
      },
      "execution_count": 150,
      "outputs": [
        {
          "output_type": "stream",
          "name": "stderr",
          "text": [
            "WARNING:nlb_tools.nwb_interface:NaNs found in `self.data`. Dropping 16.00% of points to remove NaNs from `trial_data`.\n",
            "WARNING:nlb_tools.nwb_interface:NaNs found in `self.data`. Dropping 10.00% of points to remove NaNs from `trial_data`.\n"
          ]
        },
        {
          "output_type": "stream",
          "name": "stdout",
          "text": [
            "142 2\n",
            "(142, 2) (45000, 2)\n",
            "(84, 500, 142) (84, 500, 2)\n"
          ]
        }
      ]
    },
    {
      "cell_type": "code",
      "source": [
        "# plt.plot(*outputs[2].T)"
      ],
      "metadata": {
        "id": "4oKSz_d4G0Bz"
      },
      "execution_count": 136,
      "outputs": []
    },
    {
      "cell_type": "code",
      "source": [
        "## Plot trial-averaged reaches\n",
        "\n",
        "# Find unique conditions\n",
        "conds = dataset.trial_info.set_index(['trial_type', 'trial_version']).index.unique().tolist()\n",
        "\n",
        "# Initialize plot\n",
        "fig = plt.figure(figsize=(6, 6))\n",
        "ax = fig.add_axes([0.1, 0.1, 0.8, 0.8])\n",
        "\n",
        "# Loop over conditions and compute average trajectory\n",
        "for cond in conds:\n",
        "    # Find trials in condition\n",
        "    mask = np.all(dataset.trial_info[['trial_type', 'trial_version']] == cond, axis=1)\n",
        "    # Extract trial data\n",
        "    trial_data = dataset.make_trial_data(align_field='move_onset_time', align_range=(-50, 450), ignored_trials=(~mask))\n",
        "    # Average hand position across trials\n",
        "    traj = trial_data.groupby('align_time')[[('hand_pos', 'x'), ('hand_pos', 'y')]].mean().to_numpy()\n",
        "    # Determine reach angle for color\n",
        "    active_target = dataset.trial_info[mask].target_pos.iloc[0][dataset.trial_info[mask].active_target.iloc[0]]\n",
        "    reach_angle = np.arctan2(*active_target[::-1])\n",
        "    # Plot reach\n",
        "    ax.plot(traj[:, 0], traj[:, 1], linewidth=0.7, color=plt.cm.hsv(reach_angle / (2*np.pi) + 0.5))\n",
        "\n",
        "plt.axis('off')\n",
        "plt.show()"
      ],
      "metadata": {
        "colab": {
          "base_uri": "https://localhost:8080/",
          "height": 376
        },
        "id": "nodVdBF5Xl8N",
        "outputId": "0ab99f6d-be5d-4829-a9c9-d620cb99b007"
      },
      "execution_count": 131,
      "outputs": [
        {
          "output_type": "display_data",
          "data": {
            "text/plain": [
              "<Figure size 432x432 with 1 Axes>"
            ],
            "image/png": "[encoded data removed]"
          },
          "metadata": {
            "needs_background": "light"
          }
        }
      ]
    },
    {
      "cell_type": "markdown",
      "source": [
        "### **Step 4:** Split dataset into Train and Validation\n"
      ],
      "metadata": {
        "id": "kr0IhiSRyb3o"
      }
    },
    {
      "cell_type": "code",
      "source": [
        "trial_num = inputs.shape[0]\n",
        "assert outputs.shape[0] == trial_num, \\\n",
        "        'Numbers of trials in inputs and outputs do not match'\n",
        "perc_train, perc_valid = 80,20 \n",
        "assert perc_train + perc_valid == 100, 'Train + Valid != 100%'\n",
        "n_train = np.round(trial_num/100*perc_train).astype(int)\n",
        "n_valid = np.round(trial_num/100*perc_valid).astype(int)\n",
        "\n",
        "np.random.seed(42)\n",
        "idxs = np.random.permutation(trial_num)\n",
        "train_idxs, valid_idxs = idxs[:n_train], idxs[n_train:]\n",
        "train_input,  valid_input  = Tensor(inputs[train_idxs]),  Tensor(inputs[valid_idxs])\n",
        "train_output, valid_output = Tensor(outputs[train_idxs]), Tensor(outputs[valid_idxs]) "
      ],
      "metadata": {
        "id": "TobgmT1xyhAc"
      },
      "execution_count": 153,
      "outputs": []
    },
    {
      "cell_type": "code",
      "source": [
        "import h5py\n",
        "\n",
        "data = h5py.File(f'neural_BLAD.h5', 'r')\n",
        "train_input = Tensor(data['train_data'][:]) #(num_trials, len_trial, num_neurons)\n",
        "valid_input = Tensor(data['valid_data'][:])\n",
        "train_output = Tensor(data['train_full_behavior'][:]) #(num_trials, len_trial, num_neurons)\n",
        "valid_output = Tensor(data['valid_full_behavior'][:])\n",
        "\n",
        "input_size = train_input.shape[-1]\n",
        "output_size = train_output.shape[-1]\n",
        "\n",
        "# print(data.keys())"
      ],
      "metadata": {
        "id": "42oCWj0KPeWV"
      },
      "execution_count": 204,
      "outputs": []
    },
    {
      "cell_type": "markdown",
      "source": [
        "### **Step 4:** Decode hand kinematics"
      ],
      "metadata": {
        "id": "DeZn2HapYuwV"
      }
    },
    {
      "cell_type": "markdown",
      "source": [
        "### *Think!* Do you know the difference between *dynamics* and *kinematics*?\n",
        "\n",
        "Answer: WRITE"
      ],
      "metadata": {
        "id": "ATBLgnwbZCoD"
      }
    },
    {
      "cell_type": "markdown",
      "source": [
        "### **Expercise 3.2A:** Construct an RNN decoder class"
      ],
      "metadata": {
        "id": "Me6W1pVubuQ_"
      }
    },
    {
      "cell_type": "code",
      "source": [
        "class RNN_Decoder(nn.Module):\n",
        "  '''\n",
        "  This RNN Decoder should decode some behavioral variables\n",
        "  from spike trains is a sequence-to-sequence manner\n",
        "  Inputs\n",
        "  ------\n",
        "    spikes: torch.Tensor [trials x time x neurons]\n",
        "  Output\n",
        "  ------\n",
        "    behaviors: torch.Tensor [trials x time x behavioral dimensions]\n",
        "  '''\n",
        "  def __init__(self, input_size, output_size, rnn_units = 256,\n",
        "               hidden_units=1024, \n",
        "               num_layers=1, dropout_rate=0.05):\n",
        "    super(RNN_Decoder, self).__init__()\n",
        "      ####################################################################\n",
        "    # Fill in missing code below (...),\n",
        "    # then remove or comment the line below to test your function\n",
        "    # raise NotImplementedError(\"RNN Decoder\")\n",
        "    ####################################################################\n",
        "    self.rnn_units = rnn_units # 2REMOVE\n",
        "    self.num_layers = num_layers\n",
        "    self.rnn = nn.LSTM(input_size, rnn_units, num_layers=num_layers, \n",
        "                      batch_first=True, bidirectional=True) # 2REMOVE\n",
        "    self.readout = nn.Sequential(\n",
        "                      # nn.BatchNorm1d(rnn_units),\n",
        "                      nn.Linear(rnn_units, hidden_units), # 2REMOVE sizes\n",
        "                      nn.ReLU(),\n",
        "                      # nn.BatchNorm1d(hidden_units),\n",
        "                      nn.Dropout(p=dropout_rate), # 2REMOVE\n",
        "                      nn.Linear(hidden_units, output_size,bias=False) # 2REMOVE sizes\n",
        "                    )\n",
        "\n",
        "  def forward(self, inputs):\n",
        "    h_t, h_n = self.rnn(inputs)\n",
        "    h_uni = (h_t[:, :, :self.rnn_units] + h_t[:, :, self.rnn_units:])/2\n",
        "    # print(inputs.shape,h_uni.shape)\n",
        "    output = self.readout(h_uni)\n",
        "    return output#.reshape((*inputs.shape[:2],-1))\n",
        "\n",
        "# ## Uncomment to test\n",
        "# decoder = RNN_Decoder(10,10) # WRITE UNIT TESTS (dr=1, dr=0)\n",
        "# print(decoder)\n",
        "\n",
        "decoder = RNN_Decoder(input_size,output_size)\n",
        "print(decoder)\n",
        "# assert decoder(torch.Tensor(input)).shape == output.shape, \\\n",
        "#         \"RNN output shape does not match the desired output shape\"\n",
        "\n",
        "# Hidden HINT:\n",
        "# 1. Check the required dimensions of the data. \n",
        "# How to make nn.RNN follow the same convention?"
      ],
      "metadata": {
        "colab": {
          "base_uri": "https://localhost:8080/"
        },
        "id": "-PgO4Y2Gbtho",
        "outputId": "b93e5b56-6b05-435d-f6b1-8a28a70171e3"
      },
      "execution_count": 236,
      "outputs": [
        {
          "output_type": "stream",
          "name": "stdout",
          "text": [
            "RNN_Decoder(\n",
            "  (rnn): LSTM(207, 256, batch_first=True, bidirectional=True)\n",
            "  (readout): Sequential(\n",
            "    (0): Linear(in_features=256, out_features=1024, bias=True)\n",
            "    (1): ReLU()\n",
            "    (2): Dropout(p=0.05, inplace=False)\n",
            "    (3): Linear(in_features=1024, out_features=2, bias=False)\n",
            "  )\n",
            ")\n"
          ]
        }
      ]
    },
    {
      "cell_type": "code",
      "source": [
        "# train_output.dtype\n",
        "# help(nn.MSELoss)\n",
        "# train_output[:]\n",
        "\n"
      ],
      "metadata": {
        "id": "sF4fB5h9Cfgb"
      },
      "execution_count": 220,
      "outputs": []
    },
    {
      "cell_type": "code",
      "source": [
        "optimizer = torch.optim.Adam(decoder.parameters(), lr=0.0001, weight_decay=1e-4)\n",
        "loss = nn.MSELoss()\n",
        "\n",
        "batch = 100\n",
        "DEVICE = torch.device('cuda' if torch.cuda.is_available() else 'cpu')\n",
        "train_dataset = TensorDataset(train_input.to(DEVICE).float(), \n",
        "                              train_output.to(DEVICE).float())\n",
        "valid_dataset = TensorDataset(valid_input.to(DEVICE).float(), \n",
        "                              valid_output.to(DEVICE).float())\n",
        "train_dataloader = DataLoader(train_dataset, batch_size=batch, shuffle=True)\n",
        "valid_dataloader = DataLoader(valid_dataset, batch_size=batch, shuffle=False)\n",
        "\n",
        "decoder = RNN_Decoder(input_size,output_size).to(DEVICE)\n",
        "\n",
        "max_epoch = 1000\n",
        "train_losses, valid_losses = [], []\n",
        "for epoch in tqdm(range(max_epoch)):\n",
        "  # Train\n",
        "  # decoder.train()\n",
        "  train_loss, valid_loss = [], []\n",
        "  for input, output in train_dataloader:\n",
        "    optimizer.zero_grad()\n",
        "    pred_output = decoder(input)\n",
        "    L = loss(pred_output,output)\n",
        "    L.backward()\n",
        "    optimizer.step()\n",
        "\n",
        "  train_loss.append(L.detach().cpu())\n",
        "  # Validate\n",
        "  # decoder.eval()\n",
        "  # for input, output in valid_dataloader:\n",
        "  #   pred_output = decoder(input)\n",
        "  #   L = loss(pred_output,output)\n",
        "  #   valid_loss.append(L.detach().cpu())\n",
        "  \n",
        "  train_losses.append(np.mean(train_loss))\n",
        "  # valid_losses.append(np.mean(valid_loss))\n",
        "\n",
        "  if epoch % 100 ==0:\n",
        "    print(\"Train loss: \",train_losses[-1])#,\", valid loss: \",valid_losses[-1])\n",
        "\n",
        "plt.figure()\n",
        "plt.plot(train_losses)\n",
        "plt.plot(valid_losses)\n",
        "plt.show()"
      ],
      "metadata": {
        "colab": {
          "base_uri": "https://localhost:8080/",
          "height": 242
        },
        "id": "pTNSNQJ2onYD",
        "outputId": "3df86350-af9f-4179-e770-9ca7a243eb83"
      },
      "execution_count": 1,
      "outputs": [
        {
          "output_type": "error",
          "ename": "NameError",
          "evalue": "ignored",
          "traceback": [
            "\u001b[0;31m---------------------------------------------------------------------------\u001b[0m",
            "\u001b[0;31mNameError\u001b[0m                                 Traceback (most recent call last)",
            "\u001b[0;32m<ipython-input-1-88757375b8ec>\u001b[0m in \u001b[0;36m<module>\u001b[0;34m()\u001b[0m\n\u001b[0;32m----> 1\u001b[0;31m \u001b[0moptimizer\u001b[0m \u001b[0;34m=\u001b[0m \u001b[0mtorch\u001b[0m\u001b[0;34m.\u001b[0m\u001b[0moptim\u001b[0m\u001b[0;34m.\u001b[0m\u001b[0mAdam\u001b[0m\u001b[0;34m(\u001b[0m\u001b[0mdecoder\u001b[0m\u001b[0;34m.\u001b[0m\u001b[0mparameters\u001b[0m\u001b[0;34m(\u001b[0m\u001b[0;34m)\u001b[0m\u001b[0;34m,\u001b[0m \u001b[0mlr\u001b[0m\u001b[0;34m=\u001b[0m\u001b[0;36m0.0001\u001b[0m\u001b[0;34m,\u001b[0m \u001b[0mweight_decay\u001b[0m\u001b[0;34m=\u001b[0m\u001b[0;36m1e-4\u001b[0m\u001b[0;34m)\u001b[0m\u001b[0;34m\u001b[0m\u001b[0;34m\u001b[0m\u001b[0m\n\u001b[0m\u001b[1;32m      2\u001b[0m \u001b[0mloss\u001b[0m \u001b[0;34m=\u001b[0m \u001b[0mnn\u001b[0m\u001b[0;34m.\u001b[0m\u001b[0mMSELoss\u001b[0m\u001b[0;34m(\u001b[0m\u001b[0;34m)\u001b[0m\u001b[0;34m\u001b[0m\u001b[0;34m\u001b[0m\u001b[0m\n\u001b[1;32m      3\u001b[0m \u001b[0;34m\u001b[0m\u001b[0m\n\u001b[1;32m      4\u001b[0m \u001b[0mbatch\u001b[0m \u001b[0;34m=\u001b[0m \u001b[0;36m100\u001b[0m\u001b[0;34m\u001b[0m\u001b[0;34m\u001b[0m\u001b[0m\n\u001b[1;32m      5\u001b[0m \u001b[0mDEVICE\u001b[0m \u001b[0;34m=\u001b[0m \u001b[0mtorch\u001b[0m\u001b[0;34m.\u001b[0m\u001b[0mdevice\u001b[0m\u001b[0;34m(\u001b[0m\u001b[0;34m'cuda'\u001b[0m \u001b[0;32mif\u001b[0m \u001b[0mtorch\u001b[0m\u001b[0;34m.\u001b[0m\u001b[0mcuda\u001b[0m\u001b[0;34m.\u001b[0m\u001b[0mis_available\u001b[0m\u001b[0;34m(\u001b[0m\u001b[0;34m)\u001b[0m \u001b[0;32melse\u001b[0m \u001b[0;34m'cpu'\u001b[0m\u001b[0;34m)\u001b[0m\u001b[0;34m\u001b[0m\u001b[0;34m\u001b[0m\u001b[0m\n",
            "\u001b[0;31mNameError\u001b[0m: name 'torch' is not defined"
          ]
        }
      ]
    },
    {
      "cell_type": "code",
      "source": [
        "pred_vel = decoder(Tensor(valid_input).to(DEVICE)).detach().cpu().numpy()\n",
        "\n",
        "# pred_vel.shape\n",
        "\n",
        "plt.plot(*valid_output[0].T)\n",
        "plt.plot(*pred_vel[0].T)"
      ],
      "metadata": {
        "colab": {
          "base_uri": "https://localhost:8080/",
          "height": 301
        },
        "id": "zCVa0yrjQgM2",
        "outputId": "e12e48a1-5682-4281-8ee9-27a3a1b22271"
      },
      "execution_count": 234,
      "outputs": [
        {
          "output_type": "stream",
          "name": "stdout",
          "text": [
            "torch.Size([74, 95, 207]) torch.Size([74, 95, 256])\n"
          ]
        },
        {
          "output_type": "execute_result",
          "data": {
            "text/plain": [
              "[<matplotlib.lines.Line2D at 0x7f41c2f7e410>]"
            ]
          },
          "metadata": {},
          "execution_count": 234
        },
        {
          "output_type": "display_data",
          "data": {
            "text/plain": [
              "<Figure size 432x288 with 1 Axes>"
            ],
            "image/png": "[encoded data removed]"
          },
          "metadata": {
            "needs_background": "light"
          }
        }
      ]
    },
    {
      "cell_type": "code",
      "source": [
        "## Kinematic decoding\n",
        "\n",
        "pred_vel = decoder(Tensor(inputs).to(DEVICE)).detach().cpu().numpy()\n",
        "\n",
        "# Fit and evaluate decoder\n",
        "# gscv = GridSearchCV(Ridge(), {'alpha': np.logspace(-4, 0, 5)})\n",
        "# gscv.fit(rates, vel)\n",
        "# pred_vel = gscv.predict(rates)\n",
        "# print(f\"Decoding R2: {gscv.best_score_}\")\n",
        "\n",
        "# Merge predictions back to continuous data\n",
        "print(pred_vel.shape,outputs.shape)\n",
        "pred_vel_df = pd.DataFrame(pred_vel.reshape((-1,output_size)), \n",
        "                           index=lagged_trial_data.clock_time, \n",
        "                           columns=pd.MultiIndex.from_tuples(\n",
        "                               [('pred_vel', 'x'), ('pred_vel', 'y')]))\n",
        "dataset.data = pd.concat([dataset.data, pred_vel_df], axis=1)"
      ],
      "metadata": {
        "colab": {
          "base_uri": "https://localhost:8080/",
          "height": 410
        },
        "id": "PNZGGA8eZQxh",
        "outputId": "ebdfc695-a39f-4828-e80c-09ecd38fbe16"
      },
      "execution_count": 82,
      "outputs": [
        {
          "output_type": "error",
          "ename": "RuntimeError",
          "evalue": "ignored",
          "traceback": [
            "\u001b[0;31m---------------------------------------------------------------------------\u001b[0m",
            "\u001b[0;31mRuntimeError\u001b[0m                              Traceback (most recent call last)",
            "\u001b[0;32m<ipython-input-82-f1078fc1b9b7>\u001b[0m in \u001b[0;36m<module>\u001b[0;34m()\u001b[0m\n\u001b[1;32m      1\u001b[0m \u001b[0;31m## Kinematic decoding\u001b[0m\u001b[0;34m\u001b[0m\u001b[0;34m\u001b[0m\u001b[0;34m\u001b[0m\u001b[0m\n\u001b[1;32m      2\u001b[0m \u001b[0;34m\u001b[0m\u001b[0m\n\u001b[0;32m----> 3\u001b[0;31m \u001b[0mpred_vel\u001b[0m \u001b[0;34m=\u001b[0m \u001b[0mdecoder\u001b[0m\u001b[0;34m(\u001b[0m\u001b[0mTensor\u001b[0m\u001b[0;34m(\u001b[0m\u001b[0minputs\u001b[0m\u001b[0;34m)\u001b[0m\u001b[0;34m.\u001b[0m\u001b[0mto\u001b[0m\u001b[0;34m(\u001b[0m\u001b[0mDEVICE\u001b[0m\u001b[0;34m)\u001b[0m\u001b[0;34m)\u001b[0m\u001b[0;34m.\u001b[0m\u001b[0mdetach\u001b[0m\u001b[0;34m(\u001b[0m\u001b[0;34m)\u001b[0m\u001b[0;34m.\u001b[0m\u001b[0mcpu\u001b[0m\u001b[0;34m(\u001b[0m\u001b[0;34m)\u001b[0m\u001b[0;34m.\u001b[0m\u001b[0mnumpy\u001b[0m\u001b[0;34m(\u001b[0m\u001b[0;34m)\u001b[0m\u001b[0;34m\u001b[0m\u001b[0;34m\u001b[0m\u001b[0m\n\u001b[0m\u001b[1;32m      4\u001b[0m \u001b[0;34m\u001b[0m\u001b[0m\n\u001b[1;32m      5\u001b[0m \u001b[0;31m# Fit and evaluate decoder\u001b[0m\u001b[0;34m\u001b[0m\u001b[0;34m\u001b[0m\u001b[0;34m\u001b[0m\u001b[0m\n",
            "\u001b[0;32m/usr/local/lib/python3.7/dist-packages/torch/nn/modules/module.py\u001b[0m in \u001b[0;36m_call_impl\u001b[0;34m(self, *input, **kwargs)\u001b[0m\n\u001b[1;32m   1128\u001b[0m         if not (self._backward_hooks or self._forward_hooks or self._forward_pre_hooks or _global_backward_hooks\n\u001b[1;32m   1129\u001b[0m                 or _global_forward_hooks or _global_forward_pre_hooks):\n\u001b[0;32m-> 1130\u001b[0;31m             \u001b[0;32mreturn\u001b[0m \u001b[0mforward_call\u001b[0m\u001b[0;34m(\u001b[0m\u001b[0;34m*\u001b[0m\u001b[0minput\u001b[0m\u001b[0;34m,\u001b[0m \u001b[0;34m**\u001b[0m\u001b[0mkwargs\u001b[0m\u001b[0;34m)\u001b[0m\u001b[0;34m\u001b[0m\u001b[0;34m\u001b[0m\u001b[0m\n\u001b[0m\u001b[1;32m   1131\u001b[0m         \u001b[0;31m# Do not call functions when jit is used\u001b[0m\u001b[0;34m\u001b[0m\u001b[0;34m\u001b[0m\u001b[0;34m\u001b[0m\u001b[0m\n\u001b[1;32m   1132\u001b[0m         \u001b[0mfull_backward_hooks\u001b[0m\u001b[0;34m,\u001b[0m \u001b[0mnon_full_backward_hooks\u001b[0m \u001b[0;34m=\u001b[0m \u001b[0;34m[\u001b[0m\u001b[0;34m]\u001b[0m\u001b[0;34m,\u001b[0m \u001b[0;34m[\u001b[0m\u001b[0;34m]\u001b[0m\u001b[0;34m\u001b[0m\u001b[0;34m\u001b[0m\u001b[0m\n",
            "\u001b[0;32m<ipython-input-80-8b6f59f2b0b5>\u001b[0m in \u001b[0;36mforward\u001b[0;34m(self, inputs)\u001b[0m\n\u001b[1;32m     36\u001b[0m         torch.zeros(self. num_layers, inputs.size()[0], self.rnn_units))\\\n\u001b[1;32m     37\u001b[0m         \u001b[0;34m.\u001b[0m\u001b[0mto\u001b[0m\u001b[0;34m(\u001b[0m\u001b[0minputs\u001b[0m\u001b[0;34m.\u001b[0m\u001b[0mdevice\u001b[0m\u001b[0;34m)\u001b[0m\u001b[0;34m\u001b[0m\u001b[0;34m\u001b[0m\u001b[0m\n\u001b[0;32m---> 38\u001b[0;31m     \u001b[0mh_t\u001b[0m\u001b[0;34m,\u001b[0m \u001b[0mh_n\u001b[0m \u001b[0;34m=\u001b[0m \u001b[0mself\u001b[0m\u001b[0;34m.\u001b[0m\u001b[0mrnn\u001b[0m\u001b[0;34m(\u001b[0m\u001b[0minputs\u001b[0m\u001b[0;34m,\u001b[0m \u001b[0mh_0\u001b[0m\u001b[0;34m)\u001b[0m\u001b[0;34m\u001b[0m\u001b[0;34m\u001b[0m\u001b[0m\n\u001b[0m\u001b[1;32m     39\u001b[0m     \u001b[0;31m# print(h_t.shape)\u001b[0m\u001b[0;34m\u001b[0m\u001b[0;34m\u001b[0m\u001b[0;34m\u001b[0m\u001b[0m\n\u001b[1;32m     40\u001b[0m     \u001b[0moutput\u001b[0m \u001b[0;34m=\u001b[0m \u001b[0mself\u001b[0m\u001b[0;34m.\u001b[0m\u001b[0mreadout\u001b[0m\u001b[0;34m(\u001b[0m\u001b[0mh_t\u001b[0m\u001b[0;34m)\u001b[0m\u001b[0;34m\u001b[0m\u001b[0;34m\u001b[0m\u001b[0m\n",
            "\u001b[0;32m/usr/local/lib/python3.7/dist-packages/torch/nn/modules/module.py\u001b[0m in \u001b[0;36m_call_impl\u001b[0;34m(self, *input, **kwargs)\u001b[0m\n\u001b[1;32m   1128\u001b[0m         if not (self._backward_hooks or self._forward_hooks or self._forward_pre_hooks or _global_backward_hooks\n\u001b[1;32m   1129\u001b[0m                 or _global_forward_hooks or _global_forward_pre_hooks):\n\u001b[0;32m-> 1130\u001b[0;31m             \u001b[0;32mreturn\u001b[0m \u001b[0mforward_call\u001b[0m\u001b[0;34m(\u001b[0m\u001b[0;34m*\u001b[0m\u001b[0minput\u001b[0m\u001b[0;34m,\u001b[0m \u001b[0;34m**\u001b[0m\u001b[0mkwargs\u001b[0m\u001b[0;34m)\u001b[0m\u001b[0;34m\u001b[0m\u001b[0;34m\u001b[0m\u001b[0m\n\u001b[0m\u001b[1;32m   1131\u001b[0m         \u001b[0;31m# Do not call functions when jit is used\u001b[0m\u001b[0;34m\u001b[0m\u001b[0;34m\u001b[0m\u001b[0;34m\u001b[0m\u001b[0m\n\u001b[1;32m   1132\u001b[0m         \u001b[0mfull_backward_hooks\u001b[0m\u001b[0;34m,\u001b[0m \u001b[0mnon_full_backward_hooks\u001b[0m \u001b[0;34m=\u001b[0m \u001b[0;34m[\u001b[0m\u001b[0;34m]\u001b[0m\u001b[0;34m,\u001b[0m \u001b[0;34m[\u001b[0m\u001b[0;34m]\u001b[0m\u001b[0;34m\u001b[0m\u001b[0;34m\u001b[0m\u001b[0m\n",
            "\u001b[0;32m/usr/local/lib/python3.7/dist-packages/torch/nn/modules/rnn.py\u001b[0m in \u001b[0;36mforward\u001b[0;34m(self, input, hx)\u001b[0m\n\u001b[1;32m    465\u001b[0m \u001b[0;34m\u001b[0m\u001b[0m\n\u001b[1;32m    466\u001b[0m         \u001b[0;32massert\u001b[0m \u001b[0mhx\u001b[0m \u001b[0;32mis\u001b[0m \u001b[0;32mnot\u001b[0m \u001b[0;32mNone\u001b[0m\u001b[0;34m\u001b[0m\u001b[0;34m\u001b[0m\u001b[0m\n\u001b[0;32m--> 467\u001b[0;31m         \u001b[0mself\u001b[0m\u001b[0;34m.\u001b[0m\u001b[0mcheck_forward_args\u001b[0m\u001b[0;34m(\u001b[0m\u001b[0minput\u001b[0m\u001b[0;34m,\u001b[0m \u001b[0mhx\u001b[0m\u001b[0;34m,\u001b[0m \u001b[0mbatch_sizes\u001b[0m\u001b[0;34m)\u001b[0m\u001b[0;34m\u001b[0m\u001b[0;34m\u001b[0m\u001b[0m\n\u001b[0m\u001b[1;32m    468\u001b[0m         \u001b[0;32massert\u001b[0m \u001b[0mself\u001b[0m\u001b[0;34m.\u001b[0m\u001b[0mmode\u001b[0m \u001b[0;34m==\u001b[0m \u001b[0;34m'RNN_TANH'\u001b[0m \u001b[0;32mor\u001b[0m \u001b[0mself\u001b[0m\u001b[0;34m.\u001b[0m\u001b[0mmode\u001b[0m \u001b[0;34m==\u001b[0m \u001b[0;34m'RNN_RELU'\u001b[0m\u001b[0;34m\u001b[0m\u001b[0;34m\u001b[0m\u001b[0m\n\u001b[1;32m    469\u001b[0m         \u001b[0;32mif\u001b[0m \u001b[0mbatch_sizes\u001b[0m \u001b[0;32mis\u001b[0m \u001b[0;32mNone\u001b[0m\u001b[0;34m:\u001b[0m\u001b[0;34m\u001b[0m\u001b[0;34m\u001b[0m\u001b[0m\n",
            "\u001b[0;32m/usr/local/lib/python3.7/dist-packages/torch/nn/modules/rnn.py\u001b[0m in \u001b[0;36mcheck_forward_args\u001b[0;34m(self, input, hidden, batch_sizes)\u001b[0m\n\u001b[1;32m    230\u001b[0m         \u001b[0mexpected_hidden_size\u001b[0m \u001b[0;34m=\u001b[0m \u001b[0mself\u001b[0m\u001b[0;34m.\u001b[0m\u001b[0mget_expected_hidden_size\u001b[0m\u001b[0;34m(\u001b[0m\u001b[0minput\u001b[0m\u001b[0;34m,\u001b[0m \u001b[0mbatch_sizes\u001b[0m\u001b[0;34m)\u001b[0m\u001b[0;34m\u001b[0m\u001b[0;34m\u001b[0m\u001b[0m\n\u001b[1;32m    231\u001b[0m \u001b[0;34m\u001b[0m\u001b[0m\n\u001b[0;32m--> 232\u001b[0;31m         \u001b[0mself\u001b[0m\u001b[0;34m.\u001b[0m\u001b[0mcheck_hidden_size\u001b[0m\u001b[0;34m(\u001b[0m\u001b[0mhidden\u001b[0m\u001b[0;34m,\u001b[0m \u001b[0mexpected_hidden_size\u001b[0m\u001b[0;34m)\u001b[0m\u001b[0;34m\u001b[0m\u001b[0;34m\u001b[0m\u001b[0m\n\u001b[0m\u001b[1;32m    233\u001b[0m \u001b[0;34m\u001b[0m\u001b[0m\n\u001b[1;32m    234\u001b[0m     \u001b[0;32mdef\u001b[0m \u001b[0mpermute_hidden\u001b[0m\u001b[0;34m(\u001b[0m\u001b[0mself\u001b[0m\u001b[0;34m,\u001b[0m \u001b[0mhx\u001b[0m\u001b[0;34m:\u001b[0m \u001b[0mTensor\u001b[0m\u001b[0;34m,\u001b[0m \u001b[0mpermutation\u001b[0m\u001b[0;34m:\u001b[0m \u001b[0mOptional\u001b[0m\u001b[0;34m[\u001b[0m\u001b[0mTensor\u001b[0m\u001b[0;34m]\u001b[0m\u001b[0;34m)\u001b[0m\u001b[0;34m:\u001b[0m\u001b[0;34m\u001b[0m\u001b[0;34m\u001b[0m\u001b[0m\n",
            "\u001b[0;32m/usr/local/lib/python3.7/dist-packages/torch/nn/modules/rnn.py\u001b[0m in \u001b[0;36mcheck_hidden_size\u001b[0;34m(self, hx, expected_hidden_size, msg)\u001b[0m\n\u001b[1;32m    224\u001b[0m                           msg: str = 'Expected hidden size {}, got {}') -> None:\n\u001b[1;32m    225\u001b[0m         \u001b[0;32mif\u001b[0m \u001b[0mhx\u001b[0m\u001b[0;34m.\u001b[0m\u001b[0msize\u001b[0m\u001b[0;34m(\u001b[0m\u001b[0;34m)\u001b[0m \u001b[0;34m!=\u001b[0m \u001b[0mexpected_hidden_size\u001b[0m\u001b[0;34m:\u001b[0m\u001b[0;34m\u001b[0m\u001b[0;34m\u001b[0m\u001b[0m\n\u001b[0;32m--> 226\u001b[0;31m             \u001b[0;32mraise\u001b[0m \u001b[0mRuntimeError\u001b[0m\u001b[0;34m(\u001b[0m\u001b[0mmsg\u001b[0m\u001b[0;34m.\u001b[0m\u001b[0mformat\u001b[0m\u001b[0;34m(\u001b[0m\u001b[0mexpected_hidden_size\u001b[0m\u001b[0;34m,\u001b[0m \u001b[0mlist\u001b[0m\u001b[0;34m(\u001b[0m\u001b[0mhx\u001b[0m\u001b[0;34m.\u001b[0m\u001b[0msize\u001b[0m\u001b[0;34m(\u001b[0m\u001b[0;34m)\u001b[0m\u001b[0;34m)\u001b[0m\u001b[0;34m)\u001b[0m\u001b[0;34m)\u001b[0m\u001b[0;34m\u001b[0m\u001b[0;34m\u001b[0m\u001b[0m\n\u001b[0m\u001b[1;32m    227\u001b[0m \u001b[0;34m\u001b[0m\u001b[0m\n\u001b[1;32m    228\u001b[0m     \u001b[0;32mdef\u001b[0m \u001b[0mcheck_forward_args\u001b[0m\u001b[0;34m(\u001b[0m\u001b[0mself\u001b[0m\u001b[0;34m,\u001b[0m \u001b[0minput\u001b[0m\u001b[0;34m:\u001b[0m \u001b[0mTensor\u001b[0m\u001b[0;34m,\u001b[0m \u001b[0mhidden\u001b[0m\u001b[0;34m:\u001b[0m \u001b[0mTensor\u001b[0m\u001b[0;34m,\u001b[0m \u001b[0mbatch_sizes\u001b[0m\u001b[0;34m:\u001b[0m \u001b[0mOptional\u001b[0m\u001b[0;34m[\u001b[0m\u001b[0mTensor\u001b[0m\u001b[0;34m]\u001b[0m\u001b[0;34m)\u001b[0m\u001b[0;34m:\u001b[0m\u001b[0;34m\u001b[0m\u001b[0;34m\u001b[0m\u001b[0m\n",
            "\u001b[0;31mRuntimeError\u001b[0m: Expected hidden size (2, 84, 256), got [1, 84, 256]"
          ]
        }
      ]
    },
    {
      "cell_type": "code",
      "source": [
        "del(dataset.data['pred_vel'])"
      ],
      "metadata": {
        "colab": {
          "base_uri": "https://localhost:8080/",
          "height": 394
        },
        "id": "pJtZQOEUbpoH",
        "outputId": "f168a7ba-5e22-489a-cac8-fb986c189d70"
      },
      "execution_count": 39,
      "outputs": [
        {
          "output_type": "stream",
          "name": "stderr",
          "text": [
            "/usr/local/lib/python3.7/dist-packages/ipykernel/kernelbase.py:399: PerformanceWarning: indexing past lexsort depth may impact performance.\n",
            "  user_expressions, allow_stdin)\n",
            "/usr/local/lib/python3.7/dist-packages/ipykernel/kernelbase.py:399: PerformanceWarning: indexing past lexsort depth may impact performance.\n",
            "  user_expressions, allow_stdin)\n"
          ]
        },
        {
          "output_type": "error",
          "ename": "KeyError",
          "evalue": "ignored",
          "traceback": [
            "\u001b[0;31m---------------------------------------------------------------------------\u001b[0m",
            "\u001b[0;31mKeyError\u001b[0m                                  Traceback (most recent call last)",
            "\u001b[0;32m<ipython-input-39-9327e5b86935>\u001b[0m in \u001b[0;36m<module>\u001b[0;34m()\u001b[0m\n\u001b[0;32m----> 1\u001b[0;31m \u001b[0;32mdel\u001b[0m\u001b[0;34m(\u001b[0m\u001b[0mdataset\u001b[0m\u001b[0;34m.\u001b[0m\u001b[0mdata\u001b[0m\u001b[0;34m[\u001b[0m\u001b[0;34m'pred_vel'\u001b[0m\u001b[0;34m]\u001b[0m\u001b[0;34m)\u001b[0m\u001b[0;34m\u001b[0m\u001b[0;34m\u001b[0m\u001b[0m\n\u001b[0m",
            "\u001b[0;32m/usr/local/lib/python3.7/dist-packages/pandas/core/generic.py\u001b[0m in \u001b[0;36m__delitem__\u001b[0;34m(self, key)\u001b[0m\n\u001b[1;32m   3955\u001b[0m             \u001b[0;32mfor\u001b[0m \u001b[0mcol\u001b[0m \u001b[0;32min\u001b[0m \u001b[0mself\u001b[0m\u001b[0;34m.\u001b[0m\u001b[0mcolumns\u001b[0m\u001b[0;34m:\u001b[0m\u001b[0;34m\u001b[0m\u001b[0;34m\u001b[0m\u001b[0m\n\u001b[1;32m   3956\u001b[0m                 \u001b[0;32mif\u001b[0m \u001b[0misinstance\u001b[0m\u001b[0;34m(\u001b[0m\u001b[0mcol\u001b[0m\u001b[0;34m,\u001b[0m \u001b[0mtuple\u001b[0m\u001b[0;34m)\u001b[0m \u001b[0;32mand\u001b[0m \u001b[0mcol\u001b[0m\u001b[0;34m[\u001b[0m\u001b[0;34m:\u001b[0m \u001b[0mlen\u001b[0m\u001b[0;34m(\u001b[0m\u001b[0mkey\u001b[0m\u001b[0;34m)\u001b[0m\u001b[0;34m]\u001b[0m \u001b[0;34m==\u001b[0m \u001b[0mkey\u001b[0m\u001b[0;34m:\u001b[0m\u001b[0;34m\u001b[0m\u001b[0;34m\u001b[0m\u001b[0m\n\u001b[0;32m-> 3957\u001b[0;31m                     \u001b[0;32mdel\u001b[0m \u001b[0mself\u001b[0m\u001b[0;34m[\u001b[0m\u001b[0mcol\u001b[0m\u001b[0;34m]\u001b[0m\u001b[0;34m\u001b[0m\u001b[0;34m\u001b[0m\u001b[0m\n\u001b[0m\u001b[1;32m   3958\u001b[0m                     \u001b[0mdeleted\u001b[0m \u001b[0;34m=\u001b[0m \u001b[0;32mTrue\u001b[0m\u001b[0;34m\u001b[0m\u001b[0;34m\u001b[0m\u001b[0m\n\u001b[1;32m   3959\u001b[0m         \u001b[0;32mif\u001b[0m \u001b[0;32mnot\u001b[0m \u001b[0mdeleted\u001b[0m\u001b[0;34m:\u001b[0m\u001b[0;34m\u001b[0m\u001b[0;34m\u001b[0m\u001b[0m\n",
            "\u001b[0;32m/usr/local/lib/python3.7/dist-packages/pandas/core/generic.py\u001b[0m in \u001b[0;36m__delitem__\u001b[0;34m(self, key)\u001b[0m\n\u001b[1;32m   3961\u001b[0m             \u001b[0;31m# there was no match, this call should raise the appropriate\u001b[0m\u001b[0;34m\u001b[0m\u001b[0;34m\u001b[0m\u001b[0;34m\u001b[0m\u001b[0m\n\u001b[1;32m   3962\u001b[0m             \u001b[0;31m# exception:\u001b[0m\u001b[0;34m\u001b[0m\u001b[0;34m\u001b[0m\u001b[0;34m\u001b[0m\u001b[0m\n\u001b[0;32m-> 3963\u001b[0;31m             \u001b[0mloc\u001b[0m \u001b[0;34m=\u001b[0m \u001b[0mself\u001b[0m\u001b[0;34m.\u001b[0m\u001b[0maxes\u001b[0m\u001b[0;34m[\u001b[0m\u001b[0;34m-\u001b[0m\u001b[0;36m1\u001b[0m\u001b[0;34m]\u001b[0m\u001b[0;34m.\u001b[0m\u001b[0mget_loc\u001b[0m\u001b[0;34m(\u001b[0m\u001b[0mkey\u001b[0m\u001b[0;34m)\u001b[0m\u001b[0;34m\u001b[0m\u001b[0;34m\u001b[0m\u001b[0m\n\u001b[0m\u001b[1;32m   3964\u001b[0m             \u001b[0mself\u001b[0m\u001b[0;34m.\u001b[0m\u001b[0m_mgr\u001b[0m \u001b[0;34m=\u001b[0m \u001b[0mself\u001b[0m\u001b[0;34m.\u001b[0m\u001b[0m_mgr\u001b[0m\u001b[0;34m.\u001b[0m\u001b[0midelete\u001b[0m\u001b[0;34m(\u001b[0m\u001b[0mloc\u001b[0m\u001b[0;34m)\u001b[0m\u001b[0;34m\u001b[0m\u001b[0;34m\u001b[0m\u001b[0m\n\u001b[1;32m   3965\u001b[0m \u001b[0;34m\u001b[0m\u001b[0m\n",
            "\u001b[0;32m/usr/local/lib/python3.7/dist-packages/pandas/core/indexes/multi.py\u001b[0m in \u001b[0;36mget_loc\u001b[0;34m(self, key, method)\u001b[0m\n\u001b[1;32m   2930\u001b[0m \u001b[0;34m\u001b[0m\u001b[0m\n\u001b[1;32m   2931\u001b[0m         \u001b[0;32mif\u001b[0m \u001b[0mkeylen\u001b[0m \u001b[0;34m==\u001b[0m \u001b[0mself\u001b[0m\u001b[0;34m.\u001b[0m\u001b[0mnlevels\u001b[0m \u001b[0;32mand\u001b[0m \u001b[0mself\u001b[0m\u001b[0;34m.\u001b[0m\u001b[0mis_unique\u001b[0m\u001b[0;34m:\u001b[0m\u001b[0;34m\u001b[0m\u001b[0;34m\u001b[0m\u001b[0m\n\u001b[0;32m-> 2932\u001b[0;31m             \u001b[0;32mreturn\u001b[0m \u001b[0mself\u001b[0m\u001b[0;34m.\u001b[0m\u001b[0m_engine\u001b[0m\u001b[0;34m.\u001b[0m\u001b[0mget_loc\u001b[0m\u001b[0;34m(\u001b[0m\u001b[0mkey\u001b[0m\u001b[0;34m)\u001b[0m\u001b[0;34m\u001b[0m\u001b[0;34m\u001b[0m\u001b[0m\n\u001b[0m\u001b[1;32m   2933\u001b[0m \u001b[0;34m\u001b[0m\u001b[0m\n\u001b[1;32m   2934\u001b[0m         \u001b[0;31m# -- partial selection or non-unique index\u001b[0m\u001b[0;34m\u001b[0m\u001b[0;34m\u001b[0m\u001b[0;34m\u001b[0m\u001b[0m\n",
            "\u001b[0;32m/usr/local/lib/python3.7/dist-packages/pandas/_libs/index.pyx\u001b[0m in \u001b[0;36mpandas._libs.index.BaseMultiIndexCodesEngine.get_loc\u001b[0;34m()\u001b[0m\n",
            "\u001b[0;32m/usr/local/lib/python3.7/dist-packages/pandas/_libs/index.pyx\u001b[0m in \u001b[0;36mpandas._libs.index.IndexEngine.get_loc\u001b[0;34m()\u001b[0m\n",
            "\u001b[0;32m/usr/local/lib/python3.7/dist-packages/pandas/_libs/index.pyx\u001b[0m in \u001b[0;36mpandas._libs.index.IndexEngine.get_loc\u001b[0;34m()\u001b[0m\n",
            "\u001b[0;32mpandas/_libs/hashtable_class_helper.pxi\u001b[0m in \u001b[0;36mpandas._libs.hashtable.UInt64HashTable.get_item\u001b[0;34m()\u001b[0m\n",
            "\u001b[0;32mpandas/_libs/hashtable_class_helper.pxi\u001b[0m in \u001b[0;36mpandas._libs.hashtable.UInt64HashTable.get_item\u001b[0;34m()\u001b[0m\n",
            "\u001b[0;31mKeyError\u001b[0m: 1423"
          ]
        }
      ]
    },
    {
      "cell_type": "code",
      "source": [
        "## Plot predicted vs true kinematics\n",
        "\n",
        "# Choose 23rd condition to plot\n",
        "cond = conds[23]\n",
        "\n",
        "# Find trials in condition and extract data\n",
        "mask = np.all(dataset.trial_info[['trial_type', 'trial_version']] == cond, axis=1)\n",
        "trial_data = dataset.make_trial_data(align_field='move_onset_time', align_range=(-50, 450), ignored_trials=(~mask))\n",
        "\n",
        "# Initialize figure\n",
        "fig, axs = plt.subplots(2, 3, figsize=(10, 4))\n",
        "t = np.arange(-50, 450, dataset.bin_width)\n",
        "\n",
        "# Loop through trials in condition\n",
        "for _, trial in trial_data.groupby('trial_id'):\n",
        "    # True and predicted x velocity\n",
        "    axs[0][0].plot(t, trial.hand_vel.x, linewidth=0.7, color='black')\n",
        "    axs[1][0].plot(t, trial.pred_vel.x, linewidth=0.7, color='blue')\n",
        "    # True and predicted y velocity\n",
        "    axs[0][1].plot(t, trial.hand_vel.y, linewidth=0.7, color='black')\n",
        "    axs[1][1].plot(t, trial.pred_vel.y, linewidth=0.7, color='blue')\n",
        "    # True and predicted trajectories\n",
        "    true_traj = np.cumsum(trial.hand_vel.to_numpy(), axis=0) * dataset.bin_width / 1000\n",
        "    pred_traj = np.cumsum(trial.pred_vel.to_numpy(), axis=0) * dataset.bin_width / 1000\n",
        "    axs[0][2].plot(true_traj[:, 0], true_traj[:, 1], linewidth=0.7, color='black')\n",
        "    axs[1][2].plot(pred_traj[:, 0], pred_traj[:, 1], linewidth=0.7, color='blue')\n",
        "\n",
        "# Set up shared axes\n",
        "for i in range(2):\n",
        "    axs[i][0].set_xlim(-50, 450)\n",
        "    axs[i][1].set_xlim(-50, 450)\n",
        "    axs[i][2].set_xlim(-180, 180)\n",
        "    axs[i][2].set_ylim(-130, 130)\n",
        "\n",
        "# Add labels\n",
        "axs[0][0].set_title('X velocity (mm/s)')\n",
        "axs[0][1].set_title('Y velocity (mm/s)')\n",
        "axs[0][2].set_title('Reach trajectory')\n",
        "plt.show()\n"
      ],
      "metadata": {
        "colab": {
          "base_uri": "https://localhost:8080/",
          "height": 281
        },
        "id": "FJcvYtp6Z-eJ",
        "outputId": "3e1ec722-38b7-4309-ec24-7738f34120d9"
      },
      "execution_count": 41,
      "outputs": [
        {
          "output_type": "display_data",
          "data": {
            "text/plain": [
              "<Figure size 720x288 with 6 Axes>"
            ],
            "image/png": "[encoded data removed]"
          },
          "metadata": {
            "needs_background": "light"
          }
        }
      ]
    },
    {
      "cell_type": "markdown",
      "source": [
        "## **Exercise 3.3** Auto-encoding sequential neural data with RNN-based LFADS model "
      ],
      "metadata": {
        "id": "Z5wTVXsPR-kC"
      }
    },
    {
      "cell_type": "markdown",
      "source": [
        "## **Exercise 3.4\\*:** Non-autonomous LFADS: identifiability of control inputs\n",
        "\n"
      ],
      "metadata": {
        "id": "OeQeYsaEHm7s"
      }
    },
    {
      "cell_type": "markdown",
      "source": [
        "# References\n",
        "\n",
        "1. Izhikevich, Eugene M. Dynamical systems in neuroscience. MIT press, 2007."
      ],
      "metadata": {
        "id": "kblnhvBQ9GvC"
      }
    },
    {
      "cell_type": "code",
      "source": [
        ""
      ],
      "metadata": {
        "id": "pcrCyeCK9ICe"
      },
      "execution_count": null,
      "outputs": []
    }
  ]
}