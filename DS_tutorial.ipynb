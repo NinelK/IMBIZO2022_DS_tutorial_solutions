{
  "nbformat": 4,
  "nbformat_minor": 0,
  "metadata": {
    "colab": {
      "name": "DS tutorial",
      "provenance": [],
      "collapsed_sections": [
        "5lSgytL2f3OV",
        "svmBduOG_52v"
      ],
      "toc_visible": true,
      "authorship_tag": "ABX9TyOcCFjJG8opXWBxnxUf+jqm",
      "include_colab_link": true
    },
    "kernelspec": {
      "name": "python3",
      "display_name": "Python 3"
    },
    "language_info": {
      "name": "python"
    },
    "widgets": {
      "application/vnd.jupyter.widget-state+json": {
        "a0c45eaa1387464db351fc66000b3b59": {
          "model_module": "@jupyter-widgets/controls",
          "model_name": "VBoxModel",
          "model_module_version": "1.5.0",
          "state": {
            "_dom_classes": [
              "widget-interact"
            ],
            "_model_module": "@jupyter-widgets/controls",
            "_model_module_version": "1.5.0",
            "_model_name": "VBoxModel",
            "_view_count": null,
            "_view_module": "@jupyter-widgets/controls",
            "_view_module_version": "1.5.0",
            "_view_name": "VBoxView",
            "box_style": "",
            "children": [
              "IPY_MODEL_755284b019d64d698a62c8d28ac846e0",
              "IPY_MODEL_c8ed7ff50cd34334b7636be406c41981",
              "IPY_MODEL_cf5c46986bad42749a5179b0441a8a45",
              "IPY_MODEL_42500c80494e4e35bed32e1060fe63d5"
            ],
            "layout": "IPY_MODEL_19c96528c6e34054ab5cf9a9e3e30dda"
          }
        },
        "755284b019d64d698a62c8d28ac846e0": {
          "model_module": "@jupyter-widgets/controls",
          "model_name": "FloatSliderModel",
          "model_module_version": "1.5.0",
          "state": {
            "_dom_classes": [],
            "_model_module": "@jupyter-widgets/controls",
            "_model_module_version": "1.5.0",
            "_model_name": "FloatSliderModel",
            "_view_count": null,
            "_view_module": "@jupyter-widgets/controls",
            "_view_module_version": "1.5.0",
            "_view_name": "FloatSliderView",
            "continuous_update": true,
            "description": "x0",
            "description_tooltip": null,
            "disabled": false,
            "layout": "IPY_MODEL_8d96eaf67b54436bbbce333213f4b1e7",
            "max": 3,
            "min": -1,
            "orientation": "horizontal",
            "readout": true,
            "readout_format": ".2f",
            "step": 0.1,
            "style": "IPY_MODEL_2390eff1fddf4e1b8230c67674c9d20d",
            "value": 1
          }
        },
        "c8ed7ff50cd34334b7636be406c41981": {
          "model_module": "@jupyter-widgets/controls",
          "model_name": "FloatSliderModel",
          "model_module_version": "1.5.0",
          "state": {
            "_dom_classes": [],
            "_model_module": "@jupyter-widgets/controls",
            "_model_module_version": "1.5.0",
            "_model_name": "FloatSliderModel",
            "_view_count": null,
            "_view_module": "@jupyter-widgets/controls",
            "_view_module_version": "1.5.0",
            "_view_name": "FloatSliderView",
            "continuous_update": true,
            "description": "a",
            "description_tooltip": null,
            "disabled": false,
            "layout": "IPY_MODEL_3f3e4f1f63b84183a92189be39f24c20",
            "max": 2,
            "min": -2,
            "orientation": "horizontal",
            "readout": true,
            "readout_format": ".2f",
            "step": 1,
            "style": "IPY_MODEL_1171337e8c12423792e39fd3a7f6b38e",
            "value": 1
          }
        },
        "cf5c46986bad42749a5179b0441a8a45": {
          "model_module": "@jupyter-widgets/controls",
          "model_name": "FloatLogSliderModel",
          "model_module_version": "1.5.0",
          "state": {
            "_dom_classes": [],
            "_model_module": "@jupyter-widgets/controls",
            "_model_module_version": "1.5.0",
            "_model_name": "FloatLogSliderModel",
            "_view_count": null,
            "_view_module": "@jupyter-widgets/controls",
            "_view_module_version": "1.5.0",
            "_view_name": "FloatLogSliderView",
            "base": 10,
            "continuous_update": true,
            "description": "dt",
            "description_tooltip": null,
            "disabled": false,
            "layout": "IPY_MODEL_6fca9b7a90284bc6bebf20fc86693401",
            "max": -1,
            "min": -3,
            "orientation": "horizontal",
            "readout": true,
            "readout_format": ".3g",
            "step": 0.1,
            "style": "IPY_MODEL_4d477f129a6544238da4a69dd1daaee9",
            "value": 0.01
          }
        },
        "42500c80494e4e35bed32e1060fe63d5": {
          "model_module": "@jupyter-widgets/output",
          "model_name": "OutputModel",
          "model_module_version": "1.0.0",
          "state": {
            "_dom_classes": [],
            "_model_module": "@jupyter-widgets/output",
            "_model_module_version": "1.0.0",
            "_model_name": "OutputModel",
            "_view_count": null,
            "_view_module": "@jupyter-widgets/output",
            "_view_module_version": "1.0.0",
            "_view_name": "OutputView",
            "layout": "IPY_MODEL_091898f5662b4f6ea996a514c377291a",
            "msg_id": "",
            "outputs": [
              {
                "output_type": "display_data",
                "data": {
                  "text/plain": "<Figure size 432x288 with 1 Axes>",
                  "image/png": "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\n"
                },
                "metadata": {
                  "needs_background": "light"
                }
              }
            ]
          }
        },
        "19c96528c6e34054ab5cf9a9e3e30dda": {
          "model_module": "@jupyter-widgets/base",
          "model_name": "LayoutModel",
          "model_module_version": "1.2.0",
          "state": {
            "_model_module": "@jupyter-widgets/base",
            "_model_module_version": "1.2.0",
            "_model_name": "LayoutModel",
            "_view_count": null,
            "_view_module": "@jupyter-widgets/base",
            "_view_module_version": "1.2.0",
            "_view_name": "LayoutView",
            "align_content": null,
            "align_items": null,
            "align_self": null,
            "border": null,
            "bottom": null,
            "display": null,
            "flex": null,
            "flex_flow": null,
            "grid_area": null,
            "grid_auto_columns": null,
            "grid_auto_flow": null,
            "grid_auto_rows": null,
            "grid_column": null,
            "grid_gap": null,
            "grid_row": null,
            "grid_template_areas": null,
            "grid_template_columns": null,
            "grid_template_rows": null,
            "height": null,
            "justify_content": null,
            "justify_items": null,
            "left": null,
            "margin": null,
            "max_height": null,
            "max_width": null,
            "min_height": null,
            "min_width": null,
            "object_fit": null,
            "object_position": null,
            "order": null,
            "overflow": null,
            "overflow_x": null,
            "overflow_y": null,
            "padding": null,
            "right": null,
            "top": null,
            "visibility": null,
            "width": null
          }
        },
        "8d96eaf67b54436bbbce333213f4b1e7": {
          "model_module": "@jupyter-widgets/base",
          "model_name": "LayoutModel",
          "model_module_version": "1.2.0",
          "state": {
            "_model_module": "@jupyter-widgets/base",
            "_model_module_version": "1.2.0",
            "_model_name": "LayoutModel",
            "_view_count": null,
            "_view_module": "@jupyter-widgets/base",
            "_view_module_version": "1.2.0",
            "_view_name": "LayoutView",
            "align_content": null,
            "align_items": null,
            "align_self": null,
            "border": null,
            "bottom": null,
            "display": null,
            "flex": null,
            "flex_flow": null,
            "grid_area": null,
            "grid_auto_columns": null,
            "grid_auto_flow": null,
            "grid_auto_rows": null,
            "grid_column": null,
            "grid_gap": null,
            "grid_row": null,
            "grid_template_areas": null,
            "grid_template_columns": null,
            "grid_template_rows": null,
            "height": null,
            "justify_content": null,
            "justify_items": null,
            "left": null,
            "margin": null,
            "max_height": null,
            "max_width": null,
            "min_height": null,
            "min_width": null,
            "object_fit": null,
            "object_position": null,
            "order": null,
            "overflow": null,
            "overflow_x": null,
            "overflow_y": null,
            "padding": null,
            "right": null,
            "top": null,
            "visibility": null,
            "width": null
          }
        },
        "2390eff1fddf4e1b8230c67674c9d20d": {
          "model_module": "@jupyter-widgets/controls",
          "model_name": "SliderStyleModel",
          "model_module_version": "1.5.0",
          "state": {
            "_model_module": "@jupyter-widgets/controls",
            "_model_module_version": "1.5.0",
            "_model_name": "SliderStyleModel",
            "_view_count": null,
            "_view_module": "@jupyter-widgets/base",
            "_view_module_version": "1.2.0",
            "_view_name": "StyleView",
            "description_width": "",
            "handle_color": null
          }
        },
        "3f3e4f1f63b84183a92189be39f24c20": {
          "model_module": "@jupyter-widgets/base",
          "model_name": "LayoutModel",
          "model_module_version": "1.2.0",
          "state": {
            "_model_module": "@jupyter-widgets/base",
            "_model_module_version": "1.2.0",
            "_model_name": "LayoutModel",
            "_view_count": null,
            "_view_module": "@jupyter-widgets/base",
            "_view_module_version": "1.2.0",
            "_view_name": "LayoutView",
            "align_content": null,
            "align_items": null,
            "align_self": null,
            "border": null,
            "bottom": null,
            "display": null,
            "flex": null,
            "flex_flow": null,
            "grid_area": null,
            "grid_auto_columns": null,
            "grid_auto_flow": null,
            "grid_auto_rows": null,
            "grid_column": null,
            "grid_gap": null,
            "grid_row": null,
            "grid_template_areas": null,
            "grid_template_columns": null,
            "grid_template_rows": null,
            "height": null,
            "justify_content": null,
            "justify_items": null,
            "left": null,
            "margin": null,
            "max_height": null,
            "max_width": null,
            "min_height": null,
            "min_width": null,
            "object_fit": null,
            "object_position": null,
            "order": null,
            "overflow": null,
            "overflow_x": null,
            "overflow_y": null,
            "padding": null,
            "right": null,
            "top": null,
            "visibility": null,
            "width": null
          }
        },
        "1171337e8c12423792e39fd3a7f6b38e": {
          "model_module": "@jupyter-widgets/controls",
          "model_name": "SliderStyleModel",
          "model_module_version": "1.5.0",
          "state": {
            "_model_module": "@jupyter-widgets/controls",
            "_model_module_version": "1.5.0",
            "_model_name": "SliderStyleModel",
            "_view_count": null,
            "_view_module": "@jupyter-widgets/base",
            "_view_module_version": "1.2.0",
            "_view_name": "StyleView",
            "description_width": "",
            "handle_color": null
          }
        },
        "6fca9b7a90284bc6bebf20fc86693401": {
          "model_module": "@jupyter-widgets/base",
          "model_name": "LayoutModel",
          "model_module_version": "1.2.0",
          "state": {
            "_model_module": "@jupyter-widgets/base",
            "_model_module_version": "1.2.0",
            "_model_name": "LayoutModel",
            "_view_count": null,
            "_view_module": "@jupyter-widgets/base",
            "_view_module_version": "1.2.0",
            "_view_name": "LayoutView",
            "align_content": null,
            "align_items": null,
            "align_self": null,
            "border": null,
            "bottom": null,
            "display": null,
            "flex": null,
            "flex_flow": null,
            "grid_area": null,
            "grid_auto_columns": null,
            "grid_auto_flow": null,
            "grid_auto_rows": null,
            "grid_column": null,
            "grid_gap": null,
            "grid_row": null,
            "grid_template_areas": null,
            "grid_template_columns": null,
            "grid_template_rows": null,
            "height": null,
            "justify_content": null,
            "justify_items": null,
            "left": null,
            "margin": null,
            "max_height": null,
            "max_width": null,
            "min_height": null,
            "min_width": null,
            "object_fit": null,
            "object_position": null,
            "order": null,
            "overflow": null,
            "overflow_x": null,
            "overflow_y": null,
            "padding": null,
            "right": null,
            "top": null,
            "visibility": null,
            "width": null
          }
        },
        "4d477f129a6544238da4a69dd1daaee9": {
          "model_module": "@jupyter-widgets/controls",
          "model_name": "SliderStyleModel",
          "model_module_version": "1.5.0",
          "state": {
            "_model_module": "@jupyter-widgets/controls",
            "_model_module_version": "1.5.0",
            "_model_name": "SliderStyleModel",
            "_view_count": null,
            "_view_module": "@jupyter-widgets/base",
            "_view_module_version": "1.2.0",
            "_view_name": "StyleView",
            "description_width": "",
            "handle_color": null
          }
        },
        "091898f5662b4f6ea996a514c377291a": {
          "model_module": "@jupyter-widgets/base",
          "model_name": "LayoutModel",
          "model_module_version": "1.2.0",
          "state": {
            "_model_module": "@jupyter-widgets/base",
            "_model_module_version": "1.2.0",
            "_model_name": "LayoutModel",
            "_view_count": null,
            "_view_module": "@jupyter-widgets/base",
            "_view_module_version": "1.2.0",
            "_view_name": "LayoutView",
            "align_content": null,
            "align_items": null,
            "align_self": null,
            "border": null,
            "bottom": null,
            "display": null,
            "flex": null,
            "flex_flow": null,
            "grid_area": null,
            "grid_auto_columns": null,
            "grid_auto_flow": null,
            "grid_auto_rows": null,
            "grid_column": null,
            "grid_gap": null,
            "grid_row": null,
            "grid_template_areas": null,
            "grid_template_columns": null,
            "grid_template_rows": null,
            "height": null,
            "justify_content": null,
            "justify_items": null,
            "left": null,
            "margin": null,
            "max_height": null,
            "max_width": null,
            "min_height": null,
            "min_width": null,
            "object_fit": null,
            "object_position": null,
            "order": null,
            "overflow": null,
            "overflow_x": null,
            "overflow_y": null,
            "padding": null,
            "right": null,
            "top": null,
            "visibility": null,
            "width": null
          }
        },
        "e9b3762631dd4b1aa89b2c91b1798648": {
          "model_module": "@jupyter-widgets/controls",
          "model_name": "VBoxModel",
          "model_module_version": "1.5.0",
          "state": {
            "_dom_classes": [
              "widget-interact"
            ],
            "_model_module": "@jupyter-widgets/controls",
            "_model_module_version": "1.5.0",
            "_model_name": "VBoxModel",
            "_view_count": null,
            "_view_module": "@jupyter-widgets/controls",
            "_view_module_version": "1.5.0",
            "_view_name": "VBoxView",
            "box_style": "",
            "children": [
              "IPY_MODEL_d8c01d86d4154a1ba4acdd114387c580",
              "IPY_MODEL_2590e1447d4f4453b99064c61460534a",
              "IPY_MODEL_444bc2884f4a419aa3e8eafe73160fad",
              "IPY_MODEL_43e4eee6bf314b668c5887091a528f0b"
            ],
            "layout": "IPY_MODEL_b69d4b4a36b24970808bb518ab343f15"
          }
        },
        "d8c01d86d4154a1ba4acdd114387c580": {
          "model_module": "@jupyter-widgets/controls",
          "model_name": "FloatSliderModel",
          "model_module_version": "1.5.0",
          "state": {
            "_dom_classes": [],
            "_model_module": "@jupyter-widgets/controls",
            "_model_module_version": "1.5.0",
            "_model_name": "FloatSliderModel",
            "_view_count": null,
            "_view_module": "@jupyter-widgets/controls",
            "_view_module_version": "1.5.0",
            "_view_name": "FloatSliderView",
            "continuous_update": true,
            "description": "x0",
            "description_tooltip": null,
            "disabled": false,
            "layout": "IPY_MODEL_66d8b3a3cdce424bbd2501e8c021c2df",
            "max": 3,
            "min": -1,
            "orientation": "horizontal",
            "readout": true,
            "readout_format": ".2f",
            "step": 0.1,
            "style": "IPY_MODEL_1979edd920c3459692e48618d0032b39",
            "value": 1
          }
        },
        "2590e1447d4f4453b99064c61460534a": {
          "model_module": "@jupyter-widgets/controls",
          "model_name": "FloatSliderModel",
          "model_module_version": "1.5.0",
          "state": {
            "_dom_classes": [],
            "_model_module": "@jupyter-widgets/controls",
            "_model_module_version": "1.5.0",
            "_model_name": "FloatSliderModel",
            "_view_count": null,
            "_view_module": "@jupyter-widgets/controls",
            "_view_module_version": "1.5.0",
            "_view_name": "FloatSliderView",
            "continuous_update": true,
            "description": "a_real",
            "description_tooltip": null,
            "disabled": false,
            "layout": "IPY_MODEL_2c5d8a80d1454beb99f6a94b9cc82945",
            "max": 1,
            "min": -1,
            "orientation": "horizontal",
            "readout": true,
            "readout_format": ".2f",
            "step": 0.1,
            "style": "IPY_MODEL_e5e0357f9e2f465d87430a069244b575",
            "value": 0.2
          }
        },
        "444bc2884f4a419aa3e8eafe73160fad": {
          "model_module": "@jupyter-widgets/controls",
          "model_name": "FloatSliderModel",
          "model_module_version": "1.5.0",
          "state": {
            "_dom_classes": [],
            "_model_module": "@jupyter-widgets/controls",
            "_model_module_version": "1.5.0",
            "_model_name": "FloatSliderModel",
            "_view_count": null,
            "_view_module": "@jupyter-widgets/controls",
            "_view_module_version": "1.5.0",
            "_view_name": "FloatSliderView",
            "continuous_update": true,
            "description": "a_imag",
            "description_tooltip": null,
            "disabled": false,
            "layout": "IPY_MODEL_e5e4978afdf84f74936256db44f3d433",
            "max": 5,
            "min": -1,
            "orientation": "horizontal",
            "readout": true,
            "readout_format": ".2f",
            "step": 0.1,
            "style": "IPY_MODEL_06c930ee289045c4aa03fb1a452e10db",
            "value": 3.6
          }
        },
        "43e4eee6bf314b668c5887091a528f0b": {
          "model_module": "@jupyter-widgets/output",
          "model_name": "OutputModel",
          "model_module_version": "1.0.0",
          "state": {
            "_dom_classes": [],
            "_model_module": "@jupyter-widgets/output",
            "_model_module_version": "1.0.0",
            "_model_name": "OutputModel",
            "_view_count": null,
            "_view_module": "@jupyter-widgets/output",
            "_view_module_version": "1.0.0",
            "_view_name": "OutputView",
            "layout": "IPY_MODEL_9f58d028434b4f0e90dcb9e37da8a94a",
            "msg_id": "",
            "outputs": [
              {
                "output_type": "display_data",
                "data": {
                  "text/plain": "<Figure size 432x288 with 1 Axes>",
                  "image/png": "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\n"
                },
                "metadata": {
                  "needs_background": "light"
                }
              }
            ]
          }
        },
        "b69d4b4a36b24970808bb518ab343f15": {
          "model_module": "@jupyter-widgets/base",
          "model_name": "LayoutModel",
          "model_module_version": "1.2.0",
          "state": {
            "_model_module": "@jupyter-widgets/base",
            "_model_module_version": "1.2.0",
            "_model_name": "LayoutModel",
            "_view_count": null,
            "_view_module": "@jupyter-widgets/base",
            "_view_module_version": "1.2.0",
            "_view_name": "LayoutView",
            "align_content": null,
            "align_items": null,
            "align_self": null,
            "border": null,
            "bottom": null,
            "display": null,
            "flex": null,
            "flex_flow": null,
            "grid_area": null,
            "grid_auto_columns": null,
            "grid_auto_flow": null,
            "grid_auto_rows": null,
            "grid_column": null,
            "grid_gap": null,
            "grid_row": null,
            "grid_template_areas": null,
            "grid_template_columns": null,
            "grid_template_rows": null,
            "height": null,
            "justify_content": null,
            "justify_items": null,
            "left": null,
            "margin": null,
            "max_height": null,
            "max_width": null,
            "min_height": null,
            "min_width": null,
            "object_fit": null,
            "object_position": null,
            "order": null,
            "overflow": null,
            "overflow_x": null,
            "overflow_y": null,
            "padding": null,
            "right": null,
            "top": null,
            "visibility": null,
            "width": null
          }
        },
        "66d8b3a3cdce424bbd2501e8c021c2df": {
          "model_module": "@jupyter-widgets/base",
          "model_name": "LayoutModel",
          "model_module_version": "1.2.0",
          "state": {
            "_model_module": "@jupyter-widgets/base",
            "_model_module_version": "1.2.0",
            "_model_name": "LayoutModel",
            "_view_count": null,
            "_view_module": "@jupyter-widgets/base",
            "_view_module_version": "1.2.0",
            "_view_name": "LayoutView",
            "align_content": null,
            "align_items": null,
            "align_self": null,
            "border": null,
            "bottom": null,
            "display": null,
            "flex": null,
            "flex_flow": null,
            "grid_area": null,
            "grid_auto_columns": null,
            "grid_auto_flow": null,
            "grid_auto_rows": null,
            "grid_column": null,
            "grid_gap": null,
            "grid_row": null,
            "grid_template_areas": null,
            "grid_template_columns": null,
            "grid_template_rows": null,
            "height": null,
            "justify_content": null,
            "justify_items": null,
            "left": null,
            "margin": null,
            "max_height": null,
            "max_width": null,
            "min_height": null,
            "min_width": null,
            "object_fit": null,
            "object_position": null,
            "order": null,
            "overflow": null,
            "overflow_x": null,
            "overflow_y": null,
            "padding": null,
            "right": null,
            "top": null,
            "visibility": null,
            "width": null
          }
        },
        "1979edd920c3459692e48618d0032b39": {
          "model_module": "@jupyter-widgets/controls",
          "model_name": "SliderStyleModel",
          "model_module_version": "1.5.0",
          "state": {
            "_model_module": "@jupyter-widgets/controls",
            "_model_module_version": "1.5.0",
            "_model_name": "SliderStyleModel",
            "_view_count": null,
            "_view_module": "@jupyter-widgets/base",
            "_view_module_version": "1.2.0",
            "_view_name": "StyleView",
            "description_width": "",
            "handle_color": null
          }
        },
        "2c5d8a80d1454beb99f6a94b9cc82945": {
          "model_module": "@jupyter-widgets/base",
          "model_name": "LayoutModel",
          "model_module_version": "1.2.0",
          "state": {
            "_model_module": "@jupyter-widgets/base",
            "_model_module_version": "1.2.0",
            "_model_name": "LayoutModel",
            "_view_count": null,
            "_view_module": "@jupyter-widgets/base",
            "_view_module_version": "1.2.0",
            "_view_name": "LayoutView",
            "align_content": null,
            "align_items": null,
            "align_self": null,
            "border": null,
            "bottom": null,
            "display": null,
            "flex": null,
            "flex_flow": null,
            "grid_area": null,
            "grid_auto_columns": null,
            "grid_auto_flow": null,
            "grid_auto_rows": null,
            "grid_column": null,
            "grid_gap": null,
            "grid_row": null,
            "grid_template_areas": null,
            "grid_template_columns": null,
            "grid_template_rows": null,
            "height": null,
            "justify_content": null,
            "justify_items": null,
            "left": null,
            "margin": null,
            "max_height": null,
            "max_width": null,
            "min_height": null,
            "min_width": null,
            "object_fit": null,
            "object_position": null,
            "order": null,
            "overflow": null,
            "overflow_x": null,
            "overflow_y": null,
            "padding": null,
            "right": null,
            "top": null,
            "visibility": null,
            "width": null
          }
        },
        "e5e0357f9e2f465d87430a069244b575": {
          "model_module": "@jupyter-widgets/controls",
          "model_name": "SliderStyleModel",
          "model_module_version": "1.5.0",
          "state": {
            "_model_module": "@jupyter-widgets/controls",
            "_model_module_version": "1.5.0",
            "_model_name": "SliderStyleModel",
            "_view_count": null,
            "_view_module": "@jupyter-widgets/base",
            "_view_module_version": "1.2.0",
            "_view_name": "StyleView",
            "description_width": "",
            "handle_color": null
          }
        },
        "e5e4978afdf84f74936256db44f3d433": {
          "model_module": "@jupyter-widgets/base",
          "model_name": "LayoutModel",
          "model_module_version": "1.2.0",
          "state": {
            "_model_module": "@jupyter-widgets/base",
            "_model_module_version": "1.2.0",
            "_model_name": "LayoutModel",
            "_view_count": null,
            "_view_module": "@jupyter-widgets/base",
            "_view_module_version": "1.2.0",
            "_view_name": "LayoutView",
            "align_content": null,
            "align_items": null,
            "align_self": null,
            "border": null,
            "bottom": null,
            "display": null,
            "flex": null,
            "flex_flow": null,
            "grid_area": null,
            "grid_auto_columns": null,
            "grid_auto_flow": null,
            "grid_auto_rows": null,
            "grid_column": null,
            "grid_gap": null,
            "grid_row": null,
            "grid_template_areas": null,
            "grid_template_columns": null,
            "grid_template_rows": null,
            "height": null,
            "justify_content": null,
            "justify_items": null,
            "left": null,
            "margin": null,
            "max_height": null,
            "max_width": null,
            "min_height": null,
            "min_width": null,
            "object_fit": null,
            "object_position": null,
            "order": null,
            "overflow": null,
            "overflow_x": null,
            "overflow_y": null,
            "padding": null,
            "right": null,
            "top": null,
            "visibility": null,
            "width": null
          }
        },
        "06c930ee289045c4aa03fb1a452e10db": {
          "model_module": "@jupyter-widgets/controls",
          "model_name": "SliderStyleModel",
          "model_module_version": "1.5.0",
          "state": {
            "_model_module": "@jupyter-widgets/controls",
            "_model_module_version": "1.5.0",
            "_model_name": "SliderStyleModel",
            "_view_count": null,
            "_view_module": "@jupyter-widgets/base",
            "_view_module_version": "1.2.0",
            "_view_name": "StyleView",
            "description_width": "",
            "handle_color": null
          }
        },
        "9f58d028434b4f0e90dcb9e37da8a94a": {
          "model_module": "@jupyter-widgets/base",
          "model_name": "LayoutModel",
          "model_module_version": "1.2.0",
          "state": {
            "_model_module": "@jupyter-widgets/base",
            "_model_module_version": "1.2.0",
            "_model_name": "LayoutModel",
            "_view_count": null,
            "_view_module": "@jupyter-widgets/base",
            "_view_module_version": "1.2.0",
            "_view_name": "LayoutView",
            "align_content": null,
            "align_items": null,
            "align_self": null,
            "border": null,
            "bottom": null,
            "display": null,
            "flex": null,
            "flex_flow": null,
            "grid_area": null,
            "grid_auto_columns": null,
            "grid_auto_flow": null,
            "grid_auto_rows": null,
            "grid_column": null,
            "grid_gap": null,
            "grid_row": null,
            "grid_template_areas": null,
            "grid_template_columns": null,
            "grid_template_rows": null,
            "height": null,
            "justify_content": null,
            "justify_items": null,
            "left": null,
            "margin": null,
            "max_height": null,
            "max_width": null,
            "min_height": null,
            "min_width": null,
            "object_fit": null,
            "object_position": null,
            "order": null,
            "overflow": null,
            "overflow_x": null,
            "overflow_y": null,
            "padding": null,
            "right": null,
            "top": null,
            "visibility": null,
            "width": null
          }
        },
        "d16f4c627afb4bb78ad78f4c37ef727e": {
          "model_module": "@jupyter-widgets/controls",
          "model_name": "VBoxModel",
          "model_module_version": "1.5.0",
          "state": {
            "_dom_classes": [
              "widget-interact"
            ],
            "_model_module": "@jupyter-widgets/controls",
            "_model_module_version": "1.5.0",
            "_model_name": "VBoxModel",
            "_view_count": null,
            "_view_module": "@jupyter-widgets/controls",
            "_view_module_version": "1.5.0",
            "_view_name": "VBoxView",
            "box_style": "",
            "children": [
              "IPY_MODEL_c36cf9302616409e9f424773913013bb",
              "IPY_MODEL_56eb7afe6b0a4c3f8e3d10f284edc6ff",
              "IPY_MODEL_dbcb4b97f2fe4e69b199cc805ed01fbf"
            ],
            "layout": "IPY_MODEL_ae2d83a1850a487c869be96a24f01961"
          }
        },
        "c36cf9302616409e9f424773913013bb": {
          "model_module": "@jupyter-widgets/controls",
          "model_name": "FloatSliderModel",
          "model_module_version": "1.5.0",
          "state": {
            "_dom_classes": [],
            "_model_module": "@jupyter-widgets/controls",
            "_model_module_version": "1.5.0",
            "_model_name": "FloatSliderModel",
            "_view_count": null,
            "_view_module": "@jupyter-widgets/controls",
            "_view_module_version": "1.5.0",
            "_view_name": "FloatSliderView",
            "continuous_update": true,
            "description": "phi0",
            "description_tooltip": null,
            "disabled": false,
            "layout": "IPY_MODEL_2a887f82a8b84dbeaa4dccd690dd720b",
            "max": 1,
            "min": -1,
            "orientation": "horizontal",
            "readout": true,
            "readout_format": ".2f",
            "step": 0.1,
            "style": "IPY_MODEL_7520c0c9d3f84a7fb8c9d48ccf3dfc59",
            "value": 0
          }
        },
        "56eb7afe6b0a4c3f8e3d10f284edc6ff": {
          "model_module": "@jupyter-widgets/controls",
          "model_name": "FloatSliderModel",
          "model_module_version": "1.5.0",
          "state": {
            "_dom_classes": [],
            "_model_module": "@jupyter-widgets/controls",
            "_model_module_version": "1.5.0",
            "_model_name": "FloatSliderModel",
            "_view_count": null,
            "_view_module": "@jupyter-widgets/controls",
            "_view_module_version": "1.5.0",
            "_view_name": "FloatSliderView",
            "continuous_update": true,
            "description": "omega0",
            "description_tooltip": null,
            "disabled": false,
            "layout": "IPY_MODEL_a21e5cc70ef84f7182ab69f5d3ba670b",
            "max": 1,
            "min": -1,
            "orientation": "horizontal",
            "readout": true,
            "readout_format": ".2f",
            "step": 0.1,
            "style": "IPY_MODEL_8523bf77cfc346a59988dbf2b3746886",
            "value": 0
          }
        },
        "dbcb4b97f2fe4e69b199cc805ed01fbf": {
          "model_module": "@jupyter-widgets/output",
          "model_name": "OutputModel",
          "model_module_version": "1.0.0",
          "state": {
            "_dom_classes": [],
            "_model_module": "@jupyter-widgets/output",
            "_model_module_version": "1.0.0",
            "_model_name": "OutputModel",
            "_view_count": null,
            "_view_module": "@jupyter-widgets/output",
            "_view_module_version": "1.0.0",
            "_view_name": "OutputView",
            "layout": "IPY_MODEL_0a1638368d8c477eba8b3a51d1d7ab9a",
            "msg_id": "",
            "outputs": [
              {
                "output_type": "display_data",
                "data": {
                  "text/plain": "<Figure size 864x144 with 3 Axes>",
                  "image/png": "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\n"
                },
                "metadata": {
                  "needs_background": "light"
                }
              }
            ]
          }
        },
        "ae2d83a1850a487c869be96a24f01961": {
          "model_module": "@jupyter-widgets/base",
          "model_name": "LayoutModel",
          "model_module_version": "1.2.0",
          "state": {
            "_model_module": "@jupyter-widgets/base",
            "_model_module_version": "1.2.0",
            "_model_name": "LayoutModel",
            "_view_count": null,
            "_view_module": "@jupyter-widgets/base",
            "_view_module_version": "1.2.0",
            "_view_name": "LayoutView",
            "align_content": null,
            "align_items": null,
            "align_self": null,
            "border": null,
            "bottom": null,
            "display": null,
            "flex": null,
            "flex_flow": null,
            "grid_area": null,
            "grid_auto_columns": null,
            "grid_auto_flow": null,
            "grid_auto_rows": null,
            "grid_column": null,
            "grid_gap": null,
            "grid_row": null,
            "grid_template_areas": null,
            "grid_template_columns": null,
            "grid_template_rows": null,
            "height": null,
            "justify_content": null,
            "justify_items": null,
            "left": null,
            "margin": null,
            "max_height": null,
            "max_width": null,
            "min_height": null,
            "min_width": null,
            "object_fit": null,
            "object_position": null,
            "order": null,
            "overflow": null,
            "overflow_x": null,
            "overflow_y": null,
            "padding": null,
            "right": null,
            "top": null,
            "visibility": null,
            "width": null
          }
        },
        "2a887f82a8b84dbeaa4dccd690dd720b": {
          "model_module": "@jupyter-widgets/base",
          "model_name": "LayoutModel",
          "model_module_version": "1.2.0",
          "state": {
            "_model_module": "@jupyter-widgets/base",
            "_model_module_version": "1.2.0",
            "_model_name": "LayoutModel",
            "_view_count": null,
            "_view_module": "@jupyter-widgets/base",
            "_view_module_version": "1.2.0",
            "_view_name": "LayoutView",
            "align_content": null,
            "align_items": null,
            "align_self": null,
            "border": null,
            "bottom": null,
            "display": null,
            "flex": null,
            "flex_flow": null,
            "grid_area": null,
            "grid_auto_columns": null,
            "grid_auto_flow": null,
            "grid_auto_rows": null,
            "grid_column": null,
            "grid_gap": null,
            "grid_row": null,
            "grid_template_areas": null,
            "grid_template_columns": null,
            "grid_template_rows": null,
            "height": null,
            "justify_content": null,
            "justify_items": null,
            "left": null,
            "margin": null,
            "max_height": null,
            "max_width": null,
            "min_height": null,
            "min_width": null,
            "object_fit": null,
            "object_position": null,
            "order": null,
            "overflow": null,
            "overflow_x": null,
            "overflow_y": null,
            "padding": null,
            "right": null,
            "top": null,
            "visibility": null,
            "width": null
          }
        },
        "7520c0c9d3f84a7fb8c9d48ccf3dfc59": {
          "model_module": "@jupyter-widgets/controls",
          "model_name": "SliderStyleModel",
          "model_module_version": "1.5.0",
          "state": {
            "_model_module": "@jupyter-widgets/controls",
            "_model_module_version": "1.5.0",
            "_model_name": "SliderStyleModel",
            "_view_count": null,
            "_view_module": "@jupyter-widgets/base",
            "_view_module_version": "1.2.0",
            "_view_name": "StyleView",
            "description_width": "",
            "handle_color": null
          }
        },
        "a21e5cc70ef84f7182ab69f5d3ba670b": {
          "model_module": "@jupyter-widgets/base",
          "model_name": "LayoutModel",
          "model_module_version": "1.2.0",
          "state": {
            "_model_module": "@jupyter-widgets/base",
            "_model_module_version": "1.2.0",
            "_model_name": "LayoutModel",
            "_view_count": null,
            "_view_module": "@jupyter-widgets/base",
            "_view_module_version": "1.2.0",
            "_view_name": "LayoutView",
            "align_content": null,
            "align_items": null,
            "align_self": null,
            "border": null,
            "bottom": null,
            "display": null,
            "flex": null,
            "flex_flow": null,
            "grid_area": null,
            "grid_auto_columns": null,
            "grid_auto_flow": null,
            "grid_auto_rows": null,
            "grid_column": null,
            "grid_gap": null,
            "grid_row": null,
            "grid_template_areas": null,
            "grid_template_columns": null,
            "grid_template_rows": null,
            "height": null,
            "justify_content": null,
            "justify_items": null,
            "left": null,
            "margin": null,
            "max_height": null,
            "max_width": null,
            "min_height": null,
            "min_width": null,
            "object_fit": null,
            "object_position": null,
            "order": null,
            "overflow": null,
            "overflow_x": null,
            "overflow_y": null,
            "padding": null,
            "right": null,
            "top": null,
            "visibility": null,
            "width": null
          }
        },
        "8523bf77cfc346a59988dbf2b3746886": {
          "model_module": "@jupyter-widgets/controls",
          "model_name": "SliderStyleModel",
          "model_module_version": "1.5.0",
          "state": {
            "_model_module": "@jupyter-widgets/controls",
            "_model_module_version": "1.5.0",
            "_model_name": "SliderStyleModel",
            "_view_count": null,
            "_view_module": "@jupyter-widgets/base",
            "_view_module_version": "1.2.0",
            "_view_name": "StyleView",
            "description_width": "",
            "handle_color": null
          }
        },
        "0a1638368d8c477eba8b3a51d1d7ab9a": {
          "model_module": "@jupyter-widgets/base",
          "model_name": "LayoutModel",
          "model_module_version": "1.2.0",
          "state": {
            "_model_module": "@jupyter-widgets/base",
            "_model_module_version": "1.2.0",
            "_model_name": "LayoutModel",
            "_view_count": null,
            "_view_module": "@jupyter-widgets/base",
            "_view_module_version": "1.2.0",
            "_view_name": "LayoutView",
            "align_content": null,
            "align_items": null,
            "align_self": null,
            "border": null,
            "bottom": null,
            "display": null,
            "flex": null,
            "flex_flow": null,
            "grid_area": null,
            "grid_auto_columns": null,
            "grid_auto_flow": null,
            "grid_auto_rows": null,
            "grid_column": null,
            "grid_gap": null,
            "grid_row": null,
            "grid_template_areas": null,
            "grid_template_columns": null,
            "grid_template_rows": null,
            "height": null,
            "justify_content": null,
            "justify_items": null,
            "left": null,
            "margin": null,
            "max_height": null,
            "max_width": null,
            "min_height": null,
            "min_width": null,
            "object_fit": null,
            "object_position": null,
            "order": null,
            "overflow": null,
            "overflow_x": null,
            "overflow_y": null,
            "padding": null,
            "right": null,
            "top": null,
            "visibility": null,
            "width": null
          }
        },
        "74510a8263ca45468fe48e6d411a6316": {
          "model_module": "@jupyter-widgets/controls",
          "model_name": "VBoxModel",
          "model_module_version": "1.5.0",
          "state": {
            "_dom_classes": [
              "widget-interact"
            ],
            "_model_module": "@jupyter-widgets/controls",
            "_model_module_version": "1.5.0",
            "_model_name": "VBoxModel",
            "_view_count": null,
            "_view_module": "@jupyter-widgets/controls",
            "_view_module_version": "1.5.0",
            "_view_name": "VBoxView",
            "box_style": "",
            "children": [
              "IPY_MODEL_98d34297912e4f4a85be1e89250a17e1",
              "IPY_MODEL_ce23a957a8094f56afcfaa47cc6c4bc0",
              "IPY_MODEL_93474c3f482844bea9329419318f548a"
            ],
            "layout": "IPY_MODEL_f144f10b25064506bc859d52ca5e7297"
          }
        },
        "98d34297912e4f4a85be1e89250a17e1": {
          "model_module": "@jupyter-widgets/controls",
          "model_name": "FloatSliderModel",
          "model_module_version": "1.5.0",
          "state": {
            "_dom_classes": [],
            "_model_module": "@jupyter-widgets/controls",
            "_model_module_version": "1.5.0",
            "_model_name": "FloatSliderModel",
            "_view_count": null,
            "_view_module": "@jupyter-widgets/controls",
            "_view_module_version": "1.5.0",
            "_view_name": "FloatSliderView",
            "continuous_update": true,
            "description": "rotate ⤾",
            "description_tooltip": null,
            "disabled": false,
            "layout": "IPY_MODEL_9320f09e29864e3cbfc485227586989b",
            "max": 90,
            "min": -90,
            "orientation": "horizontal",
            "readout": true,
            "readout_format": ".2f",
            "step": 5,
            "style": "IPY_MODEL_8487ab22ff104df69ddf881ed78e8673",
            "value": 10
          }
        },
        "ce23a957a8094f56afcfaa47cc6c4bc0": {
          "model_module": "@jupyter-widgets/controls",
          "model_name": "FloatLogSliderModel",
          "model_module_version": "1.5.0",
          "state": {
            "_dom_classes": [],
            "_model_module": "@jupyter-widgets/controls",
            "_model_module_version": "1.5.0",
            "_model_name": "FloatLogSliderModel",
            "_view_count": null,
            "_view_module": "@jupyter-widgets/controls",
            "_view_module_version": "1.5.0",
            "_view_name": "FloatLogSliderView",
            "base": 10,
            "continuous_update": true,
            "description": "stretch ↕",
            "description_tooltip": null,
            "disabled": false,
            "layout": "IPY_MODEL_27ab20ef0534489ca96a2dc320713954",
            "max": 1,
            "min": -1,
            "orientation": "horizontal",
            "readout": true,
            "readout_format": ".3g",
            "step": 0.1,
            "style": "IPY_MODEL_52a250be199e4a649efadfe6a2806d98",
            "value": 6.309573444801933
          }
        },
        "93474c3f482844bea9329419318f548a": {
          "model_module": "@jupyter-widgets/output",
          "model_name": "OutputModel",
          "model_module_version": "1.0.0",
          "state": {
            "_dom_classes": [],
            "_model_module": "@jupyter-widgets/output",
            "_model_module_version": "1.0.0",
            "_model_name": "OutputModel",
            "_view_count": null,
            "_view_module": "@jupyter-widgets/output",
            "_view_module_version": "1.0.0",
            "_view_name": "OutputView",
            "layout": "IPY_MODEL_e143d570b7ff4e1594aa5610f23357ab",
            "msg_id": "",
            "outputs": [
              {
                "output_type": "display_data",
                "data": {
                  "text/plain": "<Figure size 216x216 with 1 Axes>",
                  "image/png": "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\n"
                },
                "metadata": {
                  "needs_background": "light"
                }
              }
            ]
          }
        },
        "f144f10b25064506bc859d52ca5e7297": {
          "model_module": "@jupyter-widgets/base",
          "model_name": "LayoutModel",
          "model_module_version": "1.2.0",
          "state": {
            "_model_module": "@jupyter-widgets/base",
            "_model_module_version": "1.2.0",
            "_model_name": "LayoutModel",
            "_view_count": null,
            "_view_module": "@jupyter-widgets/base",
            "_view_module_version": "1.2.0",
            "_view_name": "LayoutView",
            "align_content": null,
            "align_items": null,
            "align_self": null,
            "border": null,
            "bottom": null,
            "display": null,
            "flex": null,
            "flex_flow": null,
            "grid_area": null,
            "grid_auto_columns": null,
            "grid_auto_flow": null,
            "grid_auto_rows": null,
            "grid_column": null,
            "grid_gap": null,
            "grid_row": null,
            "grid_template_areas": null,
            "grid_template_columns": null,
            "grid_template_rows": null,
            "height": null,
            "justify_content": null,
            "justify_items": null,
            "left": null,
            "margin": null,
            "max_height": null,
            "max_width": null,
            "min_height": null,
            "min_width": null,
            "object_fit": null,
            "object_position": null,
            "order": null,
            "overflow": null,
            "overflow_x": null,
            "overflow_y": null,
            "padding": null,
            "right": null,
            "top": null,
            "visibility": null,
            "width": null
          }
        },
        "9320f09e29864e3cbfc485227586989b": {
          "model_module": "@jupyter-widgets/base",
          "model_name": "LayoutModel",
          "model_module_version": "1.2.0",
          "state": {
            "_model_module": "@jupyter-widgets/base",
            "_model_module_version": "1.2.0",
            "_model_name": "LayoutModel",
            "_view_count": null,
            "_view_module": "@jupyter-widgets/base",
            "_view_module_version": "1.2.0",
            "_view_name": "LayoutView",
            "align_content": null,
            "align_items": null,
            "align_self": null,
            "border": null,
            "bottom": null,
            "display": null,
            "flex": null,
            "flex_flow": null,
            "grid_area": null,
            "grid_auto_columns": null,
            "grid_auto_flow": null,
            "grid_auto_rows": null,
            "grid_column": null,
            "grid_gap": null,
            "grid_row": null,
            "grid_template_areas": null,
            "grid_template_columns": null,
            "grid_template_rows": null,
            "height": null,
            "justify_content": null,
            "justify_items": null,
            "left": null,
            "margin": null,
            "max_height": null,
            "max_width": null,
            "min_height": null,
            "min_width": null,
            "object_fit": null,
            "object_position": null,
            "order": null,
            "overflow": null,
            "overflow_x": null,
            "overflow_y": null,
            "padding": null,
            "right": null,
            "top": null,
            "visibility": null,
            "width": null
          }
        },
        "8487ab22ff104df69ddf881ed78e8673": {
          "model_module": "@jupyter-widgets/controls",
          "model_name": "SliderStyleModel",
          "model_module_version": "1.5.0",
          "state": {
            "_model_module": "@jupyter-widgets/controls",
            "_model_module_version": "1.5.0",
            "_model_name": "SliderStyleModel",
            "_view_count": null,
            "_view_module": "@jupyter-widgets/base",
            "_view_module_version": "1.2.0",
            "_view_name": "StyleView",
            "description_width": "",
            "handle_color": null
          }
        },
        "27ab20ef0534489ca96a2dc320713954": {
          "model_module": "@jupyter-widgets/base",
          "model_name": "LayoutModel",
          "model_module_version": "1.2.0",
          "state": {
            "_model_module": "@jupyter-widgets/base",
            "_model_module_version": "1.2.0",
            "_model_name": "LayoutModel",
            "_view_count": null,
            "_view_module": "@jupyter-widgets/base",
            "_view_module_version": "1.2.0",
            "_view_name": "LayoutView",
            "align_content": null,
            "align_items": null,
            "align_self": null,
            "border": null,
            "bottom": null,
            "display": null,
            "flex": null,
            "flex_flow": null,
            "grid_area": null,
            "grid_auto_columns": null,
            "grid_auto_flow": null,
            "grid_auto_rows": null,
            "grid_column": null,
            "grid_gap": null,
            "grid_row": null,
            "grid_template_areas": null,
            "grid_template_columns": null,
            "grid_template_rows": null,
            "height": null,
            "justify_content": null,
            "justify_items": null,
            "left": null,
            "margin": null,
            "max_height": null,
            "max_width": null,
            "min_height": null,
            "min_width": null,
            "object_fit": null,
            "object_position": null,
            "order": null,
            "overflow": null,
            "overflow_x": null,
            "overflow_y": null,
            "padding": null,
            "right": null,
            "top": null,
            "visibility": null,
            "width": null
          }
        },
        "52a250be199e4a649efadfe6a2806d98": {
          "model_module": "@jupyter-widgets/controls",
          "model_name": "SliderStyleModel",
          "model_module_version": "1.5.0",
          "state": {
            "_model_module": "@jupyter-widgets/controls",
            "_model_module_version": "1.5.0",
            "_model_name": "SliderStyleModel",
            "_view_count": null,
            "_view_module": "@jupyter-widgets/base",
            "_view_module_version": "1.2.0",
            "_view_name": "StyleView",
            "description_width": "",
            "handle_color": null
          }
        },
        "e143d570b7ff4e1594aa5610f23357ab": {
          "model_module": "@jupyter-widgets/base",
          "model_name": "LayoutModel",
          "model_module_version": "1.2.0",
          "state": {
            "_model_module": "@jupyter-widgets/base",
            "_model_module_version": "1.2.0",
            "_model_name": "LayoutModel",
            "_view_count": null,
            "_view_module": "@jupyter-widgets/base",
            "_view_module_version": "1.2.0",
            "_view_name": "LayoutView",
            "align_content": null,
            "align_items": null,
            "align_self": null,
            "border": null,
            "bottom": null,
            "display": null,
            "flex": null,
            "flex_flow": null,
            "grid_area": null,
            "grid_auto_columns": null,
            "grid_auto_flow": null,
            "grid_auto_rows": null,
            "grid_column": null,
            "grid_gap": null,
            "grid_row": null,
            "grid_template_areas": null,
            "grid_template_columns": null,
            "grid_template_rows": null,
            "height": null,
            "justify_content": null,
            "justify_items": null,
            "left": null,
            "margin": null,
            "max_height": null,
            "max_width": null,
            "min_height": null,
            "min_width": null,
            "object_fit": null,
            "object_position": null,
            "order": null,
            "overflow": null,
            "overflow_x": null,
            "overflow_y": null,
            "padding": null,
            "right": null,
            "top": null,
            "visibility": null,
            "width": null
          }
        },
        "efc19b062505495b94e8da8e2cb51cda": {
          "model_module": "@jupyter-widgets/controls",
          "model_name": "VBoxModel",
          "model_module_version": "1.5.0",
          "state": {
            "_dom_classes": [
              "widget-interact"
            ],
            "_model_module": "@jupyter-widgets/controls",
            "_model_module_version": "1.5.0",
            "_model_name": "VBoxModel",
            "_view_count": null,
            "_view_module": "@jupyter-widgets/controls",
            "_view_module_version": "1.5.0",
            "_view_name": "VBoxView",
            "box_style": "",
            "children": [
              "IPY_MODEL_fa0f9c4068ee4da08ebd3dedce7b5390",
              "IPY_MODEL_282a1a4c90e4406da3fb366d5329aa83",
              "IPY_MODEL_ffc1b308a8d14ae5b784dfea21bca1e9"
            ],
            "layout": "IPY_MODEL_b4fd96494116412cb3780c44fd3c4afe"
          }
        },
        "fa0f9c4068ee4da08ebd3dedce7b5390": {
          "model_module": "@jupyter-widgets/controls",
          "model_name": "FloatSliderModel",
          "model_module_version": "1.5.0",
          "state": {
            "_dom_classes": [],
            "_model_module": "@jupyter-widgets/controls",
            "_model_module_version": "1.5.0",
            "_model_name": "FloatSliderModel",
            "_view_count": null,
            "_view_module": "@jupyter-widgets/controls",
            "_view_module_version": "1.5.0",
            "_view_name": "FloatSliderView",
            "continuous_update": true,
            "description": "λ1",
            "description_tooltip": null,
            "disabled": false,
            "layout": "IPY_MODEL_a34d19d7af3845c7abe8a6575d1011fc",
            "max": 1,
            "min": -1,
            "orientation": "horizontal",
            "readout": true,
            "readout_format": ".2f",
            "step": 0.1,
            "style": "IPY_MODEL_bc106e682af14a6a924bf264dca61a17",
            "value": 0
          }
        },
        "282a1a4c90e4406da3fb366d5329aa83": {
          "model_module": "@jupyter-widgets/controls",
          "model_name": "FloatSliderModel",
          "model_module_version": "1.5.0",
          "state": {
            "_dom_classes": [],
            "_model_module": "@jupyter-widgets/controls",
            "_model_module_version": "1.5.0",
            "_model_name": "FloatSliderModel",
            "_view_count": null,
            "_view_module": "@jupyter-widgets/controls",
            "_view_module_version": "1.5.0",
            "_view_name": "FloatSliderView",
            "continuous_update": true,
            "description": "λ2",
            "description_tooltip": null,
            "disabled": false,
            "layout": "IPY_MODEL_ee25d02e2fa342ac8fff2069df30596a",
            "max": 1,
            "min": -1,
            "orientation": "horizontal",
            "readout": true,
            "readout_format": ".2f",
            "step": 0.1,
            "style": "IPY_MODEL_8fab5d917b0d4575aa833ba2b2b54b82",
            "value": 0
          }
        },
        "ffc1b308a8d14ae5b784dfea21bca1e9": {
          "model_module": "@jupyter-widgets/output",
          "model_name": "OutputModel",
          "model_module_version": "1.0.0",
          "state": {
            "_dom_classes": [],
            "_model_module": "@jupyter-widgets/output",
            "_model_module_version": "1.0.0",
            "_model_name": "OutputModel",
            "_view_count": null,
            "_view_module": "@jupyter-widgets/output",
            "_view_module_version": "1.0.0",
            "_view_name": "OutputView",
            "layout": "IPY_MODEL_774cf98da0904252a5cd2b550d36808f",
            "msg_id": "",
            "outputs": [
              {
                "output_type": "display_data",
                "data": {
                  "text/plain": "<Figure size 216x216 with 1 Axes>",
                  "image/png": "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\n"
                },
                "metadata": {
                  "needs_background": "light"
                }
              }
            ]
          }
        },
        "b4fd96494116412cb3780c44fd3c4afe": {
          "model_module": "@jupyter-widgets/base",
          "model_name": "LayoutModel",
          "model_module_version": "1.2.0",
          "state": {
            "_model_module": "@jupyter-widgets/base",
            "_model_module_version": "1.2.0",
            "_model_name": "LayoutModel",
            "_view_count": null,
            "_view_module": "@jupyter-widgets/base",
            "_view_module_version": "1.2.0",
            "_view_name": "LayoutView",
            "align_content": null,
            "align_items": null,
            "align_self": null,
            "border": null,
            "bottom": null,
            "display": null,
            "flex": null,
            "flex_flow": null,
            "grid_area": null,
            "grid_auto_columns": null,
            "grid_auto_flow": null,
            "grid_auto_rows": null,
            "grid_column": null,
            "grid_gap": null,
            "grid_row": null,
            "grid_template_areas": null,
            "grid_template_columns": null,
            "grid_template_rows": null,
            "height": null,
            "justify_content": null,
            "justify_items": null,
            "left": null,
            "margin": null,
            "max_height": null,
            "max_width": null,
            "min_height": null,
            "min_width": null,
            "object_fit": null,
            "object_position": null,
            "order": null,
            "overflow": null,
            "overflow_x": null,
            "overflow_y": null,
            "padding": null,
            "right": null,
            "top": null,
            "visibility": null,
            "width": null
          }
        },
        "a34d19d7af3845c7abe8a6575d1011fc": {
          "model_module": "@jupyter-widgets/base",
          "model_name": "LayoutModel",
          "model_module_version": "1.2.0",
          "state": {
            "_model_module": "@jupyter-widgets/base",
            "_model_module_version": "1.2.0",
            "_model_name": "LayoutModel",
            "_view_count": null,
            "_view_module": "@jupyter-widgets/base",
            "_view_module_version": "1.2.0",
            "_view_name": "LayoutView",
            "align_content": null,
            "align_items": null,
            "align_self": null,
            "border": null,
            "bottom": null,
            "display": null,
            "flex": null,
            "flex_flow": null,
            "grid_area": null,
            "grid_auto_columns": null,
            "grid_auto_flow": null,
            "grid_auto_rows": null,
            "grid_column": null,
            "grid_gap": null,
            "grid_row": null,
            "grid_template_areas": null,
            "grid_template_columns": null,
            "grid_template_rows": null,
            "height": null,
            "justify_content": null,
            "justify_items": null,
            "left": null,
            "margin": null,
            "max_height": null,
            "max_width": null,
            "min_height": null,
            "min_width": null,
            "object_fit": null,
            "object_position": null,
            "order": null,
            "overflow": null,
            "overflow_x": null,
            "overflow_y": null,
            "padding": null,
            "right": null,
            "top": null,
            "visibility": null,
            "width": null
          }
        },
        "bc106e682af14a6a924bf264dca61a17": {
          "model_module": "@jupyter-widgets/controls",
          "model_name": "SliderStyleModel",
          "model_module_version": "1.5.0",
          "state": {
            "_model_module": "@jupyter-widgets/controls",
            "_model_module_version": "1.5.0",
            "_model_name": "SliderStyleModel",
            "_view_count": null,
            "_view_module": "@jupyter-widgets/base",
            "_view_module_version": "1.2.0",
            "_view_name": "StyleView",
            "description_width": "",
            "handle_color": null
          }
        },
        "ee25d02e2fa342ac8fff2069df30596a": {
          "model_module": "@jupyter-widgets/base",
          "model_name": "LayoutModel",
          "model_module_version": "1.2.0",
          "state": {
            "_model_module": "@jupyter-widgets/base",
            "_model_module_version": "1.2.0",
            "_model_name": "LayoutModel",
            "_view_count": null,
            "_view_module": "@jupyter-widgets/base",
            "_view_module_version": "1.2.0",
            "_view_name": "LayoutView",
            "align_content": null,
            "align_items": null,
            "align_self": null,
            "border": null,
            "bottom": null,
            "display": null,
            "flex": null,
            "flex_flow": null,
            "grid_area": null,
            "grid_auto_columns": null,
            "grid_auto_flow": null,
            "grid_auto_rows": null,
            "grid_column": null,
            "grid_gap": null,
            "grid_row": null,
            "grid_template_areas": null,
            "grid_template_columns": null,
            "grid_template_rows": null,
            "height": null,
            "justify_content": null,
            "justify_items": null,
            "left": null,
            "margin": null,
            "max_height": null,
            "max_width": null,
            "min_height": null,
            "min_width": null,
            "object_fit": null,
            "object_position": null,
            "order": null,
            "overflow": null,
            "overflow_x": null,
            "overflow_y": null,
            "padding": null,
            "right": null,
            "top": null,
            "visibility": null,
            "width": null
          }
        },
        "8fab5d917b0d4575aa833ba2b2b54b82": {
          "model_module": "@jupyter-widgets/controls",
          "model_name": "SliderStyleModel",
          "model_module_version": "1.5.0",
          "state": {
            "_model_module": "@jupyter-widgets/controls",
            "_model_module_version": "1.5.0",
            "_model_name": "SliderStyleModel",
            "_view_count": null,
            "_view_module": "@jupyter-widgets/base",
            "_view_module_version": "1.2.0",
            "_view_name": "StyleView",
            "description_width": "",
            "handle_color": null
          }
        },
        "774cf98da0904252a5cd2b550d36808f": {
          "model_module": "@jupyter-widgets/base",
          "model_name": "LayoutModel",
          "model_module_version": "1.2.0",
          "state": {
            "_model_module": "@jupyter-widgets/base",
            "_model_module_version": "1.2.0",
            "_model_name": "LayoutModel",
            "_view_count": null,
            "_view_module": "@jupyter-widgets/base",
            "_view_module_version": "1.2.0",
            "_view_name": "LayoutView",
            "align_content": null,
            "align_items": null,
            "align_self": null,
            "border": null,
            "bottom": null,
            "display": null,
            "flex": null,
            "flex_flow": null,
            "grid_area": null,
            "grid_auto_columns": null,
            "grid_auto_flow": null,
            "grid_auto_rows": null,
            "grid_column": null,
            "grid_gap": null,
            "grid_row": null,
            "grid_template_areas": null,
            "grid_template_columns": null,
            "grid_template_rows": null,
            "height": null,
            "justify_content": null,
            "justify_items": null,
            "left": null,
            "margin": null,
            "max_height": null,
            "max_width": null,
            "min_height": null,
            "min_width": null,
            "object_fit": null,
            "object_position": null,
            "order": null,
            "overflow": null,
            "overflow_x": null,
            "overflow_y": null,
            "padding": null,
            "right": null,
            "top": null,
            "visibility": null,
            "width": null
          }
        }
      }
    }
  },
  "cells": [
    {
      "cell_type": "markdown",
      "metadata": {
        "id": "view-in-github",
        "colab_type": "text"
      },
      "source": [
        "<a href=\"https://colab.research.google.com/github/NinelK/SA_DS_tutorial/blob/main/DS_tutorial.ipynb\" target=\"_parent\"><img src=\"https://colab.research.google.com/assets/colab-badge.svg\" alt=\"Open In Colab\"/></a>"
      ]
    },
    {
      "cell_type": "markdown",
      "source": [
        "# **Tutorial:** Dynamical systems in neuroscience"
      ],
      "metadata": {
        "id": "9S_38ayWhm5W"
      }
    },
    {
      "cell_type": "markdown",
      "source": [
        "## Introduction\n",
        "\n",
        "Dynamical systems are systems that **evolve** in time. These can be physical systems, economic systems, neurons, neural networks or the whole brain. No matter what the system is, the universal dynamical system framework can help us understand its time-dependent behavior.\n",
        "\n",
        "When modelling dynamics, we can represent time in two different ways: *discrete* or *continuous*. In both cases, we can write down the evolution of the system as a function of its previous `state' $\\mathbf{x}$ and external inputs that the system receives $\\mathbf{u}$:\n",
        "\n",
        "Discrete time systems               |           Continuous time systems\n",
        "------------------------------------|-------------------------------------\n",
        " $$\\mathbf{x}_{t+1} = F_d(\\mathbf{x}_t,\\mathbf{u}_t)$$           |    $$\\frac{d\\mathbf{x}(t)}{dt} = F_c(\\mathbf{x}(t),\\mathbf{u}(t))$$\n",
        " \n",
        "*Notation:* The variables in **bold** here correspond to vectors, e.g. $\\mathbf{x} = (x_1,x_2,\\ldots,x_n)^T$.\n",
        "\n",
        "Here, the state $\\mathbf{x}$ can, for instance, correspont to neural firing. In discrete case, $\\mathbf{x}_t$ would be the number of spikes emmited within one time bin, while $\\mathbf{x}(t)$ could be a function which is only non-zero at spike times.\n",
        "External inputs $\\mathbf{u}$ in this case would correspond to the inputs from other neurons.\n",
        "\n",
        "The key part of the dynamical systems framework is the **evolution operator** $F$. Whether continuous $F_c$ or discrete $F_d$, it can tell us a lot about the system:\n",
        "> The power of the dynamical systems approach to neuroscience, as well as to many other sciences, is that we can tell something, or many things, about a system without knowing all the details that govern the system evolution. We do not even use equations to do that! Some may even wonder why we call it a mathematical theory.        *Eugene Izhikevich [1]*\n",
        "\n",
        "Therefore, the main goal of the tutorial is to learn how to tell something about the dynamical system knowing $F$."
      ],
      "metadata": {
        "id": "5lSgytL2f3OV"
      }
    },
    {
      "cell_type": "markdown",
      "source": [
        "# Part 1: Autonomous linear dynamical systems"
      ],
      "metadata": {
        "id": "N_XDFK9Xe9Sj"
      }
    },
    {
      "cell_type": "markdown",
      "source": [
        "Sometimes, we can assume that the system does not receive any external inputs and evolves in time on its own ( $u(t)=0$ ). Such dynamical systems are called **autonomous**. Autonomous systems are common in physics, but also surprisingly applicable to some biological neural networks, as we will see in the last part of the tutorial. Lack of external inputs greatly simplifies the analysis of the dynamics $F$, so let us assume **no** external inputs for now.\n",
        "\n",
        "As a warmup, let us start with a 1D autonomous continuous-time dynamical system:\n",
        "\n",
        "$\\frac{dx}{dt} = \\dot x = a x; \\qquad x(0) = x_0 \\tag{1} $\n",
        "\n",
        "We are looking at a so-called *initial value problem* here: we know the state of the system $x_0$ at $t=0$, but we want to make a forcast into the future and find $x(t)$ for $t>0$."
      ],
      "metadata": {
        "id": "1-CiIYrZ9wCc"
      }
    },
    {
      "cell_type": "markdown",
      "source": [
        "## **Exercise 1:** Solving a 1D linear dynamics equation\n",
        "Let us solve equation (1) both numerically and analytically.\n",
        "\n",
        "For numerical integration, we will use the *forward Euler* scheme:\n",
        "\n",
        "$$\\frac{dx}{dt} \\approx \\frac{\\Delta x}{\\Delta t} = \\frac{x_{n+1} - x_n}{\\Delta t} \\tag{2}$$\n",
        "\n",
        "Complete the missing lines in the code below. Does analytical solution match the numerical solution? "
      ],
      "metadata": {
        "id": "5ONwZE8bH5jr"
      }
    },
    {
      "cell_type": "code",
      "source": [
        "from functools import partial\n",
        "import matplotlib.pyplot as plt\n",
        "import numpy as np\n",
        "import ipywidgets as widgets       # interactive display\n",
        "from matplotlib import rcParams\n",
        "rcParams.update({'font.size': 18})\n",
        "\n",
        "def analytical_1D_solution(x0,a,t):\n",
        "  ''' Finds a solution of x' = ax, for x(t), given x(0) = x0 '''\n",
        "  xt = x0 * np.exp(a*t) # 2remove\n",
        "  return xt\n",
        "\n",
        "def numerical_1D_solution(x0,a,t,dt=0.001):\n",
        "  ''' Integrates x' = ax using a forward Euler scheme, given x(0) = x0;\n",
        "  Returns x(t) '''\n",
        "  N = int(t//dt) # number of integration steps #2remove\n",
        "  xn = x0 # current value of x_n\n",
        "  for n in range(N):\n",
        "    x_n_plus_1 = xn + a*xn*dt # write a discretized update rule following (1-2) #2remove\n",
        "    xn = x_n_plus_1  \n",
        "  return xn\n",
        "\n",
        "T = 1 # total duration\n",
        "n_plot = 10 # how many points to plot\n",
        "\n",
        "@widgets.interact\n",
        "def plot_1D_solutions(x0 = 1., \n",
        "                      a = widgets.FloatSlider(min=-2., max=2., step=1, value=1),\n",
        "                      dt = widgets.FloatLogSlider(min=-3, max=-1, value=.01)):\n",
        "  a = a if type(a)==float else a.value\n",
        "  dt = dt if type(dt)==float else dt.value\n",
        "  plt.figure()\n",
        "  time = np.linspace(0,T,n_plot)\n",
        "  plt.plot(time, [analytical_1D_solution(x0,a,t) for t in time],label='Analytical solution')\n",
        "  plt.plot(time, [numerical_1D_solution(x0,a,t,dt) for t in time],label='Numerical solution')\n",
        "  plt.xlim([0,T])\n",
        "  plt.ylim([-5,5])\n",
        "  plt.axhline(0,c='k',linestyle=':')\n",
        "  plt.xlabel('time')\n",
        "  plt.ylabel('state x')\n",
        "  plt.legend()\n"
      ],
      "metadata": {
        "colab": {
          "base_uri": "https://localhost:8080/",
          "height": 391,
          "referenced_widgets": [
            "a0c45eaa1387464db351fc66000b3b59",
            "755284b019d64d698a62c8d28ac846e0",
            "c8ed7ff50cd34334b7636be406c41981",
            "cf5c46986bad42749a5179b0441a8a45",
            "42500c80494e4e35bed32e1060fe63d5",
            "19c96528c6e34054ab5cf9a9e3e30dda",
            "8d96eaf67b54436bbbce333213f4b1e7",
            "2390eff1fddf4e1b8230c67674c9d20d",
            "3f3e4f1f63b84183a92189be39f24c20",
            "1171337e8c12423792e39fd3a7f6b38e",
            "6fca9b7a90284bc6bebf20fc86693401",
            "4d477f129a6544238da4a69dd1daaee9",
            "091898f5662b4f6ea996a514c377291a"
          ]
        },
        "id": "dwtnAtUPNkyv",
        "outputId": "4b860e0f-df9b-4d53-ad5f-77452d5021f7"
      },
      "execution_count": 3,
      "outputs": [
        {
          "output_type": "display_data",
          "data": {
            "text/plain": [
              "interactive(children=(FloatSlider(value=1.0, description='x0', max=3.0, min=-1.0), FloatSlider(value=1.0, desc…"
            ],
            "application/vnd.jupyter.widget-view+json": {
              "version_major": 2,
              "version_minor": 0,
              "model_id": "a0c45eaa1387464db351fc66000b3b59"
            }
          },
          "metadata": {}
        }
      ]
    },
    {
      "cell_type": "markdown",
      "source": [
        "When do the solutions agree? Disagree? Why?\n",
        "\n",
        "How many qualitatively different solutions have you found? What are they?\n",
        "\n",
        "ADD SOLUTION"
      ],
      "metadata": {
        "id": "LL7--Zxr1ad3"
      }
    },
    {
      "cell_type": "markdown",
      "source": [
        "### Exercise 1a: What is $a$ is complex-valued?"
      ],
      "metadata": {
        "id": "osgyZ9Nj0_LQ"
      }
    },
    {
      "cell_type": "markdown",
      "source": [
        "In the exercise 1 we found that analytical solution is:\n",
        "$$x(t) = x_0 e^{at} $$\n",
        "but what if $a$ is complex?\n",
        "\n",
        "Let us substitute $a$ with $a_{real} + i a_{imag}$ and see what happens:\n"
      ],
      "metadata": {
        "id": "Xcd8cBTmCHPB"
      }
    },
    {
      "cell_type": "code",
      "source": [
        "@widgets.interact\n",
        "def plot_1D_solutions(x0 = 1., \n",
        "                      a_real = widgets.FloatSlider(min=-1., max=1., step=.1, value=0),\n",
        "                      a_imag = widgets.FloatSlider(min=-1, max=5, step=.1, value=1)):\n",
        "  a_real = a_real if type(a_real)==float else a_real.value\n",
        "  a_imag = a_imag if type(a_imag)==float else a_imag.value\n",
        "  a = complex(a_real,a_imag)\n",
        "  plt.figure()\n",
        "  time = np.linspace(0,T,n_plot)\n",
        "  plt.plot(time, [analytical_1D_solution(x0,a,t).real for t in time],label='Solution (real part)')\n",
        "  plt.plot(time, [analytical_1D_solution(x0,a,t).imag for t in time],label='Solution (imag part)')\n",
        "  plt.xlim([0,T])\n",
        "  plt.ylim([-5,5])\n",
        "  plt.axhline(0,c='k',linestyle=':')\n",
        "  plt.xlabel('time')\n",
        "  plt.ylabel('state x')\n",
        "  plt.legend(loc='lower left')\n"
      ],
      "metadata": {
        "colab": {
          "base_uri": "https://localhost:8080/",
          "height": 391,
          "referenced_widgets": [
            "e9b3762631dd4b1aa89b2c91b1798648",
            "d8c01d86d4154a1ba4acdd114387c580",
            "2590e1447d4f4453b99064c61460534a",
            "444bc2884f4a419aa3e8eafe73160fad",
            "43e4eee6bf314b668c5887091a528f0b",
            "b69d4b4a36b24970808bb518ab343f15",
            "66d8b3a3cdce424bbd2501e8c021c2df",
            "1979edd920c3459692e48618d0032b39",
            "2c5d8a80d1454beb99f6a94b9cc82945",
            "e5e0357f9e2f465d87430a069244b575",
            "e5e4978afdf84f74936256db44f3d433",
            "06c930ee289045c4aa03fb1a452e10db",
            "9f58d028434b4f0e90dcb9e37da8a94a"
          ]
        },
        "id": "-OCLpgAhA2od",
        "outputId": "3815424a-0742-4f3d-c3a7-b9ae7f4c27de"
      },
      "execution_count": 163,
      "outputs": [
        {
          "output_type": "display_data",
          "data": {
            "text/plain": [
              "interactive(children=(FloatSlider(value=1.0, description='x0', max=3.0, min=-1.0), FloatSlider(value=0.0, desc…"
            ],
            "application/vnd.jupyter.widget-view+json": {
              "version_major": 2,
              "version_minor": 0,
              "model_id": "e9b3762631dd4b1aa89b2c91b1798648"
            }
          },
          "metadata": {}
        }
      ]
    },
    {
      "cell_type": "code",
      "source": [
        ""
      ],
      "metadata": {
        "id": "UDbE_RtdHKpZ"
      },
      "execution_count": null,
      "outputs": []
    },
    {
      "cell_type": "markdown",
      "source": [
        " Let us recall that $e^{i a_{imag} t} = \\cos(a_{imag} t) + i\\sin(a_{imag} t)$ (*Euler's formula*).\n",
        "\n",
        " So the whole solution looks like:\n",
        " $$x(t) = \\underbrace{x_0 e^{a_{real} t} \\cos(a_{imag}t)}_\\mathrm{real~part} + \\underbrace{i x_0 e^{a_{real} t} \\sin(a_{imag}t)}_\\mathrm{imaginary~part}$$\n"
      ],
      "metadata": {
        "id": "3zzMK8fmEjJH"
      }
    },
    {
      "cell_type": "markdown",
      "source": [
        "### **Take home message**\n",
        "In a 1D dynamical system with a single parameter $a$:\n",
        "1. Real part of $a$ determines how the amplitude of the solution changes (decays, amplifies or stays constant)\n",
        "2. Imaginary part of $a$ determines the frequency of oscillations"
      ],
      "metadata": {
        "id": "240PYpGQF9XH"
      }
    },
    {
      "cell_type": "markdown",
      "source": [
        "## Auxilary variables and phase portraits\n",
        "\n",
        "We have solved a 1-dimensional linear dynamical system and learned that it can either converge to zero ($a<0$), stay constant ($a=0$) or exponentially explode ($a>0$). \n",
        "\n",
        "Deriving dynamics from first principles: mathematical pendulum\n",
        "\n",
        "LINKN!!! DRAW!\n",
        "\n",
        "$$\\ddot \\varphi = - g \\sin(\\varphi) \\approx -g \\varphi$$\n",
        "\n",
        "MENTION SMALL OSC\n",
        "Further simplify by assuming $g=1$.\n",
        "\n",
        "This equation, however, contains a higher order derivative ($\\ddot \\varphi$). How can we get rid of it?\n",
        "\n",
        "We can introduce an additional auxilary variable $\\omega = \\dot \\varphi$, then:\n",
        "$$\\ddot \\varphi = \\dot \\omega = -\\varphi$$\n",
        "\n",
        "Now we have two equations that resemble (1), which we can combine into a single vector-valued equation for a state $\\mathbf{x} = [~\\varphi,~\\theta~]^T$:\n",
        "\n",
        "$${\\begin{bmatrix}\n",
        "    \\dot \\varphi \\\\\n",
        "    \\dot \\omega\n",
        "\\end{bmatrix}} = \\begin{bmatrix}\n",
        "    0 & 1 \\\\\n",
        "    -1 & 0\n",
        "\\end{bmatrix} \\begin{bmatrix}\n",
        "    \\varphi \\\\\n",
        "    \\omega\n",
        "\\end{bmatrix} $$\n",
        "\n",
        "or simply:\n",
        "\n",
        "$$\\mathbf{\\dot x} = A \\mathbf{x} \\tag{3}$$\n",
        "\n",
        "\n",
        "SOME CONCLUSION ABOUT INTERPRETING DIMENSIONS\n"
      ],
      "metadata": {
        "id": "42ptqWjfHdKH"
      }
    },
    {
      "cell_type": "markdown",
      "source": [
        ""
      ],
      "metadata": {
        "id": "cGmw_2JdHnG_"
      }
    },
    {
      "cell_type": "markdown",
      "source": [
        "## **Exercise 2:** Solving a 2D linear dynamics equation"
      ],
      "metadata": {
        "id": "CRYnEyir1B9p"
      }
    },
    {
      "cell_type": "markdown",
      "source": [
        "Fill in the missing line of code below to numerically integrate the eq. (3).\n",
        "\n",
        "*Hint: for matrix multiplication in python you can use @ sign*\n",
        "\n",
        "*Note:* the analytical solution of eq. (3) is given to you in the code. It involves matrix exponential. If you don't know what it is -- no worries, it is not important for this tutorial."
      ],
      "metadata": {
        "id": "PYEkx4i3a4WV"
      }
    },
    {
      "cell_type": "code",
      "source": [
        "from functools import partial\n",
        "import matplotlib.pyplot as plt\n",
        "import numpy as np\n",
        "import ipywidgets as widgets       # interactive display\n",
        "from scipy.linalg import expm\n",
        "\n",
        "def analytical_2D_solution(x0,A,t):\n",
        "  ''' Finds a solution of x' = Ax, for x(t), given x(0) = x0 '''\n",
        "  xt = expm(A*t) @ x0 # this solution includes matrix exponential (https://en.wikipedia.org/wiki/Matrix_exponential)\n",
        "  return xt\n",
        "\n",
        "def numerical_2D_solution(x0,a,t,dt=0.01):\n",
        "  ''' Integrates x' = Ax using a forward Euler scheme, given x(0) = x0;\n",
        "  Returns x(t) '''\n",
        "  N = int(t//dt) # number of integration steps #2remove\n",
        "  xn = x0 # current value of x_n\n",
        "  for n in range(N):\n",
        "    x_n_plus_1 = xn + (A @ xn)*dt # write a discretized update rule following (1-2) #2remove\n",
        "    xn = x_n_plus_1  \n",
        "  return xn\n",
        "\n",
        "T = 10 # total duration\n",
        "n_plot = 100 # how many points to plot\n",
        "\n",
        "A = np.array([[0, 1], [-1, 0]])\n",
        "\n",
        "@widgets.interact\n",
        "def plot_2D_solutions(phi0 = (-1,1,0.1),\n",
        "                      omega0 = (-1,1,0.1)):\n",
        "  x0 = np.array([phi0, omega0])\n",
        "  fig, axes = plt.subplots(1,3,figsize=(12,2),gridspec_kw={'width_ratios': [2, 1, 2]})\n",
        "  time = np.linspace(0,T,n_plot)\n",
        "  analytical_traj = np.array([analytical_2D_solution(x0,A,t) for t in time])\n",
        "  numerical_traj = np.array([numerical_2D_solution(x0,A,t) for t in time])\n",
        "  \n",
        "  axes[1].plot(*numerical_traj.T,c='k')\n",
        "  axes[1].plot(*analytical_traj.T,c='C1',linestyle=':')\n",
        "  axes[1].set_xlabel(r\"$\\varphi$\")\n",
        "  axes[1].set_ylabel(r\"$\\omega = \\dot\\varphi$\")\n",
        "  axes[1].set_xlim([-1.2,1.2])\n",
        "  for ax in axes:\n",
        "    ax.set_ylim([-1.2,1.2])\n",
        "\n",
        "  axes[0].plot(numerical_traj[:,0],c='k')\n",
        "  axes[0].plot(analytical_traj[:,0],c='C1',linestyle=':')\n",
        "  axes[0].set_xlabel(r\"time\")\n",
        "  axes[0].set_ylabel(r\"$\\varphi$\")\n",
        "\n",
        "  axes[2].plot(numerical_traj[:,1],c='k',label='Numerical solution')\n",
        "  axes[2].plot(analytical_traj[:,1],c='C1',linestyle=':',label='Analytical solution')\n",
        "  axes[2].set_xlabel(r\"time\")\n",
        "  axes[2].set_ylabel(r\"$\\omega = \\dot\\varphi$\")\n",
        "  axes[2].legend(loc=(1.2,0))\n",
        "\n",
        "  plt.subplots_adjust(left=None, bottom=.2, right=None, top=None, wspace=0.4, hspace=0.)"
      ],
      "metadata": {
        "colab": {
          "base_uri": "https://localhost:8080/",
          "height": 240,
          "referenced_widgets": [
            "d16f4c627afb4bb78ad78f4c37ef727e",
            "c36cf9302616409e9f424773913013bb",
            "56eb7afe6b0a4c3f8e3d10f284edc6ff",
            "dbcb4b97f2fe4e69b199cc805ed01fbf",
            "ae2d83a1850a487c869be96a24f01961",
            "2a887f82a8b84dbeaa4dccd690dd720b",
            "7520c0c9d3f84a7fb8c9d48ccf3dfc59",
            "a21e5cc70ef84f7182ab69f5d3ba670b",
            "8523bf77cfc346a59988dbf2b3746886",
            "0a1638368d8c477eba8b3a51d1d7ab9a"
          ]
        },
        "id": "iKjR6PFOTIU_",
        "outputId": "c6b40ff9-55b2-4517-c09b-9805ea37822b"
      },
      "execution_count": 93,
      "outputs": [
        {
          "output_type": "display_data",
          "data": {
            "text/plain": [
              "interactive(children=(FloatSlider(value=0.0, description='phi0', max=1.0, min=-1.0), FloatSlider(value=0.0, de…"
            ],
            "application/vnd.jupyter.widget-view+json": {
              "version_major": 2,
              "version_minor": 0,
              "model_id": "d16f4c627afb4bb78ad78f4c37ef727e"
            }
          },
          "metadata": {}
        }
      ]
    },
    {
      "cell_type": "markdown",
      "source": [
        "The plot in the middle is called a *phase portrait* in mechanics: you can see why if you change the angular velocity $\\omega$ and see how left/right plots change. This portrait exists in a *phase space* $[\\varphi, \\omega]$.\n",
        "\n",
        "In physics, we can derive the dynamics equations from first principles, so we know that these two variables: position $\\varphi$ and angular velocity $\\omega$, fully describe the **state** of the pendulum. Knowing the state, we know what happens next, because the system is **deterministic** (no noise in eq. (1) or (3)).\n",
        "Therefore, in a more general context, a minimal set of variables that describe the state of the system form a **state space**. \n",
        "\n",
        "<!-- However, in a more general context, the components of $x$ that describe the dynamics of the system can be anything! For instance, $x_1, x_2, \\ldots, x_n$ can correspond to activities of neurons in a neural network.    -->\n"
      ],
      "metadata": {
        "id": "cHFFvDETs291"
      }
    },
    {
      "cell_type": "markdown",
      "source": [
        "## Visualizing dynamics: phase portraits"
      ],
      "metadata": {
        "id": "mv0UtLxzS8Uk"
      }
    },
    {
      "cell_type": "markdown",
      "source": [
        "We have learned that if we know the state of the the system at any time point $t_0$, we can predict what happes next. We already integrated the dynamics eq. (3) given certain initial conditions and visualized some trajectories for a pendulum. But can we summarize and visualize all the possible states and transitions between them?\n",
        "\n",
        "We can visualize the equation (3) using stream plots. For every state, equation (3) defines the derivative (i.e. where the system goes next), which we can visualize with arrows:\n"
      ],
      "metadata": {
        "id": "eILlepzLTDd2"
      }
    },
    {
      "cell_type": "code",
      "source": [
        "# Plotting phase portraits\n",
        "def plot_phase_portrait(A,n = 10, xlabel=r'$x_1$', ylabel=r'$x_2$', Alabel='A'):\n",
        "  '''\n",
        "    A: matrix 2x2\n",
        "    n: number of points in the n x n grid\n",
        "  '''\n",
        "  plt.figure(figsize=(3,3))\n",
        "  x1 = np.linspace(-1, 1, n) # a 1D grid\n",
        "  x = np.array(np.meshgrid(x1, x1)).reshape((2,-1)) # a 2D flattened grid\n",
        "  # calculate the time-derivative of the state x in the line below\n",
        "  # the output shape should be [2 x n^2]\n",
        "  x_dot = A @ x # 2remove\n",
        "  x_dot = x_dot.reshape((2,n,n))\n",
        "  plt.streamplot(x1,x1,*x_dot,color=np.linalg.norm(x_dot,axis=0),cmap='coolwarm',density=0.5)\n",
        "  plt.xlabel(xlabel)\n",
        "  plt.ylabel(ylabel);\n",
        "  plt.text(1.2,0,f'{Alabel} = ')\n",
        "  plt.text(1.7,-.15,f'{A[0,0]:.1f}, {A[0,1]:.1f} \\n{A[1,0]:.1f}, {A[1,1]:.1f}')\n",
        "  plt.xlim([-1,1])\n",
        "  plt.ylim([-1,1])\n",
        "  plt.clim(vmin=0,vmax=1)\n",
        "\n",
        "A = np.array([[0, 1], [-1, 0]]) # pendulum dynamics\n",
        "plot_phase_portrait(A, xlabel=r'$\\varphi$', ylabel=r'$\\omega = \\dot\\varphi$')"
      ],
      "metadata": {
        "colab": {
          "base_uri": "https://localhost:8080/",
          "height": 248
        },
        "id": "yfeWdEMsVcks",
        "outputId": "00e439a2-ce38-406a-d24c-fbb6ed2dd78f"
      },
      "execution_count": 99,
      "outputs": [
        {
          "output_type": "display_data",
          "data": {
            "text/plain": [
              "<Figure size 216x216 with 1 Axes>"
            ],
            "image/png": "[encoded data removed]"
          },
          "metadata": {
            "needs_background": "light"
          }
        }
      ]
    },
    {
      "cell_type": "markdown",
      "source": [
        "Following these streamlines in a figure above from some initial point $x_0$ step-by-step corresponds to integrating $\\int_{t_0}^{t} \\dot x(t) dt$ that we did in the previous exercise!\n",
        "\n",
        "Color here shows how fast the state evolves: cooler colors mean slower, warmer colors -- faster!\n",
        "(darkest blue: $|\\mathbf{\\dot x}| = 0$, brightest red: $|\\mathbf{\\dot x}| = 1$)\n",
        "\n",
        "Like in Izhekevich quote, we don't even need to write equation to tell how the system behaves 🤯"
      ],
      "metadata": {
        "id": "b7dTSLXUYUDc"
      }
    },
    {
      "cell_type": "markdown",
      "source": [
        "## Analysing multi-dimensional linear dynamical systems"
      ],
      "metadata": {
        "id": "x6iOBU-6f_dz"
      }
    },
    {
      "cell_type": "markdown",
      "source": [
        "### Change of the basis\n",
        "The pendulum example above is, perhaps, the simplest linear dynamical system in physics. Its phase portrait is symmetrical!\n",
        "\n",
        "But for other dynamical systems, with other matrices $A$, this might not be the case:"
      ],
      "metadata": {
        "id": "dwgf8dhygGZS"
      }
    },
    {
      "cell_type": "code",
      "source": [
        "np.random.seed(2)\n",
        "A = np.random.randn(2,2) # pick some values from N(0,1) for each component\n",
        "\n",
        "plot_phase_portrait(A)\n"
      ],
      "metadata": {
        "colab": {
          "base_uri": "https://localhost:8080/",
          "height": 248
        },
        "id": "if2U5CDUaj9x",
        "outputId": "4826dc10-a702-43dc-c405-596bd36055ee"
      },
      "execution_count": 106,
      "outputs": [
        {
          "output_type": "display_data",
          "data": {
            "text/plain": [
              "<Figure size 216x216 with 1 Axes>"
            ],
            "image/png": "[encoded data removed]"
          },
          "metadata": {
            "needs_background": "light"
          }
        }
      ]
    },
    {
      "cell_type": "markdown",
      "source": [
        "Looks very assymetric! Can we make it better?\n",
        "\n",
        "We are now considering an abstract linear dynamical system, so the components $x_1$ and $x_2$ do not mean much... we can then stretch and rotate this space to make the system a little simpler:"
      ],
      "metadata": {
        "id": "vDZ9Dj6LQ6fK"
      }
    },
    {
      "cell_type": "code",
      "source": [
        "S = np.eye(2)\n",
        "@widgets.interact\n",
        "def rotate_and_scale(rotate=widgets.FloatSlider(min=-90, max=+90, step=5 ,description='rotate ⤾'),\n",
        "                     stretch=widgets.FloatLogSlider(min=-1, max=+1, value=1.,description='stretch ↕')):\n",
        "  global S\n",
        "  a = rotate * np.pi / 180\n",
        "  S =  np.array([[np.cos(a),np.sin(a)],[-np.sin(a),np.cos(a)]]) @ np.array([[stretch,0],[0,1]])\n",
        "  plot_phase_portrait(S @ A @ np.linalg.inv(S),\n",
        "                      xlabel=r'$\\hat{x_1}$', ylabel=r'$\\hat{x_2}$', Alabel=r'$\\hat{A}$')\n"
      ],
      "metadata": {
        "colab": {
          "base_uri": "https://localhost:8080/",
          "height": 318,
          "referenced_widgets": [
            "74510a8263ca45468fe48e6d411a6316",
            "98d34297912e4f4a85be1e89250a17e1",
            "ce23a957a8094f56afcfaa47cc6c4bc0",
            "93474c3f482844bea9329419318f548a",
            "f144f10b25064506bc859d52ca5e7297",
            "9320f09e29864e3cbfc485227586989b",
            "8487ab22ff104df69ddf881ed78e8673",
            "27ab20ef0534489ca96a2dc320713954",
            "52a250be199e4a649efadfe6a2806d98",
            "e143d570b7ff4e1594aa5610f23357ab"
          ]
        },
        "id": "JM-JOpEvQ5OI",
        "outputId": "55eeaae4-a14d-43ac-bee0-b3d7315bde6c"
      },
      "execution_count": 122,
      "outputs": [
        {
          "output_type": "display_data",
          "data": {
            "text/plain": [
              "interactive(children=(FloatSlider(value=0.0, description='rotate ⤾', max=90.0, min=-90.0, step=5.0), FloatLogS…"
            ],
            "application/vnd.jupyter.widget-view+json": {
              "version_major": 2,
              "version_minor": 0,
              "model_id": "74510a8263ca45468fe48e6d411a6316"
            }
          },
          "metadata": {}
        }
      ]
    },
    {
      "cell_type": "code",
      "source": [
        "S"
      ],
      "metadata": {
        "colab": {
          "base_uri": "https://localhost:8080/"
        },
        "id": "RRJtHKuPrYoJ",
        "outputId": "46cf523d-dbc4-4d29-fbcf-c0c3b1633c38"
      },
      "execution_count": 125,
      "outputs": [
        {
          "output_type": "execute_result",
          "data": {
            "text/plain": [
              "array([[ 6.21371685,  0.17364818],\n",
              "       [-1.09564593,  0.98480775]])"
            ]
          },
          "metadata": {},
          "execution_count": 125
        }
      ]
    },
    {
      "cell_type": "markdown",
      "source": [
        "What we are doing above corresponds to this transformation:\n",
        "$$S \\mathbf{\\dot x} = SA\\mathbf{x} = SA\\underbrace{(S^{-1}S)}_{I}\\mathbf{x} = (SAS^{-1})S\\mathbf{x}$$\n",
        "or, in other words, we make the following change of coordinates (i.e. change of the basis):\n",
        "$$\\mathbf{x} \\rightarrow S\\mathbf{x} ~$$\n",
        "$$A \\rightarrow SAS^{-1}$$"
      ],
      "metadata": {
        "id": "VzGbCtBQR9PC"
      }
    },
    {
      "cell_type": "markdown",
      "source": [
        "Did you manage to align the *special* directions in the phase portrait above with the new axes? How does the new, transformed matrix $\\hat{A} = SAS^{-1}$ look like?\n",
        "\n",
        "If something does not look right, check the solution:  LINK!"
      ],
      "metadata": {
        "id": "zxcPu65CU_4P"
      }
    },
    {
      "cell_type": "markdown",
      "source": [
        "### Eigenvectors and eigenvalues"
      ],
      "metadata": {
        "id": "Xl23_KkGV3_b"
      }
    },
    {
      "cell_type": "markdown",
      "source": [
        "#### Real eigenvalues"
      ],
      "metadata": {
        "id": "6E6RWp7dtY6b"
      }
    },
    {
      "cell_type": "markdown",
      "source": [
        "In your first tutorial, you practiced calculating eigenvectors and eigenvalues. You were writing characteristic polynomial $p(\\lambda) = \\det(A-\\lambda I)$ and finding its roots for eigenvalues and perfroming Gaussian elimination.\n",
        "\n",
        "What we did above by rotating and stretching our phase space is the transformation of matrix $A$ into its *canonical form*. Everything is simpler in this form! The eigenvalues remain the same under stretching and rotation:\n",
        "\n",
        "$$\\hat{A}\\mathbf{\\hat{x}} = SA\\mathbf{x} = S\\lambda x = \\lambda \\mathbf{\\hat{x}}$$\n",
        "\n",
        "Could you tell what are the eigenvalues of $\\hat{A}$ without writing anything down?\n",
        "\n",
        "Now, check your guess by calculating the eigenvalues:\n"
      ],
      "metadata": {
        "id": "2qpJ7QCvVy2S"
      }
    },
    {
      "cell_type": "code",
      "source": [
        "A_hat = S @ A @ np.linalg.inv(S)\n",
        "print('Eigenvalues of A    :', np.linalg.eig(A)[0])\n",
        "print('Eigenvalues of A_hat:', np.linalg.eig(A_hat)[0])"
      ],
      "metadata": {
        "colab": {
          "base_uri": "https://localhost:8080/"
        },
        "id": "8rc4t1cfUCCZ",
        "outputId": "3758a821-91d1-4fbf-d073-b0219c8ea688"
      },
      "execution_count": 127,
      "outputs": [
        {
          "output_type": "stream",
          "name": "stdout",
          "text": [
            "Eigenvalues of A    : [-0.47361843  1.69713139]\n",
            "Eigenvalues of A_hat: [-0.47361843  1.69713139]\n"
          ]
        }
      ]
    },
    {
      "cell_type": "markdown",
      "source": [
        "Now let us experiment with the eigenvalues and understand what they *mean* in the dynamical system:"
      ],
      "metadata": {
        "id": "5OeSIGu0equz"
      }
    },
    {
      "cell_type": "code",
      "source": [
        "@widgets.interact\n",
        "def rotate_and_scale(lambda_1=widgets.FloatSlider(min=-1, max=+1, description='λ1'),\n",
        "                     lambda_2=widgets.FloatSlider(min=-1, max=+1, description='λ2')):\n",
        "  lambda_1 = lambda_1 if type(lambda_1)==float else lambda_1.value\n",
        "  lambda_2 = lambda_2 if type(lambda_2)==float else lambda_2.value\n",
        "  if lambda_1==0 and lambda_2==0:\n",
        "    lambda_1 = -1e-10\n",
        "  A_12 = np.array([[lambda_1, 0],\n",
        "                [0, lambda_2]])\n",
        "  plot_phase_portrait(A_12)\n"
      ],
      "metadata": {
        "colab": {
          "base_uri": "https://localhost:8080/",
          "height": 312,
          "referenced_widgets": [
            "efc19b062505495b94e8da8e2cb51cda",
            "fa0f9c4068ee4da08ebd3dedce7b5390",
            "282a1a4c90e4406da3fb366d5329aa83",
            "ffc1b308a8d14ae5b784dfea21bca1e9",
            "b4fd96494116412cb3780c44fd3c4afe",
            "a34d19d7af3845c7abe8a6575d1011fc",
            "bc106e682af14a6a924bf264dca61a17",
            "ee25d02e2fa342ac8fff2069df30596a",
            "8fab5d917b0d4575aa833ba2b2b54b82",
            "774cf98da0904252a5cd2b550d36808f"
          ]
        },
        "id": "Z8CeIjn5Z2KN",
        "outputId": "e7935b84-e682-4093-adfe-46733f558169"
      },
      "execution_count": 105,
      "outputs": [
        {
          "output_type": "display_data",
          "data": {
            "text/plain": [
              "interactive(children=(FloatSlider(value=0.0, description='λ1', max=1.0, min=-1.0), FloatSlider(value=0.0, desc…"
            ],
            "application/vnd.jupyter.widget-view+json": {
              "version_major": 2,
              "version_minor": 0,
              "model_id": "efc19b062505495b94e8da8e2cb51cda"
            }
          },
          "metadata": {}
        }
      ]
    },
    {
      "cell_type": "markdown",
      "source": [
        "Indeed, in a canonical form, the 2D system with two real eigenvalues splits into two independent 1D dynamical systems:\n",
        "$\\dot x_i = \\lambda_i x_i, i \\in \\{0,1\\}.$ So, each eigenvalue here changes the dynamics along its eigenvector the same way as the parameter $a$ in Example 1."
      ],
      "metadata": {
        "id": "jurO9-jFnwus"
      }
    },
    {
      "cell_type": "markdown",
      "source": [
        "The eigenvectors are trivial in the canonical form: they are just aligned with axes!\n",
        "\n",
        "So, in order to find eigenvectors of the original evolution matrix $A$, we simply need to reverse the rotation and stretching:"
      ],
      "metadata": {
        "id": "EZ8BnuxTpHg0"
      }
    },
    {
      "cell_type": "code",
      "source": [
        "A_hat = S @ A @ np.linalg.inv(S)\n",
        "print('Trivial eigenvectors of A_hat:', np.round(np.linalg.eig(A_hat)[1].T,1))\n",
        "print('Eigenvectors of A:', np.round(np.linalg.eig(A)[1].T,2))\n",
        "S_inv = np.linalg.inv(S) # invert the transform\n",
        "S_inv_norm = S_inv / np.linalg.norm(S_inv,axis=0)\n",
        "print('Vectors derived from transformation:', np.round(S_inv_norm.T,2))"
      ],
      "metadata": {
        "colab": {
          "base_uri": "https://localhost:8080/"
        },
        "id": "waP_Yj2GpiT-",
        "outputId": "e417f40c-3dac-4de5-f508-427148626de4"
      },
      "execution_count": 147,
      "outputs": [
        {
          "output_type": "stream",
          "name": "stdout",
          "text": [
            "Trivial eigenvectors of A_hat: [[-1.  0.]\n",
            " [-0. -1.]]\n",
            "Eigenvectors of A: [[-0.7  -0.71]\n",
            " [ 0.03 -1.  ]]\n",
            "Vectors derived from transformation: [[ 0.67  0.74]\n",
            " [-0.03  1.  ]]\n"
          ]
        }
      ]
    },
    {
      "cell_type": "markdown",
      "source": [
        "The above vectors should be the almost identical (up to a sign)."
      ],
      "metadata": {
        "id": "7WrGlWwitJr8"
      }
    },
    {
      "cell_type": "markdown",
      "source": [
        "#### Complex eigenvalues"
      ],
      "metadata": {
        "id": "CWSBrtaMtXkk"
      }
    },
    {
      "cell_type": "markdown",
      "source": [
        "Let us return "
      ],
      "metadata": {
        "id": "1cdUYs1PFjOs"
      }
    },
    {
      "cell_type": "code",
      "source": [
        "0.71**2 + 1**2"
      ],
      "metadata": {
        "colab": {
          "base_uri": "https://localhost:8080/"
        },
        "id": "FOIaWLUVo_2W",
        "outputId": "68863527-ef86-4514-b083-597c7638b22a"
      },
      "execution_count": 143,
      "outputs": [
        {
          "output_type": "execute_result",
          "data": {
            "text/plain": [
              "1.5041"
            ]
          },
          "metadata": {},
          "execution_count": 143
        }
      ]
    },
    {
      "cell_type": "code",
      "source": [
        ""
      ],
      "metadata": {
        "id": "wMHabxS9KvW_"
      },
      "execution_count": 148,
      "outputs": []
    },
    {
      "cell_type": "markdown",
      "source": [
        "### Summary"
      ],
      "metadata": {
        "id": "DO5ql9-vtk0H"
      }
    },
    {
      "cell_type": "markdown",
      "source": [
        "## **Exercise 3**: relationship between continuous time and discrete time linear dynamical systems\n",
        "\n",
        "Suppose we know the state $x(0)$ of a continuous-time dynamical system and we want to know what happens next. To figure this out, we need to integrate a continuous-time dynamical system equation over time."
      ],
      "metadata": {
        "id": "svmBduOG_52v"
      }
    },
    {
      "cell_type": "markdown",
      "source": [
        "## Part 1 objectives\n",
        "\n",
        "1. Learn what linear systems can and can not do\n",
        "2. Learn what fixed points are (and relevance to neuroscience inf processing, categorization, filtering noise, memorization)\n",
        "3. Read eignespectra"
      ],
      "metadata": {
        "id": "qIm6cjLqfaWB"
      }
    },
    {
      "cell_type": "markdown",
      "source": [
        "# Part 1¾: Line attractor\n",
        "\n",
        "![Platform 9¾](https://www.partsnotincluded.com/wp-content/uploads/2019/12/P934KC_Reference_Semi-Crop.jpg)\n",
        "\n",
        "In Part 1 of this tutorial we have found all of the possible regimes a linear dynamical systems can have. Although, we only looked at a full rank matrices $A$: such matrices that have all non-zero eigenvectors. What if one of them is actually zero?\n",
        "\n"
      ],
      "metadata": {
        "id": "_sBj6i5B1XO2"
      }
    },
    {
      "cell_type": "markdown",
      "source": [
        "# Part 2: Nonlinear dynamical systems"
      ],
      "metadata": {
        "id": "_8WO8jlefRx0"
      }
    },
    {
      "cell_type": "markdown",
      "source": [
        "### Fitzhugh-Nagumo model of a spiking neuron"
      ],
      "metadata": {
        "id": "TnpeAv5pjQr4"
      }
    },
    {
      "cell_type": "markdown",
      "source": [
        "Yesterday you have run simulations of a biophysically accurate neuron models with a Hodgkin-Huxley equation (HH). To recap, the set of HH equations contained the following 4 equations:\n",
        "\n",
        "$$C \\frac{dV}{dt} = -\\bar g_K n^4 (V - V_K) - \\bar g_{Na} m^3 h(V-V_{Na}) - \\bar g_l (V - V_l) + I_{ext}\\tag{4a}$$\n",
        "\n",
        "$$\\frac{dn}{dt} = \\alpha_n(V)(1-n) - \\beta_n(V) n\\tag{4b}$$\n",
        "$$\\frac{dm}{dt} = \\alpha_m(V)(1-m) - \\beta_m(V) m\\tag{4c}$$\n",
        "$$\\frac{dh}{dt} = \\alpha_h(V)(1-h) - \\beta_h(V) h\\tag{4d}$$\n",
        "\n",
        "The state space of this model is 4D, which is too much for visualization and analyse.\n",
        "However, not all equations here are equally important. \n",
        "\n",
        "Similarly to the linear attractor example above, some of the timescales differ so much that the dynamics along some dimensions can be ignored. Indeed, while voltage $V$ and sodium channel activation $m$ change on a scale of a single spike ($<$1ms), both sodium channel inactivation $h$ and potassium channel gating $n$ change considerably slower (on a scale of 5-10ms). Thus, we can assume that both $h$ and $n$ do not change much and reduce the set of equations (4a-4d) to just 2 equations: \n",
        "<!-- 1. Activation gate of the sodium channel is much faster than any other processes in eq. (4a-4d), so we can assume that equation (4c) always reaches equilibrium and $dm/dt=0$.\n",
        "2. At the same time inactivation gate is changing on the scale much greater than a few spikes, so the eq. (4d) does not change much and $h$ can be assumed constant. IS IT THOUGH???  -->\n",
        "\n",
        "These two assumptions allows us to reduce the system to just 2 equations:\n",
        "$$C \\frac{dV}{dt} = -\\hat g_K (V - V_K) - \\hat g_{Na} m^3 (V-V_{Na}) - \\bar g_l (V - V_l) + I_{ext}\\tag{4a}$$\n",
        "$$\\frac{dm}{dt} = \\alpha(V)(1-m) - \\beta(V) m\\tag{4b}$$"
      ],
      "metadata": {
        "id": "lOUo8icZuhI2"
      }
    },
    {
      "cell_type": "markdown",
      "source": [
        "\n",
        "Hodgkin Huxley -> simplify\n",
        "\n",
        "Nullclines\n",
        "\n",
        "Phase portrait"
      ],
      "metadata": {
        "id": "6Ys57PBauhRs"
      }
    },
    {
      "cell_type": "markdown",
      "source": [
        "# References\n",
        "\n",
        "## Papers\n",
        "1. Izhikevich, Eugene M. [Dynamical systems in neuroscience.](https://www.izhikevich.org/publications/dsn.pdf) MIT press, 2007.\n",
        "\n",
        "<!-- ## Other great tutorials: -->\n",
        "2. Linear dynamical systems by Bing Wen Brunton and Alice Schwarze [Neuromatch: W2D2](https://compneuro.neuromatch.io/tutorials/W2D2_LinearSystems/student/W2D2_Tutorial1.html)"
      ],
      "metadata": {
        "id": "kblnhvBQ9GvC"
      }
    },
    {
      "cell_type": "markdown",
      "source": [
        ""
      ],
      "metadata": {
        "id": "E_FQL8BMKpSp"
      }
    },
    {
      "cell_type": "code",
      "source": [
        ""
      ],
      "metadata": {
        "id": "pcrCyeCK9ICe"
      },
      "execution_count": null,
      "outputs": []
    }
  ]
}