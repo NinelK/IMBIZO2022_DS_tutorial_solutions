{
  "nbformat": 4,
  "nbformat_minor": 0,
  "metadata": {
    "colab": {
      "name": "DS tutorial Parts 1-2 SOLUTIONS",
      "provenance": [],
      "collapsed_sections": [
        "5lSgytL2f3OV",
        "N_XDFK9Xe9Sj",
        "5ONwZE8bH5jr",
        "osgyZ9Nj0_LQ",
        "240PYpGQF9XH",
        "42ptqWjfHdKH",
        "CRYnEyir1B9p",
        "mv0UtLxzS8Uk",
        "x6iOBU-6f_dz",
        "dwgf8dhygGZS",
        "Xl23_KkGV3_b",
        "6E6RWp7dtY6b",
        "CWSBrtaMtXkk",
        "SGXnn2WUjgag",
        "zvQxaNLLbeXb",
        "DO5ql9-vtk0H",
        "svmBduOG_52v",
        "9g5YLxpWNo0h",
        "qIm6cjLqfaWB",
        "_8WO8jlefRx0",
        "TnpeAv5pjQr4",
        "lOUo8icZuhI2",
        "lvj5ekalAw2y",
        "dhCZE54EA9Sc",
        "6Ys57PBauhRs",
        "a8dK0G_bldqw",
        "zgeYXh2GC1WF",
        "6s8EKaABJyBM",
        "Dekbfp9goUFJ",
        "Ec8midjSBJUg",
        "32pRn7au6len",
        "kblnhvBQ9GvC"
      ],
      "toc_visible": true,
      "authorship_tag": "ABX9TyMzKSrVcewdVZbyHK2tSLNs",
      "include_colab_link": true
    },
    "kernelspec": {
      "name": "python3",
      "display_name": "Python 3"
    },
    "language_info": {
      "name": "python"
    },
    "widgets": {
      "application/vnd.jupyter.widget-state+json": {
        "ef23421750354f68b3ac8955fce222f4": {
          "model_module": "@jupyter-widgets/controls",
          "model_name": "VBoxModel",
          "model_module_version": "1.5.0",
          "state": {
            "_dom_classes": [
              "widget-interact"
            ],
            "_model_module": "@jupyter-widgets/controls",
            "_model_module_version": "1.5.0",
            "_model_name": "VBoxModel",
            "_view_count": null,
            "_view_module": "@jupyter-widgets/controls",
            "_view_module_version": "1.5.0",
            "_view_name": "VBoxView",
            "box_style": "",
            "children": [
              "IPY_MODEL_d07710927e274167a57bead57d94f55b",
              "IPY_MODEL_af1fae1e05274054a47497c803e351b1",
              "IPY_MODEL_fe92ed910bcd493d8bb1c47f9841b263",
              "IPY_MODEL_9f9a72a631f14a8197bade1783ae72ee"
            ],
            "layout": "IPY_MODEL_b6973878e9af4e96b2a7f7c92974a0b3"
          }
        },
        "d07710927e274167a57bead57d94f55b": {
          "model_module": "@jupyter-widgets/controls",
          "model_name": "FloatSliderModel",
          "model_module_version": "1.5.0",
          "state": {
            "_dom_classes": [],
            "_model_module": "@jupyter-widgets/controls",
            "_model_module_version": "1.5.0",
            "_model_name": "FloatSliderModel",
            "_view_count": null,
            "_view_module": "@jupyter-widgets/controls",
            "_view_module_version": "1.5.0",
            "_view_name": "FloatSliderView",
            "continuous_update": true,
            "description": "x0",
            "description_tooltip": null,
            "disabled": false,
            "layout": "IPY_MODEL_9e0320090aac47e2bfaa4d7929c37f3f",
            "max": 3,
            "min": -1,
            "orientation": "horizontal",
            "readout": true,
            "readout_format": ".2f",
            "step": 0.1,
            "style": "IPY_MODEL_9ea1217ba2f14f52af2fea6e560eedef",
            "value": 1
          }
        },
        "af1fae1e05274054a47497c803e351b1": {
          "model_module": "@jupyter-widgets/controls",
          "model_name": "FloatSliderModel",
          "model_module_version": "1.5.0",
          "state": {
            "_dom_classes": [],
            "_model_module": "@jupyter-widgets/controls",
            "_model_module_version": "1.5.0",
            "_model_name": "FloatSliderModel",
            "_view_count": null,
            "_view_module": "@jupyter-widgets/controls",
            "_view_module_version": "1.5.0",
            "_view_name": "FloatSliderView",
            "continuous_update": true,
            "description": "a",
            "description_tooltip": null,
            "disabled": false,
            "layout": "IPY_MODEL_d73645bafd9c4b24bf151ae817dcb0be",
            "max": 2,
            "min": -2,
            "orientation": "horizontal",
            "readout": true,
            "readout_format": ".2f",
            "step": 1,
            "style": "IPY_MODEL_d077108441d44e1fbfcb5c4ef8c8051d",
            "value": 1
          }
        },
        "fe92ed910bcd493d8bb1c47f9841b263": {
          "model_module": "@jupyter-widgets/controls",
          "model_name": "FloatLogSliderModel",
          "model_module_version": "1.5.0",
          "state": {
            "_dom_classes": [],
            "_model_module": "@jupyter-widgets/controls",
            "_model_module_version": "1.5.0",
            "_model_name": "FloatLogSliderModel",
            "_view_count": null,
            "_view_module": "@jupyter-widgets/controls",
            "_view_module_version": "1.5.0",
            "_view_name": "FloatLogSliderView",
            "base": 10,
            "continuous_update": true,
            "description": "dt",
            "description_tooltip": null,
            "disabled": false,
            "layout": "IPY_MODEL_6d663966cc6d4bc994b4f3508d9c2766",
            "max": -1,
            "min": -3,
            "orientation": "horizontal",
            "readout": true,
            "readout_format": ".3g",
            "step": 0.1,
            "style": "IPY_MODEL_3f72d54450c44f708996c2dc0c5e9f18",
            "value": 0.01
          }
        },
        "9f9a72a631f14a8197bade1783ae72ee": {
          "model_module": "@jupyter-widgets/output",
          "model_name": "OutputModel",
          "model_module_version": "1.0.0",
          "state": {
            "_dom_classes": [],
            "_model_module": "@jupyter-widgets/output",
            "_model_module_version": "1.0.0",
            "_model_name": "OutputModel",
            "_view_count": null,
            "_view_module": "@jupyter-widgets/output",
            "_view_module_version": "1.0.0",
            "_view_name": "OutputView",
            "layout": "IPY_MODEL_30270e7ff6dc48c2be2aeba3e893a9d8",
            "msg_id": "",
            "outputs": [
              {
                "output_type": "display_data",
                "data": {
                  "text/plain": "<Figure size 432x288 with 1 Axes>",
                  "image/png": "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\n"
                },
                "metadata": {
                  "needs_background": "light"
                }
              }
            ]
          }
        },
        "b6973878e9af4e96b2a7f7c92974a0b3": {
          "model_module": "@jupyter-widgets/base",
          "model_name": "LayoutModel",
          "model_module_version": "1.2.0",
          "state": {
            "_model_module": "@jupyter-widgets/base",
            "_model_module_version": "1.2.0",
            "_model_name": "LayoutModel",
            "_view_count": null,
            "_view_module": "@jupyter-widgets/base",
            "_view_module_version": "1.2.0",
            "_view_name": "LayoutView",
            "align_content": null,
            "align_items": null,
            "align_self": null,
            "border": null,
            "bottom": null,
            "display": null,
            "flex": null,
            "flex_flow": null,
            "grid_area": null,
            "grid_auto_columns": null,
            "grid_auto_flow": null,
            "grid_auto_rows": null,
            "grid_column": null,
            "grid_gap": null,
            "grid_row": null,
            "grid_template_areas": null,
            "grid_template_columns": null,
            "grid_template_rows": null,
            "height": null,
            "justify_content": null,
            "justify_items": null,
            "left": null,
            "margin": null,
            "max_height": null,
            "max_width": null,
            "min_height": null,
            "min_width": null,
            "object_fit": null,
            "object_position": null,
            "order": null,
            "overflow": null,
            "overflow_x": null,
            "overflow_y": null,
            "padding": null,
            "right": null,
            "top": null,
            "visibility": null,
            "width": null
          }
        },
        "9e0320090aac47e2bfaa4d7929c37f3f": {
          "model_module": "@jupyter-widgets/base",
          "model_name": "LayoutModel",
          "model_module_version": "1.2.0",
          "state": {
            "_model_module": "@jupyter-widgets/base",
            "_model_module_version": "1.2.0",
            "_model_name": "LayoutModel",
            "_view_count": null,
            "_view_module": "@jupyter-widgets/base",
            "_view_module_version": "1.2.0",
            "_view_name": "LayoutView",
            "align_content": null,
            "align_items": null,
            "align_self": null,
            "border": null,
            "bottom": null,
            "display": null,
            "flex": null,
            "flex_flow": null,
            "grid_area": null,
            "grid_auto_columns": null,
            "grid_auto_flow": null,
            "grid_auto_rows": null,
            "grid_column": null,
            "grid_gap": null,
            "grid_row": null,
            "grid_template_areas": null,
            "grid_template_columns": null,
            "grid_template_rows": null,
            "height": null,
            "justify_content": null,
            "justify_items": null,
            "left": null,
            "margin": null,
            "max_height": null,
            "max_width": null,
            "min_height": null,
            "min_width": null,
            "object_fit": null,
            "object_position": null,
            "order": null,
            "overflow": null,
            "overflow_x": null,
            "overflow_y": null,
            "padding": null,
            "right": null,
            "top": null,
            "visibility": null,
            "width": null
          }
        },
        "9ea1217ba2f14f52af2fea6e560eedef": {
          "model_module": "@jupyter-widgets/controls",
          "model_name": "SliderStyleModel",
          "model_module_version": "1.5.0",
          "state": {
            "_model_module": "@jupyter-widgets/controls",
            "_model_module_version": "1.5.0",
            "_model_name": "SliderStyleModel",
            "_view_count": null,
            "_view_module": "@jupyter-widgets/base",
            "_view_module_version": "1.2.0",
            "_view_name": "StyleView",
            "description_width": "",
            "handle_color": null
          }
        },
        "d73645bafd9c4b24bf151ae817dcb0be": {
          "model_module": "@jupyter-widgets/base",
          "model_name": "LayoutModel",
          "model_module_version": "1.2.0",
          "state": {
            "_model_module": "@jupyter-widgets/base",
            "_model_module_version": "1.2.0",
            "_model_name": "LayoutModel",
            "_view_count": null,
            "_view_module": "@jupyter-widgets/base",
            "_view_module_version": "1.2.0",
            "_view_name": "LayoutView",
            "align_content": null,
            "align_items": null,
            "align_self": null,
            "border": null,
            "bottom": null,
            "display": null,
            "flex": null,
            "flex_flow": null,
            "grid_area": null,
            "grid_auto_columns": null,
            "grid_auto_flow": null,
            "grid_auto_rows": null,
            "grid_column": null,
            "grid_gap": null,
            "grid_row": null,
            "grid_template_areas": null,
            "grid_template_columns": null,
            "grid_template_rows": null,
            "height": null,
            "justify_content": null,
            "justify_items": null,
            "left": null,
            "margin": null,
            "max_height": null,
            "max_width": null,
            "min_height": null,
            "min_width": null,
            "object_fit": null,
            "object_position": null,
            "order": null,
            "overflow": null,
            "overflow_x": null,
            "overflow_y": null,
            "padding": null,
            "right": null,
            "top": null,
            "visibility": null,
            "width": null
          }
        },
        "d077108441d44e1fbfcb5c4ef8c8051d": {
          "model_module": "@jupyter-widgets/controls",
          "model_name": "SliderStyleModel",
          "model_module_version": "1.5.0",
          "state": {
            "_model_module": "@jupyter-widgets/controls",
            "_model_module_version": "1.5.0",
            "_model_name": "SliderStyleModel",
            "_view_count": null,
            "_view_module": "@jupyter-widgets/base",
            "_view_module_version": "1.2.0",
            "_view_name": "StyleView",
            "description_width": "",
            "handle_color": null
          }
        },
        "6d663966cc6d4bc994b4f3508d9c2766": {
          "model_module": "@jupyter-widgets/base",
          "model_name": "LayoutModel",
          "model_module_version": "1.2.0",
          "state": {
            "_model_module": "@jupyter-widgets/base",
            "_model_module_version": "1.2.0",
            "_model_name": "LayoutModel",
            "_view_count": null,
            "_view_module": "@jupyter-widgets/base",
            "_view_module_version": "1.2.0",
            "_view_name": "LayoutView",
            "align_content": null,
            "align_items": null,
            "align_self": null,
            "border": null,
            "bottom": null,
            "display": null,
            "flex": null,
            "flex_flow": null,
            "grid_area": null,
            "grid_auto_columns": null,
            "grid_auto_flow": null,
            "grid_auto_rows": null,
            "grid_column": null,
            "grid_gap": null,
            "grid_row": null,
            "grid_template_areas": null,
            "grid_template_columns": null,
            "grid_template_rows": null,
            "height": null,
            "justify_content": null,
            "justify_items": null,
            "left": null,
            "margin": null,
            "max_height": null,
            "max_width": null,
            "min_height": null,
            "min_width": null,
            "object_fit": null,
            "object_position": null,
            "order": null,
            "overflow": null,
            "overflow_x": null,
            "overflow_y": null,
            "padding": null,
            "right": null,
            "top": null,
            "visibility": null,
            "width": null
          }
        },
        "3f72d54450c44f708996c2dc0c5e9f18": {
          "model_module": "@jupyter-widgets/controls",
          "model_name": "SliderStyleModel",
          "model_module_version": "1.5.0",
          "state": {
            "_model_module": "@jupyter-widgets/controls",
            "_model_module_version": "1.5.0",
            "_model_name": "SliderStyleModel",
            "_view_count": null,
            "_view_module": "@jupyter-widgets/base",
            "_view_module_version": "1.2.0",
            "_view_name": "StyleView",
            "description_width": "",
            "handle_color": null
          }
        },
        "30270e7ff6dc48c2be2aeba3e893a9d8": {
          "model_module": "@jupyter-widgets/base",
          "model_name": "LayoutModel",
          "model_module_version": "1.2.0",
          "state": {
            "_model_module": "@jupyter-widgets/base",
            "_model_module_version": "1.2.0",
            "_model_name": "LayoutModel",
            "_view_count": null,
            "_view_module": "@jupyter-widgets/base",
            "_view_module_version": "1.2.0",
            "_view_name": "LayoutView",
            "align_content": null,
            "align_items": null,
            "align_self": null,
            "border": null,
            "bottom": null,
            "display": null,
            "flex": null,
            "flex_flow": null,
            "grid_area": null,
            "grid_auto_columns": null,
            "grid_auto_flow": null,
            "grid_auto_rows": null,
            "grid_column": null,
            "grid_gap": null,
            "grid_row": null,
            "grid_template_areas": null,
            "grid_template_columns": null,
            "grid_template_rows": null,
            "height": null,
            "justify_content": null,
            "justify_items": null,
            "left": null,
            "margin": null,
            "max_height": null,
            "max_width": null,
            "min_height": null,
            "min_width": null,
            "object_fit": null,
            "object_position": null,
            "order": null,
            "overflow": null,
            "overflow_x": null,
            "overflow_y": null,
            "padding": null,
            "right": null,
            "top": null,
            "visibility": null,
            "width": null
          }
        },
        "9e3e153d8386435ca7c2191aff9828ad": {
          "model_module": "@jupyter-widgets/controls",
          "model_name": "VBoxModel",
          "model_module_version": "1.5.0",
          "state": {
            "_dom_classes": [
              "widget-interact"
            ],
            "_model_module": "@jupyter-widgets/controls",
            "_model_module_version": "1.5.0",
            "_model_name": "VBoxModel",
            "_view_count": null,
            "_view_module": "@jupyter-widgets/controls",
            "_view_module_version": "1.5.0",
            "_view_name": "VBoxView",
            "box_style": "",
            "children": [
              "IPY_MODEL_2d3331758ad046999976a8b396cb3e55",
              "IPY_MODEL_a386112f70d04100999aec878d87d0e3",
              "IPY_MODEL_3599be85894647bb911f166ab26fbdd9",
              "IPY_MODEL_97b62136c9b84164a824036f55cc30a2"
            ],
            "layout": "IPY_MODEL_092cc02cd2de46748dd2b164c4810b1a"
          }
        },
        "2d3331758ad046999976a8b396cb3e55": {
          "model_module": "@jupyter-widgets/controls",
          "model_name": "FloatSliderModel",
          "model_module_version": "1.5.0",
          "state": {
            "_dom_classes": [],
            "_model_module": "@jupyter-widgets/controls",
            "_model_module_version": "1.5.0",
            "_model_name": "FloatSliderModel",
            "_view_count": null,
            "_view_module": "@jupyter-widgets/controls",
            "_view_module_version": "1.5.0",
            "_view_name": "FloatSliderView",
            "continuous_update": true,
            "description": "x0",
            "description_tooltip": null,
            "disabled": false,
            "layout": "IPY_MODEL_a30b10545a604eb0885c4e55d0a12a9b",
            "max": 3,
            "min": -1,
            "orientation": "horizontal",
            "readout": true,
            "readout_format": ".2f",
            "step": 0.1,
            "style": "IPY_MODEL_6e4e32b354d04c00a005e52d4f47a749",
            "value": 1
          }
        },
        "a386112f70d04100999aec878d87d0e3": {
          "model_module": "@jupyter-widgets/controls",
          "model_name": "FloatSliderModel",
          "model_module_version": "1.5.0",
          "state": {
            "_dom_classes": [],
            "_model_module": "@jupyter-widgets/controls",
            "_model_module_version": "1.5.0",
            "_model_name": "FloatSliderModel",
            "_view_count": null,
            "_view_module": "@jupyter-widgets/controls",
            "_view_module_version": "1.5.0",
            "_view_name": "FloatSliderView",
            "continuous_update": true,
            "description": "a_real",
            "description_tooltip": null,
            "disabled": false,
            "layout": "IPY_MODEL_1d1bf14eb5154ea8966ef0b4718f7a42",
            "max": 1,
            "min": -1,
            "orientation": "horizontal",
            "readout": true,
            "readout_format": ".2f",
            "step": 0.1,
            "style": "IPY_MODEL_fa0f7ae616ae4126b485e2ddbfe0d673",
            "value": 0
          }
        },
        "3599be85894647bb911f166ab26fbdd9": {
          "model_module": "@jupyter-widgets/controls",
          "model_name": "FloatSliderModel",
          "model_module_version": "1.5.0",
          "state": {
            "_dom_classes": [],
            "_model_module": "@jupyter-widgets/controls",
            "_model_module_version": "1.5.0",
            "_model_name": "FloatSliderModel",
            "_view_count": null,
            "_view_module": "@jupyter-widgets/controls",
            "_view_module_version": "1.5.0",
            "_view_name": "FloatSliderView",
            "continuous_update": true,
            "description": "a_imag",
            "description_tooltip": null,
            "disabled": false,
            "layout": "IPY_MODEL_baf1b8b6c1034bee863a1b63b5fada34",
            "max": 5,
            "min": -1,
            "orientation": "horizontal",
            "readout": true,
            "readout_format": ".2f",
            "step": 0.1,
            "style": "IPY_MODEL_31c28ab500ba47cba867d4875a9ef2e9",
            "value": 1
          }
        },
        "97b62136c9b84164a824036f55cc30a2": {
          "model_module": "@jupyter-widgets/output",
          "model_name": "OutputModel",
          "model_module_version": "1.0.0",
          "state": {
            "_dom_classes": [],
            "_model_module": "@jupyter-widgets/output",
            "_model_module_version": "1.0.0",
            "_model_name": "OutputModel",
            "_view_count": null,
            "_view_module": "@jupyter-widgets/output",
            "_view_module_version": "1.0.0",
            "_view_name": "OutputView",
            "layout": "IPY_MODEL_ef60662d1bb248778cba236a3a4e4063",
            "msg_id": "",
            "outputs": [
              {
                "output_type": "display_data",
                "data": {
                  "text/plain": "<Figure size 432x288 with 1 Axes>",
                  "image/png": "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\n"
                },
                "metadata": {
                  "needs_background": "light"
                }
              }
            ]
          }
        },
        "092cc02cd2de46748dd2b164c4810b1a": {
          "model_module": "@jupyter-widgets/base",
          "model_name": "LayoutModel",
          "model_module_version": "1.2.0",
          "state": {
            "_model_module": "@jupyter-widgets/base",
            "_model_module_version": "1.2.0",
            "_model_name": "LayoutModel",
            "_view_count": null,
            "_view_module": "@jupyter-widgets/base",
            "_view_module_version": "1.2.0",
            "_view_name": "LayoutView",
            "align_content": null,
            "align_items": null,
            "align_self": null,
            "border": null,
            "bottom": null,
            "display": null,
            "flex": null,
            "flex_flow": null,
            "grid_area": null,
            "grid_auto_columns": null,
            "grid_auto_flow": null,
            "grid_auto_rows": null,
            "grid_column": null,
            "grid_gap": null,
            "grid_row": null,
            "grid_template_areas": null,
            "grid_template_columns": null,
            "grid_template_rows": null,
            "height": null,
            "justify_content": null,
            "justify_items": null,
            "left": null,
            "margin": null,
            "max_height": null,
            "max_width": null,
            "min_height": null,
            "min_width": null,
            "object_fit": null,
            "object_position": null,
            "order": null,
            "overflow": null,
            "overflow_x": null,
            "overflow_y": null,
            "padding": null,
            "right": null,
            "top": null,
            "visibility": null,
            "width": null
          }
        },
        "a30b10545a604eb0885c4e55d0a12a9b": {
          "model_module": "@jupyter-widgets/base",
          "model_name": "LayoutModel",
          "model_module_version": "1.2.0",
          "state": {
            "_model_module": "@jupyter-widgets/base",
            "_model_module_version": "1.2.0",
            "_model_name": "LayoutModel",
            "_view_count": null,
            "_view_module": "@jupyter-widgets/base",
            "_view_module_version": "1.2.0",
            "_view_name": "LayoutView",
            "align_content": null,
            "align_items": null,
            "align_self": null,
            "border": null,
            "bottom": null,
            "display": null,
            "flex": null,
            "flex_flow": null,
            "grid_area": null,
            "grid_auto_columns": null,
            "grid_auto_flow": null,
            "grid_auto_rows": null,
            "grid_column": null,
            "grid_gap": null,
            "grid_row": null,
            "grid_template_areas": null,
            "grid_template_columns": null,
            "grid_template_rows": null,
            "height": null,
            "justify_content": null,
            "justify_items": null,
            "left": null,
            "margin": null,
            "max_height": null,
            "max_width": null,
            "min_height": null,
            "min_width": null,
            "object_fit": null,
            "object_position": null,
            "order": null,
            "overflow": null,
            "overflow_x": null,
            "overflow_y": null,
            "padding": null,
            "right": null,
            "top": null,
            "visibility": null,
            "width": null
          }
        },
        "6e4e32b354d04c00a005e52d4f47a749": {
          "model_module": "@jupyter-widgets/controls",
          "model_name": "SliderStyleModel",
          "model_module_version": "1.5.0",
          "state": {
            "_model_module": "@jupyter-widgets/controls",
            "_model_module_version": "1.5.0",
            "_model_name": "SliderStyleModel",
            "_view_count": null,
            "_view_module": "@jupyter-widgets/base",
            "_view_module_version": "1.2.0",
            "_view_name": "StyleView",
            "description_width": "",
            "handle_color": null
          }
        },
        "1d1bf14eb5154ea8966ef0b4718f7a42": {
          "model_module": "@jupyter-widgets/base",
          "model_name": "LayoutModel",
          "model_module_version": "1.2.0",
          "state": {
            "_model_module": "@jupyter-widgets/base",
            "_model_module_version": "1.2.0",
            "_model_name": "LayoutModel",
            "_view_count": null,
            "_view_module": "@jupyter-widgets/base",
            "_view_module_version": "1.2.0",
            "_view_name": "LayoutView",
            "align_content": null,
            "align_items": null,
            "align_self": null,
            "border": null,
            "bottom": null,
            "display": null,
            "flex": null,
            "flex_flow": null,
            "grid_area": null,
            "grid_auto_columns": null,
            "grid_auto_flow": null,
            "grid_auto_rows": null,
            "grid_column": null,
            "grid_gap": null,
            "grid_row": null,
            "grid_template_areas": null,
            "grid_template_columns": null,
            "grid_template_rows": null,
            "height": null,
            "justify_content": null,
            "justify_items": null,
            "left": null,
            "margin": null,
            "max_height": null,
            "max_width": null,
            "min_height": null,
            "min_width": null,
            "object_fit": null,
            "object_position": null,
            "order": null,
            "overflow": null,
            "overflow_x": null,
            "overflow_y": null,
            "padding": null,
            "right": null,
            "top": null,
            "visibility": null,
            "width": null
          }
        },
        "fa0f7ae616ae4126b485e2ddbfe0d673": {
          "model_module": "@jupyter-widgets/controls",
          "model_name": "SliderStyleModel",
          "model_module_version": "1.5.0",
          "state": {
            "_model_module": "@jupyter-widgets/controls",
            "_model_module_version": "1.5.0",
            "_model_name": "SliderStyleModel",
            "_view_count": null,
            "_view_module": "@jupyter-widgets/base",
            "_view_module_version": "1.2.0",
            "_view_name": "StyleView",
            "description_width": "",
            "handle_color": null
          }
        },
        "baf1b8b6c1034bee863a1b63b5fada34": {
          "model_module": "@jupyter-widgets/base",
          "model_name": "LayoutModel",
          "model_module_version": "1.2.0",
          "state": {
            "_model_module": "@jupyter-widgets/base",
            "_model_module_version": "1.2.0",
            "_model_name": "LayoutModel",
            "_view_count": null,
            "_view_module": "@jupyter-widgets/base",
            "_view_module_version": "1.2.0",
            "_view_name": "LayoutView",
            "align_content": null,
            "align_items": null,
            "align_self": null,
            "border": null,
            "bottom": null,
            "display": null,
            "flex": null,
            "flex_flow": null,
            "grid_area": null,
            "grid_auto_columns": null,
            "grid_auto_flow": null,
            "grid_auto_rows": null,
            "grid_column": null,
            "grid_gap": null,
            "grid_row": null,
            "grid_template_areas": null,
            "grid_template_columns": null,
            "grid_template_rows": null,
            "height": null,
            "justify_content": null,
            "justify_items": null,
            "left": null,
            "margin": null,
            "max_height": null,
            "max_width": null,
            "min_height": null,
            "min_width": null,
            "object_fit": null,
            "object_position": null,
            "order": null,
            "overflow": null,
            "overflow_x": null,
            "overflow_y": null,
            "padding": null,
            "right": null,
            "top": null,
            "visibility": null,
            "width": null
          }
        },
        "31c28ab500ba47cba867d4875a9ef2e9": {
          "model_module": "@jupyter-widgets/controls",
          "model_name": "SliderStyleModel",
          "model_module_version": "1.5.0",
          "state": {
            "_model_module": "@jupyter-widgets/controls",
            "_model_module_version": "1.5.0",
            "_model_name": "SliderStyleModel",
            "_view_count": null,
            "_view_module": "@jupyter-widgets/base",
            "_view_module_version": "1.2.0",
            "_view_name": "StyleView",
            "description_width": "",
            "handle_color": null
          }
        },
        "ef60662d1bb248778cba236a3a4e4063": {
          "model_module": "@jupyter-widgets/base",
          "model_name": "LayoutModel",
          "model_module_version": "1.2.0",
          "state": {
            "_model_module": "@jupyter-widgets/base",
            "_model_module_version": "1.2.0",
            "_model_name": "LayoutModel",
            "_view_count": null,
            "_view_module": "@jupyter-widgets/base",
            "_view_module_version": "1.2.0",
            "_view_name": "LayoutView",
            "align_content": null,
            "align_items": null,
            "align_self": null,
            "border": null,
            "bottom": null,
            "display": null,
            "flex": null,
            "flex_flow": null,
            "grid_area": null,
            "grid_auto_columns": null,
            "grid_auto_flow": null,
            "grid_auto_rows": null,
            "grid_column": null,
            "grid_gap": null,
            "grid_row": null,
            "grid_template_areas": null,
            "grid_template_columns": null,
            "grid_template_rows": null,
            "height": null,
            "justify_content": null,
            "justify_items": null,
            "left": null,
            "margin": null,
            "max_height": null,
            "max_width": null,
            "min_height": null,
            "min_width": null,
            "object_fit": null,
            "object_position": null,
            "order": null,
            "overflow": null,
            "overflow_x": null,
            "overflow_y": null,
            "padding": null,
            "right": null,
            "top": null,
            "visibility": null,
            "width": null
          }
        },
        "7cd7e36eed7f4c38ad3aa4ba2b6c0b20": {
          "model_module": "@jupyter-widgets/controls",
          "model_name": "VBoxModel",
          "model_module_version": "1.5.0",
          "state": {
            "_dom_classes": [
              "widget-interact"
            ],
            "_model_module": "@jupyter-widgets/controls",
            "_model_module_version": "1.5.0",
            "_model_name": "VBoxModel",
            "_view_count": null,
            "_view_module": "@jupyter-widgets/controls",
            "_view_module_version": "1.5.0",
            "_view_name": "VBoxView",
            "box_style": "",
            "children": [
              "IPY_MODEL_16d778ed5a20485b98a34243ccff1c54",
              "IPY_MODEL_29641abe0dc240d18f46f7bcf3283f66",
              "IPY_MODEL_ba063281684c442d87a00d989ff6999e"
            ],
            "layout": "IPY_MODEL_0cfe262f1fec49159786017ee4a70513"
          }
        },
        "16d778ed5a20485b98a34243ccff1c54": {
          "model_module": "@jupyter-widgets/controls",
          "model_name": "FloatSliderModel",
          "model_module_version": "1.5.0",
          "state": {
            "_dom_classes": [],
            "_model_module": "@jupyter-widgets/controls",
            "_model_module_version": "1.5.0",
            "_model_name": "FloatSliderModel",
            "_view_count": null,
            "_view_module": "@jupyter-widgets/controls",
            "_view_module_version": "1.5.0",
            "_view_name": "FloatSliderView",
            "continuous_update": true,
            "description": "phi0",
            "description_tooltip": null,
            "disabled": false,
            "layout": "IPY_MODEL_4e00f7f8c5ef401395a6fccc036c229b",
            "max": 1,
            "min": -1,
            "orientation": "horizontal",
            "readout": true,
            "readout_format": ".2f",
            "step": 0.1,
            "style": "IPY_MODEL_44b7a14ff0624acb9aadd9324c42b557",
            "value": 0
          }
        },
        "29641abe0dc240d18f46f7bcf3283f66": {
          "model_module": "@jupyter-widgets/controls",
          "model_name": "FloatSliderModel",
          "model_module_version": "1.5.0",
          "state": {
            "_dom_classes": [],
            "_model_module": "@jupyter-widgets/controls",
            "_model_module_version": "1.5.0",
            "_model_name": "FloatSliderModel",
            "_view_count": null,
            "_view_module": "@jupyter-widgets/controls",
            "_view_module_version": "1.5.0",
            "_view_name": "FloatSliderView",
            "continuous_update": true,
            "description": "omega0",
            "description_tooltip": null,
            "disabled": false,
            "layout": "IPY_MODEL_6bbbb73b04c7441895fd79979809edba",
            "max": 1,
            "min": -1,
            "orientation": "horizontal",
            "readout": true,
            "readout_format": ".2f",
            "step": 0.1,
            "style": "IPY_MODEL_cabc39dc7b5d4cb6b3ec852d2fc5daed",
            "value": 0
          }
        },
        "ba063281684c442d87a00d989ff6999e": {
          "model_module": "@jupyter-widgets/output",
          "model_name": "OutputModel",
          "model_module_version": "1.0.0",
          "state": {
            "_dom_classes": [],
            "_model_module": "@jupyter-widgets/output",
            "_model_module_version": "1.0.0",
            "_model_name": "OutputModel",
            "_view_count": null,
            "_view_module": "@jupyter-widgets/output",
            "_view_module_version": "1.0.0",
            "_view_name": "OutputView",
            "layout": "IPY_MODEL_a213a44ec9144af1b1a6fd96b1aad009",
            "msg_id": "",
            "outputs": [
              {
                "output_type": "display_data",
                "data": {
                  "text/plain": "<Figure size 864x144 with 3 Axes>",
                  "image/png": "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\n"
                },
                "metadata": {
                  "needs_background": "light"
                }
              }
            ]
          }
        },
        "0cfe262f1fec49159786017ee4a70513": {
          "model_module": "@jupyter-widgets/base",
          "model_name": "LayoutModel",
          "model_module_version": "1.2.0",
          "state": {
            "_model_module": "@jupyter-widgets/base",
            "_model_module_version": "1.2.0",
            "_model_name": "LayoutModel",
            "_view_count": null,
            "_view_module": "@jupyter-widgets/base",
            "_view_module_version": "1.2.0",
            "_view_name": "LayoutView",
            "align_content": null,
            "align_items": null,
            "align_self": null,
            "border": null,
            "bottom": null,
            "display": null,
            "flex": null,
            "flex_flow": null,
            "grid_area": null,
            "grid_auto_columns": null,
            "grid_auto_flow": null,
            "grid_auto_rows": null,
            "grid_column": null,
            "grid_gap": null,
            "grid_row": null,
            "grid_template_areas": null,
            "grid_template_columns": null,
            "grid_template_rows": null,
            "height": null,
            "justify_content": null,
            "justify_items": null,
            "left": null,
            "margin": null,
            "max_height": null,
            "max_width": null,
            "min_height": null,
            "min_width": null,
            "object_fit": null,
            "object_position": null,
            "order": null,
            "overflow": null,
            "overflow_x": null,
            "overflow_y": null,
            "padding": null,
            "right": null,
            "top": null,
            "visibility": null,
            "width": null
          }
        },
        "4e00f7f8c5ef401395a6fccc036c229b": {
          "model_module": "@jupyter-widgets/base",
          "model_name": "LayoutModel",
          "model_module_version": "1.2.0",
          "state": {
            "_model_module": "@jupyter-widgets/base",
            "_model_module_version": "1.2.0",
            "_model_name": "LayoutModel",
            "_view_count": null,
            "_view_module": "@jupyter-widgets/base",
            "_view_module_version": "1.2.0",
            "_view_name": "LayoutView",
            "align_content": null,
            "align_items": null,
            "align_self": null,
            "border": null,
            "bottom": null,
            "display": null,
            "flex": null,
            "flex_flow": null,
            "grid_area": null,
            "grid_auto_columns": null,
            "grid_auto_flow": null,
            "grid_auto_rows": null,
            "grid_column": null,
            "grid_gap": null,
            "grid_row": null,
            "grid_template_areas": null,
            "grid_template_columns": null,
            "grid_template_rows": null,
            "height": null,
            "justify_content": null,
            "justify_items": null,
            "left": null,
            "margin": null,
            "max_height": null,
            "max_width": null,
            "min_height": null,
            "min_width": null,
            "object_fit": null,
            "object_position": null,
            "order": null,
            "overflow": null,
            "overflow_x": null,
            "overflow_y": null,
            "padding": null,
            "right": null,
            "top": null,
            "visibility": null,
            "width": null
          }
        },
        "44b7a14ff0624acb9aadd9324c42b557": {
          "model_module": "@jupyter-widgets/controls",
          "model_name": "SliderStyleModel",
          "model_module_version": "1.5.0",
          "state": {
            "_model_module": "@jupyter-widgets/controls",
            "_model_module_version": "1.5.0",
            "_model_name": "SliderStyleModel",
            "_view_count": null,
            "_view_module": "@jupyter-widgets/base",
            "_view_module_version": "1.2.0",
            "_view_name": "StyleView",
            "description_width": "",
            "handle_color": null
          }
        },
        "6bbbb73b04c7441895fd79979809edba": {
          "model_module": "@jupyter-widgets/base",
          "model_name": "LayoutModel",
          "model_module_version": "1.2.0",
          "state": {
            "_model_module": "@jupyter-widgets/base",
            "_model_module_version": "1.2.0",
            "_model_name": "LayoutModel",
            "_view_count": null,
            "_view_module": "@jupyter-widgets/base",
            "_view_module_version": "1.2.0",
            "_view_name": "LayoutView",
            "align_content": null,
            "align_items": null,
            "align_self": null,
            "border": null,
            "bottom": null,
            "display": null,
            "flex": null,
            "flex_flow": null,
            "grid_area": null,
            "grid_auto_columns": null,
            "grid_auto_flow": null,
            "grid_auto_rows": null,
            "grid_column": null,
            "grid_gap": null,
            "grid_row": null,
            "grid_template_areas": null,
            "grid_template_columns": null,
            "grid_template_rows": null,
            "height": null,
            "justify_content": null,
            "justify_items": null,
            "left": null,
            "margin": null,
            "max_height": null,
            "max_width": null,
            "min_height": null,
            "min_width": null,
            "object_fit": null,
            "object_position": null,
            "order": null,
            "overflow": null,
            "overflow_x": null,
            "overflow_y": null,
            "padding": null,
            "right": null,
            "top": null,
            "visibility": null,
            "width": null
          }
        },
        "cabc39dc7b5d4cb6b3ec852d2fc5daed": {
          "model_module": "@jupyter-widgets/controls",
          "model_name": "SliderStyleModel",
          "model_module_version": "1.5.0",
          "state": {
            "_model_module": "@jupyter-widgets/controls",
            "_model_module_version": "1.5.0",
            "_model_name": "SliderStyleModel",
            "_view_count": null,
            "_view_module": "@jupyter-widgets/base",
            "_view_module_version": "1.2.0",
            "_view_name": "StyleView",
            "description_width": "",
            "handle_color": null
          }
        },
        "a213a44ec9144af1b1a6fd96b1aad009": {
          "model_module": "@jupyter-widgets/base",
          "model_name": "LayoutModel",
          "model_module_version": "1.2.0",
          "state": {
            "_model_module": "@jupyter-widgets/base",
            "_model_module_version": "1.2.0",
            "_model_name": "LayoutModel",
            "_view_count": null,
            "_view_module": "@jupyter-widgets/base",
            "_view_module_version": "1.2.0",
            "_view_name": "LayoutView",
            "align_content": null,
            "align_items": null,
            "align_self": null,
            "border": null,
            "bottom": null,
            "display": null,
            "flex": null,
            "flex_flow": null,
            "grid_area": null,
            "grid_auto_columns": null,
            "grid_auto_flow": null,
            "grid_auto_rows": null,
            "grid_column": null,
            "grid_gap": null,
            "grid_row": null,
            "grid_template_areas": null,
            "grid_template_columns": null,
            "grid_template_rows": null,
            "height": null,
            "justify_content": null,
            "justify_items": null,
            "left": null,
            "margin": null,
            "max_height": null,
            "max_width": null,
            "min_height": null,
            "min_width": null,
            "object_fit": null,
            "object_position": null,
            "order": null,
            "overflow": null,
            "overflow_x": null,
            "overflow_y": null,
            "padding": null,
            "right": null,
            "top": null,
            "visibility": null,
            "width": null
          }
        },
        "af31e741c41b4adfb614b5fd18556c11": {
          "model_module": "@jupyter-widgets/controls",
          "model_name": "VBoxModel",
          "model_module_version": "1.5.0",
          "state": {
            "_dom_classes": [
              "widget-interact"
            ],
            "_model_module": "@jupyter-widgets/controls",
            "_model_module_version": "1.5.0",
            "_model_name": "VBoxModel",
            "_view_count": null,
            "_view_module": "@jupyter-widgets/controls",
            "_view_module_version": "1.5.0",
            "_view_name": "VBoxView",
            "box_style": "",
            "children": [
              "IPY_MODEL_f87d2cf00fa045af840368bea3f880bf",
              "IPY_MODEL_64f3bec0c5574849860c5e39bf3df714",
              "IPY_MODEL_1b69c4da1c0f402bb2838623cb187bca"
            ],
            "layout": "IPY_MODEL_b70a1b447a94405aa1b516af10d9c669"
          }
        },
        "f87d2cf00fa045af840368bea3f880bf": {
          "model_module": "@jupyter-widgets/controls",
          "model_name": "FloatLogSliderModel",
          "model_module_version": "1.5.0",
          "state": {
            "_dom_classes": [],
            "_model_module": "@jupyter-widgets/controls",
            "_model_module_version": "1.5.0",
            "_model_name": "FloatLogSliderModel",
            "_view_count": null,
            "_view_module": "@jupyter-widgets/controls",
            "_view_module_version": "1.5.0",
            "_view_name": "FloatLogSliderView",
            "base": 10,
            "continuous_update": true,
            "description": "stretch ↕",
            "description_tooltip": null,
            "disabled": false,
            "layout": "IPY_MODEL_f9b9113ce1d1462488d242cb3f4b7d1e",
            "max": 1,
            "min": -1,
            "orientation": "horizontal",
            "readout": true,
            "readout_format": ".3g",
            "step": 0.1,
            "style": "IPY_MODEL_d63f6e7f33914d9db065f0fd3629509b",
            "value": 1
          }
        },
        "64f3bec0c5574849860c5e39bf3df714": {
          "model_module": "@jupyter-widgets/controls",
          "model_name": "FloatSliderModel",
          "model_module_version": "1.5.0",
          "state": {
            "_dom_classes": [],
            "_model_module": "@jupyter-widgets/controls",
            "_model_module_version": "1.5.0",
            "_model_name": "FloatSliderModel",
            "_view_count": null,
            "_view_module": "@jupyter-widgets/controls",
            "_view_module_version": "1.5.0",
            "_view_name": "FloatSliderView",
            "continuous_update": true,
            "description": "rotate ⤾",
            "description_tooltip": null,
            "disabled": false,
            "layout": "IPY_MODEL_daa2c358c5414e5cbef3ed072a649450",
            "max": 90,
            "min": -90,
            "orientation": "horizontal",
            "readout": true,
            "readout_format": ".2f",
            "step": 5,
            "style": "IPY_MODEL_056fdf7303b44df987b630072dbd6edb",
            "value": 0
          }
        },
        "1b69c4da1c0f402bb2838623cb187bca": {
          "model_module": "@jupyter-widgets/output",
          "model_name": "OutputModel",
          "model_module_version": "1.0.0",
          "state": {
            "_dom_classes": [],
            "_model_module": "@jupyter-widgets/output",
            "_model_module_version": "1.0.0",
            "_model_name": "OutputModel",
            "_view_count": null,
            "_view_module": "@jupyter-widgets/output",
            "_view_module_version": "1.0.0",
            "_view_name": "OutputView",
            "layout": "IPY_MODEL_6bb5938f8b97492abb3e48e16c7e02d8",
            "msg_id": "",
            "outputs": [
              {
                "output_type": "display_data",
                "data": {
                  "text/plain": "<Figure size 216x216 with 1 Axes>",
                  "image/png": "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\n"
                },
                "metadata": {
                  "needs_background": "light"
                }
              }
            ]
          }
        },
        "b70a1b447a94405aa1b516af10d9c669": {
          "model_module": "@jupyter-widgets/base",
          "model_name": "LayoutModel",
          "model_module_version": "1.2.0",
          "state": {
            "_model_module": "@jupyter-widgets/base",
            "_model_module_version": "1.2.0",
            "_model_name": "LayoutModel",
            "_view_count": null,
            "_view_module": "@jupyter-widgets/base",
            "_view_module_version": "1.2.0",
            "_view_name": "LayoutView",
            "align_content": null,
            "align_items": null,
            "align_self": null,
            "border": null,
            "bottom": null,
            "display": null,
            "flex": null,
            "flex_flow": null,
            "grid_area": null,
            "grid_auto_columns": null,
            "grid_auto_flow": null,
            "grid_auto_rows": null,
            "grid_column": null,
            "grid_gap": null,
            "grid_row": null,
            "grid_template_areas": null,
            "grid_template_columns": null,
            "grid_template_rows": null,
            "height": null,
            "justify_content": null,
            "justify_items": null,
            "left": null,
            "margin": null,
            "max_height": null,
            "max_width": null,
            "min_height": null,
            "min_width": null,
            "object_fit": null,
            "object_position": null,
            "order": null,
            "overflow": null,
            "overflow_x": null,
            "overflow_y": null,
            "padding": null,
            "right": null,
            "top": null,
            "visibility": null,
            "width": null
          }
        },
        "f9b9113ce1d1462488d242cb3f4b7d1e": {
          "model_module": "@jupyter-widgets/base",
          "model_name": "LayoutModel",
          "model_module_version": "1.2.0",
          "state": {
            "_model_module": "@jupyter-widgets/base",
            "_model_module_version": "1.2.0",
            "_model_name": "LayoutModel",
            "_view_count": null,
            "_view_module": "@jupyter-widgets/base",
            "_view_module_version": "1.2.0",
            "_view_name": "LayoutView",
            "align_content": null,
            "align_items": null,
            "align_self": null,
            "border": null,
            "bottom": null,
            "display": null,
            "flex": null,
            "flex_flow": null,
            "grid_area": null,
            "grid_auto_columns": null,
            "grid_auto_flow": null,
            "grid_auto_rows": null,
            "grid_column": null,
            "grid_gap": null,
            "grid_row": null,
            "grid_template_areas": null,
            "grid_template_columns": null,
            "grid_template_rows": null,
            "height": null,
            "justify_content": null,
            "justify_items": null,
            "left": null,
            "margin": null,
            "max_height": null,
            "max_width": null,
            "min_height": null,
            "min_width": null,
            "object_fit": null,
            "object_position": null,
            "order": null,
            "overflow": null,
            "overflow_x": null,
            "overflow_y": null,
            "padding": null,
            "right": null,
            "top": null,
            "visibility": null,
            "width": null
          }
        },
        "d63f6e7f33914d9db065f0fd3629509b": {
          "model_module": "@jupyter-widgets/controls",
          "model_name": "SliderStyleModel",
          "model_module_version": "1.5.0",
          "state": {
            "_model_module": "@jupyter-widgets/controls",
            "_model_module_version": "1.5.0",
            "_model_name": "SliderStyleModel",
            "_view_count": null,
            "_view_module": "@jupyter-widgets/base",
            "_view_module_version": "1.2.0",
            "_view_name": "StyleView",
            "description_width": "",
            "handle_color": null
          }
        },
        "daa2c358c5414e5cbef3ed072a649450": {
          "model_module": "@jupyter-widgets/base",
          "model_name": "LayoutModel",
          "model_module_version": "1.2.0",
          "state": {
            "_model_module": "@jupyter-widgets/base",
            "_model_module_version": "1.2.0",
            "_model_name": "LayoutModel",
            "_view_count": null,
            "_view_module": "@jupyter-widgets/base",
            "_view_module_version": "1.2.0",
            "_view_name": "LayoutView",
            "align_content": null,
            "align_items": null,
            "align_self": null,
            "border": null,
            "bottom": null,
            "display": null,
            "flex": null,
            "flex_flow": null,
            "grid_area": null,
            "grid_auto_columns": null,
            "grid_auto_flow": null,
            "grid_auto_rows": null,
            "grid_column": null,
            "grid_gap": null,
            "grid_row": null,
            "grid_template_areas": null,
            "grid_template_columns": null,
            "grid_template_rows": null,
            "height": null,
            "justify_content": null,
            "justify_items": null,
            "left": null,
            "margin": null,
            "max_height": null,
            "max_width": null,
            "min_height": null,
            "min_width": null,
            "object_fit": null,
            "object_position": null,
            "order": null,
            "overflow": null,
            "overflow_x": null,
            "overflow_y": null,
            "padding": null,
            "right": null,
            "top": null,
            "visibility": null,
            "width": null
          }
        },
        "056fdf7303b44df987b630072dbd6edb": {
          "model_module": "@jupyter-widgets/controls",
          "model_name": "SliderStyleModel",
          "model_module_version": "1.5.0",
          "state": {
            "_model_module": "@jupyter-widgets/controls",
            "_model_module_version": "1.5.0",
            "_model_name": "SliderStyleModel",
            "_view_count": null,
            "_view_module": "@jupyter-widgets/base",
            "_view_module_version": "1.2.0",
            "_view_name": "StyleView",
            "description_width": "",
            "handle_color": null
          }
        },
        "6bb5938f8b97492abb3e48e16c7e02d8": {
          "model_module": "@jupyter-widgets/base",
          "model_name": "LayoutModel",
          "model_module_version": "1.2.0",
          "state": {
            "_model_module": "@jupyter-widgets/base",
            "_model_module_version": "1.2.0",
            "_model_name": "LayoutModel",
            "_view_count": null,
            "_view_module": "@jupyter-widgets/base",
            "_view_module_version": "1.2.0",
            "_view_name": "LayoutView",
            "align_content": null,
            "align_items": null,
            "align_self": null,
            "border": null,
            "bottom": null,
            "display": null,
            "flex": null,
            "flex_flow": null,
            "grid_area": null,
            "grid_auto_columns": null,
            "grid_auto_flow": null,
            "grid_auto_rows": null,
            "grid_column": null,
            "grid_gap": null,
            "grid_row": null,
            "grid_template_areas": null,
            "grid_template_columns": null,
            "grid_template_rows": null,
            "height": null,
            "justify_content": null,
            "justify_items": null,
            "left": null,
            "margin": null,
            "max_height": null,
            "max_width": null,
            "min_height": null,
            "min_width": null,
            "object_fit": null,
            "object_position": null,
            "order": null,
            "overflow": null,
            "overflow_x": null,
            "overflow_y": null,
            "padding": null,
            "right": null,
            "top": null,
            "visibility": null,
            "width": null
          }
        },
        "5f322038b7a64fe4abf11627dd60c206": {
          "model_module": "@jupyter-widgets/controls",
          "model_name": "VBoxModel",
          "model_module_version": "1.5.0",
          "state": {
            "_dom_classes": [
              "widget-interact"
            ],
            "_model_module": "@jupyter-widgets/controls",
            "_model_module_version": "1.5.0",
            "_model_name": "VBoxModel",
            "_view_count": null,
            "_view_module": "@jupyter-widgets/controls",
            "_view_module_version": "1.5.0",
            "_view_name": "VBoxView",
            "box_style": "",
            "children": [
              "IPY_MODEL_31513d039d9c403c9be1ea7eff7a389a",
              "IPY_MODEL_b1687a239b3a45ddbe76f492477badc7",
              "IPY_MODEL_57ead18707d848b2b70851fa1cba0176"
            ],
            "layout": "IPY_MODEL_c6680e922f3540149fb613c65f5244b1"
          }
        },
        "31513d039d9c403c9be1ea7eff7a389a": {
          "model_module": "@jupyter-widgets/controls",
          "model_name": "FloatSliderModel",
          "model_module_version": "1.5.0",
          "state": {
            "_dom_classes": [],
            "_model_module": "@jupyter-widgets/controls",
            "_model_module_version": "1.5.0",
            "_model_name": "FloatSliderModel",
            "_view_count": null,
            "_view_module": "@jupyter-widgets/controls",
            "_view_module_version": "1.5.0",
            "_view_name": "FloatSliderView",
            "continuous_update": true,
            "description": "λ1",
            "description_tooltip": null,
            "disabled": false,
            "layout": "IPY_MODEL_bd342060a74f48e9bad20a7f1bce30d5",
            "max": 1,
            "min": -1,
            "orientation": "horizontal",
            "readout": true,
            "readout_format": ".2f",
            "step": 0.1,
            "style": "IPY_MODEL_08071cdd67ea49c48a21dcea1ab7e2f9",
            "value": 0
          }
        },
        "b1687a239b3a45ddbe76f492477badc7": {
          "model_module": "@jupyter-widgets/controls",
          "model_name": "FloatSliderModel",
          "model_module_version": "1.5.0",
          "state": {
            "_dom_classes": [],
            "_model_module": "@jupyter-widgets/controls",
            "_model_module_version": "1.5.0",
            "_model_name": "FloatSliderModel",
            "_view_count": null,
            "_view_module": "@jupyter-widgets/controls",
            "_view_module_version": "1.5.0",
            "_view_name": "FloatSliderView",
            "continuous_update": true,
            "description": "λ2",
            "description_tooltip": null,
            "disabled": false,
            "layout": "IPY_MODEL_cbfc18f3dd394ecb98c5ab0a71b77266",
            "max": 1,
            "min": -1,
            "orientation": "horizontal",
            "readout": true,
            "readout_format": ".2f",
            "step": 0.1,
            "style": "IPY_MODEL_8f797867e66c4b3382395cd86e8839ff",
            "value": 0
          }
        },
        "57ead18707d848b2b70851fa1cba0176": {
          "model_module": "@jupyter-widgets/output",
          "model_name": "OutputModel",
          "model_module_version": "1.0.0",
          "state": {
            "_dom_classes": [],
            "_model_module": "@jupyter-widgets/output",
            "_model_module_version": "1.0.0",
            "_model_name": "OutputModel",
            "_view_count": null,
            "_view_module": "@jupyter-widgets/output",
            "_view_module_version": "1.0.0",
            "_view_name": "OutputView",
            "layout": "IPY_MODEL_12d4f30aa19d40e88ace94ce06b27f83",
            "msg_id": "",
            "outputs": [
              {
                "output_type": "display_data",
                "data": {
                  "text/plain": "<Figure size 216x216 with 1 Axes>",
                  "image/png": "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\n"
                },
                "metadata": {
                  "needs_background": "light"
                }
              }
            ]
          }
        },
        "c6680e922f3540149fb613c65f5244b1": {
          "model_module": "@jupyter-widgets/base",
          "model_name": "LayoutModel",
          "model_module_version": "1.2.0",
          "state": {
            "_model_module": "@jupyter-widgets/base",
            "_model_module_version": "1.2.0",
            "_model_name": "LayoutModel",
            "_view_count": null,
            "_view_module": "@jupyter-widgets/base",
            "_view_module_version": "1.2.0",
            "_view_name": "LayoutView",
            "align_content": null,
            "align_items": null,
            "align_self": null,
            "border": null,
            "bottom": null,
            "display": null,
            "flex": null,
            "flex_flow": null,
            "grid_area": null,
            "grid_auto_columns": null,
            "grid_auto_flow": null,
            "grid_auto_rows": null,
            "grid_column": null,
            "grid_gap": null,
            "grid_row": null,
            "grid_template_areas": null,
            "grid_template_columns": null,
            "grid_template_rows": null,
            "height": null,
            "justify_content": null,
            "justify_items": null,
            "left": null,
            "margin": null,
            "max_height": null,
            "max_width": null,
            "min_height": null,
            "min_width": null,
            "object_fit": null,
            "object_position": null,
            "order": null,
            "overflow": null,
            "overflow_x": null,
            "overflow_y": null,
            "padding": null,
            "right": null,
            "top": null,
            "visibility": null,
            "width": null
          }
        },
        "bd342060a74f48e9bad20a7f1bce30d5": {
          "model_module": "@jupyter-widgets/base",
          "model_name": "LayoutModel",
          "model_module_version": "1.2.0",
          "state": {
            "_model_module": "@jupyter-widgets/base",
            "_model_module_version": "1.2.0",
            "_model_name": "LayoutModel",
            "_view_count": null,
            "_view_module": "@jupyter-widgets/base",
            "_view_module_version": "1.2.0",
            "_view_name": "LayoutView",
            "align_content": null,
            "align_items": null,
            "align_self": null,
            "border": null,
            "bottom": null,
            "display": null,
            "flex": null,
            "flex_flow": null,
            "grid_area": null,
            "grid_auto_columns": null,
            "grid_auto_flow": null,
            "grid_auto_rows": null,
            "grid_column": null,
            "grid_gap": null,
            "grid_row": null,
            "grid_template_areas": null,
            "grid_template_columns": null,
            "grid_template_rows": null,
            "height": null,
            "justify_content": null,
            "justify_items": null,
            "left": null,
            "margin": null,
            "max_height": null,
            "max_width": null,
            "min_height": null,
            "min_width": null,
            "object_fit": null,
            "object_position": null,
            "order": null,
            "overflow": null,
            "overflow_x": null,
            "overflow_y": null,
            "padding": null,
            "right": null,
            "top": null,
            "visibility": null,
            "width": null
          }
        },
        "08071cdd67ea49c48a21dcea1ab7e2f9": {
          "model_module": "@jupyter-widgets/controls",
          "model_name": "SliderStyleModel",
          "model_module_version": "1.5.0",
          "state": {
            "_model_module": "@jupyter-widgets/controls",
            "_model_module_version": "1.5.0",
            "_model_name": "SliderStyleModel",
            "_view_count": null,
            "_view_module": "@jupyter-widgets/base",
            "_view_module_version": "1.2.0",
            "_view_name": "StyleView",
            "description_width": "",
            "handle_color": null
          }
        },
        "cbfc18f3dd394ecb98c5ab0a71b77266": {
          "model_module": "@jupyter-widgets/base",
          "model_name": "LayoutModel",
          "model_module_version": "1.2.0",
          "state": {
            "_model_module": "@jupyter-widgets/base",
            "_model_module_version": "1.2.0",
            "_model_name": "LayoutModel",
            "_view_count": null,
            "_view_module": "@jupyter-widgets/base",
            "_view_module_version": "1.2.0",
            "_view_name": "LayoutView",
            "align_content": null,
            "align_items": null,
            "align_self": null,
            "border": null,
            "bottom": null,
            "display": null,
            "flex": null,
            "flex_flow": null,
            "grid_area": null,
            "grid_auto_columns": null,
            "grid_auto_flow": null,
            "grid_auto_rows": null,
            "grid_column": null,
            "grid_gap": null,
            "grid_row": null,
            "grid_template_areas": null,
            "grid_template_columns": null,
            "grid_template_rows": null,
            "height": null,
            "justify_content": null,
            "justify_items": null,
            "left": null,
            "margin": null,
            "max_height": null,
            "max_width": null,
            "min_height": null,
            "min_width": null,
            "object_fit": null,
            "object_position": null,
            "order": null,
            "overflow": null,
            "overflow_x": null,
            "overflow_y": null,
            "padding": null,
            "right": null,
            "top": null,
            "visibility": null,
            "width": null
          }
        },
        "8f797867e66c4b3382395cd86e8839ff": {
          "model_module": "@jupyter-widgets/controls",
          "model_name": "SliderStyleModel",
          "model_module_version": "1.5.0",
          "state": {
            "_model_module": "@jupyter-widgets/controls",
            "_model_module_version": "1.5.0",
            "_model_name": "SliderStyleModel",
            "_view_count": null,
            "_view_module": "@jupyter-widgets/base",
            "_view_module_version": "1.2.0",
            "_view_name": "StyleView",
            "description_width": "",
            "handle_color": null
          }
        },
        "12d4f30aa19d40e88ace94ce06b27f83": {
          "model_module": "@jupyter-widgets/base",
          "model_name": "LayoutModel",
          "model_module_version": "1.2.0",
          "state": {
            "_model_module": "@jupyter-widgets/base",
            "_model_module_version": "1.2.0",
            "_model_name": "LayoutModel",
            "_view_count": null,
            "_view_module": "@jupyter-widgets/base",
            "_view_module_version": "1.2.0",
            "_view_name": "LayoutView",
            "align_content": null,
            "align_items": null,
            "align_self": null,
            "border": null,
            "bottom": null,
            "display": null,
            "flex": null,
            "flex_flow": null,
            "grid_area": null,
            "grid_auto_columns": null,
            "grid_auto_flow": null,
            "grid_auto_rows": null,
            "grid_column": null,
            "grid_gap": null,
            "grid_row": null,
            "grid_template_areas": null,
            "grid_template_columns": null,
            "grid_template_rows": null,
            "height": null,
            "justify_content": null,
            "justify_items": null,
            "left": null,
            "margin": null,
            "max_height": null,
            "max_width": null,
            "min_height": null,
            "min_width": null,
            "object_fit": null,
            "object_position": null,
            "order": null,
            "overflow": null,
            "overflow_x": null,
            "overflow_y": null,
            "padding": null,
            "right": null,
            "top": null,
            "visibility": null,
            "width": null
          }
        },
        "0cfcbc59f68642ff8a1680ab0f6aeb92": {
          "model_module": "@jupyter-widgets/controls",
          "model_name": "VBoxModel",
          "model_module_version": "1.5.0",
          "state": {
            "_dom_classes": [
              "widget-interact"
            ],
            "_model_module": "@jupyter-widgets/controls",
            "_model_module_version": "1.5.0",
            "_model_name": "VBoxModel",
            "_view_count": null,
            "_view_module": "@jupyter-widgets/controls",
            "_view_module_version": "1.5.0",
            "_view_name": "VBoxView",
            "box_style": "",
            "children": [
              "IPY_MODEL_3ba75960f46a4933b0ce98e0cf0435f9",
              "IPY_MODEL_b5487df095af4086bd6f375ce9375ff3",
              "IPY_MODEL_7b128a4d13af492d8182906aeba64b69",
              "IPY_MODEL_791d2f3515bc481790b37d6d02d24b27"
            ],
            "layout": "IPY_MODEL_71ce1171120545ee86ee37e906db10b0"
          }
        },
        "3ba75960f46a4933b0ce98e0cf0435f9": {
          "model_module": "@jupyter-widgets/controls",
          "model_name": "FloatSliderModel",
          "model_module_version": "1.5.0",
          "state": {
            "_dom_classes": [],
            "_model_module": "@jupyter-widgets/controls",
            "_model_module_version": "1.5.0",
            "_model_name": "FloatSliderModel",
            "_view_count": null,
            "_view_module": "@jupyter-widgets/controls",
            "_view_module_version": "1.5.0",
            "_view_name": "FloatSliderView",
            "continuous_update": true,
            "description": "i_ext",
            "description_tooltip": null,
            "disabled": false,
            "layout": "IPY_MODEL_7241bf2f3b6c477ca8834b64b168b892",
            "max": 0.3,
            "min": -0.2,
            "orientation": "horizontal",
            "readout": true,
            "readout_format": ".2f",
            "step": 0.1,
            "style": "IPY_MODEL_885b13584c464f08987a815f47f07b58",
            "value": 0
          }
        },
        "b5487df095af4086bd6f375ce9375ff3": {
          "model_module": "@jupyter-widgets/controls",
          "model_name": "FloatSliderModel",
          "model_module_version": "1.5.0",
          "state": {
            "_dom_classes": [],
            "_model_module": "@jupyter-widgets/controls",
            "_model_module_version": "1.5.0",
            "_model_name": "FloatSliderModel",
            "_view_count": null,
            "_view_module": "@jupyter-widgets/controls",
            "_view_module_version": "1.5.0",
            "_view_name": "FloatSliderView",
            "continuous_update": true,
            "description": "V_thr",
            "description_tooltip": null,
            "disabled": false,
            "layout": "IPY_MODEL_9a68e06253e740a998b648cf8541310e",
            "max": 1,
            "min": 0,
            "orientation": "horizontal",
            "readout": true,
            "readout_format": ".2f",
            "step": 0.1,
            "style": "IPY_MODEL_f17956728f0046109bcaca091a6a9018",
            "value": 0.2
          }
        },
        "7b128a4d13af492d8182906aeba64b69": {
          "model_module": "@jupyter-widgets/controls",
          "model_name": "FloatSliderModel",
          "model_module_version": "1.5.0",
          "state": {
            "_dom_classes": [],
            "_model_module": "@jupyter-widgets/controls",
            "_model_module_version": "1.5.0",
            "_model_name": "FloatSliderModel",
            "_view_count": null,
            "_view_module": "@jupyter-widgets/controls",
            "_view_module_version": "1.5.0",
            "_view_name": "FloatSliderView",
            "continuous_update": true,
            "description": "beta",
            "description_tooltip": null,
            "disabled": false,
            "layout": "IPY_MODEL_95282d1fb1a940318367c50417bcf7a0",
            "max": 0.5,
            "min": 0.05,
            "orientation": "horizontal",
            "readout": true,
            "readout_format": ".2f",
            "step": 0.1,
            "style": "IPY_MODEL_66c488afe0f74e969555b246204b798b",
            "value": 0.4
          }
        },
        "791d2f3515bc481790b37d6d02d24b27": {
          "model_module": "@jupyter-widgets/output",
          "model_name": "OutputModel",
          "model_module_version": "1.0.0",
          "state": {
            "_dom_classes": [],
            "_model_module": "@jupyter-widgets/output",
            "_model_module_version": "1.0.0",
            "_model_name": "OutputModel",
            "_view_count": null,
            "_view_module": "@jupyter-widgets/output",
            "_view_module_version": "1.0.0",
            "_view_name": "OutputView",
            "layout": "IPY_MODEL_443c26a29e1345a48e54a455addd08e3",
            "msg_id": "",
            "outputs": [
              {
                "output_type": "display_data",
                "data": {
                  "text/plain": "<Figure size 360x360 with 1 Axes>",
                  "image/png": "iVBORw0KGgoAAAANSUhEUgAAAWAAAAFBCAYAAABJkXXfAAAABHNCSVQICAgIfAhkiAAAAAlwSFlzAAALEgAACxIB0t1+/AAAADh0RVh0U29mdHdhcmUAbWF0cGxvdGxpYiB2ZXJzaW9uMy4yLjIsIGh0dHA6Ly9tYXRwbG90bGliLm9yZy+WH4yJAAAgAElEQVR4nOy9eZhk13ne9zvnbnVrr957unsWzAz2lQAB7qBESqIUcRGlx5JoxrQshYrWJHoiJ1rix5IiW3IsPVISJxRtyVKUKLYk0xZDkwRJiQtIAiQAYgdmsMwMZu+ZXmqvu56TP86tqu6pHsyOHmD6febOuXXuWtX3fvfc73u/9xNaa7awhS1sYQuvPeRmn8AWtrCFLVyr2DLAW9jCFrawSdgywFvYwha2sEnYMsBb2MIWtrBJ2DLAW9jCFrawSdgywFvYwha2sEnYVAMshHifEGK/EOIlIcT/uMHyXxJCPCeEeEoI8bdCiB1rln1MCPFiNn3stT3zLWxhC1u4dIjN4gELISzgBeB7gKPAI8CPa62fW7POdwHf0lp3hRA/A7xba/2jQogx4FHgHkADjwF3a61XX+vvsYUtbGELF4vNHAHfC7yktT6gtY6Afwd8cO0KWusva6272ceHgfls/vuAL2qtVzKj+0Xgfa/ReW9hC1vYwmXBZhrgOeDIms9Hs76z4SeBz13ktlvYwha2cNXB3uwTOB8IIT6KcTfcfxHbfhz4OEChULj7xhtvvMxnt4WrBlqD1uisHUys7xOmxzivsuVojZAi+wwD15zWCMsCrbLPg/9AWsPt10KuH9ec6BY3PN0xP8SVqdmttDb+TkJmexfru4VYc1TR/zdcb9CItav0Nz5jb1u4VDz22GNLWuvJC91uMw3wMWBhzef5rG8dhBDvBX4NuF9rHa7Z9t1nbPuVjQ6itf4k8EmAe+65Rz/66KOXet5buACoJCHt9Eg7XdJOj6TTI+31SNtd0m5A2u2Z5d0eaS9AxTFJo23meyFpYNbxt08QHj+CCkJUGJIGISqMqN55I9GhZ1FRBEoNjlu46Sbk6sjlhCyWyBc3Nnb+zu2IoHPGBhbu7psQ3VVjWIVEZK2c2Q5xD4RYN0X+JE+259iWa7LNb/LPnnn3YHcCjc7M30dufoGFsjlekiujlB48APpGXblFwjTNnhHDh4nt5emECWfGcFzPox2MfjdLShI1Gu+RQuC6AjRIKbCkREqBlBLPNo8q0zecrP56loWQEiG2zLkQ4pWL2W4zDfAjwF4hxC6MQf0x4CNrVxBC3AX8EfA+rfWpNYseAP6ZEKKWff5e4Feu/ClfG9Bak3a7JM0WSatF2mqTNFvEzR7hiWWSVpuk1SFpdkiabexKkfa+AyTtLmmrQ9LpkLQ65Hdvp/Htp0b2b1dKJI3WhsfO7dhGfHoVK59D+jks38PK5chNlxG2jTtRRHouMpdDei757bPIO29AOi7CdZGOg3A97GIBO+cgbAfhZJNlIxwHO++DZSNsG2HZg3ksG2lbZmRrWcbYXoBxiRLNIy9ovvGcIozhlu2C6+62+M27QSnN04cUX3kyZblp1vcWbqYwc+leQL1m1K6URmOOp7VGaY1WplXZcqXWz0NKmmqUUiitSeKUVGkSSxOFo9a84NnozjDeLaSFtCxc18Xt1c1vbtkIyxnMWypB2B44LsLxwPHMb3+NY9N+Aa11IoT4eYwxtYA/0Vo/K4T4TeBRrfWngf8FKAJ/ld0Ih7XWH9BarwghfgtjxAF+U2u9sglf46qHSlN0p4VqN1HtJmnWqm6b1oGjpO02aatpDG27Sdpq0WtB5+DhkX3ldt3C0hezNwgpsctFnHKR6r23k7S72MU83swEdiGPXSrgzUww/f33YxUKWAUfq+BjFwtY+RxWIY+V98183scu+Mi8j3BspLwMRilN0XGMTmPTxrEZIasEnSSQxKiwB0mCBqRQoFJSlUKaopUCrZCubbbTatBqpRD5QvZZc6hV5C8P3ogjFaGy6Y9ek2ad8IWD5oS8Anst2H0X7D9d5KWlAtXOKbrHHBLpZGc99BMIIYit3GC+/yAQQqCEY9wIQmSDbjFcR0ikEGaSAqv/WYqLGqnqgaFOjYFWCp0mUCqg0tT0pyk6TZEotEpR3cD87kkCaKSbwzn+4ujOpUW6uAjSQnj+uimKIE0UVr6IzBeyqQiOj/Tz2OWicQ29zrFpNLTNwBvNBaGVQodddNBBdxqoxSPobms4dZrg+qx+45ujGwtB/WTPGMdSGatUwi6aVrllkBZ2qYRdKpplpSJWvohVNEZX+rkLuqFVHJO2u8YF0Vnjfuj2SLsBOk1IWi3jduj1SHshKgjQSYK0jbtBhQEqjEjDEB2G+DNV0pVlVByiowgVxeg4onzbzaRHXho5h8Ktd8CpQyP9zvxOnGSDEbnj4lZLG34fObcrcz9IHui9nafifmxBYzyvmt35RT40/R1AQHmCOE1G/wy5AgG28V33t9cgpKQr/cwjsf4eTe0CcTp637qeRydQI/35nEOrlyJE5mbIDLLnWCitB64H41owk2OBJQXSktkyibSM7/h8H5Baa1ApKg4RUYCOQ4gjdBJCHKLjkPTYYXTYg7CHXjO1TtTpvTz6NwydBQ786d8BYBXzOJUSdqVE5a5biJZWsEsF7FIRu2wmZ7yG5bnYpQJWqWCWFwvYxTyymMcpFbDyvnErXQKEEI9pre+54O2uJQN867YF/elf/g2csSrueHXQelPj2NXyVevLUkoRRRFBGGF3VrCXDhmjG3Tp35zSL5E+8U3w88h8GZEvmalQIerGyGIZq1hCFsrIYhlZKF3REcTz/8PvcvwvP2v8vu2uGYECY++8h5UHRx+CpVuvp3vGDSc9F7tSIr89j3Q9ZM5Dupn7wXUp7toGaTx0P7im9aYmkKRD90PW2oUC0rYRtrXO7SBsB+m5CDl0PwhpoYVEOs7A9ztoxehoUmvNi8c1X3tacSJ7O79+TvCj77o8v/E6N4PWmZ3WWVzRuBtSMyA3bgc9dDWgIU6Hboc0cz1YUhDEffeDJlUKpY3htXS04XkU7BhQmV/Yygy0RblaxfO8y/JdATOS7vVQ3U42tVHdNt0TTdovnyRutkkaLeJGi6TZxqmVaT65z7jHmsZFlra7lG7ZS+vZ0dG3cGx0PHwgWnkfq5jHKvgU9uwkabSGb22FPNLP4S/MooJwjXvMvMHlr1tg4v77tgzwubBX+voPrO3r+ryZCcKTS0jXwZuZxJuewJuZwJueZPxte3EnJ/BmZ/Hm5nDGxi/5SXk+aAeaIOiShl3CMCTKjBdA2daUVw8ivALCLyBzRUSugHB9RC5vjMhVgMP/+t+z+q0nsAp57OzCtgt5nPEqwrLWuR+svI/M57ALPpafw/JzyJz3mvzWlxtaaw6e1Dy0T7Fnm+S+G15f30FrTZoaX3CaqsxYq8G8VGHmdlCkWatUysTUFL6f3+zTXwedpsTNFmm7N4xPtE18Iu10TRyj0zVvZu2ueTNrd0FKwsWlQeA47ZlAceH6Xax+8zuocP3Daf5jH+bOP/6dLQN8Ltxzzz36oS/9HdFynXilTrRSJ643iU4uES4uEZw4Tbi4RHjyNOHiaWrX24ORG2BGVzOz7P7Hv4AzNoYs1pDFGsLNXfK5dULNkSU4vAQrHdg13mPKW8LzXDzPI5e1lmVdtSP1LWzhWoBOU9JeYNxovQBhWeQXZi/KAF9zYUinWsaplmH39nOuq8KQcPEk4bFjRCeOE544QXjiOKiA+Mjzg/WE6yOLVVoTt1GoFPHd8zeQR04p9h9TLPXMyLVWgDt3wPy4TzF37nPcwha28NpCWFbmRy5c8r6uOQN8IZCeh799B/72HSPLdBKjOg1UexXVXiVtr/L0SZfekYSxomDbmGS2KnDsjY2xUpoHn0743LcSxsqC73+7ZOeEoORvjW63sB5aa/YfTikXBNsmrg4X0+VC8OlPrGNB4Jo2iQVag8jYD9LPWBA5H+ldWAD4bEiVZqUZsdKKWZjyyXuv/W+7ZYAvEsJ2sCoTWJWJQd99oeb4iuLYiuKZwynffl4zVpS88zZrxBD/9VdDHtmX8LZbXb7/PofcBYyat3BtQCnNEy/GfO7hkBPLipt22PzcD1/6qOtqgdYaOTGHDrsQ9lCrpwwjIurRXe4RHnp5ZJuunOHA//N3ONUKdrk0YEEU9lxHXO/iVPoMiGxZrYJdNPRHu1xEFguk+Tz1xOZ0PSTNSCPdIN0ywK935D3BnlmL3TOSRlfz2YdTvvSdlGNLivfebTM7ZgIyzxxIOHZa8a47HN7/NneTz/qNAZ2m6CTj/CZmEjrjrCYZ9zdNUGmMZcmM62s4vygzCdcDnWR84T7nN0X4BcMD1mpNirOCXNEwEViTwaY1OB6JtfHfNXILDJKGBYP51PZJs8ThVlfwf31REMXQ7A7ThsM4ZaXRQ2Q8XzXg+LKmJaONcdXHCoQQuG97/0i/1ho36KJ7XXS3vY4JYR1vsLOy3TAgmk3iepOk0SI4vsjylx8lbrRQvWHySPGWvbTXsCCmnvkWtFMgXXfMF371X/Divv3YpQK5uWl0nGQsiCyAnPdxJ8dAiGEA2TdBZHeixsViywBfAQghqBYEH3mP5MVjKX/zjZhPfDrkZz7gMjNmsf9IQhhrfuAtb2zjq8LQBCt6PVQviyZ3TavCANULSIMAFQzn7ZxN2mygwjCbAnQY4m2bIT5+GB1H6ChGRRE6jshffz3q8P6hVkMGZ247TtQcPSkhyE1UNjRO9o7diG5jpN/afj06aAKZhRMCkIjxWdIkHhrSrBV+kdTamJIVpQxovYbimyVtuBCmxpAfXLRZavRHuv3UZU2cpBw9ZYyLn3NZ7Yx+h5wraQay/1WxpKGV2dKcomNJbAtsy/B9bUvg2mBn8/1ljmW4wpsBIQSWXwC/AGPr5RUKwPQ5tjfp7C3iRj9jszWgpjVeep5gfIq0UhumjwNOziPRmuD4KeJGi97BIxkzopcllED1LXdRf/jxkePN/YMfuvjveq2xIDYjEWO1pfiPD8acWFH84oc9fuNPu7zjNpsPvfPS2ROXG1prVK+L6nZJO2b0kXbapO02SS8gPLVM2umQdjum7XSwShVaz+0n7XbN1DFtbn6e7ssHNz6QLRFnXntSUrvrFpLl04bz6w2n/O7d6E4D4Qz5vsJxcScnsIQyacUDzq+LzPlYOdeku65NObZshOciLdukG1sWQmbz0jLcaClB9NuLyyC7VCileXRfzGe+EbDSMr/TLbssfvIH/YzjC6kGpcn4vv30Y4hSQaoMLzgd8H4hSjVpCkmqSZQmyQaBvmPSqM9ENS+IkxTbljhW30ALfBccqbAtiWVZprXNaPxqH3X3EUQpR073qLeNcb1pe5Giv/F4VEURSUZVU332Q6ZdknZ7uBNjjL/97i0WxNWKWknyvW92+OT/F/CVxyN2Tkuma5vPD135v/8P0mbdkNw77UGbeFW6L41mIbm7b2b5G982PN5CYTD5u33sShlvdgYr308xLmBXyghpGcJ6IY/0fTPv+wMiu/RzWJ4htgvbft3cwFcKSulBxtq9N7vcfYPDQ89GfP7hkNlxC9e5fH7KfvJGkioSlRnmvoHORuNhLAafe1FKkmpKOUijzsj+fM/GS+pIy8ayrKy1sWwLLw3Ng9F2EbZ5eG4mZz3nWuydK9LsxjTaCfnc2c9Fui7umIs7Vr3s57FlgF8jzE9KbrvO4mtPxUSR5t6bnHNvdIURHTkAgMwXcea2I/MlZKGIzpWofJ/EKhSxCiYX3yoUEX6e3YWiGX1e44bycqPZUXz58YgHn4z5vntdvufNxoVhWYJ33O7xjtsvX5ZZH0L0XQ4XZghTpVBpkSRNSVNFkppEDXQKUaYRkSbEUYRKE6RloVc2eBOSFm79tNGxcH1wc4YN4fqkCUbXwjcJRyJjQgjn8rrtynmHcn7z7sUtA3wGDp7SlH0YL11+A/PO2x2eORBR8ATqTA3ZTcDMr/zLzT6FqwJGs0ChdYrQDANu/UDcupXVUEdYgBbyzJ2hEUN93zWBNoBUmEQaASjgpaOK5w8pHnpODSLyKy1FqpR5yGl9WcSJLif6QT5nw9F4Zd0nrbUJdm6bRyXGb68TM6k4QioFUWDYD+1VVNSDJCaqd4kPHxjZe8+b4cTffhu7XF4zlXCnthHVY+yK4fnblWLWltcwI4pI++oyeVfX2VxhqF5IcHwRp1bB8kf9r1GieTgLmN64TXPbdhOQuFyYGZPkXMHxJUW7u/kGeLOh02Sg76tCE4zTaYwOQlQUoqNMhCcKkY4FQSdTNstu5DhG5guIXnPAfOgrnYlcHltEhuGQpoYNkbVOrQppph+s0oGOsLWwcRBObLsOHYyK9YjaDJEaFb8RXp6utXFabterDgz6Q/sLfOvF9WLtAk291eO5AyaA6Hkeja7IYn+mlVKQcy06kURmQbZ+sM2xINWZz1ayJrAGtgTHNuu8Vm8wQoiB/116G/wmC6MFEnSa4HRa6F7HsCCCDrrbQfc6qJN1qj2bpNUkaTQJjh8n2d/EnVrg6F98ZWRfxZt2035+SGez8r4xzpUSMu/jlItGqKeYCfWUCriTRnLALuYH+hB2tlzmPKMN0U+dz/uXpKlyTRng1nMv8rc73gUYoRenVsHfMYd0HdypMdTem+F9Pw3AvuPwyvGQ28fbLOyq4HiX5zXlhu0Ox5dCVlujN+7VDJ2mJijXMwE21e2QdjOxlCQhXlkZMB1M20VIi3Bx0YiqBBkbIghQQQ/hWKh2e+Q4xZtuIDo8+rpauusu0lf2Dz4bjV+X3J4bEO0VsB3jQ+63uTwyl4dB8M0atFa5Yqpf9MV3pERIC1EsGSJYFnwbCPC4uUyEXWDYDmbSlk1Onum3FmghcKTDSKUMoCCGt9x7q5oYOL4EJ1fNbrUWlHyXmXHPsN2Q+J7IBHbIBHVAWgKZMebixIyeU61xLcHKqHvW/A318IwcK5tsQSkbi7i2wLHBzZgRrg2uI3Btw5h4rSAsG6tcg/IovcsHJn9k4+1u+zcxSbNNXG+R1JtGB6LTI1pazVgQbcOMaBrB/3ilTtLq0Hvl+EAjIml18GYm6B0aFfM/Gwti/mMfvujvek0Z4Px1C9z6j/8pcb1JvNogXmmgkpTeK8doP/cSrZa9rrRnD49vLXt8axmm/v67yM3P4m+f5fr/5sP4s1OI8hiiWEPY52+c985LnnhRUC1ujg9VJ7EZWfTaJPWVAc9S9wzPUvc6xEFMcORwpkDVQfW66KCHvesm6t96ZGSf/vU30nzyaQATaMkCbc7UFCqIkL6PWy4jcyboJnM57FIJ6TiZsHrOsB1yRifYiKq7SNdDeJ5pXcdkQPUN7FX2Wn6+WOvJLRThYz9gXtOfOZDwmW9GnFxRVIoOk7WL9/lqrbOg2jCwFmdtlEKcaOIU4sT0h7GmG2qixLAq+qgVoJ3JW1rSGGjXFpR9cGSKbQtcW2JbEtc2DAnH3rwKGdJxcMdruOMXz8uFNVVc2t2hWE/HMCCMkE/P9PeCgUgPf3xxx7qmDLBTq7Djp3/8rMtfPKF5dI3bqZS2sHst3FNHGX/P2+kdPUHzyeexVg4QnxxWehCFCqI0RnfHPdiVcQq5swvmzE9arLY0rnN5DYhKE/OKHnYh6KJDI1ep45Dk5efQPWNcicPBNkG9h2oMdeyF5xuh8do2hG3jzMyZAFy+YAIgpRrFt343MmM5yHzetDnfzOd8I/G4hQuCEILbdjvccp3NS0dTtk1csjbtYIR7Zi25cyFNNVFq3HFJoolSTZT0p8x4J4pmEJGeUeIo70mctI41oKdZWLZpCzowD1bLQTou0nbMW8dVGMyVto2smEy688aPXdyxtu6WNSj6UM3D3BjsnIRyvgyUgTn4L+8brKeVQnca6NYyurmCaq2gWyscazt06h0cW1ArOtRKDqW8hVxzkVWLglJecHgxHT2Bc0BrTRLHqLBLGgWkUUgSmlZKQf7AGRxn2zVSlbaDnFow0WS/mE0FXOmaHHu/gPDz10SJmOMrmqUm3L7zKrzxheD6hcv/N2h0NY8eSHGt/iiWzNVg3AyeK/BsgeeAZ0POAd/d+CFwejXl60/0ePDxmOu3O/zEB0sDo6xUCmmFJElJ05QkTYm6WaJK68jozoSg0DqNBISbM6qCbg7h+iavRljZtWmuV5w3HvvmjX/HXQBmqwJnt6aQ41UVzYSUiFINSjXYNuy/PlU02gmrrZilRsSpeoSUklZQ4L4bBHnPENVv3Wmx2jq3AdZa0w4Uza6i2U1pdlNKbsJE76XsPCwsL4dTKOI4Hs6t7wQvb4yul78g18gbHUtNzdefg5dPms97ZjV57411M58NUkItL4hSCBNNK4AoMWPjRMGZvmopYKxgWB45B06eTnjgwTalguTIyaGIeaOj8ByL9eERf+T4SilQ06gkzqbIiFklMZZOIOqiox6qvQphD7QibXZIj57BgrBsIn+a5ceewS6XsUoVU62lXEGWxwkbCqdWwamVcar9toxdKly1LqstA7wGcaL58rMaS8IdO+G6qQuLFjuWZKLiMlFxSZWm2UnYdxQe3qd5/GXNe+8Q3LZL4HuCbz6dkKT6rCyL5VbC/qPhwCfnOYJa0aaat6lN34jl5q46Ss2VgNYa+hoPGfNBJ5HRcEhjdDrUedBJbB6Oash4eOD0Xuqxz+mkvK5se/Dol7FFF60VwveHGg/9+m9aoUtjhj1xhtaDLtZI0rUP0GxZrkTA2oi4OZa0HTrkGBSJ76csCwiUhxRyTVHl/jo2qTbshrU6D4aSZpgN/RRjK3M3nC1QVsoJ3nTdaKQ+TRVRKggTiGJNmEAYG/dDmkIQazohfP07XeotRX1N4FgIiJXmkRe7uLagktc4IsWxJY4tsW3LzFvSaG9IidxoQDCzXmmw//dW7aZxmwWdQcxC9zokpxq400skzSbx4YOkzSZJq4m7cAMH/vjLI7sv3HAdnRcOmvJElZKho2XuBatUMH0lI9TTL2XkVEtG5yErXWQXC4YNUTSxjcs5Cn/j38Fr0PjOs3xh6l6cWsYPrJXxpiewi3nciRrp/C70bR8gSTWPHYCDxyLuvd6hfJYy5q8GSwpqJYe33gR7tmm+8pTiPzwYs/+IZGFckipYXFHMTW6877wrma7alPMW5bzEW+czvvyk/IuFVumA2aB6XcN4CEMTwOv3BwEqq66bNhvoMKOZhcGAgiZIIY4N9SyK0FGEjkP8hQXS08dHjuvffDt68dBIv7vrRkT9xODzi3v+YHiua9aLDr9AIlrGD1kdM1lZfeZDVnZI58uQJgO9gCxFzaQsm47hDoUAy0L2b6k1adbGqIqMhaAz2QpTNihKNZokYzj0ywuBEmxYXj7v2ZxujY7mFsYlt26/sOvUsiS+Bb57xnc5A++4cZx6K+FTX+7wte8EGVsDpmoWlbxFlCiSWNMOg6zK8hCVoseO2cpZ9jwKIQQ4LlZtAmoTI8tzwNgPr+/TWpO02uz4lSbxqqGnxasm0K7CiODkaZJ6v3yRaaPlOtH+A4Yd0Wyvq3Lh75qnd/DoyLFrb7nLVHnJ+8NyRfk80x98z3l/vzNxTRlgb2aCbT/yg4YFUTd/pN6RE3ReOGioKne/BX7vA4MbbiV0+fzTAIq5X/5xcvPT5LZNs/Mj30VudgpRHjcBuHO83kxWBD/yDslY0eLh51Ju3SlZmITjp5OzGmDfk+yevfKGVqsUHfTQQYekvgpBN2M9GAUqHXRJgoj49ClUr5NRyoxSlTW5jdbjj43sM3f9zXSeGS1H787OkbYaCDc30HgQXg7petiliqmI7HomTdU19d+cmkn/7NPO+loPVj6PsC3jZumXmLcdsF2kY6hnSItfJGS5a/HYQYv9x8SQhvWDP03+CiTbFM/SP3YR+xoY4zWaD3EKexRZCrFxIaRKU7jC7pRqyeYffaDCu+7y+ZNPNzl+OmXXrMv1c+t4HeYck5Q4UcSpwrGu/Ku/EAKnXMIpl2DH3EXtQ0XRgIaWtNpZGaOOEeRpm/JFaM34e95qGBJZuaKk08W+kGDdmee+JcZjoJXipVd6PH4yex0VAjsJkWEPa+U0U3/yO/SOnSQ4epJ3fvInkWGmtCUtQ0crjxPuuRerNkU+55z1NaUbaFwHfvZ3l/n+t/n80LtfW31X1arT+9yfD4t6hr3Bst5SHR2sH3YJLwfj88QryxmNLI/w80g/j6xNDmhmZplphZ8V0fQM5UzmfEQuo5BtYhCl3tE8+hIcW4IffSdbGswXiSTVPPlCyC3XueS8q9O3+lrjYqsiX1Mj4FeDkJJcOY9c1GwbE+ycEsxUckjpA2Pw9/7tYF0VdNCtVXRjGd1cRjWW0aunOB0IusdWkUJQzLtm8l08d/gz53Pmpp8aszh++sKZEJcKYTtmdFkZM8E6v2CKeeYKuMJG5vKm2KefN/1XsHLya41qQfDeOzb7LF7/sC3B3TddWSW/dPGw0WjOrlE8H3Fm2vdlgFKaZk9R8uVrmmzSx5YBXoOFccFYQZNzXz3zR+YKkCvA5Py6/p2pot2LaHcjWt2QZscE0V5emuSmecH1c8NAyQ3bLRqbkA0n/AL5D338suwrSc3b0+VM197CpUFrzbdezOhlznDKOaYv75oA3tXO5oof/RJq8ZVhh5CQyxO7NVr7XsIq9VkQZaxiGfwKUSBxa1WcsYqZKqWzDiDCWHFiNeH4SkKcwg1zLjPV194cbhngNUhSzRefhpyredMumCpf2FVqWZJKMUelmDMBljjlVCPhiSOCz30HnnoFfvQdZl3fFXzp2R5xUjlr3birFUprnj0MD+2H2Rq8/82bfUZb6CNVcLJh2AzpGc9334F2aLLa8i7kXBOAqxU0tgV5z/TnPdO/GSPCPtx3fBDdbRoGRNDOmBAd4uUmOk0Jj7yCajVI2y0jWDS7l31/+Pn1OxGC8h03ETeaOJUyTrVE9Mu/hp6cAttZF1xtPPIUluhlTIiCaYt5Q2G7gm+B15QBbj/3Eg9990dxqqVMNamEO1HDLhZwJmokU9tQlbvphpqv74Pt45rbtgs858IvRCEEnmuzMGnzD75Lc3Cxz7k02DZpozUsLstgmjcAACAASURBVCfMT79++LpHljRfe1az0jZVGlYbCeGBgyaQF8ck7SY6q2Khwh46DA3ns9tBR0EmshOZ/ihk6r/9JzgT56px8MZCFGse2x8xP2mxMH15b0HbEnwoeyAmqSaMIUwgiCGIoHfGVO+YZcujWkPMjWniVJP3oOCZ0bMx0ppirj+SvjJGWlbGoTI+0u8BlQ9+dPBZqxTVaRMt1xn74X9ItNogXqkTrzSIVxvoVNF75Rhxo0Vcb6LnFjY83sF//q946cGvA+Bft0DvwDBxRPo57FKB6n130Dt0zIj0FIxQj13IU3v7my76e15TBlh6LkhB7/AJ4sZ+4noLu1QgOGJoS+pN98L/9mf0KTmHl+HwsgY0O//gl8jNTuHNTjL7PW/Cm51CViZMJddzQAjBdTPr+7ZNmp/++OnNMcBapRD20GGXtNWEXtukLve66LCLCrqoVBMfP4IOuizKKb60/WeyjRlwWYNmh9O//+sA2LMLBAfXFFIUwvibC0VTiWKNtoOs1sznTRTlfq0RRJoHnwj5wrdD2j3N3Tc6/NT7r9wt2FdCO3eYVxAnmm4E3TCbIhOLrneh2YWTdQapxxMlTRgnWNK8yfmuafOeoOSluI6hTTrWpVfI0Fq/6j6EtLBKFfxSBX/naPXyjZCkmkOnYo6tZBxvBLf/4a+Ta64YWlqnS1JvGUZEu0OaCfVYecMBTjJWRHjiNEm3izN+8ULt15QBzu/ezlu/9Ofr+lSakjRaREurHFmB52HAghjIFUYhzSef59Tnvkra7jI59VOohzINhVweWRlHViZIb7gPOTaN53nnrKc1O25Ry6ccORFy763nNuLnC62UeWWLAnTUW98eO4DINCLWakLEMaiTa9SfLMsEPybm0WEP6Rco+0ZKsECbjijSv3ATr8TEz/5qVlY8Z2hlXl9Y+9JTR7XWJskizqQlkySTljSJFzpNzJtkmsIgAcPMC9se/g37+r4qBT9vHkD94ppZq3NFlDYP3PVFNnPEsn+rrGENCUnPLqxn0GbfNxJ5FOY59fwr8KmvGh9sNEwkoxcqji6FJtFCCBJ9hrxkn3Ysh9oOfVnKyw3HFlRsqIwoRppjaW20IDqhcW8EsUUQaXqRphfBakfhO2AxZNUIAa4t8RzBuNfFcWxse/10Nq3jxVXFd15IeeyFlL0Lkh999+UTYrctwZ5Zl9kxm5dPRNS7ivEbd+A5uy5+p7//axd3Lhd/xDcGpGXhjlVxx6oUljQc0JR8w4JYGLfIOTbgwbMPAJC02hA0oV1HNZYMA6KxRHr8AKs77qZ3fBEBeDkPP+fh+zlynmeygdbA8yRxojl6Mho9qUuADtoEj39xfaflGO6t6yH8ItLLI3K+SVv28tjSMCNEzjAi2IAuVgV+AYASJ+uapw4KXjgBQkjshT0Q9UxiRadFunI6c0ME6DhCBT10pu9rHggReB5qdWmo7ZsV2XRm5lAnDg30fUli0Bp7fheieXrk+4pcHtvb+DK2pucQUXd0m7ndRt93kHhhLJ0YmyU1pRiyFU16mvBLpHL9W0qqBC8ul6mOJ5T9zLe0Ru4xlDZxatw0+16xAGud8RUCepHi8Gnz98/nbE42Rt8GSr7gRN1at50tNb4LUSwH+g1u1nqO0Xjo+3f9zNd7qe5cIcQgoHe2pI04UcRJkTBRhLGZoliTKkUv6NHujLJ+JoJTWCpBuB7Pr0zwmeenqPiKxdZQzrPbuzLB6oInuW2Hh9Kb5+++5g3wWsyPw3iRgWbDRrBLRSgVYXLbyLJcmtILQnq9kF4QsFpvslpv8vSpeapFza3bYaoy3O/clMOxxfiyfgfhFXCvfzPC9TOBE/9VRXZ0mhhXRNBFt+uo5eMmO62+bPy6mZtCBz1wXIKDB7CCHneEPa5XLqHIsfzNFeL6qJA5gFUbJ11Zyj5Y2Tm5uDv2kK6eNskVjosslk2Cxfg0dqUySLgwOr+OEV63TcKF0fV1IJu3vNygqCaWbdwaa/R/kdZQ2/ccClxnS33pDwzTVPPYCylfeiyh3ta84zaLD7z91UdnN+w0I8gnX4z5mwcDTq4otIbpqs1bbsijtHm9v2FODApp9otupkozPy4ySUnz+hxnGvLNrvHvrnbI0omNyVJq/UhbYIzwVMUsK3hQzEEhZ9r+dKlyCSYNGfJs5FYqmoy1NCVJksHktmLzhhaHfOewT5BYBK3+9gKBorD4HMGnvo7IFUjsEsErR5DFMrJUxipWkMUy2iuSKg9nvIo7Xt2w4MJGEEKwmSSeLQO8BlrDg/s0ZV9z+w5JMXehLAiLYiFPsWBuV6UU7W7IkY7khWPw3BH47ts0Ny+Y/c5NOTx/wKRvXq4S4MKysCYWTOArDlCtVWRrBd1rZj7fHjrqmXktUAefG93J+Bzh808CwiRQZCNmWZvCqo4bV0POJ5/zM1eDB85a90Mu8/fmsgrF2efLrLams2oXqDSbT4YuhTSBJDL9SqH7Igz9ckN9t4MGbduZy0EPNSGAxM4N0m4PL1n85yfydENJM7Doj8563YDmqolgaemQaGM8+qXqjYa7JFEW8zOCn/uRHM8cSPnq4zEz45Jmz2iPSGkMgWebecHZShGd/TrR2hjpbmgCa91wGGzrhiZzbrljxN/DNQZ6tganGsYgl3JQ8o0yYK0w7PPdS6euCSFwbBtnrYZJdeg//fiN0AtSvvBozEPPa8z7g6Q6O441dbtJHlptEi8eQ738PKrTGvyt9NgunvrnfzPYl/RzuONVSjfvRUWREempGvkBu9ovW1TCrVWGOhHZZBXzr1kZqGsqE+7m8Rn9lx/5mUyMo4hdLmGPVXArJZyxKkllnG82TEReCLhhVrBnRlwW4xjGmn1HYe82Bipcf/dQnU89sMSv//wCMxMXlnastSZJUsIoIYwTwiih1DxkmAZxuE6LwA1ayJWT64oe4vng+Ig4ylwRPiLnI9w8eDmEkwPPuyLk9wtB889/D91tD3y+/daZ3wmNUyPrWwt7N3ZVTM6jk95IP7kCqbvxbx+Vp+nfH5947BbqQX9UZfzfAs0tcy3efaOJB1h+mXow+nt5nsup9ugo2bUFS52NR89hYqG1CaI5WUkhx4LbtwuqhUu/HuPMn9sOjHFu9qDVn7K+2RosZewIWxrDXPJhvKgp54cjaWOcL+8w8vCi4q+/FnOqrvmR+23uuX704d1nQKh2k+DUCu2XTxIv14lW6kTLdeLlOsKStPcfGBZhWG2ighDpuev0H9aisHcn4eKSKVVUKuCUililAsUbd5M0Wob9kE1WIU/xpj1Mf//9W5lw50La6XL8rz5L0mgbBS3Am50kPGFuWH3H3fAJE6TTGvYd1+w7miDbLXZ/4Y/xpifxZiYYu3sv3sw0onhuHYg+PEdwxxk+/omazYHDPY6fjM5pgFOlOdWAlbbCZ4UoSrKAkYFlSQrCxs6XcVwP6XhIN4dwPGSfgbDJxvRiYFXH0aWqGT3bTtbaWOUqQmiQtnFt9N0Pno+w5Bq3gyk5NNh2bbmhvv/XstdxQkVWdignhtUdfuVmI7/4+EvwlSdTeiFoBIVylfnrjGiMBqazcdvaGJ7WmrkpiUZngjvDkvDbUzlwQaRZnDDV0AshzvQejOvBtJcLjg1VG6pnoUgkKXQCY4z7RrnZg0bXGO+XTw2vPSmg4GkqeajlE3zX1D70XXHOpKazYfu05Bc/7PLCUcX18xtft30GhFWq4MwuULrj/NIc0yA05Yj65YsygZ6k0SZutlBBRLy8StxsDxgQSbNNcPI0zcefNdoQbVMhA2D+J374HEc8O66pEXBfC0JrjeoFGTewlfEG6ywmBQ4tZCRKrcwNmsF5952DJ+bb/vDvI1qnTKHByhiyMoGsjiNuvBs5OYvj+ef1CrPSiPnof7eP//ojs3zgvaPKT71Ic2IVjq9qFhuGWG9bcOe2VfKejevaeNl0oaXF3yhodU35ndprWOIpijUPPZfw4FMJ99/h8M7br6lxDFob5kN/BN0JNe0gc4HE4UgCiGfDTKmH60gc28J1rEFrW/Kqq/p8vtBpStLpoZMEb7y2NQI+XwghjKRc3ic3OzXoD5cUHDI+uflxix0TgkrerK9bT5E0WoQnT+PYIbRXUPVlVH0J1VgiPnGIaPuNhEdMQUnHy+Hm8rg5H8cv4rqjXN9a2SbvS46eDNf1LzcVX3gkwS9IIi3Ju7BrEmZrgqkKWHKUoH6toRtqHt6neeKAeS3+r9732hlg1xHcf4fD/Xe8fhJoNoLWmqNLUC0aV8L5uhGEyBIyPJgsw1q/tNY54tRQ7HoZTS2KFaDp9CLiZL11nlansFRsyhQ5HlbW2misjA6J51+VfHFhWTjls+nfnR+uSQN8NmyrCXKOYKw4qm8ghDBO/Gr5rNsncUQcBkRBjyjo0m3V6TRWeLZ9A0EKe2fhummTl9/f5/yMt46KVm9rfu8vQ6SA994juHPP8CFwrWDA/c18vv1JpymvLAkO1z2ePFkiVgIQ9MKU5MCzhuOLAMlQWF0pdL91c4hMh3cQbNMK5ZfMOv1jZ3wylSsSa7HOnw4gnBxdvdb4ioyxJummHoL14upCQJjaCCmwhFlXij7rYCiwbkuTJmxbhgPs2IYPfKX+9N0Q/sNDZt6SUC1oqgVjkCdKpnxWrWAYFOcLrY2v2i1YVNa5N4yLTelMrjJOieIUL0hMsDgOSYIOUWsFtCbfa5KeXqMF4eYQXgFt+UQnThgWxGCqoL0iuHmcserrqlDBpp6pEOJ9wB8CFvBvtNa/c8bydwF/ANwO/JjW+q/XLEuBp7OPh7XWH7jU85ECXjqZUMlLrt9mMnkuBLbjYjsuftEYaa01SRRSX7R44QR8cz9860X4sbf3RbDhtr0+z+wf5oFWi4IPvM3h5h0W5csQbLkSGFSpCIOM12v4vUQhOh6mHpvPkVkeZ/NpYvoTU+GCOEInkfH1Lp80y5MhNc/ZeT16yYhjH3X38Jnxnxo5nzRRxN8wEXBRGgOxAW9USHR1kqF1NIYPIdA1NeD/9tkLpuy8S5oJDq3XXreJlMiIEFkUHrAsm05oDXR8Nf1S8JpGKFB6g7+nsGl0R1/By77g6LK5Jgcl4m1Ts7AXDTm+wylLGc6dP6fVc+CH32pobPVsWm3DoVOG4dfXVs85UCuaaaZq3jgq+f6oGZJE88zLAY8+0+Pbz3TZNmnzT392ZsNjSiHwHBvPyUzPGZkfWmtT5aTbhB03oYMOhEafWoddU27+5WdRnaZhwGRIy/M88T8b8+BUK4aONjFG/rrt6FTgjFVxxzImxFh1INZj2BGG/SCd1/6NZtMMsBDCAv4V8D3AUeARIcSntdZreVGHgX8I/Pcb7KKntb7zQo4ZnjzNK5/4C0M3WVOipF9HKrD97EJUnFhV3LJgMVO9+HRKIQSOl+PW7XDrdpNvf2J1aHwBKmWLp/e1Wa3H1KrmAnjLzVf+zzIYZUY9iDJD2m2he20Is+y5MDDLpE1y9KAxspnRRaXImR3EB18Y2besjJMsnez/CuC6CMczgUA/q8/luMh8ccD1tSo1mN2R8XxN6Xls1/B/pQmU7ZY271pepJV4PLdUJkwloFHCxvvgzw55voNgmxy0F/s3PJvU9sU4gUYE1rUxXoky/N9+KflUmYDbVNnweddOiTI0sl60Pig3VoTjy2a+mNMUfUMfK+fh/ls3foOyLcHCJCxMru9XStMOBKuZQe63BxdhsWEobgD7n1/l0MEWlmVsYZ+yF19CVXghhBHWL4+b6Qy4QOG9f8/8lr0Oqt0csCBu+pc3GhbE0grR8irxyirxapP6I88SrzRIu2uy9Gx7EIjvw8r72NUSpZv3krQ6pkxRJszjlIt48zOgFHYhj1UqYBcL2KUC3ho35oViM0fA9wIvaa0PAAgh/h3wQWBggLXWh7JllyUVJji2yDO/8Bvr+tzpcaJFc+WKu+6BT/wpAFGkePwgiF4Hf/UkOw8/hjc9jjc9QWH3HO7kxAUXvRwvmWkt9u4072kvHupy753nX7rl1aCUIo4jrF4TFWfZZ3Fo5uMQ6/QR6DazV/Y1sHKok9lrn+NmVWp9RGUSWa4Nq9Z6WQVbv4hz29uMYXW9LMnCM9WYs76NsuouBffuMe27Es3Tr8AjLxijJUq1q95NI/ruh7WdFyH01EeSruf5NrtDKlm7Zx74Sy14920XdgwpBeW8Md47zjDOvcgcp9EF1XY4dHA4EB1k8Fs2DzyZUsrBdFmT91TGjDBpyZfj7ySEQOSLyHwRprbhXgflt7ztVbdJw8hQ0VYaRKt1ktWmYT/UW8SNpmFE1JtopQiOLZI0WgTHTg7KFhVv2Uv9ocdH9jv/sQ9f9PfYTAM8B6ytVX0UuO8s626EnBDiUSABfkdr/Z/OtUHlrlt4z2c/T9JoDX7UpN0xnMHVBvXcOItnbKP9Al1/N8/+0AcHfW/+7R+C+glkqYqsjmPVJrCqE9g334U1MYudy583PW33TqMD8dIFGuB+JLobJsikRZwkxHFMHMcopZBSMrG0b7C+sLNRqOMhJxcQQq4pA24y5vopy7i5q7aKbB+OLXjTbrhzlxkVXu3G90rAtobc3FdL0Lic6Ls8pqtw/bYiP/FfFPjqox3+7X9aJU7MCH/3vMNYQdAKNKudlMX6MMYhBOQcyXTNYdvY5dN3OB9Ynos1M0luZvLcK28ArRRpt2fKFLVMuaKk3cEuFeCPf+fcO9gArx9v9Sh2aK2PCSGuA/5OCPG01vrlM1cSQnwc+DjA9u3bzY9/lj/AkSXF4mHzOB8rW2yfkExXBVIroqPfIFxcIjy1TL6soLVMunqatL5MfOQA4dOP4GxbIGllpHzPx84VsP08brGKfRbVtGLeZnbK46VDo5oFaxEnikYPGh1NvatodI04SsHTbPPqA3GTQqGA4zjYto0/fh/S843xvcoN6sVCSoH7xvxqrwsIIXj3m4vcsNPjf/2LJQ4di7nnRpc795g/itaSKHEIIkUQKXqRIoj1pqb/XiyElMbtUCyc1YZcKDbTAB8D1opzzmd95wWt9bGsPSCE+ApwFzBigLXWnwQ+CYYH/Gr7nKoIbpqXTJUlhXVpyBbe9ATe9ChXd3AcpUjDgDQOSHodkqBL3GkQNpYQs/KsBhjgHfeNc/D4aFZOqjQHTsIzhxS9GMYq5uFQ8GCyLKnkBZW8oOzvuiZHgFu4ejA76fBbPzfD/kMhN+8eJhUZER+B58gzWBEXh3j/4yRHXkIUy8hCJWvL4BeR+bNXwLhQpKlmtR1R9G1y7htTkP0RYK8QYhfG8P4Y8JHz2VAIUQO6WutQCDEBvB34F5d6Qp4j2DV1cT+2kBLbz2P7ebzysAauiqNzqpzUqi6f+WqDTi+l4Jvj7z+c8PDzKcfqFoWc4ObtcOcui2pBvu4qaGzhymC5qVlpQblgyASvVZFRpeHwaUNVK+SGNDnbFtyy5wrXils6QfTstyFaXzw2Lc/y/B99Cqdaxa7VcMZqOGNjeNOzxG1pWBCZUE9/3h6r4pQK694Oe2HK6XrActOUE5useGyfvnKFczfNAGutEyHEzwMPYGhof6K1flYI8ZvAo1rrTwsh3gz8R6AGvF8I8Rta61uAm4A/yoJzEuMD3kBVZvMhnXP7uXZvNxftgSMBt+7N87UnIj79UMJUVfDBtzncuP3i0jm38PpEny1xLg2SfUc1X3lq+FLnOSZwNjsGltBMlAUTFcF42QTVLtdbUqMDn89iUZ4N42VjjMdLMFkxKclX6nrNvf0HyL39BwylsWMYELrTIFhaZf6naiSrffbDCt0XXiA4doJj//7h0R1JabjiUuJUSlQ+8fvYt95slvWjiVpTf/hxkoMvYZcLuBNjSM8x5YpKhcFklS7eQG+qD1hr/Vngs2f0/ZM1849gXBNnbvdN4LYrfoKvEa7LDPDLhwNW2hb/7xc6vOe+PB96Z25rtHsNIYwUX/9Ol//8YJN2V/GJ/2nuVY3wm3YLdk4Lmh1odDWNDjS7mjCCfYfVOklK14a5CUExB7PjgtkxycyYOMPVdn4o5+FD98Fy07AslltG6Q+hKeU1UkDJN4a4nBdU81DN61eVeb1QCMdFVCeQVeMWdG6A0tu/e8N1b//ThHi1Sby8agLuK3VTumi5QVw3Aj1hMKSoDapwCMHKA1/jyL/+MwCqb7mT+sNPjOx/7qMfuvjvcS1qQVyN+O0/OsF4zSZULnEKv/SRMvIN5Nft845JooHQ+iDpoj+fJpDGaCQijbLKFpnMpEoz8Zwsqy2TmURlcpS5PEIPs94GcpOlMdKBOtwwA06XJgkHPNChkrrMl2mmo24o23Gpx77J0cj6+sakleTRWmTVKtZmwDn0YpHJTWaVLgQ4liBMTJULKTVf+nqdJFE8vb9LEA7vx7/43YWLNlhaa5pdWGpqlhuapaamF2pePKporRGFK+eNQd42LpibsJifEJTyF35MpU2AuBVkD4OMqtbJsuxnywFa9EsXyay+nKSUU3iujXWVBIkbnYgjp7qEsWG+LkzkqMnE0NUyUZ60bdqkZYR6/J1zzH7we7a0IF7PsGzJMy/HtEPFr/6j2qYbX621KfGTZbERR1kborvt0b44Ig16iChAJxHE8SArTpaqqNOj8VW5bRd68fBo/8wOaJwhKSktk+VmaTPfVznLVM+04wDC+PNsa6B2pt08lpMbVLfIBHrRuSJeZkqVFjxzLMdLix4/eE9AaaOMKCEQqh9c0muT4JCRhUYY1wEMki0SNUyqMEpnmlSb1/bDS+bYS0shj3xntCKmlIL/8/OmQvd4EXqBouQLk2Dhm0oZJR9KZxlZCiGoFKBSEOyeXb/vTk9zYkVzckVxYkXT6mm+9rRGafNAKudhflIwNy7ZMQXbxiXuOfjKUhhBpFoR1lLi4lTT7GrixKUbKrqRphMolprmx5srNhBpDykljuOYybbxpcKVIpNPzZ2Xkl8v1Dx/BJZamvfecXEyspWCS2mnw+l6wKnVkELexcnlX1WC4FKwZYCvEuyac3liX5OPfqDMnvnLnxKptc7K/ESZYYxQcYSIeojmUpYq3DemIcIroo/sH92RX0KdWls/zjFJG45JwNDC3DQUKsb/bbuIfAlr+w0Ie1jhAtsx21iW+dyvcpHJTQrbGUhNnquKxcVCac3TL6c88EjCUsMYhPvvrbJj4sqPxrTuZ77l+N47Z3j8+S5feqhFFJvzyHmC23eaSsZaw0oDTjU0naAvTaGxJTQ7KTkHxsqC8ZJgrAzjJcFEBaaqcsPAXMEX7JkT7Jkbfs8o0ZxY1hxd0hxb0hxdUrx8PCVVIKViugrzk5L5CcHCpDG05/M3cSxzXmekn6CUEepRiSZJfJKMwx4EAe0kQSQN0tWj2drCGGHPx5IuorGCyJcQhTJHkwm6osj+0z4vnxSD9Om33gClkfp25wcpBNM1n+na5avVeDZsGeDzRJSYp7x9hRgpu+c99uzwuHGnc1FPbq01YaxRcUCSJiRxvK70SyluYDXPTDMB2ysgl44aY+h4iHwZ6XhGpL0yCa43XOZ4aNvNkjpcY3gvQaVK94tsJjHodCi8E4So1HzWgOi7GbIWlYLtgkrQa0R30Art+cO+tcI7To5YWANhnd964DojzJMJq/dHbSuLJ/Bjk2sbyiLrpSDM/1p6BIkxKIOBNQLLsuhElimmmYnt9K+ZOJVY0gjVWJm4uiXBloK9211uuc7l/feX+KsH6nz5kQ7jFYt33LSeCgnGcHX6Gr09zVLDYqWlWW5qji4rnn3FjL6FTugFMF4WzI7LzM0gmZuQ1EqjI2bXFuyYFuyYHvZ1AsXxZThy2hjmpw4oHs0yz7dNWkyUTcBvdsxoRHgXkNUnZd//PBrA0lqjgi56ag4d9VBZWSwV9VDNZdRT3wSVcsJe4FPVj4/uXGtO/+Fv06xWsMcniToO7kQNZ7yGO1HDmxzDrpSuCm78NWWAVRQTrzawSoULVkz6zKNG+/SdN8Gu6XOvfyHoBSmdXsRzL7T53/+sQxQmfPzHt3HnzRsrEWitaQWaTk/RDhTtwLzWJQoWCqsIZSg6/eSMXC6Hk3dwy1UTvLA9UyrIds3IU7x6CufZkC6+gm6uGB9uHJo2icBy0I2lzNebuSPSGFGooFZPQmJ8vQOVsVweoZKND1IeR0SjlSzE1AK6m9Wh64vrSIkY20aahGtE142FFL7RjBis//+zd95hdpzl2f+9006v27RNbdVlS7Itd2NsY2zjYAMOpphmPtMTAikQQiCEBAdiQgIfLZga+DDduBDjCu5FtmVJtizJ6tJK20/vU97vj/ecLdqVdlVsGdB9XXPN2Tkzc+bMznnmnee5n/tGCaqr+fhze8AHNUR1GKeShqTmeGOCaqj/iWkKBrJqFOZ5Y2I2kYBg78jkr+Yzob9uri0Ay9TxtzRx8UVRTM3jf9d4hAMN7zZByA+tcYgERX10J1h8QIna9SSpvGQgJehPwf4Rj75hj4071Tdoiiid6bmzNObM0pnbptPdOnWKIeTXWNgJCzvV354nGcqqfQ7kBH1p2DHunt4clSzshGRY0BRR+hT6EcQ4IQR6IASBqdkF8vRLoFJmXjHLedsG2Znys68cHdXwtuwClc3PUUinMZpa2fn/npz8GYahBHniESXeM06ox9/RimaZGNHIqFCPGY1gxCOK+RANj1rUHy3+pIpwC4VfftmYAyjPKDMaxtc5C6E1pCYjGDHlG2XGo1itScxYFLM5yS2V03BVaYW5rXDeEvXDOBb4m89tZePW4oRlH3/fbF51bnLK9aWUPLKpgqNYNIR9GuGAIOTXiPscfJaObhgvenNG9YFf4e3ZNLZA05WATksnXma4nmoYSzuIUEzlleuGmspY06y3QFtjQjqNSdPVe7o+5npRn6Smqb+PQmjH9STrtymDzUYK4v1XWPR0HpvHnEZO2HElrqeMNR13THTHdqFYEVTthtU7jn6JiwAAIABJREFUo6/TOVcVsSoTbwrXXKAxp/Xwv2/NVjnfPQMuuwc8dvW7o99Z02DlAoNEWKOnQ2N+hz5jTnGlJunPQF8K+jNQtqHq1J8XhPKVa45AZ5NHLADhgDhslcGZ4IV9krufkZSqynz02otV5HdKJWqDKWrDaWojaWrDaezhNLV0ltpQSlkVpbJKI6L+2ohHKO/snfQZE1gQmjYajNvf+BqWf/ETR1SE+5MKwCvm9shbPvppnHxhtKIpPY9q36CiqWRzSpgjncWr1jAiIZx8ES8UYf/PD2BP1O+2r931NXzJOGZTC/6eBZit7apwcBhB4ef/O8B3f943YdnPvrqcePTgueB0wcVnKtuX49UFJ0t5pPTquV3rmHUhvdTwPMmzO1w27fF4/XnmS9bQMBNIqYJKoaKCcXtSMQmOBQplya5+l939LvtHPLb2erieCpxdLRo9HTpLZmvMadOnLcKNHa9iPgznxsSARvKSpqiDV5fUClj1IqJf0BR2CfqURGUj9SalZN+Qx7qtNdZusYkEBX/9loPp0o2hUpM8uknxn1fMO/JzJD1P6Txk89iZnJrnCrjlCvZwGmc8CyJXIHbqScz7i7efCMDT4XBoaG6lqu6WIxmGh8rc452i3qiTtDXPxtNMLvrFm/FyGQDaP/RBdNMDTUcLhBGBCFogghtpQw8nsA7C6ZVS8s9f2cnjz+QAmNfl57+vX3L0X/gETuAwYDuS3QMe2/a5bN+nRsotcY10Aea0aSzo1FjQqdPVcniNQZ4nqToqZz06VVQuuyueB1e14Y/kdH56n0nIr242DfPT1oTgs+85NkqBLxaEECdoaMcSut9HoGsWga5ZVHPA44rMvrBdsLgTmiOmSiVe8jM8u4abToFwwa3hlfPIch4vn8Id7qW3KcHu3TaxoKA5qtESEUQCYyNXIQQfe+9srvvEZjI5h565L17r4wmcwMFgGoIFnToL6imYmq1GyNv2S7btc7nnKYe7n3LwmXD6UpO2hMbcWYKW6KEZEZom6ipqylKrAdeT1GoRarZD1XYpVlQdYHzwFUiajCyZ5zehW35MXUfPpxHBqJpCUcWIMA/PVfzlghMBeAZojsAbz1YOslMVFTTTQmud2gFAui4dZRejoDOU89je77K9X3FBoz6N7haN5phGOGTwjjd08NX/2cPOvVPYp5/ACbzEsEzBom6DRd0AJsWKZPt+j629LvtTknU7VU4h5Ie5rYJ5sxSLIhGaWVpM1wQBv0mg7tHVmoTTl0vuX1vl5vsrow7S7a0+zHAct1rGy6WQGx+dtC8v0sbQ/Y+hxxMY8eTYPNZErWphtTTha0litSTQrJdWBvNQOBGAZwAhYM02qNlw7hJoPgxOttB1ImGdSBh6ZulUbclwXhHR71vjMJiWrF6sc/mZOpdfmOD7vx7ipJMOrrp2An8aePoFl+d2ecTDqsEhXp8SYVXIOh55/5BfsGK+zor5aoScKUh2DUh2Dqj5xj2S7jYNT0J7QtKRgFkJZdw5U2qlJgQXneZn8WyT795epG/Eo3t2ktDssQGOPPk8ZLmALOZUHaKk6jdW9xycTIrKti04mRSyVsVo7WTTNx6e8BlGNIzV2oTVklTF9rpFkZWMYSYTWK1JjHAQMxbFqBfnzXgUze875uf9TyoHvMgIyW90nqqql3U7EaulCc1njdFNYlGMWHiUkmIlYljNCX6+tRXHUyd/eTecOg/Mo7x95UuS3z9js3V3lf39VT78lhg/v6+I48Inr40fg298An+oWLPZZc0Wl0xeCe830NUMO/dVaW/S6WjSaG/WaW/S6GjWj0jX4VhBSslwDgYykv1pRVFrtDybOiyfI4kGIRlSN5GgNX0jh+1INmy3WbnAnGSSO5Pj8col7JERSrsHqQ6lqA2llF3RoGI/VAeG62YMGeyRDE5eMZGC87sp7dg7aZ/JV5xOYdM2ZVUUCdetzUI0XXg2PR+59kQRbjosb+uUN135LtXLXe/jFpZJeWev6vXO5idwfsxEFDudw/MHGbp1ohWJ5tqEy4Ock7kbK5nEbGrGP2c2VmubYgUcBvb023z1p1kuOC2AK+Hh9TU+/xfxl0QBbTDtcfODVZpjgjde8OJKCR5LHOhsjJRI6anljR92Q/eh3nAhhTbh/9toJ3aFGtEdeLa9evODaOg/1DUeJGqk1mi2UC7HL97/qmpLMgVJuiDJ5j129TvsH/boG3Ep17UWOpo0CgWbhd0mC2cbLOw2aYkfOUXvWKBQlvSlYX8apJCMFMZOv2Uoilp30iHih4BPx29px7UF37Nt7HSOWiqrzD8brKiMsi5CepT31i2K8gWcnGJBtFx6Hkuv/7sTAXg6TMeCGKWf1E+4PaJUk7JZm0dn/5laqS5h12BDnHLDBapTC5j/0Q9i+RzVNRaIqK6yQAQn1g7RZvzmwVnpxbJH0C94YmON795W4J/fG6Oz5cXLEDmu5Hdrbe5aU8P1lBvzZ64N1tuVq1CrKmGcUfEcNTfnnTyjvvyp4GWH8AZ21UV2HHBdJcKjG2BXJ3e7eR7SMJHSnWAzj/TwYm14dmXSZ4hYK7VaddJyLZQg705hTGn6SDtTt5xm7fCUy1185MqTz0E4oDGQ0cYs5uvzsF/5qPkNsEzVgOEzIWCCrknCAaVS5jMPTzJSSkm2KNk/7DGQcnl+R5Wtex2KZfWbjocFJy+wmN+us2qxj3Dw+HZ+uZ4S6UkXIV2UpIuQDJTxXNV5KAC/pRHw6ST8LkHDQTf96JYP7WVOcTzBgjgGEJqGGVUOqON/kmYOqMftrhaNRe3Q3axUruT592KnUzipEYyAgSardXfhPF66H69/B/1dMXoHyvhMQSyoEwtpxILqjt9AKKBez27T6WrV2T/kHpMALKXEdV08x8Z1HapVh2/8RqdQgVJ17PPzRZfs2vvUaM/0Y6T3T96ZpmPOXqqaK44AXnYI54Wn6j26Rr25woBGg4bQFZfY9I0J7Zh+9eNrdLrV554vVLeY1xA0+oE1pGFhjhPdQah8qdR0hlM6Dz2nMb9dcsYi9bZEEJ7iZyClZJY0RjvdqNvLSwk1V1fiOuM63pS2g8BvTmy2cDywHRiquwnX7LEOuWQYtveO+c0aOoQDSgxHlw7NMY2mmGLONMeUStn4AC1EIzessWyuwYWn+vCkpG/YZeteh617bEYyLvc9XkDTYMlci9XL/Jy6xEci+tIHNF0TJMPqezeeNzwvWLcqcilXXUpVl0LFxaplscuDo9tquoFu+fHpGr5SRjEfAhEIRhD+8MuirfhIcGIEPANICbuHlU148DDZLtJ1KFddMmWNbMklW3Jx6i6ynmviejqrF2lEAo0LUvKR/0pz3kofb7545nS0miMpVT2qtkul5lKpeVRt5cOVDDhYVXUx58o633mgA0b1D8Z0EP7pikFCQdWhpgtUc4VhjonoHIXuA6CkIuGIR9BHir4RjzvX1HhupzrxS2frvOe1xyfdIqXEcVW3W7mmuLHFhpNxRb2u2LCzt0o6L0eDNajH9o64RyJabyNuN+ho1tEPkR+VUrJrv8NTz1d4elOFvmF1DlYv87F0rsm5pwQJ+F5+wUt6Hk6tglur4taqo6/Ncg5z65oD1hYQbSH71DPosSR6PKnmsQQimsSVAXxtTZiJ2IsWqI90BHwiAM8Qj2xWo5nVPcqT7UihOpsk2ZLL0y/Ak1skugbvuNhgfru6OG74UQ4h4GNvPzjdolKTDOZgMAsDWcgUYX5rDSEro86zygZcI+yTBA0X3TDQdQNN18mX4anNDo8/bzOUUdfAP74jSEv82F6gStbSVekMd5y2r+eM6v2OSl829H2lp97TxFiutyG2U09DuKZ/Yv63rvXr+sJ4nsoFP70nzG83NjGm9qBuOHNabK46U0lA6pafXPXAHLDAMHTSFd84sZ2xebFmoGtC5YE1RU1U6XqB5ymdX0NXRVqVjpCYOvhNCPhm7hahfMkkw1mP4axkOOOxs7fK7n6Xcl032NChu01n2Vyd+Z0mS+ZYGIcQ8d8/pILxrn01Ht9Qwm8Jzj0lyMVnhpjT8fKhZx0K0nUUC6L+pClLOdx8jtxjj+JmRnCzaWRdYF1LtrHu3+8DlP6D1ZLA19KE1daEr7UZMxFVQj3JOFZzAqspgdkUr0sTRDGi4RmlhU4E4BlgSaRJ/vCVb0APB0fdTc1kDM3vw4zWq5qxyITXVlMcPRjgJ4+oXn5dUwyIxZ2NH93RYTgreXqry4Wr9NFOudsfKrF2i82nr5soyp4vSZ7YZGNLjZGyChq6pnjKrTFojysXAsuYOU1JSsmufo99Qx7nnGxMKoJI18HLp1Qe2LUnzsuF0eCKW1c1cx3QdWQhq5bX8+MAIt6GzA4eeAiIxCy8Qmry8mBUqaJp2sQUhBC4/shYBWxcqsENxPA81U/73L4gv17XhCYaI0kVgOe2urzpPOVCrekWJccYV5tr6CNoZKvWqL7vmOgOZMsmngfuuBSE54HjaqQKk897zO+xs3/sb1MHvwUr5gnOXnJkyndDGY/dfQ67+1129Tls212iVJb4LcHyHotVi/2sXOQjHpn6qUVKyba9Ne57vMhjG0rYDiyYbXH5K8KsXho4ZBD/Q4BXKeNmFesh8+xuaoMjVAdHRud2Okulb1CxH3KFCdsGemZT3l7XqdY0FYwTUeKnn0x1YGRMnCcawohFiK5cSsdVl54IwNNhabRZfuekC1Uvd6GEky9iREJU9vZNub7ZFMceySDCYYZveVotrBffzFqBZGk/K+xnsZqbsZJJfJ3tmMnkUT9iP7Khyg/vKPLZ98aY1aR+QBt3OfzPnVVcD84+yWTpPJPWWENx6sX7sXjFLJW1d09+Q9MQnocmtLqGr1kX0jERVkAF3rqozqjAjulT+VpdB81Q+V5NHxPfEdpEofVGwD1K5EuSB9bbPPysje3Awi6ND1x57LVepVTC6w3RHbs+VWuSYlVp+1ZqSo2sUoPZLYLlc47N/65akzy/s8r6LVXWbamQyql0z8qFOqcvD3LWiiDWQYrAhZLHQ2uL3PtEEUMXlCqSP3tFmAtOD06oU/yxwqvVqKWyqug+ooR6nFRdnCedxa7rw+ihIIVN23CyBexcXrEhcgW63/3nrLzx304E4OkwVQpC8QUr2LkCTjY/dnLrQhx2KkO+JNlwwfvrGygRngbmffSMUSnF5f/4QQJ+WxUIgtHRuZvoQMba8JkzowXtHbD57u1FrjgvwGlLVL6jUJbc81SNc5abtCVfuh9FYwQsGqpljfkfYNGjWJE8ttGmvUlj+dw/3vqzlJK9Aw7rt1S499EsfcMOkZDGq86McPHZYVqTU4s8eZ7H+heq3P5AgS27aoSDGpeeE+KSs8PHnUHxcoX0PLxqFSMYPBGAp8OR5oBH8vC/a9XraAAWtsP8NvAJGzuVojY8gj0yQqApiCFqyFKu3qWTg1qZ1MIL6TdmoWuCkN8gFDAI+g1CfgNjit5mx5V8+D9SXLTaz9WvOqEL8aeI/hGXbb02s9sMOlr0w25EaMDzJM9tq3D3o3mefE6lXc5ZFeTy86IsnHvwQuSWXSoQP7O5QjiocfFZIS49O0Q0/PKmgx0vnMgBzwBHGoA9DzbtUy2VSnhk5ttKp0a16lCwNYoVh2LFoVJTedFiNcDeET/L5yiBn/EyiNd/P4PPEvzd217eKlAn8OLgvifL/PQeFTB1TTlQdLcZ9HTqzGvX6WozD7vJYjjtcO/jebbuqvD0s3kuPCvKO17XTDJ28KeBPf02D60tcffjJUwDLjo9xOXnhQ6aWz5eqO16gdIDv0GLJdGjCTWPJRGROPhnXkwDddMaznv0px1a4zqz4tM/LZ0IwDPA0bAgnt2jOKDLujji0UgDrutRqrrs6BeseUEjVYDuZiW23cAt9xfZsK3Gp66LH3eDzhOYGjVb8tAzJR5aW+KNF0c5acGxU+TypGQw5bF3wGHvgMOeAZc9/Q5NUcFzm/O0JHROWRrgtGUBls73Yx5G0axc8fjlnSPc+rsMhg5XX9bEFRfFD5ojBugbdrjtgQKPbSija3Dh6iCXvyJMcoZ84t4R1YzS3axMRY81qlufpXj3LxUDopgbXS6izaz51O1ofh++Wc342lrq82Z8rU2jNkVGazPlpnZqwRiDtg+nTs+eldBZ0jk9O+REAJ4Blrd2yF+++yPo4RBGOIgeCqq+7lBAsR4iYfV3NIwZC09QTfrFYxLbVT3sq3ugq+nYBEUpJf1pVbzpah7b5wNry/zwfwt8/i+StCZfXqONlxJSSqTnKf+2ce3HDdqZ1+Ay17slGoaVHtqo5VDDUEi90vBkY7kY61oGPKmaOiZSzyQSTbUdC9CEsoJ6cG2Z3z5cJF9Sv9Q3XxrhivOnFw0/2nMxnHHZsKXC2k1lnttWoWZLfJbglaeFOGWJj5VLgjMe6fUN1fjBzUM8sb5IW5PJX72zleULD53yGhhxuP3BAo+sK7O0x8+sZotLzvSPFosPht8/B5vrJhOxoArEXU3QkZSH5SU3E0jHxstl6iyIEQYf3ky1f4hq/zDVgWGq/cPYmSyVfWN+SqFn1o3bgSq0SykRt9+C7947MBNRQovmI2u1umZMZJQpFZzbSfzUk04E4OmwyArLr/h78MpjLay+tmaqA8NTru/vbkc6DkZLM/u/8mu1sN6KHCwO01odYIE1rHiFLUnMliaMwLEh+O/qs/niDzNc97oIpy55eWk0SCkV7cx1kJ6DdGoI10U22ovrc6RUHnGe4v42eL+YPrxKcbTluMHtFf4Qbq2q/m5wf5EIw6KmTV04sv112tmBxxiMU7InX9umL0RqijZiv2UykJ880jF1GMiPjWxvvrV/0joAJy+PsnRhGNMAvyGp1iQBS6WVApbi/wYsSdCnrOKPBXOlZnts3FZl7eYy+/pUWmHhHD9vvCzJGSvCM1YgW7+5yM13p1i/qcBVlzbxtitbpj2+obTD756u8tC6Ko4DqxaZXHpWgHkdUz+uSwnpAuwdgd5hpQ/huDC/zSMUcImHNOJBQTwkCPkOryX7SCFdl1oqS204TTFVoE+GKQQSuL6xIbp11+2IO27HTmXwd7aRfnTtqGhPA13vuopV3/3CiQA8HRopCOm6OMVyXZSngFsoY+cVpcTJFkbFNuxcAXskQ6kGO6771yn3mXjdKoSt5KpO+9L7CSeFEokOxZQWREixIERiFqY5c3v1muPxoc8PcclZQd706hdnZKXalB3Vquy6uPVGCa1awGsE2PoEoOeH1Otx3F6oG45PocugheLIQqZONRvzdBOhOLJWqtvNNyhnOsLyK8GcOtdXjPJ/dTy9kfNscH7VOp5mjg5XVUsygGo9luOt0EdHuuNHwI1lIKXA8bT6eWnwfiWeB1VHH+X8rtlQ4IkNJbK5sY5GgDNPjTF/XgjHAc/12DesOt3Gd7LNink8v9NGoFqOY2EVcNoSAkvz6GzV6WzRCfoPn3Fg2x6/fyLHr+5KsWNnBqdms2RBmDmdflxX4nqSjjY/73lr95Tb12yPb/10gLsfzrBySZC/u66TeHT63Geu6PG7pys88HSVUlWyaLbBpWcFWDrXOGQQdz3oT0Ox6pEpeWSLcvSx39RhdtIlHqjgsyx8loHPOvyc95HA9SS7hxz2DilH7iWdJrMSE8+DdF2cXKEu4FVA85lEli44EYCnw5HmgNMFyW/rTyiGDvNaYXakgq+QgpFhJXE3NEK8pwnLrCCLWcWCKObAtSmcdDHDoQ6EEPh9Jn7LxOcz8ZkWfp9x0JHKZ/57hHBQ42PvTBz2MUsp69oDLo7jUnM8NdlqHjRdRHnyyN8yTXz5PoRuIOommVqdy2u6NRVIR7m9qj1ZaJrSdKi/1zDXlJqOdpTtyy9XZAsut95f4N4ningevPeqOK88LThhHSklNafB/YVCSZLKq2CTLSghnUxREjQla58vjW6XjGp0tujM7zTobBIs6/HhmyEf13UlX/9RL7++Y0zLQ9PUzSMRM7n526cecvt7H8nwzZ/0Ewnp/P37OlnaEzzk+g1UqpKH1ldYv9VmIGcQCwlWLzE4Y4lOMjr9sUspKVQgU5Jkix5+rYxTzU5YxzINYj6I1NJo/jDCH1Jz89A5WtuRbO+HvcNw1mJG2/4PhVLVoy/tMrvZmFF+/UQOeAY40gDsuJK1O1XH2ezmmRfhpJRQK1OzHcqeTqVmU6naVKs2npTkahE27I0wr03R2rpbmOAY+5M7c+wdsPnYO5OHvPtLKRnJSzIlQa4syZchV1ZNAN3JGpqnftyGLrAMDdPQCPvAr9XQdR1N19F1Q73WNDR95iP1P3UMphweWVfm4rNCRI6QKyulJJXz6B102Tfksm/IYd+gi2lIntuUxzRg6Xw/Kxf7WbU4QHvL9I7XvfvLXPex56jZY+mZ972tm7e+rmPa49mxt8Ln/7uXStXjuqtbueDMmWtTu65k0x6PNZsctuz1kFI1vpyxRGfZPP2wHJGllMquqGpTrdlUajYBO0dg34aJKxomWiCGt/0FtGgSLZpgxOpgRCTpLUXZOmiMPq289nRY1HHsr+0TAXgGmC4Au57kuZ0FIgGdrlY/lvHikM+llNiOy0BGsmmfwa4BqDpw8QpY2j12cdz7eIHv35rlyx9vo+XAxyApGczC5l7Jll5VYZ7fqQRbIkHFV476BYmQR9AHlqHNOCd4Ai8PVGseW3ZVWbe5wvoXyuwfVKmglYt8LJptcPkrE/gPIaTzyFNpPnXDC6N/v/ftc3jrFW0zurkWSi7f+PF+Hngiy1++o4PXvDJ52MefKXg8udnlyc0uyaigKk3mtsGiTsH8WeAzBbYjGRi26R2okSu4nL86csjvBCA9F1kp4VUKyEoBr1JEFgvUHrsPL5cG1+F7S7465banP/oVWn0VfG0tGNEkVnMSq0VNvtYm9COs4ZyQo5wBakMpen/4a/RwED0UwAjVmRCREEY0jO0LULWVilgqb9PZ7KctaR1zGpgQAss06G5Ro17Xk+xPQcsBlN+5dXGUXfvt0QBcKHls3AsbdqmihhAwtxXOWiKY3yYJ+Q/UgfjjTAEcDqRUudxDqYa9HOGzNFYsCrBiUQBIMJhyWL+lzLNbinzvFwPcfNcwV7+mmcvOT0yZojh3dYJrXt/BTbfsZ+7sIHc+MEI4ILjy1W3TfnY4qPPRazsplT2+9qP92I7kylc1Hdbxx8Mar16t8apTDfYOS17YB9v2w3M7bJ5+fA+6LvC8BnNFoWuWxbKeQ/PUhKYjghG04MTaiP/k85Qof7HA1fv7eHafjy25RF2kX50fd/3T7N/5Al61SmXfZO9FPRQkdtpy3EIJs25VZCZiWE1x/F3taKahRHriyj3HjEcwk0fO1f+TGgEvFH75ZWPOhGVWWxO1gREAjFUrSPzoO4D60QohFAXq+efx3XE7ZkKJcvg6Z6EH/Mrkr1kZ/VnNx97sr2ZLPvvNAc5aEeCKC2I8u63Cjb/M0N0ZYM6cCEu6BQs7IOj7wwosLxWklDy7w+E3j1TIFCSff3/kDy4IHwzPvVDkptuG2LClRDJmcPVrmrn0/MlcXteTPL42w+oVUb7w9R08vCbNjTecxLzumeV2bcfj37/Vy2PP5Lju6llcdenR+RVKKekdlnz6y3vI5Z0J7xmG4HN/O5eOJu2YMSEGM5LfrlXdrJqAj1yh9usUClQH6jZFQyNjlkWDI7iVKuW9fdipLHY6U7ctyhE/YwWZx9dN+ozOd7yeU75/w4kUxHQ4beUq+eDNt+EWSziFEm6pjFsq10U1ipSCEQpnvVKt3HC+ANwNz1L6xKdwMjmcfJHIyiXk12+evP8vvYdom4kI11kQoShaKIZsakckZ2EY0+fuDsTf3tBLU9zg8ldEuPX3OQpVjQ+9KcG8GZDD/xgxer3KBrdXIj3q4uoKhaLHjv0udz9p0zs0lgP9wgfC+CwxOiJqSExSnwuh9qv9AelcbNiiAvG23RVO6jH56HWziUenpuxlcjbv+usNdM7y8dV/XT5jKpzjSP7jO3t56KkcH722k1efN7Eo3HBzOdxr+8GncnzlR4MN2i2zZwc59zxlvjk76dIcKhP0GwR8BkGfgXmEKUHXkzy9TdHezll6ZEFdeh61TA43V8DO5HGyOSXSk8nha2+h7dLzTwTg6TBdDjiVs9m2XxWskhGDtoSPcGBiQcpzHOw6d7A2kq7fQVPURtK0rOrApxeQhaxiQpQKgKS6+lJyiS6EEJiWhWVamJaFz+8jEDj0SORrNw2xdmOBeEhSqkj+4+/nEA4d/8yRapBQ3F7pKfpaw05Iei6yru0rUcR4pDe2rC7M7rnuBD836jq+nhXAc5x6sG28LyEYp1KzJx2LEYiQq7sQlauC79w5NW3vbZe6WKZSjxspT/2YW3VNyjWBXvd7a/i++Q1BuqC0fkf1fnUIWpJKnfM7yvutc35DfnHMmwymgpSSB9Zk+OI3d9LW4uOGf1hIc3LqG/Q9Dw3zb1/dzl9cO4c3Xj5rynWmgutKbvxpH7ffN8I/fXgOZ52itKprtuRTX+2nq83kPVclCQYOL0g+tq7Al37Qj+fBR9/ZyqrlEYZyIN0qtVqJ6rgioqFrNAUg4Y2g+0NoviC6P6QEoo4zThThZoBpi3CuJJW3iYWMQ7ZlzhTSdZGlPLbrUdN0arUadq1GrabsgQLBILPaD12VvuPBLDf+bACvVuavr5vDhWcdO7dkKSWelLiuh+u6E+a6W65zgV08rz65Lj4NvEJaBc5xMANhvPxkTV/NH8arFOpSk2OavkI3kQ1LISHGaf1qSNOHpD6iEo25BoaFq8at9ZFrfdiq6bhSB6FaeG95SJIvwY6+ei9H/buetkhj3VaXq19lMbfLBwfo/EqgamvYbl3jd5zer+MKMgUxKjHpuMpqKOzzeH735N9QW1zy/PYqAR/EQ8o2KB4WNMUEYZ+ku02nNakf0/rcoboRAAAgAElEQVTChk15Pv0f24hFDb55/VJCwamtlv7xhhcwdMFn/mbhYTWEVGseH//CDnr7qvznp3qY0+nH8yS3/j7HL+/J0hTT+fA1zSycc3gt2U89V+Tex3N85O1tBA7gQLuusisqVRxKVQe/kycwtGmCuaowLAx/CG3fTrRoAhFJokUSiEgCEYq8JA4sJwLwDDBdAPY8yY6+AuGAQWvc/6KyBjzXxZMexjR3703by/zjf+6kq9Xg+r+bT+QwRr9SKkvzYgVcz6Fqe9RsSdWRVG0Px5XE9PSU4kIRvYZwa2iajtA1NE3R1SxdQ3hOnf9bn3TF9xX1YKh4wXWt33rgPda0tvHXbaP9WC0b+5xUzuU3j1Z5apONO65p4uqLAlx4mnK7kMcg5eB5inPd4PuWq1CuegymXTIF5WicLUgyBQ+/Jdi+U3VSWSZ0tRp0txl0tRks7tboaLWO6lxt2VHk6z/YQ0uTxac/0jPlOnfeP8S/f2MHP/jPFczpOjxhhuG0zUf+ZRs+S+PLn+4hGlbX4wu7q3ztpmFGsi5XXxLjyguiL9rvR0oPr1rBqxbxKiXcShHKBeSae5Gl/MSVQzG23boGq6UFq6UFs7ll9DW+OL7WJnytTRjx6FGd9xMsiBnAKZTIrt2IHgoo9kMogB4KjBbPao5HtmiTLdoMZat0twSJhV6cDhxN19FmwFCY2+nDcQVnn5qYNviWqpJ9KciUlEVRtgQ1B8J+SVNQPaNbhnosDvl1fIYg6otj6Br66KRj6CpgHuvvXRrYjec4o+mI0ZZjw4dj18ZSDfWUhO4PUa7ZE7QfJGD4AuTtyedO1zVy9hiN6HdPabywZ3Jw3TFQw9ykIrJhmIzk9XH28moe9gsGMhq6xgSX45AlyRdl3dlYjDocB30wt+0A9sm8ycdYrXn0jZj0DrijQjtPPl/l6c1V9u7O0NFqcvaqMGevDDOv6/CD8eL5IU45KcqPf93HNa8v0TNncopr8Xyl9/DCjuJhBeBde8vc89AI//ih2Xziizv5wjf38K9/Mw9dFyya4+MLH23nOzen+NmdWfpTHlecH6Gz9dDXbKoAOwagK6lYQFOos06CEBq6P4juD8J4AsKSM5SrdyGDl0sh8xnsbIbw8hK1oSEKmzZhDz2IV62CpjH8ZHp0JK1ZJlZrE1ZLE+FlCxBSYjbFsZriY3ZFLUnMSBgzEcNM1BXWjtKt+U8qABe37ODhM6+asMxqTmJn8xiREL7Vqwj/1+cBqFYdtu8vQKmESKeJPPYQZiyKEQurf0Q0oryk6v5RL5ZAecCv0TXLYvveya2+k75fFZ7crnKTsaBqGokFIRYUJELBg1gVHTsFr+lQy6XxXHs01SA01VIsDJ8aSU9IOQiE6SNg+WF8OgJANzDrl+6E7yMEYTl2SV+02qNYdkjlJOVxTvXJsM7cVlM5WEiNREiMOhs3Ug8CQS005nBhu8os03Vhe59yN3bG9RlHAvD+10wfLH2Wxtx2jbntY08+UkoGUw7rNpk8tq7Ar+9N86u707Q1GVx4ZpSLzojQfBAR9anwxsvbuO2eQR55MjNlAJ7dGaC7w0+p7E6xtWpL/sHP93HWqXFWLB3Lp2/fU+Jnt/ezanmEv3pXJ3f8foSf/e8g11ypaG3BgMaHr2nirBVBfnxPmWe+m+Wi0/1c+YrAQY0/UwXYvA+e71U3uo4EdCShIyEJ+w9/ACAMExFvQYu3AGACC865dPR9KSVuPk91aIjSzn5lUTQwQnVwmNpgSs2HUhS37sQeTk/QfYiftWoiC0IIjGiYzre//rCPs4HjGoCFEJcBX0GRVb8jpfzCAe+fD3wZWAG8RUr5y3HvvQv4VP3Pz0kp/2e6zwstnMtpX/wabrGEWyzjFMtI28ausxvsphYmyboEg8hgkBc+85XRRdFVS8mt2zS2jqZhJWOc9Imricwy0UIxRDiGFlZzvWkWesv0HUgHQ0+3nw1bitOulwzD61ar0djkQHvwi7lakxTKHk2xF5czHF+46kXd/4FoTcCqhXXZyHVVfvt4hUJJ0hIzmN1ypCwSAavUuXRcSdVWDsfuZD2gme9RCNqaTC49L8al58XI5l3WPFvg8fVF1m4s8NPb+njT5S1cdWnzjGoTkbDBiiURfv9Yine+cfJ1V6667B+wKZanPmjblvz8NwMk4+aEAHz+mQn++0d7ueWuQa7/+EKe3VzgplsHWbUszLIFodHvcsbJQZb1+Pn1/SXuW1PhyY1V3viqEGcunzyiXzAL5jRDXwb2p6A3BXuGoSPhkQiWiQR0IgGdcEAn5Dv6ZiIhBEY0ihGNEuqZOkUzHhPsitJZ7FQGp25RZGdy2JkckZMWHfHxHLcALITQga8DrwZ6gSeFELdJKZ8ft9oe4Frg7w7YNgl8BliNqp08Xd82fajPNKJhZr3u4oO+n8pX2dmnAl3Ab9KW8JGM+NA0gVd8FjurbItq6Sz2SFrxA4fT1FKKK2i1NoGTwtm/s25KqXiO5klnEnzN2w/r/IzHsh4/a9alGUnbNCUOPhJSjhuHt+/ntlX57q05ylXJ1/++5Y+GJzselil41el+XrHKx8YdNkvmHpuquaELDJ3DPufTIRbRefU5MV59ToyB4Srf/QX86JZB7n0kwz98oGvKUe2BaGu2eGZjbsr39uxTT1NzD5J+GM2vH3ApmIbGn72qhTt/P0wqU+P913Tw7JYi//HtXr7+2QUE/GM38HBQ4x2XhzlvlZ+b7irw3dsKbN7t56yT/SzunlgTMA31tDa7uW56WlI+fqWqTq7kMpxTvyMhoDUMrfoIhi+A7gtg+AJoLyILQrMs/LNa8M9qOfSK73nzEe3/eI6AzwC2SSl3AAghfgq8DhgNwFLKXfX3DrxVXwrcI6VM1d+/B7gM+MnRHFAkYNKW8BMLmYQDEzm7mmXha0nia0kyE5MgKSWyUlKB+CgvkLldfjI5h03bi5y3+tiwIIplj5/eleehdWOpjb2DVSIhcFwPw6vgeh6e5+G53ujr1pZmAsdIcvOlhmUKTln8h8Wfbmv28ckPzuaZjQV+fNsAH7v+BT77Nz2cvOTQCnmhkM7SBSH1vzwgsbple5G2Zou53VMH4HzRYXFPiJYpqGynr4zyg5/tYd3GHBed28zfvqebj//7Dr790z7+6tquSevP6zD4h2tjPLqhyhObJd+/s0ZbQvCKFQanLJhstSQExEMQDxk0wlPV9iiUXfJlF9MtUc2OUBmnyKcZJqYvgH9gFyKcQIvEEeEEIhJHGAf/f5drsH0Adg/CijlKo/ilxvEMwJ3A3nF/9wJnHsW2nUd7QKah0dUy9egiX5bo2sy7zoQQiEAIAkfv6dYzJ4BpCDZvLx12AHZcyJUlNdujbEOlJvn374xMue5zO/J0tqrvFzPLCOmhNRgQmoZpHly57QReXJyyPEzPbD8f/exm/ulL2/mvzyw+6AgWYNuuIn2DlUnB13Ult947QjLpo6Nt6vz/E+vybN1dYXbn5P0vmBNE02B3r2rjXb4oxBtf08Iv7hjinNNirD558o1BE4LzVvo56yTJhu0uD25w+OUDNnc9aXPucoPTlxiED6FQ5jM1fKZGU9QE/Mj2BJ5j41bLONUSbrUM5SLuruehdkCtJNLEvgfXYza3Yja3UGpbxO7IcqpmhL5qeFS0vyP5pxeAXxIIId4HvA9gTnc3nm2jmYc/In1ki0fNgYXtgkXtx0ZQe6awTI0FcwJs2nboPHDVlozkBcN5GM6pKVOCpjBEgvWq/yHSvCF/gGVzAhi64tn+IXWE/SkgGjH4t79fyD//13Zuu7ufv/o/86Zcz/Mkz20pcM5pk2/W9z6SYv9AlX/+6NTbAvz+sRTzu/3Mm2KE7PPpzGr1jQZggLe/vpW+oRpf/v5ebrx+McHA1BeZoQtOXWRwykKdrfs8Hlzv8PRWl80DBl1N0DNLqQL6p3lIEUKgmxa6aWGFx9Egek5GVsuKBZFPIwtp3Hwezf8ClV07yD/1OOve9E0qoQ6oTtxn7+e+RHXvBnxtzQR7ZqP7fVhNCcxmJTNgNamCu5WMHVH8OBiOZwDeB4xXh+6qL5vpthccsO39U60opbwRuBGUFsRvgychDENR0YJ+fO1t4LoYkRB6ODhmVRQJYTYl0P0WejRCZdUbQQi27Jfs6rNZkizT2R7ECrw0j7RLeoI89Wwe2/YwxxViKjXJxp0u67e71BwQfjWqCfqUfOa8NmiOQkvUwG8KDF1w0Umqap3Kujz+XIVH1pXZN+Ri6To+6w9PvMdxJY89W+PuNVVesVJZ5PyxYlaLj9UnR/jJrft595u6iYQn/4Sf2Zinc5afc1dPbBnOF13ufTjFonlBzj51agGZDVsKgOA1Fx5ceCces4hExj7XNDSuuqSZR57K8sObB/jA2w5dcBZCsKhLZ1GXTion2dov2N4PD2yEB59XlLQF7ZK5rRONamcC4QsgfAG0pnZ1bMD8sy8DVFqwJ5tnx+5+1o0kKHvWaC96JGrhVWtkntxAbt0mCpu3T/7eZ59C5rFn0ENBJdITj2ImYrRedv5hHeN4HM8A/CSwUAgxDxVQ3wJcM8Nt7wL+TQjRuMIuAf5huo38Xe0s+uBHcEsVxYQoVQBJdXAEt1CiNpSitKsXt1DCyRcRho49kkGGwnDP1aP7qUqD9SMR1o+A76pX4rM0zESMnmsvItRqodUZEFqkPo83oyeb0fQjP90nLQpx851DbNtdZumCsbTGngGPn/3eJh4WrOjROXmBpCUqCE54uqw7SRyAZEzn8nNDXH5uiHTOJRb+wxrxup7kiY01fvNIhXReFY72DU9Nrfpjwjmnxfnxr/fzxLoMF5838blZSskPfrGPkZTN6hVjQdZxJJ//5h4276zw1c8snJJfnM46fPHGXvw+jUvPP/jz+L7+Kot7whOWLekJ8mcXJrn9dyNcdE6cRfNmJvaTjArOjMIZC2E4ryh+2wdga5+kN2UTsCAe0kiENBJhjcA0AVlKRTkMTkFhE0IQiEdZHo+yyIGntsPGuk/dKdd/mFjww6PrupWqYj40JAeG0zjFEq2XnV8X6clhZ7LYqSxueXqK6MFw3AKwlNIRQvwlKpjqwPeklBuFEP8CPCWlvE0IcTrwayABXCGE+KyUcrmUMiWE+FdUEAf4l0ZB7lDwtTWx8JMfOpxjxC2WyKVKPDjAqFmf5jmE8kN4jkPHW16DM5Khls6gaR723u14+SzUbYoAzPMvQ7Z3KncJy49u+dEsP/hCVH0txAJMm1s9abG64Nc9n58QgHs6Nf7i9RbdbdpRtbUmZuhuC2MtzLJRpPPGGitkQ8+h/rcAXLfh+6YaLaT0EJqO47r1vxkz3BSCqjRGmy5kvUdYInGFH9tRr7f2atzz5MTLVwBDGZvHNqnqf8hv0pfTR0V3GvOQX9CfMUZ1Hhq6D6YOhZLAMJio+WCAJj1MveHt1tB7UJoP+ky6B44hFveEmNsVoDwFjeyxp7Ns2lrkb947B8tqWCxJ/vum/ax7vsBf/58u5nZNfkJwXckN395LoeTyLx+de1BN3nzBoVB0aW+dnD9+11WzePTpHP/3f/bxlU8vQNcFDz1dZE6Hyez2Qz8pCgEtUTWduQjyZUGmqJMuSoZzHn1p9V2bw5KuwBCmz49l+dFMHx46O/ZLNu122bjLIZ2XvP9KP0vnHDy8mQacvVilPPqzSj97PHS/D72zDX/n9NKdAHzmr2a23gE4rjlgKeUdwB0HLPunca+fRKUXptr2e8D3XszjE0JghEMErSBiwCMSFMxvE3QlLQy9fliXfWLKbb1qBa+QxctnkYaO5/Ph1Sp41QpOuYiXGyFvzmJDMYkmVMNEIiRIhAWJkJh0p49HTeZ2+dmwucBbrxxbrmuCObOOLG0gpcT1lGWL7UpsR1JzlDaERlUxH1yJ63m4nlru16u4zmRBnIBlYFcm66v6/H5qlfJoZ52oaz+YloXryvqyer5ZCDShIYQ5ev6V5INax5Umsr5c1yVPblJpl1J9AOJJSbkiqFV05nWqNmif70Cft3q3G2NaDw2/NyGg5kKppnQexus+VMoexclfj2TQYTDlkIwIEhGtPgla4oK2hHZYN7aZolT22NtXmyBUA4q98Ks7Bzl9ZZRLXzk2gr35rmHufSTN1a9pmaRk1sAPbxlgw+YiH313J/O6D57C2bqrxLzuwJQFwFBQ5wNv6+Ar3+/lvkfTnH9mnJ/dlaFak3zyPa3M65pZuk4IiAYF0aDB7BZ1nRYrknRRIp0KdqVKuZDH8eArd88e2w45WlQz3RJShqfVgWiLq+l44Y++CHcs4LcEl6wU9RHRzEY7ms+P5vND09R3UCkloZqLWdJIFyXpgmTXkGTHoER4kl37PFYv0lm1QB/Ng61cGubhJ7OT8sCHgutJciUo1qBUhWJVUqqq15YhMZgcVYSAmFWutygLdE1VoXW/iV83lU+mEGia0nnQNA29EWC1ehDVxoLti9HK3d4Mn/+gyv8++myVWx4oky969A7AI+sFrzzl6NknDUgJVVsf03moybreA+QLGomQTjov2TPgsn67g+tCV9Jj3fMFElGNni6L+V0W8zpN5neZhINHF5T7BqvM7Q5MGIV6nuSGb+1h844yX/ykGn1KKfn+rwa5+a4R3nBJM+/688nXoutJvv/LIe5fU+CtV7Tw6nMP7T94+30pskXtoDS4c0+LctcDfm68qZdzV8f49Ptb+dyNg3zuxgH+/rpWFh2mUA+oG244IAgHAELAAjzXxa5VWdpts3NAUKlpo8EXoGX9TVQ3SkQkSXrdFoymVoymFozmVoykmmvR+HEvNJ8IwDPEY1s9HBeWdUJn8uiDihACn8+gw6faL0H9iHJl2NHnsW2Pxy2PONy71uEfrvGha4JTT45xz+Mlduytsnj+1BSkYkW5a+xPQV8aBjKKYqObKkdq6hDyqdbZaEAQC1iYusA01GTpAsMQaCI85f5nAinl6OQ1UhL1lIUc9z71EbgS0mEsHYHEldqo4FWjMUBK8NBxPCX+my9LfnB7mZo9NgoGJYSzrU+N0nVNUKppoxoPo3MNbEdpPTT0HhqvBRKfocRyfHX5Sr8l8FuQCMPEfPrEUZ0nJYWSpG/Y4aR5Ojt6a+zorfHU8+oAl841cGs2F58T44wVoRnfSMdjzfocu/dVWDh37CZz060DrFmf4y/f2cWyBSFlzvn/+rj74Qx/dkGCa/+8bVKaq1rz+NL3+lizociVF8V56xWHbjbYsqPE48/keOdVbROaLsZDCME73tDOX35mC7+6Y5B3/nk7n/lAG9ffOMjnvz3Ix97dwrKeoy+SarqOLxDk/a9XnZw/+32FtS+o/H8y5BI65RXIYgavWMAZGaSyZSNeeSKLaOtv9mOEw/hmteDvaMU3qwVfeyuB2e0Y0UjdcKGuAZGIvShyA9MGYCHEw8ADwEPAI1LK/DSbvGyRf3YL9590GXpAMSD0YAAzqU6sEQ6NWRXVmRBmPIIeCqJHw5Qip4GAdbs9dg54rJhrEgse25GdpgniITh1gc4pPRr7hiXDWTlKeVvaE0RK2LitPCEAZwsej2+sMZCWDFXUxa1r0BqDFXOhMwmtCUHIYgqH12PH4kilUmSy2QlKZQA+n49qtTppfV3XqTlTn0MHa4KlO9QDpxGgWAEEDKYkmSmuxpoj2TeiuqdCfo3elOCAXRGw1E1qKuTyys24AUNT4juxgEOhJIkEBJEghAOCSEAwd5ZGS1z9ODUhiIYE0ZDF4jlj57ZY9ti5r8azW4rc80iBG76zn0hI4/zTo1x9WZJEbGbUJiklv3tkhJOXhGltVvt/cE2GOx8c4eJzE7z2IsVe+OqP+rj3kQxvfW0z11zZMmnAMJSy+c/v97F5R4X3XN3Cay889Mi3Znv86q4RkjGD1716YoGut7+KzxS0NKnjWTQ/yPlnxPnlbwe54uJmmhMm//TBNq7/9iA/uDXNFRfFOW+l/5g9GfkswTsu8bOg0+FXD1SZ3+XDmLt89P2uM5QWhFcq4owM4YwMYaeGqHVvodo3SLVvkNKufaQfX0dtKEVwfjelHXsnfIbQdZpfdTblvX1KjCcZw0ooy6LY6Scf8bFPK0dZZym8oj6dhWLQPSSl/Osj/tTjhOUt7fJHl7yl7oRRwS2W0XwmlX0DivlQKOEWx+zBzUQMO51FBoJw/5NT7jP8obdi+QzMRIzOy08j2OJDj8TQwlG0SAw9HEOLJ9Aj8WNyB/3gZ3awcK6fv3n3GNXnprtLPLKhxuLZBmefEqSzSdAam7l787FCsVikXKmgjaYjtNFUBTAuDzw2KT1gJX7TyAcrnUhUGqO+74P9WKWUbN7tcNuDJbb1qqg5u03n09fFJ63XyAF7EjwXXClwPCWw43qo1x4UyyoAV23qc6X5UCq5DKQ88mVJvqSWAbzhPJOzls38YdL1JBs2l7j30Szb91ToHyzw/rd0ctkrD+1+Deop6Yl1WXyWxqknRVmzLse/fHUXp50c4ZMfmjPqDff8thLb91S44qKJZppSSn73RIH/uWWEeV0ml78ixpkrD/2047iSG77dx5PPFfn0hzo4ddnE9M7nv7GbjVtL/Og/l4we/96+Cu/9xCauvLiFD71D1UtyBZef3F3kqc02KxaYvPPy8DFn3mQLHpYpCByhTZdXq9XtidLUhlNjhgvDKaTnUdy2W7EgUlnsdJZaKkPHm1/Lym997sWRo5RS7hRCVIBafboQWHr4X+34IzCnk1N//F+HXEd6Hm65glsoYecKuPkixUKVtaMrqBuWUcjgBMKE53XijKRVEB/aR2HTC2BPLFKFLrwUo7sdYfkRVgDNCqD5Akh/mHKgnbBfm2JkOjVOPSnCQ08Xcb2xkfElZ/h41Wofbcnjy+ENhUKEQscu9zoTCCFYOtdk6dwYW3bb3PFoma7WyedhNLhTtyk95Kk6mJDRxGBhO5J8WR42V1XXBKcsC3HKshCDw1W+9N29fPn7e+ntr/DuN7ZjHMJ6R9MEZ5+qbi7PbMzzua/tZv7sAB9/3+wJxpzLFgRZtmAiFeypZ3P8v1uH2TciWL7Azwff3Exb86FH3q4n+eqPBnjyuSLve1PLpOArpWT9pgKnnRSZcPPobvdz6flNrNuUZyhVoyVpEQ3rvPcNEXqerHDz/SX++dsZ3nZZiNVLj50i39EGdM2yCHTOItA5c7cQz3XhW587os+bSQpiOzAM3AR8F/iwlPIotJ9e3hCahhEKYoSC+NrUo5ZVk/Cci6HDnGaNOc0aQV89X/aTL0/YXkqJrFXw8jncvGJB4PehBRULQlbLuMUMTrqPYrCTTZ56ZPSZgohfEA5ohP2CsF+f8i6+eJ6fux7Os3t/jfld6sJtjv/hNU+8GFg8x2TxnJfOnsY0BMnI0T1ltDb7+PzHevjxrf3cfEcfIb/gmtdPr5z37JYCn/3KLrrafVz/t/MIHVDYG0nXuP+xFP1DVQaGqmzeUWIkpaiRH//wEl59dmRa6qPjSr77yyEefCrP269s4jXnT6YL7N5XJZt3Wbls8ij6mtfN4j2f3MKv7x7hfW9RjRGaEFx8RoDl8y2+d3ueb/26wKZdDq89L0jiKM/l8YJ2FJrAM3lu+r/AecBbgVOAB4QQD0opJ7eK/JEiYAleuVQn6GPaFmQhhOrE8QUwmg/OIZRS4q/ZrKzp5CsehbKkUPEYzjt4nuCxjTBvlmDZbMHibjGqQbGsx093u8WOvdXRAHwCf9jQNFW42rm7yA9/tY/LLmgmGT94bv65F4r85LZBWpst/u1j86fshvvlHf38/Pb+uuuHWiYEfOojC7jgrOi0x9Q7YPONn6fI5V3efmUT/5+8946z467O/9+fmbm97e7d3rRa1ZVkWc2S5SIZN9zBxmA6DtXAlzRKICEJcQgpQAiB8AshgcSJgWDA2NgYF2y5yJYsyZKs3rV9tf32MuXz++Nzt2l3tUUr25Dn9bqaq7ll5u6de+bMOc95nrddXzLh8x59Vjkur54gAFeUurlqQzGPPz/Au24tJxQYCVRVpTqf/0CEx17M0NKn8+1f2iyfJ7h8mUZF8W9nIJ4NpszXpZTflFK+HbgW2AV8CTh6gffrDYd9LRbbjloMpOYm+RdC4PK4KQnpzCtzsbzezYbFXjYt97JinouNTYL+hOSX2x1++PTIdFdpsQspNPYeHd/U+l1Gf9wml//dts/6+PvqiBZ7ePrFyWeK9hxM8sWvnaS7N8/ffa6RovDEOdRVG0sLVLSRdfe8t46rLp04kA7BcSSPPJfgz751hv5Bmw/cVjxp8N22N8lTLyVobAgMN+DOxh3Xl5LNOfxqy3gBKF0T3HKFn/dd52bDUsGRNsl3f2Xzoy02rT2/29/1EKZTgvg6KgMOAi8Cf4FiRPzWIXW8mV13/T66z6tYED4vRiSE5nah+ws2RQUmhB7woYeCqhwRChJPFyMRbDtqU13ssKRGx3sBHG91TVBRpFOxGq5eJekaUHoPo7Gs0cPL+zM4jvydVyfr7LV5+Pk0rxwxufEyL2/dNL0R199GlEU9WKbkVMsEEx/Arn0J7v3n01SVu/nbzzVOyJzI5R0e2RLjwd/E8IcCJAaTANRUenjrm8891XXkdJ6ntiXZuifNumVePnRHMZHgxJfXPf0m3/6fMyyo8/De2yYfW55f52XtiiAP/6af26+fWFA+5Bdcv0bnyuWSl49KXj7scN9TNmuWatSXCmqjzDnj6I2C6ZQgXgL+QUp55kLvzIWGNC2Sh08MsyCcTBY9EiTXNvFHc0WLMPsGweNBe37X8PqOAUlHXx40jeKvfBqP14WrKEx0/SK8US96KIweKlLLcBgtGEH3zcz8EFSWXFUCZzeFLl7q43ibRXOHOe3pojcKRnN9h6fTpMRxJLLAfrBtyZ5jeQ6ctNh9xBr++P1xh1jKHnYxduRIY00U/lETbmIc71cI0BDoBX+3N2lcnWwAACAASURBVKrQ26JGP0Xh8YF1+544X/52M/VVHv7ms5NnvqYlefS5OKuW+njvLdV8/bsneWV/nE9+YN6kzb1T7SY/+02CfcfzFIcFf/DuEtZf5JuUkdHdb/G9B/owdMGnP1g5ZQP5bW8u5Wv/3sbWXfFzunr7PILNFwk2NgmOd0jaBgWvtsCrLRDySeqiSqinJDg5K+a3DdNhQfx0quf8tiDYtIDNOx8ds05KiZM3h22K7FSBjpbOqGUiRSZjjdRcHEf9ei0T3B7Mrm4yPX2Yg3G8rktJdB4Zt93iN99IYGENwuNHuH0FxSY/0hciE6rF59Yn8WubGIvqPbR3D3DoVO6CBmDHkeRtZQ2uRpFlga4lC2PEEtu2cRw1aOE46uYyNPJ5Uw1fDA1hSJXdZ63JtmZgFao7e49KdhwYlfUriQj64hb7mrOks5J8TqBPoFsY9gnaB8YHGq8LOvpGCeyLkQEMx7RxJMMGm163Mtv0uRx0IQn5C9xevyDkFxeM3ielZN+RJOWlY2v7W3fFePDxHubXefmbT8+fsOY7hKBf5x//pJaikMpc//wPF3LoWJINq4to78ry41+eIW+q7y+Zttl3OIlpSeYtquCu6yNcs96P5xysjlePZvjWD/twHMmffaKaqmlYO61cGqC8zMtPHx9g8/rIlFdtbkP1PpbVjxjNtvbBoTZo65M0RPrw+1wEvC4CPhc+j2taV4KZnMTrfmMF7//zk3BCCHSPG93jhpKJz87pnOToQRU5Kop15pVplAQD6ot8/sfDz5OOg5NOYRcYEHYijh2PYURCGGEvMpdG5jI4g2eQuSyZSC3HBlV9TdfA69bxuTX8Hp2qkskdcUsiOhcv8dA9MDvlL9OSpHJK82BoLDmdA4/LIm9K8rbEtEZ8zqJBm1x+fOSM+AWmaRZEbYS6FehebpcaQ9aGx5NVB1wO8X6F+ttrhe9ACqG4wEBtqSTgydPZ53Ck2R5uJPndGqdOO7ywJ4tlw19+zIPfpxXEegrfgYT55WNNNoeWjeVK12HIaHOIAxxLCjJ5xeuNpaB7UN0XjkVb9/i/8aIqycBAjppyFzXlBjXlBrXlBkH/+aXVpim55vIo6y4aaZI9u32Qf/huC00L/HzlM/MJTuGMDQwHX4Bw0GDDanVcn2jJ8Phz4+vLkbCLf/5cJT7v5Ptv2ZJfPZ/gx48NUlvh4o/fX0rlWRQ2KeWEx6wQgluvLuEbP+jklYMp1q2Y/pSl3yNYVAWLqhQfeyDlYOY8pDMmiZRidQgg6NOpzrei+cNo/giaP4TUXbT3Sg63OBxqcTgzILl1o8GlTW8c1tD/+QB8NizbRtfGelb5PYI1jTph33iRnNEQmoYeDKEHQ1B1boMOKR3ceZMmSyeTt8nkHDJ5m1jaIpGxqI6em+EQLTLYuifD+26OTOrjZjuS3jh0D0J3TNIbg3gG/P7xWYDPrS7vXIYg4BWF8eQhG3sdl+ZG14WyZ9cEuj50mT/530NlvyqTHhlBHgqIQ9mxKjs4o8aNPW7BtRt8SKCrz+bnT6do7bLZc9geMx2XzEqUwqfEdrQxJQe9cN+R6uRgaOrSdWjcWBMSt4uCgtzEgcd2NJIZSTylBi/i6cL9hElPL7y4N0MmN7JDqxYZeDSTzesjNC3wzbg+73Zr/P7vjYjLPP3iAF//XivLFgX4qz9qmFTofDqwbIkwPHg8BrncyMn0msuL+ZN7GiZ9nZSS3UfyPPCbFHnT5k2XBHjfbcV43eP/Zj96tB/Hkbz7lui4z37F2hD3PdjDQ08NzCgAj4bHJagsMoBw4TM5pDIm6ayJzGWwelqGfRi/cvhm1NgCjJyeBUYmhrRCiAvoIzcTnDMAF4wzD0gpl75G+/O6wrJsTjR34HG7KC8twj/K+6wiMrdFQyE0DI+HiAciZ2U1ztkzuBNgWaOHVw5laO40aRxVhpBScrrTZscRk91HLeqqfSTzGoauhNlrS6GuHIJepQnhd6vgq34w6qC0HUnOktg2mLbEsgXpvFJMA4lj26okUSg52I4KoELahVIEw2UHUJYyZyt3Afi9BskJJBUDPoO+5Mj/WztVFnr2Mw+1OfgLpfVkbuJgJxAMJMevL/ZJTnSCS1djxm4XeAyIhiSDcZuQj4IAjCDoF5SENZY1DB0Dbt52dQApJQNxh7Zui/Zui5b2NE8+H+Ox5wYpLTbYdEmYzesjzK/1zPiy94nn+/mn77excmmAL/3h/EnlIadCLGnz0qtZHn8pQyzpUFMX4eRxxUiorvDw+3fXTfrali6L/30yyeHTJlWlOnffEmbFgomvzF7ak+SnTwxwzaVhzn74oSd7+eHD3bz95nL++6E+TrZmaTyH4tp0YegakaCHSNADBJHVtyLzGZxUjOUDSY73+sjZOqN7KL5ff5v+h1vRIsWcfCGGFgjhq63EW1OJt7YSX20lnqoy3OVRNOPC56fn3IKU0hZCHBFC1EspWy743lxgZNvPcPSvv43u86D7fGg+j9J/8HjQAz5kOAjREnK5PK0dPfhdBmVlxXhfYxPK6WROTfNdxJKSgydzNNa6sSzJywezPLnLojcmcemwotFgXRPUlgmKgkyoF9zaJ+lok+RMSbZgsW7aUBaW5M3xspN+N+jkVRasCZVNagK3ruHSKGTGQxKT6r6u6gyjGmIj2bModM6GJpCHftwNFSMNtoX3uDjRbvP0jgwtXSMlgfULdUrCOhKVSY809QqlB5Ss5FDZYfS4sWkKKosKI8cW5Atjx6YlaetW48b5UR+/sUrjnreMvSoRQlAS0SmJ6Kxc5AECvP+2KNtfTfDsy3Eeeqqfnz/Rz1Xr/Lzz1gpqKqd3HD35fD9PPj/A6uVB/vxTk2vzTgYpJUeaTZ7ekWbXoRyOAxtWeLl8lZem+aV8/M9StHXl+PNPNUwoqnO602LLKzle2pvG6xa854Ygm9Z4J619HzyR41v3n2Fxg4ePvn287oSUyo3jinVh9h7O8NTWQT76zulPmk0XioPvR/P4effNKut/YqfN1gM2Q1lw/ZuvR4+fwR7oJf/w02RePUZnezdy1LEeWDyf1LHTuEuL8ZSX4q6I4qkoJbi0EYTAHR2yKSpS9ysmdw+ZCtMJ8cXAASHEy8CwnJCU8rbJX/LGRK67l2P3fmvMOk9FKbkzvQB4166g9v5/GrYpSZsWzR09ALRsugsj6McIBgitWIwZS2CEg7giIYxICFckSHBRDe5iH0Y4jB6OYITCGOEIwjPzDGgqFIUMqssMDp7McfX6AP90Xzcn200uWlHEDRu8rFzgmtY8fCqnbMC9LqVJ7HWpS72ABzyGqyDBqUoSQ4phQry2JyR/mZvqMrjiYi8HTpr8YkuKtm6LaFgrOB/M5m872es0uEz9LPKmVAMyGcZldZPB59W4an2Eq9ZHiCUtnn5xkPseaGPLS/185mPz2Lzh3DzcZ7cPqsy3KcBffGresJ7xdJDOOry4N8PTOzN09Nj4vYJr1/t50zoflaUjP/W/+ewCBmLmGHt725bsPmbyzK4cJztsvG644+oAV1zsJeCbeB8cR/LrlzL8YkuKjasjvOfmIlwTUDP9viGhIqipcPP41hjvuKl0UibHuSCl0qz2TENFztAFN20waKwSPPCcpUSU1l46/PjGOz6k3tNxyPf0k23rItPWRa6nj1z7GXJnesl195E708fAtt1k2joZeH7nuO3UvP/2GX+OIUxHjGfzROullM/OequvE9atWyd3bN+Onc0N09DsdLZAS8uQAZJVFcPODNg2JFLIgUHMnz+OlUhhp9LogQDJwyew4gnMWAIrlkRaFg13X4XZfHDcdituvYniFfMUC2Lo5vUj/GH06oWz/jw/eSLGMy+nuXixixMteW6/Nsxlq2YvI/lGRzLt8OsXU/z6pTQL6ww+f/fsM4/XEt19ef7uO6dIpy3ueV8dq5ZNPIm2bXecL3/7NEsX+Pnypxunnfk2d5g89XKKF/dkqKtyIwRcfYmf9cu952Q0AMRTDtsP5nlmV46BhKSsSOOqNR42rnCf8wTeF7P5j4cSHGk2Wdvk5v03hwhOEqgffKKPXz3bz9c+P5940ub/3Xua99xWyjtuHPv9neq0qYpq59TWyORs9p5K4nEpwfaI3yAcMHCfQz8DVCPdspXQ+/lg2KqoT1kVmX2DuEqLKXvTxgsmxvOsEKICuKSw6mUpZfdMN/RGgdD1Ya2Hs5FKZ0l29mAYBsVFQSKh4IjdzLWXT/qeUkoVzFNJ7GQCOxHDiisGhJVI4K0oQSvyQC6DTMVw+jvBzCHC0fMKwA3VbuKpJBtXBbh0ZYBVS2fONX4tMdSEc0Y34iiMyhZKBqPLB0O9k0On8hxpzvPC7sxwWSCWlMTS6glCAFKgaaOacAVdX12fuPTyWqI86uYrn1vIRz53kH/+fgv//g/Lx5WZdh9I8JV/UcI6f/VHU9d886bk5QMZfrM9xbEWE5cBl13s59oNfubXjPQEOrvzaBpEi1wYBb6uaUn2nbTYftDkcLPF/EqN8mKdd17rYUWjcc4SmJSSbfuz3P9YCinhQ7eF2Ljy3Fd4rV05UmmHcFAnEjJY1eTn188Ncsf1JcNljbwp+fdHMrhdgne8yTOpnZChCxrKvcTSFv0Jk56YOiACHsEC0YrhD6H5Q+i+EGKUB6N/lupoZ2PGVkVTYDqTcO8AvopyHRbAt4QQn/1d4gcPwe/zMK+2Ao/bNaOSgRBCTdL5fVB2blHrIUjbBis/9RPPgaXz3SxtcNHWZXHzpokdCmYLR8oRWx4LRU2zQUgHq8AHth05XFs1dMiZ9nADTi1VIMyZI1KQoyEESlz9LPjcOoNptb6r2+TpreO7aMksPL1fteUifmjrG1/L9Lqgsw90TWIU/N2Mgtcbtl3YluL9+tzg9YDf7eBzC4pDgqLg9FXqpoLXo/P5T87H7RLjAtzRk2n+84FOGuu9/PUfzycwDbbDg88k+OWzSSqjOu+9KcyVa/zjSgW9/SYf+rzipQsgENBxHEhnbKJVxTTMj3DNOjfrmwwqS84dChwp2X/C4okdOfJZi5oynQ+/NUxZ8bn3VUpJb79J04KRwY5b3lTMl7/Tzo5XE2xcra4G3C7Bh2/x8ePfZPnuw1kuWWrw1is9BM4y13QZGpUlHipLPMqqKOcQT1lYuSx2bw9Wf8fwczWPD80bQnR3YhSXoRWVohWVIbxTT1MOpiQtvRANKQOGC4XpFGH+DLhkKOsVQpQBTwG/cwFYCIHXM7PBhsEUZPJQWTT9OiGoTBz9/DLWcEAnnZXsOZKdUQCWUhJLQ29cNaXSeVGw2hm5lYYdUrnx5amykCRToDHpmpoq03VBoJBhGLoKMHqhCacy0ULjTTurCQfK742RaTX1LgKnwAl26nX8mkNbj8XeI/lhZoXPDesXFvzegIaygs5vwd9tKMueV1rg/NqjPN4siMWVo0b3AMMcYICgK09z5whNK+hTwXh+pcDAprFgLxSeZET3XFi+eHx5qONMji9+/QQet8Y3/mLROYcsRuOaS/wsb/SwrNE9acZaFNEJBXUSSTU9mEyNNDA/eVeU9Su8UzZ8bVuy84jJkztydPU5RCOCmy71sa7JPaUwFcCrR9LsPZLlU+8babqtWR5gcb3BQ0/0DgdggPlVOp95p58nduT5zS6TVA5WL/Gwop4JyyFCKNXAoFcHPMiqzUgzh51J4KQT2JkEMpfF2v4k5qjTv/AF0IrKOP1iP3oojK+uCld9HcnKBvKhUloTHgYLsuC1JcrQ4EJhOt+2dlbJoY9piPi8EWH2D9L588fRfV7FgPB6R3Qh/AX9B78X4Zp+BrzzBHQMQFUxrF+osrHXEquWejhyKkfelLgn0aaQUrLjGPTEFC+4P6ECEUBDlcC0wVugowV9ykmjOFCwKSq4Ag/xgl26xKUbU3KA5xJ3XqNOLr2DNo++kOLZVzKE/No0MpNzPT720LcdSS4PiZTGQFIymHQYSDgMJiQDCYf2Mzl2vJocPgGUFus01rpZtdjDikVeykpmPpE4GDf506+ewHYkf/PZBZQWT/89SosNSovH/3yllLT32Ow6YvHK0Tya1w/JEduQN20s4tMfqp0y8PbGHHYesTjdYbL/pEV1qcYHbvSxZolrWoEXwHEc7n+4l2ixwaZLRhIEXROsWR7kvp+foaM7R/UobzuXIbh5o4eLFxrsaxFsOwo7jsPiasnFDVAWOQcPXwjEkON4ZORKVC5agxPrwxnsxRnswRnowYn1ceax58m2diEti/iWw5BG3YZ6QNIhueUFDvzb88qqqK4aIxzAXTpiVWSEAuf1O5hOE+6rwErgR4VVdwH7pJSfm/VWXycsEl75T8a8Mevc5SXku8dOBwldR/d78dZX4+TyGAE/erAg1BP042+oVevDQfZd+j7S/ihIiRAw391LfbFJZbkXIxRCc11Ywveug2n+4fs9/Pk9FaxYODk74buPOViO4gKrm6A0rDzOfG4xo+z99UZ3v4WuqWGU1xLprMPp9vywz9vJtjwuYXH4WJw1K4LcsKmESy4KDddaz4VM1uZzf3ucU60Z/v7zCyfMjmeC9h6bXYfz7DqsyloDSVhSb1AbdfjufacBuGxtmC/cUz/p4E42L9l7wmbnYYtTXQ4CuHiBxuqFOsvmGzMKNFJK/uvhQQ4ez/CWq4JcvnZs47FvwOT9nz7EnTeW8Xtvr5r0ffoTkleb4XCbShqqimH9YofKiDZpwjETSNsm19VLf3MPh5MRej2l2Lpn+HI29NN/x3Xfv2LFkxRvXM3AS7vHvF64XNR98E5W/stfzaoJN2UABhBC3IFSRANlR/TgTDf0RsCaFRfJLfc/oBwvslmcTA47n8dOpnEKbAhrSKgnncHO5bFiCaxkaoxlkaeyjNgrB7DiSQbufxqnfLyAdukDf0tk60/R/H5q77iR8ovrh9kPFJbSF8EsrcNlGBiGPqszaTrj8MG/aOX2q8PcdePkvl6mJeesnvl6IZa0efT5JE9uS3HN+gDvvTnyeu8SHd05nnxhkKe2DtAfs9h0SZib31TCinMEVMeR/P13W+jqzvGOm8u5fN3sfNFTGYdnduXYdViNbQsBi+sN1ixxsXqJi3BBpP2LXz+F2yX4wsfrx5mA5k3J0TaHEx022w5amBaUFQkuWWKwZrFO0SwcJhxH8oOHBnn65TQ3XxnkXTeGJzy2/+qbpzlyIs19/9g05UkrZ0oOtkJztyTszyEEhHyCaEinJKSmVOfiiixnSnadhGbFTOWyxTCvTGCnM2S7ejB7B8n19mP2KhZEvqefYNMC6t5/x4UJwEKIv5dS/slU634bsG7dOrlz53ge32whHYcfbRUFERmBC4tqepBmjoW9O5HxAax4glBjFeEyDzKbQubSkE2DdDBL59FVf8nw+xmGjmEYuAyDfjNKkV8QDSmBmHPhaz/oIp60ufdT5x5/fj0hC4wHxxk9iiyGmQ9DrAfl2SYZKh9IKTl4IsehUzme25nGKpRO1i3z8pE7Sxi6GtYFBcbDzGrxcwXblry0O873f9JOZ0+ez3y4nmsun7h4+D8PdnH/Q9189F1V3P7m6TVtJ0I66/An/xKjocpg7VIXa5a4CQfGB8yzNRoyOcnhVof9p2yOtjqYNoT9kqV1GmsXG9RXaLMOZpbl8P2HYjy7M81tVwV5x/UTB19QCm/3fvM0f/mHDay/eGqR+KHPksxK+hI2fQmHeFo1Yj0GLAu04vYFMXwBDF8ATZ/eFVLOlLiMsWyZ9n7J8S5VVjyX/MAQhBAXhoYGXAecHWxvnGDd/zkITSPkUz/4phqYV2Zg6EOXUw2Tvk5KCWYOVz5PjebCtCwsy8Y0LSxLaUHsahn50oNe1Y0tDUmKvA5V0bE/kMqowfa9STI5B98sR1bPhmkp1kPeYmRazFLULjWePCJmYzngdUlSOcV+sEexIPweQSw9MpY8BEOHvDnJ+LDQyBSaYk893Us8MV4IqK0ffr5d3Y8G4dQoRdEhvYdoSNLV6+AeZTHvNgQ+t8QybUKFMWPlbgxBvyDgBX0WWpW6LrhiXYTVy4L8f/e30bRwYm+8F3bEuP+hbq67opi3Xj+5ju504Pdq/P0nI/gLIjrpjE1ze5aaCs+YjFIIQX/c4XCLw6kum4PNir0S9sO6JTrLGzTmV2nTru1OhtOdFj98PIWdt7n96hBvuzZ0zkC+7qIQtVUennh+YNoBWAjlRB3yaTSUq+O0P2mTzpjYiTSpxMDwc3W3F8PnxzvQjR4pRRSVIoJFCE0nnpYcbYcj7ZL2XrhkMbxp5ci+1pSIC9p8G8KkAVgI8XHgE0CjEOLVUQ+FgK0Xesd+W3DtShWMQr6Z0dZwe9HdXibr2c2rhb4E9CXVsjcOrWccXt6bpqJYY/Vig+sucWPoghWL/fxyyyBHTmZY1TQ9U8xUVnJmQJLKa6SyaiJu9DIagez4SWQqI5JkTg4zIIam49xG4b4BmqYVBG/U+pJAYTR5iAnBCBtCMSFGrYOC4I76ezZVlvDr5+P0x2xOtZvDymjREFy6aGT0uKp4xN146KYJ0KRQCm8WJDPKsl4TcKLFHFZ7G/PdmBncOlSWGlRGdaoKy5oKA/80Tm4Bv85nPjJvwsdOtWb42vdaWLrAz//7QM2cXDL7RymYfeu+Tp7fGUfXoLrCTVmph0PHUvgCbqoaVWIQDQs2X6yztE6ntlzMCUc6lXH4xXMZXtiTJxwU3HVNiDVLp7bL0nXBqmVBfv1sP6mMPS363dlwGYKKIgOKDKhahWOZWNkUZiaFlUlhZzNYLz/O0Cn8W5EvMUZVpNBwc2KD2BnfrHS7zwfnyoB/CDwG/C3w+VHrE1LKyT1T3sCwM1mSR08pFoTXU9CE8CpK2Cyx/ZjKxhZVqi7tXLlkuA0VVKpGlXXjKY15JR52H7XYfdTihg2qa750vhfHtNhzMDVhAM7mHJq7oaNf0tnn0NEniadVwKssd6EJgd8DAa9SDKsrhZKQ2oehm6eQRbp0DZf+GmqqRg2a3qNSkaPNOX72mwQHTuQpDWssmrx3U8DkY8pS+snmIZEeGjeWJNIOrZ0O3f02Xb0We4/mhoN0WcDE54ZLVwXZcHGAaNHMmqvJlM03/7ONRfP9fOHj9RM6Q5wvKgravLYDrZ15WjtVQy6TzfKRd7tYWq9RVjR3242nJNsOWRw8keNos8mb1nm49QrfjCzhN28o4uGn+ti+O87Vl03ew5guNMOFO1iEOzhSV5d1i3BivcjBXpYd7+BQuhI5ROQqHMf9//xVntvzK1wlxfgbl2NnbbxV5XiqygvLMjxV5XgK7Ad9jvRhJq0BCyHCUsq4EGLCRPy3MQhPyIIoLcGMJYYtitRSCfV4KkvBkQV6mg8jGEAP+NR6BEYowCv115JwhQGJISTLS1IsqDHwhSd3FJgLnN1U+/xXT5MzJd/40/nD646czvPUy2n2HMnR0Bghb2lEI1BdolEVFVSVCMqLFYf3t4kF0dJlEglqk9rlzBVsW9I7aNPZa/HqoQQv703RdkYFtUUNXi5bHeT6y8ME/Oeu5Ekp+et/bublV+N89QsLJi1PzBSOlLR12xxqcTjcbHPsdIbTR7qGH3e5BH/6iToumaX840SQUtLaLdl6wGLfSQcpYc0iwcZlOrXlM2OlHD6RJpYw+c5/d9BQ6+Wv/mj+1C8CDrfbBL2CiiKlUTJTOFKy7TC8cECiOhOCW4wXCXQeJtveQaZlkOSBE2Q7u8n3jIS5oktXMbhtDwB60I+7rARPWZSKW69m0Rc+Puc14B8Ct6CMOEe6IgoSaJzpxl5v+BfUs+rer2JncjjZHHY2i7QdrFhCMSOGdCEySifCyZnkewew02nFgkhlsJNpQisWE9+jNB9S96+HqjCgmnF7+0Ls7YPQP/0Zod3PYkRC1N2+iaoNdQhvQGlAFG74w9ilteiGC92YGc3nbEbDyqUB/vfRXpIpm2DBffZYS56DJ3NsXuNj/UqDeZU6nvPM0NvO5Hns+QS3XhUeJ8j9WqG+8rXZrq4LKqIGFVGDVUu8vP+tZbR25ti2N8n2PUme2R7nR7/o5MPvrOK6K4on/f5+9uteXtod56Pvqjrv4JvLSw43W+w/abL/lEUiLakodREJCG7bHOAH7WrwIuDT+Os/msfi+XNzSZ3KSg42K25w8xkl4XnZcp2Ny3Wi4dll1Y883ce+w0k2rS/iwSd6iCctwlMMotiOpH1AkslLRAuUhQRVxYKKiMA9TZaPJgSXNUFDOTy0XZXcFt58OR7XFeOe6+Tz5M70ke3oJt/bT66zh3xvP/mefnLdfeR7B5AT1bKmiUk/rZTylsJyeqel3wK4isLUvPv8RdzsXE4F5HiSX7ZV4YyyZChKd2E6OgvXzoP66zEH47ijEcil1WVQNj08gmyXz2NwyYg6k24YKhjrBt12DQGvIOyDkI8pbXAuXurn6a0a+44k2bhG0bOuu9TPDZcFpsVLnQrZnMNPnxzkkWfjOI6qkd561eQ0sCHdh98109C6Kg91VR7efkOUU60ZvvPfHXzjP9ro7c/zrtsqxgXhQ8eS/OCBTi5fF5l10y2WdHjlcJbDrZIjLRaWDT4PNDW4WDHfoKnBIFRw4+hoLeKZbTHu/YN65tWc32VyKis51CI52CJp7lbf56IqwaqFOmsWnf/JPJmyCPp1Nm+I8MqhFNv3Jrju8nOXIXRNcPVyncE0dA44dA5KuptVXX9NtA2fz4vb58ft9aNPoedbHRV86HoVgCf7LJrbja+uCl/dFPWuL37y3I9PgmldM4ziAUsUD/gXs9ra7wh0jwfd48EdLcbVLdEcWFwNiyrB7yl8UTd+bNLXS8tEZtM4Zg7D7cO2LGzLxLYsLMskm7c42jPiEgHg90jCPpCmTUOFTnV0LO9xUYOPnr48ew+lhgOwZwLXgqkgpSRnCrImZPPKDv5/f9VLc3uO9Cjx9IMtNoH9iikRce30CQAAIABJREFU9EIsXdCFkKoGOTQGfMmC360APBrz63z8/ecbue/nnfzgJ+2EAjq3XjtCK4snLO795knWXxzkjz5YO6MrnL6YzSuHc+w6lON4q4UE1i73sWmVmxWNLhZU6xMOVLz/reW8/63lszrxSSnpS8DJTklLt+RQqwq60TBcsVywrF6jvGh2fHXLlgWxpJHXSqncmhfM85HNw0u7k1MGYFD9h+IAFAd0mmrUWP1A0kTL2SQG+mBAkXgNlxu3108o2YsWLkGLRBUHf9Q+uA2Be4IKjZQwkFJ6Iv6p+4mzxnTEeL4DLGRkEu4eIcR1UsrZhfzfUgymLAxNEDyrU3vruiGDxxmwIAwXIhhBY/IvoHqeJJVVFkLxjNItGEhKntlhIaVF2A9L6nWuXmVQEtZwuzSWLw6w99AE9g9nQUpJX1zSPSjpSwriKRVAYymIpyFarGEXRHJOnUhw8vhYm3QhIJFysB3VnPO51bjyEP1LL/w9iuam1DknsG3JqbYcDbWeOTXV1DTBB95WxcGjSV7ZF+PNm6O4XRpSSr7+vdMMxi3edVsFAf/U9ep40mbrnjRHWmz2nVAUlNpynds2+1m71EN12dTBb6aBN2dKmrtV0D3ZpYIZwJKa0UH3/Jqu8ZTDvzwQY+k8N7e/SR0U8aTFniMZbr8+ihCCS1eFeOzZAdJZG/8EIvGTQQh1nBUF3MACpe2by5DPpMll0pjZNPbupxhWwXD7EJEoWjhK7EwGI1KCp6oad3U1utdLLA0nz8CJM5DIQF0Url05648+JaaTAV8NNMlCt04I8V/AgQu3S29MHG7NYjtQFjGYV+4eFoSeTRNgOtCE4qaGfKDGK9R2Ll/i5UirzaFmm1dP2Fy7ZuQrXLk0yH/9rIvBuDVG7FpKSc+g5ES7zfEOmxPtNoNJycJanXjeTcCrNCwqiwVLaqG0qKAS5gL3hgjd3T6a27M8tS1BR4+FlBDxOly3cvRnn93fYah8dnYvWMKwYM+QUM9skEzbPLk1xiPPDNI3aPGn91SzfuXcaiYLIbj2imL+/junuPsdNcyr8fHwkz28uCvGPe+tZfH8yc9Eli3ZeyTLsztT7D6sjrEr1wZ529UB1i51UxGd23Fry5Z09EFzjwq8UkraehXTpaECNjYp4aGiwNwc1y1dFt/6SYxkyuGaS0bq0S++ksC24cp1iv+7cVWIh3/Tz679qeF1s4HQNDy+AB5fgBAFzn3lPar8F+9Dxnpx4n3YrUdo/vYDONkcAEd//8fkyxrUm4w6GO32dvoTZ/DWVOCpKkP3zG06PJ1v9zhQDzQX/l9XWPdbh9iu/TwWWIHm9RRoaF7c5VFk3kTzeRUtze9D93nQvF7cpUUgNDS/F/sdSj2/Z9CkdyBPONlLkCzFHpRGRCig9CIC/gvKfgj6BGsXG6xdbGA7ckzmve6iIC/udLFjzyDXbSpFSsnOAxl+9VycJH5MWyPkFyyo1llQo9FYpVNRok2REQoqIh4uWuTh5s1hDp/K8fT2BCsWzU1z55FdKsM/G8UB6BwYu04TyiqptVtNvY2osakTyGDcHraWP3R4kMNH46TSNrY98oOKJR1yeTmlUPlMURb10FDrI5m0ON2a5t9/3M76VWHuuKF8wud395ts3Z3m8RdTxFMOkaDGDVcE2bQmQN0Mmoy2Izl2OktlmYui0Pifs2VLOvqha0ByshPa+tRJTwCVxbC4RrBphaA2yqQaEbNBMiN5dq/F4ZMZpIQ/ubuIhir1ufKmZOf+NCsW+4e94ZoW+oiEdLbtTpxXAD4bQgjwBdF9QahsGF7vOA4rN7+bXEcHuY4OZKyNA04taAaF5gVIyeADD/LSf38bgOKNa0gcOo6nvERZFZVHcZeVULxx9az371yDGL9EJSIh4FDBkkgCG4CXZ73F1xGe6nLmf+Bu7KxiQTjZPGiCfN+A0oXIZDEHEzhZxYgQLoNcZw+2hKJCAKZgoR4LlxMDDl53A7Jb2RaVbLqEga2vYISDGJEgrrCyK6q8bg2Va6sK7IcCE8IXAF8QUVqFZrgQ+sxYEDC+7LFgno+evhxbtvVz7ZVR7vtFLwdO5MlZ8JZrDJYv9FJeNPuZeSEETY1emhrnzpKoqZYR7zUxshBCyQAO+7xR0BcWEPKe5fNmqwzOcWAwqaQl9+yPkc+Nt5R/YEueR3YkcRtQGjDxuKC6zBi+VZUZs5omTKZsmttzOBL+5l+aWTg/wGc/1jDub93WlefBJ/t5dkeCxY0BljR42LzOz8rFk3uunQtHT2X502+0AVAeNVja6MNw6Rw+mWH9hmq6BgW2ozz2ciasXqC0DerKJm88nQ/SOcnzr1q8sF/pSqxf4uGjbwkSKoxISyn5/oP9HDht8/kPjTQtdU3w5itLeHZH8jXRLdE0Da24BFdxCcHlK4gC61EnqBcOFSYxhWDZx++k4q6LybafwU6kCJ9cRr6nj1x3H8lDx8k92zf+8m0GOFcG/LVZv+sbFN6qcpZ+5TMzfl0ub7PzeIYhNp5HmkRycYx0nAXf+RJWIomdTCOlpPiytUrAJ54sWBYlEVYWu/W40oEwR0TYZUU9uYsKLAgh0HQXmuFCc7no1BvxujT8HqFu7qnre0IINm8o4cFfn+FES5bHnhvkmo0RPvi2sjnNbuYSiydpLtu2ZOueFG5DcOnFoy/hz/U5Rg7nP7h9AT39Jv/58x62vjJSF79xo5dQyEU8JWnrsGjvNscMXAAsr4fSYo2Nq0IsbZyevfxAzMTr0Xh2+yDN7Vm+8tkFFIVHMtmTrVl++sQA2/YkcRmCGzcV8ZZriigtPj9KXfEoRbjuPovuvhHpycGYydqFHurLBbVROWZqbq6Ryjq8dMDm+X0W2TysbNS5dq1BRfHYbT75UpJnd6a445owFy8ZexW1fKGfh56Os+9IhjXLZ6brKqWkta0Dj9uNz+fF5/PimoUSYW0Ubt+gBqxOnIHapiqKg+dmQDiOA9+5d8bbgnPT0J6d1TvOAEKIG4BvAjrw71LKvzvrcQ9wH7AWpUN8l5TytBCiATgEHCk8dZuU8p4LtZ+6rpwRAh6dmqiLSCCAEEPd2otm9F5DDAiZTeNYJm5fAMcycax8YWli5U3a0hLLGZvB+dywboFrWPx8Ilx1WQkHT6Robc/wjS/Mo7JsZu4erzcsW/L8rhQ/e3KQngGbaJF+VgCePspKXHz2w9XcdirD937Szam2HJtXeykZDlre4W2e6bPo6LHo7LHYc2CQR55O8osn+ykK62y4OMQtVxXTUDt55n/bdeVUlnv44tdO8tbry1i3cuQyOpWx+dNvtKFrgjuuK+aWNxVNWC6YDlJZyalOhzODkqNtkjMD4PYY5HMjehnLFwf41HtKqYiO1hee/TEgpaS73yIc0PGNCuKWLTnRCQdbJMc7JYa0aazSuG6di+qoNu49Xng1x6PPJVjT5OVt142nMF60RE3Rbd+XGhOAuwccHttu8pYr3BQFJ/4cjuPgchmk0mkSSXXCNQwDn89LSa4fPRhBhEoQxtSayx4XbFoGlyxUTeapoM1CO2QI55qEe0FKeYUQIsFYNxkBSCnleRVqhBA6cBQl9tMG7ADeJaU8OOo5nwBWSinvEUK8E7hdSnlXIQA/IqVcMZNtno8aWjZvo2sC1xTmf3MFKRXFK52TpHNK6Cadh+W1+jkvVaWUfOAzh6iv9vDlTy+Y833KW2DaYthhYvRyqCTgyFH3HVVOMO1R5QSppvHd+ojeRCxu8t8PdODxaORyI+lowK/zoXfVIAq6Evn8KHshg4JrsypNKFF5gdcNHvfZlCdJIuVM28kilbHZuS/JS3sS7DmYwjEt1q8K8+G7qiZ0840lTD7xxSP4fTrfvnfJOArgnkMpFs3zTosNMRrprORUl5KLPNnh0NmvfopL6w2EJphXIXh5Zy/bdscBePsNJbzzppI55V+/uDvJ136gJux8XkFx2MVA3CKTdVh3eQPhgEZTHaycx4SjzrGUww8fT7P/pMX6JoO3X+0fdko+G//4n2fYfyzD9/563nCJbd9Jmx8/nUfX4LbLXaxdPDkbREpJ3jTJZLJkMhnyuTzl+x8dPv0IfxgRiiLCJeQSFnpxKe7KanS/OsmblpKiPHkGWnuhvhSuu3jqv9Gcq6FJKa8oLOfWbGwE64HjUsqTAEKIHwNvAUbbCr8F+FLh/k+Bb4vXKZ3b35zCcSQ1UeVHdb7KUVNBCFHQYZgZnUsIwab1RfxqSx+JpDUtixvHUdoQg0nJYEoykAA0iGU0snnFB87kVbAsC0NmvDhZwa5+4vcP+yCdG2U7JFRDrcgP/Sn1nO5u9aajgy+owP3qaRXUi4PQ3DU+YXAb0DcwdqcEKggHXXkcG4qCgqKQpm5BjdIIVJUak3KlAz6dzesjbF4fIZ2x+cmjPfzssR7yps09766hZJQWhJSSb/9XB5Gwiz/+UN2E7zldkSTTkpzqsDncYnGo2SLgN2jtkbh0mFep8eZ1Oo3VGrVlI83TIleQPQcSfOyd5Vy1fu4aWEOIlox81kxWksmqMprbpfGOTRqNlROL+li25JWjFj99Ok3elNx5tY/Nq93nFAC69OIAXb0mx5tzLJmvrjguatSpjnr4yRaTnzxjcqTV4aZL3RRPQGYRQuBxu/G43RRFwooFUfYenEQfMt43suw+TdsPH8VJqQOw76KbOLzp0wjHRmo6SAcQ2IkkZgyMcPCCXElOdxBDBypGP19K2XKe264BWkf9vw3V4JvwOVJKSwgRA4a8rOcLIXYDceCLUsrnp9pg4uBxXthwxzALQvO4cRWFQFKwKfIOC/RoPi9GKIDmcqEFfFirN4GUtPbm6OxJUy4yFAUMfGE/esCHNsXUzWuJzRuKeHRLjJf2JLj+inMT25/cZbH1gFNQIFMQwKJaDamprDIaHqGlBbxqCmvI3HJ4qY1wgbVhLvBMKGQ+/vCOeTR35Pnpk4O8vE9RI4Je+PiN6g2klNiONsbjzbKVwlk25yKbl4WThRw+cfT3a/QMOjSfsdl73MQsxOmyoMmx0xlqyl001rqZX+tmfo2bhhoXPs/YLNXv07n7zkpWLQvw5/94kkTS5m8+0zicZW7ZNsgLO2PcfWclCxtm7knV3W9xtNVm30mLY60WeUv9DedX6Vw0X+OWjfqYgHs2Vi8LcP/XFsxZ1mta0DUIXYOS453QG3cTCLlJJUb6F+9/S5S3XjPxsZXNS3YedXjxoE0sJVk+38WbN3iojE6d/a9u8vPtH/WyfV96OAADRCMaH7vNzdZ9Nmfigod2Kh/GpholHjXZRxdCgD+E7g9BRcPwescyaWi6lnxXO/muDsyY+v2q4CtBKBbEwH/ezxP/9Q30oJ/Say/H7BvEUxHFXV6KpyKKp6KMYNPsVRmmM4jxKeAvgTOM6LhJlE3R64VOoF5K2SeEWAv8QgixXEoZP/uJQoiPAh8FaPRH8FSWDbMgrME4VjxJrrNbrSswIYa4ga6SIsz+QfB5ib783HAksYROB0E6UtC3YhOk02heD9E3bSB15BRGKKiYEOEgRihA9JIlRJeVovkKOhBDS38IvbgU4XIjtLkTllk4z0dpscFzL8enDMC1ZRqXr4DioKAoKCgOCiKBqUefLxTmVbv59AfKae7I87OnYsMjtqB+TEPlh7GYXmNOSkk6KxlMStrP5Di9wM2p9jz7jmV5bpfKhBbWCMJ+wXVXFHFxU3DMlc6qZSE++I4qXtgR4/CJFMsWBekdUGIyTQv93HnjNB2xpaSly+KVwzleOZyj9YzFRYt9JLOCS5e7WdpgsKjWmJGq2PkE35ypAm7nAHT2Q09CxaCKiKqBXrYUSrUQDzzWB8C7bi6ZMPj2JyR7T9ps3e+QNWF+peCtlxksqnFPO3v0eTUuWuxjx/4077t1rL6GJgRXrjTImXC0Ew63wzMH1Em6qQYWVsppMzs0w4V3/gK881WZrhRYKeFgG2w7WphCFYLGWy+jbLmHbFsn0rYxeweIv3qY3Jk+rJhqeNb93p3T2uZEmE7a9gfAEill36y3MjHaUZziIdQW1k30nDYhhAFEgL7CUEgOQEq5SwhxAlgMjCvwSin/Dfg3UDXgSx767pQ7Jh0HJ5fHSmdwMjlyqSyHh6wbhEDYFt54P8ZAP2Vf+n2cVAorlUHzenAXF2ElkpjxJNmObqxEkmCZTja+G85qqmlV9WhrCywITUcz3CoYGy78DRfNWiZTCMENm4rZeSDNYMI6Z8OnqV6jqf6N57E6r9rNTVeGmMuSuxCCgE8Q8EFNmZ/1K0ay1YG4xcm2PDv2xtiybZDndsQoLTb45p8vHFPzvWFTlO/+Tzu79iVoWhjg/l90YVoOn/5w3ZRMk+aOPHuP5Xhud5beQeW5tqjexTuvD7J6qYeKKazhLxS2H4NDbSqLLI/AqgaoLoGKiDJiBZhfGuLXzw3w5ssj3Hn9SPAdSEqOdsDRdqVbXRoULKzRuGKFRm3p7L68S1b4+bcH+mjtMqmvGt8087jgonpYXgstfWrfd5yQmNkBwj5J0O8h6Pfg88yM2ikELK9TYuxbDkBPHOZftZLyt0yca9rZHLkzvSoufO8rs/qs07Ekega4Tko5QeVv9igE1KPANahAuwN4t5TywKjnfBK4aFQT7g4p5TuEEGVAv5TSFkI0As8XnndOiczZNuEsW7LrWBy3S1BV4qEsMj1L7tFQLhh5nGwamUkpJoRtQziMY+WRVh5pmkgrj2PlCS7dcF41p+aOHH/w5WY+elc5N22enefY6wEpJfuPZfnJrwc4dCJLTbmLb/5Z3dQvnEOYpsO2vQlePZziE++pGvc9HDiapKHWx3MvD/CN/2jl0x+u582boxO+VybrsHV3it9sT3CiNU/TAh9FETdrmrysXuwhPAvPtblGX0LV9ysiE11djMB2JJoQ9CWgvU+yvwV6Yuqx6pKCHko1BLznd/U0GLf42L1t3HVDEXdcO71jN5aWZDNJEukc2QIjRNcEQb+HcgZx+UOIQNGYpCaelpzocDjR4bCwRmPVgpHHHEdpQUSn2QGb8yacEOKPC3dPAluEEI9SyDoBpJT/ONONjUahpvv/gMdRNLTvSykPCCHuBXZKKR8G/gP4byHEcaAfeGfh5ZuAe4UQJqoscs+F1Cc2dMHaReFCTXP2Qwy4PehuD4TPX3h6Ksyr9rBmeYDjLdk5fV/TcjBtgWmpGuzQ0rKVEI/jjGVADA2hDVkUDZ3vpVR147ytCgh50+Ghx86QStv0DZjDdeN0TrLvtIOuqVqzYJS9kEsMT77NZVPU5dK4cl2EK9dNrPa2fHGQM715vnt/Oxc3BbnuyvGS2afbczz2QoIX96TI5SV1lS7ufksJV64NEApcWB3jmWKqIJPMqgGF9n5BR78K1hGfypg3LVdBdyaOMKPxqxdSzKsyWL5gZMS3KGxwyXIf2/Ykpx2AI35BxB+iIhrCsh2S6RzJdI5M1sQ+tU0pFgrBz/uu4EiinBKfSX9mpLnoSMmqUaQhTZt+8D0fnOuaZ2jzLYWbu3CbM0gpfwX86qx1fzHqfhZ4+wSv+xnws7ncl6kwWU30cLtDX1KyvFabs/n5ucLyRT7uf6Sfd95sUl5yblK640j6E5KeQYeeQQdbCgaSGumcamqls5DOQ1kE4rnxAcTrGmP0MgY+D2RyY9cJAaVB6BpQDYVk3KSlfeRkMRSo0zl45GX1n4oiONE2/kLM74GBwRwhvyDo0wj6xbDfW8RrE40YVJUaFIe1OWlUOY7k699rRgKf/kj9mPds6czxPw/1crItR97WuXxVgGsuDbGwfvp10NcTUkIiC90xdUvn4FS3esznVoMKtVF1mX6+KmG/eCbJg88k2bzWNyYAAyyq97D91TS9AxZej0bedCiJTK9EY+gaRSEfRSGfkkUtvwWZHMBJ9NPToagTo4MvQGD3o/QcOY5RUY1plKCHivHVVeGtqUBzz2nYG7uvkz0gpfyrC7bV1wnpU63s/dAX0DwupQXh9aCH/AhNRx9iRhQ0IjSvW+lCeEdYEUOuGZrPozQfdJ0zMclACrYcdKiLwrJabVouqq8FrlwbYvurKXbuS40pQ0gpae0y2XcsR8rUONEFfTE5ZhpsSb2BhcDnVpeUZREVSMN+8HpUNuo2FBfXXWiMuY0CA+JsJgSqqTzk+TZRIJLSQ/4d89i5P83/PjZIR7ciCJeEBPfcpCnzT1uSXekiZ0rypjIKzZkSy5L0DbpJZCTJtMNA3KHlTMFmqD9F3lQB3OMSVER1qsoMmuoNljR6qKuceRR5bEsv2ZzDR95VQ2WZen1Pv8kPH+lly7Y4Xo/G7deVcNNVEYJTuGW83rBsSX8SBlPQMSDojo1ws92GKi1cughqokqfYy7OITlT8tiLGR58JskVq33cfet46ty6FX7+55EBduxP8dyuNJom+NInKmY8oiyEQPiCSg+irI4/bIR42uGBLXmae0bKP+X6ALmTR0jteJ7Ogw79Lx8ZegM8VWX4aqsoWn8xSImnshRPZZlaVpThqZlY72M6mA4LYjHwGZTN72ga2tWz3urrBDudpW/LNpxcXrEecnlcxRFynd0TPt9dWky+d2Dc+sjaFcR27Ufzesj/14NQ1wBAa6+ktdsEXafm+1/GK2yMUIBwUz2RxmI0rw/hC6D5/Gg+P/gCGOEimIUOxHRQHnWha4InX4qPCcCvHMry9ftUT3XDygAVxV5WzNcoL1KeYWVFyin4tczYFH9T5/I1ITauCvLinhQ/+dUAdVUuioenn861P+MzfMdxGIj76epTHm+dhdupdpPtO/uIJSzqqtxctibMZatDzK/1TPmZO7tz/Ov/tNG00M9NV6nSw9ZXEnzjB51I4Nari7nzhpIpnR1eDzhS1T37EtBbuA2m1BVIkV+5XleXQHlYNeMi/rkJuEOQUrL3pMOvd1gkUhrvvjHMdRsmHvWuqXBTVeZi14EMd1wb4R/v6+W+hwf40B3nb1Uc9mvcfYOH3+y2eWG/yjqWf+QD+L1345h5Sk+2kWntJNvaSaa1k0xLB5nWTtKn2+h/fscw+2EIte+/fdb7Mp0m3F7gX1HWRMNtfCnlrllv9XXCRE04x3GQpoWTyRaoaFnsbH7s/8+yK5JSYvYOYKfSHL/xo9iB8DBDAtsGXSf4x3cjTxzHSqSYd+dlFBXFxu2PUV1H4PJLFbPCcIPhKbAg3PSWrEDXdVyGGoN2GRpuQ1mHzyQwPvlijGd3JPjI28uYV62ytXTWYcf+DCsWeYhO87Lu9cCx5ixBv0ZV2dxfAvYNmLy0J8GLryQ4cCyNI5U04uc+UjPpaxxH8id/e4yjJ1N87/9n77zD5LjKdP87lTp3T84zGqVRtmQrWbYsZxxwINgYTIZd8hJ2F3aXJV7CksMGFjAs2YDBa3AA2xjnLMlBOWs0mhlN7AmdK537x+lJ1kgahZEM977PU091V3V1VXVXfXXOd97vfb+8iKoKdVz9gw6/vLufm64up/IYqZ5Tga4+h5KYTvAookEq2E501k6moTwm6UupHkx5DCpial4W5agl7ieL9j6fe552aeuR1FcIrjnXoKnq6AOQv71vgE07s/zz39bwu4eGuevhFO+6sZyLV546oemd7T59Q5LzF009L+/l8hS6+yh09VHo7sMsjVNx4epT7gk3AldK+d/H+8V/KdA0DQIWesCapA11bOx7zsPzIGgJZlULmitN5U312M9GP+O7LhTy+LkMfq6oA5HLIvEwy8uRbqHIglBsCC+Xpj/l4Hr2YftrHyjB9lR1XGlEVYeVRCARlpPmqVcuifC923p5bGN6NACHgxoXrngZqaWPg5SSF7Znue3eJDv25TlnYZhPvu/IQfFEUV5qcs3FZVxzcRmDwy7PbEqROEar9Z4H+3hhW4oPv7NpNPgClJeYfOBNNaf8GCfDcMbjQ1/qRNNgXnOAZfNDLJgdJGdDKBIYbd0GDOguPvMNTV0nLbVQEYc1UVWdON09HCmVFObm/R6Pb/KIhOA1aw3OnqsdtRpuBAtmBfj573t5YUeWm64oAU3nt4862H6eV6w6dm9lKpjXoDGv4fi20UNBws0NhJuPc8NJMJUAfFdRk+EOJrIg/uJckacDS2eoi6CuVBxxgEczDDCiaJGpC4EvRbW4HM9XzANX4rg+LoLeYegegD2Hxj7vZXPYBY+WJpMFMwxmN6i/tiRmcNm5cXbsy+H78oQHoVSNvWIl2EUWhO3K4lx1AGx3jAUxogchpcT3x2kyjPtOU5e4vkATMDhoc+d9XSAgOY4FMZSR7G73MQ1VaRcwIRxUeg9TuYmngpK4wRXHKFjp6i3w6LMDnHtOgqsvPjFvt1MByxTomvptt+8rsH3f2Ojm/IVlzJoVozymUghzaqE8qvL2Y3/79KeVhrOS7QcVP3cwA5GgxrqzJOvOMghOYXzk3sdThIKCtWdHiIQ0NmzOcN7ZMW68LIbt57jriQLJYcnrLg1OuyTAdGMqAfitxflHxy37i3RFng54xbxaRVxwqtX+NE0Q0HQC5lj3qGpcnHA8dYEPpmHHPo0t+zz+8GSerft1/ulNYxya+bOC3Pf4EDv251k4+8hC6sMZn7Zul/ZuD8cXdA8JMjlljZTJS1wPZtVp9KQO766Vx2Eoc/jNoAkQQk6aS4yHVPWUL6F1zyDJQWd03UhmrGtA8uP71fKmStjeql4LoQYFwwFBTZkgl7Epj+uUl+iUJzTKEzplCZ145ORz2b4v+cYPD7LnQJ7vfmH+acuNu56kZxAODUhytuBgPyRTgmDYJJMe+61CQY0Fs0O868YoJadooOx4IKUS1e9IQnuvZFtRYKChAlbNhTl1AsuYWv/S9yV3PDjEwllBLlwR5ZxFETZuUTospiF4y1UhyuIaf95QAMPgoqUGtWV/uUH4mAH4r8kVudDVy75v/g+aZRW1IEy0UAB95H1QmW1qQWsCI2KE/SAmkZ1r6/PPAdR0AAAgAElEQVQZzEBbn8fcGo1Z1eK0lfGauhLHqYzD3Log164Nksn7DGcm5vVXL42yaPYQT2wYnhCA97cX2H3QZedBn4M9LkPpse2WzQvgoQJYbbkgGlQVZPGIIGBpo0JBIy1TU1c3iCbGWBAq+B77t1AOytWkMhU8siHF7fcmGc6owZFZtRp/c42pWtqO5Ow5Gtm8UojL5lWLXCA50O+xbZ9DwR47h1BAkBtO0dIcZP4s1VWf1Rg87pH0ex7q58XtaT709kaqK6aHkuT7yqOvZwg6+tWDp2dI9SgA5jeqh01zJeT6AqzfpALw0nlB/u7mitPOLXY8Vb7cmVSBN1NsiNeWwJr5Smg/Hj7++2DLnjzDaZ9Vi9V1umJJhMc2pNhzIE/LzBCaEFy3Nsi8GSZ/3iT4xcOSeQ2SCxadOhul04mjFWJcIqV8sOiIfBiklP87fYc1Pch3dLP9Y1+esMyqLsfunrzK2qosw+4dy7RolokWClKycgnZ/e3ooSCpz/0H1DbgS9h5yGdXax5pWsx44GeENRc9EibcWEG0Pj6qBTHCghDBkGJGnMImSySoEXmJbG0ooFGaMHh0Q4q3vbaKvQey/PzOJFt25zhrQQwjHGZBs0ljlUFjtU5DtU7kuJvzJ34OQgiEgETM4LqLS7ni/AR/eHSI2+9L0lRjvmSw5kiBJjSq9dA/5NE/5NM34LJ9t8f2vXme2aS0HixTMH9WkNWLg1y8ppTQMQwgD/UUuOVXnSxfHOOqC09+BH4EmbzkYI/PwV41b+9TTh4tTQb9KagthdUtqnVfW6rSCCPXiZ8LsmFTmhuvSPDqSxOnVHrySCg4ssicUHPpCw4NKm2OmhJY3KgYFNGTqIKzHcltD2RYdVaEZfNVAD57YZiGKsEzLwzSMnOs8TCvUWdmjeTZXZINe2B3h+T8hZJFMyA6jcLzpxpH0wP+rJTy00KIH02yWkop3zG9h3bqsWL5cvnUQ4/gF2w15Qt4+QLSdoq0NGVTNGpZVLDxMjm8fL7IhlBiPVowQKGjGzebo/s9n8QvKZahjjAhAPGpjyLuVzUmja9bSyzQe9jxmPUNVFy8BgzFfMBULAiMAAPVS9B0HUPXMHQN3VCvdV0/obzXxi1pfnx7N6+7upx//9FBWmZFWLO8lHUr41PWyD3dUKWvp2awaGDYZce+PNv35ujoLvDks0miYZ1XXlLG615ZRTh0+G/g+5J/++8DdPfZfOIDzVSVn3jrdyjjs6fdY0+7y54Oj3jMpGtA9RJqygSNlYLGKo3GKkF57OhpEyklmZxP9Di1hacKX0qGczCYkaTzqoWbKtbIaEIxJqrjSripMq56PCcLKSU/+N0wT7yY58M3l7CsZYyf/aHP7kRK+PfPzJt023RO8sQ2SSjo4EufcEBQndCpKtEJHUFu9FTjREuRj0lD+2vCyQiyHwn3vuDieOrCbCgXzKrSiIWEGnyyHbx0Bj+fQ5M2fi6Ln8uNsiGEJgjWV4FTQDo2uIVRJsSBmnPx/MP/m9bhGtJ5jWiQCVNtqXJQPhIcV/KWf9zF2QsjXH9ZKQ21QSKTBJ3/V7B9T4bb7+1jd2sWy5B86kOzaKyd2HX4/Z/6+O4vOvnIOxt4xSTlxkdDruCzda9NW69ka6tHz4DKJQQtmFVncNYck7oKnfoKoVgzZwi+VEE2lZMMpCWDWWVNP3LplUUFIKiICcpjinlzqge+pJT88akct92f4voLI7z64omD1T/930Pc+rsubvuvJcSPIixlu5LeIY+eIY+hrPq9YyHBnFiKSNhCD8cmpBGllPQPK4eR8oRgVu2J3w+nXAvi/2NqmFOj4UuYUSEmSOEJIdCL9DY4fu2Heaibw3N9XM/D9Xw8z4cADGZVfX5/Ctr61M2ydv7RA7BpCK5YV8L23Rkaa4OTtvheThgcdrn7oSRdvTZ//476U97NXjAnwic+EGHLrjSf/dZ+fnlnNx9794zR9e1dBX70m0OsWhrj8mMwJEbQ3e/y4m6bF3cV2NFq4/lKq7eqROO8xSZzGwzqK7UzNnLvepJUTjKUUwPHQzlJKqeun7KIuq4SYWiuVPnUkojyIpzOQcfhjM9tD9tsb/W59sII1194OD1yxZI4P7+ji+e2prjo3In/hZRy9PgsQ1BfblBfbpC3fXqGPPqGPdyunaR9F4Tg8e6ZbOgoo7lK0tankymobZtrBO+97vTfE/8/AE8RB7uH0DVBVWkUY5xG4pya6eviaEKgmTrmOBZEyUuqNn2pdBbMKfyTKxdHue3uHp5+YZhL1pwaQSBfKiqa4yojTV8KZTkk5Zj4jvIyRROK2TFSkqwJiWEIJehuqPPt6C5wx/1JHnhyENdVzbD3vbF22h4Yi1ui/PtnWihNjI3Se77ke7/owDQ1Pvi2hqMGoN6ky8PrUxzsk2zarQbG6ip0XnFumGUtAeY0mqfUEHUw5fHkizlamixmNZiTPpikVIOUQznBcFYynFMphWxBFWIMZNQAbjysBvXiYUEipPK3p4vhIaXkud0udzxm47hw/doAa88yJqUWzpsVJhrW2bh5eEIAbu2W3LfB4+pVOo2VE7cLWhpNlRpNlSa+swo3M4SXGWLTCwlyjs72CcK3kqr0HvIbk+gVtRCvwCgpPS2/xf9TAdgZStH7p8fRApZiQgQsNbBWdMfQg8VlwQDCGCsPllIyWEyCJYdzVJVGqCiJnJbBj2NBExw26HYkLJgTprLMYOPm1DED8HDGZ/Neh+GsJJX1SWUlqSK7Im3roxxgZ5w2TjyqkbcP/03qyqFzknHO5mrBnnZVXGkXHPZsaZ/0WH75QJ5ISCMeFhiaT1lcoyyuU5bQiEdOXmCntmqiHsTtf+xh2+40H3pHE+WTuBbbjs+zm7M8+HSKzbtySAmXnZ/gjVfFWDrXomoadX037S5w6x+V70AkJFjaEiQW1SlJGNTWBhnKKkpYaVgFXlApqpKwoKlcqYbFw4KgOf2FGJPB9RRHeP1uiWf7VJZovOGSAFWlR27I6LrgkvNL6e13JrR4fV+Ss+FH93ssnyO4ZJk2qYi9ZlpYJZVQUsnH3wo9SYcf3WuTTKv0Cgjqup8hu289AAeeTdP96DZCzfWjBRfhmQ2E5zYTqCwjWF9NoLrihPW6x2MqWhCPA4+gNHefkFKmjrHJyxbZPQd49up3TlhmVZVh90xSU6JphBprcVMZ9FiEqnt/Cag/vTuZoat7CDIZvP/8gUo1hIME66rxbRs9rGyK9EgIIxrBKo8TrBjRgAihh9XrU/EHHg80TXDpeSXc+vsu/uam2gmtvpciOezz8/uULVDQglhYIxYWlMY0aio1LENgmarlPUJHs0xVjKIGzhid66IoVSmV1ZZEvRbAwhkajivJ5TW69uv4PmRzE4XrD/Z45G2PUAD2t+UmrNM1KIlpVMc8GmpM5jQFmDMjOGXlrJfiQEeOn9x+iJVnxblg5UQ5yv4Bh4fXp7jzwWEyOZ+KUoMbrijholUxqsuntwTZ9VSKwBVj55XJSZ58cez3uOk1NcTDMLMKyqOCWFAQDZ45d5PxyOQlm/bDxr2KV14Rh/MWm8xvFFNKyTTVhbjnwQF6+hyqi6Xps2o13nuN4OFNPs/ulPQMeVywRNBQrh214KOqzOSDrzW49c82u9pVrnjh376DqPcavL5OKuq2Ys1ZSK61nez+dvofeQYvnaXk3GUMPv2C+hJNI1BTQbC2iupXXX7Cv8tUrtI3AxcArwW+KoQoAI9JKT9ywns9Q4gumM2aW36KbxdZEAUH31U6EKPsB9seZUBI18NNZVTudQQjTAddQ5QkGNy4BW9oGC9XILFsAf0PP3PYfmuvW03APbx1F5o5k7orz0MYATAthDk2TzcsQegGuq6j6Rq6pitWhGGclA32BStL+PkdXTzyzCCvesWRLXTqK3U+/644sbDAmqLNy8ni6jXzlH35hmF+fHsP3f0Olin4zDtV3kVKSSobZWDYIznkkRz2SRZf79qT49kt6VHebFlCZ86MIKsXh1h5VmxKjAHXlXz1e22EgzofenvjaEsrnfH47X393PVgkvJSi7MXRrhkdZzFc4OnvBc0IgeZTBV1HIqT0Iq6y+7YLTuy57XLw1y7LkLdCTpQTBcyBTVG0dYLPcPQPyCpK4OVKwXNVcfXAl/conLDW3dnRgMwKIW7K5brnDVTcrDPY9chn12HfKoSgsZyjcrE5IahoYDg7Vda3L/BJZnySUQ1oAw9UUbj7Ilm61JKnP4Bcm2d5Du6yXf2kO9U80Jn91jV0AlgSiwIIUQtcCEqEF8MtEkprzzhvZ4hnCgLwnE9drT2AWAaGpWlEUpjk6s4+Y6jqGuZHG4mi5fJgW+jUSgyIJQOhJfLoVsG8Vk1igHhFJBOARwb6RToarmQyf6bmro6QqHjN34cj/d8fDvRiM7X/rXlpL5nOuG4kvseG8B1Ja+6fHK3iZeiYPuquORAgT1teQ502uzeq5xMLliR4A3XVR1V2OeXv+/ksfXDvP66atatKqVg+9z90AC/ubePbM7nwlVx3nhtJTWnSBzI8yX9w9A9CD2Dkv40pAsC2x27ruJhVU5cV64qB0uj8K//3sXAsAoaH3h9KQtmnqQw7ymClGpQr60P2voEfcW+ciKs7N2bqySlJ1gs4fmS171/KxeuLuGDbzuyBkOmIDnY59Pe72O7Sqd6UVWakoiOFY6cUu/F8Zg2FkTRb60PuBXlUPF3UsojaW//VcLQNarKIgQtg3jk6CIgmmmilZiYLx0tO07MkFK5AHsevu/heT6+52FZJ3+z3XB1FV/+zl42bh5i+ZLJXR/ONExDcM3Fx0f9Clga82eFmD9rjA6y50CO+x4d4JFnB7n5uiPrtu5pzfDDX7WzblUp61aVsnlnmrseTPLUCxlWLI7wlldVMbNxisn2SeD5kp4BSXufpD8l6R7S6BtmVIPZ1KGqBObVqSA7olA22eDqRSvCdPa4vPW6BPEz6K4hpSSVh/6UpD8tSaal0gPxdDQNzm5W5eOJ0fbC1INvwZFYxlgrWdcEC+dG2LIrc9TtIgHB/HqdljqNniFJe7+PP9jOYNIGBGYojBWOYUZimIHwEd3M87aktUeNrzRWTF8PcCpylB8C1qLMMXeg8sGPSin3TttRTROmgwc8nPUpuJKKmPYX4XgAahDprR/ZRGnc5L++sPAv5rhPBo7jY5qTd9Ftx+e9/7KFwWGXH35tMX96bIAf3tZJU22Q97+tiaXzj185bijt09bjcbBX0N7r09kvcYqp7WgIZjeYVJVAdYmgqkQF3VMlLjRdcDw1IDuc80llffoy+mgJcshSeefymKA8KgifhLSl7Ui+/vNBZtQY3HzVmKbJr+/u4Xf39/HdL7SQOAof+KXwfQ8nm8bOpnAyaZy8CuKhrc+gZ1NoFbUUSmewjXlo4Rj7B0N09quxiqoEvOXSY6d2pq0FLKX8NvBtIUQUeDvwGZSD8cubSDoJfNshf6hnjP0QsCawHU4EOztdBjOSRFjQUmdQEnl55eEmg2VqvPWGer5xSyvPPD/Euef85Zh2niiOFHwBfvrbDva15fjUh+fw7R+188SGIdauSPAPfzuDyBRyx1IqK6e9nR57Ozz2drj0DUniEYFhWdSVC1bO12moEDRUapTFzgwD4XjgepJM3iOd84p0Np/cOJ2NcEBQWyKIBE8+4E7cr8/3/neYPW0Ol66aSGxfMj/Gr+4bYuf+PKvOmrqyoKbpBKIJAlHV2/M9DzubguF+ZG8HXk87m7rKeLak2EMaGeeREn3fTg7s3URkdhOh5gaCDTVFbv+pwVRSEF9HtYCjwFPAp1CMiL84pDbv5M9NF0xYZlWV4Q6lR6loI5MeCGBVl+MX7HF2RWp5sKEGL5NDCwXIXPVGSJQzlPFYv0cSSfUSddPUOH0YoSB6OIQRDWGWRNFCITUdodtzOnH5ugrue7SfH/66g1XLjq4nULBV6Ws655Mp2v5kcj4SjYKjrIw8T3WzPV/pDedsOYH3qwlFm3JcOcqgCJhi1FgzaCkXjkhYm1DQMt3wPMnmHSmuvKiCX97Vw8FDed59cz2vubLyqEEyl/fZus9m0+4C/cOStn4V4KMhwaw6nQuW6syu06mvVKXkL1dIKck7KthmC2qeyfsUnPGiRgaRoKC2VCcW1oiHtGlhVnQlJXc+7ZEc8nnDlVFWLZqY8pkzI4BpCLbvy7NySYSD3R5NNcd/L2m6TjBWAqtfMbrs/EKe8NYkzx6MknWLjBYh8P58H1tu/y4AJWvOZvCp57EqywjWVRNsqCFYX03Z+ctP+JynkoK4AcV66D7hvbxMcNbM2fKuf/48vu2MMiGklHjp7Kg2hF8YWweKO+wXtSG84mdCTXUMv7AdL5dH/9UdiIbioMA4LQjnb96GfOE5AKquWAGDYxkbYVnooRDhmTOYcdUqpf8wyoIIgGFhNy1E6CZCV+wHTdMRugGaiW5MTdD6WHjwySRf+s5+Pv2R2Zy/XLWC+wddNm5J03bIYV+7zXDaI+1NnneurrAYKqbkBKDrihY2o86go9cfLcQYcUSeXa+zq+1wU83Gao29B8Z0bS0DImGNihINXXpUlRlUlenFuUFlmU7wFNb4e77EcXye3DhEdYXFopbJW1c9/Q4bd9hs2lVgZ5uN56nR9CVzAixdEGJOg0F16cszFSWlpOBKcgWfbMEnW/DIFnxyhbH/ydAFpi6IBPWiqJOaLGN6HyB5W/LwJp/1uyQhC165UrBgxuQ9j49/qx3fl1x7aRU/+2OG998QZcmcU9cizRYkf9wg2V+Mdq8+F+q8brL72sgf6iG77yD59i7FhujoJt/RRc1rr+Ss//rs9GlBCCGuQ1nBAzwipbzreHf0csB05IAf2VrALsaUgOZRo2cI2ynC2UH8XB43k0VoEs3P4OVy+LkcXlZpQujhAJWLGw5jQODYDC29bFIWxAExn8GcNmqKaRmqBNr3NBxXEA8zOkWCR88rer7kE1/bx8CQy3c+14KmCb58SwdPPpdmUUsEy9SoqzKpqQ4Rj2pEQppyHQ4JomHFtTQMUZSfPHbQ8Xwf1xXYrsQuGmvarqRgq1Z1Kqta2KliC9t1JfsP5ulJuuQKE3+LqrhHU61VlJkM0VRnTUuJbybr8eQLGR56JkVP0sURARqqDM5qCbB0boA5TebLgmc7AiklOVuSK0hytmrVZgs+OdvH81X1IaheSDigEQpoRAI64YBGMCAwToLieLzwfcmWVsmfnvfJ5GHFXMHFSycvphjBz+/s4/cPDvI/X5jJt3+dpm/I51/eGqe67NRlRKWUrN8N2w9KXrdWHPV4QKU0dMOYngAshPg3YBXwi+KiNwDrpZQfP96dnWlMRwB+bq+N68OMSp2qxKlr/UgpkUUGhO+5o6+TTpSsLbCLjhQj8/5BnV2dE/etCVjZAhcuPvJN9fDTA9xxXx83XF3JBStLaO0oIICmupePjbqUKkD3JD16ki7d/Q679mbYvi/HwJAa2TpnYYjSmODqi8qZPeMoohhTgO/7bNqV5+FnUjy7OYvtSBpqTC5eFWPN2RGqToPvm5SSz92SRNNgxcIgyxcEqCwd6257vipoyNkjLVpJpuCTK6gS8JCl8qkq0ApCAY1wQCNsaYQDymPwTCGVg92HYGenZHjYQ9fg6pU6deUTr7fxVW8j2LAlw8/u7OfdN1VSVW7xxZ8MM7fJ4sZLQlQkztw5TZsamhBiE7BshHomhNCB56WUZ53QkZ5BTEcAztuqCxc+ikHi6ULBUTzMoYwqR01lJbVlgrl1Rw6kvi95/6d3Y+iCb31yzinVLZhuSCnp6XfZvjfH9t1p7n2kH9uRXLGulGsvLWf2jOPjS0speer5FD/7XTeGFSCV8Vm7PMpFq2LMbjy9DyQpJe/9Ys+Eln88qjGc9nn1lSVYRR3jkoikYHuELBVowwGNSEC12qLB6cnVnghsV9G6dh0SHCoajdeVwsIGOWlRxp52lzsezfOeV4WJhcfurXTW592f6+SGy+K8+tI4nX0u//17lb5665VB5tSfGW7AdKuhlQAj9bovT+LoGcL2dofBjE91icasavOU5iaPF4HigFbFKAX52DefpgnecWMtX73lIA88OcAVU5Rd9H1lUeS4EteTuK7K82oaoykJQx9zxjCN4xN66Uva3P9YPxs2DfOhtzcxo+HwVq0QguoKk+oKk4tWx3nTq6t48MkB7vxTN/c+1MUH397M1ZccudpvBFJKXtiW4Sd3dLO7NUdDjcUNr0hw3jnx43bPOBFICXkHBtKQcyRDWSWeEwrr5ApjOfPhtCINR4LQXKspl5IARILmGfVG60663HL7EOUlOjNqTWbUGjRU63T2SzRTo2dYMpgBXehk8rB8FsytHVHvO/y4n91m84v7c1QkNAoOxMati4Y1GqpNdrSqoFtXYfChGzT+5w95vndXnteuC7BqvsFpzKScFKYSgP8NeF4I8RDq11oH/PO0HtU0YfiFbdxfs1pR0CwLLWBilpfi5+0i+8FEH8eEMEri4MtRgZ4RsR6zrBTpeeihINkl6yAUp3vAo2fApdwZJKHblIUZtTPSQkVLo5dJl/6lWLEkyoolMe5/fICLVpcQOMZD5O+/3k1P0jts+dwZFgcOHV6j0zLDYHebQ9ASBIvd4WBAUFuuY9seJTGdkphOe0eKbM6jrT3L5h2p0QrPtkP5SQPwSxGLGFx/uUqlfOE/9vDAY73UVVssW3TkNkNy0OErt7SzeWeGyjKTD7+tnkvWlExbTyDvSPqGIZOH/rRgMAMDGSgULd6aKpU+bywENRUGyQF3pPKdm6+KccnK8Gm5jkZ6xlPZVyYn2X3QYfdBh6c35yesu2RdgtkNJi21GpUJKA0f2bMumZI8uUPy7IsFZtfr/M21EcKTOGzMa7Z4/LksnifRdUFFQuODrw1x15M2u3t0DqVgabPSxHiZ3nKjmAoP+JdCiIeBlcVF/ySl7JrWo5omWBVl1L3ulYoFUbCRjgOGgTswNOqS4QwMKycM20azLOzefsWMKLpn4PskzlnE0HNbAQj+7k60pjgIgUTQZ5XRB2z/yrdwf/JjAMouWEpu/070UBAtHEIPhdDDIcLN9cy5ZumYE0ZxLswAflMLwjARuoEoMiCEpuPrFrqhn1LSvhCCK9eV8t+/6OT+x5Jce+nRXX8vWx0hV/AxDeV/p+aqEs31RpyRFSXN91XwmNNgkrMl+YKacgVJ3pbs2m8zmPJwPehpm/yyemF7DtMyaaq1qKk4thZGWYnJ5/9xLq9/73P84n87jhqA41EDz5O8+w21XLWu9Kh84eOBL1WZcTINvUPQNwy9wyr/CTCnDoaySuB8RoUqxCiJKNWycED9J86wybbdeeorDd5/Uwl1ldNDX3Rcj4Ljky+45G2XnO2RL7hUl4WpKj08jSOlxPEk6ZzHcNYnVXCxTLDHfEKxTMHSeQHecFHwmILzyZTkmV2wswNMXXDdujDLZh85fTK/OcADT2c42OXQXK8YEEFLcMOFATqS8Px+eHwHbDkIy5qhsfzlG4iPZkl0ztE2lFI+Ny1HNI04FTngUfGego2Xt9k4EMVBAwRC+iSyfeiFPGWdu/CzebxsDs3S8DJDeNmcmopsiEBJlIZz68ccMewC0rXBdbDXXjPmyDgO7ZFlDBc0dE3RhgxdYGhQW2ZSET+5G/RT39zPwJDLF/5xJvHo6eMqK4sdyZZdaR55eoBHnu7HGcdDjZYqJwPTEERMl+WLo6xdkWDxvMhRu97f+Ukr23en+fLH5xMOH/l8JhvsOR74vqR3SNKVhM6kpLNf0pVUA6SzG3WSKUFpFCoTKj1UGVdzpb975O/NFXw2bi+wevHxG4m+FFJKHNfDdpSyXMFxKdguBdtDNwyyeZXq0DRByNIJWgYl0QCxiEXB8cjmXbIFj1zeJVtwcT2JZQUZzkoiQY37Hs+xdY+DAMpLNP7pbWVHleWUUtKfgg27VeA1dFg6E86ZzTGLOvoHXb7xsyQXrYpw+erDqxSlhAO98EKrGgtZWFdgVkWBaCSEZU3PAOp05IC/fpR1ErjkeHf21wDNMNBi0dHElJXLgyNprDSoKzMw9RFXhcn9q6YC6XuEfB98D+l5SN9FFpkQNdKkxNNU3tWjOJcnI8g0irffUMMHPr2b39/fx5tfU3PyXzhFCCGIhgXnLotz7rI477ixlv/66UGe2DAIwE++NIvufpfWjgLPPj/IA08McM9DSUriBjdeVc5la8uIRQ6/lIMBnW17Mohj5EePN/hm85LWLk9Nh3wOdHvUVAYYzCjthppSwbLZGnXlgroKZeVzIoNhoYDG2mXHx+jwfKkCq+OTt4vB1vbIOz5h06dQrIfWNEHANIiFLYIBk5qyMEHLwDQOZ/Ic7M4wnHWKx6QTj1iEAzqhoEk4oDwKU0OCrXuGaKwx+Me3lJKYxGdQSslgFtr7Je1JlYYZGBKcMweWTyHwjqC8xCDvwM5Wh8tXH75eCGiuUjoUe7tA99L0JrP0JoewTINoJEQ0EiIYOPrAquNKhJheOc8jBmAp5cXTtte/IqyYHSi6PZzClICmo2s6cPjT+shyMiePmY0hXn1FJXfc18cVF5adlAnlyaCy3OIzH5nN088N0tNvE48axKMGc2cEufy8BPmCz4bNKR5+ZpCf3dHFr+7q5sPvaGLNORNTDdv3pJnZGD6m8/GxkM757Nhvs22fQ09ap71X9Uw0AXUVGivnm8xt0qgt06iIT40TfTIYqV4r2B452ydfnHK2h+1KwqaH66knsmVoBCyd8pBJOKARMDUCloGhT50yWVsRpg4IWvoRz+3cJUF8KVm5MEhonCux50uGsz4dSUFbv5KoFKheQEutoKGMY1Y+Sqk444FxGr9zmyy277eP2nvRhBrsg3IcJ0E6myOdyZEcTJEcTFEzsJtQbgBRVoMoqSETqiYjI7R2S/Z3Sdr6lMSi5Z0AACAASURBVCjSu66aPmbFVEqRbwTulVKmhBCfAM4BPielfH7ajuovCEe6IPd0Sba1w6IGmFn98hdaGcE1F5exc2+aX/y+i4+8o2la9+X7khe2DvPA4/2sWpbgojUTZSePpFERDGisXZFg7YoEe1qzfO2WNn5zTxeGASvPUkHY83y278lw8XlTk7IcD8f12d3msm2fzbb9Ngc6XSQqz3j+8ihLZ1s012o0VekTgsKphJQqhZEpSAqO4vkqzq8qtEBKAoZqleqaCo7xsEGwyPMNmjoB68QctF+KSPDY6SjDEKw7J4znSwbSHoMZj8GsTyrnIyVoWoBYSLCgXlBXeuygOwIpJb99MMfugy5/f3NsVGi9ZYbFU5vy9A54h6U6PP9wp2bTNChNxChNxPA8n0w2TzC9FzmYw9+5nvXu2TzqNwPFtJ/0QQhMO4OT9DFKS6Zl8HMqib5PSil/I4RYC1wGfBX4LjBJ4//ljfTOfTx12ZsVA8Iy0SwTIxZB+nJUnGf8XI9GEJpQnw8G0AJqnRENIwxDMSMCSiNCC1jooQBaMIgWDJAcDpEpaDy7F3Z0wrJmSV3py1+EpaYqwKKWKC9sTdHanqO5yD54+vlhnn5+mL4BB9MyGcr4eJ7E8yW+D6VxnVROeXEFLEEgoCrlgpZGPKoRi+iUxnWCFrR3ZhkYtHnwiX56+lXJt+vKwwLwVDCnOcw3PzmX939iO9/6QRs/+voiLFPjsfWDVFcGWbd6at53rivZtDvHUy9k2LA1R2VlmIFhn1kNJtdfFGHhLIvmOuOEuqP/9sNeCrZk5eIQKxeFJgQMz1esh0xBki1AOi9JF1SRheNB0JQYQjEhQpYgZAnKYzphSxAOWIQCGqZ++rzcxkNKSd72yOYdsgWXbN4l7QRIF4kQsZBGQ5lBIqITDx1/8YeUkt/8OceDGwtcvDxAYFyHcG6jyfxmi30dzmEB+IEXVRpi9VxITCJkp+sa8VgYll6k9uM6LO/rY+/6NJ2ZiGKACA2kj/bI73j2M/+OEY8TWboauy9PqKmOUGMdoaZaQk31BJtqj+u8xmMqAXiEb/RK4PtSynuEEJ8/4T2eQQhNA1/iDqfxbQdpO+jREIWuvqL+gzM6l46DWV6C0z942PfEly9meOOWw5aXrVtJ8lHlK5X7ly/BZdeAbjCc9Xl0e1Gs5aHfUf7AbYoF0VDJrGvnjzIfMAMIy1LvG2eNY0EYoCsmhK9b6Lo+rTfca66o5MmNg/z+/h4+9A6V0953MMeGzSkqykzqEwFMSw0E6rqylAmHNLIFKBR88rYknfXoH5DkbZ902hstKBjo7pt0n32DHs9uStNUZ1FVNrnZ5JEQCuq88/X1/PS3nWzdlWb+7Ajfv7WdWMTgnMVHZkB4vmTL7hxPPJ9l/ZYsmZxPOChYuTjMeedEmd+sAtzJor3bYWDYZ9cBm1/cM0Q8pjOc8jhvdSnlVWGkVNq/ru8TMCEaENSWqnkkIImHAgSsyZ0dThd836dgOxRsh3zBIWsLUjlndOxB0wThgEFtiUbQMomHT64IJJmS/PkFn+d22Vy6IsANl4QmXPP1VQYHe1y273c4d8lYnlxKNcD5/H5o7YFFTYp3HDxKNk0YJuGaWt52LRzslfz2cZ9sARAaC65YRf05f0+u9QD57gzDL2yn+84/j2rFANS/+dUnfJ5TCcAdQojvAZcDXxZCBIC/EJrzRETmNrPmwZ9P6bNSSryCjSxS1iZMto2fK+AVCkWhHmVnBFB7w1X4+QK7Zi5hQNOLAj0awnWQhknITqNZJu5wGiep43W2Ih17lAWhxjdBv+w68A8XrumsXE3aVr5ruiZGA6DthxnMmQQMCJgQMFCebUKiCan0G0JTG1CIxwwuWVPKb+7pYuXSOOctL+UN11Zx83XVU/+xX4J8wWcw5bH3QAV33t/Ftl2pCd5vO/bl+eJ3OwFYPNugPKFzyfllLJkXnVIwnjc7wr6Debp6bZ7bkqK33+Hj7581KZ83m/P40xND3PVQkpqqEAd7XBV0l0ZY0hI6KcaB50n6Uopi1p8SDKRBN01gTGxoOKXOW8dnYYNyuoiHIBHWz3jlmu/7OI6DbTvYjqPyywUbxx37rzQhCIajVCRChAMGoaBBwDw1jYKcLXl6B7ywXxkh3HxVjCXNh+erNU0wt9Fkd5s9YbkQakBvQQOs3wNbDkAm5zK/LqdYHWHzqMfZWCn4mys1fvuYz6EBmLd2PonIggmfkb6P3Zsk19ZJrq0TszQBP/ryCZ3vVEqRw8CVwGYp5e6iPdESKeX9J7THM4jpKEU+Eh7dLulIqpr8+XUwu5pj3thSSnAdFZA1Ab4H41gQeC7DRim2r+P6spgC8PF8yWAuTMeAQcFhVBwIwBIem/eMLQhaEAsJmqoEr7ngyJScgu3zr1/Zxe79ab79mUU0N56cvsJLkcl6/Oi2dn53bzcS+MjfNjNnZoy2zgLPbRrkiQ0D5As+leUmF68p49Lzy5jVdOTSYkWzknR253nvx3dw8XmlfOw9Myd8pqff4a6Hktz/2CDZvM/COSGuv6ycFYuV8NBxn0Ne0jMoi5ZC0DOkuL++hDn1gmRaoyQCu3cNsm1XGiFUgHj9lXGuXhs7Y67aUkp838d2HBzbxi4GXMd2cNyJD/1AKIqmaQQCJgFLTaZx6ntgrifZ1ApP7VBFKUua4bz5EJmkEGMEdz+W4bd/TvMfH60kdgQd7mQKhjI5hjNZfF9i6IKSaICSaIBo6Mha4J4vSWWhJDq185w2LYi/JpzOADyQkaRzUF82/aPiL4UvlV18wVVVSoNpn3QO0jlZnCAREVy9+ugdoO7eAl///n56kzb/9s8t1FQe25Jn/eYUiZhBecKgJG4cs6Jsx940dz/Qy9turKe8dKx1kst7PLVxiAefTLJh8xCJmMGKxVHe99YZRI7A6S3YPh/+7A7KSy3+4W9nTHB93ncwz0e+uB+AtcvjXH9pGS0zp/5QyRUkHX0+7b3FqU8ykJIsnGnSOSCIhZSlUFVCOVxUlQjKogJNgz8/k+aHdwxSU67zwZvLR4sHphsqyLqqReu4eK6HbedwHAf/JRzzgBXEMAxMy8SyTCzTwrKO3lo8WUipfPDa+xXjoPWQoLYMLloMlYkj7zc55BEOCtq6XH79pxTXXRBh6byjX5u+LxnO2gykCgxlbKSExsIB4nYSraQKrbQaGS0n5xoc6JG0dktau3xiYcFbLjt2omC6tSCmBUKIK4Fvo9w1fiCl/NJL1geAnwLLgX7gJilla3HdvwDvROWoPyilvO80HvoxkcnDvh6JZQqqT7N6hiaKaQgT4iFB7QlK9VVXBnjXGxv52vf2898/beMDb59BZdmRPelsx+f//OeY+7MmoCRuUJYwmDPDojRuMKsxxKymIJVlJv0DDntbMwwNFXjTB55jyYI4X/3kQkDldS85v4xLzi9jcNjhrj/18OPftLNlV5qvfWI+leUTj0NKyTd/cIC9B3K87cb6CcEXoLk+wJuur+TCVYljqplJKUkO++xp99jT7rK3w6W0xKK9TzVWymKCxkqNNQsFjVWCmjLtqBzWtWeH0TXBuUtDU9YKufOxLJGgxjnzLUpjR97G830cRxVW2I6HbbtI6VPI5/C8ieXihqETMAXRSATTsjBNE8s0MU7SFeZ4IKVkIKN4wO39kLXVdVJbAitnQc0UBqp/dV+KPQdtvvh3Fexvt9neah4WgHO2JDSOoaJpYy1fz5cMZ2zCB21kegC35wDP51q4P7MGUD0AgUQCwveYzjB5xlrARVW1XajccjuwHniDlHLbuM+8DzhLSvkeIcTrgVdLKW8SQiwEfomSyawDHgBapJSHCxSMw6KqOnnbze9DmAaaZSJMAz0cUkwHs2hRVGRHjDIfTGOMHWEptoMIWOhFRsSIk4YeDCD0sUC3cZ/Pvh71ujoBZzUJSk7QEfZMY8eeNLfcepCSuMm739xIVfnkQdjzJPvb8yQHXfqHXDUfdEgOufT2FmjtyCMlOHkbOz+WEy26v7BmeSlf+tcFk343wAtbh/nOTw9QVW7xuY+2TLhR77i3h+/87CBvvaGON736+Eel+4c8Nu3K0zUAm/a6DKbVfRG0YHa9wZI5FrUVOg0V2qT6BKcSrid5/1cHRt/PrNNZ0KyjaZJlLTqe71NwfEzNJ5fLTdjW0DWCAYOAoahXlmlimQameewS7unACGd5OOMylPUYyngkcyHSBdUwaSwX1JUcOz03gsGUxz98o5cLl4d5yzVxPndLH1LCp941Vj4/kJb8/GFVWbdm3hRSf3aO4e4+fvhkGSnHGmdJ5NO8+26W7/gxwaYZGPXzcW1TsSBm1BNuridQU4nQtL/IFvAqYI+Uch+AEOJXwPXAtnGfuR7lQQfwW+A/hbrrrgd+JaUsAPuFEHuK3/fU0XboDA7TceudigHhOPi2g1Vdjt3dP+nnrcoy7N7kYcsTyxczNAkLovyi1Qyu34weCpD9yKfh/MtA1+ke8PnToEoA1v78a0QGu9CCAYLVpdStbSqyIBQTQpgWwrIw6hoQhgmaoZwwdKPIgjDRtNPrujB/TpR3vr6RX991iP+57SBvuKaSGY2HN+t1XTBnRghmTPIlqLRCa3uep58b5Oe/aRstFhhpA/gShlMu8SMYLi5bFOeaS6v45g9a2Xsgy5xmxTF6bsswv767i/OWJ7j5+qlV8LmuZOcBm02787y4q0B7t2r5rDwrypwGg9n1BnMaDOoqtNOSQnI85VaRdxTfNxISZHLqh9nf6bG/szhwpzs0VAkClo5lGsRCMazia8vU0c+wDJiUknzBIVdwGMhqDKRVcQgonYdERKehEspj4pgaEZPhN3/OUFtpcvm5ajygpcni3qcy2I7qbYJ6aM5rgA17VJnzxUsks2uO3LIWVohEYyN/fxNsPeBzxxMenq8Gz2ctriNRvo5C2wEGn9lEx+2PTNhWs0wa3/X64z6PEZzJAFwPHBz3vp3DucWjn5FSukKIIaC8uPzpl2xbf6wdxs+azys2PDv6XkqJ77rIIiXNH5kK9jjbomKwLtjKkmjExiiVGbMxstVcCwWJL1uIny9wsKEOe+TGHffH5/uGcDdtxcvlCTeUU2ruAcd+6aESvepa8JzDlvc2X0DWVSPRmibQNBUgcjLBYM7E0JXFuZoLNCFxbEV8D1rq4gwW0xPHM9q/sCXKG15VzT0P9GIYJ5bDDAV1FsyJsGBOhLe/rp77H+nlK9/ZM6r7sHFLipvev4kbX1nNdZdXUlF2+H7WrS7j+7ceZMvONHOaI+xry/LZb+1lbnOYj71n5lGDpetJXtyR5bGNKVJ5nZ0HHHQd5s2weP2VcZa2KLeL6Xq4eb7Sa87bPpmC4v5mihxg24WahEc6rwJtLAKZcY3buY0aFy0PcHZL8IxKT46HlD6OrTjAubwKuoWCw0ifWrPixEI68bBOIqITsk6u4fDoczme3lzg+gvD1Fao0DWnyST+okZrp03LDNUzC1mCVyyDRY2SB16EjXt8Utk81aUmlXHjqHzkRTM0ymOCWx9ySeVg0VXnUhZbM7p+cSZL7kAnubYOcq0dZA90EJ0364TP6cy7Q04zhBDvAt4F0NTU9NJ1iiJkmnD8zuNHxdBOn/SAym/NrBa01AqiQQG/+sJhn53AfrCVMI8IWEUWhIscmXsuiVCYEDqyyH7wfYkvfTxbkCmgNHqLk5QSA8m2VoCJqaayKLznlceXG54/O87sphCmeWoETV5xYSUtsyJ88is7OdiZ4/Mfncvz29I8/uwAf3iwl098cBbLFsUnbBMIaLTMilCaMOnps/n4V/YQDup87L0zJ3UwllKyqzXPoxvSPPF8muG0RzSsccXaUq6+IMbCWaeG6zseOVtp+2YKStd3OAfDWUYt3BvKfNJ5RRUMBwVVCUEkIIiHNMIBi6AlONAGXX0FLANuujzM+WcFzlgRj5QS17FxbAfbsXEKBWy7gGMXi2jMBK7rEwyalJVECAYsQsFTx5aQUvLQ8w5/2uBx4TlBrlk7xoaZ02jSm3TYsb8wGoBHUF8ueNNFku5BSe8QtHYXONBdoCxmUFViUhKZ/PhqygTveaVB96CkLDZxvREJE1s4h9jCORM3evuJnduZDMAdQOO49w3FZZN9pl0IYaDE4PunuC0AUsrvA98HxYI4JUc+BcytUSIsMyuPXXYphCiacloQPrrd9tEM5JeMey2lsqbJO3DBAkHegYKtBL8LtmohnwhOVfAdQXNjmFu+dhYHO/PMnRlhzfJSDlxSwWe+vodf3XmI+togleNawqGgzjc+tYChlMM/fG4XubzHtz41/zDdimze44EnhtjRmufpF7NYpmDF4gjrlkc5e0EE8xQ4L2fyStt3OCdIplXQHUir3xygpkxRAuMhpSkws0q9LgnrRELKAPNIWL3IwnYk160LUVlyelwepO/j2gVcx8a187iFgnpv51UQNsP4vo9uGFhWgHAkqgbzAiEsc3p6DrmC5LaHCmza57F0tsFNlwQm9HISUYPaCoNdBw7vRYLiyteVKaGsTN6jZ8ihd8ilP+UyUztEmd+PlqhAT1Qiwgl8qdyZ23okB3p8Xtzn86rzpi9MnskAvB6YK4SYiQqerwdufsln7gTeisrt3gA8KKWUQog7gVuFEN9ADcLNBZ7lZYSqhKDqONkPHX0+lSUnlht7KYQQ6AIiAeWaMG7NSX/3ePzpsT6iYZ01y6dW8jsZggGduTPHuiAz6kN8/mNzeMuHN3H7PV28580Tey5DKZd/+dIuEjGDD7y1iZlNY3SynqTD3Q8mua/I9V11VpS/e2MVq8+KEg6dWEvX8yW9gz69Q4KeIcX37RlUTBchlPyirgnKokr3ozSqdH7Losq94vDAdOz/oKXJpKXp1EsnSinxHBtvJMjaBTxbBVrPsZFCjB6fbpgYVoBwSTmGFUAPhDCtALo+/Q+EnA2bDsDWNnU8r1xjcvGyyWlxLTMsNm7PTxDmcT1V4j1+4DsS1JkZ1JlRJRlIuYR7svgDfXi9B7m1azW7s2E04ePLseskFpreNtsZC8DFnO4HgPtQNLT/kVJuFUL8H2CDlPJO4IfAz4qDbElUkKb4udtQA3Yu8P5jMSAA7N4kbbf8WjEdRpgQARPNMEdZEZpZfG2ZCMtALzIfRjQiVKnwqR9RTqYkP7jXIxyAS5bpnD1bnDGi/lTh+5K7H+jBtj3iMYNFLbFjbzRF1NeEWL4kTiY7MQ+eHHT42Bd30dmV59Mfmc2yRWqfjiv51o87eXzjMADnnxPnVZcdH9cXlJFlzyB09PqK99vnc6hfErRAtyx0Ten6zq4RVJaMPWjDwclEv89QysD3cV0H17HxHRu3kMOzbVyngGfbgEQzTHzXQWgauhnADIYJxUuLgTaAYQXRtNPvr5YpwKZW2HYQXB9mVcPyWQHKjnJptTQHeGRjlkN9LnWV6qH1+FbJht2Sy84WLJ05UStDE4LyuAnxZcjZS5GFLOfvG2L3s1IF3yILQkiPygNP0faZuwk0NEPZDAgmCDc3EJ7ZgB46Ni/+WDijOWAp5R+AP7xk2afGvc4DNx5h2y8AhydUj4JcWyeb3/epCcusqjLsnsOZDnAUFsSKJQy/uGNUnGckOCeWLyG7u3WMnlYU8Ak11eMOpYq2RkXxnmAAqyRKxZJKhGmR9MqBZWQLkruf8Xhqi8uaObZqUcV0KDIhpNDOCJ1oMmia4PMfncsHPrGVZ54bmDQA+7484QdJT19hQje9t9/mo1/YSV/S4Qsfm8vZi8fyw6YhKNg+111axrUXl1FVPrXWYybns6/TY1+ny74OD9uDZEYFnoAJ9RUaaxbq1FUozm957Mw/GEcq2ZxikYXjugjPwclncB0bb1w1m2WaSDungmwgSDCWwDAD6KaFEQii6aePA3wk+L4kmfbpSErW7zFUJWENnD1L9SSOhZYmk6Yqwc59udEAfPZsQUe/5A/rJbs7JFeuEMQm6QEJIRDBCHMWRvjcAsmT23z+uN4FJFLozKjwEW2C1NOPkknHaL/9ydFtAzWVhGc2UH39ZSd87n/1g3DjEV86n0vvuQ+/SEGTjovvOEjbVUyG8cttR73P2xMZEraNMAwqLj3vMI0Iq6JUMSbyBbyCrUR/CjZC00ht2YWXy4/qRvi5PLGWBowLVVY3GV8Ii5cx0mrqzxjc/aL6e/6p4iej5zCw4BIKnupqCU1DK85zlDFYUC00vWiIqWsgEKRzGqauxMJNHQwDDE0ifYllCKUZoQtMU60/0g05Yg8/MOQwMOTSfijHA4/14rk+NZWHc4MffLyP395ziG9+ZiGBwPG1pva0ZujuLfCG6xW55UBHjq9+t5XkoMuX/mUui+cdHuz/9b0NxwwmqazP9n0F2ns9Nu/36eof0/ZtrNaZXW/wikaThkqN8sSZE8BRcpQejqNcLNTkYgiXfC6D70/sGkeDFkJKAqEIhmlimBaGaaEbJvppLLSYKhxP0jfs0zvk05fyRyUkFzbqLGoUJI7D0Lq20qT9UJ7tew0uXq0eyomI4OaLNNbvkuxolzyzy6G6RKOx4v+y9+bRkqRneefv+2LNfbn7Usutvbt6qV7pVmujJUtIiEUSYGwJGBvZZjP4wHiMj+fYxx6PBzNnzvjwh2cMxzDgMYsxZsASIEALCDVI3WrR6r27uqu79qq75J4Z6/fNH19k5r11b1VXVddyoeo9J25ERmZkRNyMfPKL933e57Go5LdWjxNC8Nhhi4my4Ne/mJCkcM/H3sdU9f1orQnPr7LzJ07Qf+Mk/WMn6B8z87Q32PRelxu3FAAL28ZfuHpBmWsZWmtUGCJUio4jeqc1fA0MW0FQzyfsmQhYLAXY0++CTAuiUCjiIVFao7VCZywIlZqCj/FiM35sqQK0xYsnNu/ftzUvHt36whk0O4SRMiBPdmstwNN93jw1Nl08uNvl/ErED3zPDh7fQne3kLc4drzPn3+twXvfcWmfuQvjF/7zcWxb8I4Ha3z5qQb/9t8fY3HW53//Z/s5uHfrQuVWX6ooVhw9EfP8ayHPvRbxxmmj4DVVs1jamefhO1z2LljsmrWvm7bvxSJJdeZWYTR/g1gRRoogTik6RnlsGAJwHItyzqJULOI4DrZj49jOTWuyuJJIlaI/iOkHEd1BwrE1owLn2jBblUxXJPXi1XGupRQcWPJ5+dhGQ1AhBA8fFNy9W3Fi1eL0Wsq5lqKUE+yYtJitbL2/QzskP/wRm+PnNZOV8Xv5M5P4M5PUHr1v80H8ix+/4uOGWwyAt1MIIbD8YQ6pQCFSQMquacljhyX75m2EGOYvx51d5QvfKItZ4MAW61Olec/hjJqWjOdRInj0gE+U6OyxJo7NvNfOk6Tmp0Dr4aTJOy5SQK1i2ounJxxmJi9u6/JN99eYqLt8/surVwzAn/joAstrIb/9B+f5ld86zYE9ef7lT+5j6jJcOgaB4ukX+3zlG31WWyknlkFK2Lvo8J3vLXLXPo89C851cz5eH1Gi6QaaMNYjMfXhPEpgohCOGhVsS+A5kmLOppyzca3cqMHiShwsbnYMaWthENIOoT+ICNYpROU8m70zklrx4qPRK42DSz6/8eIavUFKIbfxbivnSQ7MS/bMWJxtKo6vpLxwIiFYWWVOnMOqTGCXJ5GeGXb3A02rB52+5kvPprz7nr+eLIjbsS4WJwU//K0Wk5Vrm2O0pMCSbBCzNiFg5mKjpovrPVxJPP9yh9VGwic+duUMiaWdef7r75/niaeafODdE/yjH9yFewkdhU4v4annBnzlGz2+8UpAnGgqRclDd+X52PuL3LnH22CVcy0jSQ3XtxOsE1UPoBsYQSTQVHMJWpsmmJwnmCpLcp6g7Bt9CM95e/q5Nyu0UsThgChOiMKAKAyJQsNI0EBg1fBcm6lagULO8IOvtlvv1VOKrx9VfNe7NlsjHdztozW8cizgvju3ThzblmBxwmKhLlnravy1LmljjaRxhufbE/zmG0fIOwn9eAyLrg3vuvv66W/fUgCcdHs0/vzrI7aDYUNYiIz5IB0b4bpjhsQNoNsMo9WDX/isZqKkefyIZP/89nfPuFh0ewm/+ZlzfP7LK+xc9HnsofoVbf/kMy1+7pfexHctfvQHdvCdH5ze8n+RpJqvv9Djc3/e4sXXBgSJxUTV5gOPlfimewoc2O1d066xMDZyk+0Amn1Bq2d0fzsDc7eQc8FzNb4DRR/ma8b5uOQLSjmHvCe2TRfblYZWKWk4MHS1oG+YFWGfNApBWvSdEkIIXM+nWK7gej6u52E77ttOjwSR4g+/pvjaq5rpqvlhK1+QI963y8MTAc+/3L4oAA9DCFNMpXQAvXM/Kugxe7oBb7ABfNGK+f6rNH71y7gLu9HVeezJGfz5aWPucA3ilgLg3svHeOLdG/u2L8WC8OamiBvtkX3RUKindHg/gzdOj4V7MiZEYd8uwnMr2WN3xJJwp+qoMBqzI1wj3mOXcpR2VhCOw2paBQ6w2tH85pcUC9WEdx6MWZySeF6mBbFN83xKad44GfCNl7p846Uua42Q517q8u5vqvHjf3fnZVvctzoJ/9d/OsHnvrzGznmfn/oHuzi0Rb73jVMhX/iLFl/8aptmO6VSsnjvw2Xe/XCZvTvefsdYkhqd30YXzrdgtQ2rHQO0YGQnU2EKRRMl2DsL1bxpsqgVxUVGstsfeLXW6CggjQJU0CcN+6iwTxr00XEIXp44K/5Zro/l5/Eqk9hejkquiONc2mX4SqMXao6ehddOw3OvaR47LPnmI3LLBpZi3qaYk7x0tHdF+xBCYOWKzO0t8q/3aD77ZMKXnlWA0YLYxQmCZ5+k/+efp92f4Nh/+gLS98jv2UF+zw4Ke3ZSe+cVa/CM4pYC4MKBJR76uf+QsR+MBoRSCh2EGeshMSyGOEFHEVpp0kFwAQsixqmUkK67TjMiJun0iJttuq8cTc+rpgAAIABJREFU28SOKN21n8YTXx+rzgyPZ88c8/ebPPDyxGF4588y/KKeatr8xlfMx/NT1r8zGwhB/74PkKiMpyglQpjcYN+doRn7WMLYWVnCaNFqLekETsaOGE9CaMJQZ84aJkc6nCdxilLmcJUClXXVDfoxjVZKo5PSbCc02ymNdkoSDnju5S4AM5Mu73tHjR/9/p3sX7q8UrbWms8/scb//f+epNtL+eRH5/hb3zG7pUi61pr/4z+e5tS5iIfuKfL4IxUeuKtw1bfv/UBzZk1xZg3OrGnOrmmWW+Z8l2YFncCiXoIdkzBRFkyWDeiWC4Y5sTH+CoCsUqgoQEUDdBSSBl1U2EeFA1Q4MD5o+TJp0Acpsbw8dqGC5ecRXp5irojl+tdtMKC1ZrkNr5wxcpUA83XBj367xUT50vs8uLfAV77eQmvNm2dTds9dGbxJIfjQww6VQsqn/8LkrI9874eYrn4Y1WpQeO41Cg+/m97rJ+i/fpz+a8dZ/fxfoKLNmi2XG7cF2W9QaK3RSWLEe8KINIjQUYTlKHQSc2zV4b8d3cGQBZG3E+aLfebzPR6dOZNpQaSEkztIM8NArZR5X6XoWJOsBt4ILMfA6fDKmc2FK0dqXn5j6wunvdodebitj5oXcuxkiBBQKVpUyxbVksW+RYt6xeLug4Ut6WgXizTVfOnJJr/+6XPkfUEcKX7y7+1m6S3cN147HjBZs6lcRDXtYhHFmpPLKcfPKY6fSzl+LmW5qTm05HBqTVLOw1xdMFsXzNUlszWol2+uF9uVhtYancao4Ug2CiEOSfstVDhAR2OmgFWokPY7SC+P9HJIP4/l5RFeDssrGGW+G3DuWmv6oaLZTXjpjMP5tsC1TRPG/lmTxrmc+O9/vMzP/dJxfvrHD/Jrfxzwwx8v8cChq6tnvHg85Y2zmm956NL5X601aX+AUyz8lZOjvKVCCGFyzY4DW3T1FIsajirqJcGjdwju2uViWx5Qw0hdmLhYe0Gdi6pA8tghI/U4pKalCpIEPnCvTaoMWA/XKw1hUESIoeKaGekJaUC7VJCUC9bbYhBEseKP/2yN//J75zlzPmLnvMdHHp/mPY/ULitHunfn5XUgtbqKoydjXj0Rc/REQqlo8/oZ88NSKQp2zlg8fIdk95zFwpR1Sfub7RQqTUjjCBWFpLFpIU6jEJlGJL2m+UDXhVsog1LYhSqynjNg6+UQTg7p3hyRnyTVtHoJjW5Cs5cQZ0yQelGye9pm1+Tl+Reuj0N7s9xvErJ7zuaXP9Nlz7xNrXzltZw7dlrcsfOtXyeEwC5cAWn5grgNwNskFifhhz4sqZeuffFNCLCyVMO6tVz8lvnaW+YkieaFoz2+8kyHv3yhzdE3BhxYyvP3/uE8j95fuSzmh1KaV4/1mag5W0pVrrZSnj8acLah+forEcsNA0SODUvzNgd3WDz+oMPOGUnlIh5i2yGGVkIqDkmTmCQ2bcVJtuwnA+MRmMWwndj2fTxvFsv1kdlkOf4NLSZvFVprkiQhCALCICAIQ1pJmfbAXJPVgk21aFMt2FflzTeMpR05jhwus9xI+dR3VPlX/7HBL/9elx/77vK2ZZjcUgCs05Sk28tGoturqCWEYOJiJN9tFkppfucPz7Ew63PkcPmiX5pON+Frz3f56jMdnnquQ6+vsG3Bh99T41PfM8+RO4tX9GNz/HTAj/3zlwDDRd6/lEcjeeaFFvsOzbLSNKOo++7Mszhl8977bfbvcNg5a2+rL6BSmigxrhZJkpAmIXGcEicJcZySZgn4vDZ5dSEEtuNg2Q6en8eza6bDzXGxXA8hrx9N6kpDa230J4I+Sdinryx6/cHIg04Igef7zJQlO6Z9SrkrO3aljMTnVu4yti1IsHnu1QHf+xGLH/z2Ep9/Bn7psynf+16LUn57/I/Wxy0FwO2/fJHP1u4fr5ASf36auNk2tLR1VkXSsXEn66T9IKOnjQV8/J0LxGvNjLo23s6bmyLt9tfZGhkbI6tcBKWMdZGXift4LtJ38SfymRuGea1wHITjYuX9sRPGNvlyDePscsjP/eKbAHiu5OEjFXYs5Dl9LmT3rjKnl2NOnIko5jTPv9KjUrJ4x31lHr63zH13Fsj5Vzcim66bYmKqoNFK+OpftkfP5eyUv/3hKof3euycdW6qXoPWmjg1UoqDSNOPNEInhFFMGKej220wmsAuPRzHxrEt/KKLY1s4jo1nTWI7DtLaPgC7PlQcoYIuKugRpYp40CMNB0a/ehi1BfKFAr7n4fk+rnv1eeUTy5rPPWP+t3/n/VunKJYWPb7yTBetNQ8c8vBzxuHiP3wm4W++12LH1PYZdMEtBsD+jjkO/cQ/HrMgkgSEIO0NMv2HKGNCGI0IYVkk7e7IvkjFiQHk/Bq9V99Yx44wbIjKfYdZ+9KTqHCjNmnlobtpPfnspuPJ75qmdhEx/QM/8K0QZrwnORTjsUgfeD+pVgghR0wIhKSfn6Or/FHu1ligCzQ2zYHpYBOCcU4XTbfPqNVYiCwhISAYJCSpIFHa5IdTSJQmHMSsNlNa3XTk4xZGii99tQEYD7PiCwG7dxbZvehx5x6Pv/PxGQ4s5a6a/9rppTx/dMCTzw145qW++T+o8e333YdK/POfWKJavvbSjZcKrTWD2EhSdjNXi24AvqNo9hLTBr4uJosaz4Jy3sFzJK5jmi9cW+I61W0JsGBYEzrsoQZddNAliWMDuoMuep1ji6ovAgKvMoHt57G9PLafQ1wDRbX2QPGnz8JLJw3/95vvERek08axtOjzR19usdZKmKg6xuGiLPj1LyR85RXN6Zbm8OLlF/aud9xSAOxNT7D3pz513fczYjxkVkdpEBpQX0dNS8MInSY4OY2Ohx510WjZ3jODSFOT61OJQcE0Ab+QgZ+hOmitQCuUhijJWBHaFNO01iRIXl82dZn1vAZbwqvHt2bAdJoR/XDz+ql8xHIjoZiT5PMOvd74C7hnV56PfmiWD7578oqsjrb63x07GfH0Cz2+9kKfV98IOLQnx+nlhHsP5liahS8+sQLAd35gih/6vh3XtbkhiDTtgaDVN00X7WxeLWoa6yinUkDBg4IrmK9Z5Fwxmnx3ezdgaJWigx56YEazKuyhgx4q6KKDPuuvHF2bQ0iJXZtB+gUsv4jMFRCOf01/ROJUc3pNc2JV0eiBRvLoIXj4gLjk9bW0aAq0x06GTFTNj/JsTfAj32bx3EnB0bPwxjIsTWsOL3DTC6+3FADfqNjAeChcnLlwNXGx8lgZo0y/VTyw18yHLhlDRoS6T46oySPNB0ClOSxLjNqYLWs4ch43Rfyrf9fgC0+sYVmCH/n+nXz0W2au+gu41kp47tUBb54O+eJXOzTa5hZ2706P7/pgjfvuKLBvl+lqO3ZiwFe/vsb3fWyej39o6w65Kw2tzei10TUNF2sdWO2a+UyNEdAKASUfKnmYKgl2TUHRM6LreXd98fTmFr0ujGGDhQ56o0mFPXSSoLur6HCjKJOWFrJURxaqyIlFRK6I9IvIXBHs60dNU1qz1lEcX4UzDXOtlny4c1GyWBdv6SwDsHvR0M7eOBnw4F3j69V1JPcvwaF5zYun4LVzoMI++4tn8EtV/GLF2JNlkSrNWluTpJq5iev3ed4G4Fsohi4ZFlzSDudyAOQ9j0ywvBbxE39398id+HKj0014/rWAZ18Z8OwrfU6eMyPpQ3t87tyX4/478tx3R55qefPlubQjx2///JGrzvEGkelyO9/UnGsyWq5VbLoZRdazoV4y7haLk1DKQSVn5uO67fYZ0Wqt0XFomiuCHjocoMI+OutkE9KG1vkN2wjXh3wZWZlG+gVErojwi0i/AM6NoaZprQmilG4/MtMgIhFFzndcdkwKdk5IKvlLs4JaXU2lOH6+mLc4tK/EifNb+zPkPcEDe+DQgiZsBySdmPa5k/zZ0y3+4MUZdk6mDGLJalswVPz83/5+Af86KeXdBuDbcVXxnkfqvOeRt9Z4aHdTjp2KOHYy5PWTEcdORZQLghdfG+C5gjv35nj8kTJ378+xe/HytBsuB3y11jS7mlMrxtni9Iri9KoCyyHJvpueA9NVweFdkh3TxkqoXjKphO2Uk9VaoTKur4pDiAP0oLOuoy0ArbFyRXRrGQBhuwgvj5WvIHIF5OSiAVq/gPDz1yQ3e8XnoRRxMCAO+vQSyUpXkaQG5TzHol7OUczb3LNkXdZ18PQrCf/1T2I++QGXO3eNz2ey7nD89KW70wqeoDA1gZ6sk0Qh9bADwPGV9f8XTdUJkW8eQ83tRBav0GPsMuKWAuDOsy/z+f2PG+aCbSFsG6dWQQXhiPkwoqg5NnalhI7idcI9Zr07WScdBGPRnkzcx66U0UmyUTvCsbF8D2xrZHckXTdjStjYBS/bpzsWCbL/6nwscaJpd1OWmykrjZTlRsr5RsJyI8WRiq893x+9dmbCZmnB5dCSxyc/UmffLv+K88X/4VdP8SdfaXH/4SL3HS5x5M4i9apNo6N582zCm2dTzq4pTq1BPxvRCmCyKtg5Ldm7KJksC6argkphewCtUmrE9x3PI+yoT9rvoJKNRV3P8yDoIN0cVr6MrM4Y3q/jI3fdhfByhkFzE0OnKSroEsURURAQDYyAzzBEYYJivkwx71LMubjO5f8gaA1/8kzC7/1FzJ45ydLsxorcrjmXp1/oE8XqLXnFQggcz+ehe32OHNb84mf6vHRinPO+c/AUg9/5fQBawQSn//Q1CgeWKB5YonDQzHM7L5b8e+v4q/NNvwZhl4vUH3vQXBxxjE5ShOOQtDpjDYh+MNKEsHI+0Vpzg0OGjhOKd+6j9dRzhkWxLurveoi1Lz25ab8XY0F4C5P4lS1E0aXk3h/9dohDQ6IfsiCkhXzgXWg0SJExIQwbIigv0hc+MGZACCDFpR2ZvNgGtgOCdk+wVRmu202NuHvGfkjSbDmKObem6AWKfqDpBZoohsV6youvh6N9VEuSqZrNzgWXO/d4LC267J53KW5hG3+l0esrGq2Ez/95k8890dzw3O7DO5ES5icsjux1mZ2QLExK5ibkZeUPr1ekShPFKWkSEydjvm+cJMRJSj7toNTGW2bLdrAdC6dYQTouluMhXQ/L8RC2i7zJzRXD0CpFD7qk4cDoSgy6pEF3lFdW1TmCROP4eYoTMzh+HsfPb8i3XkmcXoOvvAKdLty9R/K9j7ubfsR3zbsoBSfOxuzdcfmtyI4t+MGP5PmVzwY8+3oKCB74+HspyAOkZ4/T+MJzpL3nOP0bnyFpjimQC9/30as6F7jFADi3a4Ej/8/PXrP300qN2Q5xYpgNQxpbNBbqGb5m9Hg4VymWOxQAikd0Nx3H2Ad3IlSaMSCMDgQqRbg+KmM+GD2IBJQmSVIClRhwzhgQWkMqJW823VGBbVh0s4Tm6Omtv8SdVkoYmy4l22Jkb1T2NFprJiuS/Iyk4AvyOUGtAB95V4Hpus1k1XpbLIgLI0k0J87FxrftVMyLGXNjvYSJZQne845JPv6hIotTFu4NBlulNWFseL9RBrBRbBotwtjcZguhKVqmmicgc7OwKOZdCo5xGjbNFu62sxDSWkPYR/c7Rrin30YNOuh+Bx30AA1TO0gGXaSXx8qVsOpzyFwJmStRcd8+Q2KlrfnKq4ITKyZF9E132ByY35ofvXvBWHOdPBtdEQCD4Rb/wAd9fv0LIadXFLsXPaTYg72wh90PvJfd/+OPGbuo5TV6rxyj+/Ix3JkJ+KV/e1XndUsB8LUOIaXRD3YNN+HGMlE3RgGYvshzd17weMiG+OC92Yp117AAtHYuouF6bYTaLxZaa843Ul47EfP6yYjXTsa8eSamXLDoBIJKUbJzwefk8fE2n/zoDH/r26ave+PF0Oa8Gxrur9aKfpgyiDRBNCZq5V2NK8IRz7daNLxfz5HknDyOY29Ld4vhSFYPgTXso3tNdL+N7ndgOEKfXET124hcCVmqIaZ3IvNlRL5MLl+6prnlINacbyacb6U0ug7nmhaPHIC7dppBwcUKodN1i2rd58R5teXzbxWWJfjE+/0NNvfrQwiBNz2BNz1B/W1IUcJtAL4lY8iGuNTz1zuU0pxbS3nztAHZN87ERLHm1eOmeOI6sDTv8jceKbBnwWbvDpeJikWcaL7ryXM4tuCf/PBOHr732vVvD50t1vN9XUez0tEEF9R0Zioaz4ZyXjJTHXN+cw74N0ng5lKhtYKgbwA2A1rV76CDrgHY4Ug2C1GZNndc+RJyYgGRLyPyJUSubBgT1+n8olix3Faca6a0+gZASznBwQXNuw9v5eyyOSxLMjfpcOJc8tYvvkTciM/wNgDfjusaaapZbqacWUk5u5JwZiUhjDRffykgiIZeaLA447B30eGxIzn2LrosTttbKq65juBn/+leJqr2ZfnDXRhaa3qh4fg2urCW8X3zPpxqbNxf3oXd0zBbhaInKPqG81v0wNlmhVLTTNFHB52sqaKHDnsw6KLTBN04u0mPGi+PLNUR9Vkzoh0CbL6EdnM3xOgzSVKCIGAwGDAYBATK41SnSN4TLM3YTFcs8t6lj+OJ52ME8OjhMTrvnHX46vODi45it0tsr6voOkfv6Js8+dEfQtgZ48GysIsFdJoiHHu8Plu2CjnQOnutPWJKWKUCpGodc8KwF2TOW9eEYV9gdeSsY02Y9dgWcpvl+y43jG06BKGmM1A024pGx0zNbG5bmqdfCDa05ZYLkgM7bd55X45dcw675x0Wpmzsy8wb9wcpWkO1cumhkNaaTh/OtzTLTSOyvtwCPyc51xzvy7EM9WyuDjNV02RRyZuWV9eGS6vG3ZgwnZUxOhqgogCigUkPBGOuL3GIzJXW8X0FeDlDOytUkNVpRK5kRq+5kll/CabE9ThjrRRp0CMddAkTRTPURLG5tRBC4Ps+UzmX+VmP4mX492mt+aOnEv7wqZjDuy0euXMMtjtmbb7wlGatrZiobI+C5VZxSwGwThKCk+dMkSw1xTK7VCQ8v4JO0pEGxHDZrpWJVxqb3qf8wF20v/bcpvUXZUE8eDetpzazINzZCdJWIwPnMZ1NODZH/tHjkMYmp2ZZo7l3/yMgFAg50oNASMLqPKGdY8iCGM5TPNqxETgf4rzA3Gw2+w5oUJgVwyJdp6uIEnNLvpEFkXB6VRmRmZARsM7X0pG4u8Bo7VZLkl2zFh98NM/cpM3cpMXshE0x//ZGVZ/+/Bq/8v8t47mCB+4q8vA9JXYseASxpBdZnF1TnF3TKCFZHReqyXuG87trEu7cAfWM81v0bz4VTStlpCfjCBUbrm8ahVhphGqvZDzf8a+Y5RegtYzwjEuFVawaR1+vgNx7xICrV7ipan86iVH9FmkYEId90r5hR4xG4bkydnGOUqlILufjeVeWtukGmr94KeUPn4p58KDFd793Y4fe7jmHO/a4nFpObgPwdoniob2868nfvuzXj1gOcZKBsqGqqSRBR+vsi4biPipFhZFhOYzYEDEISHuDEVvCMCNiw0yIguz9sm0Sw4SwZ3dBGhkGhDIIqNPUXMBpAmgj8aeNdGFSmGIQM7rAh04niSU41R6PFnX2R0rB68vOWIwHIJv3emZ0a1/Agsh5grkJSd4T+K7pKsp5UPQdvuOdPrWSpFKU183uPU31SNs2jDRPPN3hiac7o+cPP7REzoXZuuTAoqBSEExVBVMVcdN6/rXWpEoTxwk6Ccdc3yQmjc28oALSYKOXmbQdLN/wfEV1GunmEK6fCan7CNu5+T8cWkMUoHvGbUMN2qheyxTuIkND05VpYmlj5Yp4kwvYuRJWvoh0c9Su4vgHkea5E/DqGQCLT3zA5ciezWyIhRmb105rTpxLuWffNTjZ6xS3FABfaVzIctjOkcO4YmwVey+y/t0XfbeLjRhuzEhCa027pzm1nHJqOeV8I+XUKpxdU/S6m5nLM1Me739XnQ+9y7/hzRVaG72AIeUsShQkQcb3TYnidPRjWLF6pEliiqC2g+045Dwf1y5jScvwfV0PabvbRqt6PcjqXsu0PHdWzXK3CVmTiJjeSRr2EPkysjqNzJeRhQrkyuT9/Nv+TIJY89IpePGUEZbaOwt374SCtzWE5TzJZFW+7ULc9Y7bAHw7bmp0+oozq4qzqylr7ZRjpxWnVlJ6gzHQlguCfYsOh3a6TFZc/s3PnQNMQe7Hvm+Oxx+tXtdjTFKj6zuIyObGhy+KQ8JYjTQDTGhqXoBjSVzHppDzcBwLx7Zw7TqObW87fV+dJmbU2muhe9k8TdCNc+heE+JxJ56Y3YUOekaoZ34folAZTW6+fE3PK0kVjW5CoxPT6Fm8et5j9xTcswvKuc376Q4UP//f2nz3+4vsmLFZnLY5eRFNiO0StwH4dlzX0FrTDzQrLcVqS7HcUvQHmtdOJWZEux5o81CvWBzZ77AwZbEwKZmfsijmNo4GDy75BJHmn/7QIouzb5+brLUZYfUynm83yDi/ARRcRSfYyCe1pbGgL/mSSsHGcyT+UN/XkdjW9f1BuNJQSQz9tgHX9fN+G5IY3dwo1IOUBlzdHLI+uwFkyZeRzvW5I9TapGoaPUWjE9PuG/B0bMFMRXJwcWsnjOG2v/zpDi+9EZNmv4hL8zbNrrkz8d6G1dH1jFsKgINT53j5n/+fCNseaUFI1+TShD1kP2TMBMdGeuZWUNiWeTxc7zrGBma4PmNNbNKTsK1taX90LSJNDTd2EEI/UDS7mnZf0+4p2j2z7FiaF47FDC7QFt4xLbEk3LffYXZCMjdhMTthUSuJyxpB/dv/aQnLuvJUwyA0djatgRjxfNsDw/mdr0Gjb764AlO0K/hQzElmqybXnXMFeVdgj/Z981NTWisIB0bLN+xBpzluphiYiTCAJB4XwIQ0nN58GTG9A7GwfiRbBr94Q65XrTVJFBAO+kSDHtGgT6wEZ5JZfFcyN+FRK9oU/EvfMSil+eyTCUdPJHzsmwvsnjM1j7lJm//+ZyFnVxW7Zrfn9++WAuDw/Aqv/ewvmGJWFu7MBNG51S1f707ViZbXNq2/GKvhkiyIp5/fQHGTjo07M0na6V0A/A7Stjj4/fcjVALSyvQgJFg2hbvvRUgNUiLILC6EIK7OETu+WQejqloifXp6s2ur1oLmwBkxH4aTAjo9QZixIFKVsSFSUEnKmVVzK56su7ObLqW8csLk2oQwxPlyQbA4JXnoDpfJimSyIpnI5t7bkPZ76fUBv/Ab57nrQJ5HjhQ5uORv6IJLU81a14Dreq5vowtBDHvnYLkz1vYt52GmApMluCtnuL55j20hoK61hjgcUc10NpEk6MYZ9KAHYW8MrK4P7TWwHQOuuRKyNovIF8ErGp5voWJE/W/wgEBrjQ66pL02qt8iSVJaSqIzrzhp23i5AsVcgalcEd+7vHpDP9D81p+lHD0NH35PmffdP4a0hSnzHqfOp+ya3Z5Qtz2P6jpF5b7DfPipp8zFkKboxIjykKqRRdGIjpYYShqJGlPTErOeVBndhyTZYG8kLIv57/3IeF1GdZOex9TfeCzbXzJ6f2FbpO1e9v4JKtu3jjP6WRqj4wgdJOZCVSk62AvxIHPBUCPkjL0yg/6AYTfTiAXhT3B2sMXFLCRvNpwRA8JYGZl5b2AAdqQFIcF3wfMFBQ9817AgzCTIO5KPPOpQKQiKOXFd24LPrca8diLktRMhv/O5BvmcxLYlE5M59t0xRSNjOi3NSc63zPHWSnBgAWoFmKxAtWDAdyMG3XjAVWmCiiN0NDDguk5eUkUBlhDo1VMbNxLSNE8gTHrALyD8IsIvgF9A5ooI5/q2jF8qhroRqttE95rGoDPsofrtcTuzkIhChdzkEl4uj5srYF0hq0Nrzak1ze8+kbLSgm97xOKB/RvvoKaqEteBk8vbNw98SwHwMIYpB+xMKvKvQfjAxdRKd1xk/UNXvJcby6fUWtPqac43FKsdwXJTcfT4xi9pf6AARbfX4R2PTnPnTpgsG+pZvcgNF+ZZf+zG8TgmSRKSOMaKeqhwQBqHBngzQMrZEt0xd2HC8RGub2QmvZxpoMj4vtLPwzW2/rna0EmE7jbRnYaZSFHtVVO0S9b1bZcmoDqNM70Tma8gCxVkluK4Mhl/E6nSHF/RHD1rOhrv2CU5MC9YmNw8opdSsHvOptvf2nprO8QtCcC3Y3tFEGlWWprVtuJ8I+tcayqWm4aPDFAsmC9YvbixA26yZvOPf3COg3tyN/SYk1SRDKlmicrkJVOiKMFTHZJksyB4xVaQxliuj1swxSzpeFiWjeW6CMczzTXbILTWEPRRnQa6a0BWdRsI20adPwGD7obXi9ndiFweObcPUawiClVksQbXQAkNIIwVbyzD6+c0YWLuZg4vSuZql64FzNQtvnE03rYtybcB+HZc90hSM5JtdDTNnqY/ME4Vq20DtL1MON21IU0F1aJgqiZYmpNMVSVTVSOgXsqbW8ynn7RYa6a879Eyn/ruaXKX0bZ6Ncc8iMwXP05SglgRxmO+r0CTk2OxeQEjupnvF7Asie042LaNbTtYtn1DtBUuN0YA222gu60MZJsmddBtInJF1Lk3N2wjckWsHfuRM7uQxRqiVEUU6wZwrzEzQmtNGCV0+iHdXkgvULzWrDNdhv2zkonS5RVh5yctnng2ot3XVC7CoLiZcUsBcLTW5PRvfGbEgDDzrPhlm2LXeoaEcCzD2RwyHLLnsCyj8ZBtL+y/fiyHS4XWmjiFMCJjQhjdhe5AGwrXwCzbFhw9ldLpb9y+XjKdbJMVwV1LVlakE6ZQV+YtXQz+4SdnSVPNg3cXL/m6S4XSBmCHdDOltBGaz7i+w5F3JadBh0hBJispKPoOngNFz8HNQHe7SUzqJN5AOVPthkkZdFtGR6LbgjRB1GfRa2fNRq6PKFaNIefUPNauO4zkZKlmQNa+voKrKo4I+10aoUW3HxJnlV4OLqazAAAgAElEQVTftZmq+SwtCgpX+GM7P2Vef3o5pVLYft/RWwqAB8dO8vVP/uSGddeMBSElE+95mOZXvzEG9sz6qHR4P/3XT2wAeenY2LUSahBt+EGQ2fKOv7EXVGKKcVJmehCS0p2HkBbr7C0MC0JVp0kdj5HfxZAFYfn05ToWRJYOU1rQDn3jgqzXMyE0rYFFFAsSNXTFMJOKFWcbBnTXC2tNFhWvn1Gj/RY8KOQEc3U4uMOiWhRUi4bDWSuZFmH7KtuVOz3jMXdwySdV+pJshVRBZzCmmrX6YFualQ70QjY0UMxWtBnVeoKZSiYt6Qlyrum2cqzLo8jdiFBpDIMeDDrofhc9aGdi6QP02jl0rwUXOB3j5NAqRRYrpni346AB1XLd6PkWKwjvxqVxlEpJgz7JoEvS75D0O6g4RAOdwl5yvsNkrUip4OHYb117aPU0zx2HdxzaODKen7TIebDcVNxxHc/nauOmALAQog78BrAbeAP4Hq31JtUbIcQPAP9z9vBfa61/OVv/RWAOGF5lH9Ban79w+wujdNcB3vObv23YCBmrYchuGLEiRuvSdToQG9dhW8x/z7ei03U6EUmCVcxTPnLniB0xZFk41TJOrbKR6ZAkyJyPCjMXjH6wYT/xYQc16IFSpliTzQszJfSglaGlyhR0FMnBh4n0ZgHquDjLebVFEUJYnGy5Yxxfx4LoBgZ4rYwB4dqQk+DkBJWCxnPAcwS+Q7Ys+ZYHJcWcIO9dnmnm1cZLrwf86qfNpVIuSh65t8CuBZ9c3qZY9mn2oNkF34fTaxstlxzLtLBWC7BQN0I8wynvSaS4+aItWqXocDCmnHWbRrN3MLaUx3Zg+QJ2hONBpnYmJ+YRBSOSLgpmIldCXucR7EXPKRqgus0s3dEwy3HAoDIHgLRd7HwJe2IOO1+i7ueRlynsrrXmmWPwhWc1Aji8w/zYD6OUlyDgzbPbkwlxs0bAPw18Tmv9M0KIn84e/5P1L8hA+l8AD2Jg5mtCiN9dB9Sf0Fo/dSU7lZ5L8dDFlBH++oReNzzVWjN9wchtOEK4+4rf+WLSjNfbjULR7gvWunC+M/5itruKP/xyBzCCPI89vhvfFVQLMJvxe8t507VWzoPv3FzlM61SdBSiYkMzM1byASIO0a3zxkctHnetyFwJlk8Ym/jM0VhWJg3Q7rorE0gvmrl9c5tCtFYm3dFpoDtr6M6aAVyl0KwDPy+HLNRwJuaxJndg50tYV0Gb01qz1tU8fVTz9dcFu6bgWx4QW+Z5FyZtTq/cBuD18R3Ae7PlXwa+yAUADHwQ+COt9RqAEOKPgG8Bfu3GHOJf3VgPMtvltvmtIkqMjXyjC40OrHVMQ4Up3EHeF5lR6OaR0cG9Od7/WIVH7jL85JtxzkaUJyVJEkTYH1HN0jhGJRFpHOHrCN1vbdhOWA52rohwc1iluqGcuXmTDnB9pJe/7rnXyw2dpuhuE9VZQ7fXUK1VM2+vInNFCNfpf7o5RKmGrEwiJheQpRqyUEW4/ts6hjjVnGmknFxR9CON7wk+cJ/DvUsX/9znJiVfeT7alkyImwXAM1rrM9nyWWBmi9csACfWPT6ZrRvGLwkhUuC3MOmJ7Uv2u8VDZwWvdh86feOmvNKGZlfT7EKzZ3QYHAsSZb4gngMTJZifEBzeZbR8q0VBrSj58eclrY6iXJT82N+e5v7Dmzv9rnWkqVE6i+KMdpakWGmPJEmIk4R0XXdlJe2h4hAxVDhzHGw/j2NbyKlFpOMZaUnHH8lrbofQShlpyXYD3WujGsuG29teQ7XW0N0W1uISevW02cByEJU6sjqFqM9i1adMk0ipfk3zyVpr+v2QNxsWZxtG/KiSFxyesZmuyLfsWpybkEgpaHQU9fL2+X/DdQRgIcQfA7NbPPXP1j/QWmshxJWC5ye01qeEECUMAH8f8CsXOY6/D/x9gF1z83Sef3VdMcxCWBLhOAjLGrMasuewrG1j/72dQmuIU4hiiBLDGugOoB+a4lY/1PQD00n35nlFZ7Cxdbla0DQ7UClAtSg4sCioFYUp0hWhXjbFr4uNVh7/phKrzZT/4aMTlIvjz2cQKjznyjvxDKtDE8aaIMrmsSKINYKUNB6gLsijC6GpeRGWZZHP5TK6mZkcS2LZzra7dnQYGF5vp4nqNMxyHKHOnxyxJMhag60d+1Cnj5n0RqWONb8bWZ5A1meQlRqiPGGeu04jyjiO6ff7DPp9BgPz/2+mi8zWJIt1i/IVCPvP1iW9vuLs6i0EwFrr91/sOSHEOSHEnNb6jBBiDtiqgHaKcZoCYBGTqkBrfSqbd4QQvwo8zEUAWGv988DPA+wXvv7TIx/Z8Lw7XSc6v5npABkLYqUxpqZZEmHbVI7cQfel10dsh+Hz5bsP0Xvl2CaaW37XAuHZ5XXvY9ZbxQI6isfrsvcXlqR+zzQCZeht0jAgsCSlfbuwHYlRTx9PulI3hZgLInV8Qis/LkZpbep2CDpxfh0DQo+W24FNbDqujRbEcJ4IzrcEUcyG4lYtr3nj3PixEWuHmapmfkIY5bC8yPKxglJOv62W5U9828SmdZ1eyo/8r2eplCSPHcnz6L3G8mgIEHGi6YYQxpp+CP3IzAeRph9BraCIonHzhCXBdyR5z6JS8nEdiWtbONnc3kasCMDkk7vtjGpmaGZqSDvrtlBhiFo7t3EjIbB33wFKYc0vIcs1ZLmOLNcQpTqyUr8h6Q+tFGrQIe21SLotVu0KcWZVZNs2xVKJfC7H7pyNdRU/arMTBubOraXcubQ90jnDuFkpiN8FfgD4mWz+O1u85rPAvxFC1LLHHwD+qRDCBqpa6xUhhAN8BPjjy9lpfu9O7v+ZfzdmQKTK6EKEkWEfZK4To+cAFYRjpkTGULBLBQr7dq9jTBhWgzczgQqC7P3H26goJm60x0yLbB92uUS0vGr2Ndxn9hr7O/aRtlsbWBAAhU9+jLizvPnk7nmMVG8Wn46rC6zJzc7BWjic6pvCjRQbmRC9yCZVBoQsCa4FlguWMH5prm0mzxkuC775bgO6ucsSsrn2wCWEQGlotBWf/tMun/7TLq4jiGLNB94/jeubS32hrmkPNLY0x5r3BJMlKPoWBU/iOwLflVdNk7vWMRJEv8AyXq2dz7R7M1nJKMgcVsLRtSJyhRHVzK5OmbRHqWpys6Uaoli+pjbyl3U+aWKYEO01Ep1m4jztkeWSsF3yc1PYlQr5fB77Mj0T4xSefg2KOTh8Qe99uWBqA+fWrs6m/nrGzQLgnwH+ixDiB4E3ge8BEEI8CPyQ1vpTWus1IcT/Agzlxf5Vtq4AfDYDXwsDvr9wOTt1qmXmvutD1/pcblhopdBaGfjSZhw7JPBq2PLLpIGKkJsKc1pr9olrNYq7MWAVxnqTjKQCVtqCTiCxbEGajMfmUWyWF+owP2XoZiXfkPmdq5CzvNZh1M4C9GCdm3HQM/SzoGf8+k68nFlQrdvOy6MHA2ShjCzXEXO7M7qZUTqTxap5fBOLdzqJTe64uwZBF9U2zAjdawHmek133oF0czjTO7EKFaxCBeHmKF6RKA8cOw9/9qLhfN+9c/NrhBDM1C3ON7YfE+KmALDWehV43xbrnwI+te7xLwK/eMFresAD1/sYt2MIKRFsnfu62CV70fXb6PZ5GHFqOupaw6k3bqBItfmCrQ/PgT0zRkpyaRpeqNmcXTa3rvNTNj/yN2ssLVxIz7ox5621MvnVIe0sDpFBz3ShhQN01EeHAaCxciX0ysns8CTCzww2CxWsvUcy7d5S5mpcglzhho9ctwqdJqjWGqq5gu53oJcxI1orGdAC0kJOTJljL9eR83uRpQlEuW7E3a/yPFKlWeskvLms+cqrLvUifOfDsLA5OwXA3ITglePbz57oluqEux03L1JlmA69wBTrWn0Dru0BdLJ5nJhbyWFYmfNEuQCzNZPiKOfGtvHeBUpnX1u0ObcS85F3F/n4+8s4l2l1f6WhtSZOEgOwiTHZTOPIzJMYL2iZ2+oLwnNcCLoIL4esTCO8HMLNIz0fsf9BA7xubtv8OGqt0N02aXMV1VpFNVchiUjPn0A1V9GdxqglUlYnsHwHWZlATu9AVo4gypPIygRUJq9JE4jWmm6Qcr4Zs9qOSZVJf73vbof98wLrEnW5ckGy2kpRSl/XRqErjdsAfDuuOLQ2RbkoA8wgIitojacgMkyBM2sGdAdjWzEqeSOSbluZtU8e9l7QNFEpXLll/Ce+tcJH31dmZuLqL+uhi3GUGWwmSYrOTDaTJCFJUpLMnbqo2iMAEtIwHyzbwS7VzWjP9ZGOZybXN8XUbQKuYNIEacvkY1VzFdVaI82AVuTyxEef2ygtCTi7DyItgb2whKw8hKxOIqsTiMoEsli55uenlSIa9Ah6Xd7oluiHCilgouwwVXEo59/6f9oLFM8cNYDd7G4vJsQtBcCtrz3HZ9xDI6aBsCzcmTpJs7uB5TBkJbgTNZJuz9CJMpoalkV+zyLh6fPrqGxmnhuyHSxrPNkW7lSdpN0d7XO4H5nzIFUIa6z1MHxNfrGIIHO+kNLcmkpBcccMlpNpQMBQ9AFRKiNcdyM9AVC2S+zk13XHaZM2RtDT+U0MCK017dAjTscsiFTpzBnDYqUjiJONOgqVHJxYGT+2Lci5MF02gDpXy+x9fDMveKZYcimq2ZVGkmh+7teaTNYs3nFPjjv3uFhbFNK0NnKGYWRoZkFGPbNEShiFRBeYbNqWJi96hmJmWeTzPrZtYds2vqxjOc72pJwlMarTyuhmTdJWE7V2nrS1lgHtGrrXxtm1n+TEa6PtRLGCValjTc/jP/TNWNWJEchalQmEe331s7VKiQYDokGXqN8lGowdPyrlInN1n4mSs+Vne7FodgwFTQhYbd0G4JsW3vw0+z71QxtYB8K2SHuDEftgPRtCODZptz9+LpsLIdFJShpEkBpdCdIU6bm0n315w2t1klA8tJf2My+NWRapUblxJmqEZ7aWsJj/4BJJs7lp/YEf/BiidXbTeufBd6PTYNP6ZHIXbae0ab2WLmfT6dHjMQtC0IndDSwISwpc2zAkCh44tmFGuPZ4+Zv2G0DNuWZd9q6X98Fcg4gTzSvHY145HvPEMwGFnGDXgsNKI+VjH6yClPRDTSWn6AYbizGOZfQhfNeinDcKZ65tDDYdS+DY9W01clVhZhPfbaG6xh5edVuoTpNkddnkYXudjRtVZ1CNZWTF0Mu8uZ3ISh1rchb5+HcaoC3XEc6NK9xplZrGj26DNNMb1r0W3bk7SJMY28tRqE3i5ku4ucJV/8i1uob9MFOXdPopsH2oaLcUAPtz0xz8l//oZh/GhtBaG6pZmqKVHgO0ThGYWzC0QisjvmM5MivA6LEkmdZm2GkNP84xWGghyVs2IEYKaeaNYV5a6yyJtg/AXCqUNkagQxnJKDVGm71Q4NiCOGNB9AaaF46avMcrJ2L27nCpFQSVvGS+LjMxIYHvim3h/wbZZx30MspZFxX00A1DN1M9o3ime22wbNLVjVRE4ecRxQqyMoE9s2haf8u1bF5FlKrGUeNmnJfWhpvcWkG3VlDDqVKDJMtN2S6yWMNaPEClPodTLCOtawNPb55NmZ+yOHYioNPdXlS0WwqAt2MIIUz6YZvdwt6sSFUGrgPoBOPlRJnCXTfcKIU5X4N+ZFIb5ZLFaiMZjeY/9FiBDz+Wp5i/+f9bncZjNbOgjw576GxOqlCnX4ewv/HkClXSM8cRBeNgLGvTiMV9iHwZ18sAt1g1fN6bLMYDoIM+aWMZ1Vw2bcyNZXSngSVTSNflkvMlZGUSa37vyDlD+IWrGgRcjr7Dc68nI2uqINpeigW3Afh23LCIEwOW/dAU5oaj2OFyGBvQvTDyHszXYbIMu/2NMpIFj1HTxEvPGwDeMWPzDz5eYXHmBnRxaZ3JkobZFCEHHXTQMYpnmckmaYLteGMdBQDbNcBTrGHNLRk7+KG6Wa4IXgGRy28fm6I0IW02UM1l0sYy6dqyySs3zGjcCtcJDQmJKNewalNYu/dnnXWTiMrk2zYN1VozCBOanYBOL2L/zvpFmQ2nVlI08OAhh5dfHxBtdoq6qXEbgG/HVYXSmiQ1oBrGEMSCIB4umznAcpus9XesB1Hyodkzy66dCbj7RnynlMvANTcG2UvRi9anW779PUXu3ufxzvty16STTWtNmipUEpEkMWlmsplmy25/DRUNNo5aAR8F0cB0nuXKiMo0ws0ZEZ49RxBewaQMrtEt9rUKFQ5IG6tm6rZJl8+Qri2TNlbMvLWGu2OdGI+0sGoTyNoU1sQs7vwisjaFrE6ZNuZrfH6DIKbVDWl2Q6I4RQgo5V2SVOFuwSdOleY3vxjTiywevtPjP//eW11LNz621xVwnaPzwlH+9P5v38BEcKol0n4wZiis02Wwy0VUGG1gNWBJvJlJ4mZ7k36DO1nL2A7WBsaDVSqigmgjC0JKhGtGaEbvQWQsCAshBVYh0zHI+oOFECAlhdkKlrORAQECmc+NCyjrGQ+WQ2p7o/U6yx1rLehbBTOC03rEgNBa0419kowFobQeMSHi1KHRM0CarEulFTzJ6Qvk9D0bpsoGHqfKpjiX98bzvGfA1b1GV6DWmq+9GFIpSgahppR/awBOUp0pnCnSNCVNwoxulo7mUkAuXT+yE1iZz5tdKJscq+ONDDal44LlbCv/NzAtyklzjbS5aqbGGmlzBTREx14mbayi+mOjTW/fHcTHj2JVJ7Dqk7j77sSqTWJPzWJPTGHVMpC9TueptUaFA+Jei6TXJum1OJdbIow1xbzDdC1PpehhXQRRtdZ87umUk8uK7/uAS5LVBgq57ZHvH8YtBcCW75JfWhxrLqQK4TkwCI2zRRCN2BGkKVYhR9RowTqNBp2mFA4s0Xn25Q3vo5OE6qP3sfYnX900Iqo8eBetp57bdDyXskMq3z1LvLbJJIR7fupjiMbpTevz7/hmRNLbtD6dWWLgbC6+aNvjnD2/ab0Q0E1dlMqckDIWhG2JjPUgcCzDdHCs8XTvLtOZ5jvgOoYxcSMjSuDTXzLmc7/2B13u2udy5ICD7Qj27nCIEghijS0VgyAiShTphh8REGkP2zYebznfxbEtLEuSs0rY6+hm26lgqbVGD3qodgPVbhI3VlDNtXV0swZpaw1yJZLTxzdsK/NFvEP3YNUmcfccNABbm8SqTWLVJrCqEzesNqHjMJO+XCGQDnGvhc44yMJ2cAoV5qsefqGIY18a9JNU8/tPGqeMb3/M5d69Nq+eiBCYhoztFLcUAOf37OTB3/r3130/Ji84ppupxBBnR2CtDMFWJYkB6+FzKmM7KAUyYzkoBeiMBaFxKz7W+gtw2AjgeUjHGY+KhXGvUJaFZ7kjnpnIntNAVTrITA/CPL19gOWtIkmNmlkQ66z5Q4/Ed5SGb7wa8Y1XTYX9kfs89i+5OBZMlASeKynlbVxH4g3pZrbAta99I8HbCRWHmZpZO6ObZbSzQY/o9MkRx5dk3GKbWh6q3USWKshKzYDr0gHk5BzSz2NV62ZUW60jvbcnjn41oZUyFveN8+g0QLdXzTRYR5vb9yBOsYZdKOMUK8gr6A5c7Wi+/ILi2Tfg3XdL3nXYbHf8bIrnS3bObR8KGtxiAHyjQgiBsO3Rf/dm1uC31+/95YVSBlR74bhoFyU60xo264ctyzMVRXtgUh35nCRa18u8OGNx1z6Xb31nYZvRzdKMbtYb+b2pxrKhmfUzulm/A16B+PjrGze2XUSpCtLG2bEXWaqOqGayXDONFOWauf5uYugwIF09R7J2Dhl2zfk1zqNaKyNxIfuOI4BGVCaxdhxClCeQ5Ql898rF3BtdzXMnNGeakHfhu98lOLAwvvr/8tWIyarNxP/f3pkHSXJc5/336uprZrrnntkLewN74lqcJAiAOEmJpA4SFC1KhEWbpuiQwlIwTIZo2QzLERKpkGTLlMygKUuiLIqgLNmiQgQlESQFkMJ938ACWACLuY+ds4+qyvQfmd3Tc+3M7M612PoiKioru6ryVU/P6+yX3/tefuMZMfVIHHCCdUO1nH01Xbm6OFe0+3JonGt92nIV7U0myS8bmMW6bCA2juyQCUyB0FdecnliPCYVCB+5rYHrLk2v64xWa21UwMpVqtk02OKaujwNUYTqO2HoZvVoaDXi55YB4RTakS27kVwB79A1JsW3IY/TkDel4zfBLF1rjZoYIxrqJx4eIB4fRSaGTNtKZVaR3rkLCVI4ze342/YizR04ze1mfxYlipTWTE+XeLHP55UBh8CFw9uFfd2CX7cIO3gqJozhmiNrm8V3JkgccIIzRqwME6ISacqRqdlWsayISmQW+kanDCuiVDF7pU28dbxO2cx37QKdb9KWs3ULdbmUOV487jfzj3bt0TTZtPBTNzbQssozHa0VytZ3M7XeKjjFsRrNTIUlo8WrFYHW6Im62L6fNgI82Txu925DMcs0GApapsHQz1LpTUM3AxMqiMdGiIYHiYYGzH54EK1j4jdfIR4ZNM9rIUGKzNYu3JYOgv1HcVs6cFo7zb6lA2eVUpiV0kwVS0xOTjM5bSplpJ0CB7fl2N8tBHMEmLTWfPP7FcaKLu+4OM29D4/TNxRyx3sWkU1bZ5xXDnj6tTd5/Oc/PYul4GbTJr3Y9lH3mpNJQxzPYi/guniNOcNqqNNuwHVwc1l0GFomg1M73wkC0MqcV8d2QKTGiEDEsiGsdq/9uVxjQtgt1TwnBmwhgW+0KqCmEQwa7bhoz6/TDTZ7BVS8rK1aSx0bQjMdGRaE0hplGRBKayoqMOWFFPZ1M1wmcOmfI/7lCLQ2aqYrZnbaZLUf0r6pmJH2Zxztaomfe57DjceyNDetzJEprYnCCBWHRFFEHEV2H6KiGH96CBXNJ5BmVAm0xgnSuLlmpNmK73i+rfuWgVRmU0hH1kNrTTwxRjQ8RDQ2SjTQR2gdbDQ8SDg8SKqzi/LLz866zsk1kNp9IX5HN+kDF+O1duK2duC1deC2rp6TnWurKk4ST44ypTwGp00RBcdxaMxlachlyGUX/1Vw71Mhx9+KuePGFIUGh0efm+bF10qJA94IxNMlTj34RB17IcbLN9WqUlBdJLN7vyVPZWA+SyF/+WHGHp3Pamh51xWM3Pvw/POPHWHskafn9S9ZDmlw/muXfv4nYOiNef35G27CrYzN69fb9hEuUCBRBRmGs/NZEAATqq2mBeE4giNmH3hCU1bwHJP57Lli9o752Rd4hn4W+OA567uoF8WaP/yrCbSGtoLDtUdSXH04RUtezCzdqpupOCaKKoSWahZGijhWZHzBCWe+RcRxagI8fkMB1w9wvMAW2TRt2WSMCAAdhkRjI8Sjw0SjVdrZCNF0kfLrrxKNDBGNDNcYBpkDRyg+/7SZWLS04be2k9l/kNT2C2i4+l34rR14be14rR04mbNPZX7wBUU6gD3dQsMClDAdllFTY0TW6caTo7WYsVPYQlPTNhobsmQzqdO+91prfvis5v4XHW66PODqg8bVRZFeM5nSM8F55YAbD+3jxkeWVb2ohrmMBl0V39G65qypc+hVlsMsh641up4JoZS5PorRWhlZB6Vs+SHLhADDgLCzUjtNJbetCS+YP8NzG3O4wQzboVYzzvPxU5lan5lRO2gRsm5gRd7twmHddi7AKJtpKqFhQwSeCX8MnVJ8674i37rPxDl++iaXlrx5pnxGo+ISfpVulvLxPCO+k/IajZyk520+Hm8co6bGUROnUONjhMMmMSIeG0VZqlk8NkJUiojHZtMXxfPx9x8BEdL7DuC1tNmt1TjYllbcfPOacXqrCCPNd5+Y4ah3NMVsyU1Tmq5wS9NjpCZ6jMjQjgNEAk46h9/chdvYjNvQjAQZ8sv4bJYqmu88qnj+TTiy0+H2y2e+KFOBsL1r49O2qzivHPCZYC6jIcH6QGtNObQLdqGZwZasozXxZE0phNacYrJkCL3ptFAOZzjYgQ9teeHw7gyNWYfAM3Qzzy1s1GPNg1bKiO9MjhnBnclxqxA2hgpDKideMU53cqxGOdTiUDk1ASI4jQXcKt1s5z6ThZbN4Ta34lkur5NrWPaXqgpDQ2dcreeLI6M1PDqAGu6nQa5kUucAGBh3GBg3Sn2XxxW2tHXg7jyEtHSRau42SS0rQLGieblXc2JQk0rBTZcIV+ybPaF44bWQvRdsnsW4xK0kWFdorc2inU1dLla0daymhlvV4ZbC2fkshaxxwGkfMoHQnDNKZo1pxxYIFZ56NmRswvy0vvZowB035chlNmYmWyumWa3zVlU5Gx1AT08aqllxAl2chMZ2ohMvzrpesg1ISxdOQyNe9/YZqlljHqexgM428b0TrTRmhYu2GmbIUoinp4iGhwhHhojGThH29RIODdbiv+HQIE46zf6vfmNFz6pKJcKhftSpYeKhPqKhPuKhfrMfHaLh4svQAyZs1tHRxVRwIdr87uLC9iK3HAvI59+/ojHrUSpVeLHf5fVB85nZ3iZc2C3k0rO/dMYmYgZHI95z3fwitRuFxAEnOGNUhdzDSBPGQiUyNLMwMiwIpWGiZGal5RDKliWR8WGiNDtb0HNN/LghDW1pqWkLp33TTgdCyjt9eOTALp+hsZiP3Jrj4K61+5mp48gI7ZQmoVK0Nd5m9lIqogdPUq30W0O2GTXUU6vx5jR3INlGyDXhH30HkmsylLNs45I6CpUIXrci+M+8Ac3pkB2pUdLlUXZMP088OkI0OgziMvXsU0TDQ6jSDPUkdcEuSq+9ipsv4Le24bd1kLnoEEFH15LPP/zXX6dy8nXCoX6iwX5TvRvIX3oJ0VuvIeksXnsXwY49uJe9g2DHLpO+3NLJ1pdTvPqMxhG4+VLh2L6Vq6BpralUKkxNTTE5NUWlEjJW3s72Vpf9W4RcauH7PXW8zEW701y0O5kBbwjKfYMc/+JXLBk89F0AAB14SURBVPPAsBocq8eA48xiR+BI7bX5rAbDKqixGqqv+x6CzOqbaUutukW1v8Z8qMZdq331zAfqJR8ExxNzr5r/MjFicQyjAqsbXGM9iBnfxJKr/Yb5ELmpOvaDsrFmTVGnLQNCz+yVpqLTTJU1cayJlCaOjRlBEDA0Mf9Dn88KU2XjWDMBFHJCyoOUrwm8qh6vmdUuzYRY+p/01qsy3HrVykn8VWitUVFo6rzV1XvzpkeNw7WKZyiT7OFXiobfC+D6tsZbBim0G+WvdG7WpoMszgoSJHQcmaoW46dMVYvxUcKxMaKBPuKxEdy9nyF2zRfNaNFjtNQBdMD//SLZqX685hbS+w+S2rGLhkuvsItsdfHftg7D0Fkhph59AFWcxm/vJHXsWvy2DvyOLoLurfjtnWb2vohTPbBdc3JIc/0Rh62tM+eUKpoX31R0NgsdzYIz53odVYgnRhiPXSami0Q2+y+dTtPe1sQFOee0KcpKaf7hoTIEafZs3zwOWLTWS5/1NsE+Sev/6l0wq+90egyLMREWYzW0XHcFI/etgAVxBmMf/vRtxL2vzutvu/VWvNL8ezk7D6BS82N6OpXjVNPWBcce9zuIY20ZEFLbazdLGIvVhpjRiHBtySRTHUPM3mNNMs9ipfm7HxXZ0elxeI+/bAqb0trUc4tiq24WEcVxjXLm6hiZHFrw2mxcxPEDxE9bepmt8+Z6iJ82HF53dVNch77wK6YI5tznyHcRj47gFpr57pFfYypoNl+44rArNcT+9grbt+VwGhrXVChntRdqnz0R8/XvGaea8uGCdoVPmbQuclvXc1AyqcqTW4+igiy5bJZcLoe7TK2K+58u8UffmuSTP9XIsQOr74BF5FGt9bGVXndezYDzlx3i9vt+OLv6RBTV9BfqKWgoQ1liAVYDaFQYWSZEnb6DCLoSzjAd7Bg4jum3LAeUNntAW0YFWs+wI7RGXAcdqZmFF7tv3NuC6yo7IZzRffBbW/DTVgtCnJkZdCoDmaydWTu117Xj0O5nzWxanDoGhEOXSE0jYrNhYETxt5bdkE0L1xxOcdlFPo1ZyGUco24WKYSYciW0qmaKyCrvNKZBlY3ql4gYqplVN0unugzNzPNxvADX9xHX25D3IX3JtYjn12K+prpFAck11krz5B+GqVHI5xyuPwTdzW3rYttqvh86jtCnBmkdHwX2AIbJ8lKPA2SADLfuyBK0b8NtbCGTK6y4wnLfiObBFzSXXxRw2UWbhwEB55kDRgQ3e+Y/UROsL6qpy5XQyEaWI814aSauOl3S3PNIiXseMSruH7rFpdBonENLg9Fc8D2HbMrH8xx8SzcLvOZNSTWrR8NtH1rynEt2wQXtcGjH5tO5nQtVmiYe7kcN9REN9RIP9aGG+0h1d8LkKE0a0vwSJdKYwJZww8GQG49l8LxrznjcNwcV//uemJTnccct6XmhjY3G+eWAE2wKKKWIlFmcM6nLhs8bhrZisT0uhzPZdo3pmHJofh24LsR1dTXbm4Vd3S5XHciSCkwscLHwx8MvhAyPa45dCG355dlreNwVVKWEFCftgtv0rMW34PB1OJmGs3xnVobtbWbbDNBaE4+fIh4eJBzsNdl1A71Eg2bf0FlAl+0ioOPgtnTgtnXj7j6Mk2/Faelk54MZXnhT4znCh673OLzrzEMFsdK81AMPPKfIpuBjt3gUGjaX84XEASc4S2i7SBcpCONqlQxNFBsh9+mK6a9YZkQlMv9gkwuUHnIEsimTUZfPmsKZKUsxS/seKd9k4/3DfSEDo4pUAB++Occ7Lz59VlQ97nsq4q0hxT8+ErKzy+Hy/Q6dTRHbmmNUXEGFIcQhMjVi5CDDMjqsUC2C6k+MUJ2hEaTNols6N08D+u0GrRTh6CiVvj4qI0PEg31U+vuo9PVSGegj7DeVuhtaZpym29yK195N9ugx0heaBBC3tQunuW1Blscle2NOTcb89Ls8trSe2ZRea80bQ/Dk60bYaf8Oh6MXCI2bTIi9ivPKAYdjEwzc/U+GLVBlNTgujmuZCHPYDuKKyeOvaj5UGQwLti2DwfNmMR5wHJOU5jizGQ9rAK1VHQvCxppRhpmhVa3CMloZcRk3MLHvap8ybIiyk0LZmHT9vqzTlCraaEMos49jjRekGZ2vBU8u7TJRAt+Kuad9oSnjEPiw1REC31DLAh9Snix7Qe2aIyn6hmM++O4chcbFKyJEsTKLbnFEHFWIopi052EEQoUTfTEn+kxI45Z9g1y21WSQuX5AKiwifgo33VBbdBM/heO4OKmMEdjZxCGMlUBrTTQ2RqV/gHJ/H+X+ASoDA+g4ovjSC5T7+qkM9KNDm768YxtMDONkcwRdXaS6t9J46TGCji6yO7fjdXTjtXWuWBviyC6XI7vOTDcjDCPGJ4sMjsc8fjJPIQc37oWuwub+GyUsiDPQY1iUBbESLQgRUl1tVAZHrVOe6UfEjD00vyLG3l94B+HJV+pSlM3W/eO34k8NzDvf3XMQZ4HUZZVppNi8iBZEwxZiu0hYXZxzHAfl5anEht0wa3M9NA6eZ2QAPddUzXAd8NYxODk0MsHEVInQOt4qmjJCWDLfED94vsCzb6RtIgA0phV7uxU/ea1DKmOqXmw28ZyzgSqXqQwPEw4OUB4aodzTQ2VgkPKAcbKVgUHSW7cw9vCcz63rUrjqCogqpDo7CTq7CDo7Tbujk9SWLXiNy8j+WEPEsWJ8qsj4xDTTJaNhmkn5BNlWupqddY33nikL4rxywJcePKS/98dft4yH2Mb24jo2g2FHUGVJqDo9BzVTyUI8j7hUmmFIWGaDk04RTUzNzDatroOTSRFPTFmmwwzjQTwXVQ7r1MuoOVUJfPQCJVwLh7pwVGmWQhoiZLd1E6SqM+46dbVsI042W+sXu9eOh8o0GGZEVYHNvq4ds0B1LulCAAwMj1MsVWplhTzPxXed2gKc67p899GQ7zwUIsC7Lva47cqAlH/uPGMVcblENDpCNDJMODxMODJs20OUR8Ypvv4G4dAg0XidLu++A0w8+RROKkXQ0U7Q0UGqo4PM3j142YxxrJ0dBJ2dBK3rV45oudAqJp4cRY0PE00M81ZmJ1GsCXyPfGOGpoYsgb8xP+oTGtoy4GYzNF918UabkWCN0NG6dIrpoZ0ebw0pbrrMZ3vHJnMwWqNLReLxUeKxU6jxUaLJCUon3yIatapmoyOmuGZxmvLcuI/r4je34G3bQ3rbNhovuYSgvZ2grQ2/rR2/rY2gvR2vqemc+GLVxUnUSD+RCoknhlGTp2rZhU62ifbGgFRDE+nAPyeeZyGcVw44weaBrpa1j5VJYbYLd90ta8vT3NLmcOft61sLTWsFpWnU1ARqcox4dNiI71iRHTUxhnJTTD/16CyRcwCampl+owev0ILb3EKwdTvZwxfjFVqgoYDf3GKz21rxmvLnZFxaK0U8MgBTp9Cj/aiRPtRoPxQNX1sfuRpcD79zJ25TK25jK+L5nL045sYjccCbHFrDfc9DLg2Hthkx880IpYwDjZQyqcqxWaQrhVVWhCKMjaN1HJgsahYKfnUWfJxNUrttKWil0KUpKE7WxHYoTqKLk8TFadTASfSUEd3BxtRVvovw+HMAJnW5IY/TmMdrbSf3zltwm5px80Z4x20qGAGe06T2nktQ5RJhfy9MDBMP9BAN9hAP9hIP90EUkTt6FMrTpkZc9y6c5k6kpQtp6cTxl7+gV6qEuI4JO212nFcOWFVCim/2zmIv4IjJLKpjOswwJCzDYQM//JGCV+3a2nMn4aKtcHi70VZYLrTVf8DGpdE2U08ctI5trDq2rykqTmC0IWx8W9l2RdJUYo1SCqWUZUMoxMsyNq3mjZsOPMaL1cU4wXcdUr5jhd2rlYjFsiTM8WbwM1ordKWMDkum3FCliEyM1tV3sxoQlaKptTQ9pxxIKgON7Ugqi9PSiWSbjPhOrsmUInrvR43ozhpUkFhNnBgwSwzbWpeX6FFjU1iVNTXcS6W/h7Cvh0pfD/HoMDgOLXu3Ahqn0IrbvoVg7yHc9i1423bhtnQgK8x0A4hixfhkkVPjRYrlkLbmHJ3LCEltNM6rRbgzZkHUlwtyHfKXHWL8qRdm+iwNLX/FUcYfe3ae0E7DgT1MvfTaPKEdvzlPNG7Lcdd5HhHByzcSjU0Qez5v/O7fzDZMaxDhyB9+GCcsgVJsue2d+MVBIxSjdc2hpvYdxPNj5kJnm4haFla+mizsQKnZ14jjoLJtVCKN6zhGH8J1cB0HcQM0jtWGcIw+hCu4Ivies2lmtFprVByjojJUSqiwggrLqLCCjsqIipHRXnRYnnsh7uQp8FNIKouks6bcUDqHuL7Rg8jkkHSD7dv8M6/l4Bs/MtWnPQd2dsDONkWmOIoz2EOpp5dSTx+6UqTyxnHKvT2Ue3pRRSNOlOrsJB2UcfPN+F3dBF1b8Tu3EHRtIbXjAvz27rP+AtJRSHF6muFpxcRkCQ2kAo9CY4ZCYwZvHWfAySLcMpDZuZUjv/5fZrMXAB1GtnKFmtGEUAoRQVkNh/p+tyFH4cqLZ1ewUAq/tUBmW9eMtoTWoDR+S55Ue+ts6hggqQBVLM0m8du2k0mjiiVUPSVKKZNFFJcJymM0HTmMIxoRB797G0GwdRbTAcfBLbTgNmTtl4Vb68f18HIFcNw6vrJpp92gxol2qoyKzTA1XQRGFlMbYZ2qwE4c48QV4lLR1nYLiaMI0GR8FyZmhHfE83G8FG6Qwm3uQoK0carBzIYX4LyN6GlzoZWiPDBMqXeQ0ps9lE724+58D2FDC5GC472a430O0Eru7++m8OdfBKBwxVGCrCbV1U3jpZeT2rKFVFc3QVcX6W3bcLO51bMxjognRojHhojHh1BTp6g0dTOV3kFzPkuhKUs62BjtjjPFeTUDPnbsmH7kkUc22owVQSn42r2m3Zg2+f+7Omo1O9/WqGbZhbEijBQqNo7ViOsYZbMwjkm7inJ5fmpdY+BCWMLxDL/X9Tyzd1081zUKZ15w1gtXa6EOtlowYYEJSr0DlPsGKfcOUOodIBwZZ+rlE5R6Bij19FPuHURHEc3vuJzRHz0KwMRvfZXw8neYL2et8cIiOTXJFc5LNG7tILWlC6+pcdnPXglNGvlyVPK0itGnhlAjvaiRPrTrEUbF2q8/p6EZt6kNt6kVp6ltwzUezqkZsIi0AHcBO4ETwB1a63lZByLyHeBq4Ida6x+v698FfANoBR4Ffk5rXVkt+zbTP5TjwGW7TMx3T6c5PtcRK22cqDKONYrNcRirWvZa1enWzw8aAlNI06iYOXiuSyYVkA6EhlwW1xbRrO4XEtv54+9UcB04tt/lwh2nD49orUxVCxvz1ZUSjA3ZBbcpdGkSXZyCSpHUT/7SupaV10oRjY9TGRoiHBpm+s0+Kv2DlAeGKA8MUhkYotQ3QPGNUcKRU/OuL1x5GeHIKVLdHbRefxXprZ2kt3SS2bmVVEcr6W1dPD7exvE+8/7s3yJcuitL4GWBjpXbqzV//D3jP3d2aPZ0GSEh3wM1PmoW5QbeQnSEjPehRwdqusv4Ac7WffgXXGicbmPLkoL15wo26ik+C9yjtf4tEfmsPf7MAuf9NpAF/s2c/i8Av6e1/oaIfBn4OPA/VsOw8PmHKf/wb/EPX01wybuQdRZYWQhHL1j6nI2AmaGaBbkq6yGOFbEylYajWKMRihXrWO2mNaR8l1I4e+Guqi8ceA65tI/nGmGd6t73BN91cZwzD4m83m90KV54MyITaA50VyiWFe87MEhaptGVMqIUDL5hFtnqvwH8NAy+ZTQg0g0m7tvYYrQgVLwqkmSqUiE6NUI0MmKSK0ZHCEcN/zcOFWNPPENleIhweMQUegXcpjwTL/WbdkOOVGc7qY528pceof3WbvyWAumudlLdHaS7O0h1teM1LB0a2OrB6JSZAHSdZRk9VSoh2qcSu7zco3i516npGN/05JdomzgOQOrAUdLdXbgXXWlKMrV2mfd4k0yIVhsb5YA/ANxg238K/IAFHLDW+h4RuaG+T8xf4t3Av6i7/vMswwHHxRITzx1foDoFNc0H1XsS4pDwyfsIn7kfd/8VOPsuxWkozFS5EDH6DnXHG/EBMTHm+qy72KzlKQUqrmXygamYgYprm45jNBr8YIYBoWLTjmMqqZz5GWjva+LfMeV0gXIlRFVj3BZuqonJUjTLPkeEdDpFFJuU5HTg2kU6s1BnMtXswp139qmjZpEtQkURsa1moaIIJyqhSlOoqELW200lMos/xYrw2OumvZVprurqMzHfdA63dSukMmbRzVa6IJU1r69w9qW1Rk9PmqoWE5b3O3GKcGKSysk3iMZGie2mpiZxtu1n/LHHZm4ggpcvEOzej5dvIrNnN0FbG0FrK35bG35LC35zG6nONtzs6rFjd7SZbVnPGMeUBwYo9/RQequH0ltvUe7pJd0UUHz2CaLRYTI//juUu4+adQhtksE9Xabz+utp7P4QXsdWJLf8kMbbARvlgDu11r223Qd0ruDaVuCU1rr6334SWLi0wxwU3+jl3ot/bF5/fdxr1/sOsf2W/eZDEEfEz99P/Pz9nPj2c7x+9wunH8BxLOPhhK0CL7U034O/9zl2/MLSGq/1+N7ed1MeGJ5JVdYaraH7A5cy/eLz8xS4dn/kvXjjJ+fdJ33wYnwvmtevc3lUS/uCY5dbd6K1MqWbnKpIkYdv46iO48xsros4Hm2Oa9gPjoPrrm8uPsDgiZeI5iYyALmUZ2PBKfJZzamS+efXwBV7Iq68yGVLxxHEWZssyZEv/Seik6/N69edu6j09eLmmwm2bMc9cBQ334LT3EbL+z9kygY1t+AVCpv+J/czn/wUYw/V6UmIELS303HL9TRcdgXBlm105ts5VTHvfFNWeM/lQkc+DVy/UWZvONZsEU5EvgssxHP6HPCnWutC3bmjWuvmRe5zA/DpagxYRNqAB7TWe+3xduBurfXhRa7/BPAJe3gh8OJC5y0TbcDCdWvWD4kNm8OGjR4/sWFz2XCh1nrF6kRr9rWqtb55sddEpF9EurXWvSLSDcyX8Vocw0BBRDw7C94GvHUaO74CfGUF918UIvLImax0riYSGzaHDRs9fmLD5rPhTK7bqDX1bwEfs+2PAX9zmnNnQZsp+/eBD57J9QkSJEiwWbBRDvi3gFtE5GXgZnuMiBwTka9WTxKR+4C/BG4SkZMicpt96TPAr4rIcUxM+I/W1foECRIkWAVsSGRfaz0M3LRA/yPAv6o7vm6R618FrlwzAxfHqoQyzhKJDQYbbcNGjw+JDVWcszacV5lwCRIkSLCZ8DbIq0qQIEGCcxOJAz4NRKRFRP5RRF62+wWpcvbcJhun/tJ62yAil4jI/SLyrIg8JSIfXqWxbxeRF0XkuM1YnPt6SkTusq8/KCI7V2PcFYz/qyLynH3me0Rk1XMGl7Kh7ryfFhEtIqu+Gr8cG0TkDvtePCsiX19vG0Rkh4h8X0Qet3+P967y+P9LRAZE5JlFXhcR+X1r31Mictlqjr9MG37Wjv20iPyziCxNLNdWoSvZ5m/AF4HP2vZngS+c5tz/Bnwd+NJ62wDsB/bZ9hagFyic5bgu8AqwGwiAJ4GDc875FPBl2/4Z4K5VfO7ljH8jkLXtX1zN8Zdrgz2vEbgXeAA4tt42APuAx4Fme9yxATZ8BfhF2z4InFhlG94FXAY8s8jr7wXuBgSjH/Pgao6/TBuurfsbvGc5NiQz4NPjA5hUZ+z+JxY6SUQux2Tz/cNG2KC1fklr/bJt92B41QunuC0fVwLHtdavaiN09A1ry2K2/R8MW2W10t+WHF9r/X2t9bQ9fADDCV9NLOc9APgNjD7JfEm29bHhXwN/oK2gldZ6Jbz61bJBA1UF9DzQs5oGaK3vBRYW7jb4APA1bfAAJlegez1t0Fr/s54RFVvW5zFxwKfHkinTYiSwfgf49EbZMMeeKzGzlFfOctytwJt1xwulfNfO0SYpZgxDC1wNLGf8enwcMwNaTSxpg/2pu11r/XerPPaybcD8AtovIj8SkQdE5PYNsOHzwEdF5CTwbeCXVtmGpbDSz8taY1mfx82dYL4OWCJlugattRaRhSgjnwK+rbU+eaaTv1WwoXqfbuDPgI9prefXCHqbQkQ+ChxjnUUF7Jfv7wJ3rue4C8DDhCFuwMy67hWRI1rr+TqUa4ePAH+itf4dEbkG+DMROXw+fQ6rEJEbMQ74nUude947YH32KdPXANeJyKeABiAQkUmt9aILNmtgAyLSBPwd8Dn7E+xs8Rawve54oZTv6jknRcTD/PQcXoWxlzs+InIz5ovqeq31fCWetbWhETgM/MB++XYB3xKR92vDaV8PG8DM9h7UWofAayLyEsYhP8zqYDk2fBy4HUBrfb+IpDEaDasdDlkMy/q8rDVE5CjwVeA92uQ7nB6rHah+O20YPeL6BbAvLnH+naz+ItySNmBCDvcA/24Vx/WAV4FdzCy8HJpzzr9l9iLcN9d5/EsxoZZ9a/T3X9KGOef/gNVfhFvO+3A7RuAKjNN7E2hdZxvuBu607QOYGLCs8nuxk8UXwH6M2YtwD63RZ+J0NuwAjgPXLvt+a2Hk22XDxDPvAV4Gvgu02P5jwFcXOH8tHPCSNgAfBULgibrtklUY+73AS9bJfc72/Wfg/badxqSKHwceAnav8rMvNf53gf66Z/7WGnwGTmvDnHNX3QEv830QTCjkOeBp4Gc2wIaDwI+sc34CuHWVx/8LDLsnxMz4Pw58Evhk3XvwB9a+p9fo77CUDV8FRus+j48sdc8kEy5BggQJNggJCyJBggQJNgiJA06QIEGCDULigBMkSJBgg5A44AQJEiTYICQOOEGCBAk2CIkDTrDhEJFfFpHnReTPV3hdwSbArIYNN4jItXXHnxSRnz/De90pIlvOwpbrReT+OX2eTco54/sm2HxIHHCCzYBPAbdorX92hdcV7LWrgRswalYAaK2/rLX+2hne606MKt2yISJu3eF9wLY58po3A89qI7aU4G2CxAEn2FCIyJcxMod3i8iviMiVVtv4caupeqE975CIPCQiT1jN1X2YWoJ7bN9vL3Dv/ycij1qN3E/U9d8uIo+JyJNWR3gnhlD/K/Ze14nI50Xk0yJykYg8VHftThF52rb/o4g8LCLPiMhXrCbtBzFJMn9u75URkZvs8zxtNWVT9voTIvIFEXkM+FB1DG30E76JyS6s4mcwiQAJ3k5Y7WyRZEu2lW7ACaDNtpsAz7ZvBv7Ktv878LO2HQAZTpMWas+rZg1mgGcwWYXtmFTdXXPO+Tzw6bpra8eYrKbq+Z8B/kP9tbb9Z8D7bPsH2EwsTLbgm8B+e/w1bMq4fe5/v4jtx4DHbTuF0VRoWexZk+3c3JIZcILNhjzwl7bqwO8Bh2z//cCvichngAu01sVl3OuXReRJjDbrdoxAzdXAvVrr1wC01qfTmK3im0C1ysiHgbts+0YxlUCeBt5dZ2s9LgRe01q/ZI//FCPsXcVd8y+pFahtsL8AquLey7E1wTmExAEn2Gz4DeD7WuvDwPswM0i01l8H3g8UgW+LyLtPdxMRuQEzg75Ga30xpmJE+gxtugu4Q0T2G1P0y1bt6w+BD2qtjwD/8wzvP3Wa1/4CE3pIwg9vUyQOOMFmQ54ZGcE7q50isht4VWv9+8DfAEeBCYwk5GL3GdVaT4vIRZiZL5jZ8LtEZJe9b4vtX/ReWutXgBj4dWZmrFVnOyQiDcAH6y6pv9eLwE4R2WuPfw74p0Vsnou/wAgtvRvzzAneZkgccILNhi8CvykijzNbr/oO4BkReQKjwfs1bfRWf2QXweYuwn0H8ETkecxi3QMAWutB4BPAX9vwRNWh/i3wk9VFuAXsugvjDL9p73MKM+t9Bvh7Zmvv/gnwZWurAP8SE1Z5GlDAl5fzRmitn8fMkL+ntT7dTDnBOYpEDS1BggQJNgjJDDhBggQJNgiJA06QIEGCDULigBMkSJBgg5A44AQJEiTYICQOOEGCBAk2CIkDTpAgQYINQuKAEyRIkGCDkDjgBAkSJNgg/H/C3p9JmUqlQQAAAABJRU5ErkJggg==\n"
                },
                "metadata": {
                  "needs_background": "light"
                }
              }
            ]
          }
        },
        "71ce1171120545ee86ee37e906db10b0": {
          "model_module": "@jupyter-widgets/base",
          "model_name": "LayoutModel",
          "model_module_version": "1.2.0",
          "state": {
            "_model_module": "@jupyter-widgets/base",
            "_model_module_version": "1.2.0",
            "_model_name": "LayoutModel",
            "_view_count": null,
            "_view_module": "@jupyter-widgets/base",
            "_view_module_version": "1.2.0",
            "_view_name": "LayoutView",
            "align_content": null,
            "align_items": null,
            "align_self": null,
            "border": null,
            "bottom": null,
            "display": null,
            "flex": null,
            "flex_flow": null,
            "grid_area": null,
            "grid_auto_columns": null,
            "grid_auto_flow": null,
            "grid_auto_rows": null,
            "grid_column": null,
            "grid_gap": null,
            "grid_row": null,
            "grid_template_areas": null,
            "grid_template_columns": null,
            "grid_template_rows": null,
            "height": null,
            "justify_content": null,
            "justify_items": null,
            "left": null,
            "margin": null,
            "max_height": null,
            "max_width": null,
            "min_height": null,
            "min_width": null,
            "object_fit": null,
            "object_position": null,
            "order": null,
            "overflow": null,
            "overflow_x": null,
            "overflow_y": null,
            "padding": null,
            "right": null,
            "top": null,
            "visibility": null,
            "width": null
          }
        },
        "7241bf2f3b6c477ca8834b64b168b892": {
          "model_module": "@jupyter-widgets/base",
          "model_name": "LayoutModel",
          "model_module_version": "1.2.0",
          "state": {
            "_model_module": "@jupyter-widgets/base",
            "_model_module_version": "1.2.0",
            "_model_name": "LayoutModel",
            "_view_count": null,
            "_view_module": "@jupyter-widgets/base",
            "_view_module_version": "1.2.0",
            "_view_name": "LayoutView",
            "align_content": null,
            "align_items": null,
            "align_self": null,
            "border": null,
            "bottom": null,
            "display": null,
            "flex": null,
            "flex_flow": null,
            "grid_area": null,
            "grid_auto_columns": null,
            "grid_auto_flow": null,
            "grid_auto_rows": null,
            "grid_column": null,
            "grid_gap": null,
            "grid_row": null,
            "grid_template_areas": null,
            "grid_template_columns": null,
            "grid_template_rows": null,
            "height": null,
            "justify_content": null,
            "justify_items": null,
            "left": null,
            "margin": null,
            "max_height": null,
            "max_width": null,
            "min_height": null,
            "min_width": null,
            "object_fit": null,
            "object_position": null,
            "order": null,
            "overflow": null,
            "overflow_x": null,
            "overflow_y": null,
            "padding": null,
            "right": null,
            "top": null,
            "visibility": null,
            "width": null
          }
        },
        "885b13584c464f08987a815f47f07b58": {
          "model_module": "@jupyter-widgets/controls",
          "model_name": "SliderStyleModel",
          "model_module_version": "1.5.0",
          "state": {
            "_model_module": "@jupyter-widgets/controls",
            "_model_module_version": "1.5.0",
            "_model_name": "SliderStyleModel",
            "_view_count": null,
            "_view_module": "@jupyter-widgets/base",
            "_view_module_version": "1.2.0",
            "_view_name": "StyleView",
            "description_width": "",
            "handle_color": null
          }
        },
        "9a68e06253e740a998b648cf8541310e": {
          "model_module": "@jupyter-widgets/base",
          "model_name": "LayoutModel",
          "model_module_version": "1.2.0",
          "state": {
            "_model_module": "@jupyter-widgets/base",
            "_model_module_version": "1.2.0",
            "_model_name": "LayoutModel",
            "_view_count": null,
            "_view_module": "@jupyter-widgets/base",
            "_view_module_version": "1.2.0",
            "_view_name": "LayoutView",
            "align_content": null,
            "align_items": null,
            "align_self": null,
            "border": null,
            "bottom": null,
            "display": null,
            "flex": null,
            "flex_flow": null,
            "grid_area": null,
            "grid_auto_columns": null,
            "grid_auto_flow": null,
            "grid_auto_rows": null,
            "grid_column": null,
            "grid_gap": null,
            "grid_row": null,
            "grid_template_areas": null,
            "grid_template_columns": null,
            "grid_template_rows": null,
            "height": null,
            "justify_content": null,
            "justify_items": null,
            "left": null,
            "margin": null,
            "max_height": null,
            "max_width": null,
            "min_height": null,
            "min_width": null,
            "object_fit": null,
            "object_position": null,
            "order": null,
            "overflow": null,
            "overflow_x": null,
            "overflow_y": null,
            "padding": null,
            "right": null,
            "top": null,
            "visibility": null,
            "width": null
          }
        },
        "f17956728f0046109bcaca091a6a9018": {
          "model_module": "@jupyter-widgets/controls",
          "model_name": "SliderStyleModel",
          "model_module_version": "1.5.0",
          "state": {
            "_model_module": "@jupyter-widgets/controls",
            "_model_module_version": "1.5.0",
            "_model_name": "SliderStyleModel",
            "_view_count": null,
            "_view_module": "@jupyter-widgets/base",
            "_view_module_version": "1.2.0",
            "_view_name": "StyleView",
            "description_width": "",
            "handle_color": null
          }
        },
        "95282d1fb1a940318367c50417bcf7a0": {
          "model_module": "@jupyter-widgets/base",
          "model_name": "LayoutModel",
          "model_module_version": "1.2.0",
          "state": {
            "_model_module": "@jupyter-widgets/base",
            "_model_module_version": "1.2.0",
            "_model_name": "LayoutModel",
            "_view_count": null,
            "_view_module": "@jupyter-widgets/base",
            "_view_module_version": "1.2.0",
            "_view_name": "LayoutView",
            "align_content": null,
            "align_items": null,
            "align_self": null,
            "border": null,
            "bottom": null,
            "display": null,
            "flex": null,
            "flex_flow": null,
            "grid_area": null,
            "grid_auto_columns": null,
            "grid_auto_flow": null,
            "grid_auto_rows": null,
            "grid_column": null,
            "grid_gap": null,
            "grid_row": null,
            "grid_template_areas": null,
            "grid_template_columns": null,
            "grid_template_rows": null,
            "height": null,
            "justify_content": null,
            "justify_items": null,
            "left": null,
            "margin": null,
            "max_height": null,
            "max_width": null,
            "min_height": null,
            "min_width": null,
            "object_fit": null,
            "object_position": null,
            "order": null,
            "overflow": null,
            "overflow_x": null,
            "overflow_y": null,
            "padding": null,
            "right": null,
            "top": null,
            "visibility": null,
            "width": null
          }
        },
        "66c488afe0f74e969555b246204b798b": {
          "model_module": "@jupyter-widgets/controls",
          "model_name": "SliderStyleModel",
          "model_module_version": "1.5.0",
          "state": {
            "_model_module": "@jupyter-widgets/controls",
            "_model_module_version": "1.5.0",
            "_model_name": "SliderStyleModel",
            "_view_count": null,
            "_view_module": "@jupyter-widgets/base",
            "_view_module_version": "1.2.0",
            "_view_name": "StyleView",
            "description_width": "",
            "handle_color": null
          }
        },
        "443c26a29e1345a48e54a455addd08e3": {
          "model_module": "@jupyter-widgets/base",
          "model_name": "LayoutModel",
          "model_module_version": "1.2.0",
          "state": {
            "_model_module": "@jupyter-widgets/base",
            "_model_module_version": "1.2.0",
            "_model_name": "LayoutModel",
            "_view_count": null,
            "_view_module": "@jupyter-widgets/base",
            "_view_module_version": "1.2.0",
            "_view_name": "LayoutView",
            "align_content": null,
            "align_items": null,
            "align_self": null,
            "border": null,
            "bottom": null,
            "display": null,
            "flex": null,
            "flex_flow": null,
            "grid_area": null,
            "grid_auto_columns": null,
            "grid_auto_flow": null,
            "grid_auto_rows": null,
            "grid_column": null,
            "grid_gap": null,
            "grid_row": null,
            "grid_template_areas": null,
            "grid_template_columns": null,
            "grid_template_rows": null,
            "height": null,
            "justify_content": null,
            "justify_items": null,
            "left": null,
            "margin": null,
            "max_height": null,
            "max_width": null,
            "min_height": null,
            "min_width": null,
            "object_fit": null,
            "object_position": null,
            "order": null,
            "overflow": null,
            "overflow_x": null,
            "overflow_y": null,
            "padding": null,
            "right": null,
            "top": null,
            "visibility": null,
            "width": null
          }
        },
        "0ba6b383c8cd442a8b792c192446d3be": {
          "model_module": "@jupyter-widgets/controls",
          "model_name": "VBoxModel",
          "model_module_version": "1.5.0",
          "state": {
            "_dom_classes": [
              "widget-interact"
            ],
            "_model_module": "@jupyter-widgets/controls",
            "_model_module_version": "1.5.0",
            "_model_name": "VBoxModel",
            "_view_count": null,
            "_view_module": "@jupyter-widgets/controls",
            "_view_module_version": "1.5.0",
            "_view_name": "VBoxView",
            "box_style": "",
            "children": [
              "IPY_MODEL_02a9e4565fc24a7a9cd306b65b90f79c",
              "IPY_MODEL_7c742f76d6934e448cb6ebddb9118501",
              "IPY_MODEL_76e8e4cc752340cbb1ad7fc8bb9d3649",
              "IPY_MODEL_a6a3e5be95ff4f389270caa7714ee581"
            ],
            "layout": "IPY_MODEL_7903582d22c04313b27b36d1b14d2e34"
          }
        },
        "02a9e4565fc24a7a9cd306b65b90f79c": {
          "model_module": "@jupyter-widgets/controls",
          "model_name": "FloatSliderModel",
          "model_module_version": "1.5.0",
          "state": {
            "_dom_classes": [],
            "_model_module": "@jupyter-widgets/controls",
            "_model_module_version": "1.5.0",
            "_model_name": "FloatSliderModel",
            "_view_count": null,
            "_view_module": "@jupyter-widgets/controls",
            "_view_module_version": "1.5.0",
            "_view_name": "FloatSliderView",
            "continuous_update": true,
            "description": "i_ext",
            "description_tooltip": null,
            "disabled": false,
            "layout": "IPY_MODEL_3766ef9b33194b68a871d1fc8171b6f8",
            "max": 0.3,
            "min": -0.2,
            "orientation": "horizontal",
            "readout": true,
            "readout_format": ".2f",
            "step": 0.01,
            "style": "IPY_MODEL_a680be3fbf1e4115b03dea5e91a04639",
            "value": 0
          }
        },
        "7c742f76d6934e448cb6ebddb9118501": {
          "model_module": "@jupyter-widgets/controls",
          "model_name": "FloatSliderModel",
          "model_module_version": "1.5.0",
          "state": {
            "_dom_classes": [],
            "_model_module": "@jupyter-widgets/controls",
            "_model_module_version": "1.5.0",
            "_model_name": "FloatSliderModel",
            "_view_count": null,
            "_view_module": "@jupyter-widgets/controls",
            "_view_module_version": "1.5.0",
            "_view_name": "FloatSliderView",
            "continuous_update": true,
            "description": "V_thr",
            "description_tooltip": null,
            "disabled": false,
            "layout": "IPY_MODEL_901fa7349c5e4444b8ea99f519201ba9",
            "max": 1,
            "min": 0,
            "orientation": "horizontal",
            "readout": true,
            "readout_format": ".2f",
            "step": 0.1,
            "style": "IPY_MODEL_126094423d034c318f376f7596d01b3e",
            "value": 0.2
          }
        },
        "76e8e4cc752340cbb1ad7fc8bb9d3649": {
          "model_module": "@jupyter-widgets/controls",
          "model_name": "FloatSliderModel",
          "model_module_version": "1.5.0",
          "state": {
            "_dom_classes": [],
            "_model_module": "@jupyter-widgets/controls",
            "_model_module_version": "1.5.0",
            "_model_name": "FloatSliderModel",
            "_view_count": null,
            "_view_module": "@jupyter-widgets/controls",
            "_view_module_version": "1.5.0",
            "_view_name": "FloatSliderView",
            "continuous_update": true,
            "description": "beta",
            "description_tooltip": null,
            "disabled": false,
            "layout": "IPY_MODEL_e237aac96a37417cbe01bdc27c5b44c9",
            "max": 0.5,
            "min": 0.05,
            "orientation": "horizontal",
            "readout": true,
            "readout_format": ".2f",
            "step": 0.01,
            "style": "IPY_MODEL_9ad15c0a08694927b3b4ae2746304b81",
            "value": 0.4
          }
        },
        "a6a3e5be95ff4f389270caa7714ee581": {
          "model_module": "@jupyter-widgets/output",
          "model_name": "OutputModel",
          "model_module_version": "1.0.0",
          "state": {
            "_dom_classes": [],
            "_model_module": "@jupyter-widgets/output",
            "_model_module_version": "1.0.0",
            "_model_name": "OutputModel",
            "_view_count": null,
            "_view_module": "@jupyter-widgets/output",
            "_view_module_version": "1.0.0",
            "_view_name": "OutputView",
            "layout": "IPY_MODEL_8adeedc69fd6464ea34142648473ebe5",
            "msg_id": "",
            "outputs": [
              {
                "output_type": "display_data",
                "data": {
                  "text/plain": "<Figure size 360x360 with 1 Axes>",
                  "image/png": "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\n"
                },
                "metadata": {
                  "needs_background": "light"
                }
              }
            ]
          }
        },
        "7903582d22c04313b27b36d1b14d2e34": {
          "model_module": "@jupyter-widgets/base",
          "model_name": "LayoutModel",
          "model_module_version": "1.2.0",
          "state": {
            "_model_module": "@jupyter-widgets/base",
            "_model_module_version": "1.2.0",
            "_model_name": "LayoutModel",
            "_view_count": null,
            "_view_module": "@jupyter-widgets/base",
            "_view_module_version": "1.2.0",
            "_view_name": "LayoutView",
            "align_content": null,
            "align_items": null,
            "align_self": null,
            "border": null,
            "bottom": null,
            "display": null,
            "flex": null,
            "flex_flow": null,
            "grid_area": null,
            "grid_auto_columns": null,
            "grid_auto_flow": null,
            "grid_auto_rows": null,
            "grid_column": null,
            "grid_gap": null,
            "grid_row": null,
            "grid_template_areas": null,
            "grid_template_columns": null,
            "grid_template_rows": null,
            "height": null,
            "justify_content": null,
            "justify_items": null,
            "left": null,
            "margin": null,
            "max_height": null,
            "max_width": null,
            "min_height": null,
            "min_width": null,
            "object_fit": null,
            "object_position": null,
            "order": null,
            "overflow": null,
            "overflow_x": null,
            "overflow_y": null,
            "padding": null,
            "right": null,
            "top": null,
            "visibility": null,
            "width": null
          }
        },
        "3766ef9b33194b68a871d1fc8171b6f8": {
          "model_module": "@jupyter-widgets/base",
          "model_name": "LayoutModel",
          "model_module_version": "1.2.0",
          "state": {
            "_model_module": "@jupyter-widgets/base",
            "_model_module_version": "1.2.0",
            "_model_name": "LayoutModel",
            "_view_count": null,
            "_view_module": "@jupyter-widgets/base",
            "_view_module_version": "1.2.0",
            "_view_name": "LayoutView",
            "align_content": null,
            "align_items": null,
            "align_self": null,
            "border": null,
            "bottom": null,
            "display": null,
            "flex": null,
            "flex_flow": null,
            "grid_area": null,
            "grid_auto_columns": null,
            "grid_auto_flow": null,
            "grid_auto_rows": null,
            "grid_column": null,
            "grid_gap": null,
            "grid_row": null,
            "grid_template_areas": null,
            "grid_template_columns": null,
            "grid_template_rows": null,
            "height": null,
            "justify_content": null,
            "justify_items": null,
            "left": null,
            "margin": null,
            "max_height": null,
            "max_width": null,
            "min_height": null,
            "min_width": null,
            "object_fit": null,
            "object_position": null,
            "order": null,
            "overflow": null,
            "overflow_x": null,
            "overflow_y": null,
            "padding": null,
            "right": null,
            "top": null,
            "visibility": null,
            "width": null
          }
        },
        "a680be3fbf1e4115b03dea5e91a04639": {
          "model_module": "@jupyter-widgets/controls",
          "model_name": "SliderStyleModel",
          "model_module_version": "1.5.0",
          "state": {
            "_model_module": "@jupyter-widgets/controls",
            "_model_module_version": "1.5.0",
            "_model_name": "SliderStyleModel",
            "_view_count": null,
            "_view_module": "@jupyter-widgets/base",
            "_view_module_version": "1.2.0",
            "_view_name": "StyleView",
            "description_width": "",
            "handle_color": null
          }
        },
        "901fa7349c5e4444b8ea99f519201ba9": {
          "model_module": "@jupyter-widgets/base",
          "model_name": "LayoutModel",
          "model_module_version": "1.2.0",
          "state": {
            "_model_module": "@jupyter-widgets/base",
            "_model_module_version": "1.2.0",
            "_model_name": "LayoutModel",
            "_view_count": null,
            "_view_module": "@jupyter-widgets/base",
            "_view_module_version": "1.2.0",
            "_view_name": "LayoutView",
            "align_content": null,
            "align_items": null,
            "align_self": null,
            "border": null,
            "bottom": null,
            "display": null,
            "flex": null,
            "flex_flow": null,
            "grid_area": null,
            "grid_auto_columns": null,
            "grid_auto_flow": null,
            "grid_auto_rows": null,
            "grid_column": null,
            "grid_gap": null,
            "grid_row": null,
            "grid_template_areas": null,
            "grid_template_columns": null,
            "grid_template_rows": null,
            "height": null,
            "justify_content": null,
            "justify_items": null,
            "left": null,
            "margin": null,
            "max_height": null,
            "max_width": null,
            "min_height": null,
            "min_width": null,
            "object_fit": null,
            "object_position": null,
            "order": null,
            "overflow": null,
            "overflow_x": null,
            "overflow_y": null,
            "padding": null,
            "right": null,
            "top": null,
            "visibility": null,
            "width": null
          }
        },
        "126094423d034c318f376f7596d01b3e": {
          "model_module": "@jupyter-widgets/controls",
          "model_name": "SliderStyleModel",
          "model_module_version": "1.5.0",
          "state": {
            "_model_module": "@jupyter-widgets/controls",
            "_model_module_version": "1.5.0",
            "_model_name": "SliderStyleModel",
            "_view_count": null,
            "_view_module": "@jupyter-widgets/base",
            "_view_module_version": "1.2.0",
            "_view_name": "StyleView",
            "description_width": "",
            "handle_color": null
          }
        },
        "e237aac96a37417cbe01bdc27c5b44c9": {
          "model_module": "@jupyter-widgets/base",
          "model_name": "LayoutModel",
          "model_module_version": "1.2.0",
          "state": {
            "_model_module": "@jupyter-widgets/base",
            "_model_module_version": "1.2.0",
            "_model_name": "LayoutModel",
            "_view_count": null,
            "_view_module": "@jupyter-widgets/base",
            "_view_module_version": "1.2.0",
            "_view_name": "LayoutView",
            "align_content": null,
            "align_items": null,
            "align_self": null,
            "border": null,
            "bottom": null,
            "display": null,
            "flex": null,
            "flex_flow": null,
            "grid_area": null,
            "grid_auto_columns": null,
            "grid_auto_flow": null,
            "grid_auto_rows": null,
            "grid_column": null,
            "grid_gap": null,
            "grid_row": null,
            "grid_template_areas": null,
            "grid_template_columns": null,
            "grid_template_rows": null,
            "height": null,
            "justify_content": null,
            "justify_items": null,
            "left": null,
            "margin": null,
            "max_height": null,
            "max_width": null,
            "min_height": null,
            "min_width": null,
            "object_fit": null,
            "object_position": null,
            "order": null,
            "overflow": null,
            "overflow_x": null,
            "overflow_y": null,
            "padding": null,
            "right": null,
            "top": null,
            "visibility": null,
            "width": null
          }
        },
        "9ad15c0a08694927b3b4ae2746304b81": {
          "model_module": "@jupyter-widgets/controls",
          "model_name": "SliderStyleModel",
          "model_module_version": "1.5.0",
          "state": {
            "_model_module": "@jupyter-widgets/controls",
            "_model_module_version": "1.5.0",
            "_model_name": "SliderStyleModel",
            "_view_count": null,
            "_view_module": "@jupyter-widgets/base",
            "_view_module_version": "1.2.0",
            "_view_name": "StyleView",
            "description_width": "",
            "handle_color": null
          }
        },
        "8adeedc69fd6464ea34142648473ebe5": {
          "model_module": "@jupyter-widgets/base",
          "model_name": "LayoutModel",
          "model_module_version": "1.2.0",
          "state": {
            "_model_module": "@jupyter-widgets/base",
            "_model_module_version": "1.2.0",
            "_model_name": "LayoutModel",
            "_view_count": null,
            "_view_module": "@jupyter-widgets/base",
            "_view_module_version": "1.2.0",
            "_view_name": "LayoutView",
            "align_content": null,
            "align_items": null,
            "align_self": null,
            "border": null,
            "bottom": null,
            "display": null,
            "flex": null,
            "flex_flow": null,
            "grid_area": null,
            "grid_auto_columns": null,
            "grid_auto_flow": null,
            "grid_auto_rows": null,
            "grid_column": null,
            "grid_gap": null,
            "grid_row": null,
            "grid_template_areas": null,
            "grid_template_columns": null,
            "grid_template_rows": null,
            "height": null,
            "justify_content": null,
            "justify_items": null,
            "left": null,
            "margin": null,
            "max_height": null,
            "max_width": null,
            "min_height": null,
            "min_width": null,
            "object_fit": null,
            "object_position": null,
            "order": null,
            "overflow": null,
            "overflow_x": null,
            "overflow_y": null,
            "padding": null,
            "right": null,
            "top": null,
            "visibility": null,
            "width": null
          }
        },
        "f1461ba3ae18406b8611f7ed2a75c345": {
          "model_module": "@jupyter-widgets/controls",
          "model_name": "VBoxModel",
          "model_module_version": "1.5.0",
          "state": {
            "_dom_classes": [
              "widget-interact"
            ],
            "_model_module": "@jupyter-widgets/controls",
            "_model_module_version": "1.5.0",
            "_model_name": "VBoxModel",
            "_view_count": null,
            "_view_module": "@jupyter-widgets/controls",
            "_view_module_version": "1.5.0",
            "_view_name": "VBoxView",
            "box_style": "",
            "children": [
              "IPY_MODEL_2502d9efc7634166813201a9b77911ff",
              "IPY_MODEL_2b17b549aa3f42bb8618fa29451f40e3",
              "IPY_MODEL_7810561ad1f647ba914e0d308b2c33f2",
              "IPY_MODEL_1c62cdfc58fa40f7813f12370ca5622c"
            ],
            "layout": "IPY_MODEL_e24d33a7fb614c849943fd46cead0a4d"
          }
        },
        "2502d9efc7634166813201a9b77911ff": {
          "model_module": "@jupyter-widgets/controls",
          "model_name": "FloatSliderModel",
          "model_module_version": "1.5.0",
          "state": {
            "_dom_classes": [],
            "_model_module": "@jupyter-widgets/controls",
            "_model_module_version": "1.5.0",
            "_model_name": "FloatSliderModel",
            "_view_count": null,
            "_view_module": "@jupyter-widgets/controls",
            "_view_module_version": "1.5.0",
            "_view_name": "FloatSliderView",
            "continuous_update": true,
            "description": "i_ext",
            "description_tooltip": null,
            "disabled": false,
            "layout": "IPY_MODEL_5676f471e7b44d67ad46c0c6d32ca209",
            "max": 0.3,
            "min": -0.2,
            "orientation": "horizontal",
            "readout": true,
            "readout_format": ".2f",
            "step": 0.01,
            "style": "IPY_MODEL_641322d32a0f4d308f927a5cad64ac10",
            "value": 0.04
          }
        },
        "2b17b549aa3f42bb8618fa29451f40e3": {
          "model_module": "@jupyter-widgets/controls",
          "model_name": "FloatSliderModel",
          "model_module_version": "1.5.0",
          "state": {
            "_dom_classes": [],
            "_model_module": "@jupyter-widgets/controls",
            "_model_module_version": "1.5.0",
            "_model_name": "FloatSliderModel",
            "_view_count": null,
            "_view_module": "@jupyter-widgets/controls",
            "_view_module_version": "1.5.0",
            "_view_name": "FloatSliderView",
            "continuous_update": true,
            "description": "V_thr",
            "description_tooltip": null,
            "disabled": false,
            "layout": "IPY_MODEL_6b7ac3a4741841c9ae5ef4ea868020a0",
            "max": 1,
            "min": 0,
            "orientation": "horizontal",
            "readout": true,
            "readout_format": ".2f",
            "step": 0.1,
            "style": "IPY_MODEL_96cd5097bed24926ac36f8656937ef6a",
            "value": 0.2
          }
        },
        "7810561ad1f647ba914e0d308b2c33f2": {
          "model_module": "@jupyter-widgets/controls",
          "model_name": "FloatSliderModel",
          "model_module_version": "1.5.0",
          "state": {
            "_dom_classes": [],
            "_model_module": "@jupyter-widgets/controls",
            "_model_module_version": "1.5.0",
            "_model_name": "FloatSliderModel",
            "_view_count": null,
            "_view_module": "@jupyter-widgets/controls",
            "_view_module_version": "1.5.0",
            "_view_name": "FloatSliderView",
            "continuous_update": true,
            "description": "beta",
            "description_tooltip": null,
            "disabled": false,
            "layout": "IPY_MODEL_753b1fb6f72c4d5287909e986f84b313",
            "max": 0.5,
            "min": 0.05,
            "orientation": "horizontal",
            "readout": true,
            "readout_format": ".2f",
            "step": 0.01,
            "style": "IPY_MODEL_ef2bc11e03e94f04894fb464aa969bbb",
            "value": 0.25
          }
        },
        "1c62cdfc58fa40f7813f12370ca5622c": {
          "model_module": "@jupyter-widgets/output",
          "model_name": "OutputModel",
          "model_module_version": "1.0.0",
          "state": {
            "_dom_classes": [],
            "_model_module": "@jupyter-widgets/output",
            "_model_module_version": "1.0.0",
            "_model_name": "OutputModel",
            "_view_count": null,
            "_view_module": "@jupyter-widgets/output",
            "_view_module_version": "1.0.0",
            "_view_name": "OutputView",
            "layout": "IPY_MODEL_4ae1f73e9d0c45e187a6ab3f4683516a",
            "msg_id": "",
            "outputs": [
              {
                "output_type": "display_data",
                "data": {
                  "text/plain": "<Figure size 1080x360 with 2 Axes>",
                  "image/png": "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\n"
                },
                "metadata": {
                  "needs_background": "light"
                }
              }
            ]
          }
        },
        "e24d33a7fb614c849943fd46cead0a4d": {
          "model_module": "@jupyter-widgets/base",
          "model_name": "LayoutModel",
          "model_module_version": "1.2.0",
          "state": {
            "_model_module": "@jupyter-widgets/base",
            "_model_module_version": "1.2.0",
            "_model_name": "LayoutModel",
            "_view_count": null,
            "_view_module": "@jupyter-widgets/base",
            "_view_module_version": "1.2.0",
            "_view_name": "LayoutView",
            "align_content": null,
            "align_items": null,
            "align_self": null,
            "border": null,
            "bottom": null,
            "display": null,
            "flex": null,
            "flex_flow": null,
            "grid_area": null,
            "grid_auto_columns": null,
            "grid_auto_flow": null,
            "grid_auto_rows": null,
            "grid_column": null,
            "grid_gap": null,
            "grid_row": null,
            "grid_template_areas": null,
            "grid_template_columns": null,
            "grid_template_rows": null,
            "height": null,
            "justify_content": null,
            "justify_items": null,
            "left": null,
            "margin": null,
            "max_height": null,
            "max_width": null,
            "min_height": null,
            "min_width": null,
            "object_fit": null,
            "object_position": null,
            "order": null,
            "overflow": null,
            "overflow_x": null,
            "overflow_y": null,
            "padding": null,
            "right": null,
            "top": null,
            "visibility": null,
            "width": null
          }
        },
        "5676f471e7b44d67ad46c0c6d32ca209": {
          "model_module": "@jupyter-widgets/base",
          "model_name": "LayoutModel",
          "model_module_version": "1.2.0",
          "state": {
            "_model_module": "@jupyter-widgets/base",
            "_model_module_version": "1.2.0",
            "_model_name": "LayoutModel",
            "_view_count": null,
            "_view_module": "@jupyter-widgets/base",
            "_view_module_version": "1.2.0",
            "_view_name": "LayoutView",
            "align_content": null,
            "align_items": null,
            "align_self": null,
            "border": null,
            "bottom": null,
            "display": null,
            "flex": null,
            "flex_flow": null,
            "grid_area": null,
            "grid_auto_columns": null,
            "grid_auto_flow": null,
            "grid_auto_rows": null,
            "grid_column": null,
            "grid_gap": null,
            "grid_row": null,
            "grid_template_areas": null,
            "grid_template_columns": null,
            "grid_template_rows": null,
            "height": null,
            "justify_content": null,
            "justify_items": null,
            "left": null,
            "margin": null,
            "max_height": null,
            "max_width": null,
            "min_height": null,
            "min_width": null,
            "object_fit": null,
            "object_position": null,
            "order": null,
            "overflow": null,
            "overflow_x": null,
            "overflow_y": null,
            "padding": null,
            "right": null,
            "top": null,
            "visibility": null,
            "width": null
          }
        },
        "641322d32a0f4d308f927a5cad64ac10": {
          "model_module": "@jupyter-widgets/controls",
          "model_name": "SliderStyleModel",
          "model_module_version": "1.5.0",
          "state": {
            "_model_module": "@jupyter-widgets/controls",
            "_model_module_version": "1.5.0",
            "_model_name": "SliderStyleModel",
            "_view_count": null,
            "_view_module": "@jupyter-widgets/base",
            "_view_module_version": "1.2.0",
            "_view_name": "StyleView",
            "description_width": "",
            "handle_color": null
          }
        },
        "6b7ac3a4741841c9ae5ef4ea868020a0": {
          "model_module": "@jupyter-widgets/base",
          "model_name": "LayoutModel",
          "model_module_version": "1.2.0",
          "state": {
            "_model_module": "@jupyter-widgets/base",
            "_model_module_version": "1.2.0",
            "_model_name": "LayoutModel",
            "_view_count": null,
            "_view_module": "@jupyter-widgets/base",
            "_view_module_version": "1.2.0",
            "_view_name": "LayoutView",
            "align_content": null,
            "align_items": null,
            "align_self": null,
            "border": null,
            "bottom": null,
            "display": null,
            "flex": null,
            "flex_flow": null,
            "grid_area": null,
            "grid_auto_columns": null,
            "grid_auto_flow": null,
            "grid_auto_rows": null,
            "grid_column": null,
            "grid_gap": null,
            "grid_row": null,
            "grid_template_areas": null,
            "grid_template_columns": null,
            "grid_template_rows": null,
            "height": null,
            "justify_content": null,
            "justify_items": null,
            "left": null,
            "margin": null,
            "max_height": null,
            "max_width": null,
            "min_height": null,
            "min_width": null,
            "object_fit": null,
            "object_position": null,
            "order": null,
            "overflow": null,
            "overflow_x": null,
            "overflow_y": null,
            "padding": null,
            "right": null,
            "top": null,
            "visibility": null,
            "width": null
          }
        },
        "96cd5097bed24926ac36f8656937ef6a": {
          "model_module": "@jupyter-widgets/controls",
          "model_name": "SliderStyleModel",
          "model_module_version": "1.5.0",
          "state": {
            "_model_module": "@jupyter-widgets/controls",
            "_model_module_version": "1.5.0",
            "_model_name": "SliderStyleModel",
            "_view_count": null,
            "_view_module": "@jupyter-widgets/base",
            "_view_module_version": "1.2.0",
            "_view_name": "StyleView",
            "description_width": "",
            "handle_color": null
          }
        },
        "753b1fb6f72c4d5287909e986f84b313": {
          "model_module": "@jupyter-widgets/base",
          "model_name": "LayoutModel",
          "model_module_version": "1.2.0",
          "state": {
            "_model_module": "@jupyter-widgets/base",
            "_model_module_version": "1.2.0",
            "_model_name": "LayoutModel",
            "_view_count": null,
            "_view_module": "@jupyter-widgets/base",
            "_view_module_version": "1.2.0",
            "_view_name": "LayoutView",
            "align_content": null,
            "align_items": null,
            "align_self": null,
            "border": null,
            "bottom": null,
            "display": null,
            "flex": null,
            "flex_flow": null,
            "grid_area": null,
            "grid_auto_columns": null,
            "grid_auto_flow": null,
            "grid_auto_rows": null,
            "grid_column": null,
            "grid_gap": null,
            "grid_row": null,
            "grid_template_areas": null,
            "grid_template_columns": null,
            "grid_template_rows": null,
            "height": null,
            "justify_content": null,
            "justify_items": null,
            "left": null,
            "margin": null,
            "max_height": null,
            "max_width": null,
            "min_height": null,
            "min_width": null,
            "object_fit": null,
            "object_position": null,
            "order": null,
            "overflow": null,
            "overflow_x": null,
            "overflow_y": null,
            "padding": null,
            "right": null,
            "top": null,
            "visibility": null,
            "width": null
          }
        },
        "ef2bc11e03e94f04894fb464aa969bbb": {
          "model_module": "@jupyter-widgets/controls",
          "model_name": "SliderStyleModel",
          "model_module_version": "1.5.0",
          "state": {
            "_model_module": "@jupyter-widgets/controls",
            "_model_module_version": "1.5.0",
            "_model_name": "SliderStyleModel",
            "_view_count": null,
            "_view_module": "@jupyter-widgets/base",
            "_view_module_version": "1.2.0",
            "_view_name": "StyleView",
            "description_width": "",
            "handle_color": null
          }
        },
        "4ae1f73e9d0c45e187a6ab3f4683516a": {
          "model_module": "@jupyter-widgets/base",
          "model_name": "LayoutModel",
          "model_module_version": "1.2.0",
          "state": {
            "_model_module": "@jupyter-widgets/base",
            "_model_module_version": "1.2.0",
            "_model_name": "LayoutModel",
            "_view_count": null,
            "_view_module": "@jupyter-widgets/base",
            "_view_module_version": "1.2.0",
            "_view_name": "LayoutView",
            "align_content": null,
            "align_items": null,
            "align_self": null,
            "border": null,
            "bottom": null,
            "display": null,
            "flex": null,
            "flex_flow": null,
            "grid_area": null,
            "grid_auto_columns": null,
            "grid_auto_flow": null,
            "grid_auto_rows": null,
            "grid_column": null,
            "grid_gap": null,
            "grid_row": null,
            "grid_template_areas": null,
            "grid_template_columns": null,
            "grid_template_rows": null,
            "height": null,
            "justify_content": null,
            "justify_items": null,
            "left": null,
            "margin": null,
            "max_height": null,
            "max_width": null,
            "min_height": null,
            "min_width": null,
            "object_fit": null,
            "object_position": null,
            "order": null,
            "overflow": null,
            "overflow_x": null,
            "overflow_y": null,
            "padding": null,
            "right": null,
            "top": null,
            "visibility": null,
            "width": null
          }
        }
      }
    }
  },
  "cells": [
    {
      "cell_type": "markdown",
      "metadata": {
        "id": "view-in-github",
        "colab_type": "text"
      },
      "source": [
        "<a href=\"https://colab.research.google.com/github/NinelK/SA_DS_tutorial/blob/main/DS_tutorial_Parts_1_2_SOLUTIONS.ipynb\" target=\"_parent\"><img src=\"https://colab.research.google.com/assets/colab-badge.svg\" alt=\"Open In Colab\"/></a>"
      ]
    },
    {
      "cell_type": "markdown",
      "source": [
        "# **Tutorial:** Dynamical systems in neuroscience"
      ],
      "metadata": {
        "id": "9S_38ayWhm5W"
      }
    },
    {
      "cell_type": "markdown",
      "source": [
        "## Introduction\n",
        "\n",
        "Dynamical systems are systems that **evolve** in time. These can be physical systems, economic systems, neurons, neural networks or the whole brain. No matter what the system is, the universal dynamical system framework can help us understand its time-dependent behavior.\n",
        "\n",
        "When modelling dynamics, we can represent time in two different ways: *discrete* or *continuous*. In both cases, we can write down the evolution of the system as a function of its previous `state' $\\mathbf{x}$ and external inputs that the system receives $\\mathbf{u}$:\n",
        "\n",
        "Discrete time systems               |           Continuous time systems\n",
        "------------------------------------|-------------------------------------\n",
        " $$\\mathbf{x}_{t+1} = F_d(\\mathbf{x}_t,\\mathbf{u}_t)$$           |    $$\\frac{d\\mathbf{x}(t)}{dt} = F_c(\\mathbf{x}(t),\\mathbf{u}(t))$$\n",
        " \n",
        "*Notation:* The variables in **bold** here correspond to vectors, e.g. $\\mathbf{x} = (x_1,x_2,\\ldots,x_n)^T$.\n",
        "\n",
        "Here, the state $\\mathbf{x}$ can, for instance, correspont to neural firing. In discrete case, $\\mathbf{x}_t$ would be the number of spikes emmited within one time bin, while $\\mathbf{x}(t)$ could be a function which is only non-zero at spike times.\n",
        "External inputs $\\mathbf{u}$ in this case would correspond to the inputs from other neurons.\n",
        "\n",
        "The key part of the dynamical systems framework is the **evolution operator** $F$. Whether continuous $F_c$ or discrete $F_d$, it can tell us a lot about the system:\n",
        "> The power of the dynamical systems approach to neuroscience, as well as to many other sciences, is that we can tell something, or many things, about a system without knowing all the details that govern the system evolution. We do not even use equations to do that! Some may even wonder why we call it a mathematical theory.        *Eugene Izhikevich [1]*\n",
        "\n",
        "Therefore, the main goal of the tutorial is to learn how to tell something about the dynamical system knowing $F$."
      ],
      "metadata": {
        "id": "5lSgytL2f3OV"
      }
    },
    {
      "cell_type": "markdown",
      "source": [
        "# Part 1: Autonomous linear dynamical systems (LDS)"
      ],
      "metadata": {
        "id": "N_XDFK9Xe9Sj"
      }
    },
    {
      "cell_type": "markdown",
      "source": [
        "Sometimes, we can assume that the system does not receive any external inputs and evolves in time on its own ( $u(t)=0$ ). Such dynamical systems are called **autonomous**. Autonomous systems are common in physics, but also surprisingly applicable to some biological neural networks, as we will see in the last part of the tutorial. Lack of external inputs greatly simplifies the analysis of the dynamics $F$, so let us assume **no** external inputs for now.\n",
        "\n",
        "As a warmup, let us start with a 1D autonomous continuous-time dynamical system:\n",
        "\n",
        "$\\frac{dx}{dt} = \\dot x = a x; \\qquad x(0) = x_0 \\tag{1} $\n",
        "\n",
        "We are looking at a so-called *initial value problem* here: we know the state of the system $x_0$ at $t=0$, but we want to make a forecast into the future and find $x(t)$ for $t>0$."
      ],
      "metadata": {
        "id": "1-CiIYrZ9wCc"
      }
    },
    {
      "cell_type": "markdown",
      "source": [
        "## Solving a 1D linear dynamics equation\n",
        "Let us solve equation (1) both numerically and analytically.\n",
        "\n",
        "For numerical integration, we will use the *forward Euler* scheme:\n",
        "\n",
        "$$\\frac{dx}{dt} \\approx \\frac{\\Delta x}{\\Delta t} = \\frac{x_{n+1} - x_n}{\\Delta t} \\tag{2}$$"
      ],
      "metadata": {
        "id": "5ONwZE8bH5jr"
      }
    },
    {
      "cell_type": "markdown",
      "source": [
        "### **Exercise 1a:** Analytical vs numerical solutions\n",
        "Complete the missing lines in the code below. Does analytical solution match the numerical solution? "
      ],
      "metadata": {
        "id": "uOakw9zb3Rbd"
      }
    },
    {
      "cell_type": "code",
      "source": [
        "from functools import partial\n",
        "import matplotlib.pyplot as plt\n",
        "import numpy as np\n",
        "import ipywidgets as widgets       # interactive display\n",
        "from matplotlib import rcParams\n",
        "rcParams.update({'font.size': 18})\n",
        "\n",
        "def analytical_1D_solution(x0,a,t):\n",
        "  ''' Finds a solution of x' = ax, for x(t), given x(0) = x0 '''\n",
        "  xt = x0 * np.exp(a*t) # 2remove\n",
        "  return xt\n",
        "\n",
        "def numerical_1D_solution(x0,a,t,dt=0.001):\n",
        "  ''' Integrates x' = ax using a forward Euler scheme, given x(0) = x0;\n",
        "  Returns x(t) '''\n",
        "  N = int(t//dt) # number of integration steps #2remove\n",
        "  xn = x0 # current value of x_n\n",
        "  for n in range(N):\n",
        "    x_n_plus_1 = xn + a*xn*dt # write a discretized update rule following (1-2) #2remove\n",
        "    xn = x_n_plus_1  \n",
        "  return xn\n",
        "\n",
        "T = 1 # total duration\n",
        "n_plot = 10 # how many points to plot\n",
        "\n",
        "@widgets.interact\n",
        "def plot_1D_solutions(x0 = 1., \n",
        "                      a = widgets.FloatSlider(min=-2., max=2., step=1, value=1),\n",
        "                      dt = widgets.FloatLogSlider(min=-3, max=-1, value=.01)):\n",
        "  a = a if type(a)==float else a.value\n",
        "  dt = dt if type(dt)==float else dt.value\n",
        "  plt.figure()\n",
        "  time = np.linspace(0,T,n_plot)\n",
        "  plt.plot(time, [analytical_1D_solution(x0,a,t) for t in time],label='Analytical solution')\n",
        "  plt.plot(time, [numerical_1D_solution(x0,a,t,dt) for t in time],label='Numerical solution')\n",
        "  plt.xlim([0,T])\n",
        "  plt.ylim([-5,5])\n",
        "  plt.axhline(0,c='k',linestyle=':')\n",
        "  plt.xlabel('time')\n",
        "  plt.ylabel('state x')\n",
        "  plt.legend()\n"
      ],
      "metadata": {
        "colab": {
          "base_uri": "https://localhost:8080/",
          "height": 391,
          "referenced_widgets": [
            "ef23421750354f68b3ac8955fce222f4",
            "d07710927e274167a57bead57d94f55b",
            "af1fae1e05274054a47497c803e351b1",
            "fe92ed910bcd493d8bb1c47f9841b263",
            "9f9a72a631f14a8197bade1783ae72ee",
            "b6973878e9af4e96b2a7f7c92974a0b3",
            "9e0320090aac47e2bfaa4d7929c37f3f",
            "9ea1217ba2f14f52af2fea6e560eedef",
            "d73645bafd9c4b24bf151ae817dcb0be",
            "d077108441d44e1fbfcb5c4ef8c8051d",
            "6d663966cc6d4bc994b4f3508d9c2766",
            "3f72d54450c44f708996c2dc0c5e9f18",
            "30270e7ff6dc48c2be2aeba3e893a9d8"
          ]
        },
        "id": "dwtnAtUPNkyv",
        "outputId": "3e69597c-06d8-41d0-b3aa-6a07c8c9da4f"
      },
      "execution_count": 1,
      "outputs": [
        {
          "output_type": "display_data",
          "data": {
            "text/plain": [
              "interactive(children=(FloatSlider(value=1.0, description='x0', max=3.0, min=-1.0), FloatSlider(value=1.0, desc…"
            ],
            "application/vnd.jupyter.widget-view+json": {
              "version_major": 2,
              "version_minor": 0,
              "model_id": "ef23421750354f68b3ac8955fce222f4"
            }
          },
          "metadata": {}
        }
      ]
    },
    {
      "cell_type": "markdown",
      "source": [
        "#### **Think!**\n",
        "When do the solutions agree? Disagree? Why?\n"
      ],
      "metadata": {
        "id": "CcskjbCC2Re3"
      }
    },
    {
      "cell_type": "markdown",
      "source": [
        "**Answer:** analytical and computational solutions are in agreement if the integration step $dt$ is sufficiently small. If it is large, then forward Euler scheme turns into a poor approximation of the derivative."
      ],
      "metadata": {
        "id": "gTQkWaVg2WFa"
      }
    },
    {
      "cell_type": "markdown",
      "source": [
        "#### **Think!**\n",
        "\n",
        "How many qualitatively different solutions have you found? What are they?\n"
      ],
      "metadata": {
        "id": "LL7--Zxr1ad3"
      }
    },
    {
      "cell_type": "markdown",
      "source": [
        "**Answer:** there are 3 qualitatively different solutions: a 1-dimensional LDS can either converge to zero ($a<0$), stay constant ($a=0$) or exponentially explode ($a>0$)."
      ],
      "metadata": {
        "id": "ooqzaVKT2pZL"
      }
    },
    {
      "cell_type": "markdown",
      "source": [
        "### Exercise 1b: What if $a$ is complex-valued?"
      ],
      "metadata": {
        "id": "osgyZ9Nj0_LQ"
      }
    },
    {
      "cell_type": "markdown",
      "source": [
        "In the exercise 1 we found that analytical solution is:\n",
        "$$x(t) = x_0 e^{at} $$\n",
        "but what if $a$ is complex?\n",
        "\n",
        "Let us substitute $a$ with $a_{real} + i a_{imag}$, then:\n",
        "$$x(t) = x_0 e^{a_{real}t} e^{i a_{imag} t} $$\n",
        "\n",
        "This new solution is a product of the solution that we have seen previously and a new term $e^{i a_{imag} t}$.\n",
        "\n",
        "Let us generate some trajectories and see what happens:\n"
      ],
      "metadata": {
        "id": "Xcd8cBTmCHPB"
      }
    },
    {
      "cell_type": "code",
      "source": [
        "@widgets.interact\n",
        "def plot_1D_solutions(x0 = 1., \n",
        "                      a_real = widgets.FloatSlider(min=-1., max=1., step=.1, value=0),\n",
        "                      a_imag = widgets.FloatSlider(min=-1, max=5, step=.1, value=1)):\n",
        "  a_real = a_real if type(a_real)==float else a_real.value\n",
        "  a_imag = a_imag if type(a_imag)==float else a_imag.value\n",
        "  a = complex(a_real,a_imag)\n",
        "  plt.figure()\n",
        "  time = np.linspace(0,T,n_plot)\n",
        "  plt.plot(time, [analytical_1D_solution(x0,a,t).real for t in time],label='Solution (real part)')\n",
        "  plt.plot(time, [analytical_1D_solution(x0,a,t).imag for t in time],label='Solution (imag part)')\n",
        "  plt.xlim([0,T])\n",
        "  plt.ylim([-5,5])\n",
        "  plt.axhline(0,c='k',linestyle=':')\n",
        "  plt.xlabel('time')\n",
        "  plt.ylabel('state x')\n",
        "  plt.legend(loc='lower left')\n"
      ],
      "metadata": {
        "colab": {
          "base_uri": "https://localhost:8080/",
          "height": 375,
          "referenced_widgets": [
            "9e3e153d8386435ca7c2191aff9828ad",
            "2d3331758ad046999976a8b396cb3e55",
            "a386112f70d04100999aec878d87d0e3",
            "3599be85894647bb911f166ab26fbdd9",
            "97b62136c9b84164a824036f55cc30a2",
            "092cc02cd2de46748dd2b164c4810b1a",
            "a30b10545a604eb0885c4e55d0a12a9b",
            "6e4e32b354d04c00a005e52d4f47a749",
            "1d1bf14eb5154ea8966ef0b4718f7a42",
            "fa0f7ae616ae4126b485e2ddbfe0d673",
            "baf1b8b6c1034bee863a1b63b5fada34",
            "31c28ab500ba47cba867d4875a9ef2e9",
            "ef60662d1bb248778cba236a3a4e4063"
          ]
        },
        "id": "-OCLpgAhA2od",
        "outputId": "1f53f64c-335d-48f8-9042-fee5c5e17780"
      },
      "execution_count": 2,
      "outputs": [
        {
          "output_type": "display_data",
          "data": {
            "text/plain": [
              "interactive(children=(FloatSlider(value=1.0, description='x0', max=3.0, min=-1.0), FloatSlider(value=0.0, desc…"
            ],
            "application/vnd.jupyter.widget-view+json": {
              "version_major": 2,
              "version_minor": 0,
              "model_id": "9e3e153d8386435ca7c2191aff9828ad"
            }
          },
          "metadata": {}
        }
      ]
    },
    {
      "cell_type": "markdown",
      "source": [
        " Let us recall that $e^{i a_{imag} t} = \\cos(a_{imag} t) + i\\sin(a_{imag} t)$ (*Euler's formula*).\n",
        "\n",
        " So the whole solution looks like:\n",
        " $$x(t) = \\underbrace{x_0 e^{a_{real} t} \\cos(a_{imag}t)}_\\mathrm{real~part} + \\underbrace{i x_0 e^{a_{real} t} \\sin(a_{imag}t)}_\\mathrm{imaginary~part}$$\n"
      ],
      "metadata": {
        "id": "3zzMK8fmEjJH"
      }
    },
    {
      "cell_type": "markdown",
      "source": [
        "### **Take home message**\n",
        "In a 1D linear autonomous dynamical system with a single parameter $a$:\n",
        "1. Real part of $a$ determines how the amplitude of the solution changes (decays, amplifies or stays constant)\n",
        "2. Imaginary part of $a$ determines the frequency of oscillations"
      ],
      "metadata": {
        "id": "240PYpGQF9XH"
      }
    },
    {
      "cell_type": "markdown",
      "source": [
        "## Auxilary variables and phase portraits\n",
        "<img src='https://upload.wikimedia.org/wikipedia/commons/thumb/8/83/Mathematical_pendulum.svg/950px-Mathematical_pendulum.svg.png' width=200px align='right'>\n",
        "\n",
        "In Exercise 1b we have observed a 1D system that was oscillating. But it was a bit artificial and involved a complex-valued parameter. Let us consider another simple system that oscillates: a pendulum!\n",
        "\n",
        "The dynamics of the pendulum can be derived from first principles (Newton's laws of mechanics):\n",
        "\n",
        "$$\\ddot \\theta = - g \\sin(\\theta) \\approx -g \\theta$$\n",
        "\n",
        "which turns into a linear system if the oscillations are small ($\\theta \\ll 1$). We can further simplify the system by assuming $g=1$.\n",
        "\n",
        "This equation, however, contains a higher order derivative ($\\ddot \\theta$). How can we get rid of it?\n",
        "\n",
        "We can introduce an additional auxilary variable $\\omega = \\dot \\theta$, then:\n",
        "$$\\ddot \\theta = \\dot \\omega = -\\theta$$\n",
        "\n",
        "Now we have two equations that resemble (1), which we can combine into a single vector-valued equation for a state $\\mathbf{x} = [~\\theta,~\\theta~]^T$:\n",
        "\n",
        "$${\\begin{bmatrix}\n",
        "    \\dot \\theta \\\\\n",
        "    \\dot \\omega\n",
        "\\end{bmatrix}} = \\begin{bmatrix}\n",
        "    0 & 1 \\\\\n",
        "    -1 & 0\n",
        "\\end{bmatrix} \\begin{bmatrix}\n",
        "    \\theta \\\\\n",
        "    \\omega\n",
        "\\end{bmatrix} $$\n",
        "\n",
        "or simply:\n",
        "\n",
        "$$\\mathbf{\\dot x} = A \\mathbf{x} \\tag{3}$$\n",
        "\n",
        "Unlike Exercise 1b, matrix $\\mathrm{A}$ is real-valued. Then how does it cause oscillations? 🤔 Let's find out.\n"
      ],
      "metadata": {
        "id": "42ptqWjfHdKH"
      }
    },
    {
      "cell_type": "markdown",
      "source": [
        "## **Exercise 2:** Solving a 2D linear dynamics equation"
      ],
      "metadata": {
        "id": "CRYnEyir1B9p"
      }
    },
    {
      "cell_type": "markdown",
      "source": [
        "Fill in the missing line of code below to numerically integrate the eq. (3).\n",
        "\n",
        "*Hint: for matrix multiplication in python you can use @ sign*\n",
        "\n",
        "*Note:* the analytical solution of eq. (3) is given to you in the code. It involves matrix exponential. If you don't know what it is -- no worries, it is not important for this tutorial."
      ],
      "metadata": {
        "id": "PYEkx4i3a4WV"
      }
    },
    {
      "cell_type": "code",
      "source": [
        "from functools import partial\n",
        "import matplotlib.pyplot as plt\n",
        "import numpy as np\n",
        "import ipywidgets as widgets       # interactive display\n",
        "from scipy.linalg import expm\n",
        "\n",
        "def analytical_2D_solution(x0,A,t):\n",
        "  ''' Finds a solution of x' = Ax, for x(t), given x(0) = x0 '''\n",
        "  xt = expm(A*t) @ x0 # this solution includes matrix exponential (https://en.wikipedia.org/wiki/Matrix_exponential)\n",
        "  return xt\n",
        "\n",
        "def numerical_2D_solution(x0,a,t,dt=0.01):\n",
        "  ''' Integrates x' = Ax using a forward Euler scheme, given x(0) = x0;\n",
        "  Returns x(t) '''\n",
        "  N = int(t//dt) # number of integration steps #2remove\n",
        "  xn = x0 # current value of x_n\n",
        "  for n in range(N):\n",
        "    x_n_plus_1 = xn + (A @ xn)*dt # write a discretized update rule following (1-2) #2remove\n",
        "    xn = x_n_plus_1  \n",
        "  return xn\n",
        "\n",
        "T = 10 # total duration\n",
        "n_plot = 100 # how many points to plot\n",
        "\n",
        "A = np.array([[0, 1], [-1, 0]])\n",
        "\n",
        "@widgets.interact\n",
        "def plot_2D_solutions(phi0 = (-1,1,0.1),\n",
        "                      omega0 = (-1,1,0.1)):\n",
        "  x0 = np.array([phi0, omega0])\n",
        "  fig, axes = plt.subplots(1,3,figsize=(12,2),gridspec_kw={'width_ratios': [2, 1, 2]})\n",
        "  time = np.linspace(0,T,n_plot)\n",
        "  analytical_traj = np.array([analytical_2D_solution(x0,A,t) for t in time])\n",
        "  numerical_traj = np.array([numerical_2D_solution(x0,A,t) for t in time])\n",
        "  \n",
        "  axes[1].plot(*numerical_traj.T,c='k')\n",
        "  axes[1].plot(*analytical_traj.T,c='C1',linestyle=':')\n",
        "  axes[1].set_xlabel(r\"$\\theta$\")\n",
        "  axes[1].set_ylabel(r\"$\\omega = \\dot\\theta$\")\n",
        "  axes[1].set_xlim([-1.2,1.2])\n",
        "  for ax in axes:\n",
        "    ax.set_ylim([-1.2,1.2])\n",
        "\n",
        "  axes[0].plot(numerical_traj[:,0],c='k')\n",
        "  axes[0].plot(analytical_traj[:,0],c='C1',linestyle=':')\n",
        "  axes[0].set_xlabel(r\"time\")\n",
        "  axes[0].set_ylabel(r\"$\\theta$\")\n",
        "\n",
        "  axes[2].plot(numerical_traj[:,1],c='k',label='Numerical solution')\n",
        "  axes[2].plot(analytical_traj[:,1],c='C1',linestyle=':',label='Analytical solution')\n",
        "  axes[2].set_xlabel(r\"time\")\n",
        "  axes[2].set_ylabel(r\"$\\omega = \\dot\\theta$\")\n",
        "  axes[2].legend(loc=(1.2,0))\n",
        "\n",
        "  plt.subplots_adjust(left=None, bottom=.2, right=None, top=None, wspace=0.4, hspace=0.)"
      ],
      "metadata": {
        "colab": {
          "base_uri": "https://localhost:8080/",
          "height": 226,
          "referenced_widgets": [
            "7cd7e36eed7f4c38ad3aa4ba2b6c0b20",
            "16d778ed5a20485b98a34243ccff1c54",
            "29641abe0dc240d18f46f7bcf3283f66",
            "ba063281684c442d87a00d989ff6999e",
            "0cfe262f1fec49159786017ee4a70513",
            "4e00f7f8c5ef401395a6fccc036c229b",
            "44b7a14ff0624acb9aadd9324c42b557",
            "6bbbb73b04c7441895fd79979809edba",
            "cabc39dc7b5d4cb6b3ec852d2fc5daed",
            "a213a44ec9144af1b1a6fd96b1aad009"
          ]
        },
        "id": "iKjR6PFOTIU_",
        "outputId": "d35ac811-00e4-488a-b87b-3b65cd289854"
      },
      "execution_count": 3,
      "outputs": [
        {
          "output_type": "display_data",
          "data": {
            "text/plain": [
              "interactive(children=(FloatSlider(value=0.0, description='phi0', max=1.0, min=-1.0), FloatSlider(value=0.0, de…"
            ],
            "application/vnd.jupyter.widget-view+json": {
              "version_major": 2,
              "version_minor": 0,
              "model_id": "7cd7e36eed7f4c38ad3aa4ba2b6c0b20"
            }
          },
          "metadata": {}
        }
      ]
    },
    {
      "cell_type": "markdown",
      "source": [
        "The plot in the middle is called a *phase portrait* in mechanics: you can see why if you change the angular velocity $\\omega$ and see how left/right plots change. This portrait exists in a *phase space* $[\\theta, \\omega]$.\n",
        "\n",
        "In physics, we can derive the dynamics equations from first principles, so we know that these two variables: position $\\theta$ and angular velocity $\\omega$, fully describe the **state** of the pendulum. Knowing the state, we know what happens next, because the system is **deterministic** (no noise in eq. (1) or (3)).\n",
        "Therefore, in a more general context, a minimal set of variables that describe the state of the system form a **state space**. \n",
        "\n",
        "<!-- However, in a more general context, the components of $x$ that describe the dynamics of the system can be anything! For instance, $x_1, x_2, \\ldots, x_n$ can correspond to activities of neurons in a neural network.    -->\n"
      ],
      "metadata": {
        "id": "cHFFvDETs291"
      }
    },
    {
      "cell_type": "markdown",
      "source": [
        "## Visualizing dynamics: phase portraits"
      ],
      "metadata": {
        "id": "mv0UtLxzS8Uk"
      }
    },
    {
      "cell_type": "markdown",
      "source": [
        "We have learned that if we know the state of the the system at any time point $t_0$, we can predict what happes next. We already integrated the dynamics eq. (3) given certain initial conditions and visualized some trajectories for a pendulum. But can we summarize and visualize all the possible states and transitions between them?\n",
        "\n",
        "We can visualize the equation (3) using stream plots. For every state, equation (3) defines the derivative (i.e. where the system goes next), which we can visualize with arrows:\n"
      ],
      "metadata": {
        "id": "eILlepzLTDd2"
      }
    },
    {
      "cell_type": "code",
      "source": [
        "# Plotting phase portraits\n",
        "def plot_phase_portrait(A,n = 10, xlabel=r'$x_1$', ylabel=r'$x_2$', Alabel='A'):\n",
        "  '''\n",
        "    A: matrix 2x2\n",
        "    n: number of points in the n x n grid\n",
        "  '''\n",
        "  plt.figure(figsize=(3,3))\n",
        "  x1 = np.linspace(-1, 1, n) # a 1D grid\n",
        "  x = np.array(np.meshgrid(x1, x1)).reshape((2,-1)) # a 2D flattened grid\n",
        "  # calculate the time-derivative of the state x in the line below\n",
        "  # the output shape should be [2 x n^2]\n",
        "  x_dot = A @ x # 2remove\n",
        "  x_dot = x_dot.reshape((2,n,n))\n",
        "  plt.streamplot(x1,x1,*x_dot,color=np.linalg.norm(x_dot,axis=0),cmap='coolwarm',density=0.5)\n",
        "  plt.xlabel(xlabel)\n",
        "  plt.ylabel(ylabel);\n",
        "  plt.text(1.2,0,f'{Alabel} = ')\n",
        "  plt.text(1.7,-.15,f'{A[0,0]:.1f}, {A[0,1]:.1f} \\n{A[1,0]:.1f}, {A[1,1]:.1f}')\n",
        "  plt.xlim([-1,1])\n",
        "  plt.ylim([-1,1])\n",
        "  plt.clim(vmin=0,vmax=1)\n",
        "\n",
        "A = np.array([[0, 1], [-1, 0]]) # pendulum dynamics\n",
        "plot_phase_portrait(A, xlabel=r'$\\theta$', ylabel=r'$\\omega = \\dot\\theta$')"
      ],
      "metadata": {
        "colab": {
          "base_uri": "https://localhost:8080/",
          "height": 231
        },
        "id": "yfeWdEMsVcks",
        "outputId": "6bce9dff-2888-4d01-bc60-95bdd726ecc0"
      },
      "execution_count": 4,
      "outputs": [
        {
          "output_type": "display_data",
          "data": {
            "text/plain": [
              "<Figure size 216x216 with 1 Axes>"
            ],
            "image/png": "[encoded data removed]"
          },
          "metadata": {
            "needs_background": "light"
          }
        }
      ]
    },
    {
      "cell_type": "markdown",
      "source": [
        "Following these streamlines in a figure above from some initial point $x_0$ step-by-step corresponds to integrating $\\int_{t_0}^{t} \\dot x(t) dt$ that we did in the previous exercise!\n",
        "\n",
        "Color here shows how fast the state evolves: cooler colors mean slower, warmer colors -- faster!\n",
        "(darkest blue: $|\\mathbf{\\dot x}| = 0$, brightest red: $|\\mathbf{\\dot x}| = 1$)\n",
        "\n",
        "Like in Izhekevich quote, we don't even need to write equation to tell how the system behaves 🤯"
      ],
      "metadata": {
        "id": "b7dTSLXUYUDc"
      }
    },
    {
      "cell_type": "markdown",
      "source": [
        "## Analysing multi-dimensional linear dynamical systems"
      ],
      "metadata": {
        "id": "x6iOBU-6f_dz"
      }
    },
    {
      "cell_type": "markdown",
      "source": [
        "### Change of basis\n",
        "The pendulum example above is, perhaps, the simplest linear dynamical system in physics. Its phase portrait is symmetrical!\n",
        "\n",
        "But for other dynamical systems, with other matrices $A$, this might not be the case:"
      ],
      "metadata": {
        "id": "dwgf8dhygGZS"
      }
    },
    {
      "cell_type": "code",
      "source": [
        "np.random.seed(2)\n",
        "A = np.random.randn(2,2) # pick some values from N(0,1) for each component\n",
        "\n",
        "plot_phase_portrait(A)\n"
      ],
      "metadata": {
        "colab": {
          "base_uri": "https://localhost:8080/",
          "height": 231
        },
        "id": "if2U5CDUaj9x",
        "outputId": "967df239-2a1a-4d34-bb9a-4e24c1535df6"
      },
      "execution_count": 5,
      "outputs": [
        {
          "output_type": "display_data",
          "data": {
            "text/plain": [
              "<Figure size 216x216 with 1 Axes>"
            ],
            "image/png": "[encoded data removed]"
          },
          "metadata": {
            "needs_background": "light"
          }
        }
      ]
    },
    {
      "cell_type": "markdown",
      "source": [
        "Looks very assymmetric! Can we make it better?\n",
        "\n",
        "We are now considering an abstract linear dynamical system, so the components $x_1$ and $x_2$ do not mean much... Can we stretch and rotate this space such that in these new coordinates $(\\hat x_1, \\hat x_2)$  the derivatives $d{\\hat x_i}/dt$ only depend on the respective component $x_i$ ? Or, in other words, can we change the basis to make the matrix $A$ diagonal?\n",
        "\n",
        "$$\\begin{bmatrix}\n",
        "\\frac{d\\hat x_1}{dt} \\\\\n",
        "\\frac{d\\hat x_2}{dt}\n",
        "\\end{bmatrix} = \\begin{bmatrix}\n",
        "a_1 & 0 \\\\\n",
        "0 & a_2\n",
        "\\end{bmatrix} \\begin{bmatrix}\n",
        "\\hat x_1 \\\\\n",
        "\\hat x_2\n",
        "\\end{bmatrix} = \\begin{bmatrix}\n",
        "a_1 \\hat x_1 \\\\\n",
        "a_2 \\hat x_2\n",
        "\\end{bmatrix}\n",
        "$$"
      ],
      "metadata": {
        "id": "vDZ9Dj6LQ6fK"
      }
    },
    {
      "cell_type": "code",
      "source": [
        "S = np.eye(2)\n",
        "@widgets.interact\n",
        "def rotate_and_scale(stretch=widgets.FloatLogSlider(min=-1, max=+1, value=1.,description='stretch ↕'),\n",
        "                     rotate=widgets.FloatSlider(min=-90, max=+90, step=5 ,description='rotate ⤾')):\n",
        "  global S\n",
        "  a = rotate * np.pi / 180\n",
        "  S =  np.array([[np.cos(a),np.sin(a)],[-np.sin(a),np.cos(a)]]) @ np.array([[stretch,0],[0,1]])\n",
        "  plot_phase_portrait(S @ A @ np.linalg.inv(S),\n",
        "                      xlabel=r'$\\hat{x_1}$', ylabel=r'$\\hat{x_2}$', Alabel=r'$\\hat{A}$')\n"
      ],
      "metadata": {
        "colab": {
          "base_uri": "https://localhost:8080/",
          "height": 299,
          "referenced_widgets": [
            "af31e741c41b4adfb614b5fd18556c11",
            "f87d2cf00fa045af840368bea3f880bf",
            "64f3bec0c5574849860c5e39bf3df714",
            "1b69c4da1c0f402bb2838623cb187bca",
            "b70a1b447a94405aa1b516af10d9c669",
            "f9b9113ce1d1462488d242cb3f4b7d1e",
            "d63f6e7f33914d9db065f0fd3629509b",
            "daa2c358c5414e5cbef3ed072a649450",
            "056fdf7303b44df987b630072dbd6edb",
            "6bb5938f8b97492abb3e48e16c7e02d8"
          ]
        },
        "id": "JM-JOpEvQ5OI",
        "outputId": "f205c2ef-3b9f-4eb6-9b01-b8dc5cebb141"
      },
      "execution_count": 6,
      "outputs": [
        {
          "output_type": "display_data",
          "data": {
            "text/plain": [
              "interactive(children=(FloatLogSlider(value=1.0, description='stretch ↕', max=1.0, min=-1.0), FloatSlider(value…"
            ],
            "application/vnd.jupyter.widget-view+json": {
              "version_major": 2,
              "version_minor": 0,
              "model_id": "af31e741c41b4adfb614b5fd18556c11"
            }
          },
          "metadata": {}
        }
      ]
    },
    {
      "cell_type": "markdown",
      "source": [
        "What we are doing above corresponds to this transformation:\n",
        "$$S \\mathbf{\\dot x} = SA\\mathbf{x} = SA\\underbrace{(S^{-1}S)}_{I}\\mathbf{x} = (SAS^{-1})S\\mathbf{x}$$\n",
        "or, in other words, we make the following change of coordinates (i.e. change of the basis):\n",
        "$$\\mathbf{x} \\rightarrow S\\mathbf{x} ~$$\n",
        "$$A \\rightarrow SAS^{-1}$$"
      ],
      "metadata": {
        "id": "VzGbCtBQR9PC"
      }
    },
    {
      "cell_type": "markdown",
      "source": [
        "Did you manage to align the *special* directions in the phase portrait above with the new axes? How does the new, transformed matrix $\\hat{A} = SAS^{-1}$ look like?\n",
        "\n",
        "If something does not look right, check the solution:  LINK!"
      ],
      "metadata": {
        "id": "zxcPu65CU_4P"
      }
    },
    {
      "cell_type": "markdown",
      "source": [
        "### Eigenvectors and eigenvalues"
      ],
      "metadata": {
        "id": "Xl23_KkGV3_b"
      }
    },
    {
      "cell_type": "markdown",
      "source": [
        "#### Real eigenvalues"
      ],
      "metadata": {
        "id": "6E6RWp7dtY6b"
      }
    },
    {
      "cell_type": "markdown",
      "source": [
        "In your first tutorial, you practiced calculating eigenvectors and eigenvalues. You were writing characteristic polynomial $p(\\lambda) = \\det(A-\\lambda I)$ and finding its roots for eigenvalues and perfroming Gaussian elimination.\n",
        "\n",
        "What we did above by rotating and stretching our phase space is the transformation of matrix $A$ into its *canonical form*. Everything is simpler in this form! The eigenvalues remain the same under stretching and rotation:\n",
        "\n",
        "$$\\hat{A}\\mathbf{\\hat{x}} = SA\\mathbf{x} = S\\lambda x = \\lambda \\mathbf{\\hat{x}}$$\n",
        "\n",
        "Could you tell what are the eigenvalues of $\\hat{A}$ without writing anything down?\n",
        "\n",
        "Now, check your guess by calculating the eigenvalues:\n"
      ],
      "metadata": {
        "id": "2qpJ7QCvVy2S"
      }
    },
    {
      "cell_type": "code",
      "source": [
        "A_hat = S @ A @ np.linalg.inv(S)\n",
        "print('Eigenvalues of A    :', np.linalg.eig(A)[0])\n",
        "print('Eigenvalues of A_hat:', np.linalg.eig(A_hat)[0])"
      ],
      "metadata": {
        "colab": {
          "base_uri": "https://localhost:8080/"
        },
        "id": "8rc4t1cfUCCZ",
        "outputId": "717b5a45-89b8-4c5e-9b9c-a742e009e663"
      },
      "execution_count": 7,
      "outputs": [
        {
          "output_type": "stream",
          "name": "stdout",
          "text": [
            "Eigenvalues of A    : [-0.47361843  1.69713139]\n",
            "Eigenvalues of A_hat: [-0.47361843  1.69713139]\n"
          ]
        }
      ]
    },
    {
      "cell_type": "markdown",
      "source": [
        "Now let us experiment with the eigenvalues and understand what they *mean* in the dynamical system:"
      ],
      "metadata": {
        "id": "5OeSIGu0equz"
      }
    },
    {
      "cell_type": "code",
      "source": [
        "@widgets.interact\n",
        "def rotate_and_scale(lambda_1=widgets.FloatSlider(min=-1, max=+1, description='λ1'),\n",
        "                     lambda_2=widgets.FloatSlider(min=-1, max=+1, description='λ2')):\n",
        "  lambda_1 = lambda_1 if type(lambda_1)==float else lambda_1.value\n",
        "  lambda_2 = lambda_2 if type(lambda_2)==float else lambda_2.value\n",
        "  if lambda_1==0 and lambda_2==0:\n",
        "    lambda_1 = -1e-10\n",
        "  A_12 = np.array([[lambda_1, 0],\n",
        "                [0, lambda_2]])\n",
        "  plot_phase_portrait(A_12)\n"
      ],
      "metadata": {
        "colab": {
          "base_uri": "https://localhost:8080/",
          "height": 295,
          "referenced_widgets": [
            "5f322038b7a64fe4abf11627dd60c206",
            "31513d039d9c403c9be1ea7eff7a389a",
            "b1687a239b3a45ddbe76f492477badc7",
            "57ead18707d848b2b70851fa1cba0176",
            "c6680e922f3540149fb613c65f5244b1",
            "bd342060a74f48e9bad20a7f1bce30d5",
            "08071cdd67ea49c48a21dcea1ab7e2f9",
            "cbfc18f3dd394ecb98c5ab0a71b77266",
            "8f797867e66c4b3382395cd86e8839ff",
            "12d4f30aa19d40e88ace94ce06b27f83"
          ]
        },
        "id": "Z8CeIjn5Z2KN",
        "outputId": "430f59c9-4351-4b8c-bfbb-3958db2b2b9c"
      },
      "execution_count": 8,
      "outputs": [
        {
          "output_type": "display_data",
          "data": {
            "text/plain": [
              "interactive(children=(FloatSlider(value=0.0, description='λ1', max=1.0, min=-1.0), FloatSlider(value=0.0, desc…"
            ],
            "application/vnd.jupyter.widget-view+json": {
              "version_major": 2,
              "version_minor": 0,
              "model_id": "5f322038b7a64fe4abf11627dd60c206"
            }
          },
          "metadata": {}
        }
      ]
    },
    {
      "cell_type": "markdown",
      "source": [
        "Indeed, in a canonical form, the 2D system with two real eigenvalues splits into two independent 1D dynamical systems:\n",
        "$\\dot x_i = \\lambda_i x_i, i \\in \\{0,1\\}.$ So, each eigenvalue here changes the dynamics along its eigenvector the same way as the parameter $a$ in Example 1."
      ],
      "metadata": {
        "id": "jurO9-jFnwus"
      }
    },
    {
      "cell_type": "markdown",
      "source": [
        "The eigenvectors are trivial in the canonical form: they are just aligned with axes!\n",
        "\n",
        "So, in order to find eigenvectors of the original evolution matrix $A$, we simply need to reverse the rotation and stretching:"
      ],
      "metadata": {
        "id": "EZ8BnuxTpHg0"
      }
    },
    {
      "cell_type": "code",
      "source": [
        "A_hat = S @ A @ np.linalg.inv(S)\n",
        "print('Trivial eigenvectors of A_hat:', np.round(np.linalg.eig(A_hat)[1].T,1))\n",
        "print('Eigenvectors of A:', np.round(np.linalg.eig(A)[1].T,2))\n",
        "S_inv = np.linalg.inv(S) # invert the transform\n",
        "S_inv_norm = S_inv / np.linalg.norm(S_inv,axis=0)\n",
        "print('Vectors derived from transformation:', np.round(S_inv_norm.T,2))"
      ],
      "metadata": {
        "colab": {
          "base_uri": "https://localhost:8080/"
        },
        "id": "waP_Yj2GpiT-",
        "outputId": "aea8d37c-10d8-4d4d-c8fe-bf213a786421"
      },
      "execution_count": 9,
      "outputs": [
        {
          "output_type": "stream",
          "name": "stdout",
          "text": [
            "Trivial eigenvectors of A_hat: [[-0.7 -0.7]\n",
            " [ 0.  -1. ]]\n",
            "Eigenvectors of A: [[-0.7  -0.71]\n",
            " [ 0.03 -1.  ]]\n",
            "Vectors derived from transformation: [[1. 0.]\n",
            " [0. 1.]]\n"
          ]
        }
      ]
    },
    {
      "cell_type": "markdown",
      "source": [
        "The above vectors should be the almost identical (up to a sign)."
      ],
      "metadata": {
        "id": "7WrGlWwitJr8"
      }
    },
    {
      "cell_type": "markdown",
      "source": [
        "#### Complex eigenvalues"
      ],
      "metadata": {
        "id": "CWSBrtaMtXkk"
      }
    },
    {
      "cell_type": "markdown",
      "source": [
        "Let us return to the pendulum. What are the eigenvalues and eigenvectors for that system?"
      ],
      "metadata": {
        "id": "1cdUYs1PFjOs"
      }
    },
    {
      "cell_type": "code",
      "source": [
        "A = np.array([[0, 1], [-1, 0]])\n",
        "np.linalg.eig(A)"
      ],
      "metadata": {
        "colab": {
          "base_uri": "https://localhost:8080/"
        },
        "id": "KKXWSV7hj-LJ",
        "outputId": "8ec60ee4-41c4-42e1-fcd5-46fadcc9265d"
      },
      "execution_count": 10,
      "outputs": [
        {
          "output_type": "execute_result",
          "data": {
            "text/plain": [
              "(array([0.+1.j, 0.-1.j]),\n",
              " array([[0.70710678+0.j        , 0.70710678-0.j        ],\n",
              "        [0.        +0.70710678j, 0.        -0.70710678j]]))"
            ]
          },
          "metadata": {},
          "execution_count": 10
        }
      ]
    },
    {
      "cell_type": "markdown",
      "source": [
        "TODO"
      ],
      "metadata": {
        "id": "rdw28x8xDkfQ"
      }
    },
    {
      "cell_type": "markdown",
      "source": [
        "#### Zero eigenvalues\n",
        "\n",
        "So far, we only looked at a full rank matrices $A$: such matrices that have all non-zero eigenvectors. What if one of them is actually zero?"
      ],
      "metadata": {
        "id": "SGXnn2WUjgag"
      }
    },
    {
      "cell_type": "markdown",
      "source": [
        "TODO"
      ],
      "metadata": {
        "id": "E8WmZtRZDlbb"
      }
    },
    {
      "cell_type": "markdown",
      "source": [
        "### Fixed points and stability"
      ],
      "metadata": {
        "id": "zvQxaNLLbeXb"
      }
    },
    {
      "cell_type": "markdown",
      "source": [
        "**Fixed points** are the points that remain unchanged in time, meaning that the time derivative $\\mathbf{\\dot x}=\\mathbf{0}$ there. There is only one such point in the linear systems which we considered above, which is $\\mathbf{x}=\\mathbf{0}$.\n",
        "\n",
        "Fixed points can be stable and unstable. Stable means that once the state gets near the fixed point it will only get closer to it in the future (*more precisely it is called assymptotic stability*). Unstable means the opposite: the state only gets further away. The system can also be marginally stable, if it is neither stable nor unstable. \n",
        "\n",
        "A set of stable fixed points of a dynamical system is also called an **attractor**, while a set of unstable points -- a **repeller**.\n",
        "\n",
        "If matrix $A$ has two eigenvalues: $\\lambda_1$ and $\\lambda_2$, what are the conditions for being 1) stable? 2) unstable?\n",
        "\n",
        "SOLUTION: \n",
        "1) the LDS is stable if the real-parts of **both** eigenvalues are strictly negative: $\\mathrm{Re}(\\lambda_1)<0~\\mathrm{AND}~\\mathrm{Re}(\\lambda_2)<0$\n",
        "\n",
        "2) the LDS is unstable if **at least** one eigenvalue has a strictly-positive real part: $\\mathrm{Re}(\\lambda_1)>0~\\mathrm{OR}~\\mathrm{Re}(\\lambda_2)>0$\n"
      ],
      "metadata": {
        "id": "iXqzrSRsbnUp"
      }
    },
    {
      "cell_type": "markdown",
      "source": [
        "### Summary\n",
        "\n",
        "TODO: REMOVE SCARY WORDS\n",
        "\n",
        "![Classification of Phase Portraits](https://upload.wikimedia.org/wikipedia/commons/3/3b/Stability_Diagram.png)"
      ],
      "metadata": {
        "id": "DO5ql9-vtk0H"
      }
    },
    {
      "cell_type": "markdown",
      "source": [
        "## **Exercise 3**: relationship between continuous time and discrete time linear dynamical systems\n",
        "\n",
        "In the exercise above we were visualizing phase planes for the *continuous-time* dynamical systems. It is convinient, because there exists a derivative $\\mathbf{\\dot x}$, which we were plotting with streamplots.\n",
        "\n",
        "However, when it comes to **numerical** integration, we typically use discrete time steps. We already applied one such discretization ( a forward Euler scheme) in Exercise 1.\n",
        "\n",
        "Discrete time LDS               |           Continuous time LDS\n",
        "------------------------------------|-------------------------------------\n",
        " $$\\mathbf{x}_{t+1} = A_d \\mathbf{x}_t$$           |    $$\\frac{d\\mathbf{x}(t)}{dt} = A_c\\mathbf{x}(t)$$\n",
        "\n",
        "### Exercise 3a: Relationship between evolution matrices\n",
        "\n",
        "In this exercise, let us find the relationship between the continuous-time evolution matrix $A_c$ and the discrete-time matrix $A_d$ using forward Euler discretization.\n",
        "\n",
        "### Exercise 3b: Relationship between eigenspectra\n",
        "\n",
        "TODO\n"
      ],
      "metadata": {
        "id": "svmBduOG_52v"
      }
    },
    {
      "cell_type": "markdown",
      "source": [
        "## **Exercise 4:** practice reading eigenspectra from papers\n",
        "\n",
        "TODO: ADD EXAMPLES!!!"
      ],
      "metadata": {
        "id": "9g5YLxpWNo0h"
      }
    },
    {
      "cell_type": "markdown",
      "source": [
        "## Summary\n",
        "\n",
        "In the first part of this tutorial, we learned:\n",
        "\n",
        "1. What linear systems can and can not do\n",
        "2. What fixed points are and how to check their stability\n",
        "3. How to read eigenspectra\n",
        "4. How is it related to different computations(e.g. categorization, filtering noise, memorization)\n"
      ],
      "metadata": {
        "id": "qIm6cjLqfaWB"
      }
    },
    {
      "cell_type": "markdown",
      "source": [
        "# Part 2: Nonlinear dynamical systems"
      ],
      "metadata": {
        "id": "_8WO8jlefRx0"
      }
    },
    {
      "cell_type": "markdown",
      "source": [
        "### Dimensionality reduction on Hodgkin-Huxley model\n",
        "\n",
        "Yesterday you have run simulations of a biophysically accurate neuron models with a Hodgkin-Huxley equation (HH). To recap, the set of HH equations contained the following 4 equations:\n",
        "\n",
        "$$C \\frac{dV}{dt} = -\\bar g_K n^4 (V - V_K) - \\bar g_{Na} m^3 h(V-V_{Na}) - \\bar g_l (V - V_l) + I_{ext}\\tag{4a}$$\n",
        "\n",
        "$$\\frac{dn}{dt} = \\alpha_n(V)(1-n) - \\beta_n(V) n\\tag{4b}$$\n",
        "$$\\frac{dm}{dt} = \\alpha_m(V)(1-m) - \\beta_m(V) m\\tag{4c}$$\n",
        "$$\\frac{dh}{dt} = \\alpha_h(V)(1-h) - \\beta_h(V) h\\tag{4d}$$\n",
        "\n",
        "The state space of this model is 4D, which is too much for visualization and analyse.\n",
        "However, not all equations here are equally important. \n",
        "\n",
        "![Gate timescales](https://neuronaldynamics.epfl.ch/online/x27.png) | ![Activation-inactivation gates](https://neuronaldynamics.epfl.ch/online/x26.png)\n",
        ":------------------------------------:|:-------------------------------------:\n",
        "**Fig. 1a**  The voltage dependent time constants | **Fig. 1b** The equilibrium functions for the three variables m,n,h"
      ],
      "metadata": {
        "id": "TnpeAv5pjQr4"
      }
    },
    {
      "cell_type": "markdown",
      "source": [
        "#### Step 1. Time scale separation between fast ($V$) and very-fast ($m$) variables\n",
        "\n",
        "  First, we can look at the timescales of different equations (Fig. 1a).  We see that sodium channel activation $m$ changes much faster than other gating variables, on a scale of a single spike ($<$1ms).\n",
        "Therefore, we can assume that equation (4c) always quickly reaches equilibrium $dm/dt=0$, and substitute eq. (4c) with a *quasi-steady state* approximation $m(t) = m_0(u(t))$. Thus, we get rid of a differential equation (4c)."
      ],
      "metadata": {
        "id": "lOUo8icZuhI2"
      }
    },
    {
      "cell_type": "markdown",
      "source": [
        "#### Step 2. Merging two similar slow equations ($n$ and $h$)\n",
        "\n",
        "  From Fig.1a we also see that both sodium channel inactivation $h$ and potassium channel gating $n$ change slowly (on a scale of 5-10ms). We can also notice that in Fig.1b $n(V)$ looks roughly like $1-h(V)$ (not exactly, but it is an approximation).\n",
        "So, since these two variables have similar dependencies on both time and voltage, we can substitute them with a single variable $w$ that approximates both gating variables. Thus, we merge eq. (4b) and (4d) into one. "
      ],
      "metadata": {
        "id": "lvj5ekalAw2y"
      }
    },
    {
      "cell_type": "markdown",
      "source": [
        "#### Result: 2D FitzHugh-Nagumo (FHN) model\n",
        "\n",
        "Following 2 steps above, we merged 2 **fast** equations and 2 **slow** equations, which results in the following model:\n",
        "\n",
        "\\begin{align}\n",
        "\\mathrm{\\mathbf{Fast:}} \\quad\\frac{dV}{dt} &= V(1-V)(V-V_{thr}) - w + i_{ext} \\tag{5a}\\\\\n",
        "\\mathrm{\\mathbf{Slow:}} ~\\quad \\frac{dw}{dt} &= \\epsilon (\\beta V - w) \\tag{5b}\n",
        "\\end{align}\n",
        "\n",
        "here some coefficients like time constants and capacitance of the membrane are typically omitted for simplicity.\n",
        "\n",
        "The two equations are also often called **fast activator** and **slow inhibitor**. Because the first equation describes cell's depolarization and sodium channel opening (activation), while the second equation describes everything that works towards repolarization (potassium currents + sodium channels' inactivation).\n",
        "The parameter responsible for fast/slow timescales separation is $\\epsilon$, which is typically set to $0.01$ (i.e. 5b is 100x slower than 5a).\n",
        "\n",
        "Now that we have a 2D system, we can visualize its phase portrait!"
      ],
      "metadata": {
        "id": "dhCZE54EA9Sc"
      }
    },
    {
      "cell_type": "markdown",
      "source": [
        "### Phase portrait of FHN"
      ],
      "metadata": {
        "id": "6Ys57PBauhRs"
      }
    },
    {
      "cell_type": "code",
      "source": [
        "# Plotting phase portraits\n",
        "def plot_FHN_phase_portrait(i_ext,V_thr,beta,\n",
        "                            V_null = None, w_null = None,\n",
        "                            V_min = -.5, V_max = 1.2,\n",
        "                            w_min = -.1, w_max = .2,\n",
        "                            eps=0.01,n=30):\n",
        "  '''\n",
        "    Plots a phase portrait for a FitzHugh-Nagumo model (eq. 5)\n",
        "    n: number of points in the n x n grid\n",
        "  '''\n",
        "  plt.figure(figsize=(5,5))\n",
        "  V_grid = np.linspace(V_min,V_max, n) # a 1D activator grid\n",
        "  w_grid = np.linspace(w_min,w_max, n) # a 1D inhibitor grid\n",
        "  x = np.array(np.meshgrid(V_grid, w_grid)).reshape((2,-1)) # a 2D flattened grid\n",
        "  V, w = x\n",
        "  V_dot = V*(1-V)*(V-V_thr) - w + i_ext #2remove\n",
        "  w_dot = eps*(beta * V - w) #2remove\n",
        "  plt.streamplot(V_grid,w_grid,V_dot.reshape(n,n),w_dot.reshape(n,n),\n",
        "                 color=np.linalg.norm(np.array([V_dot,w_dot]),axis=0).reshape(n,n),\n",
        "                 cmap='coolwarm',density=1.5)\n",
        "  if V_null is not None:\n",
        "    plt.plot(V_grid,V_null(V_grid,V_thr,i_ext),c='k')\n",
        "  if w_null is not None:\n",
        "    plt.plot(V_grid,w_null(V_grid,beta),c='k')\n",
        "  plt.xlabel('fast activator V')\n",
        "  plt.ylabel('slow inhibitor w')\n",
        "  plt.xlim([V_min,V_max])\n",
        "  plt.ylim([w_min,w_max])\n",
        "  plt.clim(vmin=0,vmax=.2)\n",
        "\n",
        "@widgets.interact\n",
        "def interactive_FHN_portrait(i_ext=widgets.FloatSlider(min=-.2, max=.3, value=0), \n",
        "                            V_thr=widgets.FloatSlider(min=0, max=1, value=0.2),\n",
        "                            beta=widgets.FloatSlider(min=0.05, max=.5, value=.4),):\n",
        "  plot_FHN_phase_portrait(i_ext,V_thr,beta)"
      ],
      "metadata": {
        "colab": {
          "base_uri": "https://localhost:8080/",
          "height": 434,
          "referenced_widgets": [
            "0cfcbc59f68642ff8a1680ab0f6aeb92",
            "3ba75960f46a4933b0ce98e0cf0435f9",
            "b5487df095af4086bd6f375ce9375ff3",
            "7b128a4d13af492d8182906aeba64b69",
            "791d2f3515bc481790b37d6d02d24b27",
            "71ce1171120545ee86ee37e906db10b0",
            "7241bf2f3b6c477ca8834b64b168b892",
            "885b13584c464f08987a815f47f07b58",
            "9a68e06253e740a998b648cf8541310e",
            "f17956728f0046109bcaca091a6a9018",
            "95282d1fb1a940318367c50417bcf7a0",
            "66c488afe0f74e969555b246204b798b",
            "443c26a29e1345a48e54a455addd08e3"
          ]
        },
        "id": "6D5fBETVZ6Ke",
        "outputId": "8cd89256-bd4b-40a7-c803-84a6f57df3b3"
      },
      "execution_count": 11,
      "outputs": [
        {
          "output_type": "display_data",
          "data": {
            "text/plain": [
              "interactive(children=(FloatSlider(value=0.0, description='i_ext', max=0.3, min=-0.2), FloatSlider(value=0.2, d…"
            ],
            "application/vnd.jupyter.widget-view+json": {
              "version_major": 2,
              "version_minor": 0,
              "model_id": "0cfcbc59f68642ff8a1680ab0f6aeb92"
            }
          },
          "metadata": {}
        }
      ]
    },
    {
      "cell_type": "markdown",
      "source": [
        "Looks very complicated! Although, if we look at some parts of the phase plane, locally it might resemble some of the patterns of an LDS behavior that we have seen before. (by the way, which ones?)"
      ],
      "metadata": {
        "id": "ObkUx2cci1Ks"
      }
    },
    {
      "cell_type": "markdown",
      "source": [
        "### Fixed points, nullclines, stability"
      ],
      "metadata": {
        "id": "a8dK0G_bldqw"
      }
    },
    {
      "cell_type": "markdown",
      "source": [
        "While linear systems had just one fixed point, non-linear systems can have many. Moreover, even the number of fixed points can change depending on the parameters (like $V_{thr}$ or $\\gamma$) 🤯\n",
        "\n",
        "We can find fixed points, by dealing with equations (5a) and (5b) one by one. The set of points where $\\dot V = 0$ is called **$V$-nullcline**. Nullclines divide the phase plane into two parts, based on the sign on the derivative. \n",
        "\n",
        "Let us add the nullclines to the phase portrait: "
      ],
      "metadata": {
        "id": "HDqho-8NbtED"
      }
    },
    {
      "cell_type": "code",
      "source": [
        "V_nullcline = None\n",
        "w_nullcline = None\n",
        "@widgets.interact\n",
        "def interactive_FHN_portrait(i_ext=widgets.FloatSlider(min=-.2, max=.3, value=0,step=.01), \n",
        "                            V_thr=widgets.FloatSlider(min=0, max=1, value=0.2),\n",
        "                            beta=widgets.FloatSlider(min=0.05, max=.5, value=.4, step=0.01),):\n",
        "\n",
        "  global V_nullcline, w_nullcline\n",
        "\n",
        "  # write equations for nullclines as a function of V:\n",
        "  V_nullcline = lambda V, V_thr, i_ext: V*(1-V)*(V-V_thr)+i_ext  #2remove\n",
        "  w_nullcline = lambda V, beta: V*beta                            #2remove\n",
        "\n",
        "  plot_FHN_phase_portrait(i_ext,V_thr,beta,\n",
        "                          V_null = V_nullcline, w_null = w_nullcline)"
      ],
      "metadata": {
        "colab": {
          "base_uri": "https://localhost:8080/",
          "height": 434,
          "referenced_widgets": [
            "0ba6b383c8cd442a8b792c192446d3be",
            "02a9e4565fc24a7a9cd306b65b90f79c",
            "7c742f76d6934e448cb6ebddb9118501",
            "76e8e4cc752340cbb1ad7fc8bb9d3649",
            "a6a3e5be95ff4f389270caa7714ee581",
            "7903582d22c04313b27b36d1b14d2e34",
            "3766ef9b33194b68a871d1fc8171b6f8",
            "a680be3fbf1e4115b03dea5e91a04639",
            "901fa7349c5e4444b8ea99f519201ba9",
            "126094423d034c318f376f7596d01b3e",
            "e237aac96a37417cbe01bdc27c5b44c9",
            "9ad15c0a08694927b3b4ae2746304b81",
            "8adeedc69fd6464ea34142648473ebe5"
          ]
        },
        "id": "opUPiBLNleoA",
        "outputId": "9212d443-f39b-4245-dc48-6f3733310da3"
      },
      "execution_count": 12,
      "outputs": [
        {
          "output_type": "display_data",
          "data": {
            "text/plain": [
              "interactive(children=(FloatSlider(value=0.0, description='i_ext', max=0.3, min=-0.2, step=0.01), FloatSlider(v…"
            ],
            "application/vnd.jupyter.widget-view+json": {
              "version_major": 2,
              "version_minor": 0,
              "model_id": "0ba6b383c8cd442a8b792c192446d3be"
            }
          },
          "metadata": {}
        }
      ]
    },
    {
      "cell_type": "markdown",
      "source": [
        "What is the minimal and maximal number of fixed points we can get?\n",
        "\n",
        "SOLUTION"
      ],
      "metadata": {
        "id": "AaKY6dFVm2me"
      }
    },
    {
      "cell_type": "markdown",
      "source": [
        "### Analysing stability"
      ],
      "metadata": {
        "id": "TxZOxSxNHDIS"
      }
    },
    {
      "cell_type": "markdown",
      "source": [
        "\n",
        "#### Local stability"
      ],
      "metadata": {
        "id": "6ZgOTdli4Gi3"
      }
    },
    {
      "cell_type": "markdown",
      "source": [
        "\n",
        "Suppose the nullclines are intersecting somewhere in the middle, like this:"
      ],
      "metadata": {
        "id": "fe-e7EvTHBLQ"
      }
    },
    {
      "cell_type": "code",
      "source": [
        "i_ext, V_thr, beta = 0.1, 0.2, 0.4\n",
        "plot_FHN_phase_portrait(i_ext,V_thr,beta,\n",
        "                        V_max=1.3, w_min=0, w_max=.3,\n",
        "                        V_null = V_nullcline, w_null = w_nullcline)"
      ],
      "metadata": {
        "colab": {
          "base_uri": "https://localhost:8080/",
          "height": 338
        },
        "id": "3dx6tecc5i8Q",
        "outputId": "398a4b0c-9003-41d9-e89c-9dc354a4d264"
      },
      "execution_count": 13,
      "outputs": [
        {
          "output_type": "display_data",
          "data": {
            "text/plain": [
              "<Figure size 360x360 with 1 Axes>"
            ],
            "image/png": "[encoded data removed]"
          },
          "metadata": {
            "needs_background": "light"
          }
        }
      ]
    },
    {
      "cell_type": "markdown",
      "source": [
        "TODO: INTERSECTION FIND"
      ],
      "metadata": {
        "id": "PT2MmFq4Dvpf"
      }
    },
    {
      "cell_type": "markdown",
      "source": [
        "We see that globally, in the whole phase plane, the arrows that indicate the derivative $\\mathbf{\\dot x} = [\\dot V, \\dot w]^T$ change their directions in non-trivial ways, because $\\mathbf{\\dot x} = F(\\mathbf{x})$ is non-linear. However, we can locally approximate the the evolution operator $F(.)$ with a linear function:"
      ],
      "metadata": {
        "id": "zztPsQ-R-bdg"
      }
    },
    {
      "cell_type": "markdown",
      "source": [
        "$$\\mathbf{\\dot x} = F(\\mathbf{x}) \\approx \\left.\\frac{\\partial \\mathbf{F}}{\\partial \\mathbf{x}}\\right |_{x_0} \\mathbf{x} = \n",
        "\\begin{bmatrix}\n",
        "    \\frac{\\partial F_V}{\\partial V} & \\frac{\\partial F_V}{\\partial w}\\\\\n",
        "    \\frac{\\partial F_w}{\\partial V} & \\frac{\\partial F_w}{\\partial w}\n",
        "\\end{bmatrix}_{\\mathbf{x}_0}  \\mathbf{x}\n",
        "= \\mathrm{J} \\mathbf{x}$$"
      ],
      "metadata": {
        "id": "73DmMKidAP7-"
      }
    },
    {
      "cell_type": "markdown",
      "source": [
        "This matrix $\\mathrm{J}$ is called a **Jacobian** (scary name!). But it only has 4 components, which we can derive analytically (with pen and paper) from eq. 5a-5b:"
      ],
      "metadata": {
        "id": "ZUOo-8foDvr9"
      }
    },
    {
      "cell_type": "code",
      "source": [
        "eps = 0.01\n",
        "V = 0.4 # FIND BETTER POINT\n",
        "J = np.array([[(1-V)*(V-V_thr)+i_ext, -1],\n",
        "              [eps*beta, -eps]]) #2remove\n",
        "\n",
        "print(\"Eigenvalues of a Jacobian: \",np.linalg.eig(J)[0])"
      ],
      "metadata": {
        "colab": {
          "base_uri": "https://localhost:8080/"
        },
        "id": "IGVDBzxuErWE",
        "outputId": "2b977222-1515-4cff-dec6-59a5d5736ca4"
      },
      "execution_count": 14,
      "outputs": [
        {
          "output_type": "stream",
          "name": "stdout",
          "text": [
            "Eigenvalues of a Jacobian:  [0.20104686 0.00895314]\n"
          ]
        }
      ]
    },
    {
      "cell_type": "markdown",
      "source": [
        "##### **Think!**\n",
        "So, is it stable?"
      ],
      "metadata": {
        "id": "zgeYXh2GC1WF"
      }
    },
    {
      "cell_type": "markdown",
      "source": [
        "**Answer:** No. The eigenvalues are positive, so the solution is repulsed from the fixed point."
      ],
      "metadata": {
        "id": "LcxBlyavo5YI"
      }
    },
    {
      "cell_type": "markdown",
      "source": [
        "#### Global stability"
      ],
      "metadata": {
        "id": "kndVlnjuHI34"
      }
    },
    {
      "cell_type": "markdown",
      "source": [
        "Now let us take a step back. Literally. Let us zoom out on that phase portrait:"
      ],
      "metadata": {
        "id": "XJ8wfv6aGvO7"
      }
    },
    {
      "cell_type": "code",
      "source": [
        "i_ext, V_thr, beta = 0.1, 0.2, 0.4\n",
        "plot_FHN_phase_portrait(i_ext,V_thr,beta, eps=.1,\n",
        "                        V_min=-5, V_max=5, w_min=-50, w_max=50,\n",
        "                        V_null = V_nullcline, w_null = w_nullcline)"
      ],
      "metadata": {
        "colab": {
          "base_uri": "https://localhost:8080/",
          "height": 334
        },
        "id": "6D5yzQeSHUuu",
        "outputId": "5d255470-44ff-40be-d7a6-ddf1be53ee8b"
      },
      "execution_count": 18,
      "outputs": [
        {
          "output_type": "display_data",
          "data": {
            "text/plain": [
              "<Figure size 360x360 with 1 Axes>"
            ],
            "image/png": "[encoded data removed]"
          },
          "metadata": {
            "needs_background": "light"
          }
        }
      ]
    },
    {
      "cell_type": "markdown",
      "source": [
        "##### **Think!**\n",
        "We see that all of the arrows are point towards the cubic V-nullcline. But why are they horizontal? *(click for answer)*\n"
      ],
      "metadata": {
        "id": "6s8EKaABJyBM"
      }
    },
    {
      "cell_type": "markdown",
      "source": [
        "**Answer:** Because of timescale separation, eps << 1. The rate of change of the state is much higher in horizontal direction than in vertical."
      ],
      "metadata": {
        "id": "Ow9CGDJhpHFF"
      }
    },
    {
      "cell_type": "markdown",
      "source": [
        "After they reach the cubic V-nulcline, V does not change anymore, but $ dw/dt \\sim -w$ for large $w$. So, overall, the system is attracter towards (0,0) on a global scale.\n",
        "\n",
        "#### **Think!**\n",
        "\n",
        "What should happen on intermediate timescale if:\n",
        "1. **locally**: two nullclines have only one intersection which is a *repeller*\n",
        "2. **globally** the states are *attracted* towards (0,0)\n",
        "\n",
        "?\n"
      ],
      "metadata": {
        "id": "Dekbfp9goUFJ"
      }
    },
    {
      "cell_type": "markdown",
      "source": [
        "**Answer:** Since there are no other stable fixed points, the state can not stop changing. It is repelled both from the unstable fixed point and infinity... so it must then orbit around the unstable point!"
      ],
      "metadata": {
        "id": "QPsEuN6KstXK"
      }
    },
    {
      "cell_type": "markdown",
      "source": [
        "### Visualizing trajectories"
      ],
      "metadata": {
        "id": "Ec8midjSBJUg"
      }
    },
    {
      "cell_type": "markdown",
      "source": [
        "With all the knowledge you possess now, you can figure out all possible behaviors of this system with only pen and paper. But it is a lot of work! Instead, we can take a fun route and visulize some trajectories starting from random initial conditions:"
      ],
      "metadata": {
        "id": "CcTLCvs7nHqU"
      }
    },
    {
      "cell_type": "code",
      "source": [
        "def plot_FHN_trajectories(i_ext,V_thr,beta,\n",
        "                          N=10, T=20000, dt=.1,eps=0.01,n=30):\n",
        "  '''\n",
        "    Plots a trajectories for a FitzHugh-Nagumo model (eq. 5)\n",
        "  '''\n",
        "  fig, ax = plt.subplots(1,2,figsize=(15,5),gridspec_kw={'width_ratios': [1,2]})\n",
        "\n",
        "  # plot trajectories\n",
        "  V_dot = lambda V, w: V*(1-V)*(V-V_thr) - w + i_ext #2remove\n",
        "  w_dot = lambda V, w: eps*(beta * V - w) #2remove\n",
        "  # generate some initial conditions\n",
        "  V_0 = np.random.randn(N) * .5 + 0.5\n",
        "  w_0 = np.random.randn(N) * .02 + .05\n",
        "  # create an empty array for storing solutions \n",
        "  traject = np.empty((2,T+1,N))\n",
        "  traject[:,0] = np.array([V_0, w_0])\n",
        "  for t in range(T):\n",
        "    traject[:,t+1] = np.clip(\n",
        "                      [traject[0,t] + V_dot(*traject[:,t])*dt,\n",
        "                      traject[1,t] + w_dot(*traject[:,t])*dt],-10,10)\n",
        "  for i in range(N):\n",
        "    ax[0].plot(*traject[...,i],alpha=.3,linewidth=5)\n",
        "    ax[1].plot(traject[0,:,i])\n",
        "\n",
        "  # plot nullclines\n",
        "  global V_nullcline, w_nullcline\n",
        "  V_grid = np.linspace(-.5, 1.2, n) # a 1D activator grid\n",
        "  ax[0].plot(V_grid,V_nullcline(V_grid,V_thr,i_ext),c='k')\n",
        "  ax[0].plot(V_grid,w_nullcline(V_grid,beta),c='k')\n",
        "  \n",
        "  ax[0].set_xlabel('fast activator V')\n",
        "  ax[0].set_ylabel('slow inhibitor w')\n",
        "  ax[1].set_ylabel('fast activator V')\n",
        "  ax[1].set_xlabel('time')\n",
        "  ax[0].set_xlim([-.5,1.2])\n",
        "  ax[1].set_ylim([-.5,1.2])\n",
        "  ax[0].set_ylim([-.1,.2])\n",
        "\n",
        "@widgets.interact\n",
        "def interactive_FHN_trajectories(i_ext=widgets.FloatSlider(min=-.2, max=.3, value=0,step=.01), \n",
        "                            V_thr=widgets.FloatSlider(min=0, max=1, value=0.2),\n",
        "                            beta=widgets.FloatSlider(min=0.05, max=.5, value=.25, step=.01),):\n",
        "  plot_FHN_trajectories(i_ext,V_thr,beta)"
      ],
      "metadata": {
        "colab": {
          "base_uri": "https://localhost:8080/",
          "height": 434,
          "referenced_widgets": [
            "f1461ba3ae18406b8611f7ed2a75c345",
            "2502d9efc7634166813201a9b77911ff",
            "2b17b549aa3f42bb8618fa29451f40e3",
            "7810561ad1f647ba914e0d308b2c33f2",
            "1c62cdfc58fa40f7813f12370ca5622c",
            "e24d33a7fb614c849943fd46cead0a4d",
            "5676f471e7b44d67ad46c0c6d32ca209",
            "641322d32a0f4d308f927a5cad64ac10",
            "6b7ac3a4741841c9ae5ef4ea868020a0",
            "96cd5097bed24926ac36f8656937ef6a",
            "753b1fb6f72c4d5287909e986f84b313",
            "ef2bc11e03e94f04894fb464aa969bbb",
            "4ae1f73e9d0c45e187a6ab3f4683516a"
          ]
        },
        "id": "ywfSLU6ipoeC",
        "outputId": "044147d1-eabb-4100-f139-6fdd0b7d440a"
      },
      "execution_count": 16,
      "outputs": [
        {
          "output_type": "display_data",
          "data": {
            "text/plain": [
              "interactive(children=(FloatSlider(value=0.0, description='i_ext', max=0.3, min=-0.2, step=0.01), FloatSlider(v…"
            ],
            "application/vnd.jupyter.widget-view+json": {
              "version_major": 2,
              "version_minor": 0,
              "model_id": "f1461ba3ae18406b8611f7ed2a75c345"
            }
          },
          "metadata": {}
        }
      ]
    },
    {
      "cell_type": "markdown",
      "source": [
        "Yay, we've got action potentials!\n",
        "\n",
        "Not particularly beautiful action potentials (well, it is an approximated, reduced model), but still action potentials!\n",
        "\n",
        "If you don't see anything like action potentials, try stimulating the FHN neuron just a little bit with the external current $i_{ext}$. It makes sense, right? The neuron responds to some inputs.\n",
        "\n"
      ],
      "metadata": {
        "id": "T7TKHX_DBPIP"
      }
    },
    {
      "cell_type": "markdown",
      "source": [
        "## Summary\n",
        "\n",
        "In the second part of the tutorial, we:\n",
        "1. Learned that nonlinear systems can have not just *one* but *many* fixed points\n",
        "2. Learned how to linearize the dynamical system about a fixed point and check its local stability\n",
        "3. Learned a new type of an attractor: a limit cycle!\n",
        "4. Simulated some action potentials!"
      ],
      "metadata": {
        "id": "32pRn7au6len"
      }
    },
    {
      "cell_type": "markdown",
      "source": [
        "# Parts 3-4: Modelling dynamics based on data\n",
        "\n",
        "[Go to the next notebook](https://colab.research.google.com/drive/1CM6GLsDdUpaXcAnjjiLQGtUJZe5GH7MM?usp=sharing) WORK IN PROGRESS! "
      ],
      "metadata": {
        "id": "jE2TTKmgzwIP"
      }
    },
    {
      "cell_type": "markdown",
      "source": [
        "# References\n",
        "\n",
        "1. Izhikevich, Eugene M. [Dynamical systems in neuroscience.](https://www.izhikevich.org/publications/dsn.pdf) MIT press, 2007.\n",
        "\n",
        "2. Gerstner, Wulfram, et al. [Neuronal dynamics](https://neuronaldynamics.epfl.ch/index.html): From single neurons to networks and models of cognition. Cambridge University Press, 2014.\n",
        "\n",
        "<!-- ## Other great tutorials: -->\n",
        "3. Linear dynamical systems by Bing Wen Brunton and Alice Schwarze [Neuromatch: W2D2](https://compneuro.neuromatch.io/tutorials/W2D2_LinearSystems/student/W2D2_Tutorial1.html), 2020-now"
      ],
      "metadata": {
        "id": "kblnhvBQ9GvC"
      }
    }
  ]
}