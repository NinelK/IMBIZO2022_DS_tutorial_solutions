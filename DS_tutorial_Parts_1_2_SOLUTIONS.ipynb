{
  "nbformat": 4,
  "nbformat_minor": 0,
  "metadata": {
    "colab": {
      "name": "DS tutorial Parts 1-2 SOLUTIONS",
      "provenance": [],
      "collapsed_sections": [
        "5lSgytL2f3OV"
      ],
      "toc_visible": true,
      "authorship_tag": "ABX9TyNzt9JALqpVGHG72W77a/aL",
      "include_colab_link": true
    },
    "kernelspec": {
      "name": "python3",
      "display_name": "Python 3"
    },
    "language_info": {
      "name": "python"
    },
    "widgets": {
      "application/vnd.jupyter.widget-state+json": {
        "a0c45eaa1387464db351fc66000b3b59": {
          "model_module": "@jupyter-widgets/controls",
          "model_name": "VBoxModel",
          "model_module_version": "1.5.0",
          "state": {
            "_dom_classes": [
              "widget-interact"
            ],
            "_model_module": "@jupyter-widgets/controls",
            "_model_module_version": "1.5.0",
            "_model_name": "VBoxModel",
            "_view_count": null,
            "_view_module": "@jupyter-widgets/controls",
            "_view_module_version": "1.5.0",
            "_view_name": "VBoxView",
            "box_style": "",
            "children": [
              "IPY_MODEL_755284b019d64d698a62c8d28ac846e0",
              "IPY_MODEL_c8ed7ff50cd34334b7636be406c41981",
              "IPY_MODEL_cf5c46986bad42749a5179b0441a8a45",
              "IPY_MODEL_42500c80494e4e35bed32e1060fe63d5"
            ],
            "layout": "IPY_MODEL_19c96528c6e34054ab5cf9a9e3e30dda"
          }
        },
        "755284b019d64d698a62c8d28ac846e0": {
          "model_module": "@jupyter-widgets/controls",
          "model_name": "FloatSliderModel",
          "model_module_version": "1.5.0",
          "state": {
            "_dom_classes": [],
            "_model_module": "@jupyter-widgets/controls",
            "_model_module_version": "1.5.0",
            "_model_name": "FloatSliderModel",
            "_view_count": null,
            "_view_module": "@jupyter-widgets/controls",
            "_view_module_version": "1.5.0",
            "_view_name": "FloatSliderView",
            "continuous_update": true,
            "description": "x0",
            "description_tooltip": null,
            "disabled": false,
            "layout": "IPY_MODEL_8d96eaf67b54436bbbce333213f4b1e7",
            "max": 3,
            "min": -1,
            "orientation": "horizontal",
            "readout": true,
            "readout_format": ".2f",
            "step": 0.1,
            "style": "IPY_MODEL_2390eff1fddf4e1b8230c67674c9d20d",
            "value": 1
          }
        },
        "c8ed7ff50cd34334b7636be406c41981": {
          "model_module": "@jupyter-widgets/controls",
          "model_name": "FloatSliderModel",
          "model_module_version": "1.5.0",
          "state": {
            "_dom_classes": [],
            "_model_module": "@jupyter-widgets/controls",
            "_model_module_version": "1.5.0",
            "_model_name": "FloatSliderModel",
            "_view_count": null,
            "_view_module": "@jupyter-widgets/controls",
            "_view_module_version": "1.5.0",
            "_view_name": "FloatSliderView",
            "continuous_update": true,
            "description": "a",
            "description_tooltip": null,
            "disabled": false,
            "layout": "IPY_MODEL_3f3e4f1f63b84183a92189be39f24c20",
            "max": 2,
            "min": -2,
            "orientation": "horizontal",
            "readout": true,
            "readout_format": ".2f",
            "step": 1,
            "style": "IPY_MODEL_1171337e8c12423792e39fd3a7f6b38e",
            "value": 1
          }
        },
        "cf5c46986bad42749a5179b0441a8a45": {
          "model_module": "@jupyter-widgets/controls",
          "model_name": "FloatLogSliderModel",
          "model_module_version": "1.5.0",
          "state": {
            "_dom_classes": [],
            "_model_module": "@jupyter-widgets/controls",
            "_model_module_version": "1.5.0",
            "_model_name": "FloatLogSliderModel",
            "_view_count": null,
            "_view_module": "@jupyter-widgets/controls",
            "_view_module_version": "1.5.0",
            "_view_name": "FloatLogSliderView",
            "base": 10,
            "continuous_update": true,
            "description": "dt",
            "description_tooltip": null,
            "disabled": false,
            "layout": "IPY_MODEL_6fca9b7a90284bc6bebf20fc86693401",
            "max": -1,
            "min": -3,
            "orientation": "horizontal",
            "readout": true,
            "readout_format": ".3g",
            "step": 0.1,
            "style": "IPY_MODEL_4d477f129a6544238da4a69dd1daaee9",
            "value": 0.01
          }
        },
        "42500c80494e4e35bed32e1060fe63d5": {
          "model_module": "@jupyter-widgets/output",
          "model_name": "OutputModel",
          "model_module_version": "1.0.0",
          "state": {
            "_dom_classes": [],
            "_model_module": "@jupyter-widgets/output",
            "_model_module_version": "1.0.0",
            "_model_name": "OutputModel",
            "_view_count": null,
            "_view_module": "@jupyter-widgets/output",
            "_view_module_version": "1.0.0",
            "_view_name": "OutputView",
            "layout": "IPY_MODEL_091898f5662b4f6ea996a514c377291a",
            "msg_id": "",
            "outputs": [
              {
                "output_type": "display_data",
                "data": {
                  "text/plain": "<Figure size 432x288 with 1 Axes>",
                  "image/png": "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\n"
                },
                "metadata": {
                  "needs_background": "light"
                }
              }
            ]
          }
        },
        "19c96528c6e34054ab5cf9a9e3e30dda": {
          "model_module": "@jupyter-widgets/base",
          "model_name": "LayoutModel",
          "model_module_version": "1.2.0",
          "state": {
            "_model_module": "@jupyter-widgets/base",
            "_model_module_version": "1.2.0",
            "_model_name": "LayoutModel",
            "_view_count": null,
            "_view_module": "@jupyter-widgets/base",
            "_view_module_version": "1.2.0",
            "_view_name": "LayoutView",
            "align_content": null,
            "align_items": null,
            "align_self": null,
            "border": null,
            "bottom": null,
            "display": null,
            "flex": null,
            "flex_flow": null,
            "grid_area": null,
            "grid_auto_columns": null,
            "grid_auto_flow": null,
            "grid_auto_rows": null,
            "grid_column": null,
            "grid_gap": null,
            "grid_row": null,
            "grid_template_areas": null,
            "grid_template_columns": null,
            "grid_template_rows": null,
            "height": null,
            "justify_content": null,
            "justify_items": null,
            "left": null,
            "margin": null,
            "max_height": null,
            "max_width": null,
            "min_height": null,
            "min_width": null,
            "object_fit": null,
            "object_position": null,
            "order": null,
            "overflow": null,
            "overflow_x": null,
            "overflow_y": null,
            "padding": null,
            "right": null,
            "top": null,
            "visibility": null,
            "width": null
          }
        },
        "8d96eaf67b54436bbbce333213f4b1e7": {
          "model_module": "@jupyter-widgets/base",
          "model_name": "LayoutModel",
          "model_module_version": "1.2.0",
          "state": {
            "_model_module": "@jupyter-widgets/base",
            "_model_module_version": "1.2.0",
            "_model_name": "LayoutModel",
            "_view_count": null,
            "_view_module": "@jupyter-widgets/base",
            "_view_module_version": "1.2.0",
            "_view_name": "LayoutView",
            "align_content": null,
            "align_items": null,
            "align_self": null,
            "border": null,
            "bottom": null,
            "display": null,
            "flex": null,
            "flex_flow": null,
            "grid_area": null,
            "grid_auto_columns": null,
            "grid_auto_flow": null,
            "grid_auto_rows": null,
            "grid_column": null,
            "grid_gap": null,
            "grid_row": null,
            "grid_template_areas": null,
            "grid_template_columns": null,
            "grid_template_rows": null,
            "height": null,
            "justify_content": null,
            "justify_items": null,
            "left": null,
            "margin": null,
            "max_height": null,
            "max_width": null,
            "min_height": null,
            "min_width": null,
            "object_fit": null,
            "object_position": null,
            "order": null,
            "overflow": null,
            "overflow_x": null,
            "overflow_y": null,
            "padding": null,
            "right": null,
            "top": null,
            "visibility": null,
            "width": null
          }
        },
        "2390eff1fddf4e1b8230c67674c9d20d": {
          "model_module": "@jupyter-widgets/controls",
          "model_name": "SliderStyleModel",
          "model_module_version": "1.5.0",
          "state": {
            "_model_module": "@jupyter-widgets/controls",
            "_model_module_version": "1.5.0",
            "_model_name": "SliderStyleModel",
            "_view_count": null,
            "_view_module": "@jupyter-widgets/base",
            "_view_module_version": "1.2.0",
            "_view_name": "StyleView",
            "description_width": "",
            "handle_color": null
          }
        },
        "3f3e4f1f63b84183a92189be39f24c20": {
          "model_module": "@jupyter-widgets/base",
          "model_name": "LayoutModel",
          "model_module_version": "1.2.0",
          "state": {
            "_model_module": "@jupyter-widgets/base",
            "_model_module_version": "1.2.0",
            "_model_name": "LayoutModel",
            "_view_count": null,
            "_view_module": "@jupyter-widgets/base",
            "_view_module_version": "1.2.0",
            "_view_name": "LayoutView",
            "align_content": null,
            "align_items": null,
            "align_self": null,
            "border": null,
            "bottom": null,
            "display": null,
            "flex": null,
            "flex_flow": null,
            "grid_area": null,
            "grid_auto_columns": null,
            "grid_auto_flow": null,
            "grid_auto_rows": null,
            "grid_column": null,
            "grid_gap": null,
            "grid_row": null,
            "grid_template_areas": null,
            "grid_template_columns": null,
            "grid_template_rows": null,
            "height": null,
            "justify_content": null,
            "justify_items": null,
            "left": null,
            "margin": null,
            "max_height": null,
            "max_width": null,
            "min_height": null,
            "min_width": null,
            "object_fit": null,
            "object_position": null,
            "order": null,
            "overflow": null,
            "overflow_x": null,
            "overflow_y": null,
            "padding": null,
            "right": null,
            "top": null,
            "visibility": null,
            "width": null
          }
        },
        "1171337e8c12423792e39fd3a7f6b38e": {
          "model_module": "@jupyter-widgets/controls",
          "model_name": "SliderStyleModel",
          "model_module_version": "1.5.0",
          "state": {
            "_model_module": "@jupyter-widgets/controls",
            "_model_module_version": "1.5.0",
            "_model_name": "SliderStyleModel",
            "_view_count": null,
            "_view_module": "@jupyter-widgets/base",
            "_view_module_version": "1.2.0",
            "_view_name": "StyleView",
            "description_width": "",
            "handle_color": null
          }
        },
        "6fca9b7a90284bc6bebf20fc86693401": {
          "model_module": "@jupyter-widgets/base",
          "model_name": "LayoutModel",
          "model_module_version": "1.2.0",
          "state": {
            "_model_module": "@jupyter-widgets/base",
            "_model_module_version": "1.2.0",
            "_model_name": "LayoutModel",
            "_view_count": null,
            "_view_module": "@jupyter-widgets/base",
            "_view_module_version": "1.2.0",
            "_view_name": "LayoutView",
            "align_content": null,
            "align_items": null,
            "align_self": null,
            "border": null,
            "bottom": null,
            "display": null,
            "flex": null,
            "flex_flow": null,
            "grid_area": null,
            "grid_auto_columns": null,
            "grid_auto_flow": null,
            "grid_auto_rows": null,
            "grid_column": null,
            "grid_gap": null,
            "grid_row": null,
            "grid_template_areas": null,
            "grid_template_columns": null,
            "grid_template_rows": null,
            "height": null,
            "justify_content": null,
            "justify_items": null,
            "left": null,
            "margin": null,
            "max_height": null,
            "max_width": null,
            "min_height": null,
            "min_width": null,
            "object_fit": null,
            "object_position": null,
            "order": null,
            "overflow": null,
            "overflow_x": null,
            "overflow_y": null,
            "padding": null,
            "right": null,
            "top": null,
            "visibility": null,
            "width": null
          }
        },
        "4d477f129a6544238da4a69dd1daaee9": {
          "model_module": "@jupyter-widgets/controls",
          "model_name": "SliderStyleModel",
          "model_module_version": "1.5.0",
          "state": {
            "_model_module": "@jupyter-widgets/controls",
            "_model_module_version": "1.5.0",
            "_model_name": "SliderStyleModel",
            "_view_count": null,
            "_view_module": "@jupyter-widgets/base",
            "_view_module_version": "1.2.0",
            "_view_name": "StyleView",
            "description_width": "",
            "handle_color": null
          }
        },
        "091898f5662b4f6ea996a514c377291a": {
          "model_module": "@jupyter-widgets/base",
          "model_name": "LayoutModel",
          "model_module_version": "1.2.0",
          "state": {
            "_model_module": "@jupyter-widgets/base",
            "_model_module_version": "1.2.0",
            "_model_name": "LayoutModel",
            "_view_count": null,
            "_view_module": "@jupyter-widgets/base",
            "_view_module_version": "1.2.0",
            "_view_name": "LayoutView",
            "align_content": null,
            "align_items": null,
            "align_self": null,
            "border": null,
            "bottom": null,
            "display": null,
            "flex": null,
            "flex_flow": null,
            "grid_area": null,
            "grid_auto_columns": null,
            "grid_auto_flow": null,
            "grid_auto_rows": null,
            "grid_column": null,
            "grid_gap": null,
            "grid_row": null,
            "grid_template_areas": null,
            "grid_template_columns": null,
            "grid_template_rows": null,
            "height": null,
            "justify_content": null,
            "justify_items": null,
            "left": null,
            "margin": null,
            "max_height": null,
            "max_width": null,
            "min_height": null,
            "min_width": null,
            "object_fit": null,
            "object_position": null,
            "order": null,
            "overflow": null,
            "overflow_x": null,
            "overflow_y": null,
            "padding": null,
            "right": null,
            "top": null,
            "visibility": null,
            "width": null
          }
        },
        "e9b3762631dd4b1aa89b2c91b1798648": {
          "model_module": "@jupyter-widgets/controls",
          "model_name": "VBoxModel",
          "model_module_version": "1.5.0",
          "state": {
            "_dom_classes": [
              "widget-interact"
            ],
            "_model_module": "@jupyter-widgets/controls",
            "_model_module_version": "1.5.0",
            "_model_name": "VBoxModel",
            "_view_count": null,
            "_view_module": "@jupyter-widgets/controls",
            "_view_module_version": "1.5.0",
            "_view_name": "VBoxView",
            "box_style": "",
            "children": [
              "IPY_MODEL_d8c01d86d4154a1ba4acdd114387c580",
              "IPY_MODEL_2590e1447d4f4453b99064c61460534a",
              "IPY_MODEL_444bc2884f4a419aa3e8eafe73160fad",
              "IPY_MODEL_43e4eee6bf314b668c5887091a528f0b"
            ],
            "layout": "IPY_MODEL_b69d4b4a36b24970808bb518ab343f15"
          }
        },
        "d8c01d86d4154a1ba4acdd114387c580": {
          "model_module": "@jupyter-widgets/controls",
          "model_name": "FloatSliderModel",
          "model_module_version": "1.5.0",
          "state": {
            "_dom_classes": [],
            "_model_module": "@jupyter-widgets/controls",
            "_model_module_version": "1.5.0",
            "_model_name": "FloatSliderModel",
            "_view_count": null,
            "_view_module": "@jupyter-widgets/controls",
            "_view_module_version": "1.5.0",
            "_view_name": "FloatSliderView",
            "continuous_update": true,
            "description": "x0",
            "description_tooltip": null,
            "disabled": false,
            "layout": "IPY_MODEL_66d8b3a3cdce424bbd2501e8c021c2df",
            "max": 3,
            "min": -1,
            "orientation": "horizontal",
            "readout": true,
            "readout_format": ".2f",
            "step": 0.1,
            "style": "IPY_MODEL_1979edd920c3459692e48618d0032b39",
            "value": 1
          }
        },
        "2590e1447d4f4453b99064c61460534a": {
          "model_module": "@jupyter-widgets/controls",
          "model_name": "FloatSliderModel",
          "model_module_version": "1.5.0",
          "state": {
            "_dom_classes": [],
            "_model_module": "@jupyter-widgets/controls",
            "_model_module_version": "1.5.0",
            "_model_name": "FloatSliderModel",
            "_view_count": null,
            "_view_module": "@jupyter-widgets/controls",
            "_view_module_version": "1.5.0",
            "_view_name": "FloatSliderView",
            "continuous_update": true,
            "description": "a_real",
            "description_tooltip": null,
            "disabled": false,
            "layout": "IPY_MODEL_2c5d8a80d1454beb99f6a94b9cc82945",
            "max": 1,
            "min": -1,
            "orientation": "horizontal",
            "readout": true,
            "readout_format": ".2f",
            "step": 0.1,
            "style": "IPY_MODEL_e5e0357f9e2f465d87430a069244b575",
            "value": 0.2
          }
        },
        "444bc2884f4a419aa3e8eafe73160fad": {
          "model_module": "@jupyter-widgets/controls",
          "model_name": "FloatSliderModel",
          "model_module_version": "1.5.0",
          "state": {
            "_dom_classes": [],
            "_model_module": "@jupyter-widgets/controls",
            "_model_module_version": "1.5.0",
            "_model_name": "FloatSliderModel",
            "_view_count": null,
            "_view_module": "@jupyter-widgets/controls",
            "_view_module_version": "1.5.0",
            "_view_name": "FloatSliderView",
            "continuous_update": true,
            "description": "a_imag",
            "description_tooltip": null,
            "disabled": false,
            "layout": "IPY_MODEL_e5e4978afdf84f74936256db44f3d433",
            "max": 5,
            "min": -1,
            "orientation": "horizontal",
            "readout": true,
            "readout_format": ".2f",
            "step": 0.1,
            "style": "IPY_MODEL_06c930ee289045c4aa03fb1a452e10db",
            "value": 3.6
          }
        },
        "43e4eee6bf314b668c5887091a528f0b": {
          "model_module": "@jupyter-widgets/output",
          "model_name": "OutputModel",
          "model_module_version": "1.0.0",
          "state": {
            "_dom_classes": [],
            "_model_module": "@jupyter-widgets/output",
            "_model_module_version": "1.0.0",
            "_model_name": "OutputModel",
            "_view_count": null,
            "_view_module": "@jupyter-widgets/output",
            "_view_module_version": "1.0.0",
            "_view_name": "OutputView",
            "layout": "IPY_MODEL_9f58d028434b4f0e90dcb9e37da8a94a",
            "msg_id": "",
            "outputs": [
              {
                "output_type": "display_data",
                "data": {
                  "text/plain": "<Figure size 432x288 with 1 Axes>",
                  "image/png": "iVBORw0KGgoAAAANSUhEUgAAAaAAAAEWCAYAAAAgpUMxAAAABHNCSVQICAgIfAhkiAAAAAlwSFlzAAALEgAACxIB0t1+/AAAADh0RVh0U29mdHdhcmUAbWF0cGxvdGxpYiB2ZXJzaW9uMy4yLjIsIGh0dHA6Ly9tYXRwbG90bGliLm9yZy+WH4yJAAAgAElEQVR4nOydd3icV5X/P3dGGpVR77JsNfceJ3F6bKX3UAJLgFA3BHYDSwjhx9ICCwtLh1ACS5YQICGEEkgPiVMcEseJS9zlbkmWrF5GdTTt/v6480qyrDL3zoxK8n6eR89YM3NnXsmj97zn3O/5HiGlxMbGxsbGZqpxTPcB2NjY2Ni8NbEDkI2NjY3NtGAHIBsbGxubacEOQDY2NjY204IdgGxsbGxspoWE6T6A6SQvL0+Wl5dP92HY2Ni8xdjX2E1mciIl2SnjPqe+c4Bur59lxRnqjs4a8PdDwbLI3qRpN6RkQea86A94FNu2bWuTUuZH+zpv6QBUXl7O1q1bp/swbGxs3kLUtvex/nsv8q13rOR9Z5eO+7wHXqvlS3/bw8Ofu4jS3FT45QWQXgzv/3Nkb/TLCyG9KPLnayCEqI3F69glOBsbG5spZFe9B4BVczMnfF5lXhoAxzv71R0dNZBTGfkbZc4DT73JIU4ZdgCysbGxmUIONffgELC4KH3C5xVnJgPQ6PHCYC/4elQGFCmZc6HrOMxgswE7ANnY2NhMIQ1dXgozkkl0Tnz6LQoHoCbPAPQ2qzvTCiN/o6x5Kmh5PaaHGnfsAGRjY2MzhZzoGmBO1vjiA4vkRCc5bpfKgHpb1J3pGgEoc666ncFlODsA2djY2EwhjZ6BofLaZBRlJIcDUJO6QycDstRvnuOaRzh12AHIxsbGZoqQUnLC46UkggwI1D7QSRmQVgCyMyAbGxsbmzDtfT58gVDkGVBm8vAekCMBUnIifzN3AThddgZkY2NjYwONXV6AiPaAQGVAnf1+At1NKqA4NE7ZDgdklNgZkI2NjY0NNHQNAJEHoKJM9TxfVyOkFei/oSXFnqHYAcjGxsZmimj06AWgOeFSXainWW//x2KGN6PaAcjGxsZmijjRNUBSgoPs1MSInm/1Ajn7WvQk2BZZ86CnEYJ+/bVTgB2AbGxs3px01sKrd8Pev0/3kQxxwuNlTlYKQoiInl+UmYyDEEmDHWYZUHoxIIcbWWcYb2kzUhsbmzchW38D234DjTvV90kZsOQacEaWdcQT1YQamQIOINWVQFnyAA6CZgHInadu+9uHZdkzCDsDsrGxefPQfgQevw1kCC77Blz5HRjshrrN031kgFLBFWdGtv9jsSRd7RsZiRBSc9Vtf7v+2inADkA2NjZvHo5tVLfv/i2c/x+w5v3gSIRD/5je4wL8wRDNPd6IBQgW81N61T/SivTf1ApAfXYAiitCiFQhxFEhhBRC/Gy6j8fGxmYaOPaS6n2xxhYkpUP5+XDwmek9LqC524uUw8q2SClz9al/GGVAI0pwM5A3TQACvg5EPaHPxsZmlhIKwbF/QsU6GLnJv/AKaDugJopOIyc0m1At5iQoN2tvUq7+m6ZkAcIOQPFECHE6cBvw1ek+Fhsbm2mitRr621QAGsnCy9XtoWen/phGMNwDpJcB5YsuemQKLV4DzZjDCSnZ6vcyA5n1AUgI4QTuAZ4GHp7mw7GxsYkRXn+Qlh5v5AuOvaRuyy88+f68Baokd3B694GsDEhXhJAd6qRFZg0FMG3ceXYGFEc+AywBPjndB2JjYxM77nxkDxd8+wX+tDVCK5ljL6lAkzXv1McWXgE1/wRff2wPUoMTXQNkpiTiTtLLZNL87bSRSVO3RjAeSWou9HeYrY0zszoACSEqgP8Cvi6lrIlwzS1CiK1CiK2tra1xPT4bGxszPAN+HtlxAleCg//3l1187dG9+IOh8RcEA1Dz8qnlN4tFl0PAq4LQNKEzB2gkSd5WWmXWUAalTWqunQHFiV8CR4EfRrpASvkrKeWZUsoz8/NtzYKNzUzk0R0NDAZC3H/z2Xzswgru21TDTf/3Gn2DgbEXNO5U/T7jBaCy8yHRPa1luIauyOcAjcTR10qnM0eNZTAhNRf6ZuYe0Kx1QhBC3ARcBqyTUs5MoyMbGxttpJQ8+Ppxls/J4LR5WZw2L4tFhel87i+7eGJXI/+ydowSm9X/M3r/xyIhCSqr4NAzIOXJKrkpotEzwBllWXqLfP0w2I0vKU8NpjPByoCm6eeeiFmZAQkhklBZz5NAkxBigRBiAVAWfkpm+D7N/20bG5vpZk9DN/sau7lxRKB51xlzyXG7eL1mnL2MYy9BwbKJe2UWXa6Gs7UdjPERT06/L0BXv19bgm15uAXdBdHtAckgeD1m6+PIrAxAQAqq5+ca4NCIrxfDj98U/v7m6Tg4Gxsbc/64pY7kRAfXn1YydJ8QgjPLstkyVgAKDCqrnYr1E7/wnDXqtqU6hkcbGUM9QJoKOGsUtzO9yDwDcs/cZtTZWoLrA949xv35wN0oSfavgV1TeVA2NjbR0e8L8OiOE1y9spjMlJPNQ8+qyOGZfc20dHspyBixmV+/FQID4+//WOTMV7cdR2J81JNzQnMQ3RDhDMiVXUzbwUF8gRCuBM28YaQfXO58vbVxZlYGoPCez19G3y+EKA//84iU8pTHbWxsZjZP7m6iZzDAjWtLT3lsbXkOAK/XdHDtqjnDD9S/rm7Lzp34xZPSlJ9a+9QHIKuHR1sFFw5A6XlzkLKR5m4v83JS9V4jVf3eZmIGNFtLcDY2Nm9CHtpSR2Wem7Xl2ac8tnxOBqkuJ1uOjSrDtR9WowpSTl1zCrnzpyUANXR5EWJ4wFzE9DaDcJCdpwKu0T6Q5Qc3A5Vwb6oAJKWskVIKKaXdlGpjM8voHQywtbaT61bPGXNgW4LTweml2bxe03nyA+1HIHdBZG+SO39aSnCNXQMUpCeR6NQ85fY2gzuf4my3eh2TfaAZPJLhTRWAbGxsZi8HmrqRElaWZI77nLXlOexv6sYzMKLzov3wsPv1ZOTMh77WKVeEnfAMaFvwAEqEkFY4lDkZ9QK53OBMsgOQjY2NzXhUN/YAsKQ4fdznrK3IRkrYXhvOgrweFVB0MiCY8jJco8erbUIKqAworZD0pARSXU6zDEiIGesHZwcgGxubGUF1YzcZyQkTugWsmZdNolPwmrUPZAWSSAPQkBLuaBRHqk9rzyAF6QYBqEcFICEEuWkuOvt8ZgeQmmMHIBsbG5vxqG7sZklxxpj7PxYpLicrSjKH+4GGAlCE8uKcCkBMaQbk9Qfp8QbIS3PpLQyFoK9lqLk2J9VFu3EAmpl+cHYAsrGxmXZCIcn+ph6WFWdM+tyzynPYVd+F1x8MCwoEZFdE9kaJKZA5V+0bTREd4aCRm5akt3CgE0IBSFejuHPcLjr7TQNQnq2Cs7GxsRmLuo5++n1Blk6w/2OxtjwHf1Cy43iXCiRZ8yBRo7yVUzmlSri23kEA8nQDULgHyMqAst0uOnqjyYBm3kgGOwDZ2NhMO9WN3QAsjSADOjPcI7TlWEdYAafZ3Z+7QK2TUvs4TRgOQJoluN4mdZtWCECu20WHcQaUC4MeCM4s32Y7ANnY2Ew71Y3dOAQsKpw8A8pKdbGwII2dxzuh/WjkAgSL3PlKPTdFGUFbjwoa2hmQVTJzq7Ex2W4XXn+Ift84Iykmwm31As2sLMgOQDY2NtPOvsYeKvPTSE50RvT8ynw3XW2N6qpeNwBNsSdcW59hCc4SDYQbSXPdKoPqMBEiDDWjzqx9IDsA2djYTDvVjd0Rld8synPdJHaFpdS6BptT3AvU1uPD7XKS4oosuA7R3w7CAclqqkx2aiwC0MxSwtkByMbmrcJrv4KfrYVt982ovQDPgJ+GroGIBAgWZblu5soT6hvdAJRVBsI5dRlQ7yB56ZrZD6hgkZIDDnWazk2LJgDNzJEMdgCysXkrMNgDL34LPPXw2KfhZ2fCjgenbCN+IvZrCBAsynNTqRBNhByJkHmqc/aEJLggq3TKpNhtvYP65TdQwcLKXIhRBjTDpNh2ALKxeSuw9V7VV/Khx+F9f4LkTPj7J2D39E8tGVLAFUUegEpzU6kQjfSmlIDTYKrMFLpit/f6hvZvtOjvOCkA5bpVEDMLQNZIBluEYGNjM5X4B2DTT6HyIph7Biy6Aj72ImTMhb0PT/fRUd3YQ3ZqIoUZkWcJxZkpVDqaaE6ca/amuQuUHc8UZIBRleCswAGkJyfgdAizAORMVBcddgnOxsZmStn+O2XYue5zw/c5HLD0WjjyPAz2Tt+xAdVNSoAwkQXPaJxIykUzNbLY7E1z5oOvd7jZM04EgiE6+n0xKcE5HILs1GjcEHJtFZyNjU109Hj9fPFvu9le1zn5kwOD8MpdUHoelJ9/8mNLr4OAFw5viM+BRkAgGOJAU4/W/g8A3Q0k4aPaX2D2xrnh8Q1xLsN19PuQEvJ1m1ClPCUAAeS4E2mPyg3BzoBsbGwMCQRDfPIPb/CH1+r42G+3cqJrkvkwOx+E7gZYd8epj5Weq9RR1Y/F52AjoKa9j8FASD8AhQUE23tzkCZltCnqBbKChbYP3GC38oE7JQBF6QdnByAbGxsTpJR89dG9bDzYyq0XzWcwEOIT929TppzjsemnMOd0mH/xqY85nLD4Kjj4D5UpTQP7m8IzgIoil2ADQ4Gj2ldIa6/BsWeVgiMx7ko4Yx+4UU2oFjnuKB2x++wAZGNjY8CvXz7GA6/V8fH1lXzuiiX86D2nsavew5f+tmfsLKDruDrBrr5RDSUbi6XXg68Hjr0U34Mfh9r2fgAq8tx6C9uPEHSm0Ez20Gto4XAqV2xPvf5aDYx94Cy12lgZULQzgWaA9N7CDkA2NrOAVw638c0nq7l6ZRGfv2IJAJctK+S2Sxfy1+31/O7V2lMX1W1Wt6XnjP/ClevBlQ7Vj8bhqCfneEc/eWku3EmaUur2wwSy1WwfowAEkDEHuhvN1kbIkA+crgpu3Awoia4BP8GQQRBx50FwEHx9+mvjhB2AbGxmAQ++Xkeu28UP/+U0HI7hbOY/Ll7I+Qty+enzhwiNPinVvaqCS8Hy8V84IUnJsvc/AaEJSnlxoq6jn3k5qfoLO46RmLcAp0NQ2254Qk0vhp4TZmsjpK1vEJfTQbpugB0KQDkn3Z2TmoiU0GWyDzQD/eDsAGRjM8PxB0NsPNjKxUsKTjHrdDgE71gzl7ZeH/vCDZ1D1G2GeWsnb9Rcep064dW9GuMjn5y6jn5KdQOQlOCpx5E1j5KsFGqMM6BilQHFsSTV1uMjL82lJTEHxs+A0qJpRp15fnB2ALKxmeFsOdZBjzfAJUsLx3x83ULl8/XSodbhOwe6oGWfUrpNxoJLISF5ytVw/mCIE10D+gFooBMCA5A5l7LcVOqMM6A5qiQ1EIGc3RDzJtQOJZJIOlmckROVHY/lBzdz3BDsAGRjM8PZUN2CK8HBheFAM5qCjGSWFmew8cCIAFS/BZAT7/9YJKVB2XlQuyk2BxwhJ7oGCEn0S3CWcCCzhLLc1OgyIIDu+JXhovaBG5U55UQ1kiFczptBfnB2ALKxmcFIKXlufzPnzc8l1TV+KW3dojy21XbSOxgeVlb3qnJ8LjkjsjcqWgmt+6fUJbuuQwUO7QzICkAZcynPdeMZ8JvtiaTPUbc98RMitPf69BVwMGYTKowIQFHtAdklOBsbmwg40tpHbXv/uOU3i/WL8gmEJK8eCZ9c6jZD8WpwRShvLlwJQR+0HYzyiCPHOAB1N6jbzLmU5aqfzygLsjKgOAUgKSXtfYP6TagQNiLNOeXubHciAB0mbghJGWq+UBxLjrrYAcjGZgbzXLXyKrtkycSWM2eW5ZDqcvLSwVbVVNqwLbL9H4uiFeq2aY/poWpT19GPy+mgMCNZb6GnXu2PuPMpy1XBy0gJl1akbuMkxfYM+PEHZUx84CySEpykJSWYZUAOhzIk9Xbpr40TdgCysZnBPFfdwrLiDOZkpUz4PFeCg3Mrc9l4sBUadyqPt0j2fyxyF4IzCZp3R3nEkXO8o5+52Sk4HZoKMU89ZJaAwzGUPRn1AiW41MZ8nKTYxk2oMG4AAlWGM9oDAjVd1esxWxsH7ABkYzND6ezzsbW2g0uWRma4uX5xPnUd/XRUb1R36AQgZwIULJnyDMioB6i7QY2SAJITnRRnJlNjqoSzpNhxoC1cJsvXzYBCIRjoGDcAZUcTgFKylEJyhjBrA5AQYpEQ4utCiM1CiFYhRI8QYocQ4ktCCE1fD5u3NFLCgaegJ77W/Lq8eLCFkGTS/R+LdQvzAeg9/ArkVEKaplN04UponroAdLzDQIIN4GlQGVCY0pxU6kyVcOlz4p4Bae8BebtAhsYNQLlRZUB2CS5WfBT4DHAE+DrwOeAA8N/AJiHExDULGxtQweeZL8ODN8I9F0Hzvuk+oiE2VLeQn57EqpLMiJ5fnuemLCeF7DbN/R+LohVqbtAUBGJPvx/PgF8/AIWCKgPKHB5EV57rjr4ZNQ609cTWB84iOzUKP7hkOwOKFX8B5kop3y+l/KmU8pdSyvcA3wRWAf86vYdnM+MJheDJO+DVn8GqG9XJ7d4r4dg/p/vIkFKy+Ug7Fy7MO8l6ZzLeWTpAeqibQMnZ+m9atFLdTsE+0PFOFTC0S3C9zSCDkDEiA8pNpa13kD5Lgq5D+hxlTRMHN/C2Xh/O8BA5Lcax4bHITVOO2EZjKFKy7AwoFkgpt0opx9pNeyh8u2Iqj8dmlhEKwmOfgi3/B+d/Gt7xS7h5g7oivv+dsPdv03p4jR4v7X0+TpuXpbXuoozjABxIXKz/poVhz7im+AegqHuAMucN3TU3WxU7Gj1e/QMZkmI36a+dhPa+QXLcLq0LCGBcGx6L7FQXg4EQAxON4RgPS4QwQxyxZ20AmgArN59ZBX2bKaFvMDBUe5+QLb+GN+6H9Z+HS/9LdZxnzYOPPq36Zx79NPgnGfYWR3bVq2urFRGW3ywqgnUMygR29I/tmjAhKdnqxD4FQgQrAM3L0ayUj3BBsLBk3E0mASiOzaitPT5y3YYKOJhwDwgwm4yakqX6vabxsz2SN1UAEkI4ga8AAeAP03w4NlOEPxjiuepm/uPBNzjzvzdw0fdepKZtAlWUlLDtPpizBi764sl2JynZcPGXYdCjHKKniT0NHpwOwTLNSaFp3YeoESVUtxieYApXTIkQoa6jnxy3i/TkRL2FVhPqiBJccWY4AHVHkwHFPgC19Q6Sb+QDN0kGFA5ARpNRk8MXNDOkDPemCkDAj4FzgTullAfGeoIQ4hYhxFYhxNbW1taxnmIzixgMBLnmJ//kX3+7lZcOtfL2NSUIAZ968A0GA+OUKBp3QMteWPOBsR8vX6dkvjsfjN+BT8KuBg8LC9JOcb+eDNFSTUtyJfsbe8zeuGgFtB0Cv8HJXIPjphJsT70aMZE8nBkOZ0AGQTfd8oOLTwAybkJNSAHX2L8fy47HaDJqcrikO0OECG+aACSE+AbwSeBXUsr/Ge95UspfSSnPlFKemZ+fP3UHaBMX/vj6cQ429/Ltd67k9S9eyv+8cyXfe/dqdjd4+M5TY16DqNJbQjKsuGHsxx0OWP0eOPJ83AeWjYWUkj0NHlbN1Su/4e0Gz3EGsxeyv6nHbJO6cIXa5G+t1l+rQV1HP/OyDYSqVhPqiKw1OdFJdmqiWQaUkq0acOMgxTb3gRu/BwiGA5CREi4lHIDsDCh2CCG+BnwZ+A3wiek9GpupYsAX5GcvHObsihzes3YergT1cb5ieREfPq+ce185xoZ9o7YC/QOw+89qBk7KBBv8q9+nejF2/ymOP8HYnPB46ejzsVJz/4dWFXBdc1bQOxigvtMgI7CUcHHcBwoEQzR0GvYAdTecVH6zKMxINtsDEiIuUuy+wQAD/qChD1w7pGaP+3BUjthWBjRD3BBmfQAKB5+vAr8FbpZGl302s5H7N9fS2jPIZy9ffMrAry9cvYTlczK44y87aR55Zbz/CfXHt+amiV88bwHMPQt2PDjliqHd9erqVFeAQIvqYcqtOA2A6tED6iIhuwIS3XHdB2r0eAmEpGETav1JPUAWxZnJZhkQhJtRYxuAhm14YucDZ5GRnECCQxgGoPBnyi7BRY8Q4k5U8Pk98FEpZWiaD8lmiugbDPCLjUe4cGEeZ1Wc2i+RlODkJ+9dQ1e/n4e2HB9+4I37IbNU7fNMxmnvVaWoxh0xPPLJ2d3gIcEhWKopQKClGhJTKV+wFCFgf5PBPpDDoeTYcZRiHzeVYAcGVaPsGAGoKNMwA4JwBhTbEpxlwxNrHzgAIYS5HU9KOLOyS3DRIYS4FfgvoA7YALxPCHHTiK/LpvcIbeLJfZtq6Ojzcftli8Z9zvz8NNaWZ/PErvDVbVcdHH0RTnufOtFOxvJ3qv2BHVMrRthV72FhYbq2AIHWashfjDvZRVlOKvubDDIgUEKEpj1xy/yGJdjmYxhGU5SRQluvb3zhyUSkF6sMKIY/b7tlw+OOfQYEajKqnQFNL2vDt6Wo8tvvR319aZqOyybOdHv9/Oqlo1yypIA1pePXygGuXTWHA809HGruCQcSqQJQJKRkwZKr1Z5RwND6RJMhAYJu+Q1UBlSwDIAlRRlUmyrhCpcrGbp1wo8xdR39JDjEkHw6YoYG0Z26B1SUqU70Ld0GjgYZc5R7eAzn5FjBIUc3AwoGVHYyWQAyzYAcTjUXyM6AokNK+WEppZjgq2q6j9EmPjyy4wSeAT+3XTp+9mNx1coihIDHdjXCnr9C+YWQXRb5m626UTkT10yNPU995wCd/X5W6Crg+tqVTU3BUgCWFKdT095Hv8/AniZ3gbrtOKq/NgLqOvopyU4hwal5+vFMkAFlKkWd0T5Qeux7gSyJtHYjqhUEIwlAJn1AMKP84GZtALKZIrzd0HV88udNIc/sbaIiz82Kksn3SArSkzm7IodNO/ZA2wFYeLnem5Wfr6ZI1r1qeLR67GlQ6iTtDMiSTYcD0NLiDKSEg829+geRU6lu4xSA6jsHhuxztOi2MqA5pzw01IxqZMcTfr0YKuE6+3ykupz6ZdRJfOAsopsJlGmr4GxmMANd8MYD8MC/wPfmw09Ph4P/mO6jAlT5bfPRdi5fVniK8m08rl01hzmdW9U3FRGID0aSlA5Fq9SI6ynAEiAsLkrXW9hiBSBVgltapILzfhMlXEYJOF1xC0CNngFKJhmwNyaeejVALvHUtdHZ8cQ+A+ro8w3JpbWYxAXBIis1Ec+An1BodhuS2gHI5mQGOuEX58Ej/65kvWfdok5qf3y/mpkzzbx4oBV/UHLZsshm5ABctaKIC5x7GXBmDPe56FB2HtRvmZJ9oN0NHhaZCBBaqiEpc+hkOjc7BbfLaaiEc0J2eVwCkC8QoqVncNIJr2PiaRiz/AZKmpzqchqW4MKjuWNcgotnAMpMSURK6DFxAE/OtEtwNvFHSkl9Zz9d/b7Ir5Se+bJyBr7pYbhtN1zxTfjgI+rE/dAHptUfDeDZfc3kul2Tig9GkpuWxEWuarawDCkMPvKl56hN6jjLsaWU7DZxQICwAGHpkEOAI5xF7TPJgECV4TqOma2dgOZuL1JiGIDG7gECJU0uMm1GTUhSJ/wYSrHjnwGp1/b0+/Xfw86AbOJNKCT53F92ccF3XuC0rz/Lwi8/xTnfem5YkjwWR15QfTLn/wcsuGTY7iQlCz74d+US/acPQt1rU/NDjMIXCPHi/hYuWVqAU8fivrOG/GAzG7yL2dNgcEK2hrvFeR+ovnOArn6/fgOqlCpbDe//WCwpzmB/Y7eZJU9OpcqAYizFbuhS7gxzMk32gMZ2QbAomkHNqFEHoJSJ94CyUpSJa9eAoRuCnQHZxAspJd94Yh9/2VbPh88r585rl/GJ9ZXkprn47J93jN0h7+uDxz6tFFDrP3/q48mZ8IG/qUa2f34//j/EGLx2rJ2ewQCXLyvSW3jsJQBelyt4fJfBVW5agfq91MY3AFn/L8vmaDag9jarK9rw/o/F0uIMur0Bszk5OZXg71evHUNOWAEoS1OC7fXAYPe4GRBgngFBzJtR2/sGDUcxdIArDRIn/v1kpYYDkEkGlJwFgYG4DOHTJeIAFMmIayGEhr7VJl789PnD/OaVGj56fgVfvW4ZH72ggs9dsYT7PnIWmSmJfOL+bXgGRn1wn/8mdNXCdT8Zc5MXgOQMtSd06Jkh37Gp5Nl9zaQkOrlgoeasm2MvgbuA3IqVbDxo6IBeeq7KgELxM9s41KIUa4sKdQUI4THiBUtOuntpWMhg1JCaU6FuY7wPNByAdOcAWRLsiTOg5m6v2ca81YwaA/p9Abz+EDkmTagDHZMq4EDtAQF0jf47joSUmeMHp5MBbRVCjDtlVAjxHmBqPUtsTuH3m2v54bMHueH0uXz5mqUnKcXy05O4+/2n09A5wGf/tGP4D7VpN7z2CzjzX5XseCLO/FdlFf/qz+L4U5yKlJJn9zVz4cI8vQ16KVUAqljHWRV5HGjuOTX4RkLpuSrLaItf4D3Q1ENJVgppSQl6C0cp4CwWhQOQUUNqnKTYDV1ect0ufZGF5VY9SQkuEJK09Rlc2acXK5ufoMGm/ig6THuAQJXgJim/AWSGMyCP0UygmTOSQScAFQCvCyH+beSdQogUIcSvgQeB+Og2bSKivXeQbz1RzfpF+XznhpVjjgI+oyyHL12zlA3VLfxi4xF15+v3qPEEl9w5+Zu4c5VH2s4/Qm9LjH+C8dnT0E2jx6ulfgOg7aAqI1WuZ215NlLC9lqDjvey8D5Q7Sb9tRFysLmHRYVp+gtb9oE7H9wnZ4YZyYmUZKUoFwhdMkvBkRCXDMhIgGD16FiS6TEoikaKnRYezdLfpr92FEMuCKYBaBIBAgxnQEYXUzNoJINOAFoFvAb8TAjxsBAiWwixGtgOfAS4CzgnDsdoEyH3vnIMbyDIV65dNmGX+YfPK+fK5UX87PnDeLo6YPdflO/ZROMJRnLOrRD0q8A1RTy7rwmHgEuWagagoxvVbcU61pRmk+AQvF7ToX8A2RWQVhQ3IUIgGOJoa59++Q2g9SDkLR7zofK8VI619+u/pjMBssriFIA09xxdx7AAACAASURBVH9geH9mggBUbLkhmAQgd4G6jcGel+WCkG26BxRBCS4pwUmqy2m+BwSzKwOSUjYCFwNfA64D9gCbgVzgOinlZ6SUBr+NWcZAl6qd+r1TbtM/EZ5+P7/dVMvVK4tZUDDxVbQQgk9evIABf5Dd/7gX/H1wxocjf7O8BbD4Ktjyf+AzOLkZsPFgK6eXZutfVR7bCFmlkF1OisvJipJMtpoEICFUFhSnhtTajn58wRALTQJQ+2H1fzIGFXlujrX2RqeEixFSSvMMqOeEakJNGP//vzDsB2ekhEsLX9j0Rj8luaM3ihLcQEdEJThQSjijPaAZNJZbSwUXnrXzU2ArUAy4gO9IKae3OWQqCAbg8dvhO2Xw7VL4ZiF8PQeevXNGBKL7NtXQOxjgkxeNfSIazYqSTM4oyybvwIPIgmUw90y9Nzz3k+qPZQrGVvd4/exu8HDu/MlLEycRCkLNyye5H6wtz2bncQ9ev4Frcum54DkeF2uig+GGUe0SXH+H+n/IXTjmw+W5brq9ATpNrpStXqAYfb67vQH6fEEzF4TuRqVUm4A8dxIJDhFdCa4v+rJydEaknogyIICMlESzDGiWihAQQpyHEhqcDnwT2AZ8VwjxayGEwXSp6aVvMIA/GIGqabAHHnwPbP01nPlRuPybar9k2dvhlbvg8c/EVR01GT1eP/e+cozLlhVqzZD51LJ+loQOc2jeDSeNOI6IsvNUX9C2+/TWGbC1tpOQhHMqNQNQ8151lVc+MgDl4AuG2N1g8McXx36gg829CMGk2esptB1St3ljB6CKPDcAx9r69A8qp1JJn63elCgxVsCByoDST/WAG4nDIcwnow6V4KIPQO19PhKdgnRdMYllRBppBpSaiMe0DwhmVwlOCPEl4EVAAlVSyq8A5wM/Bj6MUskZ+JxMH0fb+jjjG8/yqQff4IX943zwPA1w75WqSfO6n8C1P4LzPgkXfhbedS9ccDts+w38/RMxUdCYcP/mOjwDfj51cWTZj8WF3U/gxcVdzWv031QIWHEDNO2Ku1npa0c7SHQKTtdwPwCg/nV1W3r20F1nlqs/7tePGZThCpcrK/t4BKCWHuZlp5Lq0jxptYcDUO74JTiAGtMABDErw1kBSHsMA0SUAUEUzahJaZCYGpMA1NE3SI7bFbFX4RAD4c9khBlQVorLLANKcKmfdZaV4L4BPAqskVK+CiCl9EspPwtcC+Sh9oRmDWU5qVyxvIhXj7Txkfu28MiOUfNPAoPw+3dAZy28/89wxodOflwIuPSrcPFXYNdDKghNMQO+IP/3z6OsX5TPqrkRiggAfH04d/+Zo/mX8eQRr9kJavE16vbAk/prNXjtWDur5maR4tKU7tZvVeqwrOH2tBy3iwUFaWwx2QdyOFXW17hLf+0kHDJVwLUfBkfiST/jSOblpOJ0CPMMCGIegLRLcIFBpU6bJAOCKJtR3fkxK8EZ9QD1awagsCGpETPEDUEnAN0qpXyXlPKUo5ZSPgWsBuKnUY0DGSmJfO/dq3nlPy/m7Ioc7vjzTjYdHiHDfOUnqu/jXfcqa5rxWHcHrP9PNbjsyPPxP/ARPLWnkfY+H/9WNV9v4Z6HwddD8cUfxykEv99cq//meQuU+iqO/nB9gwF213s4e4yx25NSvwXmrj2lvLi2PIdttZ0ETRoWi1ap0l7IYA9pHHwBpYAzEiC0HVJNo86xM6dEp4N52SkcazcIQFmlahRFjAJQQ5eXRKcgL03z5NzTpG7HGMMwGisDMhJdpBXGKAPykeNO1F9oZUARluAyU5UIwehnTc6cXRmQlPIXkzzeCGgOW5kZJCU4+dUHz6Qiz83Hf79NdY63H4GXvqf2eRZF8GNdeLu6Cv3Hl2N6cpqMh7c3UJqTqn+C3vlHyF1I9pJ1XLWymD9tPU6fibPukmvURn8Mp0mOZFttJ4GQ1N//6e9Q2cEY4oqzKrLp8QY4YOIUXbxK2ZhYey8xoKa9j0BIsthUATeOAMGiPM/NsVaDAJTggsx5Mc2AijNTxuxPmxDLoSCSElxGMv2+IN1eg89yWoFqRo2SKcuAUlz4AiG8foP955Ss2SdCmAxpFIpnBpkpifzmI2eRmuTkw79+Hd+jn1EuuVd+O7IXSEiCS78GLXthxwPxPNQhGj0DvHKkjXesKdGrN/e1Qd0mWP4OEIKbzi6lxxvgufH2wSZiyTUgg3DwGf21EfDasXacDsEZZZr7Pw3b1e3ctac8dGaZ+gM3KsMVrVK3TbErwx0MN4ou1C3BhYIqOOROnP2W57qpae+bdil29D1AkWVAYNoLlB8zEYKxBBsiz4DeBIakthnpCEqyUvjNh8/iXO+LuGo3qr2dCK66hlj+Dph7Fjz/3zBoMIlSk7+/cQIp4Z2nj29PMiYHngQZgqXXAWpjPi/NxTN7m/QPYs7pqkHzQHzKcK8d7WBlSSZuXUVR/RZVPppzqsBibnYKxZnJZgEob5FyjWjcqb92HA429+IQMD9fMwB11UHQN64CzqIy302/L0hrj4FFTQwDUKPHa6iA08iArABk1AtUoBR/UYiJfIEQPd6AuQuC0wUud0RPj8qQdIaMZLAD0CiW5cA3kh5gZ6iS/fPerbdYCLjiW6qb+pW74nOAYaSUPLy9njPKsinLjewDO0T1Y6pcGB7O5nQILltWyIsHWhkMaJYPHQ7VlHpog2rOjSEDviA767v0y2+gAlDBMjXRdBRCCNaW57ClpkM/K3AmqNeNYQZ0qLmH8ly3vj9a+2F1O1kJLvz5OGoqRBjoHC4PGRIIhmjq9hr2AJ1Q/oPJk4tshu14BvTfx50PyKjseDr7o7HhCTehRljNyIrGjsfOgGYoW/6PtEAH33bczHefOay/ft5aZWuz6acxnTE/mr0nujnU0quf/Xg9cPRFlf2M+KBfvryI3sEAmw4b9HwsuVa5KYTHHsSK7XWd+IOSsys197dCIWjYOmFz7Znl2TR3Dw7Np9GiaKVSwsWo4nywuUe//AaT9gBZxESK3RndcLqWnkGCIWnoA3dCZT8RnJgLMtTeS3O3QbY35IZgXoZrj8oFoTPi/R8YNiQ1s+PJBF/PtLWOWNgBaCT+Adh8N8y/mHVVV/L8/hY2HzU4IV/yFTVBc+u9sT/GMH/dXo/L6eDalZPXxU/i0LOqbBMuv1mcNz+XtKQE/mFShqu4EFzpsP9x/bUT8NrRdhwCztTd/2k/rALtGPs/FpZkfY9JQ2rxKlW+8ETf/zQYCFLT3m/mAdd+WJ1IJjGvnJOVgsvpiFKKHV0Aiq4JtTGi/R9QgqKs1ERaegxLcBCVFDs6I9KOiIxILYamoprsAVluCIOGE3NjhB2ARvLG/UoFc8HtfOT8cooykvn2U/v1yzQ5lbDwctj+WwgYfDgmwR8M8eiOE1y6rGDoKihiqh9TV3pzzzrp7qQEJxctKeDZfc368uSEJFh4KRx4KqaOEJuPdbCiJJP0ZM2fsX6Lup0gAC0pSifBIdhVbxCAilar2xj0Ax1t7SMYkoYecIdU+W2SzMDpEJTlppoFoOxydRvlPtDwJFRDEYLGXmxBehItJhmQO2zHE00GFB4FYRSABjrUwMcIGRIhRGVIGh/1aqRoByAhxDohxH8LIe4RQiwJ35cWvl+jE3KGEQzApp+ok1b5BSQnOrn9skXsON7F03sMsoK1N6u9oBhnBQAvHWylvc/HO9aMPx1yTPwDKgNaco3auxnFFcsLae/zsc1kXMHiq9WVY2NsRkJ5/UF2HI9i/ycpc8K9keREJ4sK080seQqXK4FDDPaBLAWckQS77fCk5TeL8jy3WQBKTFYiky6DPrERnOhSGUmxbgYkpeoDmsAFezQF6cm0mAgu0qK34+mMOgOKvATndjlJcIgoh9JN7z6QjhWPUwjxEPAC8EXgo4CVFweAvwP/HvMjnCr2PqxURRfcPnRFecMZc1lYkMZdzx3Sz4IWXKI2+rf8OuaH+siOE2SnJrJ+Ub7ewiMvqL2aJdeO+XDV4gJcTodZGa6ySt0e26i/dgx21XvwBUKsLTdpQN0Kc88YM8iOZNXcTHY3ePT/b12pKrjFIAM61NxLgkMM7dNEzGCv8kebRIJtUZHnpraj32xaaHaZcgOJghNdA2SmJOoP2+vvgOBgRE2oFgXpSWaKP1eaEjtE0QvU0edDiOHyWMRIqeWEDUpMk5VqaEg6Q/zgdDKgzwM3ALcDS4GhvF9K6QX+Blwd06ObKkIhePlHkL8UFl05dLfTIbj5wgr2N/Xwmq53mMOpjEtrXx6eWBkDvP4gz1U3c+WKIlwJmgls9WNqz6D8wjEfTktK4PwFufxjb5P+STmtQKnDjsYmAG2tVb9v7f6fwV7VizVB+c1iRUkmXf1+6jsNhAjFq9Qk2Sg52NxDWW6q/v9lR3iY4CQKOIuKPDe+QIgTJuqwrFJ1cRYFUY1hAK0MKD9DBSDtz7AQ6nMcVQnOR3aqC6dus+1gN4QCWhkQqDJc9yweyaDzqf8g8Dsp5V3AWDrFakDTD2aGcOgfaqrkBZ855ar5baeVkJWayH2v1Oi/7poPgDMpplnQSwdb6fMFuWqFRn8SqBLjgSdh0VUTzlS5YnkR9Z0D7Gs02JysWK/m5QQMrj5HsbWmk/n5bv1Sxok3VI9TBAFo1Vz1R2hUhitaCd31UcuTD7f0mgkQIlTAWVhSbKMyXFYZdDdEpZg64fFSYtSEavUA6WRAyfiCIbPMIK0gahGCcfkNtDIgUJmWUSNqyuzLgMqBiWyAuwDNy9UZwqs/V5YjK955ykPJiU7es3Yez+xr0pfsunNVc+rOP8asMfXJ3Y1kpSbqz8ape1Vd7Sy5ZsKnXbqsEIeAf+w1mAxZuV7Z1Bx/XX/tCEIhybbaTsPyW1iAUHLGpE9dXJROolMYBqCwI0IUDalKAdfHQt0RDBDuARLDKrVJqMyPQoqdVaquzq1sxICpzIAK0pUUu7XXRIgQfQZkLEAAowwoqhLcNNvx6ASgHmCi384CIHojpammaQ/U/FOJBpxjq60+cI5yGr7fxLBz7c1Kb7/roWiOElAnrA3VLVy+rJDECUZuj8nBp1WX9fyLJ3xaXloSa0qz2XjA4I+w7HwQTtVnFAVHWnvxDPj1y28ADdsgZ37EY40XFaaz20QJVxxWwkUhRDjW1kdIYm5CmjkPEiM7qRekJ5Hqcpo1o2aVqlvDMlzfYADPgN+wB6gREJBeFPESKwAZKeHSorPj6TC14ekPC380ZNgQnopqEoASU9T5YBaV4F4GbhJjmI4JIbJRooQXYnVgU8brv1Ibj6d/cNynzM1O5bJlhfzx9Tr9SZpzz4TClUriHSX/PNhG72CAq1dqlt+kVOW38gvV3JNJWLcwn10NnqGehohJzoCS06MWImypUX+M2hmQlGEBQuTTXY2FCKk5kDE3KiHCwWaVFRs1oU4whnsshBCU5brNMqDs8KgHQyFCdHOAGlRZbJyLw7EoCLshGPUCuaOz4+no85E9BT5wFpmmIxmEmBFuCDoB6JvAQuB51PwfgNVCiI8D2wE3EKFzZ2wQQjiEEJ8RQuwXQniFEMeFED8QQkQmKQoFYNefYNW/THrF/KHzyuns9/PoTs0yhBCw+kY4sT1qB+Un9zSSkZzAefPz9Ba2HVJ9HIuviujp6xfnIyW8fNjAkqRivTIC9Zo3uG2t7SAvzUVZruaQ3e4G6G2CksgD0IqSTDwDfo53mAoRzAPQ4eYeHAJ9BZyUEblgj6Yyz01Ne7/ee4EKtAjjDKg+HIDmZps2oepdcOVbGZCxFFsaTYENhiSd/aYZkFkJLivFRW+kk51HMwNGMuiMY9iKUsEtAX4Tvvv7wC+AFOAdUsp9MT/CifkR8ENgH/Ap4M/AfwCPCSEm/9n629Wexdkfn/Sp51bmsrgwnfteqdG/Wl75LtU3svOPeutGMBgI8uy+Zi5fbqB+O/iUuh2h8JuIlSWZZKUmsvGAQUW1skq5Y9e+or82zNaaTs4oy9afKFm/Vd3OnXz/x2JViaqFG+8DtR0Cn8FJHTjU0kt5rpukBE0PuJ4m8PWOOwV1PMrzUqnr6Cege7JKcEFGiXEvUFQuCN2NWgIEUGrOVJfTsARn9QLp74F6BvxIadoD1A6IYXVahFiGpEZKuJTZlQEhpXwCJUa4HiXL/gIqKFVKKePjxz8OQojlqKDzsJTynVLKe6SUt6Nk4hcBN076In1tqixVuDyS9+OD55Wxr7GbN45r/qelF0HlRSrbMnQK2HS4nR5vgGt0y28AB55WZcCseRE93ekQXLgwn5cOteoH23lnqZKmoRy7pdtLXUe/mQChYauqaxeuiHjJoqI0Ep2CXQ0Gf4iFywEJrWYy+0MtvSwwEiDoKeAsynLcBENyqClUiyik2Ce6BkhwCArSDUpwPSe0MyAIuyGYluDASAnXEbULQpZq39BgeCSDoRBhtogQhBClQogUKeWglPJxKeX3pJTflVL+TUrZL4RIEUKUxvNgR/FeVC/Sj0fdfw/QD9w06SsEfRFlPxZvO62EVJeTh1438ABbfSN46pQazYAndjeSnpzA+Qs0y2/9HXB8MyyOLPuxWLcwj9aeQaobNYe2JSRB6TnG+0Bbwy4MRgKE+m0qK0mIfBhYUoKTJUUZZp5w1oVLs37i7wuEqGnrM5RgH1S3mgGoNFzSrDGdjmoYgBo6ByjKTNbvjfEPKKsYnZEoYaJ3Q9DP/oeNSA2H0Wnu/0CUhqQzYCSDTgZ0DHjHBI9fH37OVLEWCAEnaX7DTbE7wo9PyIEOuO9VdaXj9/upqqri/vuVWKC/v5+qqioeekip1zweD9decSmLBvbx2K4T1DQ0UVVVxWOPPQZAU5P6/umnnwbg+PHjVFVVsWHDBgCOupZR9TsvG//wA/XeBw5QVVXFpk1qivmePXuoqqpiyxYlI96xYwdVVVXs2LEDXyDEI8++RNefvsTB/epkt2nTJqqqqjhw4AAAGzdupKqqiqNHlWfXhg0bqKqq4vg/HwQZ4umGTKqqqmhqUi4Hjz32GFVVVbS1qX2ehx9+mKqqKjwedSLu2P0iTX/4TzbsVied+++/n6qqKvx+9UG/7777qKqqGvpd3nPPPVx66aXqm8r13P3EDq66fHiM+V133cX1118/9P33v/99brjhhqHvv/3tb3PjjTeytaaT5EQHj/zmp9x00/A1xJ133slHPvKRoe+/8IUvcMsttwx9f8ftt3Prr14aEiDcdttt3HbbbUOP33rrrdxxxx1D399yyy184QtfANQ+0FM/v5OvfOUrQ4/fdNNNfOMb3xj6/sYbb+Tb3x7e4rzhhhv4/r1/hcRUaN7L9ddfz113DY/guOqqq7j77ruHvr/00ku55557hr6/cN16unY+y8LCtIg+e1VVVTz88MMAtB3ZRdVvvTz24jYggs/e0aNUVVVxoloN6dv8xu6IP3sAW7Zsoerrz7LnUB0E/ZF/9o6rC7Xtr7zIwV/fEfFn76GHHqKqqor+ZvV69790NPLPHnD33Xfz2i/uGHJDiPSzB0BaAd/YOMhNn//B0OOTfvbuuINbb711SLTzv9+5M+LPHsBHPvIR7nxg09D+T0Sfve9/H1AquJa/fp17//fnQ49P9tmrqqrivvvug+RM/H1dep+9traTfvfRohOAJrt8cQBTORF1DtAmpRzrMqcByBNCnJILCyFuEUJsFUJsDUqHdsp7wYI8+n1BfbsaV6qSWB57WV3ZafDy4VZ6BwPkphmk9kdfVOajEVq2WGSlukh1JfDPQ4ZCBDBq0txa28HquVn6V8v97RD0awkQLFbNzcQXkPp1dOGAgqXQvEf7PfvDakqjElzHEeXRNonV0GiyUxNJSnAM7clokZAEhMBTr720rXdQf98S1F4XDDdNauBKcNBiMpTOlQaOBKPZVu3hAJScaPCz+ge0JdgwbPkz4NNU50JYhDDNY7mllBF9obKN907w+NdRASHi14zmCzgC1I3z2O9QwTBrotc444wzpC6hUEhe9sMX5fU/e1l7rTzygpRfzZBy91+1lt32xzfkqq/9Qw76g3rv5x+U8pslUj7ySb11Yb71xD654ItPyF6vX29hMCDl/8zTft++Qb+s/MIT8ntP79d7Pyml3PJr9bttP6K9dHd9lyz7/OPy0R0N+u/7yCel/Ha5lKGQ1rIfPXtAlv/n43LAF9B/zx+tkPLPH9VfJ6W89Acvyo/9dov+wqMb1e/3yAtaywLBkPn/6a4/q/dsrtZeevcLh2XZ5x/X/+xKqX6/f7lZe9ldGw7Kss8/Lr1+g//THy6X8uFPaC/r6B2UZZ9/XN778lH993z5x+r36+3WXgpslTE4j08YqoUQHxJCPC+EeD5815et70d97UAZlE5lH1A/MF6xNXnEc2KKEIIb15ay83gX1bp2NeUXqrkmGk2pXr9Sv11pon6rfUU1wS6KTH49mvWL8vEHJa8e0ZSkOpxQdgEc+6fWsh3HuwiGJGeUG+7/pOZCdoX20kWF6bicDrN9oILlagNZUzV1qKWX0pxU/Smo/gHoOq69/2NRlquUcNpkhXuBNPeBmru90Q2iA8M9oLAbgsk+kNvMjqejz0d6UoK+qhFUBq8pwQbIiGokg+UHN31Z0GRntCygIvwlgfwR31tf5eHXuZepdcM+gSqzjRWESlDZWOyH8QDvWFOCy+ngoS2aYgSHE1a9Gw5vUAq8CHjxQAu9gwGuW605eA5g/xNKkVZZpb8WOKM8m5REJy8dMpBjV1yopmh2Rf472nKsEyHg9FITB4Styn5HV7qNKtcsLkpnz4lohAh6ZbjDzb0sLDCZAXQEkMYBqDTHTW17v766MaNEuVxoBqBhCbbhHKBENyRlaC+1JqMaCxFMRAh9PnJMyuR+L/j7tWYBWTgdgvTkBMOx3DM8AEkp75JSVkgpK1B7QLdZ34/4qpRSrpJS3iKlnEorni2o4z9pspoQIhk4DdgarzfOdru4YkURD2+v13dGWHWjaoDd89eInv7YzkZy3S7OMRlLXf0YLLxM7T8ZkJTg5Lz5uWw8aPDfajlu10SeBb12rJ1lxRlD0tKI8XZD6wGj/R+LFSUZ7Gno1j8xDwWgvREv8QdDHG3rNXRACEuwNZtQLcrzUhnwB/UzA2cCZJZouyFY/oklRhlQg+oBMriosCTfxpNRDWXYeWkGCjhDHzgLNZLB4Fp7pgegkUgpHVLKP8TzYDR5CJWV3Tbq/o8BqcAD8Xzz966dR7c3oD+srnCZ8hHb+eCkT+0bDPDc/mauXllMgq73W/3ryhVg2dv01o1i/eJ8atv79S1cCpaFRReRBaDBQJBttZ2cXWEwgO7EdkBqNaCOZvkc5YigPZohNUeVVTWk2LXt/fiD0syE1HLT0BSVWJTmqIuRWtMynHYGpAKAcQkus0R/HSPcEIwmoxaoCoWmHU97b5QuCAYybFBuCMZ9QDA7AtBMQ0q5G/g58E4hxMNCiJuFED9AOSNsBOIaLM+pzKU8N5UHXjPoDl/9XjU2oGX/hE/bUN2M1x/i2lUGzaf7HlGjIBZerr92BNbQO+0syOGA8gtUBhRBVrHzuIfBQEg/04NhB4Q5p+uvDbOiRF0N7jUqwy3TyoAOt6jeKqMSnGVC6tK07wlTFh7LUGtiyZNVqu2G0NDVT1ZqIm7dQXQQzoA0p/6GyU5NJNEpptSOp63XR+60ZUBvwhLcaIQQ84UQPxNCbBFCHBZCHB31dSReBzoOtwF3AMtRwehG4KfAtVJKM8uBCHE4BO8/u4wtNZ3sb9IUI6x4l6qn75rYmufxXY0UZiSZmXLue1Q5Xyfr189HUpbrpiLPzYsm7tjlF4LnuNoLmoTNR9sRAs6qMHFAiNwBezyWFKXjdAj2NBh42BUuh9b9SgYeAYfCJqTzCwyCSNtBbQuekZRkpeAQUGfUjFqmvNk05j2d6PIyJ9Mg+wn6lQxb04bHQghBfpqpG0J40rBGGS4UkuES3NRnQBnGQ+lmUQYkhFiJMh29GXABlUAfSnFWDgSB6MYmaiKlDEopfyClXCylTJJSlkgpb5dSxmb4ziS864y5JCU49Mc0pOXDgkvD1jxj7yF5BvxsPNDKNSvn4NDtiWnYroalRVl+s1i/KJ9Xj7br73dVrFO3EZThNh9tZ2lRhtkoY00H7LFITnSysCDNzBOucAWE/BGbzR5q6WVudgqpLs2swDIhzVukf4xhXAkO5mSlmJmSDo1liFxYYj4HqAmQxiU4gPyMZDMV3JAbQuQBqGvATygqHziM+oAgPJLBKACFL05nQwBC9fn4gNWA1eL+aSnlHODjKMXcrbE9vJlNttvFdavn8LftDfR4NT8Aq29UJYZxNumf2t2ILxjiutUG5bfqR1Qznab9znisX5SP1x/idd2x5HmLVBPsJEIEa//nnEqDP8COo+pKdd7Z+mtHsaIkkz0moxkKlqnblsj2gQ4295hZ8PQ0KhNSQwWcRXmu22wPyBrLoFGGa+gcMHPB7m5Qt4YlOAj7wZnuAYFWAGoPD7+bvhKcj1BI83PrTFQqw1kSgC4AfiWlPMCw44EAkFLeAzzFFI9jmAncdE4Zfb4gf3+jQW/h4qsgKRN2jt0T9MBrdSwqTOO0eZpd4FKq/Z/KKiNZ51icU5mLK8Ghvw8khNoHOjbxPlBU+z+1yk6GsvP1145ixZwM2vt8NOuetPIWqYAfgRQ7EAxxtK3PzAFBcwz3eJTmphqW4PQG03V7/fQMBswk2JbjQhQZkLEhaZq+IWlb2Acuz3QYXaJby8NwJFkpLkISen0GM4ymeSSDTgBKR7kPgMqEQM0AsngFFaTeUqyem8nKkkx+v7lW78o5MQWWv00FC9/JJ4Nd9V3sbvBw0zll+iMJmnZDZw0svX7Sp0ZKisvJ2RU55vtAvU0Tlqdei2b/p3aTKl3kL9ZfOwpLiKDdkJrggrzFEQkRjrb14QuEWFochQmpoQTboiwnlc5+P926HYlyswAAIABJREFUWXt6MTgSI86AohvDYGVAZntAoKTYnf1+fAHN7eCkdEhI1suA+qLMgKLYv7QMST2mQoRZkgE1A0UAUsoe1P7PyGJ0NmDQAjy7EULwgXPKONjcOzTJM2JWvxf8fSoIjeD+zbWkJDp5+xqDq799jyiBw5JrJ3+uBlWLCzjS2sdx3dKNtQ9U89K4T9l8rJ0lJvs/AHWboPRco16R0Sybk4EQmDekRiDFttwzlhYbiEPaD6sr5ShOysDQoL863X0ghxMy50acAZ2IqgfoBLjStefjjMRqRm3r1cxohQhLsSPP+IecsE1FCFFUK7KidUOYJQFoBzByp3cj8GkhxDohRBXwSWBnDI9t1nDd6jlkJCfwu1dr9BaWnquunF//1VCJyjOgpq6+fc0cMpI1GzJDIdj7MJSfD26zDc3xMJZj51SqLvpxhAjD+z8GV4CeBpXtlZ2nv3YMUl0JzM9PMxzNsEwJPwYmvgjZ19iNy+lgfr5hCS5vQdTBtjRHFS6MxzJE2Iza0BlFAPLUR1V+g2E7HjMpdr72HpAQkG1yERVtBhQOQMZuCNM4lE4nAP0BZX1jfZq+AmSi/N+eQ4kQvhjbw5sdpLicvGftPJ7a08QxnYZNIeCsj6meoHAvi3JXCPH+s8v0D+TYi2pTfs0H9ddOwvx8N3OzU8z2gSrWwbGXxlT87ar34PWHzAQI1mylGAUgUPtAZlLs8BC8SbKg6sYeFhSkkajbWAzhAGSugLOwMiCjXqDssohLcA1dXhKdwswdwHJBiILhZlTDwXQaGVBbn4+cVJe+izsYzwKysCoHnaZuCLMhA5JSPiSlXCelHAh//waq/+YzqDHYq6SUL8fnMGc+t6ybT6JT8JPnIpPiDrH6vcrr6vX/RUrJA6/VsXpe1tB+hBZbfg2pebAsdvs/FkII1i/KZ9PhNv2a+vyL1VVe445THtp8RO3/nG20//OKKtMUrtRfOw4rSjJp6vbqy3cj9ISrbuw2K7/5+lVPVZT7PwDupATy0pL0S3CgeoH6Wk/ZtxyLE10DFGem6LcRgCrBZUSbAVl2PFOTARmV3yBsRGpesbDGchtnQLMhAI2FlPK4lPInUsqfSymPxuqgZiP56Ul86NxyHtnRMNTpHhFJabDmJtj7N7bv3c/hll5uOttgsKynAQ48pV7LUE0zGVWLC+jzBdlaoynHnn8JIODQhlMeimr/p/ZVKD1b+ZTFCGNHhPRiFfwbd437lLbeQVp7Bs0ECB2WCal5E+pIynJTqe0wKMFll6vbCPaBGroGzMpvAZ86+WeaS7AB8tJcCGEYgNwF0N82bp/eaJQNj8HfXSioAsB0luAGu1X5fhrQaUQNCiHeN8Hj7xFCGExFevNwy7pKkhOd/HiDZha09mYIBTnx3N1kJCdw7SqD0sP234IMwZkfmfy5hpw3P5fkRIf+MD53LpScDoefPenuHq+fLcc6OX++wdVfXzu0Vqt9tBiybI7KTvae0CzDCQHFq6Bp/G1QS4BgvYcWQxLs6EtwoJRwRhmQFYA6ayZ9qnkT6glARl2CS3A6yHW7aDWVYstQxEMV2/t8ZhnQQBcgoyrBJSc6SUpwmBuSypDqL5sGYjkRNXoZ0iwnNy2JD59XzhO7G/XseXLn01FSxTkdj3DzeXNJcWmKCYN+2PZb5a5gnSDigDspgapFBTy1p0m/6W3BZcoyZ8Qf9MaDrfiCIS5fXqR/MEP7P9H3/4wkIzmR8txUdtcblCWKVil/v8DYJ4J94aC2zKQE13oAEMpyKAaU5qbS2O3Vd7ew5gJNIkTwB0M0d3spMR3DAFGX4ADy05MNm1H17Hjaeg2dsPvDY1miKMGBKsMZZUAp02vHE0sz0lJAo/b05uSWdZW4XQncpZEF+YMhvte5nnzh4RP5u/Xf9MCTqtdm7c36azW5elUxLT2DbK3VlJwvuFRdaR15fuiuZ/Y2k+N2cUaZgQS17lVltlpibkA6HitKMs0seYpXKUue1uoxH65u7KY4M9ms3Ni8RzlgG47WGE15rlu5GHVqZkHuPCUFnyQDau72EpKGPUCecA9QlCU4sJpR42vHMxgI0uMNmDlhW3PBolStZqW4psSQNBAM6X9mJmCyiahvE0LcK4S4N3zXLdb3o77+DtwJbI7Zkc1SslJdfPSCCp7a08Tmo5G56f52Uw1/7FhAX3oFrld/om0Dz5ZfQ2apmv0TZy5ZUkBSgoMndzfqLSw5XZUZDqt9IF8gxAv7W7h0aYGZcqj2FZi7Ni77XafNy6Kha0BfPVW0Wt2Osw9U3dhjJkAA1eRqCR1iQKmpEk6IiJRwQxJsIxuesAtClCU4gMIMU0NSyw1hciVcR5/VAxRNBpSnv3YEmammfnB6Aaip28sF34nd4OvJMqDTgA+HvySwbsT3I78uBjaheoHe8nzswgoq893c+sD2Sa8WWrq9/HjDIaoWF5J65degZa/qC4qUxp1wbCOc8SHVKBhn3EkJVC3O56k9jXplOIdTqeEOPwehEJuPttMzGODyZQblt8Ee9XOXxXb/x2JNeCLr9jrN/oicSnClQdOpAWgwEORIa6+ZAGGwVzmKx1DtVxEey6DVNmCRVTZpCe6EJxoXhBPKpirJ4Hc1isKwIWlQt2ScFi7BRZABRdWEOpQBRReAslISzZ0QIOIA1D1gYPczAZNNRP2v8CA6B2qP5ybr+1FfGVLKy6WUh2N6dLOU9ORE7vngmfgCIW753Tb6J/Bo+p+n9uMLhPjqdcsRy96m5ve88M3hMsREBP3wyK3qau3Mj8bwJ5iYq1cW09w9yLY6gzJcXws07eKZfU2kJDq5YKHBH17da6qcF8P+n5GsKMnA5XTwxnHNn8/hUP1AY2RAh5p7CYSkWQbUEi7pxTADyna7yEpNNAtA2eWqBDeB9ZSVARmNYvA0RN2EalGQnkRIDlvlRExyFjhdEe0BWU4LZqMYonPCtshMMdwD0g1AuvZNk6CzB1QB/D2m7/4mZn5+Gj957xqqm7r53F92neIT1+8L8IWHd/G3Nxq4ZV0l5XluVd64+ntqZPfT/zn5m7z8I+X9du2PopJx6nLJ0kJcCQ6e2KVZhlugTNRDhzbw7L5m1i/KJznRIGs78CQkpsZcAWeRlOBk2ZwM3qg16BAvXqX2a0bJWqOy4GkO7wvGMAABVOS5DQNQmbKQmmBgW11HP/npSfqCGlAluBiU3wAKMsK9QLpCBCGUEKF38hLcUAZkIsPua1PZXpSl5KzURLoGTFRweiIEo7lDE6DTiForpTypniSESBBC3CCE+JgQwqCW8ubmoiUFfP7KJTyxq5GP/W4bf3ujnvbeQfY0eLj2py/zxy3H+beq+Xz60hHNhdnlsP7/QfWjcPCZ8V+8eS9s/C6suAGWxtb3bTLSkhKoWmRQhksrgOLT6N/3NM3dg1y+vFD/zUMh2P+42u9KNLi6jpDTS7PZ1dCFP6jZH1G0SklaRw3hq27sISXRSXmuwRC65r2qWTnLoD9sAipyTQNQubqdoAxX095PWY6hYCIGTagWheEA1GzkhpAfUQY0bERqkgG1xcQ2KyvVhdcf0lc1JunNBOr2TmEJbiRCiO8KIbaM+F4AG4A/Af8L7BZCxEYj+ibi4+sq+eRFC9hxvJPPPLSTM7+5gbf//BX6BgM88K9n8/krl5xqy3Lup5RH3JOfHbalH0nQD3//N5U+X/W9qflBRnHNKlWG225Qhktt3k6Wo5+LlxTov3H9Fuhtjqnb91isKc3C6w+xv1FT2Fm8St02ntwPVN3YzeLw1FVtLAFCDAxXR1KR56bR42XAZyrFHn/SbV17/5DQQYvAoNr4j4ECDpQIAdAfsQHqginCPSBXgoM0k7HjfW1RCxAgimZUZ4Lat5zpGRBwJTDSUfI6lCjhe4DVoBpB3eithRCCO65YzOtfvJRHP3k+n75kIR86r5ynP72O8xaM88FLcMH1P1HNlj8/B7b+ZrjeXr8N/vQhdYK75gcxNx2NFKsM97huGW7RFTgI8vHC/WZy5OpHVW1+4eX6azVYU6pKE9r7QPlL1ciCEUIEKSX7TC14pIy5As6iIt/QlHRoLtDYGZDXH6Sp20tZjkG2NzSGITYZUF5aEkKYZkCR+cG19frIc7v0R6eAKmNGKUCAqbPjMXr9CdAJ2fOAkc0t1wHHpJT/CSCEWA68P4bH9qbC4RCsmpvFqrkRDpgrPQf+fRM8+il4/DbY81cIeFUG4EqHqi/A8rfH96AnIC0pgcuWFfLX7fXcfvmiiJ27D7uW4AwV8nZeRPnZaiAlVD+mhu0lG8qZI6QkK4WC9CTeqOvigzpbTQkuKFhykhCh0ePFM+BnmYkCrqtOWaXEIwDlDSvhtIJjUpoqT43TC2SN7CjPM8iAhppQY7MHlBh2QzAbTJevAlAopAQm49DRN0iOqQ9cXxvMWWO2dgSZUY9kiGy/s9vrN8v0xkEnA3IBIwuAF6FKcBZHAYP50Tbjkl0OH3wUrv2xynj62+Gq78Lt+6Bq+pPNf1s/nx5vgN+/GvmI5l++dIy/yyqKO7dCx/glnDFp2q2uupdep3mk+gghWFOapV9iBLUP1LRrKGuNToAQHnJnuW3HkPI4SbGt3qJSkz2gGDahWhQYuyEUKEHQJCfn9j5DHzgpY5cBpagAaGzHoyHDtoJdLPj/7Z15eFNV3vg/J1v3vYWytuwCFtkRkUXGYdTXQXTkRUc2fQW08HPcBjdmBFEcUUdfFVEWQVFeFUdcGEbBgSoyKrK5ACJrQWih+96mac7vj5ukTZO0SUgasOfzPHnSnnvPvSc37f3e7+6LADoJDAeHttMVrSeQnTZAaAoK/ZoRQqvv9kA2zNkFw2YF/enfWy7uEMcVvVJYse1ok6Hmdk4UVLJ+zylk/5sBAXvX+nbCAx+B0EGv//JvwT4ysHMC2QWVFPja0Cy1n/bkXKbVzNuVXYRBJ/yrAWcXQG36+D63GaLCDKTGhnM0z89ABA8mOLtJL82fgIsAJqHaaRsbxplzac3djB+ooNzPOnDVJVrljAD4gOwmOL+TUX3QgGLCQ6MBvQ1ME0JsADYApcDGBtsHUN+yWxFodLomzQChYs7YHhRV1vLW181XR16y9TB6neCW3w7XklL3rvW62jCgmd/SAt9szxP2hNQ9viak2gMRbH6gHccKyegYR6TJj3/cMz9CQhfN7BUEtFBsP54bE9Kg+KTbqh0nCiuJCTOQEOnHk3LpaS002OSH8PJA29hw/4MQoMlIOCnlOdSBs4WxB0ADaqm23KVVtcSGSAN6EliNpgVJYKqUshhACBEHjEdrTKdoRQxKS+Cybkks23a0yRDQk4WV/GP3L/xxaGctNHbAZO1p99jnHuc4kfcz5P0U9Oi3hmR0iMOgE74HItjNZTnfU11bx3e/FDPUn35HELQABDtdUvwMxY5PA1lXHzTQgOyCStKSI/1zypecCqj5DbRcoPzyGiy+htRHNa8BVZjrqLFYz60OXAA0oGiTAZ3wNwgh3qcwbJ87NTeBL3lANVLK/5FSJkkpu0opP2qwuQzN/zM/YCtTXDDMGdudvLIa3t150uM+L2cdRicEd4y2Rer3ukb7w9/zpncn+elj7f2iljG/gdbptne7WN81oPBYrSxP7nfsOVFMbZ30r+GeuVLrAxQE/4+drslRFFXWUlTho++gibYMJwor/YuAA1sSamAi4Oy0jQ1DSi1azSeim68HZzfP+lUHzn7cAGj0Op0gLsLfZNQ4qPauJ5CmAYXGBOcRKaVVSlkipQxsjJ7igmB41yQGpyXwStYRtzeyX4oqeW/XL9w0tBOpcbby/MZwyJgIBzZAVTMaRm0V7FwNnYYFrESLtwzoHM93J4t9ryXWYRCc/JYdR7WOr4PT/RBAeQe0kkOpwRNAjkAEX0OxE2y5QI38QPZqyX7lAIEtCTVw/h+o74zqcyh2eDzoDE1qQPnnUgcuQIVI7cRHnktFbAnm5nPeSqtrQ6MBKRSeEELw59/1Ir/czPglXzqivgAOnSljzto9CAR3jmmUpzxgMtTVwA/vNX2C/7wIJSfgN38NwuqbZmDnBCrMdb71dwKtTl15LscP/0CfdrH+/dM6IuCCa4IDOOZrIEJsRxB6l0i4nJJqauukf1UQaso0v0iAKz7Yk1F9bsug0zVbDcGuASX7W4YHAuIDguDXg7NaJeU1lpD5gBQKjwzrmsTbsy7FbLFyw8v/4f3dv/D0pz9xzQvbOF5QwTP/fQntGhembHeJpilkPVmf/9GYkl9g29+hzwRIvzz4H6QRl3bVzCOf/9x8QqITtkZ5ETnfnJv/xxgF8en+zfeCTgmR6HXCdz+Q3qD5ahqZ4Bwh2P5oQPZjJXbxfW4TnHM5nibqwRVUnIsGVKB9vwEqKeV3UzovBVBZjQUpITZEUXAKRZMM7JzAx//vcvq2j+Xed79jydYj/P6S9vz73tGMv8SNWUUImPAK1FbDP2533wfps/maGeq3jwV9/e5IjQvn4g6x/PuAd50xHST3pDYskYHygH/+H4DcH6Ftn6BGP5oMOjolRPhflLSRCS67UDuOXzXv7HlhCYEVQElRJnQC3/s7geYH8kIDSvQ3CCGAEZ1xEcagNqWzl+FRGpDivKVNTDhrZ1zKw9dcxP/NuJS//3f/ph20KT3h2r9rDeY+f8p524mv4Yd1MOKuep9DCPjNRW3ZfaLI0XjMK4TgZEx/hooDDPHH/2Mxw+ndAcmSb44uyVEcPZe2DA04UVCJyaAjNdaPVtz22nIB1oAMeh3J0WH+hWJHtWlSA8ovNxMTZvCvqntlYOrA2YmPMPqfiArNCyBbK4ZW7wMSQnQQQjwkhPhcCJEjhKgQQuwTQjwthAhNcTSFA5NBx8xR3Rjezcuv4pKboP8t8MXTWgXwnO/hu3dgw70Q0x4uvye4C26G3/Rug5SQddA3Lejrul501uWRVJfv+0lP74baSkgf6ftcH+mSHM3x/AqXliHNEp+mRXKZ64VXdkElnRIi0PlTdLXwqNY1135DDCBtY8P9TEa1+YA8XJuCCj+TUMGmAQVOAMVFmiittvgeMOO1BqRZKM67KLgQ8Hu0kO8CtGKod6N1ZL0b2KtaQ1yAXPM0pPSCtRPh1ZGwfqYWgnzN0wFNSvSHi9vH0SYmzCczXJ1V8kGhTWs78ZXvJz22DRAt4vfqkhJFVW2d7xqCPRS7uD4J+XhBhX8VEEAzwQVY+7HTJuYcNKA6s8ebc0F5jX8h2KD5gAKsAQGU+do0zksBZPcvBVIDCpwoa1m2AWlSytwGY8uFEN8Ay4H7ba+AUFJSQn5+PmazH+qtwntGL9ee+nVG0Bu1EFgEHDgQ6pXx/FUpVJnr2L9/v1cJlmaLlZm/G8p+3XuI2kjfP0PkULhmPWSfAc74t2gvyYisY/n4duRmH6bIJ1NSD/jdu5BbCQXa5/vzsGgiTQYO+POdXfQnrTFbEL7v/8kwUVipIycnh8TERMLCvBQaDXOBIlwLCReUm0nzJ+BCyoD7gBzleCprfas072VPILsJLpC14C5IASSl3Odh0ztoAihgiRPV1dWcOXOGjh07EhER4V92t+KCp6SqluyCCjonRxHtxRNgXlkNoqSKi8Lj0FlroU1v709mtUJujRaB1QJ5T2aLlZ9yS+kQH+Hb07y1DnKtENMOYlKprbNSm1NK+/gI30vTSCvkVEN0KsQGvqZxbkkVUcUVGAySEydO0LlzZ++EUFSK9l5+FpJ7uGwuqKhhYFqC7wsyl2spCAHUgBwVsf3qCRSjghACgL2GR8AeGfPy8khJSSEy0s/SIopfBdFhBoQQXneErKixYDLo0IVFa2006ny4KdRWADJo9d8aY9QLdEJQY/GxVI1Or2mrFs20ZbbNNzVusOgNdTbrgsFPf0ozGA06hN5AXEISCQkJFBYWejfRUZDU9ZZSZ5UUVpjPrQxPAH1A9RpQcCpil1ZbEAJiQtSO4UJgge399UAdsLq6mujolrkRKM5f9DpBdJiB0uraZp31ZouVsmoLceFGrdskODnqm6XGVhy0hXxfQghMBp3vAgg0k5lFc+47BJDBj9uKxXbT1PvpT2kGoy2U3VJnJTY2lrIyLzvdRnkux5NfXoNV1ie6+oS9EGlANSBNEAarKV1pldYLyK8AEw+E1AQnhIhHCxzwlheklG4fXYQQ9wETgWVSyi1NnHMmMBOgc+fmM64tFgsGwwVpqVQEmNhwA6eKa6mxWJsMuy2sMCORWnSUXgBCM7m48SG4paYMjJE2H1jLEG7UU1HjnXbnhCFcK6UkJTV15yCA6mwBAoYgCSC9dtOstUoiwo3U1XlZhT0yUWsB4qYcjz2xta0/IedB1ID8EkARzRckDXQZHgi9DygeeNSH/d8EXASQEOJ2tGi4fwJzmjqAlHIZsAxg8ODBXsUrKtObAiAm3AhUUVpd61EAWW1mmdhwIyaDbR9TlCaAvMFapwViRKcEZtFeEmHUUVxpxVJnxeCLCc0QrlXFtlowW6yY9Dp0/vy/WGq0G32QhK79M9XWWX37f9bpNS3FTTJqbokmgBz1DX3BUQcusImocA5dUUs8FxMGLQw7kP4fCLEJTkp5XEopfHgdbnwMIcRtaAJlE/AHVRBVESxMBh2RJgP55WbqPFQOLq6qxWK1ktwwN8QUrRVUtXqhYZht/h+TH+27zwG7QG2qpYZb7BqLpVoTQP5oP6CZ4PQmrTpGEDDoBAKBpc7HHBnQ/EBuklEDowEF7kHDqNcRZdL7L4CqvNGAAvuAcEH7gGzCZwVaa/AJUko/Av0VCu9pHx+Opc7qNqdESklBeQ3hRj1RDR219g62zVX9BltFYtHiuU8RNgFU5bMA0m6+0lJNjaWOMH8FUF1N0Pw/oFkxDHpBra89gQCi27oNQsgtrUavE342o8vXrl2Av+f4SNM5tGRo3gf0q9KAzgUhxHS0kOstwHVSSj/SnBUtQXp6OmPGjAnKsVevXo0QgqysrKAcvzGRJgOJUSYKys0u2sLxX3IY2KMD/3x3jbOZxxgJhgioKPCYUe+gptzm//GjtEsDxowZQ3p6utf7G/Q6jHodVbU+3qD1RhA6rOZq6qzSv5I0UmoakE2bklIycOBAbr31Vt+P1QRGvcDia5UA0MLMy3Jchs+U1pASHYbeH6d8hS0JNcAaX1yE0REu7RPhcVDTdE+gsgA3o4MLVAAJIcYDK9Hagr8D/EEIMbnBa0JoV3hhcvToUWbOnMlFF11EZGQkCQkJ9O7dm2nTprF169aQrSsrK4v58+dTXOxjY7ggkRobjk4Hp4qrnCLiHnnkERKSksmcNcN5ghCas9lSpfl3PGG1aNvDWtb8ZifCqPfdBCcEGMKw1mrPfxEm7wXQ888/z+rVq8FaC1gdIdhCCObPn88bb7zB3r17fVtPExh0Ov80oNh2mgbUqH38mdJq2vrj/wFNAwpCa/n4yHMpSCo1IeSBQDejg9AHIfjLQDThGY8toKAR2cAHLbqiC5ydO3cyevRojEYjU6dOpW/fvlRVVXHo0CE2bdpETEwMV1xxRUjWlpWVxYIFC5g+fTrx8c6RZFOmTOGmm27CZApO/og7DHqt2Oap4ioKKswI4ODRbN5du4ZHH/8bYSY3T4kRCVr76op8z2aXSlt8TYgEULhRT1m1BatV+hZqawhHVJcjEIQbfBNA6enpTL/5Rm2ggQlu/PjxpKen88QTT7Bu3Trv19IERr2g0uyHAIpJ1RJlK/K0n23kllTTJdlPE1pFXkBDsO3ERRg5dNbLgJeGNCzH4yZas84qKasJvAZ0QQogKeV8VPvvgLJgwQIqKyvZu3cvl1xyicv23NxcN7NCj16vR68/N3OVPyRGmSisNHO6uAqANatWIITg9umT3U/Q6bVCm5UFyJj2VFTXOOeXWS1QlqsFH7RQAmpjIow6JJJqSx2RJh9uDYZwDLKICCPNCq66ujpqamqIjGxQvsZDCPbkyZN58sknyc3NJTX13Ms7GvQ6LFaJ1deiqzG2ygylp50E0JnSau8L7jamogCSe/o3twnOTQPCox+ovNpeiFSZ4BRB4NChQyQlJbkVPoDbG8CKFSsYOHAgERERxMXFMW7cOL788kuvzieEYPr06S7jjX0606dPZ8ECLb+4S5cuCCEcJhp3+9vJz89n9uzZdOrUCZPJRKdOnZg9ezYFBQVuz7dlyxaeeeYZunXrRlhYGD179uT11z3nMwsh6JwQSbu4CHq0jWHrvz5i8ODBtGt0nbKyshBCsHr1apa88R59xtxAeFQ0zzzzjGOfd955h8tHXEZMj+FEdu7HsGHDeO891y6x77zzDuPHj3eUkUlOTmbChAl8//33HtfpDfbvYvu2rUwe/1uS42NJTU3lT3/6E+Xlzk/Tp0+f5r777qN///4kJCQQHh5On6GjeWrJaiJwdn7br+1nn33GwoUL6datG+Hh4bz77rsIIcjOzubzzz9HRCUjOgxEGMM5fvy4Y/7VV19NbW0tH3wQGGOGPRfI4qsZzi6AyuofwqrMdZRWW/yLgIOAt2KwExdhorSq+WRpFxwCyL2Z255bFMg6cHCBakCKwNOtWzcOHjzI+++/zw033NDs/g888ACLFy9m6NChLFq0iLKyMpYtW8YVV1zBhx9+yDXXXBOQdc2aNYvS0lLWr1/Pc889R3Ky9k/br18/j3NKSkq47LLLOHz4MLfddhsDBw5kz549LF26lC1btrBjxw5iYpzNXA8//DBVVVXMmjWLsLAwli5dyvTp0+nevTsjRoxwe54wo54Uo54zZ85w8OBB7rrrLo9rev755ykoKGDGH68nNSWRTn2GAjBv3jyeeOIJrrpiBAsfvg9ddDLr169n4sSJvPTSS8yePdtxjJdeeomkpCRmzpxJamoqR44cYdmyZYwYMYLdu3fTo4drrTJv2b17N++99x433DyVm/54C3u+2c4LL7zAjz/+yObNm9HZKgl8//38uqTQAAAgAElEQVT3vP/++1x//fV069aN2tpa/rXxnzy46AV+OlXEqtVvuBz7/vvvp7a2lhkzZhAbG0uvXr1Ys2YN99xzD8nJyTzyp5maFhTXkZSU+rDkgQMHEhYWRlZWFnfccYffn81OfS6QnxpQg0CE3HMJwTZXar6+IPmAzHVWqmp91GIjbPXsqtwLoPpeQMoHdF6w4ON97D/t2WEXCvq0j+XR3/f1a+68efPYvHkzf/jDH+jRoweXX345Q4YMYcyYMfTu7VxI8+DBgzz99NOMGDGCLVu2OPwvt99+O3369CEzM5MjR44ExDQ2fPhw+vXrx/r165kwYYJXkV2LFy/m0KFDLFmyhMzMTMd4//79mTNnDosXL2bhwoVOc2pqavj2228dn+XGG2+ka9euvPTSSx4FkJ39+/cDmhD3xIkTJ/jpp59oE23QuojGp7F71y6eeOIJHrpnNovuv10rWGoI46677mLChAk89NBDTJ061SEsP/nkE6KinH0OU6dOpX///jz33HO8/PLLzV4bT/zwww+sX7+ejMuuRAIP3383f/rTn3jhhRd49913uemmmwAYPXo0R48edYry+59ZmWROvp431rzFoiefol0752KiVVVV7Nmzx8nsNnz4cObNm0fbtm2Z/IdrQOghubvTPJPJRMeOHdm3z1PtYd8wNUhG9YnoNlqSbAMBZM8B8qvxniMJNfAaUHyDZFT/BJD7VIFgFCIFZYJT2Bg+fDi7du1i2rRplJSUsGrVKjIzM+nTpw+jRo3i6NGjjn0//PBDpJTMnTvXyfnfvn17br31VrKzs9mzZ08oPgYA69evJyUlhZkzZzqNz5o1i5SUFNavX+8yJzMz0+mzdOjQgZ49e3Lo0KFmz5eXpyUpJiZ67nw6depU2rRpA+HxWsJlcTZvLX8RIQTTJvyG/God+cVl5Ofnk5+fz/jx4ykrK+Orr+p7CdmFj5SS0tJS8vPzSUlJoVevXnzzzTfNrrMpevXqxYQJE4gwaZFwUkoefPBBAKfr1bAivNlsprCwkF9yzzJ29OVYrVZ27tzpcuw777zT2efTGEuNxxI8SUlJnD3rYzt0DxhtAsjsT9HV6LbuBVCcHzlAQSjDY8fvagjhtsADTwIoCN1QQWlAfuOvpnE+k5GRoYXFgsM+v2LFCrZt28Z1113Hrl27MJlMHDumtU7u29f1GtjHjh49yuDBg1ts7Q05duwYgwcPdqnhZzAY6NmzJ7t373aZ07VrV5expKQksrOzmz2f/YbclN29Z0+bw1mng5SLoLqEA4ePI6XkotGeTZ5nztQnQO7Zs4e//OUvZGVlUVHhXNy0S5dza+Rm13LDjXqsUmK2WGnXrh3x8fFODx8Wi4W//e1vvPHGGxw+fNjlMxcVud7AHJ/dLVIr5eOhCraUMmClsPQ6gUEnMPsTih2T6uQDspfh8csEF4RCpHbi7BWxfU1GNUVplc09+ICC0Q0VlABSeCAtLY2pU6cyZcoURo4cyfbt29mxYweXXx7cDp0Wix8FMQOAJ3OhN85cu9+iqRL/ThqATg+RiUijpk38a8NH6E3ub2R2gX7ixAlGjRpFbGwsf/nLX+jVqxdRUVEIIbj77rtdggX8JcKoaQlVtXWEuUkqvffee3nxxReZNGkSjzzyCG3atCGnzMwvP3zFo48/hdVNkc8mtR/79fVQBaGwsNDJL3SuGPU6331AoLWGLzru+PVMaQ2RJj3R/rQmCKIGFG+riO1zMqoQmhmuOQ1IBSEoWhIhBMOGDWP79u2cOnUKqNcW9u3b5+L3sPtD3GkUDUlMTHR7w274tN1wDb7QtWtXDh486FLJ3GKx8PPPPze7Nl+xCwlvzHUN6dGjB5988gmdu3Rz8bM1Zv369ZSXl/PRRx+55GMVFBR43+HTA/YOpmFGPUIIqmrrqMrJobi42Ol6rVmzhlGjRvH2228DWkTZ/pxSSk78pO3gTb07G0IILb8G3JrgampqOHnypFdBMd5iMuio9rXaA2gaUIPW6mdKq0mNDfdPOwtCIVI7Dbui+kxEvOcghKpahIBoX/xKXqB8QAoANm/e7Fb7qKqqYtOmTQD06dMH0JIEhRA8/fTT1NbW/6Hn5OSwatUq0tLSGDBgQJPn69mzJ1999RWVlfWVAYqKili1apXLvvZ8GW+biE2YMIG8vDxWrFjhNL58+XLy8vK4/vrrvTqOt6SkpNC3b1++/vprn+ZNmTIF0CLw3LUHaGh+s2tojTWy5cuXByRH6+DBg3zwwQfohCDMdpN+6qmnAO16NlxHwzVU19ZRWVnB0ldt19oHARQdHU1hQQEg3AqgPXv2YDabGT16tH8fyg2aBuSPAGoHVYVgq/iQW1rtfwh2Wa5WB84e+hxAHALIr5YMTWlAFmIC3AsIlAaksHHPPfdQUFDA+PHjycjIIDIykpMnT7J27Vp+/vlnpk6dSkZGBqA5rP/85z+zePFiRo0axaRJkxxh2OXl5bz11lvNRsDNmTOHyZMnM3bsWKZMmUJxcTHLly8nLS3N5YZ66aWXAlro9y233EJ4eDgXX3wxF1/svvP63LlzWbduHbNnz2b37t0MGDCAPXv2sHLlSnr16sXcuXMDcMWcmThxIgsXLiQnJ8clCswTQ4YMYf78+cyfP5/+/fszceJE2rdvT05ODrt27WLjxo2YzZot/+qrryYyMpIpU6YwZ84cEhIS2L59Oxs3bqRbt27nbLrMyMhg8uTJzJgxg+T2aXzxRRabNnzI6NGjmTRpkmO/G2+8kVdffZVJkyZx5ZVXcvTEKda8sZrUFJs5yYfOr5deeikrV67kL88uo/egy9HpdPz+9793BFts3LgRo9HoJADPFZNepyWi+loTzt4mvDwXEtLJLalmSLofrbhBC2aIaReUyt8RRj1GvfBTA0rQkm3dEIxCpID2RNVaX4MGDZLNsX///mb3+TXw6aefyszMTNmvXz+ZlJQk9Xq9TExMlGPGjJErV66UdXV1LnOWLVsm+/fvL8PCwmRMTIy88sor5RdffOGyX1pamhw9erTL+OLFi2Xnzp2lyWSSF110kVy5cqVctWqVBOTWrVud9n3qqadkly5dpMFgkIB89NFHpZTS4/5nz56Vd955p+zQoYM0GAyyQ4cOMjMzU+bl5Tnt52m+lFKOHj1apqWlNXXZHJw6dUoaDAb5zDPPOI1v3bpVAnLVqlUe527YsEGOGzdOJiQkSJPJJDt27CivuuoquXTpUqf9Pv/8czlixAgZHR0t4+Li5DXXXCN/+OEHt+v0Ze2AnDZtmty8ebMcOnSoDA8Pl4nJKfLOzNmytLTUad+Kigp5//33y86dO8uwsDCZ3rWbvOehR+Vnn32mfc4l9Z+/qWsrpZRncnPlDdf8RibEx0khhATksWPHHNu7dOkib7zxRq8+g7cUV5rldyeL5N7vf/Rt4qHNUj4aK2X2V9JqtcruD/9TLtro571h5VVSvna1f3O9YNDCzfLBf3zv+8R/zJTyuYvdbvqf1Tvk1c/X/28DO2UA7sEhFwKhfCkBpAgks2bNkl26dJFmsznUS/EJuwCyU2W2yO9OFsm8supm5x7MKZXH8sq1X/IPSXnGh/8Xc6WUp3ZLWVHgsumDDz6QOp1O7tmzx/vjeUFlTa387mSR3LX3B98m5v6oCaAf/iHzy6pl2gMb5GtfHvVvEc9lSLnuNv/mesFvns2Sd6zZ6fvEjQ9Iuaij200Tl/5HTnr1P47fAyWAlA9IoQgQjz32GAUFBW79WBcS4UY94QZ9s62drVZJjaWuvgWDKRos1VDnpTnQbPP/GZ2j5KSUzJ8/35FkG0jsuUA+t2VoUI4n91ySUKXUfECx3plp/SEh0khRpR89gSLitWrYbr6/YLTjBuUDUigCRps2bSgpabqp14VCbISRvLJqauusjpt2Y6pq65A0aMFgshVRra0AvRcO9tpKrQJCowAEIUTQEpn1OoFeCOp8FUARCVqoeFkOZ23NCNv4lQNUqJUdimnv+1wvSYg0kV3QRNsPT9irIVSXuJQJKq2qDXgdOFBRcAqFwg1xEUYkTeeTFFWa0QlBdJhNABkjAaE11fOG2gptTpDacLtDCIHRoPPYUr2JiZrWUpZTrwH50wuozObkD6IGlBRtoqDCHw3Iczme0mpLUIIQlAakULRyNJO+M+FGHSaDjpKqWpLctJyus0qKK7WnYr2tUCk6nSZQzF4IIKtVC2mObnOuy/cZk17nuwYEts6oueSWVCMEtInxI/eq1FbOJ8gaUFGlGSl9rCLhoRyPpc5KeRB6AYHSgBQKhRuEEMRFGKmoqXPbvqC4yoxVShKjGpXQCYuC2iqX7qEuWKoA6eL/aQmMtr5APhOTCqWnOVtWTVJUmEfTZJO0gAaUGGWiziod5XO8xmGCc05GLasOThkeUAJIoVB4QDPDSccNqCGFFWbCjXoiG7fgNkUDsunW4wBmWy07UwgEkEFglVBW7WOuTEx7TQMqrqJtrJ+VJ+waUPS5N9jzhP2hoNDXQAQPJrhgFSIFJYAUCoUHtKRGnUs0XJXZQpW5jsQok6uJx95u3OxcLNWF2kqt+KW+5Vqp27G3ZThl62brNTGpUFtBaWmxfxFwoGlAUW08Fl8NBA4BVFHj20R7K+5G5XjqC5EqAaRQKFoIuxmurMbi5DMprNCCD+Ld3ZB0Bq3MTHOBCObKkGg/0EAAFfkqgOpbc7f1JwABNA0oiOY3aCiAAtOSIVjN6EAJIIVC0QSxEUaklJwprabWYnUKPjB48oGYorUINzfBDYBWL66uJiT+HwCjQVv3L74KIJvgCKs+S9sYfzWgnKAGIMA5aEB6A5hiXAVQkJrRgYqCUygUTRBl0hMbbiS/vIb88hrCDXrq3AUfNMQUpVV8rq1yr+V4SEBtKQw6gRD+a0BtKfKvER1otdY6DfVvrpf4rQGB5gdqFIQQrFYMoASQQqFoAiEE6clR1NTWUVRVS3GlmUiTwTX4oCH2hFRzuXsBZA9QCJEJTgitMZ3vAkgLHEgVRf5Vwq6t1ipqB1kDijQZCDfqfNeAwNaSobEGZPMBBcEEpwSQQqFoljCjnlSj3jvnu8GkBReYywE3eT415VpVAV3obj96Ifil2MdqAaYoao0xtLEU+ZmEaouAC7IPCCAx0uSnBuQqgEqqatEJiApwLyBQPiBFC5Cens6YMWOCcuzVq1cjhCArKysox/eFs2fPEhcXx/Llyx1jx48fRwjB/PnzQ7ewUGCK0iLhZKMcopoyMJdBZGJATrN37150Oh2ff/65T/P0ej80IKDMmExbUUSH+Aif5zoEUEwLCKBok58aUIJLFFxhpZnEKFPAewGBEkCKBhw9epSZM2dy0UUXERkZSUJCAr1792batGls3bo1ZOvKyspi/vz5FBe779Z4vjBv3jxSUlK49dZbQ72U0BORqAUb2PNeQAtKKDmlaUdR3ldAOH78OPPnz2fv3r0u2/r378+ECRO477773FZ08IReJ8gvr6G6tpmE2UbkiyQ6GYqJ8Scnxt5rJza4JjjQqiEU+tsTqJEGVFhuJiEyOGHjygSnAGDnzp2MHj0ao9HI1KlT6du3L1VVVRw6dIhNmzYRExPj0gq6pcjKymLBggVMnz6d+Ph4p21TpkzhpptuwmRq+XyShvzyyy+89tprPPvss05twNPS0qiqqnIaaxWEx2otpyvOQliM9ntlgVYBISFdK9vjJcePH2fBggWkp6e7rY599913M3r0aDZu3Mh//dd/eXVMg+1p/lRxFd1Sor1eyy+WODJ0J7ze34kW1ICSokwcL2gmF8sd4TYTnJSOGn2FFeamg07OgVb2X6HwxIIFC6isrGTv3r1ccsklLtsD0fY5GOj1+ma7r7YEr776KkIIbr75ZqdxIQTh4X6G7F7oxHbQzHDF2ZDcQ7sBm6Lq802aoaysjJiYmGb3GzlyJOnp6bzyyiteCyC9XQAVeS+ApJQcrYlhNAVaLTsfhCigaUDGyKC04m5MQpSJIn+j4Ky1WqCILam4sNJMjzbeC2lfUCY4BQCHDh0iKSnJrfABSE11LR2yYsUKBg4cSEREBHFxcYwbN44vv/zSq/MJIZg+fbrLeGOfzvTp01mwYAEAXbp0QQjh5FPx5APKz89n9uzZdOrUCZPJRKdOnZg9ezYFBQVuz7dlyxaeeeYZunXrRlhYGD179uT111/36rMArFu3jsGDB9OmjbNpyZ0PqOHYu+++S//+/YmIiKB79+6OXkInTpzgxhtvJDExkZiYGCZPnkxZWZnTsX/66ScyMzPp27cvMTExREZGMmjQIFasWOF2jd9//z3jxo0jKiqKpKQkpk2bRn5+vsfvojH2a/XZZ58xf/580tLSCAsLo1+/frz99tsu+2/67N9Mmv0Xug67moiYeOJ7Xca4m+7k8y++cNl3zJgxpKenc/ToUcfnjo2NZfXq1Q7N+9Zbb3V8/w19ikIIfve73/HJJ59QXu5dJW59Aw3IW/LKajhRG4eeOi3M3FdKT2vmtxao/p0YaaK8xkKNxTcTY301hHoznNKAFEGnW7duHDx4kPfff58bbrih2f0feOABFi9ezNChQ1m0aBFlZWUsW7aMK664gg8//JBrrrkmIOuaNWsWpaWlrF+/nueee47k5GQA+vXr53FOSUkJl112GYcPH+a2225j4MCB7Nmzh6VLl7JlyxZ27Njh8mT98MMPU1VVxaxZswgLC2Pp0qVMnz6d7t27M2LEiCbXeObMGQ4ePMhdd93l02fbsGEDr7zyCpmZmSQmJrJy5Upuu+02TCYTDz/8MGPHjmXRokV8++23vPbaa4SHhzsJl6ysLL744guuvfZaunTpQkVFBevWrWPGjBnk5eXx0EMPOfY9dOgQI0eOxGq1ctddd9GhQwc2btzIVVdd5dOaQfvuKyoqyMzMBGDVqlXcfPPNVFdXOwmy1atXU1hcwtRbbqZjYgSn8stY8dZ7/OY3v2Hr1q2MHDnS6bjl5eWMHj2aESNG8MQTT3D27FlGjRrFww8/zKJFi5g5c6ZjTtu2bZ3mDh8+nFdffZUvv/zSq8+kFwK9j6HYh/PK+UWmaL8UZfteybssp0XMb6AFIQAUVdSSGueDhcBRD64Y4jraEo+VADr/+NeDkPtDqFfhTGoGXP03v6bOmzePzZs384c//IEePXpw+eWXM2TIEMaMGUPv3r2d9j148CBPP/00I0aMYMuWLQ7/y+23306fPn3IzMzkyJEjATGNDR8+nH79+rF+/XomTJhAenp6s3MWL17MoUOHWLJkieMmCZrDes6cOSxevJiFCxc6zampqeHbb791fJYbb7yRrl278tJLLzUrgPbv3w9oQtwXDhw4wP79+0lLSwNg0qRJdOrUiSlTpvDMM89w7733AnDHHXdQVFTEG2+8wfPPP090tGYOmTJlCnfccYfTMe+55x7Gjh3L3/72N+6//36MRs1Z/sgjj1BaWsqXX37p+Dxz5sxh0qRJ7Nq1y6d15+fn8/333xMXF+dYX79+/bj33nuZNGkSERFahNjy5cuJiorS/AnVpRAWzR33PEjfvn158sknXQRQQUEBjzzyCI8//rjT+G9/+1sWLVrE8OHDmTx5sts12a/9vn37vBJAQgg6JkRwNN/L3kXAkbwKjkubJaDwCHQa4vVcQAvISBvu2xw/SbQFDRRU1PgWMt6oIGlJVS1WSdAE0K/CBCeE0AkhvhJCSCHEhlCv50Jk+PDh7Nq1i2nTplFSUsKqVavIzMykT58+jBo1iqNHjzr2/fDDD5FSMnfuXCfnf/v27bn11lvJzs4OWkdLb1i/fj0pKSnMnDnTaXzWrFmkpKSwfv16lzmZmZlOn6VDhw707NmTQ4cONXu+vLw8ABITfQstnjBhgkP4AKSkpNCrVy90Oh2zZ8922nfkyJHU1tZy/Phxx1hUVJTj5+rqagoKCigsLGTcuHGUlpby008/AVBXV8fGjRsZOnSoizC97777fFozwJ133ukQPgBxcXEOIdnQFOpYnxCU1+kpKCpGr9czbNgwvvnmG7fHvv/++31eD0BSktbB8+zZs17P6Z0ay4GcsuZ3tHHkbDmFxnZIoYOCI74t0GptWQ0oql4D8olG9eAKbY3tlAbUNJnAxS16Rj81jfOZjIwMVq9eDUB2djaff/45K1asYNu2bVx33XXs2rULk8nEsWPHAOjbt6/LMexjR48eZfDgwS229oYcO3aMwYMHu0SeGQwGevbsye7du13mdO3a1WUsKSmJ7OzsZs9nrwjtSxiwp3MmJCTQrl07wsLCXMYBJx9WeXm5w4908uRJl2MVFWk3kby8PCoqKujVq5fLPu7GmqOxRgzQp08fAKcHlSNHjvDII4/w6aefuoTQu2uUlpKS4hLl6C32a+9LA7Y+7WP5dH8u5TUWosOavxUeySunc5t4hKWTpgH5QmWB5txvgRBsCEBLBls5HiWAmkEI0RFYBDwKPBvi5fxqSEtLY+rUqUyZMoWRI0eyfft2duzYweWXXx7U81osPjbRChCezIXeCJWUFM0vUFhYGJBzNmW6bLieP/7xj2zYsIGZM2cyatQokpKS0Ov1bNy4keeeew6rr22nA0h5eTmjRo2ioqKCu+++m4yMDGJiYtDpdDz55JNs2bLFZU5kpP+leezX3v5deEOfdrFICQdzSxmU1rz2euRsOcO6JoG5m+8akL0RXQtrQIXlvrZkcDbBKQHUPEuAo8D/ogRQwBFCMGzYMLZv386pU6eA+if3ffv2ufg97P4Qd0/3DUlMTHR7w274BN1wDb7QtWtXDh48iMVicdKCLBYLP//8c7Nr8xW71ueNuS5QFBcXs2HDBqZMmcIrr7zitO2zzz5z+j0lJYWoqCgOHjzochx3Y81x4MABrrvuOqexxt/7v//9b06fPs1rr73mkpg7b948n87nzfd/+PBhAC6+2HtDSJ/2sQDsP928AKqosXC6pJpuKVFQ1Q1+2eWUK9Ms9oTcFtKA4iNNCIHvyaimKK1EUgsJoAvaBySEuBH4PXCHlNLHeENFQzZv3uxW+6iqqmLTpk1AvZll/PjxCCF4+umnqa2t/wPPyclh1apVpKWlMWDAgCbP17NnT7766isqK+vrcRUVFTnCkBtid7p7q2FMmDCBvLw8l3Dk5cuXk5eXx/XXX+/VcbwlJSWFvn378vXXXwf0uE1h15Iaa2g5OTkun1uv13P11VezY8cOtm/f7rTt2Wd9f2ZbunQpJSUljt9LSkp45ZVXiI+PZ/To0U2ub9OmTR79P57w5vv/+uuvMRgMzQaMNKRdXDjxkUb255Q2u++xfC2ps1tKNCR1g5oSzazmLS2sAel1Wr8mn8vxCOFUjqfIZsJTlRAaIYSIA14AXpVSev2fL4SYCcwE6Ny5c5BWd+Fxzz33UFBQwPjx48nIyCAyMpKTJ0+ydu1afv75Z6ZOnUpGRgag+Q3+/Oc/s3jxYkaNGsWkSZMcYdjl5eW89dZbzUbAzZkzh8mTJzN27FimTJlCcXExy5cvJy0tzSXp9dJLLwW08N9bbrmF8PBwLr74Yo9Pu3PnzmXdunXMnj2b3bt3M2DAAPbs2cPKlSvp1asXc+fODcAVc2bixIksXLiQnJwc2rUL/k0mJiaGcePG8eabbxIREcGQIUPIzs7m1VdfpUuXLi75To8//jiffvopV111FXPmzKFjx47885//dARQ+KJlJicnM2zYMIdms2rVKk6cOMGKFSscZrTLL7+c1NRU7rvvPo4fP07Hjh3Zu3cva9asISMjgx9+8D6CtE+fPsTExPDyyy8TGRlJfHw8bdq0YezYsYAm5D755BOuuuoqh7DyBiEEfdrFsv908wLo8FktWq5bm2gosWn9BUcgKtm7k5XmgNBBdNvm9w0Q55SMatOACsrNRJn0hBuDk+wdUgEkhIgH7vZhygtSSvtj0GI0De6hJvZ3QUq5DFgGMHjwYN+8xr9i/v73v/Phhx/y5Zdf8o9//IPi4mLi4uLo168fDzzwgEui4lNPPUX37t15+eWXefDBBzGZTAwbNoy1a9e6hNe645ZbbuH06dO89NJL3HvvvXTt2pW//vWv6HQ6lyfkESNG8NRTT/HKK68wY8YMLBYLjz76qEcBFBcXx/bt23n00Uf56KOPWLVqFW3btuWOO+5gwYIFXmXX+8qMGTN4/PHHWbt2rV+RZf7w5ptv8uCDD/Lxxx/z+uuv06NHD5544gmMRqOL2atXr1588cUX3H///fzv//4v4eHhXHvttSxZsoSuXbs6Qqe94amnnmLbtm0sWbKEM2fO0LNnT9566y3++Mc/OvaJj4/n008/Ze7cubz44otYLBYGDRrExo0bWblypU8CKCIigrfffpt58+Zx9913U1NTw+jRox0C6IsvviA7O5slS5Z4fUw7fdrFsubrbCx1Vs8N9tACEPQ6QVpSJBhsAqjwCHQe5t2J7K249S13y02KMlHgT0HS8PgGJrgaR05RUJBShuwFpAPSh1d327yRgBW4pdHxJLDB2/MPGjRINsf+/fub3UehkFLKWbNmyS5dukiz2RzqpXjNzp07JSCffPLJZvddtWqVBOTWrVuDvzAfmDBhghw0aJC0Wq1ez7H/X/9j10mZ9sAG+XNuaZP73/nmTjnm6a3aLxazlPMTpPzsMe8X+cb1Ur46xvv9A8CM17+V4/7+ue8T35wo5SsjpZRSTln5jRz/4jaXXYCdMgAyIKQ+ICnlcSml8OF12Db1JeA74BshRHf7y7Yt0va7l7qxQhEYHnvsMQoKCtz6sc4Hqqqcs/6llCxevBjQkj0vRPbs2cOHH37Is88+63OwCjQIRGjGD3TkbIUWgACgN0J8Z99Cse1leFqQpGgTBRU+hmGDU0+gwoqaoAUgwIXrA0oD4gB3YUdX2MaXAHNaclGK1k2bNm2cnPPnG/3792fs2LFkZGRQUVHBxx9/zLZt25g0aRKDBg0K9bqeP4kAAA5KSURBVPL8YsCAAecUbt4tJRqTXsf+nFKu69/B7T51Vsmx/ArG9GoQ4p3UDQpdIzbdH6BWE1Y9x/m9Tn9IiDRRVGlGSumbcI5IgCrt77ioopZebWODtMILVwBNBdyJ5XXALuBvwGE32xWKVst1113Hxx9/zJo1a7BYLHTp0oWFCxfywAMPhHppIcOo19EzNbrJQISThZWY66xaAIKdxG5w4hvvQrELjkCdGdq4Jm4Hk8QoE3VWSWmVhbhIH/oXRSRoUX51FgoqakiM8qP3kZdckAJISvmRu3GblM+VUr7XsitSKM5/Fi9e7DC5+cP06dO9qpp9odGnXSz/PnDWo6ZwJM8WAdewbUNSN62za0Ve80VJz/yovbdteQEEWjUEnwSQrRxPVVkh1bVWEqPCmpngPxd0HpBCoVCcK73bxVJQYSavzH3EWL0Aqq+9R2KDUOzmOLtfS+5M7nmuS/UJhwDyNRLOVg2hpPCs7TjB04B+VQLIFqhwbajXoVAoLhz6tNN8HPs8BCIcOVtBcrSJ+IbJmEm2ahreBCKc2acJH0PLdu2tF0A+5gLZBFB5cb7tOEoDCinSxyKTCoXi/KXx/3PvBiV53O2792QxPdo0yh2L66xpNd5oQGf2Q5s+fq/XX/zXgDQTXGWJrcq70oBCh8FgCFmBTIVCEXhqa2udKnXEhhvplBjhNhR794liDp4p49pLGlW30BsgPq35SLjqEig50eL+Hzh3DaimvMB2HKUBhYzw8HCv2/wqFIrzn9LSUpdqGJ5K8rz1dTbRYQYmuAvRTurWvAnu7AHtPQQCKNJkINyo810DsgUh1JZpRWcSg1QHDpQAapaUlBTy8vKorKxUpjiF4gJFSonZbCY/P5+ioiKX5oFD0hM5ll/B9sP5jrGiCjMbfsjh+gEdiHLXLyixGxQc1UKxPRGiCDg7iZEmPzQgTQBZKwsx6ASxEcELlr4gw7BbkvDwcNq2bUtubi41NX7UVVIoFOcFer2emJgYOnfu7NLwb/Klaaz5Opu/fPgj//rTSMIMetbtOonZYmXypWnuD5jUDWoroPwMxKS63+fMPgiLg1j3Sa7BJjHa5LsGpDeCKQaqi0mIMvlVYcJblADygri4OKcWxAqF4tdFuFHPgvF9mb7qW5Z/cZTMMd1565sTDElPoFeqh+K1ibZIuIIjTQig/Zr2E8SbeFMkRJp87wkEEJmAobooqOY3UCY4hUKhAGBMrzZck5HKi1sO83/fniC7oNKz9gOaBgSe/UBSajlAbVs+As5OUpQfGhBAVAoR5oKg1oEDJYAUCoXCwV+v7YtBJ5j3wY8kRZm46mIPmg1AXCcwRsLpPe63l5yEmtKQ+X/gHHoCRbUh2lKkBJBCoVC0FKlx4dzz255ICRMHdyLM0EQjNp0eul8JP20EdwVRz+zT3lu4BlxDEiNNlNdYqLH42DA6OoU4a/AFkPIBKRQKRQOmX5aOQSeYMMCLwIHev4cDH8GpXdBpiPM2hwDqHfhFeklyjBZskVdWQ8eESK/nWSPbkCBLSYwMTidUO0oDUigUigYY9Dqmj+jiXHrHEz3GaRURfvrYdduZfVrfoPDgtTNojtS4cAByS6p9mldlSkQvJO2NlcFYlgMlgBQKhcJfIuKhyyg48LFrPtDZ/dDWfdv4lqJ9nNZq/bSPAqhUr1VDaKMvC/iaGqIEkEKhUJwLvX+vleSxVz0AsNRA/qGQ1IBrSPt4TQPKKa5qZk9ninSaAEoRwW2wKFpzdr8Qogw4GOp1nCckA/nN7tU6UNeiHnUt6lHXop5eUkoPCVLe09qDEA5KKQeHehHnA0KInepaaKhrUY+6FvWoa1GPEGJnII6jTHAKhUKhCAlKACkUCoUiJLR2AbQs1As4j1DXoh51LepR16IedS3qCci1aNVBCAqFQqEIHa1dA1IoFApFiFACSKFQKBQhQQkghUKhUISEViWAhBA6IcQ9QoifhBDVQoiTQohnhRBRoV5bSyKE6CmEeEwI8bUQIk8IUSaE2CuEeKS1XQt3CCEihRBHhRBSCPFSqNfT0gghEoUQzwghDtv+T/KEEFuFECNDvbaWRAgRLYR4WAjxg+1/JF8I8R8hxHQRzDahIUQI8ZAQYl2Dv//jzew/TAjxme36lAohPhFC9Pf2fK0tEfU54C5gPfAs0Nv2+wAhxJVSSjc11X+V3AbMBj4C3gJqgSuAx4H/FkJcKqX0rXbHr4vHgJRQLyIUCCHSgCwgGlgJ/AzEAf2A0PSVDgFCCB3wL+Ay4HXgRSASuBlYhXbveCBkCwwei4BCYDcQ39SOQohL0f5WTgF/tQ3PAbYJIS6TUv7Q7NmklK3iBfQFrMA/Go3/P0ACfwz1GlvwWgwG4tyMP267FnNCvcYQXpuBgAW413YtXgr1mlr4828DTgLtQr2WEF+H4bbv/7lG4ybgKFAc6jUG6XN3bfDzj8DxJvbdAZQCHRqMdbCNbfLmfK3JBHczIIDnG40vByqByS2+ohAhpdwppXRXZfAd23toS/iGCCGEHu3v4RPg/RAvp8URQowCLgcWSylzhBBGIYT3TWR+Xdh7KJxuOCilNKPVg6to8RW1AFLKo97sJ4ToDgwB1kkpTzWYfwpYB1wphGiinaxGaxJAQ9A0oB0NB6WU1cBe2/bWTkfb+5mQriJ03ANchGZGaI1cY3s/IYT4GKgCKoQQPwshWs0Dmo0dQDEwVwgxUQjRWQhxkRDiSWAQMD+kqws99vvlV262fY32sD+ouYO0JgHUHsiXUta42XYKSBZCBLf/7HmM7en/L2jmp7UhXk6LI4ToAiwAHpNSHg/xckJFL9v7ciARmIbmLzQDa4QQt4ZqYS2NlLIIGI/mD3kXyAYOoPlO/yClXB7C5Z0PtLe9n3KzzT7WrM+wNQUhRALuhA9AdYN9zC2znPOO59Hs3g9LKVtji4pX0Gz7fw/1QkKIvbx+GXCFzdyEEOIDtGuzSAjxumw9wTrlaH6Qj4D/oAnl2cBaIcR1UsrNoVxciLGbZt3dU6sb7eOR1qQBVQJhHraFN9in1SGEWIhmdlompXwy1OtpaWzmpd8Cd0opa0O9nhBij3z8P7vwAYc28BGQSr2W9KtGCJGBJnQ2Syn/LKVcL6VcieYjywWW26wGrRX7vdLdPdXr+2lrEkCn0cxs7i5YBzTzXKvTfoQQ84F5aKGld4R2NS2P7e/h78BGIFcI0d3mYE2z7RJnG2syJPVXwi+291w323Js7wkttJZQcw/ajXRdw0EpZSXwT7S/j/SWX9Z5gz04w52ZzT7mzjznRGsSQN+ifd6hDQeFEOFAfyAgDZYuJGzC51G0PIfbpS2OspURgZbz81/AoQavLNv2ybbfbw/F4loYe4BORzfb7GNnW2gtocZ+E3Wn5RgavbdGvrW9D3ez7VK0EPZdzR2kNQmgd9Auyt2Nxmeg2SrfavEVhRAhxF/RhM8a4LZWZNdvTAUw0c0r07b9E9vvH4VkdS3LB2j+n8lCiGj7oBCiHTAB+FlKeThUi2th9tvepzcctGnC1wFFQGu5Fi7Y/g52AhOFEPaABGw/TwS2SCndadJOtKp2DEKIF9F8HevRTC72SgjbgbGt5SYshJgNvAScQIt8a/y5z7RyBytCiHTgGLBEStlqwrKFEDOBV4F9wGtoiZd3Au2Aa6WUm0K4vBbDVhFiN5rJ8S20e0Qi2gNrOjBbSvlyyBYYJIQQU6g3P/8/tO//Wdvv2VLKNQ32vQzYima6fbHBnLbACCnld82eMNSZty2c5asH7gMOokVvnEKz/0eHem0tfB1Wo2mDnl5ZoV5jqF9oN5lWVwnB9tlvQMvlqEDTiDbZbighX1sLX4duaObpX9DKVZUCXwA3hHptQfzMWb7cF9BMcP9GixgsAz4FBnp7vlalASkUCoXi/KE1+YAUCoVCcR6hBJBCoVAoQoISQAqFQqEICUoAKRQKhSIkKAGkUCgUipCgBJBCoVAoQoISQAqFQqEICUoAKRRBRggxRgghhRDTQ70WheJ8QgkghSJACCH6CyHm28r4KBSKZmjN1VwVikDTH63AaxZwvMH4F2hVt1tzryGFwgUlgBSKICO1IrfVze6oULQylAlOoQgAtt5Kq2y/brX5fKQQYrU7H1DDMSFEphDioBCiWgjxgxDiWts+GUKIT4QQpUKIAiHEC0IIo5tz9xBCrBFC5AghzEKI40KIp4UQUS3x2RUKf1EakEIRGN5Ha1kwE1gEHLCNH8FzK3iA2Wgl/1egaUl3AeuFEBOB5cD/ofXpGYdW6v4s8Lh9shBiELAFKEZro3AKuMR2nBFCiNGydbcZV5zHqGrYCkWAsGk4q4ArpJRZDcbHoPVNuVVKubrR2Gmgj5SyxDbeD/gOrfz9jVLK9xscZxfQXkrZrsHYd2gCboiUsqzB+PVoQtFxToXifEOZ4BSK0LLaLnwApJTfo/WdOd1Q+Nj4Eki1dysVQmQA/YC1QJgQItn+su1bgaY5KRTnJUoAKRSh5aibsSK0bqzuxgGSbO+9be8LgLxGr7NAFFp3SoXivET5gBSK0FLn4ziAaPT+LPCJh32LPIwrFCFHCSCFInC0tEP1kO29Tkr5WQufW6E4Z5QJTqEIHOW298QWOt8e4EfgDiFE18YbhRAGIURLrUWh8BmlASkUgeNbwAo8IoRIQAsCcOfLCQhSSimEmIIWhv29EOI1YB8QCXQHbgAeAlYHaw0KxbmgNCCFIkBIKU8At6GV3VmKlsNzZ5DPuRcYALwJjAdeBOYBl6IJnn8H8/wKxbmg8oAUCoVCERKUBqRQKBSKkKAEkEKhUChCghJACoVCoQgJSgApFAqFIiQoAaRQKBSKkKAEkEKhUChCghJACoVCoQgJSgApFAqFIiQoAaRQKBSKkPD/AetmgTa0jmKOAAAAAElFTkSuQmCC\n"
                },
                "metadata": {
                  "needs_background": "light"
                }
              }
            ]
          }
        },
        "b69d4b4a36b24970808bb518ab343f15": {
          "model_module": "@jupyter-widgets/base",
          "model_name": "LayoutModel",
          "model_module_version": "1.2.0",
          "state": {
            "_model_module": "@jupyter-widgets/base",
            "_model_module_version": "1.2.0",
            "_model_name": "LayoutModel",
            "_view_count": null,
            "_view_module": "@jupyter-widgets/base",
            "_view_module_version": "1.2.0",
            "_view_name": "LayoutView",
            "align_content": null,
            "align_items": null,
            "align_self": null,
            "border": null,
            "bottom": null,
            "display": null,
            "flex": null,
            "flex_flow": null,
            "grid_area": null,
            "grid_auto_columns": null,
            "grid_auto_flow": null,
            "grid_auto_rows": null,
            "grid_column": null,
            "grid_gap": null,
            "grid_row": null,
            "grid_template_areas": null,
            "grid_template_columns": null,
            "grid_template_rows": null,
            "height": null,
            "justify_content": null,
            "justify_items": null,
            "left": null,
            "margin": null,
            "max_height": null,
            "max_width": null,
            "min_height": null,
            "min_width": null,
            "object_fit": null,
            "object_position": null,
            "order": null,
            "overflow": null,
            "overflow_x": null,
            "overflow_y": null,
            "padding": null,
            "right": null,
            "top": null,
            "visibility": null,
            "width": null
          }
        },
        "66d8b3a3cdce424bbd2501e8c021c2df": {
          "model_module": "@jupyter-widgets/base",
          "model_name": "LayoutModel",
          "model_module_version": "1.2.0",
          "state": {
            "_model_module": "@jupyter-widgets/base",
            "_model_module_version": "1.2.0",
            "_model_name": "LayoutModel",
            "_view_count": null,
            "_view_module": "@jupyter-widgets/base",
            "_view_module_version": "1.2.0",
            "_view_name": "LayoutView",
            "align_content": null,
            "align_items": null,
            "align_self": null,
            "border": null,
            "bottom": null,
            "display": null,
            "flex": null,
            "flex_flow": null,
            "grid_area": null,
            "grid_auto_columns": null,
            "grid_auto_flow": null,
            "grid_auto_rows": null,
            "grid_column": null,
            "grid_gap": null,
            "grid_row": null,
            "grid_template_areas": null,
            "grid_template_columns": null,
            "grid_template_rows": null,
            "height": null,
            "justify_content": null,
            "justify_items": null,
            "left": null,
            "margin": null,
            "max_height": null,
            "max_width": null,
            "min_height": null,
            "min_width": null,
            "object_fit": null,
            "object_position": null,
            "order": null,
            "overflow": null,
            "overflow_x": null,
            "overflow_y": null,
            "padding": null,
            "right": null,
            "top": null,
            "visibility": null,
            "width": null
          }
        },
        "1979edd920c3459692e48618d0032b39": {
          "model_module": "@jupyter-widgets/controls",
          "model_name": "SliderStyleModel",
          "model_module_version": "1.5.0",
          "state": {
            "_model_module": "@jupyter-widgets/controls",
            "_model_module_version": "1.5.0",
            "_model_name": "SliderStyleModel",
            "_view_count": null,
            "_view_module": "@jupyter-widgets/base",
            "_view_module_version": "1.2.0",
            "_view_name": "StyleView",
            "description_width": "",
            "handle_color": null
          }
        },
        "2c5d8a80d1454beb99f6a94b9cc82945": {
          "model_module": "@jupyter-widgets/base",
          "model_name": "LayoutModel",
          "model_module_version": "1.2.0",
          "state": {
            "_model_module": "@jupyter-widgets/base",
            "_model_module_version": "1.2.0",
            "_model_name": "LayoutModel",
            "_view_count": null,
            "_view_module": "@jupyter-widgets/base",
            "_view_module_version": "1.2.0",
            "_view_name": "LayoutView",
            "align_content": null,
            "align_items": null,
            "align_self": null,
            "border": null,
            "bottom": null,
            "display": null,
            "flex": null,
            "flex_flow": null,
            "grid_area": null,
            "grid_auto_columns": null,
            "grid_auto_flow": null,
            "grid_auto_rows": null,
            "grid_column": null,
            "grid_gap": null,
            "grid_row": null,
            "grid_template_areas": null,
            "grid_template_columns": null,
            "grid_template_rows": null,
            "height": null,
            "justify_content": null,
            "justify_items": null,
            "left": null,
            "margin": null,
            "max_height": null,
            "max_width": null,
            "min_height": null,
            "min_width": null,
            "object_fit": null,
            "object_position": null,
            "order": null,
            "overflow": null,
            "overflow_x": null,
            "overflow_y": null,
            "padding": null,
            "right": null,
            "top": null,
            "visibility": null,
            "width": null
          }
        },
        "e5e0357f9e2f465d87430a069244b575": {
          "model_module": "@jupyter-widgets/controls",
          "model_name": "SliderStyleModel",
          "model_module_version": "1.5.0",
          "state": {
            "_model_module": "@jupyter-widgets/controls",
            "_model_module_version": "1.5.0",
            "_model_name": "SliderStyleModel",
            "_view_count": null,
            "_view_module": "@jupyter-widgets/base",
            "_view_module_version": "1.2.0",
            "_view_name": "StyleView",
            "description_width": "",
            "handle_color": null
          }
        },
        "e5e4978afdf84f74936256db44f3d433": {
          "model_module": "@jupyter-widgets/base",
          "model_name": "LayoutModel",
          "model_module_version": "1.2.0",
          "state": {
            "_model_module": "@jupyter-widgets/base",
            "_model_module_version": "1.2.0",
            "_model_name": "LayoutModel",
            "_view_count": null,
            "_view_module": "@jupyter-widgets/base",
            "_view_module_version": "1.2.0",
            "_view_name": "LayoutView",
            "align_content": null,
            "align_items": null,
            "align_self": null,
            "border": null,
            "bottom": null,
            "display": null,
            "flex": null,
            "flex_flow": null,
            "grid_area": null,
            "grid_auto_columns": null,
            "grid_auto_flow": null,
            "grid_auto_rows": null,
            "grid_column": null,
            "grid_gap": null,
            "grid_row": null,
            "grid_template_areas": null,
            "grid_template_columns": null,
            "grid_template_rows": null,
            "height": null,
            "justify_content": null,
            "justify_items": null,
            "left": null,
            "margin": null,
            "max_height": null,
            "max_width": null,
            "min_height": null,
            "min_width": null,
            "object_fit": null,
            "object_position": null,
            "order": null,
            "overflow": null,
            "overflow_x": null,
            "overflow_y": null,
            "padding": null,
            "right": null,
            "top": null,
            "visibility": null,
            "width": null
          }
        },
        "06c930ee289045c4aa03fb1a452e10db": {
          "model_module": "@jupyter-widgets/controls",
          "model_name": "SliderStyleModel",
          "model_module_version": "1.5.0",
          "state": {
            "_model_module": "@jupyter-widgets/controls",
            "_model_module_version": "1.5.0",
            "_model_name": "SliderStyleModel",
            "_view_count": null,
            "_view_module": "@jupyter-widgets/base",
            "_view_module_version": "1.2.0",
            "_view_name": "StyleView",
            "description_width": "",
            "handle_color": null
          }
        },
        "9f58d028434b4f0e90dcb9e37da8a94a": {
          "model_module": "@jupyter-widgets/base",
          "model_name": "LayoutModel",
          "model_module_version": "1.2.0",
          "state": {
            "_model_module": "@jupyter-widgets/base",
            "_model_module_version": "1.2.0",
            "_model_name": "LayoutModel",
            "_view_count": null,
            "_view_module": "@jupyter-widgets/base",
            "_view_module_version": "1.2.0",
            "_view_name": "LayoutView",
            "align_content": null,
            "align_items": null,
            "align_self": null,
            "border": null,
            "bottom": null,
            "display": null,
            "flex": null,
            "flex_flow": null,
            "grid_area": null,
            "grid_auto_columns": null,
            "grid_auto_flow": null,
            "grid_auto_rows": null,
            "grid_column": null,
            "grid_gap": null,
            "grid_row": null,
            "grid_template_areas": null,
            "grid_template_columns": null,
            "grid_template_rows": null,
            "height": null,
            "justify_content": null,
            "justify_items": null,
            "left": null,
            "margin": null,
            "max_height": null,
            "max_width": null,
            "min_height": null,
            "min_width": null,
            "object_fit": null,
            "object_position": null,
            "order": null,
            "overflow": null,
            "overflow_x": null,
            "overflow_y": null,
            "padding": null,
            "right": null,
            "top": null,
            "visibility": null,
            "width": null
          }
        },
        "d16f4c627afb4bb78ad78f4c37ef727e": {
          "model_module": "@jupyter-widgets/controls",
          "model_name": "VBoxModel",
          "model_module_version": "1.5.0",
          "state": {
            "_dom_classes": [
              "widget-interact"
            ],
            "_model_module": "@jupyter-widgets/controls",
            "_model_module_version": "1.5.0",
            "_model_name": "VBoxModel",
            "_view_count": null,
            "_view_module": "@jupyter-widgets/controls",
            "_view_module_version": "1.5.0",
            "_view_name": "VBoxView",
            "box_style": "",
            "children": [
              "IPY_MODEL_c36cf9302616409e9f424773913013bb",
              "IPY_MODEL_56eb7afe6b0a4c3f8e3d10f284edc6ff",
              "IPY_MODEL_dbcb4b97f2fe4e69b199cc805ed01fbf"
            ],
            "layout": "IPY_MODEL_ae2d83a1850a487c869be96a24f01961"
          }
        },
        "c36cf9302616409e9f424773913013bb": {
          "model_module": "@jupyter-widgets/controls",
          "model_name": "FloatSliderModel",
          "model_module_version": "1.5.0",
          "state": {
            "_dom_classes": [],
            "_model_module": "@jupyter-widgets/controls",
            "_model_module_version": "1.5.0",
            "_model_name": "FloatSliderModel",
            "_view_count": null,
            "_view_module": "@jupyter-widgets/controls",
            "_view_module_version": "1.5.0",
            "_view_name": "FloatSliderView",
            "continuous_update": true,
            "description": "phi0",
            "description_tooltip": null,
            "disabled": false,
            "layout": "IPY_MODEL_2a887f82a8b84dbeaa4dccd690dd720b",
            "max": 1,
            "min": -1,
            "orientation": "horizontal",
            "readout": true,
            "readout_format": ".2f",
            "step": 0.1,
            "style": "IPY_MODEL_7520c0c9d3f84a7fb8c9d48ccf3dfc59",
            "value": 0
          }
        },
        "56eb7afe6b0a4c3f8e3d10f284edc6ff": {
          "model_module": "@jupyter-widgets/controls",
          "model_name": "FloatSliderModel",
          "model_module_version": "1.5.0",
          "state": {
            "_dom_classes": [],
            "_model_module": "@jupyter-widgets/controls",
            "_model_module_version": "1.5.0",
            "_model_name": "FloatSliderModel",
            "_view_count": null,
            "_view_module": "@jupyter-widgets/controls",
            "_view_module_version": "1.5.0",
            "_view_name": "FloatSliderView",
            "continuous_update": true,
            "description": "omega0",
            "description_tooltip": null,
            "disabled": false,
            "layout": "IPY_MODEL_a21e5cc70ef84f7182ab69f5d3ba670b",
            "max": 1,
            "min": -1,
            "orientation": "horizontal",
            "readout": true,
            "readout_format": ".2f",
            "step": 0.1,
            "style": "IPY_MODEL_8523bf77cfc346a59988dbf2b3746886",
            "value": 0
          }
        },
        "dbcb4b97f2fe4e69b199cc805ed01fbf": {
          "model_module": "@jupyter-widgets/output",
          "model_name": "OutputModel",
          "model_module_version": "1.0.0",
          "state": {
            "_dom_classes": [],
            "_model_module": "@jupyter-widgets/output",
            "_model_module_version": "1.0.0",
            "_model_name": "OutputModel",
            "_view_count": null,
            "_view_module": "@jupyter-widgets/output",
            "_view_module_version": "1.0.0",
            "_view_name": "OutputView",
            "layout": "IPY_MODEL_0a1638368d8c477eba8b3a51d1d7ab9a",
            "msg_id": "",
            "outputs": [
              {
                "output_type": "display_data",
                "data": {
                  "text/plain": "<Figure size 864x144 with 3 Axes>",
                  "image/png": "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\n"
                },
                "metadata": {
                  "needs_background": "light"
                }
              }
            ]
          }
        },
        "ae2d83a1850a487c869be96a24f01961": {
          "model_module": "@jupyter-widgets/base",
          "model_name": "LayoutModel",
          "model_module_version": "1.2.0",
          "state": {
            "_model_module": "@jupyter-widgets/base",
            "_model_module_version": "1.2.0",
            "_model_name": "LayoutModel",
            "_view_count": null,
            "_view_module": "@jupyter-widgets/base",
            "_view_module_version": "1.2.0",
            "_view_name": "LayoutView",
            "align_content": null,
            "align_items": null,
            "align_self": null,
            "border": null,
            "bottom": null,
            "display": null,
            "flex": null,
            "flex_flow": null,
            "grid_area": null,
            "grid_auto_columns": null,
            "grid_auto_flow": null,
            "grid_auto_rows": null,
            "grid_column": null,
            "grid_gap": null,
            "grid_row": null,
            "grid_template_areas": null,
            "grid_template_columns": null,
            "grid_template_rows": null,
            "height": null,
            "justify_content": null,
            "justify_items": null,
            "left": null,
            "margin": null,
            "max_height": null,
            "max_width": null,
            "min_height": null,
            "min_width": null,
            "object_fit": null,
            "object_position": null,
            "order": null,
            "overflow": null,
            "overflow_x": null,
            "overflow_y": null,
            "padding": null,
            "right": null,
            "top": null,
            "visibility": null,
            "width": null
          }
        },
        "2a887f82a8b84dbeaa4dccd690dd720b": {
          "model_module": "@jupyter-widgets/base",
          "model_name": "LayoutModel",
          "model_module_version": "1.2.0",
          "state": {
            "_model_module": "@jupyter-widgets/base",
            "_model_module_version": "1.2.0",
            "_model_name": "LayoutModel",
            "_view_count": null,
            "_view_module": "@jupyter-widgets/base",
            "_view_module_version": "1.2.0",
            "_view_name": "LayoutView",
            "align_content": null,
            "align_items": null,
            "align_self": null,
            "border": null,
            "bottom": null,
            "display": null,
            "flex": null,
            "flex_flow": null,
            "grid_area": null,
            "grid_auto_columns": null,
            "grid_auto_flow": null,
            "grid_auto_rows": null,
            "grid_column": null,
            "grid_gap": null,
            "grid_row": null,
            "grid_template_areas": null,
            "grid_template_columns": null,
            "grid_template_rows": null,
            "height": null,
            "justify_content": null,
            "justify_items": null,
            "left": null,
            "margin": null,
            "max_height": null,
            "max_width": null,
            "min_height": null,
            "min_width": null,
            "object_fit": null,
            "object_position": null,
            "order": null,
            "overflow": null,
            "overflow_x": null,
            "overflow_y": null,
            "padding": null,
            "right": null,
            "top": null,
            "visibility": null,
            "width": null
          }
        },
        "7520c0c9d3f84a7fb8c9d48ccf3dfc59": {
          "model_module": "@jupyter-widgets/controls",
          "model_name": "SliderStyleModel",
          "model_module_version": "1.5.0",
          "state": {
            "_model_module": "@jupyter-widgets/controls",
            "_model_module_version": "1.5.0",
            "_model_name": "SliderStyleModel",
            "_view_count": null,
            "_view_module": "@jupyter-widgets/base",
            "_view_module_version": "1.2.0",
            "_view_name": "StyleView",
            "description_width": "",
            "handle_color": null
          }
        },
        "a21e5cc70ef84f7182ab69f5d3ba670b": {
          "model_module": "@jupyter-widgets/base",
          "model_name": "LayoutModel",
          "model_module_version": "1.2.0",
          "state": {
            "_model_module": "@jupyter-widgets/base",
            "_model_module_version": "1.2.0",
            "_model_name": "LayoutModel",
            "_view_count": null,
            "_view_module": "@jupyter-widgets/base",
            "_view_module_version": "1.2.0",
            "_view_name": "LayoutView",
            "align_content": null,
            "align_items": null,
            "align_self": null,
            "border": null,
            "bottom": null,
            "display": null,
            "flex": null,
            "flex_flow": null,
            "grid_area": null,
            "grid_auto_columns": null,
            "grid_auto_flow": null,
            "grid_auto_rows": null,
            "grid_column": null,
            "grid_gap": null,
            "grid_row": null,
            "grid_template_areas": null,
            "grid_template_columns": null,
            "grid_template_rows": null,
            "height": null,
            "justify_content": null,
            "justify_items": null,
            "left": null,
            "margin": null,
            "max_height": null,
            "max_width": null,
            "min_height": null,
            "min_width": null,
            "object_fit": null,
            "object_position": null,
            "order": null,
            "overflow": null,
            "overflow_x": null,
            "overflow_y": null,
            "padding": null,
            "right": null,
            "top": null,
            "visibility": null,
            "width": null
          }
        },
        "8523bf77cfc346a59988dbf2b3746886": {
          "model_module": "@jupyter-widgets/controls",
          "model_name": "SliderStyleModel",
          "model_module_version": "1.5.0",
          "state": {
            "_model_module": "@jupyter-widgets/controls",
            "_model_module_version": "1.5.0",
            "_model_name": "SliderStyleModel",
            "_view_count": null,
            "_view_module": "@jupyter-widgets/base",
            "_view_module_version": "1.2.0",
            "_view_name": "StyleView",
            "description_width": "",
            "handle_color": null
          }
        },
        "0a1638368d8c477eba8b3a51d1d7ab9a": {
          "model_module": "@jupyter-widgets/base",
          "model_name": "LayoutModel",
          "model_module_version": "1.2.0",
          "state": {
            "_model_module": "@jupyter-widgets/base",
            "_model_module_version": "1.2.0",
            "_model_name": "LayoutModel",
            "_view_count": null,
            "_view_module": "@jupyter-widgets/base",
            "_view_module_version": "1.2.0",
            "_view_name": "LayoutView",
            "align_content": null,
            "align_items": null,
            "align_self": null,
            "border": null,
            "bottom": null,
            "display": null,
            "flex": null,
            "flex_flow": null,
            "grid_area": null,
            "grid_auto_columns": null,
            "grid_auto_flow": null,
            "grid_auto_rows": null,
            "grid_column": null,
            "grid_gap": null,
            "grid_row": null,
            "grid_template_areas": null,
            "grid_template_columns": null,
            "grid_template_rows": null,
            "height": null,
            "justify_content": null,
            "justify_items": null,
            "left": null,
            "margin": null,
            "max_height": null,
            "max_width": null,
            "min_height": null,
            "min_width": null,
            "object_fit": null,
            "object_position": null,
            "order": null,
            "overflow": null,
            "overflow_x": null,
            "overflow_y": null,
            "padding": null,
            "right": null,
            "top": null,
            "visibility": null,
            "width": null
          }
        },
        "74510a8263ca45468fe48e6d411a6316": {
          "model_module": "@jupyter-widgets/controls",
          "model_name": "VBoxModel",
          "model_module_version": "1.5.0",
          "state": {
            "_dom_classes": [
              "widget-interact"
            ],
            "_model_module": "@jupyter-widgets/controls",
            "_model_module_version": "1.5.0",
            "_model_name": "VBoxModel",
            "_view_count": null,
            "_view_module": "@jupyter-widgets/controls",
            "_view_module_version": "1.5.0",
            "_view_name": "VBoxView",
            "box_style": "",
            "children": [
              "IPY_MODEL_98d34297912e4f4a85be1e89250a17e1",
              "IPY_MODEL_ce23a957a8094f56afcfaa47cc6c4bc0",
              "IPY_MODEL_93474c3f482844bea9329419318f548a"
            ],
            "layout": "IPY_MODEL_f144f10b25064506bc859d52ca5e7297"
          }
        },
        "98d34297912e4f4a85be1e89250a17e1": {
          "model_module": "@jupyter-widgets/controls",
          "model_name": "FloatSliderModel",
          "model_module_version": "1.5.0",
          "state": {
            "_dom_classes": [],
            "_model_module": "@jupyter-widgets/controls",
            "_model_module_version": "1.5.0",
            "_model_name": "FloatSliderModel",
            "_view_count": null,
            "_view_module": "@jupyter-widgets/controls",
            "_view_module_version": "1.5.0",
            "_view_name": "FloatSliderView",
            "continuous_update": true,
            "description": "rotate ⤾",
            "description_tooltip": null,
            "disabled": false,
            "layout": "IPY_MODEL_9320f09e29864e3cbfc485227586989b",
            "max": 90,
            "min": -90,
            "orientation": "horizontal",
            "readout": true,
            "readout_format": ".2f",
            "step": 5,
            "style": "IPY_MODEL_8487ab22ff104df69ddf881ed78e8673",
            "value": 10
          }
        },
        "ce23a957a8094f56afcfaa47cc6c4bc0": {
          "model_module": "@jupyter-widgets/controls",
          "model_name": "FloatLogSliderModel",
          "model_module_version": "1.5.0",
          "state": {
            "_dom_classes": [],
            "_model_module": "@jupyter-widgets/controls",
            "_model_module_version": "1.5.0",
            "_model_name": "FloatLogSliderModel",
            "_view_count": null,
            "_view_module": "@jupyter-widgets/controls",
            "_view_module_version": "1.5.0",
            "_view_name": "FloatLogSliderView",
            "base": 10,
            "continuous_update": true,
            "description": "stretch ↕",
            "description_tooltip": null,
            "disabled": false,
            "layout": "IPY_MODEL_27ab20ef0534489ca96a2dc320713954",
            "max": 1,
            "min": -1,
            "orientation": "horizontal",
            "readout": true,
            "readout_format": ".3g",
            "step": 0.1,
            "style": "IPY_MODEL_52a250be199e4a649efadfe6a2806d98",
            "value": 6.309573444801933
          }
        },
        "93474c3f482844bea9329419318f548a": {
          "model_module": "@jupyter-widgets/output",
          "model_name": "OutputModel",
          "model_module_version": "1.0.0",
          "state": {
            "_dom_classes": [],
            "_model_module": "@jupyter-widgets/output",
            "_model_module_version": "1.0.0",
            "_model_name": "OutputModel",
            "_view_count": null,
            "_view_module": "@jupyter-widgets/output",
            "_view_module_version": "1.0.0",
            "_view_name": "OutputView",
            "layout": "IPY_MODEL_e143d570b7ff4e1594aa5610f23357ab",
            "msg_id": "",
            "outputs": [
              {
                "output_type": "display_data",
                "data": {
                  "text/plain": "<Figure size 216x216 with 1 Axes>",
                  "image/png": "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\n"
                },
                "metadata": {
                  "needs_background": "light"
                }
              }
            ]
          }
        },
        "f144f10b25064506bc859d52ca5e7297": {
          "model_module": "@jupyter-widgets/base",
          "model_name": "LayoutModel",
          "model_module_version": "1.2.0",
          "state": {
            "_model_module": "@jupyter-widgets/base",
            "_model_module_version": "1.2.0",
            "_model_name": "LayoutModel",
            "_view_count": null,
            "_view_module": "@jupyter-widgets/base",
            "_view_module_version": "1.2.0",
            "_view_name": "LayoutView",
            "align_content": null,
            "align_items": null,
            "align_self": null,
            "border": null,
            "bottom": null,
            "display": null,
            "flex": null,
            "flex_flow": null,
            "grid_area": null,
            "grid_auto_columns": null,
            "grid_auto_flow": null,
            "grid_auto_rows": null,
            "grid_column": null,
            "grid_gap": null,
            "grid_row": null,
            "grid_template_areas": null,
            "grid_template_columns": null,
            "grid_template_rows": null,
            "height": null,
            "justify_content": null,
            "justify_items": null,
            "left": null,
            "margin": null,
            "max_height": null,
            "max_width": null,
            "min_height": null,
            "min_width": null,
            "object_fit": null,
            "object_position": null,
            "order": null,
            "overflow": null,
            "overflow_x": null,
            "overflow_y": null,
            "padding": null,
            "right": null,
            "top": null,
            "visibility": null,
            "width": null
          }
        },
        "9320f09e29864e3cbfc485227586989b": {
          "model_module": "@jupyter-widgets/base",
          "model_name": "LayoutModel",
          "model_module_version": "1.2.0",
          "state": {
            "_model_module": "@jupyter-widgets/base",
            "_model_module_version": "1.2.0",
            "_model_name": "LayoutModel",
            "_view_count": null,
            "_view_module": "@jupyter-widgets/base",
            "_view_module_version": "1.2.0",
            "_view_name": "LayoutView",
            "align_content": null,
            "align_items": null,
            "align_self": null,
            "border": null,
            "bottom": null,
            "display": null,
            "flex": null,
            "flex_flow": null,
            "grid_area": null,
            "grid_auto_columns": null,
            "grid_auto_flow": null,
            "grid_auto_rows": null,
            "grid_column": null,
            "grid_gap": null,
            "grid_row": null,
            "grid_template_areas": null,
            "grid_template_columns": null,
            "grid_template_rows": null,
            "height": null,
            "justify_content": null,
            "justify_items": null,
            "left": null,
            "margin": null,
            "max_height": null,
            "max_width": null,
            "min_height": null,
            "min_width": null,
            "object_fit": null,
            "object_position": null,
            "order": null,
            "overflow": null,
            "overflow_x": null,
            "overflow_y": null,
            "padding": null,
            "right": null,
            "top": null,
            "visibility": null,
            "width": null
          }
        },
        "8487ab22ff104df69ddf881ed78e8673": {
          "model_module": "@jupyter-widgets/controls",
          "model_name": "SliderStyleModel",
          "model_module_version": "1.5.0",
          "state": {
            "_model_module": "@jupyter-widgets/controls",
            "_model_module_version": "1.5.0",
            "_model_name": "SliderStyleModel",
            "_view_count": null,
            "_view_module": "@jupyter-widgets/base",
            "_view_module_version": "1.2.0",
            "_view_name": "StyleView",
            "description_width": "",
            "handle_color": null
          }
        },
        "27ab20ef0534489ca96a2dc320713954": {
          "model_module": "@jupyter-widgets/base",
          "model_name": "LayoutModel",
          "model_module_version": "1.2.0",
          "state": {
            "_model_module": "@jupyter-widgets/base",
            "_model_module_version": "1.2.0",
            "_model_name": "LayoutModel",
            "_view_count": null,
            "_view_module": "@jupyter-widgets/base",
            "_view_module_version": "1.2.0",
            "_view_name": "LayoutView",
            "align_content": null,
            "align_items": null,
            "align_self": null,
            "border": null,
            "bottom": null,
            "display": null,
            "flex": null,
            "flex_flow": null,
            "grid_area": null,
            "grid_auto_columns": null,
            "grid_auto_flow": null,
            "grid_auto_rows": null,
            "grid_column": null,
            "grid_gap": null,
            "grid_row": null,
            "grid_template_areas": null,
            "grid_template_columns": null,
            "grid_template_rows": null,
            "height": null,
            "justify_content": null,
            "justify_items": null,
            "left": null,
            "margin": null,
            "max_height": null,
            "max_width": null,
            "min_height": null,
            "min_width": null,
            "object_fit": null,
            "object_position": null,
            "order": null,
            "overflow": null,
            "overflow_x": null,
            "overflow_y": null,
            "padding": null,
            "right": null,
            "top": null,
            "visibility": null,
            "width": null
          }
        },
        "52a250be199e4a649efadfe6a2806d98": {
          "model_module": "@jupyter-widgets/controls",
          "model_name": "SliderStyleModel",
          "model_module_version": "1.5.0",
          "state": {
            "_model_module": "@jupyter-widgets/controls",
            "_model_module_version": "1.5.0",
            "_model_name": "SliderStyleModel",
            "_view_count": null,
            "_view_module": "@jupyter-widgets/base",
            "_view_module_version": "1.2.0",
            "_view_name": "StyleView",
            "description_width": "",
            "handle_color": null
          }
        },
        "e143d570b7ff4e1594aa5610f23357ab": {
          "model_module": "@jupyter-widgets/base",
          "model_name": "LayoutModel",
          "model_module_version": "1.2.0",
          "state": {
            "_model_module": "@jupyter-widgets/base",
            "_model_module_version": "1.2.0",
            "_model_name": "LayoutModel",
            "_view_count": null,
            "_view_module": "@jupyter-widgets/base",
            "_view_module_version": "1.2.0",
            "_view_name": "LayoutView",
            "align_content": null,
            "align_items": null,
            "align_self": null,
            "border": null,
            "bottom": null,
            "display": null,
            "flex": null,
            "flex_flow": null,
            "grid_area": null,
            "grid_auto_columns": null,
            "grid_auto_flow": null,
            "grid_auto_rows": null,
            "grid_column": null,
            "grid_gap": null,
            "grid_row": null,
            "grid_template_areas": null,
            "grid_template_columns": null,
            "grid_template_rows": null,
            "height": null,
            "justify_content": null,
            "justify_items": null,
            "left": null,
            "margin": null,
            "max_height": null,
            "max_width": null,
            "min_height": null,
            "min_width": null,
            "object_fit": null,
            "object_position": null,
            "order": null,
            "overflow": null,
            "overflow_x": null,
            "overflow_y": null,
            "padding": null,
            "right": null,
            "top": null,
            "visibility": null,
            "width": null
          }
        },
        "efc19b062505495b94e8da8e2cb51cda": {
          "model_module": "@jupyter-widgets/controls",
          "model_name": "VBoxModel",
          "model_module_version": "1.5.0",
          "state": {
            "_dom_classes": [
              "widget-interact"
            ],
            "_model_module": "@jupyter-widgets/controls",
            "_model_module_version": "1.5.0",
            "_model_name": "VBoxModel",
            "_view_count": null,
            "_view_module": "@jupyter-widgets/controls",
            "_view_module_version": "1.5.0",
            "_view_name": "VBoxView",
            "box_style": "",
            "children": [
              "IPY_MODEL_fa0f9c4068ee4da08ebd3dedce7b5390",
              "IPY_MODEL_282a1a4c90e4406da3fb366d5329aa83",
              "IPY_MODEL_ffc1b308a8d14ae5b784dfea21bca1e9"
            ],
            "layout": "IPY_MODEL_b4fd96494116412cb3780c44fd3c4afe"
          }
        },
        "fa0f9c4068ee4da08ebd3dedce7b5390": {
          "model_module": "@jupyter-widgets/controls",
          "model_name": "FloatSliderModel",
          "model_module_version": "1.5.0",
          "state": {
            "_dom_classes": [],
            "_model_module": "@jupyter-widgets/controls",
            "_model_module_version": "1.5.0",
            "_model_name": "FloatSliderModel",
            "_view_count": null,
            "_view_module": "@jupyter-widgets/controls",
            "_view_module_version": "1.5.0",
            "_view_name": "FloatSliderView",
            "continuous_update": true,
            "description": "λ1",
            "description_tooltip": null,
            "disabled": false,
            "layout": "IPY_MODEL_a34d19d7af3845c7abe8a6575d1011fc",
            "max": 1,
            "min": -1,
            "orientation": "horizontal",
            "readout": true,
            "readout_format": ".2f",
            "step": 0.1,
            "style": "IPY_MODEL_bc106e682af14a6a924bf264dca61a17",
            "value": 0
          }
        },
        "282a1a4c90e4406da3fb366d5329aa83": {
          "model_module": "@jupyter-widgets/controls",
          "model_name": "FloatSliderModel",
          "model_module_version": "1.5.0",
          "state": {
            "_dom_classes": [],
            "_model_module": "@jupyter-widgets/controls",
            "_model_module_version": "1.5.0",
            "_model_name": "FloatSliderModel",
            "_view_count": null,
            "_view_module": "@jupyter-widgets/controls",
            "_view_module_version": "1.5.0",
            "_view_name": "FloatSliderView",
            "continuous_update": true,
            "description": "λ2",
            "description_tooltip": null,
            "disabled": false,
            "layout": "IPY_MODEL_ee25d02e2fa342ac8fff2069df30596a",
            "max": 1,
            "min": -1,
            "orientation": "horizontal",
            "readout": true,
            "readout_format": ".2f",
            "step": 0.1,
            "style": "IPY_MODEL_8fab5d917b0d4575aa833ba2b2b54b82",
            "value": 0
          }
        },
        "ffc1b308a8d14ae5b784dfea21bca1e9": {
          "model_module": "@jupyter-widgets/output",
          "model_name": "OutputModel",
          "model_module_version": "1.0.0",
          "state": {
            "_dom_classes": [],
            "_model_module": "@jupyter-widgets/output",
            "_model_module_version": "1.0.0",
            "_model_name": "OutputModel",
            "_view_count": null,
            "_view_module": "@jupyter-widgets/output",
            "_view_module_version": "1.0.0",
            "_view_name": "OutputView",
            "layout": "IPY_MODEL_774cf98da0904252a5cd2b550d36808f",
            "msg_id": "",
            "outputs": [
              {
                "output_type": "display_data",
                "data": {
                  "text/plain": "<Figure size 216x216 with 1 Axes>",
                  "image/png": "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\n"
                },
                "metadata": {
                  "needs_background": "light"
                }
              }
            ]
          }
        },
        "b4fd96494116412cb3780c44fd3c4afe": {
          "model_module": "@jupyter-widgets/base",
          "model_name": "LayoutModel",
          "model_module_version": "1.2.0",
          "state": {
            "_model_module": "@jupyter-widgets/base",
            "_model_module_version": "1.2.0",
            "_model_name": "LayoutModel",
            "_view_count": null,
            "_view_module": "@jupyter-widgets/base",
            "_view_module_version": "1.2.0",
            "_view_name": "LayoutView",
            "align_content": null,
            "align_items": null,
            "align_self": null,
            "border": null,
            "bottom": null,
            "display": null,
            "flex": null,
            "flex_flow": null,
            "grid_area": null,
            "grid_auto_columns": null,
            "grid_auto_flow": null,
            "grid_auto_rows": null,
            "grid_column": null,
            "grid_gap": null,
            "grid_row": null,
            "grid_template_areas": null,
            "grid_template_columns": null,
            "grid_template_rows": null,
            "height": null,
            "justify_content": null,
            "justify_items": null,
            "left": null,
            "margin": null,
            "max_height": null,
            "max_width": null,
            "min_height": null,
            "min_width": null,
            "object_fit": null,
            "object_position": null,
            "order": null,
            "overflow": null,
            "overflow_x": null,
            "overflow_y": null,
            "padding": null,
            "right": null,
            "top": null,
            "visibility": null,
            "width": null
          }
        },
        "a34d19d7af3845c7abe8a6575d1011fc": {
          "model_module": "@jupyter-widgets/base",
          "model_name": "LayoutModel",
          "model_module_version": "1.2.0",
          "state": {
            "_model_module": "@jupyter-widgets/base",
            "_model_module_version": "1.2.0",
            "_model_name": "LayoutModel",
            "_view_count": null,
            "_view_module": "@jupyter-widgets/base",
            "_view_module_version": "1.2.0",
            "_view_name": "LayoutView",
            "align_content": null,
            "align_items": null,
            "align_self": null,
            "border": null,
            "bottom": null,
            "display": null,
            "flex": null,
            "flex_flow": null,
            "grid_area": null,
            "grid_auto_columns": null,
            "grid_auto_flow": null,
            "grid_auto_rows": null,
            "grid_column": null,
            "grid_gap": null,
            "grid_row": null,
            "grid_template_areas": null,
            "grid_template_columns": null,
            "grid_template_rows": null,
            "height": null,
            "justify_content": null,
            "justify_items": null,
            "left": null,
            "margin": null,
            "max_height": null,
            "max_width": null,
            "min_height": null,
            "min_width": null,
            "object_fit": null,
            "object_position": null,
            "order": null,
            "overflow": null,
            "overflow_x": null,
            "overflow_y": null,
            "padding": null,
            "right": null,
            "top": null,
            "visibility": null,
            "width": null
          }
        },
        "bc106e682af14a6a924bf264dca61a17": {
          "model_module": "@jupyter-widgets/controls",
          "model_name": "SliderStyleModel",
          "model_module_version": "1.5.0",
          "state": {
            "_model_module": "@jupyter-widgets/controls",
            "_model_module_version": "1.5.0",
            "_model_name": "SliderStyleModel",
            "_view_count": null,
            "_view_module": "@jupyter-widgets/base",
            "_view_module_version": "1.2.0",
            "_view_name": "StyleView",
            "description_width": "",
            "handle_color": null
          }
        },
        "ee25d02e2fa342ac8fff2069df30596a": {
          "model_module": "@jupyter-widgets/base",
          "model_name": "LayoutModel",
          "model_module_version": "1.2.0",
          "state": {
            "_model_module": "@jupyter-widgets/base",
            "_model_module_version": "1.2.0",
            "_model_name": "LayoutModel",
            "_view_count": null,
            "_view_module": "@jupyter-widgets/base",
            "_view_module_version": "1.2.0",
            "_view_name": "LayoutView",
            "align_content": null,
            "align_items": null,
            "align_self": null,
            "border": null,
            "bottom": null,
            "display": null,
            "flex": null,
            "flex_flow": null,
            "grid_area": null,
            "grid_auto_columns": null,
            "grid_auto_flow": null,
            "grid_auto_rows": null,
            "grid_column": null,
            "grid_gap": null,
            "grid_row": null,
            "grid_template_areas": null,
            "grid_template_columns": null,
            "grid_template_rows": null,
            "height": null,
            "justify_content": null,
            "justify_items": null,
            "left": null,
            "margin": null,
            "max_height": null,
            "max_width": null,
            "min_height": null,
            "min_width": null,
            "object_fit": null,
            "object_position": null,
            "order": null,
            "overflow": null,
            "overflow_x": null,
            "overflow_y": null,
            "padding": null,
            "right": null,
            "top": null,
            "visibility": null,
            "width": null
          }
        },
        "8fab5d917b0d4575aa833ba2b2b54b82": {
          "model_module": "@jupyter-widgets/controls",
          "model_name": "SliderStyleModel",
          "model_module_version": "1.5.0",
          "state": {
            "_model_module": "@jupyter-widgets/controls",
            "_model_module_version": "1.5.0",
            "_model_name": "SliderStyleModel",
            "_view_count": null,
            "_view_module": "@jupyter-widgets/base",
            "_view_module_version": "1.2.0",
            "_view_name": "StyleView",
            "description_width": "",
            "handle_color": null
          }
        },
        "774cf98da0904252a5cd2b550d36808f": {
          "model_module": "@jupyter-widgets/base",
          "model_name": "LayoutModel",
          "model_module_version": "1.2.0",
          "state": {
            "_model_module": "@jupyter-widgets/base",
            "_model_module_version": "1.2.0",
            "_model_name": "LayoutModel",
            "_view_count": null,
            "_view_module": "@jupyter-widgets/base",
            "_view_module_version": "1.2.0",
            "_view_name": "LayoutView",
            "align_content": null,
            "align_items": null,
            "align_self": null,
            "border": null,
            "bottom": null,
            "display": null,
            "flex": null,
            "flex_flow": null,
            "grid_area": null,
            "grid_auto_columns": null,
            "grid_auto_flow": null,
            "grid_auto_rows": null,
            "grid_column": null,
            "grid_gap": null,
            "grid_row": null,
            "grid_template_areas": null,
            "grid_template_columns": null,
            "grid_template_rows": null,
            "height": null,
            "justify_content": null,
            "justify_items": null,
            "left": null,
            "margin": null,
            "max_height": null,
            "max_width": null,
            "min_height": null,
            "min_width": null,
            "object_fit": null,
            "object_position": null,
            "order": null,
            "overflow": null,
            "overflow_x": null,
            "overflow_y": null,
            "padding": null,
            "right": null,
            "top": null,
            "visibility": null,
            "width": null
          }
        },
        "9657ca9ec0884d38b09b549204896156": {
          "model_module": "@jupyter-widgets/controls",
          "model_name": "VBoxModel",
          "model_module_version": "1.5.0",
          "state": {
            "_dom_classes": [
              "widget-interact"
            ],
            "_model_module": "@jupyter-widgets/controls",
            "_model_module_version": "1.5.0",
            "_model_name": "VBoxModel",
            "_view_count": null,
            "_view_module": "@jupyter-widgets/controls",
            "_view_module_version": "1.5.0",
            "_view_name": "VBoxView",
            "box_style": "",
            "children": [
              "IPY_MODEL_70843b918c374ab5bf5b066a04c3bc8a",
              "IPY_MODEL_89fa9732b109436ea52a6a5f12444d9d",
              "IPY_MODEL_c80b958069d34d15a86cd32f7205dd20",
              "IPY_MODEL_27bed5d1e13b435d857160f95699cbf8"
            ],
            "layout": "IPY_MODEL_05fc8fef50b14eee8cf5139fb8bb4e84"
          }
        },
        "70843b918c374ab5bf5b066a04c3bc8a": {
          "model_module": "@jupyter-widgets/controls",
          "model_name": "FloatSliderModel",
          "model_module_version": "1.5.0",
          "state": {
            "_dom_classes": [],
            "_model_module": "@jupyter-widgets/controls",
            "_model_module_version": "1.5.0",
            "_model_name": "FloatSliderModel",
            "_view_count": null,
            "_view_module": "@jupyter-widgets/controls",
            "_view_module_version": "1.5.0",
            "_view_name": "FloatSliderView",
            "continuous_update": true,
            "description": "i_ext",
            "description_tooltip": null,
            "disabled": false,
            "layout": "IPY_MODEL_28c87f12c74641268f4c564536429956",
            "max": 0.3,
            "min": -0.2,
            "orientation": "horizontal",
            "readout": true,
            "readout_format": ".2f",
            "step": 0.1,
            "style": "IPY_MODEL_3ae2f1144abd47f2803787d0e2f90865",
            "value": 0
          }
        },
        "89fa9732b109436ea52a6a5f12444d9d": {
          "model_module": "@jupyter-widgets/controls",
          "model_name": "FloatSliderModel",
          "model_module_version": "1.5.0",
          "state": {
            "_dom_classes": [],
            "_model_module": "@jupyter-widgets/controls",
            "_model_module_version": "1.5.0",
            "_model_name": "FloatSliderModel",
            "_view_count": null,
            "_view_module": "@jupyter-widgets/controls",
            "_view_module_version": "1.5.0",
            "_view_name": "FloatSliderView",
            "continuous_update": true,
            "description": "V_thr",
            "description_tooltip": null,
            "disabled": false,
            "layout": "IPY_MODEL_cb82d2e9a69046b69d32b56f253e4a12",
            "max": 1,
            "min": 0,
            "orientation": "horizontal",
            "readout": true,
            "readout_format": ".2f",
            "step": 0.1,
            "style": "IPY_MODEL_0125c6b696584691b1db26465bceee34",
            "value": 0.2
          }
        },
        "c80b958069d34d15a86cd32f7205dd20": {
          "model_module": "@jupyter-widgets/controls",
          "model_name": "FloatSliderModel",
          "model_module_version": "1.5.0",
          "state": {
            "_dom_classes": [],
            "_model_module": "@jupyter-widgets/controls",
            "_model_module_version": "1.5.0",
            "_model_name": "FloatSliderModel",
            "_view_count": null,
            "_view_module": "@jupyter-widgets/controls",
            "_view_module_version": "1.5.0",
            "_view_name": "FloatSliderView",
            "continuous_update": true,
            "description": "beta",
            "description_tooltip": null,
            "disabled": false,
            "layout": "IPY_MODEL_3ba3b231edda441ea99374cc48085ded",
            "max": 0.5,
            "min": 0.05,
            "orientation": "horizontal",
            "readout": true,
            "readout_format": ".2f",
            "step": 0.1,
            "style": "IPY_MODEL_0842a064cc3c4e51b666513b3dd929b4",
            "value": 0.4
          }
        },
        "27bed5d1e13b435d857160f95699cbf8": {
          "model_module": "@jupyter-widgets/output",
          "model_name": "OutputModel",
          "model_module_version": "1.0.0",
          "state": {
            "_dom_classes": [],
            "_model_module": "@jupyter-widgets/output",
            "_model_module_version": "1.0.0",
            "_model_name": "OutputModel",
            "_view_count": null,
            "_view_module": "@jupyter-widgets/output",
            "_view_module_version": "1.0.0",
            "_view_name": "OutputView",
            "layout": "IPY_MODEL_332d1a15e5784853b9c5d73947c56cb6",
            "msg_id": "",
            "outputs": [
              {
                "output_type": "display_data",
                "data": {
                  "text/plain": "<Figure size 360x360 with 1 Axes>",
                  "image/png": "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\n"
                },
                "metadata": {
                  "needs_background": "light"
                }
              }
            ]
          }
        },
        "05fc8fef50b14eee8cf5139fb8bb4e84": {
          "model_module": "@jupyter-widgets/base",
          "model_name": "LayoutModel",
          "model_module_version": "1.2.0",
          "state": {
            "_model_module": "@jupyter-widgets/base",
            "_model_module_version": "1.2.0",
            "_model_name": "LayoutModel",
            "_view_count": null,
            "_view_module": "@jupyter-widgets/base",
            "_view_module_version": "1.2.0",
            "_view_name": "LayoutView",
            "align_content": null,
            "align_items": null,
            "align_self": null,
            "border": null,
            "bottom": null,
            "display": null,
            "flex": null,
            "flex_flow": null,
            "grid_area": null,
            "grid_auto_columns": null,
            "grid_auto_flow": null,
            "grid_auto_rows": null,
            "grid_column": null,
            "grid_gap": null,
            "grid_row": null,
            "grid_template_areas": null,
            "grid_template_columns": null,
            "grid_template_rows": null,
            "height": null,
            "justify_content": null,
            "justify_items": null,
            "left": null,
            "margin": null,
            "max_height": null,
            "max_width": null,
            "min_height": null,
            "min_width": null,
            "object_fit": null,
            "object_position": null,
            "order": null,
            "overflow": null,
            "overflow_x": null,
            "overflow_y": null,
            "padding": null,
            "right": null,
            "top": null,
            "visibility": null,
            "width": null
          }
        },
        "28c87f12c74641268f4c564536429956": {
          "model_module": "@jupyter-widgets/base",
          "model_name": "LayoutModel",
          "model_module_version": "1.2.0",
          "state": {
            "_model_module": "@jupyter-widgets/base",
            "_model_module_version": "1.2.0",
            "_model_name": "LayoutModel",
            "_view_count": null,
            "_view_module": "@jupyter-widgets/base",
            "_view_module_version": "1.2.0",
            "_view_name": "LayoutView",
            "align_content": null,
            "align_items": null,
            "align_self": null,
            "border": null,
            "bottom": null,
            "display": null,
            "flex": null,
            "flex_flow": null,
            "grid_area": null,
            "grid_auto_columns": null,
            "grid_auto_flow": null,
            "grid_auto_rows": null,
            "grid_column": null,
            "grid_gap": null,
            "grid_row": null,
            "grid_template_areas": null,
            "grid_template_columns": null,
            "grid_template_rows": null,
            "height": null,
            "justify_content": null,
            "justify_items": null,
            "left": null,
            "margin": null,
            "max_height": null,
            "max_width": null,
            "min_height": null,
            "min_width": null,
            "object_fit": null,
            "object_position": null,
            "order": null,
            "overflow": null,
            "overflow_x": null,
            "overflow_y": null,
            "padding": null,
            "right": null,
            "top": null,
            "visibility": null,
            "width": null
          }
        },
        "3ae2f1144abd47f2803787d0e2f90865": {
          "model_module": "@jupyter-widgets/controls",
          "model_name": "SliderStyleModel",
          "model_module_version": "1.5.0",
          "state": {
            "_model_module": "@jupyter-widgets/controls",
            "_model_module_version": "1.5.0",
            "_model_name": "SliderStyleModel",
            "_view_count": null,
            "_view_module": "@jupyter-widgets/base",
            "_view_module_version": "1.2.0",
            "_view_name": "StyleView",
            "description_width": "",
            "handle_color": null
          }
        },
        "cb82d2e9a69046b69d32b56f253e4a12": {
          "model_module": "@jupyter-widgets/base",
          "model_name": "LayoutModel",
          "model_module_version": "1.2.0",
          "state": {
            "_model_module": "@jupyter-widgets/base",
            "_model_module_version": "1.2.0",
            "_model_name": "LayoutModel",
            "_view_count": null,
            "_view_module": "@jupyter-widgets/base",
            "_view_module_version": "1.2.0",
            "_view_name": "LayoutView",
            "align_content": null,
            "align_items": null,
            "align_self": null,
            "border": null,
            "bottom": null,
            "display": null,
            "flex": null,
            "flex_flow": null,
            "grid_area": null,
            "grid_auto_columns": null,
            "grid_auto_flow": null,
            "grid_auto_rows": null,
            "grid_column": null,
            "grid_gap": null,
            "grid_row": null,
            "grid_template_areas": null,
            "grid_template_columns": null,
            "grid_template_rows": null,
            "height": null,
            "justify_content": null,
            "justify_items": null,
            "left": null,
            "margin": null,
            "max_height": null,
            "max_width": null,
            "min_height": null,
            "min_width": null,
            "object_fit": null,
            "object_position": null,
            "order": null,
            "overflow": null,
            "overflow_x": null,
            "overflow_y": null,
            "padding": null,
            "right": null,
            "top": null,
            "visibility": null,
            "width": null
          }
        },
        "0125c6b696584691b1db26465bceee34": {
          "model_module": "@jupyter-widgets/controls",
          "model_name": "SliderStyleModel",
          "model_module_version": "1.5.0",
          "state": {
            "_model_module": "@jupyter-widgets/controls",
            "_model_module_version": "1.5.0",
            "_model_name": "SliderStyleModel",
            "_view_count": null,
            "_view_module": "@jupyter-widgets/base",
            "_view_module_version": "1.2.0",
            "_view_name": "StyleView",
            "description_width": "",
            "handle_color": null
          }
        },
        "3ba3b231edda441ea99374cc48085ded": {
          "model_module": "@jupyter-widgets/base",
          "model_name": "LayoutModel",
          "model_module_version": "1.2.0",
          "state": {
            "_model_module": "@jupyter-widgets/base",
            "_model_module_version": "1.2.0",
            "_model_name": "LayoutModel",
            "_view_count": null,
            "_view_module": "@jupyter-widgets/base",
            "_view_module_version": "1.2.0",
            "_view_name": "LayoutView",
            "align_content": null,
            "align_items": null,
            "align_self": null,
            "border": null,
            "bottom": null,
            "display": null,
            "flex": null,
            "flex_flow": null,
            "grid_area": null,
            "grid_auto_columns": null,
            "grid_auto_flow": null,
            "grid_auto_rows": null,
            "grid_column": null,
            "grid_gap": null,
            "grid_row": null,
            "grid_template_areas": null,
            "grid_template_columns": null,
            "grid_template_rows": null,
            "height": null,
            "justify_content": null,
            "justify_items": null,
            "left": null,
            "margin": null,
            "max_height": null,
            "max_width": null,
            "min_height": null,
            "min_width": null,
            "object_fit": null,
            "object_position": null,
            "order": null,
            "overflow": null,
            "overflow_x": null,
            "overflow_y": null,
            "padding": null,
            "right": null,
            "top": null,
            "visibility": null,
            "width": null
          }
        },
        "0842a064cc3c4e51b666513b3dd929b4": {
          "model_module": "@jupyter-widgets/controls",
          "model_name": "SliderStyleModel",
          "model_module_version": "1.5.0",
          "state": {
            "_model_module": "@jupyter-widgets/controls",
            "_model_module_version": "1.5.0",
            "_model_name": "SliderStyleModel",
            "_view_count": null,
            "_view_module": "@jupyter-widgets/base",
            "_view_module_version": "1.2.0",
            "_view_name": "StyleView",
            "description_width": "",
            "handle_color": null
          }
        },
        "332d1a15e5784853b9c5d73947c56cb6": {
          "model_module": "@jupyter-widgets/base",
          "model_name": "LayoutModel",
          "model_module_version": "1.2.0",
          "state": {
            "_model_module": "@jupyter-widgets/base",
            "_model_module_version": "1.2.0",
            "_model_name": "LayoutModel",
            "_view_count": null,
            "_view_module": "@jupyter-widgets/base",
            "_view_module_version": "1.2.0",
            "_view_name": "LayoutView",
            "align_content": null,
            "align_items": null,
            "align_self": null,
            "border": null,
            "bottom": null,
            "display": null,
            "flex": null,
            "flex_flow": null,
            "grid_area": null,
            "grid_auto_columns": null,
            "grid_auto_flow": null,
            "grid_auto_rows": null,
            "grid_column": null,
            "grid_gap": null,
            "grid_row": null,
            "grid_template_areas": null,
            "grid_template_columns": null,
            "grid_template_rows": null,
            "height": null,
            "justify_content": null,
            "justify_items": null,
            "left": null,
            "margin": null,
            "max_height": null,
            "max_width": null,
            "min_height": null,
            "min_width": null,
            "object_fit": null,
            "object_position": null,
            "order": null,
            "overflow": null,
            "overflow_x": null,
            "overflow_y": null,
            "padding": null,
            "right": null,
            "top": null,
            "visibility": null,
            "width": null
          }
        },
        "04115101fdaf4f85ac4cbeed13341c6c": {
          "model_module": "@jupyter-widgets/controls",
          "model_name": "VBoxModel",
          "model_module_version": "1.5.0",
          "state": {
            "_dom_classes": [
              "widget-interact"
            ],
            "_model_module": "@jupyter-widgets/controls",
            "_model_module_version": "1.5.0",
            "_model_name": "VBoxModel",
            "_view_count": null,
            "_view_module": "@jupyter-widgets/controls",
            "_view_module_version": "1.5.0",
            "_view_name": "VBoxView",
            "box_style": "",
            "children": [
              "IPY_MODEL_5d306d3eba804558ac4ee9699f413b1f",
              "IPY_MODEL_6e613b8eca7c41d2ab349ddf3b8822b9",
              "IPY_MODEL_e5c5b70e75d2458ca63f838f05821a38",
              "IPY_MODEL_46712fae2b8e4560a26d9874696d4b3f"
            ],
            "layout": "IPY_MODEL_4c4048c4d63a44b18e7750c8f544928e"
          }
        },
        "5d306d3eba804558ac4ee9699f413b1f": {
          "model_module": "@jupyter-widgets/controls",
          "model_name": "FloatSliderModel",
          "model_module_version": "1.5.0",
          "state": {
            "_dom_classes": [],
            "_model_module": "@jupyter-widgets/controls",
            "_model_module_version": "1.5.0",
            "_model_name": "FloatSliderModel",
            "_view_count": null,
            "_view_module": "@jupyter-widgets/controls",
            "_view_module_version": "1.5.0",
            "_view_name": "FloatSliderView",
            "continuous_update": true,
            "description": "i_ext",
            "description_tooltip": null,
            "disabled": false,
            "layout": "IPY_MODEL_a3f655e27f604e65b0c6a06c82306689",
            "max": 0.3,
            "min": -0.2,
            "orientation": "horizontal",
            "readout": true,
            "readout_format": ".2f",
            "step": 0.01,
            "style": "IPY_MODEL_f1697c7430c145d598c822735ecb4ad2",
            "value": 0.1
          }
        },
        "6e613b8eca7c41d2ab349ddf3b8822b9": {
          "model_module": "@jupyter-widgets/controls",
          "model_name": "FloatSliderModel",
          "model_module_version": "1.5.0",
          "state": {
            "_dom_classes": [],
            "_model_module": "@jupyter-widgets/controls",
            "_model_module_version": "1.5.0",
            "_model_name": "FloatSliderModel",
            "_view_count": null,
            "_view_module": "@jupyter-widgets/controls",
            "_view_module_version": "1.5.0",
            "_view_name": "FloatSliderView",
            "continuous_update": true,
            "description": "V_thr",
            "description_tooltip": null,
            "disabled": false,
            "layout": "IPY_MODEL_f37f1a1be8924f0495ba86a6576eb40d",
            "max": 1,
            "min": 0,
            "orientation": "horizontal",
            "readout": true,
            "readout_format": ".2f",
            "step": 0.1,
            "style": "IPY_MODEL_dcf389b54cd7493785f2ceea441f7289",
            "value": 0.2
          }
        },
        "e5c5b70e75d2458ca63f838f05821a38": {
          "model_module": "@jupyter-widgets/controls",
          "model_name": "FloatSliderModel",
          "model_module_version": "1.5.0",
          "state": {
            "_dom_classes": [],
            "_model_module": "@jupyter-widgets/controls",
            "_model_module_version": "1.5.0",
            "_model_name": "FloatSliderModel",
            "_view_count": null,
            "_view_module": "@jupyter-widgets/controls",
            "_view_module_version": "1.5.0",
            "_view_name": "FloatSliderView",
            "continuous_update": true,
            "description": "beta",
            "description_tooltip": null,
            "disabled": false,
            "layout": "IPY_MODEL_98537d4fab9f4393a2268fa493bfd5a0",
            "max": 0.5,
            "min": 0.05,
            "orientation": "horizontal",
            "readout": true,
            "readout_format": ".2f",
            "step": 0.01,
            "style": "IPY_MODEL_6e0ec37657d741609d6bb39f00c05344",
            "value": 0.37
          }
        },
        "46712fae2b8e4560a26d9874696d4b3f": {
          "model_module": "@jupyter-widgets/output",
          "model_name": "OutputModel",
          "model_module_version": "1.0.0",
          "state": {
            "_dom_classes": [],
            "_model_module": "@jupyter-widgets/output",
            "_model_module_version": "1.0.0",
            "_model_name": "OutputModel",
            "_view_count": null,
            "_view_module": "@jupyter-widgets/output",
            "_view_module_version": "1.0.0",
            "_view_name": "OutputView",
            "layout": "IPY_MODEL_c326167b7442423fb13644c652c56c2d",
            "msg_id": "",
            "outputs": [
              {
                "output_type": "display_data",
                "data": {
                  "text/plain": "<Figure size 360x360 with 1 Axes>",
                  "image/png": "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\n"
                },
                "metadata": {
                  "needs_background": "light"
                }
              }
            ]
          }
        },
        "4c4048c4d63a44b18e7750c8f544928e": {
          "model_module": "@jupyter-widgets/base",
          "model_name": "LayoutModel",
          "model_module_version": "1.2.0",
          "state": {
            "_model_module": "@jupyter-widgets/base",
            "_model_module_version": "1.2.0",
            "_model_name": "LayoutModel",
            "_view_count": null,
            "_view_module": "@jupyter-widgets/base",
            "_view_module_version": "1.2.0",
            "_view_name": "LayoutView",
            "align_content": null,
            "align_items": null,
            "align_self": null,
            "border": null,
            "bottom": null,
            "display": null,
            "flex": null,
            "flex_flow": null,
            "grid_area": null,
            "grid_auto_columns": null,
            "grid_auto_flow": null,
            "grid_auto_rows": null,
            "grid_column": null,
            "grid_gap": null,
            "grid_row": null,
            "grid_template_areas": null,
            "grid_template_columns": null,
            "grid_template_rows": null,
            "height": null,
            "justify_content": null,
            "justify_items": null,
            "left": null,
            "margin": null,
            "max_height": null,
            "max_width": null,
            "min_height": null,
            "min_width": null,
            "object_fit": null,
            "object_position": null,
            "order": null,
            "overflow": null,
            "overflow_x": null,
            "overflow_y": null,
            "padding": null,
            "right": null,
            "top": null,
            "visibility": null,
            "width": null
          }
        },
        "a3f655e27f604e65b0c6a06c82306689": {
          "model_module": "@jupyter-widgets/base",
          "model_name": "LayoutModel",
          "model_module_version": "1.2.0",
          "state": {
            "_model_module": "@jupyter-widgets/base",
            "_model_module_version": "1.2.0",
            "_model_name": "LayoutModel",
            "_view_count": null,
            "_view_module": "@jupyter-widgets/base",
            "_view_module_version": "1.2.0",
            "_view_name": "LayoutView",
            "align_content": null,
            "align_items": null,
            "align_self": null,
            "border": null,
            "bottom": null,
            "display": null,
            "flex": null,
            "flex_flow": null,
            "grid_area": null,
            "grid_auto_columns": null,
            "grid_auto_flow": null,
            "grid_auto_rows": null,
            "grid_column": null,
            "grid_gap": null,
            "grid_row": null,
            "grid_template_areas": null,
            "grid_template_columns": null,
            "grid_template_rows": null,
            "height": null,
            "justify_content": null,
            "justify_items": null,
            "left": null,
            "margin": null,
            "max_height": null,
            "max_width": null,
            "min_height": null,
            "min_width": null,
            "object_fit": null,
            "object_position": null,
            "order": null,
            "overflow": null,
            "overflow_x": null,
            "overflow_y": null,
            "padding": null,
            "right": null,
            "top": null,
            "visibility": null,
            "width": null
          }
        },
        "f1697c7430c145d598c822735ecb4ad2": {
          "model_module": "@jupyter-widgets/controls",
          "model_name": "SliderStyleModel",
          "model_module_version": "1.5.0",
          "state": {
            "_model_module": "@jupyter-widgets/controls",
            "_model_module_version": "1.5.0",
            "_model_name": "SliderStyleModel",
            "_view_count": null,
            "_view_module": "@jupyter-widgets/base",
            "_view_module_version": "1.2.0",
            "_view_name": "StyleView",
            "description_width": "",
            "handle_color": null
          }
        },
        "f37f1a1be8924f0495ba86a6576eb40d": {
          "model_module": "@jupyter-widgets/base",
          "model_name": "LayoutModel",
          "model_module_version": "1.2.0",
          "state": {
            "_model_module": "@jupyter-widgets/base",
            "_model_module_version": "1.2.0",
            "_model_name": "LayoutModel",
            "_view_count": null,
            "_view_module": "@jupyter-widgets/base",
            "_view_module_version": "1.2.0",
            "_view_name": "LayoutView",
            "align_content": null,
            "align_items": null,
            "align_self": null,
            "border": null,
            "bottom": null,
            "display": null,
            "flex": null,
            "flex_flow": null,
            "grid_area": null,
            "grid_auto_columns": null,
            "grid_auto_flow": null,
            "grid_auto_rows": null,
            "grid_column": null,
            "grid_gap": null,
            "grid_row": null,
            "grid_template_areas": null,
            "grid_template_columns": null,
            "grid_template_rows": null,
            "height": null,
            "justify_content": null,
            "justify_items": null,
            "left": null,
            "margin": null,
            "max_height": null,
            "max_width": null,
            "min_height": null,
            "min_width": null,
            "object_fit": null,
            "object_position": null,
            "order": null,
            "overflow": null,
            "overflow_x": null,
            "overflow_y": null,
            "padding": null,
            "right": null,
            "top": null,
            "visibility": null,
            "width": null
          }
        },
        "dcf389b54cd7493785f2ceea441f7289": {
          "model_module": "@jupyter-widgets/controls",
          "model_name": "SliderStyleModel",
          "model_module_version": "1.5.0",
          "state": {
            "_model_module": "@jupyter-widgets/controls",
            "_model_module_version": "1.5.0",
            "_model_name": "SliderStyleModel",
            "_view_count": null,
            "_view_module": "@jupyter-widgets/base",
            "_view_module_version": "1.2.0",
            "_view_name": "StyleView",
            "description_width": "",
            "handle_color": null
          }
        },
        "98537d4fab9f4393a2268fa493bfd5a0": {
          "model_module": "@jupyter-widgets/base",
          "model_name": "LayoutModel",
          "model_module_version": "1.2.0",
          "state": {
            "_model_module": "@jupyter-widgets/base",
            "_model_module_version": "1.2.0",
            "_model_name": "LayoutModel",
            "_view_count": null,
            "_view_module": "@jupyter-widgets/base",
            "_view_module_version": "1.2.0",
            "_view_name": "LayoutView",
            "align_content": null,
            "align_items": null,
            "align_self": null,
            "border": null,
            "bottom": null,
            "display": null,
            "flex": null,
            "flex_flow": null,
            "grid_area": null,
            "grid_auto_columns": null,
            "grid_auto_flow": null,
            "grid_auto_rows": null,
            "grid_column": null,
            "grid_gap": null,
            "grid_row": null,
            "grid_template_areas": null,
            "grid_template_columns": null,
            "grid_template_rows": null,
            "height": null,
            "justify_content": null,
            "justify_items": null,
            "left": null,
            "margin": null,
            "max_height": null,
            "max_width": null,
            "min_height": null,
            "min_width": null,
            "object_fit": null,
            "object_position": null,
            "order": null,
            "overflow": null,
            "overflow_x": null,
            "overflow_y": null,
            "padding": null,
            "right": null,
            "top": null,
            "visibility": null,
            "width": null
          }
        },
        "6e0ec37657d741609d6bb39f00c05344": {
          "model_module": "@jupyter-widgets/controls",
          "model_name": "SliderStyleModel",
          "model_module_version": "1.5.0",
          "state": {
            "_model_module": "@jupyter-widgets/controls",
            "_model_module_version": "1.5.0",
            "_model_name": "SliderStyleModel",
            "_view_count": null,
            "_view_module": "@jupyter-widgets/base",
            "_view_module_version": "1.2.0",
            "_view_name": "StyleView",
            "description_width": "",
            "handle_color": null
          }
        },
        "c326167b7442423fb13644c652c56c2d": {
          "model_module": "@jupyter-widgets/base",
          "model_name": "LayoutModel",
          "model_module_version": "1.2.0",
          "state": {
            "_model_module": "@jupyter-widgets/base",
            "_model_module_version": "1.2.0",
            "_model_name": "LayoutModel",
            "_view_count": null,
            "_view_module": "@jupyter-widgets/base",
            "_view_module_version": "1.2.0",
            "_view_name": "LayoutView",
            "align_content": null,
            "align_items": null,
            "align_self": null,
            "border": null,
            "bottom": null,
            "display": null,
            "flex": null,
            "flex_flow": null,
            "grid_area": null,
            "grid_auto_columns": null,
            "grid_auto_flow": null,
            "grid_auto_rows": null,
            "grid_column": null,
            "grid_gap": null,
            "grid_row": null,
            "grid_template_areas": null,
            "grid_template_columns": null,
            "grid_template_rows": null,
            "height": null,
            "justify_content": null,
            "justify_items": null,
            "left": null,
            "margin": null,
            "max_height": null,
            "max_width": null,
            "min_height": null,
            "min_width": null,
            "object_fit": null,
            "object_position": null,
            "order": null,
            "overflow": null,
            "overflow_x": null,
            "overflow_y": null,
            "padding": null,
            "right": null,
            "top": null,
            "visibility": null,
            "width": null
          }
        },
        "19d2dcb5d89b45378c472e3701d69f62": {
          "model_module": "@jupyter-widgets/controls",
          "model_name": "VBoxModel",
          "model_module_version": "1.5.0",
          "state": {
            "_dom_classes": [
              "widget-interact"
            ],
            "_model_module": "@jupyter-widgets/controls",
            "_model_module_version": "1.5.0",
            "_model_name": "VBoxModel",
            "_view_count": null,
            "_view_module": "@jupyter-widgets/controls",
            "_view_module_version": "1.5.0",
            "_view_name": "VBoxView",
            "box_style": "",
            "children": [
              "IPY_MODEL_adf98bd64d4b4a1e80066a7f343eb104",
              "IPY_MODEL_7a5ef594c864450c9c51569ae81769f3",
              "IPY_MODEL_75db7e0d731e41d28f68675092c8bd23",
              "IPY_MODEL_f3bdf382fcd44953a5461b35f14b9bb6"
            ],
            "layout": "IPY_MODEL_fb36d07f43d243918f5d392224ea4c21"
          }
        },
        "adf98bd64d4b4a1e80066a7f343eb104": {
          "model_module": "@jupyter-widgets/controls",
          "model_name": "FloatSliderModel",
          "model_module_version": "1.5.0",
          "state": {
            "_dom_classes": [],
            "_model_module": "@jupyter-widgets/controls",
            "_model_module_version": "1.5.0",
            "_model_name": "FloatSliderModel",
            "_view_count": null,
            "_view_module": "@jupyter-widgets/controls",
            "_view_module_version": "1.5.0",
            "_view_name": "FloatSliderView",
            "continuous_update": true,
            "description": "i_ext",
            "description_tooltip": null,
            "disabled": false,
            "layout": "IPY_MODEL_cc6372ddb8f64feba44b2002f8c0f1af",
            "max": 0.3,
            "min": -0.2,
            "orientation": "horizontal",
            "readout": true,
            "readout_format": ".2f",
            "step": 0.01,
            "style": "IPY_MODEL_c464ec0be349488d88510297612e240d",
            "value": 0.1
          }
        },
        "7a5ef594c864450c9c51569ae81769f3": {
          "model_module": "@jupyter-widgets/controls",
          "model_name": "FloatSliderModel",
          "model_module_version": "1.5.0",
          "state": {
            "_dom_classes": [],
            "_model_module": "@jupyter-widgets/controls",
            "_model_module_version": "1.5.0",
            "_model_name": "FloatSliderModel",
            "_view_count": null,
            "_view_module": "@jupyter-widgets/controls",
            "_view_module_version": "1.5.0",
            "_view_name": "FloatSliderView",
            "continuous_update": true,
            "description": "V_thr",
            "description_tooltip": null,
            "disabled": false,
            "layout": "IPY_MODEL_4559049822d745b683526388f657e17a",
            "max": 1,
            "min": 0,
            "orientation": "horizontal",
            "readout": true,
            "readout_format": ".2f",
            "step": 0.1,
            "style": "IPY_MODEL_66e5f5123fc448a5adcbbf7d51620c89",
            "value": 0.4
          }
        },
        "75db7e0d731e41d28f68675092c8bd23": {
          "model_module": "@jupyter-widgets/controls",
          "model_name": "FloatSliderModel",
          "model_module_version": "1.5.0",
          "state": {
            "_dom_classes": [],
            "_model_module": "@jupyter-widgets/controls",
            "_model_module_version": "1.5.0",
            "_model_name": "FloatSliderModel",
            "_view_count": null,
            "_view_module": "@jupyter-widgets/controls",
            "_view_module_version": "1.5.0",
            "_view_name": "FloatSliderView",
            "continuous_update": true,
            "description": "beta",
            "description_tooltip": null,
            "disabled": false,
            "layout": "IPY_MODEL_905f5df72a044c15bbbce01ca3692f66",
            "max": 0.5,
            "min": 0.05,
            "orientation": "horizontal",
            "readout": true,
            "readout_format": ".2f",
            "step": 0.01,
            "style": "IPY_MODEL_ae34430e50fa48208ad907a7240bacd7",
            "value": 0.28
          }
        },
        "f3bdf382fcd44953a5461b35f14b9bb6": {
          "model_module": "@jupyter-widgets/output",
          "model_name": "OutputModel",
          "model_module_version": "1.0.0",
          "state": {
            "_dom_classes": [],
            "_model_module": "@jupyter-widgets/output",
            "_model_module_version": "1.0.0",
            "_model_name": "OutputModel",
            "_view_count": null,
            "_view_module": "@jupyter-widgets/output",
            "_view_module_version": "1.0.0",
            "_view_name": "OutputView",
            "layout": "IPY_MODEL_7e2391cf0a134bb28ad0303547c8ad9e",
            "msg_id": "",
            "outputs": [
              {
                "output_type": "display_data",
                "data": {
                  "text/plain": "<Figure size 1080x360 with 2 Axes>",
                  "image/png": "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\n"
                },
                "metadata": {
                  "needs_background": "light"
                }
              }
            ]
          }
        },
        "fb36d07f43d243918f5d392224ea4c21": {
          "model_module": "@jupyter-widgets/base",
          "model_name": "LayoutModel",
          "model_module_version": "1.2.0",
          "state": {
            "_model_module": "@jupyter-widgets/base",
            "_model_module_version": "1.2.0",
            "_model_name": "LayoutModel",
            "_view_count": null,
            "_view_module": "@jupyter-widgets/base",
            "_view_module_version": "1.2.0",
            "_view_name": "LayoutView",
            "align_content": null,
            "align_items": null,
            "align_self": null,
            "border": null,
            "bottom": null,
            "display": null,
            "flex": null,
            "flex_flow": null,
            "grid_area": null,
            "grid_auto_columns": null,
            "grid_auto_flow": null,
            "grid_auto_rows": null,
            "grid_column": null,
            "grid_gap": null,
            "grid_row": null,
            "grid_template_areas": null,
            "grid_template_columns": null,
            "grid_template_rows": null,
            "height": null,
            "justify_content": null,
            "justify_items": null,
            "left": null,
            "margin": null,
            "max_height": null,
            "max_width": null,
            "min_height": null,
            "min_width": null,
            "object_fit": null,
            "object_position": null,
            "order": null,
            "overflow": null,
            "overflow_x": null,
            "overflow_y": null,
            "padding": null,
            "right": null,
            "top": null,
            "visibility": null,
            "width": null
          }
        },
        "cc6372ddb8f64feba44b2002f8c0f1af": {
          "model_module": "@jupyter-widgets/base",
          "model_name": "LayoutModel",
          "model_module_version": "1.2.0",
          "state": {
            "_model_module": "@jupyter-widgets/base",
            "_model_module_version": "1.2.0",
            "_model_name": "LayoutModel",
            "_view_count": null,
            "_view_module": "@jupyter-widgets/base",
            "_view_module_version": "1.2.0",
            "_view_name": "LayoutView",
            "align_content": null,
            "align_items": null,
            "align_self": null,
            "border": null,
            "bottom": null,
            "display": null,
            "flex": null,
            "flex_flow": null,
            "grid_area": null,
            "grid_auto_columns": null,
            "grid_auto_flow": null,
            "grid_auto_rows": null,
            "grid_column": null,
            "grid_gap": null,
            "grid_row": null,
            "grid_template_areas": null,
            "grid_template_columns": null,
            "grid_template_rows": null,
            "height": null,
            "justify_content": null,
            "justify_items": null,
            "left": null,
            "margin": null,
            "max_height": null,
            "max_width": null,
            "min_height": null,
            "min_width": null,
            "object_fit": null,
            "object_position": null,
            "order": null,
            "overflow": null,
            "overflow_x": null,
            "overflow_y": null,
            "padding": null,
            "right": null,
            "top": null,
            "visibility": null,
            "width": null
          }
        },
        "c464ec0be349488d88510297612e240d": {
          "model_module": "@jupyter-widgets/controls",
          "model_name": "SliderStyleModel",
          "model_module_version": "1.5.0",
          "state": {
            "_model_module": "@jupyter-widgets/controls",
            "_model_module_version": "1.5.0",
            "_model_name": "SliderStyleModel",
            "_view_count": null,
            "_view_module": "@jupyter-widgets/base",
            "_view_module_version": "1.2.0",
            "_view_name": "StyleView",
            "description_width": "",
            "handle_color": null
          }
        },
        "4559049822d745b683526388f657e17a": {
          "model_module": "@jupyter-widgets/base",
          "model_name": "LayoutModel",
          "model_module_version": "1.2.0",
          "state": {
            "_model_module": "@jupyter-widgets/base",
            "_model_module_version": "1.2.0",
            "_model_name": "LayoutModel",
            "_view_count": null,
            "_view_module": "@jupyter-widgets/base",
            "_view_module_version": "1.2.0",
            "_view_name": "LayoutView",
            "align_content": null,
            "align_items": null,
            "align_self": null,
            "border": null,
            "bottom": null,
            "display": null,
            "flex": null,
            "flex_flow": null,
            "grid_area": null,
            "grid_auto_columns": null,
            "grid_auto_flow": null,
            "grid_auto_rows": null,
            "grid_column": null,
            "grid_gap": null,
            "grid_row": null,
            "grid_template_areas": null,
            "grid_template_columns": null,
            "grid_template_rows": null,
            "height": null,
            "justify_content": null,
            "justify_items": null,
            "left": null,
            "margin": null,
            "max_height": null,
            "max_width": null,
            "min_height": null,
            "min_width": null,
            "object_fit": null,
            "object_position": null,
            "order": null,
            "overflow": null,
            "overflow_x": null,
            "overflow_y": null,
            "padding": null,
            "right": null,
            "top": null,
            "visibility": null,
            "width": null
          }
        },
        "66e5f5123fc448a5adcbbf7d51620c89": {
          "model_module": "@jupyter-widgets/controls",
          "model_name": "SliderStyleModel",
          "model_module_version": "1.5.0",
          "state": {
            "_model_module": "@jupyter-widgets/controls",
            "_model_module_version": "1.5.0",
            "_model_name": "SliderStyleModel",
            "_view_count": null,
            "_view_module": "@jupyter-widgets/base",
            "_view_module_version": "1.2.0",
            "_view_name": "StyleView",
            "description_width": "",
            "handle_color": null
          }
        },
        "905f5df72a044c15bbbce01ca3692f66": {
          "model_module": "@jupyter-widgets/base",
          "model_name": "LayoutModel",
          "model_module_version": "1.2.0",
          "state": {
            "_model_module": "@jupyter-widgets/base",
            "_model_module_version": "1.2.0",
            "_model_name": "LayoutModel",
            "_view_count": null,
            "_view_module": "@jupyter-widgets/base",
            "_view_module_version": "1.2.0",
            "_view_name": "LayoutView",
            "align_content": null,
            "align_items": null,
            "align_self": null,
            "border": null,
            "bottom": null,
            "display": null,
            "flex": null,
            "flex_flow": null,
            "grid_area": null,
            "grid_auto_columns": null,
            "grid_auto_flow": null,
            "grid_auto_rows": null,
            "grid_column": null,
            "grid_gap": null,
            "grid_row": null,
            "grid_template_areas": null,
            "grid_template_columns": null,
            "grid_template_rows": null,
            "height": null,
            "justify_content": null,
            "justify_items": null,
            "left": null,
            "margin": null,
            "max_height": null,
            "max_width": null,
            "min_height": null,
            "min_width": null,
            "object_fit": null,
            "object_position": null,
            "order": null,
            "overflow": null,
            "overflow_x": null,
            "overflow_y": null,
            "padding": null,
            "right": null,
            "top": null,
            "visibility": null,
            "width": null
          }
        },
        "ae34430e50fa48208ad907a7240bacd7": {
          "model_module": "@jupyter-widgets/controls",
          "model_name": "SliderStyleModel",
          "model_module_version": "1.5.0",
          "state": {
            "_model_module": "@jupyter-widgets/controls",
            "_model_module_version": "1.5.0",
            "_model_name": "SliderStyleModel",
            "_view_count": null,
            "_view_module": "@jupyter-widgets/base",
            "_view_module_version": "1.2.0",
            "_view_name": "StyleView",
            "description_width": "",
            "handle_color": null
          }
        },
        "7e2391cf0a134bb28ad0303547c8ad9e": {
          "model_module": "@jupyter-widgets/base",
          "model_name": "LayoutModel",
          "model_module_version": "1.2.0",
          "state": {
            "_model_module": "@jupyter-widgets/base",
            "_model_module_version": "1.2.0",
            "_model_name": "LayoutModel",
            "_view_count": null,
            "_view_module": "@jupyter-widgets/base",
            "_view_module_version": "1.2.0",
            "_view_name": "LayoutView",
            "align_content": null,
            "align_items": null,
            "align_self": null,
            "border": null,
            "bottom": null,
            "display": null,
            "flex": null,
            "flex_flow": null,
            "grid_area": null,
            "grid_auto_columns": null,
            "grid_auto_flow": null,
            "grid_auto_rows": null,
            "grid_column": null,
            "grid_gap": null,
            "grid_row": null,
            "grid_template_areas": null,
            "grid_template_columns": null,
            "grid_template_rows": null,
            "height": null,
            "justify_content": null,
            "justify_items": null,
            "left": null,
            "margin": null,
            "max_height": null,
            "max_width": null,
            "min_height": null,
            "min_width": null,
            "object_fit": null,
            "object_position": null,
            "order": null,
            "overflow": null,
            "overflow_x": null,
            "overflow_y": null,
            "padding": null,
            "right": null,
            "top": null,
            "visibility": null,
            "width": null
          }
        }
      }
    }
  },
  "cells": [
    {
      "cell_type": "markdown",
      "metadata": {
        "id": "view-in-github",
        "colab_type": "text"
      },
      "source": [
        "<a href=\"https://colab.research.google.com/github/NinelK/SA_DS_tutorial/blob/main/DS_tutorial_Parts_1_2_SOLUTIONS.ipynb\" target=\"_parent\"><img src=\"https://colab.research.google.com/assets/colab-badge.svg\" alt=\"Open In Colab\"/></a>"
      ]
    },
    {
      "cell_type": "markdown",
      "source": [
        "# **Tutorial:** Dynamical systems in neuroscience"
      ],
      "metadata": {
        "id": "9S_38ayWhm5W"
      }
    },
    {
      "cell_type": "markdown",
      "source": [
        "## Introduction\n",
        "\n",
        "Dynamical systems are systems that **evolve** in time. These can be physical systems, economic systems, neurons, neural networks or the whole brain. No matter what the system is, the universal dynamical system framework can help us understand its time-dependent behavior.\n",
        "\n",
        "When modelling dynamics, we can represent time in two different ways: *discrete* or *continuous*. In both cases, we can write down the evolution of the system as a function of its previous `state' $\\mathbf{x}$ and external inputs that the system receives $\\mathbf{u}$:\n",
        "\n",
        "Discrete time systems               |           Continuous time systems\n",
        "------------------------------------|-------------------------------------\n",
        " $$\\mathbf{x}_{t+1} = F_d(\\mathbf{x}_t,\\mathbf{u}_t)$$           |    $$\\frac{d\\mathbf{x}(t)}{dt} = F_c(\\mathbf{x}(t),\\mathbf{u}(t))$$\n",
        " \n",
        "*Notation:* The variables in **bold** here correspond to vectors, e.g. $\\mathbf{x} = (x_1,x_2,\\ldots,x_n)^T$.\n",
        "\n",
        "Here, the state $\\mathbf{x}$ can, for instance, correspont to neural firing. In discrete case, $\\mathbf{x}_t$ would be the number of spikes emmited within one time bin, while $\\mathbf{x}(t)$ could be a function which is only non-zero at spike times.\n",
        "External inputs $\\mathbf{u}$ in this case would correspond to the inputs from other neurons.\n",
        "\n",
        "The key part of the dynamical systems framework is the **evolution operator** $F$. Whether continuous $F_c$ or discrete $F_d$, it can tell us a lot about the system:\n",
        "> The power of the dynamical systems approach to neuroscience, as well as to many other sciences, is that we can tell something, or many things, about a system without knowing all the details that govern the system evolution. We do not even use equations to do that! Some may even wonder why we call it a mathematical theory.        *Eugene Izhikevich [1]*\n",
        "\n",
        "Therefore, the main goal of the tutorial is to learn how to tell something about the dynamical system knowing $F$."
      ],
      "metadata": {
        "id": "5lSgytL2f3OV"
      }
    },
    {
      "cell_type": "markdown",
      "source": [
        "# Part 1: Autonomous linear dynamical systems (LDS)"
      ],
      "metadata": {
        "id": "N_XDFK9Xe9Sj"
      }
    },
    {
      "cell_type": "markdown",
      "source": [
        "Sometimes, we can assume that the system does not receive any external inputs and evolves in time on its own ( $u(t)=0$ ). Such dynamical systems are called **autonomous**. Autonomous systems are common in physics, but also surprisingly applicable to some biological neural networks, as we will see in the last part of the tutorial. Lack of external inputs greatly simplifies the analysis of the dynamics $F$, so let us assume **no** external inputs for now.\n",
        "\n",
        "As a warmup, let us start with a 1D autonomous continuous-time dynamical system:\n",
        "\n",
        "$\\frac{dx}{dt} = \\dot x = a x; \\qquad x(0) = x_0 \\tag{1} $\n",
        "\n",
        "We are looking at a so-called *initial value problem* here: we know the state of the system $x_0$ at $t=0$, but we want to make a forcast into the future and find $x(t)$ for $t>0$."
      ],
      "metadata": {
        "id": "1-CiIYrZ9wCc"
      }
    },
    {
      "cell_type": "markdown",
      "source": [
        "## **Exercise 1:** Solving a 1D linear dynamics equation\n",
        "Let us solve equation (1) both numerically and analytically.\n",
        "\n",
        "For numerical integration, we will use the *forward Euler* scheme:\n",
        "\n",
        "$$\\frac{dx}{dt} \\approx \\frac{\\Delta x}{\\Delta t} = \\frac{x_{n+1} - x_n}{\\Delta t} \\tag{2}$$\n",
        "\n",
        "Complete the missing lines in the code below. Does analytical solution match the numerical solution? "
      ],
      "metadata": {
        "id": "5ONwZE8bH5jr"
      }
    },
    {
      "cell_type": "code",
      "source": [
        "from functools import partial\n",
        "import matplotlib.pyplot as plt\n",
        "import numpy as np\n",
        "import ipywidgets as widgets       # interactive display\n",
        "from matplotlib import rcParams\n",
        "rcParams.update({'font.size': 18})\n",
        "\n",
        "def analytical_1D_solution(x0,a,t):\n",
        "  ''' Finds a solution of x' = ax, for x(t), given x(0) = x0 '''\n",
        "  xt = x0 * np.exp(a*t) # 2remove\n",
        "  return xt\n",
        "\n",
        "def numerical_1D_solution(x0,a,t,dt=0.001):\n",
        "  ''' Integrates x' = ax using a forward Euler scheme, given x(0) = x0;\n",
        "  Returns x(t) '''\n",
        "  N = int(t//dt) # number of integration steps #2remove\n",
        "  xn = x0 # current value of x_n\n",
        "  for n in range(N):\n",
        "    x_n_plus_1 = xn + a*xn*dt # write a discretized update rule following (1-2) #2remove\n",
        "    xn = x_n_plus_1  \n",
        "  return xn\n",
        "\n",
        "T = 1 # total duration\n",
        "n_plot = 10 # how many points to plot\n",
        "\n",
        "@widgets.interact\n",
        "def plot_1D_solutions(x0 = 1., \n",
        "                      a = widgets.FloatSlider(min=-2., max=2., step=1, value=1),\n",
        "                      dt = widgets.FloatLogSlider(min=-3, max=-1, value=.01)):\n",
        "  a = a if type(a)==float else a.value\n",
        "  dt = dt if type(dt)==float else dt.value\n",
        "  plt.figure()\n",
        "  time = np.linspace(0,T,n_plot)\n",
        "  plt.plot(time, [analytical_1D_solution(x0,a,t) for t in time],label='Analytical solution')\n",
        "  plt.plot(time, [numerical_1D_solution(x0,a,t,dt) for t in time],label='Numerical solution')\n",
        "  plt.xlim([0,T])\n",
        "  plt.ylim([-5,5])\n",
        "  plt.axhline(0,c='k',linestyle=':')\n",
        "  plt.xlabel('time')\n",
        "  plt.ylabel('state x')\n",
        "  plt.legend()\n"
      ],
      "metadata": {
        "colab": {
          "base_uri": "https://localhost:8080/",
          "height": 391,
          "referenced_widgets": [
            "a0c45eaa1387464db351fc66000b3b59",
            "755284b019d64d698a62c8d28ac846e0",
            "c8ed7ff50cd34334b7636be406c41981",
            "cf5c46986bad42749a5179b0441a8a45",
            "42500c80494e4e35bed32e1060fe63d5",
            "19c96528c6e34054ab5cf9a9e3e30dda",
            "8d96eaf67b54436bbbce333213f4b1e7",
            "2390eff1fddf4e1b8230c67674c9d20d",
            "3f3e4f1f63b84183a92189be39f24c20",
            "1171337e8c12423792e39fd3a7f6b38e",
            "6fca9b7a90284bc6bebf20fc86693401",
            "4d477f129a6544238da4a69dd1daaee9",
            "091898f5662b4f6ea996a514c377291a"
          ]
        },
        "id": "dwtnAtUPNkyv",
        "outputId": "4b860e0f-df9b-4d53-ad5f-77452d5021f7"
      },
      "execution_count": null,
      "outputs": [
        {
          "output_type": "display_data",
          "data": {
            "text/plain": [
              "interactive(children=(FloatSlider(value=1.0, description='x0', max=3.0, min=-1.0), FloatSlider(value=1.0, desc…"
            ],
            "application/vnd.jupyter.widget-view+json": {
              "version_major": 2,
              "version_minor": 0,
              "model_id": "a0c45eaa1387464db351fc66000b3b59"
            }
          },
          "metadata": {}
        }
      ]
    },
    {
      "cell_type": "markdown",
      "source": [
        "When do the solutions agree? Disagree? Why?\n",
        "\n",
        "How many qualitatively different solutions have you found? What are they?\n",
        "\n",
        "ADD SOLUTION"
      ],
      "metadata": {
        "id": "LL7--Zxr1ad3"
      }
    },
    {
      "cell_type": "markdown",
      "source": [
        "### Exercise 1a: What if $a$ is complex-valued?"
      ],
      "metadata": {
        "id": "osgyZ9Nj0_LQ"
      }
    },
    {
      "cell_type": "markdown",
      "source": [
        "In the exercise 1 we found that analytical solution is:\n",
        "$$x(t) = x_0 e^{at} $$\n",
        "but what if $a$ is complex?\n",
        "\n",
        "Let us substitute $a$ with $a_{real} + i a_{imag}$ and see what happens:\n"
      ],
      "metadata": {
        "id": "Xcd8cBTmCHPB"
      }
    },
    {
      "cell_type": "code",
      "source": [
        "@widgets.interact\n",
        "def plot_1D_solutions(x0 = 1., \n",
        "                      a_real = widgets.FloatSlider(min=-1., max=1., step=.1, value=0),\n",
        "                      a_imag = widgets.FloatSlider(min=-1, max=5, step=.1, value=1)):\n",
        "  a_real = a_real if type(a_real)==float else a_real.value\n",
        "  a_imag = a_imag if type(a_imag)==float else a_imag.value\n",
        "  a = complex(a_real,a_imag)\n",
        "  plt.figure()\n",
        "  time = np.linspace(0,T,n_plot)\n",
        "  plt.plot(time, [analytical_1D_solution(x0,a,t).real for t in time],label='Solution (real part)')\n",
        "  plt.plot(time, [analytical_1D_solution(x0,a,t).imag for t in time],label='Solution (imag part)')\n",
        "  plt.xlim([0,T])\n",
        "  plt.ylim([-5,5])\n",
        "  plt.axhline(0,c='k',linestyle=':')\n",
        "  plt.xlabel('time')\n",
        "  plt.ylabel('state x')\n",
        "  plt.legend(loc='lower left')\n"
      ],
      "metadata": {
        "colab": {
          "base_uri": "https://localhost:8080/",
          "height": 391,
          "referenced_widgets": [
            "e9b3762631dd4b1aa89b2c91b1798648",
            "d8c01d86d4154a1ba4acdd114387c580",
            "2590e1447d4f4453b99064c61460534a",
            "444bc2884f4a419aa3e8eafe73160fad",
            "43e4eee6bf314b668c5887091a528f0b",
            "b69d4b4a36b24970808bb518ab343f15",
            "66d8b3a3cdce424bbd2501e8c021c2df",
            "1979edd920c3459692e48618d0032b39",
            "2c5d8a80d1454beb99f6a94b9cc82945",
            "e5e0357f9e2f465d87430a069244b575",
            "e5e4978afdf84f74936256db44f3d433",
            "06c930ee289045c4aa03fb1a452e10db",
            "9f58d028434b4f0e90dcb9e37da8a94a"
          ]
        },
        "id": "-OCLpgAhA2od",
        "outputId": "3815424a-0742-4f3d-c3a7-b9ae7f4c27de"
      },
      "execution_count": null,
      "outputs": [
        {
          "output_type": "display_data",
          "data": {
            "text/plain": [
              "interactive(children=(FloatSlider(value=1.0, description='x0', max=3.0, min=-1.0), FloatSlider(value=0.0, desc…"
            ],
            "application/vnd.jupyter.widget-view+json": {
              "version_major": 2,
              "version_minor": 0,
              "model_id": "e9b3762631dd4b1aa89b2c91b1798648"
            }
          },
          "metadata": {}
        }
      ]
    },
    {
      "cell_type": "code",
      "source": [
        ""
      ],
      "metadata": {
        "id": "UDbE_RtdHKpZ"
      },
      "execution_count": null,
      "outputs": []
    },
    {
      "cell_type": "markdown",
      "source": [
        " Let us recall that $e^{i a_{imag} t} = \\cos(a_{imag} t) + i\\sin(a_{imag} t)$ (*Euler's formula*).\n",
        "\n",
        " So the whole solution looks like:\n",
        " $$x(t) = \\underbrace{x_0 e^{a_{real} t} \\cos(a_{imag}t)}_\\mathrm{real~part} + \\underbrace{i x_0 e^{a_{real} t} \\sin(a_{imag}t)}_\\mathrm{imaginary~part}$$\n"
      ],
      "metadata": {
        "id": "3zzMK8fmEjJH"
      }
    },
    {
      "cell_type": "markdown",
      "source": [
        "### **Take home message**\n",
        "In a 1D dynamical system with a single parameter $a$:\n",
        "1. Real part of $a$ determines how the amplitude of the solution changes (decays, amplifies or stays constant)\n",
        "2. Imaginary part of $a$ determines the frequency of oscillations"
      ],
      "metadata": {
        "id": "240PYpGQF9XH"
      }
    },
    {
      "cell_type": "markdown",
      "source": [
        "## Auxilary variables and phase portraits\n",
        "\n",
        "We have solved a 1-dimensional linear dynamical system and learned that it can either converge to zero ($a<0$), stay constant ($a=0$) or exponentially explode ($a>0$). \n",
        "\n",
        "Deriving dynamics from first principles: mathematical pendulum\n",
        "\n",
        "LINKN!!! DRAW!\n",
        "\n",
        "$$\\ddot \\varphi = - g \\sin(\\varphi) \\approx -g \\varphi$$\n",
        "\n",
        "MENTION SMALL OSC\n",
        "Further simplify by assuming $g=1$.\n",
        "\n",
        "This equation, however, contains a higher order derivative ($\\ddot \\varphi$). How can we get rid of it?\n",
        "\n",
        "We can introduce an additional auxilary variable $\\omega = \\dot \\varphi$, then:\n",
        "$$\\ddot \\varphi = \\dot \\omega = -\\varphi$$\n",
        "\n",
        "Now we have two equations that resemble (1), which we can combine into a single vector-valued equation for a state $\\mathbf{x} = [~\\varphi,~\\theta~]^T$:\n",
        "\n",
        "$${\\begin{bmatrix}\n",
        "    \\dot \\varphi \\\\\n",
        "    \\dot \\omega\n",
        "\\end{bmatrix}} = \\begin{bmatrix}\n",
        "    0 & 1 \\\\\n",
        "    -1 & 0\n",
        "\\end{bmatrix} \\begin{bmatrix}\n",
        "    \\varphi \\\\\n",
        "    \\omega\n",
        "\\end{bmatrix} $$\n",
        "\n",
        "or simply:\n",
        "\n",
        "$$\\mathbf{\\dot x} = A \\mathbf{x} \\tag{3}$$\n",
        "\n",
        "\n",
        "SOME CONCLUSION ABOUT INTERPRETING DIMENSIONS\n"
      ],
      "metadata": {
        "id": "42ptqWjfHdKH"
      }
    },
    {
      "cell_type": "markdown",
      "source": [
        ""
      ],
      "metadata": {
        "id": "cGmw_2JdHnG_"
      }
    },
    {
      "cell_type": "markdown",
      "source": [
        "## **Exercise 2:** Solving a 2D linear dynamics equation"
      ],
      "metadata": {
        "id": "CRYnEyir1B9p"
      }
    },
    {
      "cell_type": "markdown",
      "source": [
        "Fill in the missing line of code below to numerically integrate the eq. (3).\n",
        "\n",
        "*Hint: for matrix multiplication in python you can use @ sign*\n",
        "\n",
        "*Note:* the analytical solution of eq. (3) is given to you in the code. It involves matrix exponential. If you don't know what it is -- no worries, it is not important for this tutorial."
      ],
      "metadata": {
        "id": "PYEkx4i3a4WV"
      }
    },
    {
      "cell_type": "code",
      "source": [
        "from functools import partial\n",
        "import matplotlib.pyplot as plt\n",
        "import numpy as np\n",
        "import ipywidgets as widgets       # interactive display\n",
        "from scipy.linalg import expm\n",
        "\n",
        "def analytical_2D_solution(x0,A,t):\n",
        "  ''' Finds a solution of x' = Ax, for x(t), given x(0) = x0 '''\n",
        "  xt = expm(A*t) @ x0 # this solution includes matrix exponential (https://en.wikipedia.org/wiki/Matrix_exponential)\n",
        "  return xt\n",
        "\n",
        "def numerical_2D_solution(x0,a,t,dt=0.01):\n",
        "  ''' Integrates x' = Ax using a forward Euler scheme, given x(0) = x0;\n",
        "  Returns x(t) '''\n",
        "  N = int(t//dt) # number of integration steps #2remove\n",
        "  xn = x0 # current value of x_n\n",
        "  for n in range(N):\n",
        "    x_n_plus_1 = xn + (A @ xn)*dt # write a discretized update rule following (1-2) #2remove\n",
        "    xn = x_n_plus_1  \n",
        "  return xn\n",
        "\n",
        "T = 10 # total duration\n",
        "n_plot = 100 # how many points to plot\n",
        "\n",
        "A = np.array([[0, 1], [-1, 0]])\n",
        "\n",
        "@widgets.interact\n",
        "def plot_2D_solutions(phi0 = (-1,1,0.1),\n",
        "                      omega0 = (-1,1,0.1)):\n",
        "  x0 = np.array([phi0, omega0])\n",
        "  fig, axes = plt.subplots(1,3,figsize=(12,2),gridspec_kw={'width_ratios': [2, 1, 2]})\n",
        "  time = np.linspace(0,T,n_plot)\n",
        "  analytical_traj = np.array([analytical_2D_solution(x0,A,t) for t in time])\n",
        "  numerical_traj = np.array([numerical_2D_solution(x0,A,t) for t in time])\n",
        "  \n",
        "  axes[1].plot(*numerical_traj.T,c='k')\n",
        "  axes[1].plot(*analytical_traj.T,c='C1',linestyle=':')\n",
        "  axes[1].set_xlabel(r\"$\\varphi$\")\n",
        "  axes[1].set_ylabel(r\"$\\omega = \\dot\\varphi$\")\n",
        "  axes[1].set_xlim([-1.2,1.2])\n",
        "  for ax in axes:\n",
        "    ax.set_ylim([-1.2,1.2])\n",
        "\n",
        "  axes[0].plot(numerical_traj[:,0],c='k')\n",
        "  axes[0].plot(analytical_traj[:,0],c='C1',linestyle=':')\n",
        "  axes[0].set_xlabel(r\"time\")\n",
        "  axes[0].set_ylabel(r\"$\\varphi$\")\n",
        "\n",
        "  axes[2].plot(numerical_traj[:,1],c='k',label='Numerical solution')\n",
        "  axes[2].plot(analytical_traj[:,1],c='C1',linestyle=':',label='Analytical solution')\n",
        "  axes[2].set_xlabel(r\"time\")\n",
        "  axes[2].set_ylabel(r\"$\\omega = \\dot\\varphi$\")\n",
        "  axes[2].legend(loc=(1.2,0))\n",
        "\n",
        "  plt.subplots_adjust(left=None, bottom=.2, right=None, top=None, wspace=0.4, hspace=0.)"
      ],
      "metadata": {
        "colab": {
          "base_uri": "https://localhost:8080/",
          "height": 240,
          "referenced_widgets": [
            "d16f4c627afb4bb78ad78f4c37ef727e",
            "c36cf9302616409e9f424773913013bb",
            "56eb7afe6b0a4c3f8e3d10f284edc6ff",
            "dbcb4b97f2fe4e69b199cc805ed01fbf",
            "ae2d83a1850a487c869be96a24f01961",
            "2a887f82a8b84dbeaa4dccd690dd720b",
            "7520c0c9d3f84a7fb8c9d48ccf3dfc59",
            "a21e5cc70ef84f7182ab69f5d3ba670b",
            "8523bf77cfc346a59988dbf2b3746886",
            "0a1638368d8c477eba8b3a51d1d7ab9a"
          ]
        },
        "id": "iKjR6PFOTIU_",
        "outputId": "c6b40ff9-55b2-4517-c09b-9805ea37822b"
      },
      "execution_count": null,
      "outputs": [
        {
          "output_type": "display_data",
          "data": {
            "text/plain": [
              "interactive(children=(FloatSlider(value=0.0, description='phi0', max=1.0, min=-1.0), FloatSlider(value=0.0, de…"
            ],
            "application/vnd.jupyter.widget-view+json": {
              "version_major": 2,
              "version_minor": 0,
              "model_id": "d16f4c627afb4bb78ad78f4c37ef727e"
            }
          },
          "metadata": {}
        }
      ]
    },
    {
      "cell_type": "markdown",
      "source": [
        "The plot in the middle is called a *phase portrait* in mechanics: you can see why if you change the angular velocity $\\omega$ and see how left/right plots change. This portrait exists in a *phase space* $[\\varphi, \\omega]$.\n",
        "\n",
        "In physics, we can derive the dynamics equations from first principles, so we know that these two variables: position $\\varphi$ and angular velocity $\\omega$, fully describe the **state** of the pendulum. Knowing the state, we know what happens next, because the system is **deterministic** (no noise in eq. (1) or (3)).\n",
        "Therefore, in a more general context, a minimal set of variables that describe the state of the system form a **state space**. \n",
        "\n",
        "<!-- However, in a more general context, the components of $x$ that describe the dynamics of the system can be anything! For instance, $x_1, x_2, \\ldots, x_n$ can correspond to activities of neurons in a neural network.    -->\n"
      ],
      "metadata": {
        "id": "cHFFvDETs291"
      }
    },
    {
      "cell_type": "markdown",
      "source": [
        "## Visualizing dynamics: phase portraits"
      ],
      "metadata": {
        "id": "mv0UtLxzS8Uk"
      }
    },
    {
      "cell_type": "markdown",
      "source": [
        "We have learned that if we know the state of the the system at any time point $t_0$, we can predict what happes next. We already integrated the dynamics eq. (3) given certain initial conditions and visualized some trajectories for a pendulum. But can we summarize and visualize all the possible states and transitions between them?\n",
        "\n",
        "We can visualize the equation (3) using stream plots. For every state, equation (3) defines the derivative (i.e. where the system goes next), which we can visualize with arrows:\n"
      ],
      "metadata": {
        "id": "eILlepzLTDd2"
      }
    },
    {
      "cell_type": "code",
      "source": [
        "# Plotting phase portraits\n",
        "def plot_phase_portrait(A,n = 10, xlabel=r'$x_1$', ylabel=r'$x_2$', Alabel='A'):\n",
        "  '''\n",
        "    A: matrix 2x2\n",
        "    n: number of points in the n x n grid\n",
        "  '''\n",
        "  plt.figure(figsize=(3,3))\n",
        "  x1 = np.linspace(-1, 1, n) # a 1D grid\n",
        "  x = np.array(np.meshgrid(x1, x1)).reshape((2,-1)) # a 2D flattened grid\n",
        "  # calculate the time-derivative of the state x in the line below\n",
        "  # the output shape should be [2 x n^2]\n",
        "  x_dot = A @ x # 2remove\n",
        "  x_dot = x_dot.reshape((2,n,n))\n",
        "  plt.streamplot(x1,x1,*x_dot,color=np.linalg.norm(x_dot,axis=0),cmap='coolwarm',density=0.5)\n",
        "  plt.xlabel(xlabel)\n",
        "  plt.ylabel(ylabel);\n",
        "  plt.text(1.2,0,f'{Alabel} = ')\n",
        "  plt.text(1.7,-.15,f'{A[0,0]:.1f}, {A[0,1]:.1f} \\n{A[1,0]:.1f}, {A[1,1]:.1f}')\n",
        "  plt.xlim([-1,1])\n",
        "  plt.ylim([-1,1])\n",
        "  plt.clim(vmin=0,vmax=1)\n",
        "\n",
        "A = np.array([[0, 1], [-1, 0]]) # pendulum dynamics\n",
        "plot_phase_portrait(A, xlabel=r'$\\varphi$', ylabel=r'$\\omega = \\dot\\varphi$')"
      ],
      "metadata": {
        "colab": {
          "base_uri": "https://localhost:8080/",
          "height": 248
        },
        "id": "yfeWdEMsVcks",
        "outputId": "00e439a2-ce38-406a-d24c-fbb6ed2dd78f"
      },
      "execution_count": null,
      "outputs": [
        {
          "output_type": "display_data",
          "data": {
            "text/plain": [
              "<Figure size 216x216 with 1 Axes>"
            ],
            "image/png": "[encoded data removed]"
          },
          "metadata": {
            "needs_background": "light"
          }
        }
      ]
    },
    {
      "cell_type": "markdown",
      "source": [
        "Following these streamlines in a figure above from some initial point $x_0$ step-by-step corresponds to integrating $\\int_{t_0}^{t} \\dot x(t) dt$ that we did in the previous exercise!\n",
        "\n",
        "Color here shows how fast the state evolves: cooler colors mean slower, warmer colors -- faster!\n",
        "(darkest blue: $|\\mathbf{\\dot x}| = 0$, brightest red: $|\\mathbf{\\dot x}| = 1$)\n",
        "\n",
        "Like in Izhekevich quote, we don't even need to write equation to tell how the system behaves 🤯"
      ],
      "metadata": {
        "id": "b7dTSLXUYUDc"
      }
    },
    {
      "cell_type": "markdown",
      "source": [
        "## Analysing multi-dimensional linear dynamical systems"
      ],
      "metadata": {
        "id": "x6iOBU-6f_dz"
      }
    },
    {
      "cell_type": "markdown",
      "source": [
        "### Change of the basis\n",
        "The pendulum example above is, perhaps, the simplest linear dynamical system in physics. Its phase portrait is symmetrical!\n",
        "\n",
        "But for other dynamical systems, with other matrices $A$, this might not be the case:"
      ],
      "metadata": {
        "id": "dwgf8dhygGZS"
      }
    },
    {
      "cell_type": "code",
      "source": [
        "np.random.seed(2)\n",
        "A = np.random.randn(2,2) # pick some values from N(0,1) for each component\n",
        "\n",
        "plot_phase_portrait(A)\n"
      ],
      "metadata": {
        "colab": {
          "base_uri": "https://localhost:8080/",
          "height": 248
        },
        "id": "if2U5CDUaj9x",
        "outputId": "4826dc10-a702-43dc-c405-596bd36055ee"
      },
      "execution_count": null,
      "outputs": [
        {
          "output_type": "display_data",
          "data": {
            "text/plain": [
              "<Figure size 216x216 with 1 Axes>"
            ],
            "image/png": "[encoded data removed]"
          },
          "metadata": {
            "needs_background": "light"
          }
        }
      ]
    },
    {
      "cell_type": "markdown",
      "source": [
        "Looks very assymmetric! Can we make it better?\n",
        "\n",
        "We are now considering an abstract linear dynamical system, so the components $x_1$ and $x_2$ do not mean much... we can then stretch and rotate this space to make the system a little simpler:"
      ],
      "metadata": {
        "id": "vDZ9Dj6LQ6fK"
      }
    },
    {
      "cell_type": "code",
      "source": [
        "S = np.eye(2)\n",
        "@widgets.interact\n",
        "def rotate_and_scale(rotate=widgets.FloatSlider(min=-90, max=+90, step=5 ,description='rotate ⤾'),\n",
        "                     stretch=widgets.FloatLogSlider(min=-1, max=+1, value=1.,description='stretch ↕')):\n",
        "  global S\n",
        "  a = rotate * np.pi / 180\n",
        "  S =  np.array([[np.cos(a),np.sin(a)],[-np.sin(a),np.cos(a)]]) @ np.array([[stretch,0],[0,1]])\n",
        "  plot_phase_portrait(S @ A @ np.linalg.inv(S),\n",
        "                      xlabel=r'$\\hat{x_1}$', ylabel=r'$\\hat{x_2}$', Alabel=r'$\\hat{A}$')\n"
      ],
      "metadata": {
        "colab": {
          "base_uri": "https://localhost:8080/",
          "height": 318,
          "referenced_widgets": [
            "74510a8263ca45468fe48e6d411a6316",
            "98d34297912e4f4a85be1e89250a17e1",
            "ce23a957a8094f56afcfaa47cc6c4bc0",
            "93474c3f482844bea9329419318f548a",
            "f144f10b25064506bc859d52ca5e7297",
            "9320f09e29864e3cbfc485227586989b",
            "8487ab22ff104df69ddf881ed78e8673",
            "27ab20ef0534489ca96a2dc320713954",
            "52a250be199e4a649efadfe6a2806d98",
            "e143d570b7ff4e1594aa5610f23357ab"
          ]
        },
        "id": "JM-JOpEvQ5OI",
        "outputId": "55eeaae4-a14d-43ac-bee0-b3d7315bde6c"
      },
      "execution_count": null,
      "outputs": [
        {
          "output_type": "display_data",
          "data": {
            "text/plain": [
              "interactive(children=(FloatSlider(value=0.0, description='rotate ⤾', max=90.0, min=-90.0, step=5.0), FloatLogS…"
            ],
            "application/vnd.jupyter.widget-view+json": {
              "version_major": 2,
              "version_minor": 0,
              "model_id": "74510a8263ca45468fe48e6d411a6316"
            }
          },
          "metadata": {}
        }
      ]
    },
    {
      "cell_type": "code",
      "source": [
        "S"
      ],
      "metadata": {
        "colab": {
          "base_uri": "https://localhost:8080/"
        },
        "id": "RRJtHKuPrYoJ",
        "outputId": "46cf523d-dbc4-4d29-fbcf-c0c3b1633c38"
      },
      "execution_count": null,
      "outputs": [
        {
          "output_type": "execute_result",
          "data": {
            "text/plain": [
              "array([[ 6.21371685,  0.17364818],\n",
              "       [-1.09564593,  0.98480775]])"
            ]
          },
          "metadata": {},
          "execution_count": 125
        }
      ]
    },
    {
      "cell_type": "markdown",
      "source": [
        "What we are doing above corresponds to this transformation:\n",
        "$$S \\mathbf{\\dot x} = SA\\mathbf{x} = SA\\underbrace{(S^{-1}S)}_{I}\\mathbf{x} = (SAS^{-1})S\\mathbf{x}$$\n",
        "or, in other words, we make the following change of coordinates (i.e. change of the basis):\n",
        "$$\\mathbf{x} \\rightarrow S\\mathbf{x} ~$$\n",
        "$$A \\rightarrow SAS^{-1}$$"
      ],
      "metadata": {
        "id": "VzGbCtBQR9PC"
      }
    },
    {
      "cell_type": "markdown",
      "source": [
        "Did you manage to align the *special* directions in the phase portrait above with the new axes? How does the new, transformed matrix $\\hat{A} = SAS^{-1}$ look like?\n",
        "\n",
        "If something does not look right, check the solution:  LINK!"
      ],
      "metadata": {
        "id": "zxcPu65CU_4P"
      }
    },
    {
      "cell_type": "markdown",
      "source": [
        "### Eigenvectors and eigenvalues"
      ],
      "metadata": {
        "id": "Xl23_KkGV3_b"
      }
    },
    {
      "cell_type": "markdown",
      "source": [
        "#### Real eigenvalues"
      ],
      "metadata": {
        "id": "6E6RWp7dtY6b"
      }
    },
    {
      "cell_type": "markdown",
      "source": [
        "In your first tutorial, you practiced calculating eigenvectors and eigenvalues. You were writing characteristic polynomial $p(\\lambda) = \\det(A-\\lambda I)$ and finding its roots for eigenvalues and perfroming Gaussian elimination.\n",
        "\n",
        "What we did above by rotating and stretching our phase space is the transformation of matrix $A$ into its *canonical form*. Everything is simpler in this form! The eigenvalues remain the same under stretching and rotation:\n",
        "\n",
        "$$\\hat{A}\\mathbf{\\hat{x}} = SA\\mathbf{x} = S\\lambda x = \\lambda \\mathbf{\\hat{x}}$$\n",
        "\n",
        "Could you tell what are the eigenvalues of $\\hat{A}$ without writing anything down?\n",
        "\n",
        "Now, check your guess by calculating the eigenvalues:\n"
      ],
      "metadata": {
        "id": "2qpJ7QCvVy2S"
      }
    },
    {
      "cell_type": "code",
      "source": [
        "A_hat = S @ A @ np.linalg.inv(S)\n",
        "print('Eigenvalues of A    :', np.linalg.eig(A)[0])\n",
        "print('Eigenvalues of A_hat:', np.linalg.eig(A_hat)[0])"
      ],
      "metadata": {
        "colab": {
          "base_uri": "https://localhost:8080/"
        },
        "id": "8rc4t1cfUCCZ",
        "outputId": "3758a821-91d1-4fbf-d073-b0219c8ea688"
      },
      "execution_count": null,
      "outputs": [
        {
          "output_type": "stream",
          "name": "stdout",
          "text": [
            "Eigenvalues of A    : [-0.47361843  1.69713139]\n",
            "Eigenvalues of A_hat: [-0.47361843  1.69713139]\n"
          ]
        }
      ]
    },
    {
      "cell_type": "markdown",
      "source": [
        "Now let us experiment with the eigenvalues and understand what they *mean* in the dynamical system:"
      ],
      "metadata": {
        "id": "5OeSIGu0equz"
      }
    },
    {
      "cell_type": "code",
      "source": [
        "@widgets.interact\n",
        "def rotate_and_scale(lambda_1=widgets.FloatSlider(min=-1, max=+1, description='λ1'),\n",
        "                     lambda_2=widgets.FloatSlider(min=-1, max=+1, description='λ2')):\n",
        "  lambda_1 = lambda_1 if type(lambda_1)==float else lambda_1.value\n",
        "  lambda_2 = lambda_2 if type(lambda_2)==float else lambda_2.value\n",
        "  if lambda_1==0 and lambda_2==0:\n",
        "    lambda_1 = -1e-10\n",
        "  A_12 = np.array([[lambda_1, 0],\n",
        "                [0, lambda_2]])\n",
        "  plot_phase_portrait(A_12)\n"
      ],
      "metadata": {
        "colab": {
          "base_uri": "https://localhost:8080/",
          "height": 312,
          "referenced_widgets": [
            "efc19b062505495b94e8da8e2cb51cda",
            "fa0f9c4068ee4da08ebd3dedce7b5390",
            "282a1a4c90e4406da3fb366d5329aa83",
            "ffc1b308a8d14ae5b784dfea21bca1e9",
            "b4fd96494116412cb3780c44fd3c4afe",
            "a34d19d7af3845c7abe8a6575d1011fc",
            "bc106e682af14a6a924bf264dca61a17",
            "ee25d02e2fa342ac8fff2069df30596a",
            "8fab5d917b0d4575aa833ba2b2b54b82",
            "774cf98da0904252a5cd2b550d36808f"
          ]
        },
        "id": "Z8CeIjn5Z2KN",
        "outputId": "e7935b84-e682-4093-adfe-46733f558169"
      },
      "execution_count": null,
      "outputs": [
        {
          "output_type": "display_data",
          "data": {
            "text/plain": [
              "interactive(children=(FloatSlider(value=0.0, description='λ1', max=1.0, min=-1.0), FloatSlider(value=0.0, desc…"
            ],
            "application/vnd.jupyter.widget-view+json": {
              "version_major": 2,
              "version_minor": 0,
              "model_id": "efc19b062505495b94e8da8e2cb51cda"
            }
          },
          "metadata": {}
        }
      ]
    },
    {
      "cell_type": "markdown",
      "source": [
        "Indeed, in a canonical form, the 2D system with two real eigenvalues splits into two independent 1D dynamical systems:\n",
        "$\\dot x_i = \\lambda_i x_i, i \\in \\{0,1\\}.$ So, each eigenvalue here changes the dynamics along its eigenvector the same way as the parameter $a$ in Example 1."
      ],
      "metadata": {
        "id": "jurO9-jFnwus"
      }
    },
    {
      "cell_type": "markdown",
      "source": [
        "The eigenvectors are trivial in the canonical form: they are just aligned with axes!\n",
        "\n",
        "So, in order to find eigenvectors of the original evolution matrix $A$, we simply need to reverse the rotation and stretching:"
      ],
      "metadata": {
        "id": "EZ8BnuxTpHg0"
      }
    },
    {
      "cell_type": "code",
      "source": [
        "A_hat = S @ A @ np.linalg.inv(S)\n",
        "print('Trivial eigenvectors of A_hat:', np.round(np.linalg.eig(A_hat)[1].T,1))\n",
        "print('Eigenvectors of A:', np.round(np.linalg.eig(A)[1].T,2))\n",
        "S_inv = np.linalg.inv(S) # invert the transform\n",
        "S_inv_norm = S_inv / np.linalg.norm(S_inv,axis=0)\n",
        "print('Vectors derived from transformation:', np.round(S_inv_norm.T,2))"
      ],
      "metadata": {
        "colab": {
          "base_uri": "https://localhost:8080/"
        },
        "id": "waP_Yj2GpiT-",
        "outputId": "e417f40c-3dac-4de5-f508-427148626de4"
      },
      "execution_count": null,
      "outputs": [
        {
          "output_type": "stream",
          "name": "stdout",
          "text": [
            "Trivial eigenvectors of A_hat: [[-1.  0.]\n",
            " [-0. -1.]]\n",
            "Eigenvectors of A: [[-0.7  -0.71]\n",
            " [ 0.03 -1.  ]]\n",
            "Vectors derived from transformation: [[ 0.67  0.74]\n",
            " [-0.03  1.  ]]\n"
          ]
        }
      ]
    },
    {
      "cell_type": "markdown",
      "source": [
        "The above vectors should be the almost identical (up to a sign)."
      ],
      "metadata": {
        "id": "7WrGlWwitJr8"
      }
    },
    {
      "cell_type": "markdown",
      "source": [
        "#### Complex eigenvalues"
      ],
      "metadata": {
        "id": "CWSBrtaMtXkk"
      }
    },
    {
      "cell_type": "markdown",
      "source": [
        "Let us return to the pendulum. What are the eigenvalues and eigenvectors for that system?"
      ],
      "metadata": {
        "id": "1cdUYs1PFjOs"
      }
    },
    {
      "cell_type": "code",
      "source": [
        "A = np.array([[0, 1], [-1, 0]])\n",
        "np.linalg.eig(A)"
      ],
      "metadata": {
        "colab": {
          "base_uri": "https://localhost:8080/"
        },
        "id": "KKXWSV7hj-LJ",
        "outputId": "d58b03a4-9b2d-4b0d-f329-35b3405ebbe2"
      },
      "execution_count": null,
      "outputs": [
        {
          "output_type": "execute_result",
          "data": {
            "text/plain": [
              "(array([0.+1.j, 0.-1.j]),\n",
              " array([[0.70710678+0.j        , 0.70710678-0.j        ],\n",
              "        [0.        +0.70710678j, 0.        -0.70710678j]]))"
            ]
          },
          "metadata": {},
          "execution_count": 164
        }
      ]
    },
    {
      "cell_type": "markdown",
      "source": [
        "#### Zero eigenvalues\n",
        "\n",
        "So far, we only looked at a full rank matrices $A$: such matrices that have all non-zero eigenvectors. What if one of them is actually zero?"
      ],
      "metadata": {
        "id": "SGXnn2WUjgag"
      }
    },
    {
      "cell_type": "markdown",
      "source": [
        "### Fixed points and stability"
      ],
      "metadata": {
        "id": "zvQxaNLLbeXb"
      }
    },
    {
      "cell_type": "markdown",
      "source": [
        "**Fixed points** are the points that remain unchanged in time, meaning that the time derivative $\\mathbf{\\dot x}=\\mathbf{0}$ there. There is only one such point in the linear systems which we considered above, which is $\\mathbf{x}=\\mathbf{0}$.\n",
        "\n",
        "Fixed points can be stable and unstable. Stable means that once the state gets near the fixed point it will only get closer to it in the future (*more precisely it is called assymptotic stability*). Unstable means the opposite: the state only gets further away. The system can also be marginally stable, if it is neither stable nor unstable. \n",
        "\n",
        "A set of stable fixed points of a dynamical system is also called an **attractor**, while a set of unstable points -- a **repeller**.\n",
        "\n",
        "If matrix $A$ has two eigenvalues: $\\lambda_1$ and $\\lambda_2$, what are the conditions for being 1) stable? 2) unstable?\n",
        "\n",
        "SOLUTION: \n",
        "1) the LDS is stable if the real-parts of **both** eigenvalues are strictly negative: $\\mathrm{Re}(\\lambda_1)<0~\\mathrm{AND}~\\mathrm{Re}(\\lambda_2)<0$\n",
        "\n",
        "2) the LDS is unstable if **at least** one eigenvalue has a strictly-positive real part: $\\mathrm{Re}(\\lambda_1)>0~\\mathrm{OR}~\\mathrm{Re}(\\lambda_2)>0$\n"
      ],
      "metadata": {
        "id": "iXqzrSRsbnUp"
      }
    },
    {
      "cell_type": "markdown",
      "source": [
        "### Summary\n",
        "\n",
        "![Classification of Phase Portraits](https://upload.wikimedia.org/wikipedia/commons/3/3b/Stability_Diagram.png)"
      ],
      "metadata": {
        "id": "DO5ql9-vtk0H"
      }
    },
    {
      "cell_type": "markdown",
      "source": [
        "## **Exercise 3**: relationship between continuous time and discrete time linear dynamical systems\n",
        "\n",
        "In the exercise above we were visualizing phase planes for the *continuous-time* dynamical systems. It is convinient, because there exists a derivative $\\mathbf{\\dot x}$, which we were plotting with streamplots.\n",
        "\n",
        "However, when it comes to **numerical** integration, we typically use discrete time steps. We already applied one such discretization ( a forward Euler scheme) in Exercise 1.\n",
        "\n",
        "Discrete time LDS               |           Continuous time LDS\n",
        "------------------------------------|-------------------------------------\n",
        " $$\\mathbf{x}_{t+1} = A_d \\mathbf{x}_t$$           |    $$\\frac{d\\mathbf{x}(t)}{dt} = A_c\\mathbf{x}(t)$$\n",
        "\n",
        "### Exercise 3a: Relationship between evolution matrices\n",
        "\n",
        "In this exercise, let us find the relationship between the continuous-time evolution matrix $A_c$ and the discrete-time matrix $A_d$ using forward Euler discretization.\n",
        "\n",
        "### Exercise 3b: Relationship between eigenspectra\n",
        "\n",
        "maybe?\n"
      ],
      "metadata": {
        "id": "svmBduOG_52v"
      }
    },
    {
      "cell_type": "markdown",
      "source": [
        "## **Exercise 4:** practice reading eigenspectra from papers\n",
        "\n",
        "ADD EXAMPLES!!!"
      ],
      "metadata": {
        "id": "9g5YLxpWNo0h"
      }
    },
    {
      "cell_type": "markdown",
      "source": [
        "## Summary\n",
        "\n",
        "In the first part of this tutorial, we learned:\n",
        "\n",
        "1. What linear systems can and can not do\n",
        "2. What fixed points are **TO ADD SOMEWHERE** (and relevance to neuroscience inf processing, categorization, filtering noise, memorization)\n",
        "3. Read eignespectra"
      ],
      "metadata": {
        "id": "qIm6cjLqfaWB"
      }
    },
    {
      "cell_type": "markdown",
      "source": [
        "# Part 2: Nonlinear dynamical systems"
      ],
      "metadata": {
        "id": "_8WO8jlefRx0"
      }
    },
    {
      "cell_type": "markdown",
      "source": [
        "### Dimensionality reduction on Hodgkin-Huxley model\n",
        "\n",
        "Yesterday you have run simulations of a biophysically accurate neuron models with a Hodgkin-Huxley equation (HH). To recap, the set of HH equations contained the following 4 equations:\n",
        "\n",
        "$$C \\frac{dV}{dt} = -\\bar g_K n^4 (V - V_K) - \\bar g_{Na} m^3 h(V-V_{Na}) - \\bar g_l (V - V_l) + I_{ext}\\tag{4a}$$\n",
        "\n",
        "$$\\frac{dn}{dt} = \\alpha_n(V)(1-n) - \\beta_n(V) n\\tag{4b}$$\n",
        "$$\\frac{dm}{dt} = \\alpha_m(V)(1-m) - \\beta_m(V) m\\tag{4c}$$\n",
        "$$\\frac{dh}{dt} = \\alpha_h(V)(1-h) - \\beta_h(V) h\\tag{4d}$$\n",
        "\n",
        "The state space of this model is 4D, which is too much for visualization and analyse.\n",
        "However, not all equations here are equally important. \n",
        "\n",
        "![Gate timescales](https://neuronaldynamics.epfl.ch/online/x27.png) | ![Activation-inactivation gates](https://neuronaldynamics.epfl.ch/online/x26.png)\n",
        ":------------------------------------:|:-------------------------------------:\n",
        "**Fig. 1a**  The voltage dependent time constants | **Fig. 1b** The equilibrium functions for the three variables m,n,h"
      ],
      "metadata": {
        "id": "TnpeAv5pjQr4"
      }
    },
    {
      "cell_type": "markdown",
      "source": [
        "#### Step 1. Time scale separation between fast ($V$) and very-fast ($m$) variables\n",
        "\n",
        "  First, we can look at the timescales of different equations (Fig. 1a).  We see that sodium channel activation $m$ changes much faster than other gating variables, on a scale of a single spike ($<$1ms).\n",
        "Therefore, we can assume that equation (4c) always quickly reaches equilibrium $dm/dt=0$, and substitute eq. (4c) with a *quasi-steady state* approximation $m(t) = m_0(u(t))$. Thus, we get rid of a differential equation (4c)."
      ],
      "metadata": {
        "id": "lOUo8icZuhI2"
      }
    },
    {
      "cell_type": "markdown",
      "source": [
        "#### Step 2. Merging two similar slow equations ($n$ and $h$)\n",
        "\n",
        "  From Fig.1a we also see that both sodium channel inactivation $h$ and potassium channel gating $n$ change slowly (on a scale of 5-10ms). We can also notice that in Fig.1b $n(V)$ looks roughly like $1-h(V)$ (not exactly, but it is an approximation).\n",
        "So, since these two variables have similar dependencies on both time and voltage, we can substitute them with a single variable $w$ that approximates both gating variables. Thus, we merge eq. (4b) and (4d) into one. "
      ],
      "metadata": {
        "id": "lvj5ekalAw2y"
      }
    },
    {
      "cell_type": "markdown",
      "source": [
        "#### Result: 2D FitzHugh-Nagumo (FHN) model\n",
        "\n",
        "Following 2 steps above, we merged 2 **fast** equations and 2 **slow** equations, which results in the following model:\n",
        "\n",
        "\\begin{align}\n",
        "\\mathrm{\\mathbf{Fast:}} \\quad\\frac{dV}{dt} &= V(1-V)(V-V_{thr}) - w + i_{ext} \\tag{5a}\\\\\n",
        "\\mathrm{\\mathbf{Slow:}} ~\\quad \\frac{dw}{dt} &= \\epsilon (\\beta V - w) \\tag{5b}\n",
        "\\end{align}\n",
        "\n",
        "here some coefficients like time constants and capacitance of the membrane are typically omitted for simplicity.\n",
        "\n",
        "The two equations are also often called **fast activator** and **slow inhibitor**. Because the first equation describes cell's depolarization and sodium channel opening (activation), while the second equation describes everything that works towards repolarization (potassium currents + sodium channels' inactivation).\n",
        "The parameter responsible for fast/slow timescales separation is $\\epsilon$, which is typically set to $0.01$ (i.e. 5b is 100x slower than 5a).\n",
        "\n",
        "Now that we have a 2D system, we can visualize its phase portrait!"
      ],
      "metadata": {
        "id": "dhCZE54EA9Sc"
      }
    },
    {
      "cell_type": "markdown",
      "source": [
        "### Phase portrait of FHN"
      ],
      "metadata": {
        "id": "6Ys57PBauhRs"
      }
    },
    {
      "cell_type": "code",
      "source": [
        "# Plotting phase portraits\n",
        "def plot_FHN_phase_portrait(i_ext,V_thr,beta,\n",
        "                            V_null = None, w_null = None,\n",
        "                            V_min = -.5, V_max = 1.2,\n",
        "                            w_min = -.1, w_max = .2,\n",
        "                            eps=0.01,n=30):\n",
        "  '''\n",
        "    Plots a phase portrait for a FitzHugh-Nagumo model (eq. 5)\n",
        "    n: number of points in the n x n grid\n",
        "  '''\n",
        "  plt.figure(figsize=(5,5))\n",
        "  V_grid = np.linspace(V_min,V_max, n) # a 1D activator grid\n",
        "  w_grid = np.linspace(w_min,w_max, n) # a 1D inhibitor grid\n",
        "  x = np.array(np.meshgrid(V_grid, w_grid)).reshape((2,-1)) # a 2D flattened grid\n",
        "  V, w = x\n",
        "  V_dot = V*(1-V)*(V-V_thr) - w + i_ext #2remove\n",
        "  w_dot = eps*(beta * V - w) #2remove\n",
        "  plt.streamplot(V_grid,w_grid,V_dot.reshape(n,n),w_dot.reshape(n,n),\n",
        "                 color=np.linalg.norm(np.array([V_dot,w_dot]),axis=0).reshape(n,n),\n",
        "                 cmap='coolwarm',density=1.5)\n",
        "  if V_null is not None:\n",
        "    plt.plot(V_grid,V_null(V_grid,V_thr,i_ext),c='k')\n",
        "  if w_null is not None:\n",
        "    plt.plot(V_grid,w_null(V_grid,beta),c='k')\n",
        "  plt.xlabel('fast activator V')\n",
        "  plt.ylabel('slow inhibitor w')\n",
        "  plt.xlim([V_min,V_max])\n",
        "  plt.ylim([w_min,w_max])\n",
        "  plt.clim(vmin=0,vmax=.2)\n",
        "\n",
        "@widgets.interact\n",
        "def interactive_FHN_portrait(i_ext=widgets.FloatSlider(min=-.2, max=.3, value=0), \n",
        "                            V_thr=widgets.FloatSlider(min=0, max=1, value=0.2),\n",
        "                            beta=widgets.FloatSlider(min=0.05, max=.5, value=.4),):\n",
        "  plot_FHN_phase_portrait(i_ext,V_thr,beta)"
      ],
      "metadata": {
        "colab": {
          "base_uri": "https://localhost:8080/",
          "height": 453,
          "referenced_widgets": [
            "9657ca9ec0884d38b09b549204896156",
            "70843b918c374ab5bf5b066a04c3bc8a",
            "89fa9732b109436ea52a6a5f12444d9d",
            "c80b958069d34d15a86cd32f7205dd20",
            "27bed5d1e13b435d857160f95699cbf8",
            "05fc8fef50b14eee8cf5139fb8bb4e84",
            "28c87f12c74641268f4c564536429956",
            "3ae2f1144abd47f2803787d0e2f90865",
            "cb82d2e9a69046b69d32b56f253e4a12",
            "0125c6b696584691b1db26465bceee34",
            "3ba3b231edda441ea99374cc48085ded",
            "0842a064cc3c4e51b666513b3dd929b4",
            "332d1a15e5784853b9c5d73947c56cb6"
          ]
        },
        "id": "6D5fBETVZ6Ke",
        "outputId": "664cd292-5215-4c69-87cb-f88974cfd5f4"
      },
      "execution_count": 290,
      "outputs": [
        {
          "output_type": "display_data",
          "data": {
            "text/plain": [
              "interactive(children=(FloatSlider(value=0.0, description='i_ext', max=0.3, min=-0.2), FloatSlider(value=0.2, d…"
            ],
            "application/vnd.jupyter.widget-view+json": {
              "version_major": 2,
              "version_minor": 0,
              "model_id": "9657ca9ec0884d38b09b549204896156"
            }
          },
          "metadata": {}
        }
      ]
    },
    {
      "cell_type": "markdown",
      "source": [
        "Looks very complicated! Although, if we look at some parts of the phase plane, locally it might resemble some of the patterns of an LDS behavior that we have seen before. (by the way, which ones?)"
      ],
      "metadata": {
        "id": "ObkUx2cci1Ks"
      }
    },
    {
      "cell_type": "markdown",
      "source": [
        "### Fixed points, nullclines, stability"
      ],
      "metadata": {
        "id": "a8dK0G_bldqw"
      }
    },
    {
      "cell_type": "markdown",
      "source": [
        "While linear systems had just one fixed point, non-linear systems can have many. Moreover, even the number of fixed points can change depending on the parameters (like $V_{thr}$ or $\\gamma$) 🤯\n",
        "\n",
        "We can find fixed points, by dealing with equations (5a) and (5b) one by one. The set of points where $\\dot V = 0$ is called **$V$-nullcline**. Nullclines divide the phase plane into two parts, based on the sign on the derivative. \n",
        "\n",
        "Let us add the nullclines to the phase portrait: "
      ],
      "metadata": {
        "id": "HDqho-8NbtED"
      }
    },
    {
      "cell_type": "code",
      "source": [
        "V_nullcline = None\n",
        "w_nullcline = None\n",
        "@widgets.interact\n",
        "def interactive_FHN_portrait(i_ext=widgets.FloatSlider(min=-.2, max=.3, value=0,step=.01), \n",
        "                            V_thr=widgets.FloatSlider(min=0, max=1, value=0.2),\n",
        "                            beta=widgets.FloatSlider(min=0.05, max=.5, value=.4, step=0.01),):\n",
        "\n",
        "  global V_nullcline, w_nullcline\n",
        "\n",
        "  # write equations for nullclines as a function of V:\n",
        "  V_nullcline = lambda V, V_thr, i_ext: V*(1-V)*(V-V_thr)+i_ext  #2remove\n",
        "  w_nullcline = lambda V, beta: V*beta                            #2remove\n",
        "\n",
        "  plot_FHN_phase_portrait(i_ext,V_thr,beta,\n",
        "                          V_null = V_nullcline, w_null = w_nullcline)"
      ],
      "metadata": {
        "colab": {
          "base_uri": "https://localhost:8080/",
          "height": 453,
          "referenced_widgets": [
            "04115101fdaf4f85ac4cbeed13341c6c",
            "5d306d3eba804558ac4ee9699f413b1f",
            "6e613b8eca7c41d2ab349ddf3b8822b9",
            "e5c5b70e75d2458ca63f838f05821a38",
            "46712fae2b8e4560a26d9874696d4b3f",
            "4c4048c4d63a44b18e7750c8f544928e",
            "a3f655e27f604e65b0c6a06c82306689",
            "f1697c7430c145d598c822735ecb4ad2",
            "f37f1a1be8924f0495ba86a6576eb40d",
            "dcf389b54cd7493785f2ceea441f7289",
            "98537d4fab9f4393a2268fa493bfd5a0",
            "6e0ec37657d741609d6bb39f00c05344",
            "c326167b7442423fb13644c652c56c2d"
          ]
        },
        "id": "opUPiBLNleoA",
        "outputId": "e1c271fa-3ee2-48ba-e3e8-57c963e41807"
      },
      "execution_count": 286,
      "outputs": [
        {
          "output_type": "display_data",
          "data": {
            "text/plain": [
              "interactive(children=(FloatSlider(value=0.0, description='i_ext', max=0.3, min=-0.2, step=0.01), FloatSlider(v…"
            ],
            "application/vnd.jupyter.widget-view+json": {
              "version_major": 2,
              "version_minor": 0,
              "model_id": "04115101fdaf4f85ac4cbeed13341c6c"
            }
          },
          "metadata": {}
        }
      ]
    },
    {
      "cell_type": "markdown",
      "source": [
        "What is the minimal and maximal number of fixed points we can get?\n",
        "\n",
        "SOLUTION"
      ],
      "metadata": {
        "id": "AaKY6dFVm2me"
      }
    },
    {
      "cell_type": "markdown",
      "source": [
        "### Analysing stability"
      ],
      "metadata": {
        "id": "TxZOxSxNHDIS"
      }
    },
    {
      "cell_type": "markdown",
      "source": [
        "\n",
        "#### Local stability"
      ],
      "metadata": {
        "id": "6ZgOTdli4Gi3"
      }
    },
    {
      "cell_type": "markdown",
      "source": [
        "\n",
        "Suppose the nullclines are intersecting somewhere in the middle, like this:"
      ],
      "metadata": {
        "id": "fe-e7EvTHBLQ"
      }
    },
    {
      "cell_type": "code",
      "source": [
        "i_ext, V_thr, beta = 0.1, 0.2, 0.4\n",
        "plot_FHN_phase_portrait(i_ext,V_thr,beta,\n",
        "                        V_max=1.3, w_min=0, w_max=.3,\n",
        "                        V_null = V_nullcline, w_null = w_nullcline)"
      ],
      "metadata": {
        "colab": {
          "base_uri": "https://localhost:8080/",
          "height": 357
        },
        "id": "3dx6tecc5i8Q",
        "outputId": "759f275b-dfb9-44c2-a7df-84eaf7e2c4d3"
      },
      "execution_count": 295,
      "outputs": [
        {
          "output_type": "display_data",
          "data": {
            "text/plain": [
              "<Figure size 360x360 with 1 Axes>"
            ],
            "image/png": "[encoded data removed]"
          },
          "metadata": {
            "needs_background": "light"
          }
        }
      ]
    },
    {
      "cell_type": "markdown",
      "source": [
        "INTERSECTION FIND"
      ],
      "metadata": {
        "id": "PT2MmFq4Dvpf"
      }
    },
    {
      "cell_type": "markdown",
      "source": [
        "We see that globally, in the whole phase plane, the arrows that indicate the derivative $\\mathbf{\\dot x} = [\\dot V, \\dot w]^T$ change their directions in non-trivial ways, because $\\mathbf{\\dot x} = F(\\mathbf{x})$ is non-linear. However, we can locally approximate the the evolution operator $F(.)$ with a linear function:"
      ],
      "metadata": {
        "id": "zztPsQ-R-bdg"
      }
    },
    {
      "cell_type": "markdown",
      "source": [
        "$$\\mathbf{\\dot x} = F(\\mathbf{x}) \\approx \\left.\\frac{\\partial \\mathbf{F}}{\\partial \\mathbf{x}}\\right |_{x_0} \\mathbf{x} = \n",
        "\\begin{bmatrix}\n",
        "    \\frac{\\partial F_V}{\\partial V} & \\frac{\\partial F_V}{\\partial w}\\\\\n",
        "    \\frac{\\partial F_w}{\\partial V} & \\frac{\\partial F_w}{\\partial w}\n",
        "\\end{bmatrix}_{\\mathbf{x}_0}  \\mathbf{x}\n",
        "= \\mathrm{J} \\mathbf{x}$$"
      ],
      "metadata": {
        "id": "73DmMKidAP7-"
      }
    },
    {
      "cell_type": "markdown",
      "source": [
        "This matrix $\\mathrm{J}$ is called a **Jacobian** (scary name!). But it only has 4 components, which we can derive analytically (with pen and paper) from eq. 5a-5b:"
      ],
      "metadata": {
        "id": "ZUOo-8foDvr9"
      }
    },
    {
      "cell_type": "code",
      "source": [
        "eps = 0.01\n",
        "V = 0.4 # FIND BETTER POINT\n",
        "J = np.array([[(1-V)*(V-V_thr)+i_ext, -1],\n",
        "              [eps*beta, -eps]]) #2remove\n",
        "\n",
        "print(\"Eigenvalues of a Jacobian: \",np.linalg.eig(J)[0])"
      ],
      "metadata": {
        "colab": {
          "base_uri": "https://localhost:8080/"
        },
        "id": "IGVDBzxuErWE",
        "outputId": "01155cff-51fc-481d-c16f-7c227267a0cb"
      },
      "execution_count": 304,
      "outputs": [
        {
          "output_type": "stream",
          "name": "stdout",
          "text": [
            "[0.20104686 0.00895314]\n"
          ]
        }
      ]
    },
    {
      "cell_type": "markdown",
      "source": [
        "So, is it stable?"
      ],
      "metadata": {
        "id": "zgeYXh2GC1WF"
      }
    },
    {
      "cell_type": "markdown",
      "source": [
        "#### Global stability"
      ],
      "metadata": {
        "id": "kndVlnjuHI34"
      }
    },
    {
      "cell_type": "markdown",
      "source": [
        "Now let us take a step back. Literally. Let us zoom out on that phase portrait:"
      ],
      "metadata": {
        "id": "XJ8wfv6aGvO7"
      }
    },
    {
      "cell_type": "code",
      "source": [
        "i_ext, V_thr, beta = 0.1, 0.2, 0.4\n",
        "plot_FHN_phase_portrait(i_ext,V_thr,beta,\n",
        "                        V_min=-3, V_max=4, w_min=-100, w_max=300,\n",
        "                        V_null = V_nullcline, w_null = w_nullcline)"
      ],
      "metadata": {
        "colab": {
          "base_uri": "https://localhost:8080/",
          "height": 357
        },
        "id": "6D5yzQeSHUuu",
        "outputId": "2d918ad7-7234-4c69-8601-b50708c676dc"
      },
      "execution_count": 312,
      "outputs": [
        {
          "output_type": "display_data",
          "data": {
            "text/plain": [
              "<Figure size 360x360 with 1 Axes>"
            ],
            "image/png": "[encoded data removed]"
          },
          "metadata": {
            "needs_background": "light"
          }
        }
      ]
    },
    {
      "cell_type": "markdown",
      "source": [
        "### Visualizing trajectories"
      ],
      "metadata": {
        "id": "Ec8midjSBJUg"
      }
    },
    {
      "cell_type": "markdown",
      "source": [
        "With all the knowledge you possess now, you can figure out all possible behaviors of this system with only pen and paper. But it is a lot of work! Instead, we can take a fun route and visulize some trajectories starting from random initial conditions:"
      ],
      "metadata": {
        "id": "CcTLCvs7nHqU"
      }
    },
    {
      "cell_type": "code",
      "source": [
        "def plot_FHN_trajectories(i_ext,V_thr,beta,\n",
        "                          N=10, T=20000, dt=.1,eps=0.01,n=30):\n",
        "  '''\n",
        "    Plots a trajectories for a FitzHugh-Nagumo model (eq. 5)\n",
        "  '''\n",
        "  fig, ax = plt.subplots(1,2,figsize=(15,5),gridspec_kw={'width_ratios': [1,2]})\n",
        "\n",
        "  # plot trajectories\n",
        "  V_dot = lambda V, w: V*(1-V)*(V-V_thr) - w + i_ext #2remove\n",
        "  w_dot = lambda V, w: eps*(beta * V - w) #2remove\n",
        "  # generate some initial conditions\n",
        "  V_0 = np.random.randn(N) * .5 + 0.5\n",
        "  w_0 = np.random.randn(N) * .02 + .05\n",
        "  # create an empty array for storing solutions \n",
        "  traject = np.empty((2,T+1,N))\n",
        "  traject[:,0] = np.array([V_0, w_0])\n",
        "  for t in range(T):\n",
        "    traject[:,t+1] = np.clip(\n",
        "                      [traject[0,t] + V_dot(*traject[:,t])*dt,\n",
        "                      traject[1,t] + w_dot(*traject[:,t])*dt],-10,10)\n",
        "  for i in range(N):\n",
        "    ax[0].plot(*traject[...,i],alpha=.3,linewidth=5)\n",
        "    ax[1].plot(traject[0,:,i])\n",
        "\n",
        "  # plot nullclines\n",
        "  global V_nullcline, w_nullcline\n",
        "  V_grid = np.linspace(-.5, 1.2, n) # a 1D activator grid\n",
        "  ax[0].plot(V_grid,V_nullcline(V_grid,V_thr,i_ext),c='k')\n",
        "  ax[0].plot(V_grid,w_nullcline(V_grid,beta),c='k')\n",
        "  \n",
        "  ax[0].set_xlabel('fast activator V')\n",
        "  ax[0].set_ylabel('slow inhibitor w')\n",
        "  ax[1].set_ylabel('fast activator V')\n",
        "  ax[1].set_xlabel('time')\n",
        "  ax[0].set_xlim([-.5,1.2])\n",
        "  ax[1].set_ylim([-.5,1.2])\n",
        "  ax[0].set_ylim([-.1,.2])\n",
        "\n",
        "@widgets.interact\n",
        "def interactive_FHN_trajectories(i_ext=widgets.FloatSlider(min=-.2, max=.3, value=0,step=.01), \n",
        "                            V_thr=widgets.FloatSlider(min=0, max=1, value=0.2),\n",
        "                            beta=widgets.FloatSlider(min=0.05, max=.5, value=.25, step=.01),):\n",
        "  plot_FHN_trajectories(i_ext,V_thr,beta)"
      ],
      "metadata": {
        "colab": {
          "base_uri": "https://localhost:8080/",
          "height": 453,
          "referenced_widgets": [
            "19d2dcb5d89b45378c472e3701d69f62",
            "adf98bd64d4b4a1e80066a7f343eb104",
            "7a5ef594c864450c9c51569ae81769f3",
            "75db7e0d731e41d28f68675092c8bd23",
            "f3bdf382fcd44953a5461b35f14b9bb6",
            "fb36d07f43d243918f5d392224ea4c21",
            "cc6372ddb8f64feba44b2002f8c0f1af",
            "c464ec0be349488d88510297612e240d",
            "4559049822d745b683526388f657e17a",
            "66e5f5123fc448a5adcbbf7d51620c89",
            "905f5df72a044c15bbbce01ca3692f66",
            "ae34430e50fa48208ad907a7240bacd7",
            "7e2391cf0a134bb28ad0303547c8ad9e"
          ]
        },
        "id": "ywfSLU6ipoeC",
        "outputId": "7a1e3952-93ba-42b7-cae8-0dbd670ceb98"
      },
      "execution_count": 285,
      "outputs": [
        {
          "output_type": "display_data",
          "data": {
            "text/plain": [
              "interactive(children=(FloatSlider(value=0.0, description='i_ext', max=0.3, min=-0.2, step=0.01), FloatSlider(v…"
            ],
            "application/vnd.jupyter.widget-view+json": {
              "version_major": 2,
              "version_minor": 0,
              "model_id": "19d2dcb5d89b45378c472e3701d69f62"
            }
          },
          "metadata": {}
        }
      ]
    },
    {
      "cell_type": "markdown",
      "source": [
        "Yay, we've got action potentials!\n",
        "\n",
        "Ugly action potentials (well, it is an approximated, coarse-grained model), but still action potentials!\n",
        "\n",
        "If you don't see anything like action potentials, try stimulating the FHN neuron just a little bit with the external current $i_{ext}$. It makes sense, right? The neuron responds to some inputs.\n",
        "\n"
      ],
      "metadata": {
        "id": "T7TKHX_DBPIP"
      }
    },
    {
      "cell_type": "markdown",
      "source": [
        "## Summary\n",
        "\n",
        "In the second part of the tutorial, we:\n",
        "1. Learned that nonlinear systems can have not one, but many fixed points\n",
        "2. Learned how to linearize the dynamical system about a fixed point and check its local stability\n",
        "3. Learned a new type of an attractor: a limit cycle!\n",
        "4. Simulated some action potentials!"
      ],
      "metadata": {
        "id": "32pRn7au6len"
      }
    },
    {
      "cell_type": "markdown",
      "source": [
        "# References\n",
        "\n",
        "1. Izhikevich, Eugene M. [Dynamical systems in neuroscience.](https://www.izhikevich.org/publications/dsn.pdf) MIT press, 2007.\n",
        "\n",
        "2. Gerstner, Wulfram, et al. [Neuronal dynamics](https://neuronaldynamics.epfl.ch/index.html): From single neurons to networks and models of cognition. Cambridge University Press, 2014.\n",
        "\n",
        "<!-- ## Other great tutorials: -->\n",
        "3. Linear dynamical systems by Bing Wen Brunton and Alice Schwarze [Neuromatch: W2D2](https://compneuro.neuromatch.io/tutorials/W2D2_LinearSystems/student/W2D2_Tutorial1.html), 2020-now"
      ],
      "metadata": {
        "id": "kblnhvBQ9GvC"
      }
    }
  ]
}